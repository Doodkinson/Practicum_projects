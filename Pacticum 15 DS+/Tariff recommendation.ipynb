{
 "cells": [
  {
   "cell_type": "markdown",
   "metadata": {},
   "source": [
    "# Рекомендация тарифов"
   ]
  },
  {
   "cell_type": "markdown",
   "metadata": {},
   "source": [
    "В нашем распоряжении данные о поведении клиентов, которые уже перешли на эти тарифы (из проекта курса «Статистический анализ данных»). Нужно построить модель для задачи классификации, которая выберет подходящий тариф. \n",
    "\n",
    "Построим модель с максимально большим значением `accuracy`."
   ]
  },
  {
   "cell_type": "markdown",
   "metadata": {},
   "source": [
    "## Откроем и изучим файл"
   ]
  },
  {
   "cell_type": "markdown",
   "metadata": {},
   "source": [
    "### Импортируем библиотеки и методы"
   ]
  },
  {
   "cell_type": "markdown",
   "metadata": {},
   "source": [
    "Но сначала - спасибо [стаковерфлоу](https://ru.stackoverflow.com/questions/986879/%D0%9A%D0%B0%D0%BA%D0%BE%D0%B9-%D0%BA%D0%BE%D0%BC%D0%B0%D0%BD%D0%B4%D0%BE%D0%B9-%D1%83%D0%B1%D1%80%D0%B0%D1%82%D1%8C-%D0%BF%D1%80%D0%B5%D0%B4%D1%83%D0%BF%D1%80%D0%B5%D0%B6%D0%B4%D0%B5%D0%BD%D0%B8%D1%8F-python-jupyter-notebook) за счастливое детство."
   ]
  },
  {
   "cell_type": "code",
   "execution_count": 1,
   "metadata": {},
   "outputs": [],
   "source": [
    "import warnings\n",
    "\n",
    "warnings.filterwarnings('ignore')"
   ]
  },
  {
   "cell_type": "markdown",
   "metadata": {},
   "source": [
    "Зададим значения глобальных переменных"
   ]
  },
  {
   "cell_type": "code",
   "execution_count": 2,
   "metadata": {},
   "outputs": [],
   "source": [
    "# импортируем библиотеки и методы\n",
    "import pandas as pd\n",
    "import seaborn as sns\n",
    "import matplotlib.pyplot as plt\n",
    "\n",
    "from sklearn.model_selection import train_test_split\n",
    "\n",
    "from sklearn.tree import DecisionTreeClassifier\n",
    "from sklearn.ensemble import RandomForestClassifier\n",
    "from sklearn.linear_model import LogisticRegression\n",
    "from sklearn.ensemble import GradientBoostingClassifier\n",
    "\n",
    "from sklearn.dummy import DummyClassifier\n",
    "\n",
    "from sklearn.metrics import accuracy_score\n",
    "from sklearn.metrics import precision_score\n",
    "from sklearn.metrics import recall_score"
   ]
  },
  {
   "cell_type": "code",
   "execution_count": 3,
   "metadata": {},
   "outputs": [],
   "source": [
    "#Отключим предупреждения python\n",
    "import warnings\n",
    "warnings.filterwarnings('ignore')"
   ]
  },
  {
   "cell_type": "code",
   "execution_count": 4,
   "metadata": {},
   "outputs": [],
   "source": [
    "# зафиксируем \"random_state\"\n",
    "RANDOM_STATE = 5553535"
   ]
  },
  {
   "cell_type": "markdown",
   "metadata": {},
   "source": [
    "### Прочитаем данные"
   ]
  },
  {
   "cell_type": "code",
   "execution_count": 5,
   "metadata": {},
   "outputs": [],
   "source": [
    "# откроем датасет либо локально, либо из интернета\n",
    "try:\n",
    "    df = pd.read_csv('/datasets/users_behavior.csv', sep=',')\n",
    "except:\n",
    "    df = pd.read_csv('https://code.s3.yandex.net/datasets/users_behavior.csv', sep=',')"
   ]
  },
  {
   "cell_type": "markdown",
   "metadata": {},
   "source": [
    "Познакомимся с данными:"
   ]
  },
  {
   "cell_type": "code",
   "execution_count": 6,
   "metadata": {},
   "outputs": [
    {
     "data": {
      "text/html": [
       "<div>\n",
       "<style scoped>\n",
       "    .dataframe tbody tr th:only-of-type {\n",
       "        vertical-align: middle;\n",
       "    }\n",
       "\n",
       "    .dataframe tbody tr th {\n",
       "        vertical-align: top;\n",
       "    }\n",
       "\n",
       "    .dataframe thead th {\n",
       "        text-align: right;\n",
       "    }\n",
       "</style>\n",
       "<table border=\"1\" class=\"dataframe\">\n",
       "  <thead>\n",
       "    <tr style=\"text-align: right;\">\n",
       "      <th></th>\n",
       "      <th>calls</th>\n",
       "      <th>minutes</th>\n",
       "      <th>messages</th>\n",
       "      <th>mb_used</th>\n",
       "      <th>is_ultra</th>\n",
       "    </tr>\n",
       "  </thead>\n",
       "  <tbody>\n",
       "    <tr>\n",
       "      <th>0</th>\n",
       "      <td>40.0</td>\n",
       "      <td>311.90</td>\n",
       "      <td>83.0</td>\n",
       "      <td>19915.42</td>\n",
       "      <td>0</td>\n",
       "    </tr>\n",
       "    <tr>\n",
       "      <th>1</th>\n",
       "      <td>85.0</td>\n",
       "      <td>516.75</td>\n",
       "      <td>56.0</td>\n",
       "      <td>22696.96</td>\n",
       "      <td>0</td>\n",
       "    </tr>\n",
       "    <tr>\n",
       "      <th>2</th>\n",
       "      <td>77.0</td>\n",
       "      <td>467.66</td>\n",
       "      <td>86.0</td>\n",
       "      <td>21060.45</td>\n",
       "      <td>0</td>\n",
       "    </tr>\n",
       "    <tr>\n",
       "      <th>3</th>\n",
       "      <td>106.0</td>\n",
       "      <td>745.53</td>\n",
       "      <td>81.0</td>\n",
       "      <td>8437.39</td>\n",
       "      <td>1</td>\n",
       "    </tr>\n",
       "    <tr>\n",
       "      <th>4</th>\n",
       "      <td>66.0</td>\n",
       "      <td>418.74</td>\n",
       "      <td>1.0</td>\n",
       "      <td>14502.75</td>\n",
       "      <td>0</td>\n",
       "    </tr>\n",
       "  </tbody>\n",
       "</table>\n",
       "</div>"
      ],
      "text/plain": [
       "   calls  minutes  messages   mb_used  is_ultra\n",
       "0   40.0   311.90      83.0  19915.42         0\n",
       "1   85.0   516.75      56.0  22696.96         0\n",
       "2   77.0   467.66      86.0  21060.45         0\n",
       "3  106.0   745.53      81.0   8437.39         1\n",
       "4   66.0   418.74       1.0  14502.75         0"
      ]
     },
     "metadata": {},
     "output_type": "display_data"
    },
    {
     "data": {
      "text/html": [
       "<div>\n",
       "<style scoped>\n",
       "    .dataframe tbody tr th:only-of-type {\n",
       "        vertical-align: middle;\n",
       "    }\n",
       "\n",
       "    .dataframe tbody tr th {\n",
       "        vertical-align: top;\n",
       "    }\n",
       "\n",
       "    .dataframe thead th {\n",
       "        text-align: right;\n",
       "    }\n",
       "</style>\n",
       "<table border=\"1\" class=\"dataframe\">\n",
       "  <thead>\n",
       "    <tr style=\"text-align: right;\">\n",
       "      <th></th>\n",
       "      <th>calls</th>\n",
       "      <th>minutes</th>\n",
       "      <th>messages</th>\n",
       "      <th>mb_used</th>\n",
       "      <th>is_ultra</th>\n",
       "    </tr>\n",
       "  </thead>\n",
       "  <tbody>\n",
       "    <tr>\n",
       "      <th>count</th>\n",
       "      <td>3214.000000</td>\n",
       "      <td>3214.000000</td>\n",
       "      <td>3214.000000</td>\n",
       "      <td>3214.000000</td>\n",
       "      <td>3214.000000</td>\n",
       "    </tr>\n",
       "    <tr>\n",
       "      <th>mean</th>\n",
       "      <td>63.038892</td>\n",
       "      <td>438.208787</td>\n",
       "      <td>38.281269</td>\n",
       "      <td>17207.673836</td>\n",
       "      <td>0.306472</td>\n",
       "    </tr>\n",
       "    <tr>\n",
       "      <th>std</th>\n",
       "      <td>33.236368</td>\n",
       "      <td>234.569872</td>\n",
       "      <td>36.148326</td>\n",
       "      <td>7570.968246</td>\n",
       "      <td>0.461100</td>\n",
       "    </tr>\n",
       "    <tr>\n",
       "      <th>min</th>\n",
       "      <td>0.000000</td>\n",
       "      <td>0.000000</td>\n",
       "      <td>0.000000</td>\n",
       "      <td>0.000000</td>\n",
       "      <td>0.000000</td>\n",
       "    </tr>\n",
       "    <tr>\n",
       "      <th>25%</th>\n",
       "      <td>40.000000</td>\n",
       "      <td>274.575000</td>\n",
       "      <td>9.000000</td>\n",
       "      <td>12491.902500</td>\n",
       "      <td>0.000000</td>\n",
       "    </tr>\n",
       "    <tr>\n",
       "      <th>50%</th>\n",
       "      <td>62.000000</td>\n",
       "      <td>430.600000</td>\n",
       "      <td>30.000000</td>\n",
       "      <td>16943.235000</td>\n",
       "      <td>0.000000</td>\n",
       "    </tr>\n",
       "    <tr>\n",
       "      <th>75%</th>\n",
       "      <td>82.000000</td>\n",
       "      <td>571.927500</td>\n",
       "      <td>57.000000</td>\n",
       "      <td>21424.700000</td>\n",
       "      <td>1.000000</td>\n",
       "    </tr>\n",
       "    <tr>\n",
       "      <th>max</th>\n",
       "      <td>244.000000</td>\n",
       "      <td>1632.060000</td>\n",
       "      <td>224.000000</td>\n",
       "      <td>49745.730000</td>\n",
       "      <td>1.000000</td>\n",
       "    </tr>\n",
       "  </tbody>\n",
       "</table>\n",
       "</div>"
      ],
      "text/plain": [
       "             calls      minutes     messages       mb_used     is_ultra\n",
       "count  3214.000000  3214.000000  3214.000000   3214.000000  3214.000000\n",
       "mean     63.038892   438.208787    38.281269  17207.673836     0.306472\n",
       "std      33.236368   234.569872    36.148326   7570.968246     0.461100\n",
       "min       0.000000     0.000000     0.000000      0.000000     0.000000\n",
       "25%      40.000000   274.575000     9.000000  12491.902500     0.000000\n",
       "50%      62.000000   430.600000    30.000000  16943.235000     0.000000\n",
       "75%      82.000000   571.927500    57.000000  21424.700000     1.000000\n",
       "max     244.000000  1632.060000   224.000000  49745.730000     1.000000"
      ]
     },
     "metadata": {},
     "output_type": "display_data"
    },
    {
     "name": "stdout",
     "output_type": "stream",
     "text": [
      "<class 'pandas.core.frame.DataFrame'>\n",
      "RangeIndex: 3214 entries, 0 to 3213\n",
      "Data columns (total 5 columns):\n",
      " #   Column    Non-Null Count  Dtype  \n",
      "---  ------    --------------  -----  \n",
      " 0   calls     3214 non-null   float64\n",
      " 1   minutes   3214 non-null   float64\n",
      " 2   messages  3214 non-null   float64\n",
      " 3   mb_used   3214 non-null   float64\n",
      " 4   is_ultra  3214 non-null   int64  \n",
      "dtypes: float64(4), int64(1)\n",
      "memory usage: 125.7 KB\n"
     ]
    }
   ],
   "source": [
    "display(df.head(5))\n",
    "display(df.describe())\n",
    "df.info()"
   ]
  },
  {
   "cell_type": "code",
   "execution_count": 7,
   "metadata": {},
   "outputs": [
    {
     "data": {
      "text/plain": [
       "0"
      ]
     },
     "execution_count": 7,
     "metadata": {},
     "output_type": "execute_result"
    }
   ],
   "source": [
    "# для очищения совести проверим датасет на явные дубликаты\n",
    "df.duplicated().sum()"
   ]
  },
  {
   "cell_type": "markdown",
   "metadata": {},
   "source": [
    "Дубликатов нет, и можно заметить что порядка 30% датасета - пользователи тарифа `Ультра`."
   ]
  },
  {
   "cell_type": "markdown",
   "metadata": {},
   "source": [
    "### Рассмотрим плотность значений"
   ]
  },
  {
   "cell_type": "code",
   "execution_count": 8,
   "metadata": {},
   "outputs": [
    {
     "data": {
      "image/png": "[encoded data removed]",
      "text/plain": [
       "<Figure size 764.5x720 with 20 Axes>"
      ]
     },
     "metadata": {},
     "output_type": "display_data"
    }
   ],
   "source": [
    "plt.style.use('ggplot')\n",
    "sns.pairplot(df, hue='is_ultra')\n",
    "plt.show()"
   ]
  },
  {
   "cell_type": "markdown",
   "metadata": {},
   "source": [
    "Количество сообщений, количество звонков и длительность разговоров максимально близка для пользователей тарифа `Смарт`. Также стоит отметить корреляцию длительности и количества звонков."
   ]
  },
  {
   "cell_type": "markdown",
   "metadata": {},
   "source": [
    "### Проверим данные на мультиколлинеарность"
   ]
  },
  {
   "cell_type": "markdown",
   "metadata": {},
   "source": [
    "Построим тепловую карту:"
   ]
  },
  {
   "cell_type": "code",
   "execution_count": 9,
   "metadata": {},
   "outputs": [
    {
     "data": {
      "image/png": "[encoded data removed]",
      "text/plain": [
       "<Figure size 936x720 with 2 Axes>"
      ]
     },
     "metadata": {},
     "output_type": "display_data"
    }
   ],
   "source": [
    "fig, ax = plt.subplots(figsize=(13,10))\n",
    "heatmap = sns.heatmap(df.corr(), vmin=-1, vmax=1, annot=True, cmap='vlag')\n",
    "heatmap.set_title('Корреляционная тепловая карта')\n",
    "plt.show()"
   ]
  },
  {
   "cell_type": "markdown",
   "metadata": {},
   "source": [
    "Количество звонков и длительность звонков - мультиколлинеарные признаки, значит нужно оставить один.\n",
    "\n",
    "Столбец `calls` пойдет под нож, так как `minutes` более предпочтительный признак для модели."
   ]
  },
  {
   "cell_type": "code",
   "execution_count": 10,
   "metadata": {},
   "outputs": [],
   "source": [
    "df = df.drop('calls', axis=1)"
   ]
  },
  {
   "cell_type": "markdown",
   "metadata": {},
   "source": [
    "### Выводы"
   ]
  },
  {
   "cell_type": "markdown",
   "metadata": {},
   "source": [
    "Датасет предобработан, дубликатов нет, пропусков тоже. Получили общее представление о данных, избавились от мультиколлинеарности, теперь можно выделить признаки и разбить данные на выборки."
   ]
  },
  {
   "cell_type": "markdown",
   "metadata": {},
   "source": [
    "## Разбиваем данные на выборки"
   ]
  },
  {
   "cell_type": "markdown",
   "metadata": {},
   "source": [
    "### Выделим признаки для модели"
   ]
  },
  {
   "cell_type": "code",
   "execution_count": 11,
   "metadata": {},
   "outputs": [],
   "source": [
    "# выделим признаки\n",
    "features = df.drop('is_ultra', axis=1)\n",
    "\n",
    "# выделим целевой признак\n",
    "target = df['is_ultra']"
   ]
  },
  {
   "cell_type": "markdown",
   "metadata": {},
   "source": [
    "### Разделим данные на выборки"
   ]
  },
  {
   "cell_type": "markdown",
   "metadata": {},
   "source": [
    "50% от датасета выделим под обучающую выборку, по четверти - валидационной и тестовой выборкам, но сначала зафиксируем `random_state`."
   ]
  },
  {
   "cell_type": "code",
   "execution_count": 12,
   "metadata": {},
   "outputs": [],
   "source": [
    "# отделим обучающую выборку\n",
    "features_train, features_test, target_train, target_test = train_test_split(\n",
    "    features, target, test_size=0.4, random_state=RANDOM_STATE, stratify=target)\n",
    "\n",
    "# разделим на тестовый и валидационный\n",
    "features_valid, features_test, target_valid, target_test = train_test_split(\n",
    "    features_test, target_test, test_size=0.5, random_state=RANDOM_STATE, stratify=target_test)"
   ]
  },
  {
   "cell_type": "markdown",
   "metadata": {},
   "source": [
    "Проверим корректность разбивки данных:"
   ]
  },
  {
   "cell_type": "code",
   "execution_count": 13,
   "metadata": {},
   "outputs": [
    {
     "name": "stdout",
     "output_type": "stream",
     "text": [
      "Cоотношения: 0.60 обучающей к 0.20 тестовой, и к 0.20 валидационной\n"
     ]
    }
   ],
   "source": [
    "print('Cоотношения:',\n",
    "      f'{len(features_train) / len(features):.2f} обучающей к '\n",
    "      f'{len(features_valid) / len(features):.2f} тестовой, и к '\n",
    "      f'{len(features_test) / len(features):.2f} валидационной')"
   ]
  },
  {
   "cell_type": "markdown",
   "metadata": {},
   "source": [
    "В результате получили три набора данных: обучающий,валидационный и тестовый.\n",
    "\n",
    "Теперь можно приступить к обучению."
   ]
  },
  {
   "cell_type": "markdown",
   "metadata": {},
   "source": [
    "## Исследуем модели"
   ]
  },
  {
   "cell_type": "markdown",
   "metadata": {},
   "source": [
    "Но сначала создадим счетчик лучшей модели:"
   ]
  },
  {
   "cell_type": "code",
   "execution_count": 14,
   "metadata": {},
   "outputs": [],
   "source": [
    "# лучшая модель\n",
    "best_model = None\n",
    "best_result = 0"
   ]
  },
  {
   "cell_type": "markdown",
   "metadata": {},
   "source": [
    "### Модель решающего дерева"
   ]
  },
  {
   "cell_type": "code",
   "execution_count": 15,
   "metadata": {},
   "outputs": [
    {
     "name": "stdout",
     "output_type": "stream",
     "text": [
      "Точность предсказания на обучающей выборке: 0.79\n",
      "Оптимальное значение глубины дерева: 7\n"
     ]
    }
   ],
   "source": [
    "# лучший результат\n",
    "DecisionTree_result = 0\n",
    "# глубина дерева\n",
    "DecisionTree_depth = 0\n",
    "\n",
    "# найдем оптимальные значения гиперпараметров в цикле\n",
    "for depth in range(1, 50):\n",
    "    #модель решающего дерева\n",
    "    model = DecisionTreeClassifier(random_state=RANDOM_STATE, max_depth=depth)\n",
    "    model.fit(features_train, target_train)\n",
    "    \n",
    "    # посчитаем качество модели на валидационной выборке\n",
    "    result = model.score(features_valid, target_valid)\n",
    "    \n",
    "    # сравним результаты\n",
    "    if result > DecisionTree_result:\n",
    "        DecisionTree_result = result\n",
    "        DecisionTree_depth = depth\n",
    "    \n",
    "if DecisionTree_result > best_result:\n",
    "    best_result = DecisionTree_result\n",
    "    best_model = model\n",
    "\n",
    "        \n",
    "print('Точность предсказания на обучающей выборке:', f'{DecisionTree_result:.2f}')\n",
    "print('Оптимальное значение глубины дерева:', DecisionTree_depth)"
   ]
  },
  {
   "cell_type": "markdown",
   "metadata": {},
   "source": [
    "Точность предсказания 79%, что удовлетворяет условию задания.\n",
    "\n",
    "Посмотрим на другие модели и проверим, смогут ли они составить конкуренцию решающему дереву."
   ]
  },
  {
   "cell_type": "markdown",
   "metadata": {},
   "source": [
    "### Модель логистической регрессии"
   ]
  },
  {
   "cell_type": "code",
   "execution_count": 16,
   "metadata": {},
   "outputs": [
    {
     "name": "stdout",
     "output_type": "stream",
     "text": [
      "Точность предсказания на обучающей выборке: 0.76\n",
      "Лучший алгоритм оптимизации: newton-cg\n"
     ]
    }
   ],
   "source": [
    "# лучший результат\n",
    "LogisticRegression_result = 0\n",
    "\n",
    "# лучший алгоритм оптимизации\n",
    "solver = ['sag', 'saga', 'newton-cg', 'lbfgs', 'liblinear']\n",
    "best_solver = []\n",
    "\n",
    "for i in range(len(solver)):\n",
    "    # модель логистической регрессии\n",
    "    model = LogisticRegression(random_state=RANDOM_STATE, solver=solver[i], max_iter=500)\n",
    "    model.fit(features_train, target_train)\n",
    "\n",
    "    # посчитаем качество модели на валидационной выборке\n",
    "    result = model.score(features_valid, target_valid)\n",
    "    \n",
    "    # сравним результаты\n",
    "    if result > LogisticRegression_result:\n",
    "        LogisticRegression_result = result\n",
    "        best_solver = solver[i]\n",
    "                \n",
    "# сохраним в лучшую модель    \n",
    "if LogisticRegression_result > best_result:\n",
    "    best_result = LogisticRegression_result\n",
    "    best_model = model\n",
    "    \n",
    "print('Точность предсказания на обучающей выборке:',f'{LogisticRegression_result:.2f}')\n",
    "print('Лучший алгоритм оптимизации:', best_solver)"
   ]
  },
  {
   "cell_type": "markdown",
   "metadata": {},
   "source": [
    "Точность предсказаний ниже, чем у модели решающего дерева, но все ровно удовлетворяет поставленному условию `accuracy` > 0.75."
   ]
  },
  {
   "cell_type": "markdown",
   "metadata": {},
   "source": [
    "### Модель случайного леса"
   ]
  },
  {
   "cell_type": "code",
   "execution_count": 17,
   "metadata": {},
   "outputs": [
    {
     "name": "stdout",
     "output_type": "stream",
     "text": [
      "Точность предсказания на обучающей выборке:0.8103\n",
      "Оптимальная глубина дерева: 7\n",
      "Оптимальное количество деревьев: 45\n"
     ]
    }
   ],
   "source": [
    "# лучший результат\n",
    "RandomForest_result = 0\n",
    "# глубина дерева\n",
    "RandomForest_depth = 0\n",
    "# количество деревьев\n",
    "RandomForest_est = 0\n",
    "\n",
    "# найдем оптимальные значения гиперпараметров в цикле\n",
    "for est in range(5, 100, 5):\n",
    "    for depth in range(1, 20):\n",
    "        # модель леса\n",
    "        model = RandomForestClassifier(random_state=RANDOM_STATE, n_estimators=est, max_depth=depth)\n",
    "        model.fit(features_train, target_train)\n",
    "        \n",
    "        # посчитаем качество модели на валидационной выборке\n",
    "        result = model.score(features_valid, target_valid)\n",
    "        \n",
    "        # сравним результаты\n",
    "        if result > RandomForest_result:\n",
    "            RandomForest_result = result\n",
    "            RandomForest_depth = depth\n",
    "            RandomForest_est = est\n",
    "        \n",
    "# сохраним в лучшую модель    \n",
    "if RandomForest_result > best_result:\n",
    "    best_result = RandomForest_result\n",
    "    best_model = model\n",
    "\n",
    "print('Точность предсказания на обучающей выборке:' f'{RandomForest_result:.4f}')\n",
    "print('Оптимальная глубина дерева:', RandomForest_depth)\n",
    "print('Оптимальное количество деревьев:', RandomForest_est)"
   ]
  },
  {
   "cell_type": "markdown",
   "metadata": {},
   "source": [
    "Точность предсказаний лучшая среди всех моделей на текущий момент - 0.81."
   ]
  },
  {
   "cell_type": "markdown",
   "metadata": {},
   "source": [
    "### Модель градиентного бустинга"
   ]
  },
  {
   "cell_type": "code",
   "execution_count": 18,
   "metadata": {},
   "outputs": [
    {
     "name": "stdout",
     "output_type": "stream",
     "text": [
      "Точность предсказания на обучающей выборке:0.81\n",
      "Оптимальное количество итераций: 51\n"
     ]
    }
   ],
   "source": [
    "# лучший результат\n",
    "GradientBoosting_result = 0\n",
    "# количество итераций\n",
    "GradientBoosting_est = 0\n",
    "\n",
    "# найдем оптимальные значения гиперпараметров в цикле\n",
    "for est in range(1, 101):\n",
    "    # модель градиентного бустинга\n",
    "    model = GradientBoostingClassifier(random_state=RANDOM_STATE, n_estimators=est)\n",
    "    model.fit(features_train, target_train)\n",
    "    \n",
    "    # посчитаем качество модели на валидационной выборке\n",
    "    result = model.score(features_valid, target_valid)\n",
    "    \n",
    "    # сравним результаты\n",
    "    if result > GradientBoosting_result:\n",
    "        GradientBoosting_result = result\n",
    "        GradientBoosting_est = est\n",
    "        \n",
    "# сохраним в лучшую модель    \n",
    "if GradientBoosting_result > best_result:\n",
    "    best_result = GradientBoosting_result\n",
    "    model = best_model\n",
    "        \n",
    "print('Точность предсказания на обучающей выборке:' f'{GradientBoosting_result:.2f}')\n",
    "print('Оптимальное количество итераций:', GradientBoosting_est)"
   ]
  },
  {
   "cell_type": "markdown",
   "metadata": {},
   "source": [
    "Результат до второго знака такой же, как и у случайного леса, и также удовлетваряет условию `accuracy` > 0.75. \n",
    "\n",
    "Посмотрим на финальный результат:"
   ]
  },
  {
   "cell_type": "code",
   "execution_count": 19,
   "metadata": {},
   "outputs": [
    {
     "name": "stdout",
     "output_type": "stream",
     "text": [
      "Лучшая точность предсказания на обучающей выборке у RandomForestClassifier(max_depth=19, n_estimators=95, random_state=5553535) с результатом: 0.8103\n"
     ]
    }
   ],
   "source": [
    "print('Лучшая точность предсказания на обучающей выборке у', best_model,\n",
    "      'с результатом:', f'{best_result:.4f}')"
   ]
  },
  {
   "cell_type": "markdown",
   "metadata": {},
   "source": [
    "### Выводы"
   ]
  },
  {
   "cell_type": "markdown",
   "metadata": {},
   "source": [
    "В результате проведённых исследований, мы получили лучшую точность предсказания на обучающей выборке у случайного леса с результатом **0.8103**. \n",
    "\n",
    "Теперь можно опробовать получившуюся модель на тестовой выборке и проверить её на переобучение."
   ]
  },
  {
   "cell_type": "markdown",
   "metadata": {},
   "source": [
    "## Проверим модель на тестовой выборке"
   ]
  },
  {
   "cell_type": "markdown",
   "metadata": {},
   "source": [
    "Получим предсказания на тестовой выборке, рассчитаем метрики качества модели."
   ]
  },
  {
   "cell_type": "code",
   "execution_count": 20,
   "metadata": {},
   "outputs": [
    {
     "name": "stdout",
     "output_type": "stream",
     "text": [
      "Доля правильных ответов на тестовой выборке:0.8180\n",
      "Доля ожидаемых положительных событий на тестовой выборке:0.76\n",
      "Чувствительность на тестовой выборке:0.59\n"
     ]
    }
   ],
   "source": [
    "# предсказания модели\n",
    "predictions = best_model.predict(features_test)\n",
    "\n",
    "# посчитаем качество модели\n",
    "accuracy = accuracy_score(target_test, predictions)\n",
    "precision = precision_score(target_test, predictions)\n",
    "recall = recall_score(target_test, predictions)\n",
    "\n",
    "print('Доля правильных ответов на тестовой выборке:' f'{accuracy:.4f}')\n",
    "print('Доля ожидаемых положительных событий на тестовой выборке:' f'{precision:.2f}')\n",
    "print('Чувствительность на тестовой выборке:' f'{recall:.2f}')"
   ]
  },
  {
   "cell_type": "markdown",
   "metadata": {},
   "source": [
    "`accuracy` на тестовой и валидационной выборках приблизительно равны, значит модель не переобучена."
   ]
  },
  {
   "cell_type": "markdown",
   "metadata": {},
   "source": [
    "## (бонус) Проверим модели на адекватность"
   ]
  },
  {
   "cell_type": "markdown",
   "metadata": {},
   "source": [
    "Создадим проверочную основную (baseline) модель с помощью Dummy-классификатора."
   ]
  },
  {
   "cell_type": "code",
   "execution_count": 22,
   "metadata": {},
   "outputs": [
    {
     "name": "stdout",
     "output_type": "stream",
     "text": [
      "Точность предсказаний Dummy-классификатора на тестовой выборке: 0.69\n"
     ]
    }
   ],
   "source": [
    "# baseline модель dummy-классификатора\n",
    "dummy = DummyClassifier(random_state=RANDOM_STATE)\n",
    "dummy.fit(features_train, target_train)\n",
    "dummy_prediction = dummy.predict(features_test)\n",
    "dummy_accuracy= accuracy_score(target_test, dummy_prediction)\n",
    "\n",
    "# выведем результаты моделирования\n",
    "print('Точность предсказаний Dummy-классификатора на тестовой выборке:',f'{dummy_accuracy:.2f}')"
   ]
  },
  {
   "cell_type": "markdown",
   "metadata": {},
   "source": [
    "Точность предсказаний у случайного леса - 0.81, а у проверочной модели - 0.69 *(nice)*.\n",
    "\n",
    "Случайный лес прошел проверку на адекватность."
   ]
  },
  {
   "cell_type": "markdown",
   "metadata": {},
   "source": [
    "## Общий вывод исследования модели для задачи классификации"
   ]
  },
  {
   "cell_type": "markdown",
   "metadata": {},
   "source": [
    "В результате проведённой работы были проверены следующие модели:\n",
    "\n",
    "1. Дерево решений\n",
    "2. Логистическая регрессия\n",
    "3. Случайный лес\n",
    "4. Градиентный бустинг\n",
    "\n",
    "Для всех моделей были найдены оптимальные значения гиперпараметров для получения наиболее точных предсказаний.\n",
    "\n",
    "Лучшая точность предсказания на обучающей выборке у **случайного леса** с результатом **0.8103**, проверка на тестовой выборке дала результат **0.8149**.\n",
    "\n",
    "Незначительное расхождение этих результатов свидетельствует о том, что **модель не переобучена**.\n",
    "\n",
    "Дополнительно модель **прошла проверку на адекватность**. По сравнению с baseline моделью dummy-классификатора точность предсказаний у случайного леса значительно выше - 0.81 против - 0.69."
   ]
  }
 ],
 "metadata": {
  "ExecuteTimeLog": [
   {
    "duration": 433,
    "start_time": "2022-11-02T11:58:03.020Z"
   },
   {
    "duration": 67,
    "start_time": "2022-11-03T08:36:16.268Z"
   },
   {
    "duration": 112,
    "start_time": "2022-11-03T08:40:49.205Z"
   },
   {
    "duration": 76,
    "start_time": "2022-11-03T08:41:29.717Z"
   },
   {
    "duration": 1535,
    "start_time": "2022-11-03T17:48:48.554Z"
   },
   {
    "duration": 4,
    "start_time": "2022-11-03T17:48:50.092Z"
   },
   {
    "duration": 16,
    "start_time": "2022-11-03T17:48:50.097Z"
   },
   {
    "duration": 179,
    "start_time": "2022-11-03T17:48:50.115Z"
   },
   {
    "duration": 31,
    "start_time": "2022-11-03T17:48:50.295Z"
   },
   {
    "duration": 5112,
    "start_time": "2022-11-03T17:48:50.328Z"
   },
   {
    "duration": 405,
    "start_time": "2022-11-03T17:48:55.442Z"
   },
   {
    "duration": 5,
    "start_time": "2022-11-03T17:48:55.849Z"
   },
   {
    "duration": 6,
    "start_time": "2022-11-03T17:48:55.856Z"
   },
   {
    "duration": 10,
    "start_time": "2022-11-03T17:48:55.864Z"
   },
   {
    "duration": 7,
    "start_time": "2022-11-03T17:48:55.875Z"
   },
   {
    "duration": 4410,
    "start_time": "2022-11-03T17:48:55.884Z"
   },
   {
    "duration": 25,
    "start_time": "2022-11-03T17:49:00.296Z"
   },
   {
    "duration": 54923,
    "start_time": "2022-11-03T17:49:00.323Z"
   },
   {
    "duration": 10702,
    "start_time": "2022-11-03T17:49:55.247Z"
   },
   {
    "duration": 9,
    "start_time": "2022-11-03T17:50:05.954Z"
   },
   {
    "duration": 10,
    "start_time": "2022-11-03T17:50:05.965Z"
   },
   {
    "duration": 6,
    "start_time": "2022-11-03T17:51:27.784Z"
   },
   {
    "duration": 5,
    "start_time": "2022-11-03T18:10:47.763Z"
   },
   {
    "duration": 8,
    "start_time": "2022-11-03T18:10:47.771Z"
   },
   {
    "duration": 36,
    "start_time": "2022-11-03T18:10:47.782Z"
   },
   {
    "duration": 38,
    "start_time": "2022-11-03T18:10:47.821Z"
   },
   {
    "duration": 4,
    "start_time": "2022-11-03T18:10:53.028Z"
   },
   {
    "duration": 20,
    "start_time": "2022-11-03T18:10:53.034Z"
   },
   {
    "duration": 41,
    "start_time": "2022-11-03T18:10:53.056Z"
   },
   {
    "duration": 31,
    "start_time": "2022-11-03T18:10:53.098Z"
   },
   {
    "duration": 5070,
    "start_time": "2022-11-03T18:10:53.131Z"
   },
   {
    "duration": 413,
    "start_time": "2022-11-03T18:10:58.202Z"
   },
   {
    "duration": 4,
    "start_time": "2022-11-03T18:10:58.616Z"
   },
   {
    "duration": 19,
    "start_time": "2022-11-03T18:10:58.621Z"
   },
   {
    "duration": 18,
    "start_time": "2022-11-03T18:10:58.641Z"
   },
   {
    "duration": 12,
    "start_time": "2022-11-03T18:10:58.660Z"
   },
   {
    "duration": 4617,
    "start_time": "2022-11-03T18:10:58.674Z"
   },
   {
    "duration": 31,
    "start_time": "2022-11-03T18:11:03.293Z"
   },
   {
    "duration": 56377,
    "start_time": "2022-11-03T18:11:03.327Z"
   },
   {
    "duration": 11111,
    "start_time": "2022-11-03T18:11:59.705Z"
   },
   {
    "duration": 12,
    "start_time": "2022-11-03T18:12:10.818Z"
   },
   {
    "duration": 24,
    "start_time": "2022-11-03T18:12:10.832Z"
   },
   {
    "duration": 2889,
    "start_time": "2022-11-03T18:15:05.814Z"
   },
   {
    "duration": 3014,
    "start_time": "2022-11-03T18:15:15.486Z"
   },
   {
    "duration": 2734,
    "start_time": "2022-11-03T18:15:37.624Z"
   },
   {
    "duration": 2908,
    "start_time": "2022-11-03T18:15:54.002Z"
   },
   {
    "duration": 1356,
    "start_time": "2022-11-03T18:16:42.088Z"
   },
   {
    "duration": 4,
    "start_time": "2022-11-03T18:56:58.049Z"
   },
   {
    "duration": 3,
    "start_time": "2022-11-03T18:57:07.071Z"
   },
   {
    "duration": 50,
    "start_time": "2022-11-03T18:58:03.175Z"
   },
   {
    "duration": 40,
    "start_time": "2022-11-03T18:58:25.823Z"
   },
   {
    "duration": 39,
    "start_time": "2022-11-03T18:58:55.091Z"
   },
   {
    "duration": 38,
    "start_time": "2022-11-03T19:01:30.096Z"
   },
   {
    "duration": 39,
    "start_time": "2022-11-03T19:01:40.155Z"
   },
   {
    "duration": 36,
    "start_time": "2022-11-03T19:10:18.190Z"
   },
   {
    "duration": 37,
    "start_time": "2022-11-03T19:10:19.994Z"
   },
   {
    "duration": 6,
    "start_time": "2022-11-03T19:11:09.889Z"
   },
   {
    "duration": 6,
    "start_time": "2022-11-03T19:13:27.625Z"
   },
   {
    "duration": 4,
    "start_time": "2022-11-03T19:14:18.810Z"
   },
   {
    "duration": 4927,
    "start_time": "2022-11-03T19:24:49.809Z"
   },
   {
    "duration": 4774,
    "start_time": "2022-11-03T19:25:02.801Z"
   },
   {
    "duration": 4752,
    "start_time": "2022-11-03T19:25:35.636Z"
   },
   {
    "duration": 4818,
    "start_time": "2022-11-03T19:25:53.696Z"
   },
   {
    "duration": 4834,
    "start_time": "2022-11-03T19:26:06.202Z"
   },
   {
    "duration": 4917,
    "start_time": "2022-11-03T19:28:27.077Z"
   },
   {
    "duration": 4880,
    "start_time": "2022-11-03T19:28:52.205Z"
   },
   {
    "duration": 1439,
    "start_time": "2022-11-03T19:29:20.129Z"
   },
   {
    "duration": 3,
    "start_time": "2022-11-03T19:29:21.571Z"
   },
   {
    "duration": 46,
    "start_time": "2022-11-03T19:29:21.575Z"
   },
   {
    "duration": 58,
    "start_time": "2022-11-03T19:29:21.623Z"
   },
   {
    "duration": 9,
    "start_time": "2022-11-03T19:29:21.684Z"
   },
   {
    "duration": 4825,
    "start_time": "2022-11-03T19:35:23.680Z"
   },
   {
    "duration": 4850,
    "start_time": "2022-11-03T19:35:52.677Z"
   },
   {
    "duration": 4794,
    "start_time": "2022-11-03T19:36:11.938Z"
   },
   {
    "duration": 5081,
    "start_time": "2022-11-03T19:36:36.793Z"
   },
   {
    "duration": 365,
    "start_time": "2022-11-03T20:23:42.368Z"
   },
   {
    "duration": 55,
    "start_time": "2022-11-03T20:23:46.228Z"
   },
   {
    "duration": 385,
    "start_time": "2022-11-03T20:23:49.047Z"
   },
   {
    "duration": 372,
    "start_time": "2022-11-03T20:24:06.446Z"
   },
   {
    "duration": 386,
    "start_time": "2022-11-03T20:24:14.715Z"
   },
   {
    "duration": 380,
    "start_time": "2022-11-03T20:24:28.154Z"
   },
   {
    "duration": 459,
    "start_time": "2022-11-03T20:26:01.245Z"
   },
   {
    "duration": 518,
    "start_time": "2022-11-03T20:28:19.191Z"
   },
   {
    "duration": 5,
    "start_time": "2022-11-03T20:28:29.288Z"
   },
   {
    "duration": 13,
    "start_time": "2022-11-03T20:28:29.294Z"
   },
   {
    "duration": 36,
    "start_time": "2022-11-03T20:28:29.309Z"
   },
   {
    "duration": 38,
    "start_time": "2022-11-03T20:28:29.347Z"
   },
   {
    "duration": 6,
    "start_time": "2022-11-03T20:28:29.386Z"
   },
   {
    "duration": 4804,
    "start_time": "2022-11-03T20:28:29.394Z"
   },
   {
    "duration": 5,
    "start_time": "2022-11-03T20:33:56.437Z"
   },
   {
    "duration": 4,
    "start_time": "2022-11-03T20:39:56.334Z"
   },
   {
    "duration": 112,
    "start_time": "2022-11-03T20:50:25.074Z"
   },
   {
    "duration": 541,
    "start_time": "2022-11-03T20:50:42.041Z"
   },
   {
    "duration": 4,
    "start_time": "2022-11-03T20:55:42.082Z"
   },
   {
    "duration": 2,
    "start_time": "2022-11-03T20:55:43.382Z"
   },
   {
    "duration": 606,
    "start_time": "2022-11-03T20:55:45.042Z"
   },
   {
    "duration": 1395,
    "start_time": "2022-11-03T20:56:58.149Z"
   },
   {
    "duration": 32,
    "start_time": "2022-11-03T20:56:59.546Z"
   },
   {
    "duration": 44,
    "start_time": "2022-11-03T20:56:59.580Z"
   },
   {
    "duration": 6,
    "start_time": "2022-11-03T20:56:59.626Z"
   },
   {
    "duration": 5099,
    "start_time": "2022-11-03T20:56:59.634Z"
   },
   {
    "duration": 370,
    "start_time": "2022-11-03T20:57:04.735Z"
   },
   {
    "duration": 4,
    "start_time": "2022-11-03T20:57:05.106Z"
   },
   {
    "duration": 14,
    "start_time": "2022-11-03T20:57:05.112Z"
   },
   {
    "duration": 7,
    "start_time": "2022-11-03T20:57:05.128Z"
   },
   {
    "duration": 2,
    "start_time": "2022-11-03T20:57:08.454Z"
   },
   {
    "duration": 605,
    "start_time": "2022-11-03T20:57:10.104Z"
   },
   {
    "duration": 529,
    "start_time": "2022-11-03T20:57:18.474Z"
   },
   {
    "duration": 562,
    "start_time": "2022-11-03T21:01:50.562Z"
   },
   {
    "duration": 534,
    "start_time": "2022-11-03T21:02:08.386Z"
   },
   {
    "duration": 3,
    "start_time": "2022-11-03T21:02:17.854Z"
   },
   {
    "duration": 9,
    "start_time": "2022-11-03T21:02:19.665Z"
   },
   {
    "duration": 8,
    "start_time": "2022-11-03T21:02:22.945Z"
   },
   {
    "duration": 9,
    "start_time": "2022-11-03T21:02:27.984Z"
   },
   {
    "duration": 3,
    "start_time": "2022-11-03T21:02:29.484Z"
   },
   {
    "duration": 9,
    "start_time": "2022-11-03T21:02:29.692Z"
   },
   {
    "duration": 9,
    "start_time": "2022-11-03T21:02:31.383Z"
   },
   {
    "duration": 2,
    "start_time": "2022-11-03T21:03:53.075Z"
   },
   {
    "duration": 9,
    "start_time": "2022-11-03T21:03:54.145Z"
   },
   {
    "duration": 8,
    "start_time": "2022-11-03T21:03:54.935Z"
   },
   {
    "duration": 9,
    "start_time": "2022-11-03T21:04:00.685Z"
   },
   {
    "duration": 8,
    "start_time": "2022-11-03T21:04:01.378Z"
   },
   {
    "duration": 4,
    "start_time": "2022-11-03T21:04:06.917Z"
   },
   {
    "duration": 50,
    "start_time": "2022-11-03T21:04:06.923Z"
   },
   {
    "duration": 38,
    "start_time": "2022-11-03T21:04:06.975Z"
   },
   {
    "duration": 7,
    "start_time": "2022-11-03T21:04:07.015Z"
   },
   {
    "duration": 5088,
    "start_time": "2022-11-03T21:04:07.025Z"
   },
   {
    "duration": 400,
    "start_time": "2022-11-03T21:04:12.115Z"
   },
   {
    "duration": 5,
    "start_time": "2022-11-03T21:04:12.517Z"
   },
   {
    "duration": 7,
    "start_time": "2022-11-03T21:04:12.523Z"
   },
   {
    "duration": 5,
    "start_time": "2022-11-03T21:04:12.532Z"
   },
   {
    "duration": 2,
    "start_time": "2022-11-03T21:04:13.313Z"
   },
   {
    "duration": 9,
    "start_time": "2022-11-03T21:04:13.654Z"
   },
   {
    "duration": 8,
    "start_time": "2022-11-03T21:04:16.109Z"
   },
   {
    "duration": 9,
    "start_time": "2022-11-03T21:04:23.133Z"
   },
   {
    "duration": 8,
    "start_time": "2022-11-03T21:04:24.982Z"
   },
   {
    "duration": 10,
    "start_time": "2022-11-03T21:04:29.942Z"
   },
   {
    "duration": 8,
    "start_time": "2022-11-03T21:04:31.962Z"
   },
   {
    "duration": 9,
    "start_time": "2022-11-03T21:04:37.914Z"
   },
   {
    "duration": 8,
    "start_time": "2022-11-03T21:04:38.992Z"
   },
   {
    "duration": 11,
    "start_time": "2022-11-03T21:04:43.732Z"
   },
   {
    "duration": 9,
    "start_time": "2022-11-03T21:04:49.009Z"
   },
   {
    "duration": 9,
    "start_time": "2022-11-03T21:04:57.998Z"
   },
   {
    "duration": 8,
    "start_time": "2022-11-03T21:04:58.888Z"
   },
   {
    "duration": 9,
    "start_time": "2022-11-03T21:05:04.059Z"
   },
   {
    "duration": 7,
    "start_time": "2022-11-03T21:05:04.779Z"
   },
   {
    "duration": 10,
    "start_time": "2022-11-03T21:05:12.517Z"
   },
   {
    "duration": 8,
    "start_time": "2022-11-03T21:05:13.207Z"
   },
   {
    "duration": 8,
    "start_time": "2022-11-03T21:05:19.868Z"
   },
   {
    "duration": 3,
    "start_time": "2022-11-03T21:06:09.182Z"
   },
   {
    "duration": 4,
    "start_time": "2022-11-03T21:06:21.290Z"
   },
   {
    "duration": 4,
    "start_time": "2022-11-03T21:06:49.768Z"
   },
   {
    "duration": 4,
    "start_time": "2022-11-03T21:07:02.800Z"
   },
   {
    "duration": 48,
    "start_time": "2022-11-03T21:07:28.959Z"
   },
   {
    "duration": 5,
    "start_time": "2022-11-03T21:07:42.014Z"
   },
   {
    "duration": 8,
    "start_time": "2022-11-03T21:07:51.536Z"
   },
   {
    "duration": 4,
    "start_time": "2022-11-03T21:07:57.021Z"
   },
   {
    "duration": 5,
    "start_time": "2022-11-03T21:08:33.490Z"
   },
   {
    "duration": 3,
    "start_time": "2022-11-03T21:09:08.836Z"
   },
   {
    "duration": 4,
    "start_time": "2022-11-03T21:37:08.424Z"
   },
   {
    "duration": 3,
    "start_time": "2022-11-03T21:37:13.977Z"
   },
   {
    "duration": 3,
    "start_time": "2022-11-03T21:37:20.898Z"
   },
   {
    "duration": 1547,
    "start_time": "2022-11-04T07:26:05.626Z"
   },
   {
    "duration": 112,
    "start_time": "2022-11-04T07:26:07.176Z"
   },
   {
    "duration": 53,
    "start_time": "2022-11-04T07:26:07.289Z"
   },
   {
    "duration": 6,
    "start_time": "2022-11-04T07:26:07.344Z"
   },
   {
    "duration": 4728,
    "start_time": "2022-11-04T07:26:07.353Z"
   },
   {
    "duration": 372,
    "start_time": "2022-11-04T07:26:12.082Z"
   },
   {
    "duration": 5,
    "start_time": "2022-11-04T07:26:12.456Z"
   },
   {
    "duration": 15,
    "start_time": "2022-11-04T07:26:12.463Z"
   },
   {
    "duration": 8,
    "start_time": "2022-11-04T07:26:12.479Z"
   },
   {
    "duration": 16,
    "start_time": "2022-11-04T07:26:12.489Z"
   },
   {
    "duration": 11,
    "start_time": "2022-11-04T07:26:12.507Z"
   },
   {
    "duration": 141,
    "start_time": "2022-11-04T07:26:12.522Z"
   },
   {
    "duration": 0,
    "start_time": "2022-11-04T07:26:12.665Z"
   },
   {
    "duration": 0,
    "start_time": "2022-11-04T07:26:12.667Z"
   },
   {
    "duration": 0,
    "start_time": "2022-11-04T07:26:12.668Z"
   },
   {
    "duration": 0,
    "start_time": "2022-11-04T07:26:12.670Z"
   },
   {
    "duration": 0,
    "start_time": "2022-11-04T07:26:12.671Z"
   },
   {
    "duration": 436,
    "start_time": "2022-11-04T07:26:18.590Z"
   },
   {
    "duration": 1317,
    "start_time": "2022-11-04T07:26:56.370Z"
   },
   {
    "duration": 29,
    "start_time": "2022-11-04T07:26:57.689Z"
   },
   {
    "duration": 39,
    "start_time": "2022-11-04T07:26:57.720Z"
   },
   {
    "duration": 6,
    "start_time": "2022-11-04T07:26:57.761Z"
   },
   {
    "duration": 4728,
    "start_time": "2022-11-04T07:26:57.769Z"
   },
   {
    "duration": 339,
    "start_time": "2022-11-04T07:27:13.356Z"
   },
   {
    "duration": 355,
    "start_time": "2022-11-04T07:29:09.834Z"
   },
   {
    "duration": 388,
    "start_time": "2022-11-04T07:29:19.644Z"
   },
   {
    "duration": 417,
    "start_time": "2022-11-04T07:29:25.493Z"
   },
   {
    "duration": 360,
    "start_time": "2022-11-04T07:30:01.159Z"
   },
   {
    "duration": 4,
    "start_time": "2022-11-04T07:30:03.259Z"
   },
   {
    "duration": 3,
    "start_time": "2022-11-04T07:30:07.049Z"
   },
   {
    "duration": 2,
    "start_time": "2022-11-04T07:30:19.317Z"
   },
   {
    "duration": 8,
    "start_time": "2022-11-04T07:30:21.418Z"
   },
   {
    "duration": 3,
    "start_time": "2022-11-04T07:30:24.207Z"
   },
   {
    "duration": 58,
    "start_time": "2022-11-04T08:46:14.365Z"
   },
   {
    "duration": 3,
    "start_time": "2022-11-04T08:46:20.649Z"
   },
   {
    "duration": 3688,
    "start_time": "2022-11-04T08:46:27.238Z"
   },
   {
    "duration": 3618,
    "start_time": "2022-11-04T08:46:39.947Z"
   },
   {
    "duration": 50,
    "start_time": "2022-11-04T10:19:30.996Z"
   },
   {
    "duration": 340,
    "start_time": "2022-11-04T10:19:35.589Z"
   },
   {
    "duration": 347,
    "start_time": "2022-11-04T10:19:48.539Z"
   },
   {
    "duration": 48,
    "start_time": "2022-11-04T10:20:26.275Z"
   },
   {
    "duration": 64,
    "start_time": "2022-11-04T10:20:33.967Z"
   },
   {
    "duration": 43,
    "start_time": "2022-11-04T10:20:42.373Z"
   },
   {
    "duration": 337,
    "start_time": "2022-11-04T10:20:48.072Z"
   },
   {
    "duration": 3,
    "start_time": "2022-11-04T10:21:15.520Z"
   },
   {
    "duration": 137,
    "start_time": "2022-11-04T10:22:11.625Z"
   },
   {
    "duration": 342,
    "start_time": "2022-11-04T10:22:37.384Z"
   },
   {
    "duration": 336,
    "start_time": "2022-11-04T10:22:42.562Z"
   },
   {
    "duration": 110,
    "start_time": "2022-11-04T10:30:22.598Z"
   },
   {
    "duration": 67,
    "start_time": "2022-11-04T10:30:54.753Z"
   },
   {
    "duration": 24,
    "start_time": "2022-11-04T10:31:10.042Z"
   },
   {
    "duration": 12,
    "start_time": "2022-11-04T10:31:19.071Z"
   },
   {
    "duration": 75,
    "start_time": "2022-11-04T10:31:37.241Z"
   },
   {
    "duration": 49,
    "start_time": "2022-11-04T10:38:34.009Z"
   },
   {
    "duration": 50,
    "start_time": "2022-11-04T10:38:50.616Z"
   },
   {
    "duration": 15477,
    "start_time": "2022-11-04T10:39:05.246Z"
   },
   {
    "duration": 73,
    "start_time": "2022-11-04T10:40:33.336Z"
   },
   {
    "duration": 11,
    "start_time": "2022-11-04T10:40:38.535Z"
   },
   {
    "duration": 33,
    "start_time": "2022-11-04T10:40:44.126Z"
   },
   {
    "duration": 1552,
    "start_time": "2022-11-04T12:49:37.179Z"
   },
   {
    "duration": 62,
    "start_time": "2022-11-04T12:49:38.733Z"
   },
   {
    "duration": 42,
    "start_time": "2022-11-04T12:49:38.796Z"
   },
   {
    "duration": 6,
    "start_time": "2022-11-04T12:49:38.840Z"
   },
   {
    "duration": 4721,
    "start_time": "2022-11-04T12:49:38.848Z"
   },
   {
    "duration": 359,
    "start_time": "2022-11-04T12:49:43.570Z"
   },
   {
    "duration": 3,
    "start_time": "2022-11-04T12:49:43.931Z"
   },
   {
    "duration": 7,
    "start_time": "2022-11-04T12:49:43.936Z"
   },
   {
    "duration": 5,
    "start_time": "2022-11-04T12:49:43.944Z"
   },
   {
    "duration": 13,
    "start_time": "2022-11-04T12:49:43.951Z"
   },
   {
    "duration": 3,
    "start_time": "2022-11-04T12:49:43.965Z"
   },
   {
    "duration": 2,
    "start_time": "2022-11-04T12:51:11.455Z"
   },
   {
    "duration": 406,
    "start_time": "2022-11-04T12:51:13.754Z"
   },
   {
    "duration": 56,
    "start_time": "2022-11-04T12:52:19.489Z"
   },
   {
    "duration": 48,
    "start_time": "2022-11-04T12:52:26.548Z"
   },
   {
    "duration": 295,
    "start_time": "2022-11-04T12:52:39.677Z"
   },
   {
    "duration": 281,
    "start_time": "2022-11-04T12:53:12.285Z"
   },
   {
    "duration": 4,
    "start_time": "2022-11-04T12:53:53.006Z"
   },
   {
    "duration": 29,
    "start_time": "2022-11-04T12:53:53.012Z"
   },
   {
    "duration": 35,
    "start_time": "2022-11-04T12:53:53.042Z"
   },
   {
    "duration": 6,
    "start_time": "2022-11-04T12:53:53.080Z"
   },
   {
    "duration": 4526,
    "start_time": "2022-11-04T12:53:53.089Z"
   },
   {
    "duration": 393,
    "start_time": "2022-11-04T12:53:57.621Z"
   },
   {
    "duration": 4,
    "start_time": "2022-11-04T12:53:58.022Z"
   },
   {
    "duration": 8,
    "start_time": "2022-11-04T12:53:58.027Z"
   },
   {
    "duration": 5,
    "start_time": "2022-11-04T12:53:58.036Z"
   },
   {
    "duration": 10,
    "start_time": "2022-11-04T12:53:58.042Z"
   },
   {
    "duration": 4,
    "start_time": "2022-11-04T12:53:58.054Z"
   },
   {
    "duration": 3,
    "start_time": "2022-11-04T12:53:58.060Z"
   },
   {
    "duration": 413,
    "start_time": "2022-11-04T12:53:58.064Z"
   },
   {
    "duration": 292,
    "start_time": "2022-11-04T12:54:02.099Z"
   },
   {
    "duration": 283,
    "start_time": "2022-11-04T12:54:33.595Z"
   },
   {
    "duration": 317,
    "start_time": "2022-11-04T12:54:41.133Z"
   },
   {
    "duration": 291,
    "start_time": "2022-11-04T12:55:30.780Z"
   },
   {
    "duration": 4,
    "start_time": "2022-11-04T12:55:37.062Z"
   },
   {
    "duration": 38,
    "start_time": "2022-11-04T12:55:37.069Z"
   },
   {
    "duration": 35,
    "start_time": "2022-11-04T12:55:37.108Z"
   },
   {
    "duration": 5,
    "start_time": "2022-11-04T12:55:37.145Z"
   },
   {
    "duration": 4531,
    "start_time": "2022-11-04T12:55:37.151Z"
   },
   {
    "duration": 403,
    "start_time": "2022-11-04T12:55:41.684Z"
   },
   {
    "duration": 3,
    "start_time": "2022-11-04T12:55:42.089Z"
   },
   {
    "duration": 6,
    "start_time": "2022-11-04T12:55:42.094Z"
   },
   {
    "duration": 8,
    "start_time": "2022-11-04T12:55:42.102Z"
   },
   {
    "duration": 15,
    "start_time": "2022-11-04T12:55:42.112Z"
   },
   {
    "duration": 4,
    "start_time": "2022-11-04T12:55:42.128Z"
   },
   {
    "duration": 4,
    "start_time": "2022-11-04T12:55:42.134Z"
   },
   {
    "duration": 398,
    "start_time": "2022-11-04T12:55:42.139Z"
   },
   {
    "duration": 288,
    "start_time": "2022-11-04T12:55:48.391Z"
   },
   {
    "duration": 285,
    "start_time": "2022-11-04T12:56:56.701Z"
   },
   {
    "duration": 3,
    "start_time": "2022-11-04T12:58:12.822Z"
   },
   {
    "duration": 295,
    "start_time": "2022-11-04T12:58:17.024Z"
   },
   {
    "duration": 282,
    "start_time": "2022-11-04T12:58:31.433Z"
   },
   {
    "duration": 220,
    "start_time": "2022-11-04T12:59:03.522Z"
   },
   {
    "duration": 10,
    "start_time": "2022-11-04T12:59:15.522Z"
   },
   {
    "duration": 4,
    "start_time": "2022-11-04T12:59:36.803Z"
   },
   {
    "duration": 5,
    "start_time": "2022-11-04T12:59:36.809Z"
   },
   {
    "duration": 29,
    "start_time": "2022-11-04T12:59:36.815Z"
   },
   {
    "duration": 34,
    "start_time": "2022-11-04T12:59:36.846Z"
   },
   {
    "duration": 6,
    "start_time": "2022-11-04T12:59:36.881Z"
   },
   {
    "duration": 4684,
    "start_time": "2022-11-04T12:59:36.888Z"
   },
   {
    "duration": 430,
    "start_time": "2022-11-04T12:59:41.574Z"
   },
   {
    "duration": 3,
    "start_time": "2022-11-04T12:59:42.006Z"
   },
   {
    "duration": 13,
    "start_time": "2022-11-04T12:59:42.011Z"
   },
   {
    "duration": 6,
    "start_time": "2022-11-04T12:59:42.026Z"
   },
   {
    "duration": 10,
    "start_time": "2022-11-04T12:59:42.033Z"
   },
   {
    "duration": 3,
    "start_time": "2022-11-04T12:59:42.045Z"
   },
   {
    "duration": 5,
    "start_time": "2022-11-04T12:59:42.049Z"
   },
   {
    "duration": 385,
    "start_time": "2022-11-04T12:59:42.055Z"
   },
   {
    "duration": 420,
    "start_time": "2022-11-04T12:59:42.442Z"
   },
   {
    "duration": 15897,
    "start_time": "2022-11-04T12:59:42.864Z"
   },
   {
    "duration": 10696,
    "start_time": "2022-11-04T12:59:58.763Z"
   },
   {
    "duration": 10,
    "start_time": "2022-11-04T13:00:09.460Z"
   },
   {
    "duration": 14,
    "start_time": "2022-11-04T13:00:09.472Z"
   },
   {
    "duration": 15931,
    "start_time": "2022-11-04T13:05:10.021Z"
   },
   {
    "duration": 376,
    "start_time": "2022-11-04T13:05:53.028Z"
   },
   {
    "duration": 1329,
    "start_time": "2022-11-04T13:07:39.991Z"
   },
   {
    "duration": 28,
    "start_time": "2022-11-04T13:07:41.322Z"
   },
   {
    "duration": 35,
    "start_time": "2022-11-04T13:07:41.351Z"
   },
   {
    "duration": 5,
    "start_time": "2022-11-04T13:07:41.388Z"
   },
   {
    "duration": 4374,
    "start_time": "2022-11-04T13:07:41.395Z"
   },
   {
    "duration": 333,
    "start_time": "2022-11-04T13:08:40.256Z"
   },
   {
    "duration": 3,
    "start_time": "2022-11-04T13:08:57.821Z"
   },
   {
    "duration": 4,
    "start_time": "2022-11-04T13:09:02.723Z"
   },
   {
    "duration": 2,
    "start_time": "2022-11-04T13:09:06.603Z"
   },
   {
    "duration": 11,
    "start_time": "2022-11-04T13:09:08.973Z"
   },
   {
    "duration": 4,
    "start_time": "2022-11-04T13:09:10.921Z"
   },
   {
    "duration": 2,
    "start_time": "2022-11-04T13:09:18.642Z"
   },
   {
    "duration": 377,
    "start_time": "2022-11-04T13:09:40.651Z"
   },
   {
    "duration": 281,
    "start_time": "2022-11-04T13:09:58.058Z"
   },
   {
    "duration": 51,
    "start_time": "2022-11-04T13:14:24.132Z"
   },
   {
    "duration": 44,
    "start_time": "2022-11-04T13:14:40.081Z"
   },
   {
    "duration": 41,
    "start_time": "2022-11-04T13:14:59.389Z"
   },
   {
    "duration": 43,
    "start_time": "2022-11-04T13:15:03.860Z"
   },
   {
    "duration": 3,
    "start_time": "2022-11-04T13:17:15.434Z"
   },
   {
    "duration": 287,
    "start_time": "2022-11-04T13:17:16.149Z"
   },
   {
    "duration": 3,
    "start_time": "2022-11-04T13:21:23.921Z"
   },
   {
    "duration": 312,
    "start_time": "2022-11-04T13:21:24.851Z"
   },
   {
    "duration": 183,
    "start_time": "2022-11-04T13:22:26.075Z"
   },
   {
    "duration": 160,
    "start_time": "2022-11-04T13:22:33.897Z"
   },
   {
    "duration": 156,
    "start_time": "2022-11-04T13:22:38.174Z"
   },
   {
    "duration": 89,
    "start_time": "2022-11-04T13:22:41.644Z"
   },
   {
    "duration": 275,
    "start_time": "2022-11-04T13:22:58.542Z"
   },
   {
    "duration": 259,
    "start_time": "2022-11-04T13:23:06.672Z"
   },
   {
    "duration": 255,
    "start_time": "2022-11-04T13:23:16.751Z"
   },
   {
    "duration": 275,
    "start_time": "2022-11-04T13:23:38.408Z"
   },
   {
    "duration": 278,
    "start_time": "2022-11-04T13:23:47.121Z"
   },
   {
    "duration": 289,
    "start_time": "2022-11-04T13:23:57.405Z"
   },
   {
    "duration": 282,
    "start_time": "2022-11-04T13:24:26.414Z"
   },
   {
    "duration": 290,
    "start_time": "2022-11-04T13:24:59.822Z"
   },
   {
    "duration": 276,
    "start_time": "2022-11-04T13:25:48.621Z"
   },
   {
    "duration": 269,
    "start_time": "2022-11-04T13:25:52.559Z"
   },
   {
    "duration": 285,
    "start_time": "2022-11-04T13:26:02.922Z"
   },
   {
    "duration": 317,
    "start_time": "2022-11-04T13:26:27.131Z"
   },
   {
    "duration": 295,
    "start_time": "2022-11-04T13:26:35.821Z"
   },
   {
    "duration": 295,
    "start_time": "2022-11-04T13:26:41.790Z"
   },
   {
    "duration": 274,
    "start_time": "2022-11-04T13:26:51.232Z"
   },
   {
    "duration": 172,
    "start_time": "2022-11-04T13:27:11.968Z"
   },
   {
    "duration": 287,
    "start_time": "2022-11-04T13:27:30.536Z"
   },
   {
    "duration": 288,
    "start_time": "2022-11-04T13:27:39.904Z"
   },
   {
    "duration": 293,
    "start_time": "2022-11-04T13:27:42.778Z"
   },
   {
    "duration": 2,
    "start_time": "2022-11-04T13:29:05.697Z"
   },
   {
    "duration": 266,
    "start_time": "2022-11-04T13:29:06.165Z"
   },
   {
    "duration": 372,
    "start_time": "2022-11-04T13:30:22.889Z"
   },
   {
    "duration": 15748,
    "start_time": "2022-11-04T13:31:55.823Z"
   },
   {
    "duration": 15681,
    "start_time": "2022-11-04T13:33:49.139Z"
   },
   {
    "duration": 28220,
    "start_time": "2022-11-04T13:34:14.239Z"
   },
   {
    "duration": 15891,
    "start_time": "2022-11-04T13:35:04.242Z"
   },
   {
    "duration": 39,
    "start_time": "2022-11-04T13:35:55.985Z"
   },
   {
    "duration": 17910,
    "start_time": "2022-11-04T13:36:48.455Z"
   },
   {
    "duration": 118011,
    "start_time": "2022-11-04T13:38:52.810Z"
   },
   {
    "duration": 230346,
    "start_time": "2022-11-04T13:41:08.754Z"
   },
   {
    "duration": 40383,
    "start_time": "2022-11-04T13:45:17.850Z"
   },
   {
    "duration": 285,
    "start_time": "2022-11-04T13:51:37.624Z"
   },
   {
    "duration": 41231,
    "start_time": "2022-11-04T13:51:41.931Z"
   },
   {
    "duration": 10293,
    "start_time": "2022-11-04T13:54:54.758Z"
   },
   {
    "duration": 4,
    "start_time": "2022-11-04T14:01:22.571Z"
   },
   {
    "duration": 34,
    "start_time": "2022-11-04T14:01:22.577Z"
   },
   {
    "duration": 32,
    "start_time": "2022-11-04T14:01:22.613Z"
   },
   {
    "duration": 5,
    "start_time": "2022-11-04T14:01:22.647Z"
   },
   {
    "duration": 4413,
    "start_time": "2022-11-04T14:01:22.653Z"
   },
   {
    "duration": 364,
    "start_time": "2022-11-04T14:01:27.068Z"
   },
   {
    "duration": 3,
    "start_time": "2022-11-04T14:01:27.434Z"
   },
   {
    "duration": 7,
    "start_time": "2022-11-04T14:01:27.439Z"
   },
   {
    "duration": 7,
    "start_time": "2022-11-04T14:01:27.447Z"
   },
   {
    "duration": 10,
    "start_time": "2022-11-04T14:01:27.456Z"
   },
   {
    "duration": 5,
    "start_time": "2022-11-04T14:01:27.468Z"
   },
   {
    "duration": 8,
    "start_time": "2022-11-04T14:01:27.475Z"
   },
   {
    "duration": 400,
    "start_time": "2022-11-04T14:01:27.484Z"
   },
   {
    "duration": 2,
    "start_time": "2022-11-04T14:01:27.885Z"
   },
   {
    "duration": 286,
    "start_time": "2022-11-04T14:01:27.889Z"
   },
   {
    "duration": 39985,
    "start_time": "2022-11-04T14:01:28.176Z"
   },
   {
    "duration": 114,
    "start_time": "2022-11-04T14:03:04.822Z"
   },
   {
    "duration": 13,
    "start_time": "2022-11-04T14:03:30.061Z"
   },
   {
    "duration": 468,
    "start_time": "2022-11-04T14:09:47.875Z"
   },
   {
    "duration": 1277,
    "start_time": "2022-11-04T14:17:43.360Z"
   },
   {
    "duration": 32,
    "start_time": "2022-11-04T14:17:44.639Z"
   },
   {
    "duration": 38,
    "start_time": "2022-11-04T14:17:44.672Z"
   },
   {
    "duration": 5,
    "start_time": "2022-11-04T14:17:44.711Z"
   },
   {
    "duration": 4635,
    "start_time": "2022-11-04T14:17:44.719Z"
   },
   {
    "duration": 352,
    "start_time": "2022-11-04T14:17:49.356Z"
   },
   {
    "duration": 3,
    "start_time": "2022-11-04T14:17:49.710Z"
   },
   {
    "duration": 21,
    "start_time": "2022-11-04T14:17:49.715Z"
   },
   {
    "duration": 4,
    "start_time": "2022-11-04T14:17:49.738Z"
   },
   {
    "duration": 20,
    "start_time": "2022-11-04T14:17:49.744Z"
   },
   {
    "duration": 13,
    "start_time": "2022-11-04T14:17:49.765Z"
   },
   {
    "duration": 11,
    "start_time": "2022-11-04T14:17:49.779Z"
   },
   {
    "duration": 400,
    "start_time": "2022-11-04T14:17:49.791Z"
   },
   {
    "duration": 2,
    "start_time": "2022-11-04T14:17:50.194Z"
   },
   {
    "duration": 335,
    "start_time": "2022-11-04T14:17:50.198Z"
   },
   {
    "duration": 40164,
    "start_time": "2022-11-04T14:17:50.534Z"
   },
   {
    "duration": 51,
    "start_time": "2022-11-04T14:20:42.281Z"
   },
   {
    "duration": 10144,
    "start_time": "2022-11-04T14:20:52.659Z"
   },
   {
    "duration": 10213,
    "start_time": "2022-11-04T14:22:09.669Z"
   },
   {
    "duration": 10080,
    "start_time": "2022-11-04T14:22:38.567Z"
   },
   {
    "duration": 39032,
    "start_time": "2022-11-04T14:22:54.794Z"
   },
   {
    "duration": 1299,
    "start_time": "2022-11-04T14:29:20.021Z"
   },
   {
    "duration": 29,
    "start_time": "2022-11-04T14:29:21.322Z"
   },
   {
    "duration": 39,
    "start_time": "2022-11-04T14:29:21.353Z"
   },
   {
    "duration": 5,
    "start_time": "2022-11-04T14:29:21.394Z"
   },
   {
    "duration": 4637,
    "start_time": "2022-11-04T14:29:21.401Z"
   },
   {
    "duration": 373,
    "start_time": "2022-11-04T14:29:26.040Z"
   },
   {
    "duration": 7,
    "start_time": "2022-11-04T14:29:26.415Z"
   },
   {
    "duration": 10,
    "start_time": "2022-11-04T14:29:26.423Z"
   },
   {
    "duration": 5,
    "start_time": "2022-11-04T14:29:26.434Z"
   },
   {
    "duration": 8,
    "start_time": "2022-11-04T14:29:26.441Z"
   },
   {
    "duration": 4,
    "start_time": "2022-11-04T14:29:26.450Z"
   },
   {
    "duration": 8,
    "start_time": "2022-11-04T14:29:26.455Z"
   },
   {
    "duration": 387,
    "start_time": "2022-11-04T14:29:26.464Z"
   },
   {
    "duration": 2,
    "start_time": "2022-11-04T14:29:26.853Z"
   },
   {
    "duration": 285,
    "start_time": "2022-11-04T14:29:26.857Z"
   },
   {
    "duration": 38960,
    "start_time": "2022-11-04T14:29:27.144Z"
   },
   {
    "duration": 10222,
    "start_time": "2022-11-04T14:30:06.106Z"
   },
   {
    "duration": 110,
    "start_time": "2022-11-04T17:39:05.583Z"
   },
   {
    "duration": 5,
    "start_time": "2022-11-04T17:39:17.762Z"
   },
   {
    "duration": 9,
    "start_time": "2022-11-04T18:05:58.220Z"
   },
   {
    "duration": 1431,
    "start_time": "2022-11-04T18:05:58.231Z"
   },
   {
    "duration": 2,
    "start_time": "2022-11-04T18:05:59.664Z"
   },
   {
    "duration": 30,
    "start_time": "2022-11-04T18:05:59.669Z"
   },
   {
    "duration": 41,
    "start_time": "2022-11-04T18:05:59.701Z"
   },
   {
    "duration": 5,
    "start_time": "2022-11-04T18:05:59.744Z"
   },
   {
    "duration": 4522,
    "start_time": "2022-11-04T18:05:59.751Z"
   },
   {
    "duration": 406,
    "start_time": "2022-11-04T18:06:04.275Z"
   },
   {
    "duration": 3,
    "start_time": "2022-11-04T18:06:04.683Z"
   },
   {
    "duration": 8,
    "start_time": "2022-11-04T18:06:04.688Z"
   },
   {
    "duration": 6,
    "start_time": "2022-11-04T18:06:04.697Z"
   },
   {
    "duration": 11,
    "start_time": "2022-11-04T18:06:04.704Z"
   },
   {
    "duration": 3,
    "start_time": "2022-11-04T18:06:04.721Z"
   },
   {
    "duration": 4,
    "start_time": "2022-11-04T18:06:04.726Z"
   },
   {
    "duration": 392,
    "start_time": "2022-11-04T18:06:04.732Z"
   },
   {
    "duration": 302,
    "start_time": "2022-11-04T18:06:05.126Z"
   },
   {
    "duration": 39468,
    "start_time": "2022-11-04T18:06:05.430Z"
   },
   {
    "duration": 10193,
    "start_time": "2022-11-04T18:06:44.899Z"
   },
   {
    "duration": 4,
    "start_time": "2022-11-04T18:07:16.375Z"
   },
   {
    "duration": 2,
    "start_time": "2022-11-04T18:07:44.287Z"
   },
   {
    "duration": 6,
    "start_time": "2022-11-04T18:07:44.291Z"
   },
   {
    "duration": 8,
    "start_time": "2022-11-04T18:07:44.299Z"
   },
   {
    "duration": 36,
    "start_time": "2022-11-04T18:07:44.308Z"
   },
   {
    "duration": 31,
    "start_time": "2022-11-04T18:07:44.346Z"
   },
   {
    "duration": 5,
    "start_time": "2022-11-04T18:07:44.379Z"
   },
   {
    "duration": 4515,
    "start_time": "2022-11-04T18:07:44.385Z"
   },
   {
    "duration": 413,
    "start_time": "2022-11-04T18:07:48.902Z"
   },
   {
    "duration": 6,
    "start_time": "2022-11-04T18:07:49.318Z"
   },
   {
    "duration": 15,
    "start_time": "2022-11-04T18:07:49.325Z"
   },
   {
    "duration": 5,
    "start_time": "2022-11-04T18:07:49.341Z"
   },
   {
    "duration": 19,
    "start_time": "2022-11-04T18:07:49.348Z"
   },
   {
    "duration": 4,
    "start_time": "2022-11-04T18:07:49.368Z"
   },
   {
    "duration": 7,
    "start_time": "2022-11-04T18:07:49.375Z"
   },
   {
    "duration": 366,
    "start_time": "2022-11-04T18:07:49.383Z"
   },
   {
    "duration": 277,
    "start_time": "2022-11-04T18:07:49.751Z"
   },
   {
    "duration": 39098,
    "start_time": "2022-11-04T18:07:50.029Z"
   },
   {
    "duration": 10197,
    "start_time": "2022-11-04T18:08:29.129Z"
   },
   {
    "duration": 4,
    "start_time": "2022-11-04T18:08:44.526Z"
   },
   {
    "duration": 3,
    "start_time": "2022-11-04T18:20:38.401Z"
   },
   {
    "duration": 6,
    "start_time": "2022-11-04T18:20:38.406Z"
   },
   {
    "duration": 11,
    "start_time": "2022-11-04T18:20:38.414Z"
   },
   {
    "duration": 31,
    "start_time": "2022-11-04T18:20:38.426Z"
   },
   {
    "duration": 33,
    "start_time": "2022-11-04T18:20:38.459Z"
   },
   {
    "duration": 6,
    "start_time": "2022-11-04T18:20:38.494Z"
   },
   {
    "duration": 4525,
    "start_time": "2022-11-04T18:20:38.502Z"
   },
   {
    "duration": 394,
    "start_time": "2022-11-04T18:20:43.029Z"
   },
   {
    "duration": 3,
    "start_time": "2022-11-04T18:20:43.425Z"
   },
   {
    "duration": 6,
    "start_time": "2022-11-04T18:20:43.430Z"
   },
   {
    "duration": 7,
    "start_time": "2022-11-04T18:20:43.439Z"
   },
   {
    "duration": 9,
    "start_time": "2022-11-04T18:20:43.448Z"
   },
   {
    "duration": 5,
    "start_time": "2022-11-04T18:20:43.458Z"
   },
   {
    "duration": 4,
    "start_time": "2022-11-04T18:20:43.465Z"
   },
   {
    "duration": 384,
    "start_time": "2022-11-04T18:20:43.470Z"
   },
   {
    "duration": 292,
    "start_time": "2022-11-04T18:20:43.855Z"
   },
   {
    "duration": 39033,
    "start_time": "2022-11-04T18:20:44.149Z"
   },
   {
    "duration": 10213,
    "start_time": "2022-11-04T18:21:23.184Z"
   },
   {
    "duration": 4,
    "start_time": "2022-11-04T18:21:33.398Z"
   },
   {
    "duration": 34,
    "start_time": "2022-11-04T18:21:33.403Z"
   },
   {
    "duration": 41,
    "start_time": "2022-11-04T18:21:33.438Z"
   },
   {
    "duration": 4,
    "start_time": "2022-11-04T18:22:11.457Z"
   },
   {
    "duration": 7,
    "start_time": "2022-11-04T18:23:17.732Z"
   },
   {
    "duration": 1351,
    "start_time": "2022-11-04T18:23:17.741Z"
   },
   {
    "duration": 2,
    "start_time": "2022-11-04T18:23:19.094Z"
   },
   {
    "duration": 40,
    "start_time": "2022-11-04T18:23:19.098Z"
   },
   {
    "duration": 50,
    "start_time": "2022-11-04T18:23:19.141Z"
   },
   {
    "duration": 8,
    "start_time": "2022-11-04T18:23:19.193Z"
   },
   {
    "duration": 4476,
    "start_time": "2022-11-04T18:23:19.202Z"
   },
   {
    "duration": 409,
    "start_time": "2022-11-04T18:23:23.679Z"
   },
   {
    "duration": 4,
    "start_time": "2022-11-04T18:23:24.089Z"
   },
   {
    "duration": 12,
    "start_time": "2022-11-04T18:23:24.094Z"
   },
   {
    "duration": 17,
    "start_time": "2022-11-04T18:23:24.108Z"
   },
   {
    "duration": 9,
    "start_time": "2022-11-04T18:23:24.127Z"
   },
   {
    "duration": 3,
    "start_time": "2022-11-04T18:23:24.138Z"
   },
   {
    "duration": 4,
    "start_time": "2022-11-04T18:23:24.143Z"
   },
   {
    "duration": 410,
    "start_time": "2022-11-04T18:23:28.723Z"
   },
   {
    "duration": 3,
    "start_time": "2022-11-04T18:23:33.479Z"
   },
   {
    "duration": 4,
    "start_time": "2022-11-04T18:23:36.289Z"
   },
   {
    "duration": 3,
    "start_time": "2022-11-04T18:23:37.839Z"
   },
   {
    "duration": 369,
    "start_time": "2022-11-04T18:24:29.765Z"
   },
   {
    "duration": 2,
    "start_time": "2022-11-04T18:24:34.224Z"
   },
   {
    "duration": 3,
    "start_time": "2022-11-04T18:24:34.824Z"
   },
   {
    "duration": 270,
    "start_time": "2022-11-04T18:24:51.972Z"
   },
   {
    "duration": 3,
    "start_time": "2022-11-04T18:25:00.453Z"
   },
   {
    "duration": 375,
    "start_time": "2022-11-04T18:26:51.731Z"
   },
   {
    "duration": 279,
    "start_time": "2022-11-04T18:26:57.520Z"
   },
   {
    "duration": 3,
    "start_time": "2022-11-04T18:27:05.589Z"
   },
   {
    "duration": 3,
    "start_time": "2022-11-04T18:27:06.889Z"
   },
   {
    "duration": 375,
    "start_time": "2022-11-04T18:27:43.096Z"
   },
   {
    "duration": 3,
    "start_time": "2022-11-04T18:27:46.025Z"
   },
   {
    "duration": 3,
    "start_time": "2022-11-04T18:27:46.705Z"
   },
   {
    "duration": 3,
    "start_time": "2022-11-04T18:27:52.144Z"
   },
   {
    "duration": 371,
    "start_time": "2022-11-04T18:27:54.085Z"
   },
   {
    "duration": 4,
    "start_time": "2022-11-04T18:27:57.884Z"
   },
   {
    "duration": 4,
    "start_time": "2022-11-04T18:27:58.932Z"
   },
   {
    "duration": 277,
    "start_time": "2022-11-04T18:28:02.422Z"
   },
   {
    "duration": 4,
    "start_time": "2022-11-04T18:28:05.462Z"
   },
   {
    "duration": 4,
    "start_time": "2022-11-04T18:28:06.362Z"
   },
   {
    "duration": 39225,
    "start_time": "2022-11-04T18:28:10.563Z"
   },
   {
    "duration": 3,
    "start_time": "2022-11-04T18:28:57.678Z"
   },
   {
    "duration": 4,
    "start_time": "2022-11-04T18:29:06.136Z"
   },
   {
    "duration": 10077,
    "start_time": "2022-11-04T18:29:20.122Z"
   },
   {
    "duration": 4,
    "start_time": "2022-11-04T18:29:42.044Z"
   },
   {
    "duration": 4,
    "start_time": "2022-11-04T18:29:45.373Z"
   },
   {
    "duration": 10261,
    "start_time": "2022-11-04T18:29:51.942Z"
   },
   {
    "duration": 3,
    "start_time": "2022-11-04T18:38:59.729Z"
   },
   {
    "duration": 3,
    "start_time": "2022-11-04T18:39:09.989Z"
   },
   {
    "duration": 4,
    "start_time": "2022-11-04T18:39:43.394Z"
   },
   {
    "duration": 4,
    "start_time": "2022-11-04T18:39:48.733Z"
   },
   {
    "duration": 10123,
    "start_time": "2022-11-04T18:39:53.733Z"
   },
   {
    "duration": 3,
    "start_time": "2022-11-04T18:41:12.107Z"
   },
   {
    "duration": 4,
    "start_time": "2022-11-04T18:42:01.221Z"
   },
   {
    "duration": 5,
    "start_time": "2022-11-04T18:42:05.580Z"
   },
   {
    "duration": 5,
    "start_time": "2022-11-04T18:42:09.009Z"
   },
   {
    "duration": 16,
    "start_time": "2022-11-04T18:50:53.879Z"
   },
   {
    "duration": 43,
    "start_time": "2022-11-04T18:54:30.558Z"
   },
   {
    "duration": 105,
    "start_time": "2022-11-04T18:54:59.974Z"
   },
   {
    "duration": 16,
    "start_time": "2022-11-04T18:57:41.598Z"
   },
   {
    "duration": 3,
    "start_time": "2022-11-04T19:03:20.555Z"
   },
   {
    "duration": 17,
    "start_time": "2022-11-04T19:03:44.926Z"
   },
   {
    "duration": 17,
    "start_time": "2022-11-04T19:03:51.423Z"
   },
   {
    "duration": 15,
    "start_time": "2022-11-04T19:17:56.463Z"
   },
   {
    "duration": 5,
    "start_time": "2022-11-04T19:24:08.744Z"
   },
   {
    "duration": 16,
    "start_time": "2022-11-04T19:40:04.001Z"
   },
   {
    "duration": 16,
    "start_time": "2022-11-04T19:40:07.758Z"
   },
   {
    "duration": 15,
    "start_time": "2022-11-04T19:40:14.340Z"
   },
   {
    "duration": 17,
    "start_time": "2022-11-04T19:40:18.441Z"
   },
   {
    "duration": 17,
    "start_time": "2022-11-04T19:48:32.450Z"
   },
   {
    "duration": 6,
    "start_time": "2022-11-04T19:56:56.921Z"
   },
   {
    "duration": 1301,
    "start_time": "2022-11-04T19:56:56.929Z"
   },
   {
    "duration": 3,
    "start_time": "2022-11-04T19:56:58.231Z"
   },
   {
    "duration": 39,
    "start_time": "2022-11-04T19:56:58.236Z"
   },
   {
    "duration": 37,
    "start_time": "2022-11-04T19:56:58.276Z"
   },
   {
    "duration": 5,
    "start_time": "2022-11-04T19:56:58.315Z"
   },
   {
    "duration": 4632,
    "start_time": "2022-11-04T19:56:58.321Z"
   },
   {
    "duration": 353,
    "start_time": "2022-11-04T19:57:02.955Z"
   },
   {
    "duration": 13,
    "start_time": "2022-11-04T19:57:03.309Z"
   },
   {
    "duration": 18,
    "start_time": "2022-11-04T19:57:03.325Z"
   },
   {
    "duration": 6,
    "start_time": "2022-11-04T19:57:03.345Z"
   },
   {
    "duration": 11,
    "start_time": "2022-11-04T19:57:03.352Z"
   },
   {
    "duration": 36,
    "start_time": "2022-11-04T19:57:03.364Z"
   },
   {
    "duration": 30,
    "start_time": "2022-11-04T19:57:03.401Z"
   },
   {
    "duration": 392,
    "start_time": "2022-11-04T19:57:03.433Z"
   },
   {
    "duration": 286,
    "start_time": "2022-11-04T19:57:03.826Z"
   },
   {
    "duration": 38844,
    "start_time": "2022-11-04T19:57:04.113Z"
   },
   {
    "duration": 10133,
    "start_time": "2022-11-04T19:57:42.959Z"
   },
   {
    "duration": 4,
    "start_time": "2022-11-04T19:57:53.094Z"
   },
   {
    "duration": 28,
    "start_time": "2022-11-04T19:57:53.099Z"
   },
   {
    "duration": 5,
    "start_time": "2022-11-04T19:57:53.129Z"
   },
   {
    "duration": 7,
    "start_time": "2022-11-04T20:06:19.250Z"
   },
   {
    "duration": 1274,
    "start_time": "2022-11-04T20:06:19.258Z"
   },
   {
    "duration": 3,
    "start_time": "2022-11-04T20:06:20.534Z"
   },
   {
    "duration": 33,
    "start_time": "2022-11-04T20:06:20.538Z"
   },
   {
    "duration": 36,
    "start_time": "2022-11-04T20:06:20.573Z"
   },
   {
    "duration": 5,
    "start_time": "2022-11-04T20:06:20.610Z"
   },
   {
    "duration": 4699,
    "start_time": "2022-11-04T20:06:20.617Z"
   },
   {
    "duration": 383,
    "start_time": "2022-11-04T20:06:25.321Z"
   },
   {
    "duration": 4,
    "start_time": "2022-11-04T20:06:25.705Z"
   },
   {
    "duration": 14,
    "start_time": "2022-11-04T20:06:25.711Z"
   },
   {
    "duration": 18,
    "start_time": "2022-11-04T20:06:25.726Z"
   },
   {
    "duration": 12,
    "start_time": "2022-11-04T20:06:25.746Z"
   },
   {
    "duration": 3,
    "start_time": "2022-11-04T20:06:25.760Z"
   },
   {
    "duration": 14,
    "start_time": "2022-11-04T20:06:25.765Z"
   },
   {
    "duration": 388,
    "start_time": "2022-11-04T20:06:25.780Z"
   },
   {
    "duration": 292,
    "start_time": "2022-11-04T20:06:26.169Z"
   },
   {
    "duration": 39535,
    "start_time": "2022-11-04T20:06:26.462Z"
   },
   {
    "duration": 10166,
    "start_time": "2022-11-04T20:07:05.999Z"
   },
   {
    "duration": 5,
    "start_time": "2022-11-04T20:07:16.167Z"
   },
   {
    "duration": 19,
    "start_time": "2022-11-04T20:07:16.173Z"
   },
   {
    "duration": 4,
    "start_time": "2022-11-04T20:07:16.194Z"
   },
   {
    "duration": 4,
    "start_time": "2022-11-04T20:12:50.637Z"
   },
   {
    "duration": 7,
    "start_time": "2022-11-05T10:55:08.800Z"
   },
   {
    "duration": 1923,
    "start_time": "2022-11-05T10:55:08.810Z"
   },
   {
    "duration": 2,
    "start_time": "2022-11-05T10:55:10.735Z"
   },
   {
    "duration": 128,
    "start_time": "2022-11-05T10:55:10.739Z"
   },
   {
    "duration": 40,
    "start_time": "2022-11-05T10:55:10.869Z"
   },
   {
    "duration": 11,
    "start_time": "2022-11-05T10:55:10.911Z"
   },
   {
    "duration": 4718,
    "start_time": "2022-11-05T10:55:10.923Z"
   },
   {
    "duration": 415,
    "start_time": "2022-11-05T10:55:15.643Z"
   },
   {
    "duration": 4,
    "start_time": "2022-11-05T10:55:16.061Z"
   },
   {
    "duration": 14,
    "start_time": "2022-11-05T10:55:16.066Z"
   },
   {
    "duration": 5,
    "start_time": "2022-11-05T10:55:16.083Z"
   },
   {
    "duration": 20,
    "start_time": "2022-11-05T10:55:16.089Z"
   },
   {
    "duration": 3,
    "start_time": "2022-11-05T10:55:16.110Z"
   },
   {
    "duration": 6,
    "start_time": "2022-11-05T10:55:16.115Z"
   },
   {
    "duration": 450,
    "start_time": "2022-11-05T10:55:16.122Z"
   },
   {
    "duration": 5,
    "start_time": "2022-11-05T10:55:22.885Z"
   },
   {
    "duration": 7,
    "start_time": "2022-11-05T11:06:10.766Z"
   },
   {
    "duration": 1867,
    "start_time": "2022-11-05T11:06:10.775Z"
   },
   {
    "duration": 3,
    "start_time": "2022-11-05T11:06:12.647Z"
   },
   {
    "duration": 47,
    "start_time": "2022-11-05T11:06:12.651Z"
   },
   {
    "duration": 37,
    "start_time": "2022-11-05T11:06:12.699Z"
   },
   {
    "duration": 5,
    "start_time": "2022-11-05T11:06:12.738Z"
   },
   {
    "duration": 4593,
    "start_time": "2022-11-05T11:06:12.744Z"
   },
   {
    "duration": 355,
    "start_time": "2022-11-05T11:06:17.338Z"
   },
   {
    "duration": 3,
    "start_time": "2022-11-05T11:06:17.695Z"
   },
   {
    "duration": 15,
    "start_time": "2022-11-05T11:06:17.700Z"
   },
   {
    "duration": 7,
    "start_time": "2022-11-05T11:06:17.716Z"
   },
   {
    "duration": 10,
    "start_time": "2022-11-05T11:06:17.724Z"
   },
   {
    "duration": 4,
    "start_time": "2022-11-05T11:06:17.736Z"
   },
   {
    "duration": 6,
    "start_time": "2022-11-05T11:06:17.741Z"
   },
   {
    "duration": 445,
    "start_time": "2022-11-05T11:06:17.749Z"
   },
   {
    "duration": 282,
    "start_time": "2022-11-05T11:06:18.196Z"
   },
   {
    "duration": 42816,
    "start_time": "2022-11-05T11:06:18.480Z"
   },
   {
    "duration": 2980,
    "start_time": "2022-11-05T11:07:01.297Z"
   },
   {
    "duration": 0,
    "start_time": "2022-11-05T11:07:04.279Z"
   },
   {
    "duration": 0,
    "start_time": "2022-11-05T11:07:04.281Z"
   },
   {
    "duration": 0,
    "start_time": "2022-11-05T11:07:04.281Z"
   },
   {
    "duration": 8,
    "start_time": "2022-11-05T11:07:09.287Z"
   },
   {
    "duration": 1756,
    "start_time": "2022-11-05T11:07:09.296Z"
   },
   {
    "duration": 2,
    "start_time": "2022-11-05T11:07:11.054Z"
   },
   {
    "duration": 48,
    "start_time": "2022-11-05T11:07:11.058Z"
   },
   {
    "duration": 99,
    "start_time": "2022-11-05T11:07:11.107Z"
   },
   {
    "duration": 5,
    "start_time": "2022-11-05T11:07:11.208Z"
   },
   {
    "duration": 4599,
    "start_time": "2022-11-05T11:07:11.214Z"
   },
   {
    "duration": 376,
    "start_time": "2022-11-05T11:07:15.814Z"
   },
   {
    "duration": 4,
    "start_time": "2022-11-05T11:07:16.191Z"
   },
   {
    "duration": 42,
    "start_time": "2022-11-05T11:07:16.197Z"
   },
   {
    "duration": 30,
    "start_time": "2022-11-05T11:07:16.240Z"
   },
   {
    "duration": 36,
    "start_time": "2022-11-05T11:07:16.272Z"
   },
   {
    "duration": 41,
    "start_time": "2022-11-05T11:07:16.310Z"
   },
   {
    "duration": 46,
    "start_time": "2022-11-05T11:07:16.353Z"
   },
   {
    "duration": 488,
    "start_time": "2022-11-05T11:07:16.400Z"
   },
   {
    "duration": 288,
    "start_time": "2022-11-05T11:07:16.890Z"
   },
   {
    "duration": 42894,
    "start_time": "2022-11-05T11:07:17.179Z"
   },
   {
    "duration": 10962,
    "start_time": "2022-11-05T11:08:00.075Z"
   },
   {
    "duration": 5,
    "start_time": "2022-11-05T11:08:11.039Z"
   },
   {
    "duration": 25,
    "start_time": "2022-11-05T11:08:11.046Z"
   },
   {
    "duration": 5,
    "start_time": "2022-11-05T11:08:11.072Z"
   },
   {
    "duration": 1173,
    "start_time": "2022-11-05T11:22:23.498Z"
   },
   {
    "duration": 1133,
    "start_time": "2022-11-05T11:22:45.340Z"
   },
   {
    "duration": 7,
    "start_time": "2022-11-05T11:23:56.320Z"
   },
   {
    "duration": 1785,
    "start_time": "2022-11-05T11:23:56.330Z"
   },
   {
    "duration": 4,
    "start_time": "2022-11-05T11:23:58.116Z"
   },
   {
    "duration": 41,
    "start_time": "2022-11-05T11:23:58.123Z"
   },
   {
    "duration": 45,
    "start_time": "2022-11-05T11:23:58.166Z"
   },
   {
    "duration": 6,
    "start_time": "2022-11-05T11:23:58.213Z"
   },
   {
    "duration": 4668,
    "start_time": "2022-11-05T11:23:58.221Z"
   },
   {
    "duration": 390,
    "start_time": "2022-11-05T11:24:02.890Z"
   },
   {
    "duration": 3,
    "start_time": "2022-11-05T11:24:03.282Z"
   },
   {
    "duration": 8,
    "start_time": "2022-11-05T11:24:03.288Z"
   },
   {
    "duration": 13,
    "start_time": "2022-11-05T11:24:03.297Z"
   },
   {
    "duration": 14,
    "start_time": "2022-11-05T11:24:03.312Z"
   },
   {
    "duration": 11,
    "start_time": "2022-11-05T11:24:03.328Z"
   },
   {
    "duration": 5,
    "start_time": "2022-11-05T11:24:03.341Z"
   },
   {
    "duration": 441,
    "start_time": "2022-11-05T11:24:03.348Z"
   },
   {
    "duration": 306,
    "start_time": "2022-11-05T11:24:03.790Z"
   },
   {
    "duration": 43124,
    "start_time": "2022-11-05T11:24:04.098Z"
   },
   {
    "duration": 11189,
    "start_time": "2022-11-05T11:24:47.223Z"
   },
   {
    "duration": 8,
    "start_time": "2022-11-05T11:24:58.414Z"
   },
   {
    "duration": 19,
    "start_time": "2022-11-05T11:24:58.423Z"
   },
   {
    "duration": 1183,
    "start_time": "2022-11-05T11:24:58.444Z"
   },
   {
    "duration": 5,
    "start_time": "2022-11-05T11:24:59.628Z"
   },
   {
    "duration": 907,
    "start_time": "2022-11-05T18:33:27.473Z"
   },
   {
    "duration": 8,
    "start_time": "2022-11-05T18:34:53.810Z"
   },
   {
    "duration": 1466,
    "start_time": "2022-11-05T18:34:53.820Z"
   },
   {
    "duration": 2,
    "start_time": "2022-11-05T18:34:55.288Z"
   },
   {
    "duration": 35,
    "start_time": "2022-11-05T18:34:55.292Z"
   },
   {
    "duration": 131,
    "start_time": "2022-11-05T18:34:55.329Z"
   },
   {
    "duration": 41,
    "start_time": "2022-11-05T18:34:55.462Z"
   },
   {
    "duration": 5,
    "start_time": "2022-11-05T18:34:55.505Z"
   },
   {
    "duration": 4681,
    "start_time": "2022-11-05T18:34:55.511Z"
   },
   {
    "duration": 405,
    "start_time": "2022-11-05T18:35:00.194Z"
   },
   {
    "duration": 3,
    "start_time": "2022-11-05T18:35:00.601Z"
   },
   {
    "duration": 28,
    "start_time": "2022-11-05T18:35:00.605Z"
   },
   {
    "duration": 11,
    "start_time": "2022-11-05T18:35:00.635Z"
   },
   {
    "duration": 27,
    "start_time": "2022-11-05T18:35:00.647Z"
   },
   {
    "duration": 8,
    "start_time": "2022-11-05T18:35:00.677Z"
   },
   {
    "duration": 413,
    "start_time": "2022-11-05T18:35:00.686Z"
   },
   {
    "duration": 300,
    "start_time": "2022-11-05T18:35:01.101Z"
   },
   {
    "duration": 39759,
    "start_time": "2022-11-05T18:35:01.402Z"
   },
   {
    "duration": 10183,
    "start_time": "2022-11-05T18:35:41.163Z"
   },
   {
    "duration": 5,
    "start_time": "2022-11-05T18:35:51.348Z"
   },
   {
    "duration": 30,
    "start_time": "2022-11-05T18:35:51.354Z"
   },
   {
    "duration": 1082,
    "start_time": "2022-11-05T18:35:51.385Z"
   },
   {
    "duration": 112,
    "start_time": "2022-11-05T18:35:52.469Z"
   },
   {
    "duration": 5,
    "start_time": "2022-11-05T18:37:27.284Z"
   },
   {
    "duration": 7,
    "start_time": "2022-11-05T18:40:15.764Z"
   },
   {
    "duration": 1264,
    "start_time": "2022-11-05T18:40:15.773Z"
   },
   {
    "duration": 3,
    "start_time": "2022-11-05T18:40:17.038Z"
   },
   {
    "duration": 8,
    "start_time": "2022-11-05T18:40:17.042Z"
   },
   {
    "duration": 38,
    "start_time": "2022-11-05T18:40:17.052Z"
   },
   {
    "duration": 43,
    "start_time": "2022-11-05T18:40:17.091Z"
   },
   {
    "duration": 6,
    "start_time": "2022-11-05T18:40:17.135Z"
   },
   {
    "duration": 4571,
    "start_time": "2022-11-05T18:40:17.142Z"
   },
   {
    "duration": 390,
    "start_time": "2022-11-05T18:40:21.715Z"
   },
   {
    "duration": 4,
    "start_time": "2022-11-05T18:40:22.106Z"
   },
   {
    "duration": 6,
    "start_time": "2022-11-05T18:40:22.112Z"
   },
   {
    "duration": 9,
    "start_time": "2022-11-05T18:40:22.121Z"
   },
   {
    "duration": 4,
    "start_time": "2022-11-05T18:40:22.131Z"
   },
   {
    "duration": 6,
    "start_time": "2022-11-05T18:40:22.138Z"
   },
   {
    "duration": 391,
    "start_time": "2022-11-05T18:40:22.145Z"
   },
   {
    "duration": 287,
    "start_time": "2022-11-05T18:40:22.538Z"
   },
   {
    "duration": 39486,
    "start_time": "2022-11-05T18:40:22.827Z"
   },
   {
    "duration": 10148,
    "start_time": "2022-11-05T18:41:02.315Z"
   },
   {
    "duration": 5,
    "start_time": "2022-11-05T18:41:12.465Z"
   },
   {
    "duration": 33,
    "start_time": "2022-11-05T18:41:12.471Z"
   },
   {
    "duration": 1063,
    "start_time": "2022-11-05T18:41:12.506Z"
   },
   {
    "duration": 5,
    "start_time": "2022-11-05T18:41:13.571Z"
   },
   {
    "duration": 7,
    "start_time": "2022-11-05T18:46:35.870Z"
   },
   {
    "duration": 1264,
    "start_time": "2022-11-05T18:46:35.878Z"
   },
   {
    "duration": 3,
    "start_time": "2022-11-05T18:46:37.144Z"
   },
   {
    "duration": 26,
    "start_time": "2022-11-05T18:46:37.148Z"
   },
   {
    "duration": 41,
    "start_time": "2022-11-05T18:46:37.176Z"
   },
   {
    "duration": 39,
    "start_time": "2022-11-05T18:46:37.218Z"
   },
   {
    "duration": 5,
    "start_time": "2022-11-05T18:46:37.259Z"
   },
   {
    "duration": 4540,
    "start_time": "2022-11-05T18:46:37.265Z"
   },
   {
    "duration": 379,
    "start_time": "2022-11-05T18:46:41.806Z"
   },
   {
    "duration": 4,
    "start_time": "2022-11-05T18:46:42.188Z"
   },
   {
    "duration": 7,
    "start_time": "2022-11-05T18:46:42.193Z"
   },
   {
    "duration": 10,
    "start_time": "2022-11-05T18:46:42.201Z"
   },
   {
    "duration": 12,
    "start_time": "2022-11-05T18:46:42.212Z"
   },
   {
    "duration": 7,
    "start_time": "2022-11-05T18:46:42.226Z"
   },
   {
    "duration": 414,
    "start_time": "2022-11-05T18:46:42.234Z"
   },
   {
    "duration": 300,
    "start_time": "2022-11-05T18:46:42.650Z"
   },
   {
    "duration": 39136,
    "start_time": "2022-11-05T18:46:42.952Z"
   },
   {
    "duration": 10289,
    "start_time": "2022-11-05T18:47:22.090Z"
   },
   {
    "duration": 4,
    "start_time": "2022-11-05T18:47:32.381Z"
   },
   {
    "duration": 38,
    "start_time": "2022-11-05T18:47:32.386Z"
   },
   {
    "duration": 1044,
    "start_time": "2022-11-05T18:47:32.425Z"
   },
   {
    "duration": 6,
    "start_time": "2022-11-05T18:47:33.471Z"
   },
   {
    "duration": 7,
    "start_time": "2022-11-06T09:31:34.761Z"
   },
   {
    "duration": 1587,
    "start_time": "2022-11-06T09:31:34.769Z"
   },
   {
    "duration": 3,
    "start_time": "2022-11-06T09:31:36.358Z"
   },
   {
    "duration": 4,
    "start_time": "2022-11-06T09:31:36.363Z"
   },
   {
    "duration": 44,
    "start_time": "2022-11-06T09:31:36.368Z"
   },
   {
    "duration": 38,
    "start_time": "2022-11-06T09:31:36.413Z"
   },
   {
    "duration": 148,
    "start_time": "2022-11-06T09:31:36.453Z"
   },
   {
    "duration": 4497,
    "start_time": "2022-11-06T09:31:36.602Z"
   },
   {
    "duration": 381,
    "start_time": "2022-11-06T09:31:41.108Z"
   },
   {
    "duration": 4,
    "start_time": "2022-11-06T09:31:41.492Z"
   },
   {
    "duration": 35,
    "start_time": "2022-11-06T09:31:41.497Z"
   },
   {
    "duration": 42,
    "start_time": "2022-11-06T09:31:41.534Z"
   },
   {
    "duration": 16,
    "start_time": "2022-11-06T09:31:41.577Z"
   },
   {
    "duration": 26,
    "start_time": "2022-11-06T09:31:41.595Z"
   },
   {
    "duration": 448,
    "start_time": "2022-11-06T09:31:41.622Z"
   },
   {
    "duration": 278,
    "start_time": "2022-11-06T09:31:42.072Z"
   },
   {
    "duration": 42572,
    "start_time": "2022-11-06T09:31:42.351Z"
   },
   {
    "duration": 10792,
    "start_time": "2022-11-06T09:32:24.925Z"
   },
   {
    "duration": 4,
    "start_time": "2022-11-06T09:32:35.718Z"
   },
   {
    "duration": 25,
    "start_time": "2022-11-06T09:32:35.723Z"
   },
   {
    "duration": 2062,
    "start_time": "2022-11-06T09:32:35.749Z"
   },
   {
    "duration": 5,
    "start_time": "2022-11-06T09:32:37.812Z"
   },
   {
    "duration": 2194,
    "start_time": "2022-11-06T09:37:42.407Z"
   },
   {
    "duration": 2065,
    "start_time": "2022-11-06T09:37:55.520Z"
   }
  ],
  "kernelspec": {
   "display_name": "base",
   "language": "python",
   "name": "python3"
  },
  "language_info": {
   "codemirror_mode": {
    "name": "ipython",
    "version": 3
   },
   "file_extension": ".py",
   "mimetype": "text/x-python",
   "name": "python",
   "nbconvert_exporter": "python",
   "pygments_lexer": "ipython3",
   "version": "3.9.12"
  },
  "toc": {
   "base_numbering": 1,
   "nav_menu": {},
   "number_sections": true,
   "sideBar": true,
   "skip_h1_title": true,
   "title_cell": "Table of Contents",
   "title_sidebar": "Contents",
   "toc_cell": false,
   "toc_position": {},
   "toc_section_display": true,
   "toc_window_display": false
  },
  "vscode": {
   "interpreter": {
    "hash": "fe3e2e4cba1fe2ca75dae6c481fe21229e83ac3d6dcf456a2846dc3bcef2b7a4"
   }
  }
 },
 "nbformat": 4,
 "nbformat_minor": 2
}
