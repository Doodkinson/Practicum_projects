{
 "cells": [
  {
   "cell_type": "markdown",
   "metadata": {
    "toc": true
   },
   "source": [
    "<h1>Содержание<span class=\"tocSkip\"></span></h1>\n",
    "<div class=\"toc\"><ul class=\"toc-item\"><li><span><a href=\"#Подготовка-данных\" data-toc-modified-id=\"Подготовка-данных-1\"><span class=\"toc-item-num\">1&nbsp;&nbsp;</span>Подготовка данных</a></span><ul class=\"toc-item\"><li><span><a href=\"#Импортируем-необходимые-библиотеки-и-методы\" data-toc-modified-id=\"Импортируем-необходимые-библиотеки-и-методы-1.1\"><span class=\"toc-item-num\">1.1&nbsp;&nbsp;</span>Импортируем необходимые библиотеки и методы</a></span></li><li><span><a href=\"#Прочитаем-данные\" data-toc-modified-id=\"Прочитаем-данные-1.2\"><span class=\"toc-item-num\">1.2&nbsp;&nbsp;</span>Прочитаем данные</a></span></li><li><span><a href=\"#Подготовим-данные\" data-toc-modified-id=\"Подготовим-данные-1.3\"><span class=\"toc-item-num\">1.3&nbsp;&nbsp;</span>Подготовим данные</a></span></li><li><span><a href=\"#Проверим-данные-на-мультиколлинеарность\" data-toc-modified-id=\"Проверим-данные-на-мультиколлинеарность-1.4\"><span class=\"toc-item-num\">1.4&nbsp;&nbsp;</span>Проверим данные на мультиколлинеарность</a></span></li><li><span><a href=\"#Вывод\" data-toc-modified-id=\"Вывод-1.5\"><span class=\"toc-item-num\">1.5&nbsp;&nbsp;</span>Вывод</a></span></li></ul></li><li><span><a href=\"#Исследование-задачи\" data-toc-modified-id=\"Исследование-задачи-2\"><span class=\"toc-item-num\">2&nbsp;&nbsp;</span>Исследование задачи</a></span><ul class=\"toc-item\"><li><span><a href=\"#Исследуем-баланс-классов\" data-toc-modified-id=\"Исследуем-баланс-классов-2.1\"><span class=\"toc-item-num\">2.1&nbsp;&nbsp;</span>Исследуем баланс классов</a></span></li><li><span><a href=\"#Обучим-модели-без-учёта-дисбаланса\" data-toc-modified-id=\"Обучим-модели-без-учёта-дисбаланса-2.2\"><span class=\"toc-item-num\">2.2&nbsp;&nbsp;</span>Обучим модели без учёта дисбаланса</a></span><ul class=\"toc-item\"><li><span><a href=\"#Модель-решающего-дерева\" data-toc-modified-id=\"Модель-решающего-дерева-2.2.1\"><span class=\"toc-item-num\">2.2.1&nbsp;&nbsp;</span>Модель решающего дерева</a></span></li><li><span><a href=\"#Модель-логистической-регрессии\" data-toc-modified-id=\"Модель-логистической-регрессии-2.2.2\"><span class=\"toc-item-num\">2.2.2&nbsp;&nbsp;</span>Модель логистической регрессии</a></span></li><li><span><a href=\"#Модель-случайного-леса\" data-toc-modified-id=\"Модель-случайного-леса-2.2.3\"><span class=\"toc-item-num\">2.2.3&nbsp;&nbsp;</span>Модель случайного леса</a></span></li><li><span><a href=\"#Модель-градиентного-бустинга\" data-toc-modified-id=\"Модель-градиентного-бустинга-2.2.4\"><span class=\"toc-item-num\">2.2.4&nbsp;&nbsp;</span>Модель градиентного бустинга</a></span></li></ul></li><li><span><a href=\"#Выводы\" data-toc-modified-id=\"Выводы-2.3\"><span class=\"toc-item-num\">2.3&nbsp;&nbsp;</span>Выводы</a></span></li></ul></li><li><span><a href=\"#Борьба-с-дисбалансом\" data-toc-modified-id=\"Борьба-с-дисбалансом-3\"><span class=\"toc-item-num\">3&nbsp;&nbsp;</span>Борьба с дисбалансом</a></span><ul class=\"toc-item\"><li><span><a href=\"#Upsampling\" data-toc-modified-id=\"Upsampling-3.1\"><span class=\"toc-item-num\">3.1&nbsp;&nbsp;</span>Upsampling</a></span><ul class=\"toc-item\"><li><span><a href=\"#Модель-решающего-дерева\" data-toc-modified-id=\"Модель-решающего-дерева-3.1.1\"><span class=\"toc-item-num\">3.1.1&nbsp;&nbsp;</span>Модель решающего дерева</a></span></li><li><span><a href=\"#Модель-логистической-регрессии\" data-toc-modified-id=\"Модель-логистической-регрессии-3.1.2\"><span class=\"toc-item-num\">3.1.2&nbsp;&nbsp;</span>Модель логистической регрессии</a></span></li><li><span><a href=\"#Модель-случайного-леса\" data-toc-modified-id=\"Модель-случайного-леса-3.1.3\"><span class=\"toc-item-num\">3.1.3&nbsp;&nbsp;</span>Модель случайного леса</a></span></li><li><span><a href=\"#Модель-градиентного-бустинга\" data-toc-modified-id=\"Модель-градиентного-бустинга-3.1.4\"><span class=\"toc-item-num\">3.1.4&nbsp;&nbsp;</span>Модель градиентного бустинга</a></span></li><li><span><a href=\"#Выводы\" data-toc-modified-id=\"Выводы-3.1.5\"><span class=\"toc-item-num\">3.1.5&nbsp;&nbsp;</span>Выводы</a></span></li></ul></li><li><span><a href=\"#Downsampling\" data-toc-modified-id=\"Downsampling-3.2\"><span class=\"toc-item-num\">3.2&nbsp;&nbsp;</span>Downsampling</a></span><ul class=\"toc-item\"><li><span><a href=\"#Модель-решающего-дерева\" data-toc-modified-id=\"Модель-решающего-дерева-3.2.1\"><span class=\"toc-item-num\">3.2.1&nbsp;&nbsp;</span>Модель решающего дерева</a></span></li><li><span><a href=\"#Модель-логистической-регрессии\" data-toc-modified-id=\"Модель-логистической-регрессии-3.2.2\"><span class=\"toc-item-num\">3.2.2&nbsp;&nbsp;</span>Модель логистической регрессии</a></span></li><li><span><a href=\"#Модель-случайного-леса\" data-toc-modified-id=\"Модель-случайного-леса-3.2.3\"><span class=\"toc-item-num\">3.2.3&nbsp;&nbsp;</span>Модель случайного леса</a></span></li><li><span><a href=\"#Модель-градиентного-бустинга\" data-toc-modified-id=\"Модель-градиентного-бустинга-3.2.4\"><span class=\"toc-item-num\">3.2.4&nbsp;&nbsp;</span>Модель градиентного бустинга</a></span></li><li><span><a href=\"#Выводы\" data-toc-modified-id=\"Выводы-3.2.5\"><span class=\"toc-item-num\">3.2.5&nbsp;&nbsp;</span>Выводы</a></span></li></ul></li><li><span><a href=\"#class_weight\" data-toc-modified-id=\"class_weight-3.3\"><span class=\"toc-item-num\">3.3&nbsp;&nbsp;</span>class_weight</a></span><ul class=\"toc-item\"><li><span><a href=\"#Модель-решающего-дерева\" data-toc-modified-id=\"Модель-решающего-дерева-3.3.1\"><span class=\"toc-item-num\">3.3.1&nbsp;&nbsp;</span>Модель решающего дерева</a></span></li><li><span><a href=\"#Модель-логистической-регрессии\" data-toc-modified-id=\"Модель-логистической-регрессии-3.3.2\"><span class=\"toc-item-num\">3.3.2&nbsp;&nbsp;</span>Модель логистической регрессии</a></span></li><li><span><a href=\"#Модель-случайного-леса\" data-toc-modified-id=\"Модель-случайного-леса-3.3.3\"><span class=\"toc-item-num\">3.3.3&nbsp;&nbsp;</span>Модель случайного леса</a></span></li><li><span><a href=\"#Модель-градиентного-бустинга\" data-toc-modified-id=\"Модель-градиентного-бустинга-3.3.4\"><span class=\"toc-item-num\">3.3.4&nbsp;&nbsp;</span>Модель градиентного бустинга</a></span></li><li><span><a href=\"#Выводы\" data-toc-modified-id=\"Выводы-3.3.5\"><span class=\"toc-item-num\">3.3.5&nbsp;&nbsp;</span>Выводы</a></span></li></ul></li><li><span><a href=\"#ROC-кривая-лучшей-модели\" data-toc-modified-id=\"ROC-кривая-лучшей-модели-3.4\"><span class=\"toc-item-num\">3.4&nbsp;&nbsp;</span>ROC-кривая лучшей модели</a></span></li><li><span><a href=\"#Выводы\" data-toc-modified-id=\"Выводы-3.5\"><span class=\"toc-item-num\">3.5&nbsp;&nbsp;</span>Выводы</a></span></li></ul></li><li><span><a href=\"#Тестирование-модели\" data-toc-modified-id=\"Тестирование-модели-4\"><span class=\"toc-item-num\">4&nbsp;&nbsp;</span>Тестирование модели</a></span></li><li><span><a href=\"#Выводы\" data-toc-modified-id=\"Выводы-5\"><span class=\"toc-item-num\">5&nbsp;&nbsp;</span>Выводы</a></span></li><li><span><a href=\"#Чек-лист-готовности-проекта\" data-toc-modified-id=\"Чек-лист-готовности-проекта-6\"><span class=\"toc-item-num\">6&nbsp;&nbsp;</span>Чек-лист готовности проекта</a></span></li></ul></div>"
   ]
  },
  {
   "cell_type": "markdown",
   "metadata": {},
   "source": [
    "# Отток клиентов"
   ]
  },
  {
   "cell_type": "markdown",
   "metadata": {},
   "source": [
    "Из «Бета-Банка» стали уходить клиенты. Каждый месяц. Немного, но заметно. Банковские маркетологи посчитали: сохранять текущих клиентов дешевле, чем привлекать новых.\n",
    "\n",
    "Мы спрогнозируем, уйдёт клиент из банка в ближайшее время или нет. Будем ипользовать исторические данные о поведении клиентов и расторжении договоров с банком. \n",
    "\n",
    "Постройтим модель с предельно большим значением *F1*-меры, минимальное значение доведем до 0.59, также проверим *F1*-меру на тестовой выборке.\n",
    "\n",
    "Дополнительно измерим *AUC-ROC* и сравним её значение с *F1*-мерой."
   ]
  },
  {
   "cell_type": "markdown",
   "metadata": {},
   "source": [
    "## Подготовка данных"
   ]
  },
  {
   "cell_type": "markdown",
   "metadata": {},
   "source": [
    "### Импортируем необходимые библиотеки и методы"
   ]
  },
  {
   "cell_type": "code",
   "execution_count": 2,
   "metadata": {},
   "outputs": [],
   "source": [
    "# импортируем библиотеки и методы\n",
    "import pandas as pd\n",
    "import seaborn as sns\n",
    "import matplotlib.pyplot as plt\n",
    "import numpy as np\n",
    "\n",
    "from sklearn.model_selection import train_test_split\n",
    "\n",
    "from sklearn.preprocessing import StandardScaler\n",
    "\n",
    "from sklearn.tree import DecisionTreeClassifier\n",
    "from sklearn.ensemble import RandomForestClassifier\n",
    "from sklearn.linear_model import LogisticRegression\n",
    "from sklearn.ensemble import GradientBoostingClassifier\n",
    "\n",
    "from sklearn.metrics import f1_score\n",
    "from sklearn.utils import shuffle\n",
    "from sklearn.metrics import roc_curve\n",
    "from sklearn.metrics import roc_auc_score"
   ]
  },
  {
   "cell_type": "markdown",
   "metadata": {},
   "source": [
    "Зафиксируем `random_state`:"
   ]
  },
  {
   "cell_type": "code",
   "execution_count": 3,
   "metadata": {},
   "outputs": [],
   "source": [
    "np.random.seed(274)\n",
    "RANDOM_STATE = 1001"
   ]
  },
  {
   "cell_type": "markdown",
   "metadata": {},
   "source": [
    "И отключим предупреждения:"
   ]
  },
  {
   "cell_type": "code",
   "execution_count": 4,
   "metadata": {},
   "outputs": [],
   "source": [
    "import warnings\n",
    "\n",
    "warnings.filterwarnings('ignore')"
   ]
  },
  {
   "cell_type": "markdown",
   "metadata": {},
   "source": [
    "### Прочитаем данные "
   ]
  },
  {
   "cell_type": "code",
   "execution_count": 5,
   "metadata": {},
   "outputs": [],
   "source": [
    "# откроем датасет либо локально, либо из интернета\n",
    "try:\n",
    "    df = pd.read_csv('/datasets/Churn.csv')\n",
    "except:\n",
    "    df = pd.read_csv('https://code.s3.yandex.net/datasets/Churn.csv')"
   ]
  },
  {
   "cell_type": "markdown",
   "metadata": {},
   "source": [
    "Познакомимся с данными:"
   ]
  },
  {
   "cell_type": "code",
   "execution_count": 6,
   "metadata": {},
   "outputs": [
    {
     "data": {
      "text/html": [
       "<div>\n",
       "<style scoped>\n",
       "    .dataframe tbody tr th:only-of-type {\n",
       "        vertical-align: middle;\n",
       "    }\n",
       "\n",
       "    .dataframe tbody tr th {\n",
       "        vertical-align: top;\n",
       "    }\n",
       "\n",
       "    .dataframe thead th {\n",
       "        text-align: right;\n",
       "    }\n",
       "</style>\n",
       "<table border=\"1\" class=\"dataframe\">\n",
       "  <thead>\n",
       "    <tr style=\"text-align: right;\">\n",
       "      <th></th>\n",
       "      <th>RowNumber</th>\n",
       "      <th>CustomerId</th>\n",
       "      <th>Surname</th>\n",
       "      <th>CreditScore</th>\n",
       "      <th>Geography</th>\n",
       "      <th>Gender</th>\n",
       "      <th>Age</th>\n",
       "      <th>Tenure</th>\n",
       "      <th>Balance</th>\n",
       "      <th>NumOfProducts</th>\n",
       "      <th>HasCrCard</th>\n",
       "      <th>IsActiveMember</th>\n",
       "      <th>EstimatedSalary</th>\n",
       "      <th>Exited</th>\n",
       "    </tr>\n",
       "  </thead>\n",
       "  <tbody>\n",
       "    <tr>\n",
       "      <th>0</th>\n",
       "      <td>1</td>\n",
       "      <td>15634602</td>\n",
       "      <td>Hargrave</td>\n",
       "      <td>619</td>\n",
       "      <td>France</td>\n",
       "      <td>Female</td>\n",
       "      <td>42</td>\n",
       "      <td>2.0</td>\n",
       "      <td>0.00</td>\n",
       "      <td>1</td>\n",
       "      <td>1</td>\n",
       "      <td>1</td>\n",
       "      <td>101348.88</td>\n",
       "      <td>1</td>\n",
       "    </tr>\n",
       "    <tr>\n",
       "      <th>1</th>\n",
       "      <td>2</td>\n",
       "      <td>15647311</td>\n",
       "      <td>Hill</td>\n",
       "      <td>608</td>\n",
       "      <td>Spain</td>\n",
       "      <td>Female</td>\n",
       "      <td>41</td>\n",
       "      <td>1.0</td>\n",
       "      <td>83807.86</td>\n",
       "      <td>1</td>\n",
       "      <td>0</td>\n",
       "      <td>1</td>\n",
       "      <td>112542.58</td>\n",
       "      <td>0</td>\n",
       "    </tr>\n",
       "    <tr>\n",
       "      <th>2</th>\n",
       "      <td>3</td>\n",
       "      <td>15619304</td>\n",
       "      <td>Onio</td>\n",
       "      <td>502</td>\n",
       "      <td>France</td>\n",
       "      <td>Female</td>\n",
       "      <td>42</td>\n",
       "      <td>8.0</td>\n",
       "      <td>159660.80</td>\n",
       "      <td>3</td>\n",
       "      <td>1</td>\n",
       "      <td>0</td>\n",
       "      <td>113931.57</td>\n",
       "      <td>1</td>\n",
       "    </tr>\n",
       "    <tr>\n",
       "      <th>3</th>\n",
       "      <td>4</td>\n",
       "      <td>15701354</td>\n",
       "      <td>Boni</td>\n",
       "      <td>699</td>\n",
       "      <td>France</td>\n",
       "      <td>Female</td>\n",
       "      <td>39</td>\n",
       "      <td>1.0</td>\n",
       "      <td>0.00</td>\n",
       "      <td>2</td>\n",
       "      <td>0</td>\n",
       "      <td>0</td>\n",
       "      <td>93826.63</td>\n",
       "      <td>0</td>\n",
       "    </tr>\n",
       "    <tr>\n",
       "      <th>4</th>\n",
       "      <td>5</td>\n",
       "      <td>15737888</td>\n",
       "      <td>Mitchell</td>\n",
       "      <td>850</td>\n",
       "      <td>Spain</td>\n",
       "      <td>Female</td>\n",
       "      <td>43</td>\n",
       "      <td>2.0</td>\n",
       "      <td>125510.82</td>\n",
       "      <td>1</td>\n",
       "      <td>1</td>\n",
       "      <td>1</td>\n",
       "      <td>79084.10</td>\n",
       "      <td>0</td>\n",
       "    </tr>\n",
       "  </tbody>\n",
       "</table>\n",
       "</div>"
      ],
      "text/plain": [
       "   RowNumber  CustomerId   Surname  CreditScore Geography  Gender  Age  \\\n",
       "0          1    15634602  Hargrave          619    France  Female   42   \n",
       "1          2    15647311      Hill          608     Spain  Female   41   \n",
       "2          3    15619304      Onio          502    France  Female   42   \n",
       "3          4    15701354      Boni          699    France  Female   39   \n",
       "4          5    15737888  Mitchell          850     Spain  Female   43   \n",
       "\n",
       "   Tenure    Balance  NumOfProducts  HasCrCard  IsActiveMember  \\\n",
       "0     2.0       0.00              1          1               1   \n",
       "1     1.0   83807.86              1          0               1   \n",
       "2     8.0  159660.80              3          1               0   \n",
       "3     1.0       0.00              2          0               0   \n",
       "4     2.0  125510.82              1          1               1   \n",
       "\n",
       "   EstimatedSalary  Exited  \n",
       "0        101348.88       1  \n",
       "1        112542.58       0  \n",
       "2        113931.57       1  \n",
       "3         93826.63       0  \n",
       "4         79084.10       0  "
      ]
     },
     "metadata": {},
     "output_type": "display_data"
    },
    {
     "data": {
      "text/html": [
       "<div>\n",
       "<style scoped>\n",
       "    .dataframe tbody tr th:only-of-type {\n",
       "        vertical-align: middle;\n",
       "    }\n",
       "\n",
       "    .dataframe tbody tr th {\n",
       "        vertical-align: top;\n",
       "    }\n",
       "\n",
       "    .dataframe thead th {\n",
       "        text-align: right;\n",
       "    }\n",
       "</style>\n",
       "<table border=\"1\" class=\"dataframe\">\n",
       "  <thead>\n",
       "    <tr style=\"text-align: right;\">\n",
       "      <th></th>\n",
       "      <th>RowNumber</th>\n",
       "      <th>CustomerId</th>\n",
       "      <th>CreditScore</th>\n",
       "      <th>Age</th>\n",
       "      <th>Tenure</th>\n",
       "      <th>Balance</th>\n",
       "      <th>NumOfProducts</th>\n",
       "      <th>HasCrCard</th>\n",
       "      <th>IsActiveMember</th>\n",
       "      <th>EstimatedSalary</th>\n",
       "      <th>Exited</th>\n",
       "    </tr>\n",
       "  </thead>\n",
       "  <tbody>\n",
       "    <tr>\n",
       "      <th>count</th>\n",
       "      <td>10000.00000</td>\n",
       "      <td>1.000000e+04</td>\n",
       "      <td>10000.000000</td>\n",
       "      <td>10000.000000</td>\n",
       "      <td>9091.000000</td>\n",
       "      <td>10000.000000</td>\n",
       "      <td>10000.000000</td>\n",
       "      <td>10000.00000</td>\n",
       "      <td>10000.000000</td>\n",
       "      <td>10000.000000</td>\n",
       "      <td>10000.000000</td>\n",
       "    </tr>\n",
       "    <tr>\n",
       "      <th>mean</th>\n",
       "      <td>5000.50000</td>\n",
       "      <td>1.569094e+07</td>\n",
       "      <td>650.528800</td>\n",
       "      <td>38.921800</td>\n",
       "      <td>4.997690</td>\n",
       "      <td>76485.889288</td>\n",
       "      <td>1.530200</td>\n",
       "      <td>0.70550</td>\n",
       "      <td>0.515100</td>\n",
       "      <td>100090.239881</td>\n",
       "      <td>0.203700</td>\n",
       "    </tr>\n",
       "    <tr>\n",
       "      <th>std</th>\n",
       "      <td>2886.89568</td>\n",
       "      <td>7.193619e+04</td>\n",
       "      <td>96.653299</td>\n",
       "      <td>10.487806</td>\n",
       "      <td>2.894723</td>\n",
       "      <td>62397.405202</td>\n",
       "      <td>0.581654</td>\n",
       "      <td>0.45584</td>\n",
       "      <td>0.499797</td>\n",
       "      <td>57510.492818</td>\n",
       "      <td>0.402769</td>\n",
       "    </tr>\n",
       "    <tr>\n",
       "      <th>min</th>\n",
       "      <td>1.00000</td>\n",
       "      <td>1.556570e+07</td>\n",
       "      <td>350.000000</td>\n",
       "      <td>18.000000</td>\n",
       "      <td>0.000000</td>\n",
       "      <td>0.000000</td>\n",
       "      <td>1.000000</td>\n",
       "      <td>0.00000</td>\n",
       "      <td>0.000000</td>\n",
       "      <td>11.580000</td>\n",
       "      <td>0.000000</td>\n",
       "    </tr>\n",
       "    <tr>\n",
       "      <th>25%</th>\n",
       "      <td>2500.75000</td>\n",
       "      <td>1.562853e+07</td>\n",
       "      <td>584.000000</td>\n",
       "      <td>32.000000</td>\n",
       "      <td>2.000000</td>\n",
       "      <td>0.000000</td>\n",
       "      <td>1.000000</td>\n",
       "      <td>0.00000</td>\n",
       "      <td>0.000000</td>\n",
       "      <td>51002.110000</td>\n",
       "      <td>0.000000</td>\n",
       "    </tr>\n",
       "    <tr>\n",
       "      <th>50%</th>\n",
       "      <td>5000.50000</td>\n",
       "      <td>1.569074e+07</td>\n",
       "      <td>652.000000</td>\n",
       "      <td>37.000000</td>\n",
       "      <td>5.000000</td>\n",
       "      <td>97198.540000</td>\n",
       "      <td>1.000000</td>\n",
       "      <td>1.00000</td>\n",
       "      <td>1.000000</td>\n",
       "      <td>100193.915000</td>\n",
       "      <td>0.000000</td>\n",
       "    </tr>\n",
       "    <tr>\n",
       "      <th>75%</th>\n",
       "      <td>7500.25000</td>\n",
       "      <td>1.575323e+07</td>\n",
       "      <td>718.000000</td>\n",
       "      <td>44.000000</td>\n",
       "      <td>7.000000</td>\n",
       "      <td>127644.240000</td>\n",
       "      <td>2.000000</td>\n",
       "      <td>1.00000</td>\n",
       "      <td>1.000000</td>\n",
       "      <td>149388.247500</td>\n",
       "      <td>0.000000</td>\n",
       "    </tr>\n",
       "    <tr>\n",
       "      <th>max</th>\n",
       "      <td>10000.00000</td>\n",
       "      <td>1.581569e+07</td>\n",
       "      <td>850.000000</td>\n",
       "      <td>92.000000</td>\n",
       "      <td>10.000000</td>\n",
       "      <td>250898.090000</td>\n",
       "      <td>4.000000</td>\n",
       "      <td>1.00000</td>\n",
       "      <td>1.000000</td>\n",
       "      <td>199992.480000</td>\n",
       "      <td>1.000000</td>\n",
       "    </tr>\n",
       "  </tbody>\n",
       "</table>\n",
       "</div>"
      ],
      "text/plain": [
       "         RowNumber    CustomerId   CreditScore           Age       Tenure  \\\n",
       "count  10000.00000  1.000000e+04  10000.000000  10000.000000  9091.000000   \n",
       "mean    5000.50000  1.569094e+07    650.528800     38.921800     4.997690   \n",
       "std     2886.89568  7.193619e+04     96.653299     10.487806     2.894723   \n",
       "min        1.00000  1.556570e+07    350.000000     18.000000     0.000000   \n",
       "25%     2500.75000  1.562853e+07    584.000000     32.000000     2.000000   \n",
       "50%     5000.50000  1.569074e+07    652.000000     37.000000     5.000000   \n",
       "75%     7500.25000  1.575323e+07    718.000000     44.000000     7.000000   \n",
       "max    10000.00000  1.581569e+07    850.000000     92.000000    10.000000   \n",
       "\n",
       "             Balance  NumOfProducts    HasCrCard  IsActiveMember  \\\n",
       "count   10000.000000   10000.000000  10000.00000    10000.000000   \n",
       "mean    76485.889288       1.530200      0.70550        0.515100   \n",
       "std     62397.405202       0.581654      0.45584        0.499797   \n",
       "min         0.000000       1.000000      0.00000        0.000000   \n",
       "25%         0.000000       1.000000      0.00000        0.000000   \n",
       "50%     97198.540000       1.000000      1.00000        1.000000   \n",
       "75%    127644.240000       2.000000      1.00000        1.000000   \n",
       "max    250898.090000       4.000000      1.00000        1.000000   \n",
       "\n",
       "       EstimatedSalary        Exited  \n",
       "count     10000.000000  10000.000000  \n",
       "mean     100090.239881      0.203700  \n",
       "std       57510.492818      0.402769  \n",
       "min          11.580000      0.000000  \n",
       "25%       51002.110000      0.000000  \n",
       "50%      100193.915000      0.000000  \n",
       "75%      149388.247500      0.000000  \n",
       "max      199992.480000      1.000000  "
      ]
     },
     "metadata": {},
     "output_type": "display_data"
    },
    {
     "name": "stdout",
     "output_type": "stream",
     "text": [
      "<class 'pandas.core.frame.DataFrame'>\n",
      "RangeIndex: 10000 entries, 0 to 9999\n",
      "Data columns (total 14 columns):\n",
      " #   Column           Non-Null Count  Dtype  \n",
      "---  ------           --------------  -----  \n",
      " 0   RowNumber        10000 non-null  int64  \n",
      " 1   CustomerId       10000 non-null  int64  \n",
      " 2   Surname          10000 non-null  object \n",
      " 3   CreditScore      10000 non-null  int64  \n",
      " 4   Geography        10000 non-null  object \n",
      " 5   Gender           10000 non-null  object \n",
      " 6   Age              10000 non-null  int64  \n",
      " 7   Tenure           9091 non-null   float64\n",
      " 8   Balance          10000 non-null  float64\n",
      " 9   NumOfProducts    10000 non-null  int64  \n",
      " 10  HasCrCard        10000 non-null  int64  \n",
      " 11  IsActiveMember   10000 non-null  int64  \n",
      " 12  EstimatedSalary  10000 non-null  float64\n",
      " 13  Exited           10000 non-null  int64  \n",
      "dtypes: float64(3), int64(8), object(3)\n",
      "memory usage: 1.1+ MB\n"
     ]
    }
   ],
   "source": [
    "display(df.head())\n",
    "display(df.describe())\n",
    "df.info()"
   ]
  },
  {
   "cell_type": "markdown",
   "metadata": {},
   "source": [
    "### Подготовим данные "
   ]
  },
  {
   "cell_type": "markdown",
   "metadata": {},
   "source": [
    "Можно заметить, что в данных есть абсолюно бесполезные столбцы, от которых можно спокойно избавится:  \n",
    "1.  `RowNumber` - простой столбец с нумерацией строки;\n",
    "2.  `Surname` - фамилии могут быть и неуникальными,в отличии от столбца `CustomerId`;\n",
    "3.  Собственно и сам столбец `CustomerId` не имеет аналитической ценности, если конечно все десять тысяч записей уникальны. Проверим это."
   ]
  },
  {
   "cell_type": "code",
   "execution_count": 7,
   "metadata": {},
   "outputs": [
    {
     "data": {
      "text/plain": [
       "10000"
      ]
     },
     "execution_count": 7,
     "metadata": {},
     "output_type": "execute_result"
    }
   ],
   "source": [
    "# посчитаем уникальные значения столбца `CustomerId`\n",
    "df['CustomerId'].nunique()"
   ]
  },
  {
   "cell_type": "markdown",
   "metadata": {},
   "source": [
    "Удалим столбцы `RowNumber`, `CustomerId` и `Surname`:"
   ]
  },
  {
   "cell_type": "code",
   "execution_count": 8,
   "metadata": {},
   "outputs": [
    {
     "data": {
      "text/html": [
       "<div>\n",
       "<style scoped>\n",
       "    .dataframe tbody tr th:only-of-type {\n",
       "        vertical-align: middle;\n",
       "    }\n",
       "\n",
       "    .dataframe tbody tr th {\n",
       "        vertical-align: top;\n",
       "    }\n",
       "\n",
       "    .dataframe thead th {\n",
       "        text-align: right;\n",
       "    }\n",
       "</style>\n",
       "<table border=\"1\" class=\"dataframe\">\n",
       "  <thead>\n",
       "    <tr style=\"text-align: right;\">\n",
       "      <th></th>\n",
       "      <th>CreditScore</th>\n",
       "      <th>Geography</th>\n",
       "      <th>Gender</th>\n",
       "      <th>Age</th>\n",
       "      <th>Tenure</th>\n",
       "      <th>Balance</th>\n",
       "      <th>NumOfProducts</th>\n",
       "      <th>HasCrCard</th>\n",
       "      <th>IsActiveMember</th>\n",
       "      <th>EstimatedSalary</th>\n",
       "      <th>Exited</th>\n",
       "    </tr>\n",
       "  </thead>\n",
       "  <tbody>\n",
       "    <tr>\n",
       "      <th>0</th>\n",
       "      <td>619</td>\n",
       "      <td>France</td>\n",
       "      <td>Female</td>\n",
       "      <td>42</td>\n",
       "      <td>2.0</td>\n",
       "      <td>0.00</td>\n",
       "      <td>1</td>\n",
       "      <td>1</td>\n",
       "      <td>1</td>\n",
       "      <td>101348.88</td>\n",
       "      <td>1</td>\n",
       "    </tr>\n",
       "    <tr>\n",
       "      <th>1</th>\n",
       "      <td>608</td>\n",
       "      <td>Spain</td>\n",
       "      <td>Female</td>\n",
       "      <td>41</td>\n",
       "      <td>1.0</td>\n",
       "      <td>83807.86</td>\n",
       "      <td>1</td>\n",
       "      <td>0</td>\n",
       "      <td>1</td>\n",
       "      <td>112542.58</td>\n",
       "      <td>0</td>\n",
       "    </tr>\n",
       "    <tr>\n",
       "      <th>2</th>\n",
       "      <td>502</td>\n",
       "      <td>France</td>\n",
       "      <td>Female</td>\n",
       "      <td>42</td>\n",
       "      <td>8.0</td>\n",
       "      <td>159660.80</td>\n",
       "      <td>3</td>\n",
       "      <td>1</td>\n",
       "      <td>0</td>\n",
       "      <td>113931.57</td>\n",
       "      <td>1</td>\n",
       "    </tr>\n",
       "    <tr>\n",
       "      <th>3</th>\n",
       "      <td>699</td>\n",
       "      <td>France</td>\n",
       "      <td>Female</td>\n",
       "      <td>39</td>\n",
       "      <td>1.0</td>\n",
       "      <td>0.00</td>\n",
       "      <td>2</td>\n",
       "      <td>0</td>\n",
       "      <td>0</td>\n",
       "      <td>93826.63</td>\n",
       "      <td>0</td>\n",
       "    </tr>\n",
       "    <tr>\n",
       "      <th>4</th>\n",
       "      <td>850</td>\n",
       "      <td>Spain</td>\n",
       "      <td>Female</td>\n",
       "      <td>43</td>\n",
       "      <td>2.0</td>\n",
       "      <td>125510.82</td>\n",
       "      <td>1</td>\n",
       "      <td>1</td>\n",
       "      <td>1</td>\n",
       "      <td>79084.10</td>\n",
       "      <td>0</td>\n",
       "    </tr>\n",
       "  </tbody>\n",
       "</table>\n",
       "</div>"
      ],
      "text/plain": [
       "   CreditScore Geography  Gender  Age  Tenure    Balance  NumOfProducts  \\\n",
       "0          619    France  Female   42     2.0       0.00              1   \n",
       "1          608     Spain  Female   41     1.0   83807.86              1   \n",
       "2          502    France  Female   42     8.0  159660.80              3   \n",
       "3          699    France  Female   39     1.0       0.00              2   \n",
       "4          850     Spain  Female   43     2.0  125510.82              1   \n",
       "\n",
       "   HasCrCard  IsActiveMember  EstimatedSalary  Exited  \n",
       "0          1               1        101348.88       1  \n",
       "1          0               1        112542.58       0  \n",
       "2          1               0        113931.57       1  \n",
       "3          0               0         93826.63       0  \n",
       "4          1               1         79084.10       0  "
      ]
     },
     "execution_count": 8,
     "metadata": {},
     "output_type": "execute_result"
    }
   ],
   "source": [
    "#удалим не нужные столбцы\n",
    "df = df.drop(['RowNumber', 'CustomerId','Surname'], axis=1)\n",
    "df.head(5)"
   ]
  },
  {
   "cell_type": "markdown",
   "metadata": {},
   "source": [
    "Остался последний тревожный столбец `Tenure`. В нем порядка **10%** данных - `NaN`. Удалять их - значит терять 10% потенциально хороших данных. \n",
    "\n",
    "Можно заполнить пропуски или медианным или случайным значением по столбцу. Ни в одном из вариантов распределение не одолжно сильно пострадать.\n",
    "\n",
    "Так как пропуски медианами я заполнял в предыдущих проектах, попробуем заполнить пропуски слуайным значением."
   ]
  },
  {
   "cell_type": "code",
   "execution_count": 9,
   "metadata": {},
   "outputs": [
    {
     "name": "stdout",
     "output_type": "stream",
     "text": [
      "<class 'pandas.core.frame.DataFrame'>\n",
      "RangeIndex: 10000 entries, 0 to 9999\n",
      "Data columns (total 11 columns):\n",
      " #   Column           Non-Null Count  Dtype  \n",
      "---  ------           --------------  -----  \n",
      " 0   CreditScore      10000 non-null  int64  \n",
      " 1   Geography        10000 non-null  object \n",
      " 2   Gender           10000 non-null  object \n",
      " 3   Age              10000 non-null  int64  \n",
      " 4   Tenure           10000 non-null  float64\n",
      " 5   Balance          10000 non-null  float64\n",
      " 6   NumOfProducts    10000 non-null  int64  \n",
      " 7   HasCrCard        10000 non-null  int64  \n",
      " 8   IsActiveMember   10000 non-null  int64  \n",
      " 9   EstimatedSalary  10000 non-null  float64\n",
      " 10  Exited           10000 non-null  int64  \n",
      "dtypes: float64(3), int64(6), object(2)\n",
      "memory usage: 859.5+ KB\n"
     ]
    }
   ],
   "source": [
    "# заменим пропуски с помощью `random.choice`\n",
    "df.fillna(np.random.choice(df[df['Tenure'] != np.nan]['Tenure']), inplace =True)\n",
    "df.info()"
   ]
  },
  {
   "cell_type": "markdown",
   "metadata": {},
   "source": [
    "Проверим, как сильно поменялась ситуация после заполнения `NaN` столбца `Tenure` случайными значениями:"
   ]
  },
  {
   "cell_type": "code",
   "execution_count": 10,
   "metadata": {},
   "outputs": [
    {
     "data": {
      "text/plain": [
       "count    10000.000000\n",
       "mean         4.725200\n",
       "std          2.891422\n",
       "min          0.000000\n",
       "25%          2.000000\n",
       "50%          4.000000\n",
       "75%          7.000000\n",
       "max         10.000000\n",
       "Name: Tenure, dtype: float64"
      ]
     },
     "metadata": {},
     "output_type": "display_data"
    }
   ],
   "source": [
    "display(df['Tenure'].describe())"
   ]
  },
  {
   "cell_type": "markdown",
   "metadata": {},
   "source": [
    "Ожидаемо - незначительное сползание распределения вправо, ведь любое число больше  чем ничего. Let it be like this."
   ]
  },
  {
   "cell_type": "markdown",
   "metadata": {},
   "source": [
    "Осталось одиннадцать столбцов, которые в той или иной мере помогут нам собучением наших моделей. \n",
    "\n",
    "Однако есть небольшая проблема - наши данные содержат категориальные признаки. Закрутим их в количественный вид, а `get_dummies` будет нашим гаечным ключом."
   ]
  },
  {
   "cell_type": "code",
   "execution_count": 11,
   "metadata": {
    "scrolled": true
   },
   "outputs": [
    {
     "data": {
      "text/html": [
       "<div>\n",
       "<style scoped>\n",
       "    .dataframe tbody tr th:only-of-type {\n",
       "        vertical-align: middle;\n",
       "    }\n",
       "\n",
       "    .dataframe tbody tr th {\n",
       "        vertical-align: top;\n",
       "    }\n",
       "\n",
       "    .dataframe thead th {\n",
       "        text-align: right;\n",
       "    }\n",
       "</style>\n",
       "<table border=\"1\" class=\"dataframe\">\n",
       "  <thead>\n",
       "    <tr style=\"text-align: right;\">\n",
       "      <th></th>\n",
       "      <th>CreditScore</th>\n",
       "      <th>Age</th>\n",
       "      <th>Tenure</th>\n",
       "      <th>Balance</th>\n",
       "      <th>NumOfProducts</th>\n",
       "      <th>HasCrCard</th>\n",
       "      <th>IsActiveMember</th>\n",
       "      <th>EstimatedSalary</th>\n",
       "      <th>Exited</th>\n",
       "      <th>Geography_Germany</th>\n",
       "      <th>Geography_Spain</th>\n",
       "      <th>Gender_Male</th>\n",
       "    </tr>\n",
       "  </thead>\n",
       "  <tbody>\n",
       "    <tr>\n",
       "      <th>0</th>\n",
       "      <td>619</td>\n",
       "      <td>42</td>\n",
       "      <td>2.0</td>\n",
       "      <td>0.00</td>\n",
       "      <td>1</td>\n",
       "      <td>1</td>\n",
       "      <td>1</td>\n",
       "      <td>101348.88</td>\n",
       "      <td>1</td>\n",
       "      <td>0</td>\n",
       "      <td>0</td>\n",
       "      <td>0</td>\n",
       "    </tr>\n",
       "    <tr>\n",
       "      <th>1</th>\n",
       "      <td>608</td>\n",
       "      <td>41</td>\n",
       "      <td>1.0</td>\n",
       "      <td>83807.86</td>\n",
       "      <td>1</td>\n",
       "      <td>0</td>\n",
       "      <td>1</td>\n",
       "      <td>112542.58</td>\n",
       "      <td>0</td>\n",
       "      <td>0</td>\n",
       "      <td>1</td>\n",
       "      <td>0</td>\n",
       "    </tr>\n",
       "    <tr>\n",
       "      <th>2</th>\n",
       "      <td>502</td>\n",
       "      <td>42</td>\n",
       "      <td>8.0</td>\n",
       "      <td>159660.80</td>\n",
       "      <td>3</td>\n",
       "      <td>1</td>\n",
       "      <td>0</td>\n",
       "      <td>113931.57</td>\n",
       "      <td>1</td>\n",
       "      <td>0</td>\n",
       "      <td>0</td>\n",
       "      <td>0</td>\n",
       "    </tr>\n",
       "    <tr>\n",
       "      <th>3</th>\n",
       "      <td>699</td>\n",
       "      <td>39</td>\n",
       "      <td>1.0</td>\n",
       "      <td>0.00</td>\n",
       "      <td>2</td>\n",
       "      <td>0</td>\n",
       "      <td>0</td>\n",
       "      <td>93826.63</td>\n",
       "      <td>0</td>\n",
       "      <td>0</td>\n",
       "      <td>0</td>\n",
       "      <td>0</td>\n",
       "    </tr>\n",
       "    <tr>\n",
       "      <th>4</th>\n",
       "      <td>850</td>\n",
       "      <td>43</td>\n",
       "      <td>2.0</td>\n",
       "      <td>125510.82</td>\n",
       "      <td>1</td>\n",
       "      <td>1</td>\n",
       "      <td>1</td>\n",
       "      <td>79084.10</td>\n",
       "      <td>0</td>\n",
       "      <td>0</td>\n",
       "      <td>1</td>\n",
       "      <td>0</td>\n",
       "    </tr>\n",
       "  </tbody>\n",
       "</table>\n",
       "</div>"
      ],
      "text/plain": [
       "   CreditScore  Age  Tenure    Balance  NumOfProducts  HasCrCard  \\\n",
       "0          619   42     2.0       0.00              1          1   \n",
       "1          608   41     1.0   83807.86              1          0   \n",
       "2          502   42     8.0  159660.80              3          1   \n",
       "3          699   39     1.0       0.00              2          0   \n",
       "4          850   43     2.0  125510.82              1          1   \n",
       "\n",
       "   IsActiveMember  EstimatedSalary  Exited  Geography_Germany  \\\n",
       "0               1        101348.88       1                  0   \n",
       "1               1        112542.58       0                  0   \n",
       "2               0        113931.57       1                  0   \n",
       "3               0         93826.63       0                  0   \n",
       "4               1         79084.10       0                  0   \n",
       "\n",
       "   Geography_Spain  Gender_Male  \n",
       "0                0            0  \n",
       "1                1            0  \n",
       "2                0            0  \n",
       "3                0            0  \n",
       "4                1            0  "
      ]
     },
     "execution_count": 11,
     "metadata": {},
     "output_type": "execute_result"
    }
   ],
   "source": [
    "#применим прямое кодирование и проверим\n",
    "df_ohe = pd.get_dummies(df, drop_first=True)\n",
    "df_ohe.head(5)"
   ]
  },
  {
   "cell_type": "markdown",
   "metadata": {},
   "source": [
    "### Проверим данные на мультиколлинеарность"
   ]
  },
  {
   "cell_type": "markdown",
   "metadata": {},
   "source": [
    "Построим тепловую карту:"
   ]
  },
  {
   "cell_type": "code",
   "execution_count": 12,
   "metadata": {
    "scrolled": false
   },
   "outputs": [
    {
     "data": {
      "image/png": "[encoded data removed]",
      "text/plain": [
       "<Figure size 1300x1000 with 2 Axes>"
      ]
     },
     "metadata": {},
     "output_type": "display_data"
    }
   ],
   "source": [
    "fig, ax = plt.subplots(figsize=(13,10))\n",
    "heatmap = sns.heatmap(df_ohe.corr(), vmin=-1, vmax=1, annot=True, cmap='vlag')\n",
    "heatmap.set_title('Корреляционная тепловая карта')\n",
    "plt.show()"
   ]
  },
  {
   "cell_type": "markdown",
   "metadata": {},
   "source": [
    "Ничего сверхъестественного, мультиколлинеарности не наблюдается, удалять ничего не придется. "
   ]
  },
  {
   "cell_type": "markdown",
   "metadata": {},
   "source": [
    "### Вывод"
   ]
  },
  {
   "cell_type": "markdown",
   "metadata": {},
   "source": [
    "Очень и очень неплохой датасет нам достался: данных предостаточно, распределения  симпатичны,мультиколлинеарности не наблюдается. Можно приступать к основной части задания."
   ]
  },
  {
   "cell_type": "markdown",
   "metadata": {},
   "source": [
    "## Исследование задачи"
   ]
  },
  {
   "cell_type": "markdown",
   "metadata": {},
   "source": [
    "### Исследуем баланс классов"
   ]
  },
  {
   "cell_type": "code",
   "execution_count": 13,
   "metadata": {},
   "outputs": [
    {
     "data": {
      "text/plain": [
       "0    7963\n",
       "1    2037\n",
       "Name: Exited, dtype: int64"
      ]
     },
     "execution_count": 13,
     "metadata": {},
     "output_type": "execute_result"
    }
   ],
   "source": [
    "#проверим баланс\n",
    "df['Exited'].value_counts()"
   ]
  },
  {
   "cell_type": "markdown",
   "metadata": {},
   "source": [
    "Классы несбалансированные. Но сначала проверим наши модели как есть."
   ]
  },
  {
   "cell_type": "markdown",
   "metadata": {},
   "source": [
    "### Обучим модели без учёта дисбаланса"
   ]
  },
  {
   "cell_type": "markdown",
   "metadata": {},
   "source": [
    "Выделим признаки для модели:"
   ]
  },
  {
   "cell_type": "code",
   "execution_count": 14,
   "metadata": {},
   "outputs": [],
   "source": [
    "# выделим признаки\n",
    "features = df_ohe.drop('Exited', axis=1)\n",
    "\n",
    "# выделим целевой признак\n",
    "target = df_ohe['Exited']"
   ]
  },
  {
   "cell_type": "markdown",
   "metadata": {},
   "source": [
    "Разделим данные на выборки:"
   ]
  },
  {
   "cell_type": "markdown",
   "metadata": {},
   "source": [
    "50% от датасета выделим под обучающую выборку, по четверти - валидационной и тестовой выборкам."
   ]
  },
  {
   "cell_type": "code",
   "execution_count": 15,
   "metadata": {},
   "outputs": [],
   "source": [
    "# отделим обучающую выборку\n",
    "features_train, features_test, target_train, target_test = train_test_split(\n",
    "    features, target, test_size=0.4, random_state=RANDOM_STATE, stratify=target)\n",
    "\n",
    "# разделим на тестовый и валидационный\n",
    "features_valid, features_test, target_valid, target_test = train_test_split(\n",
    "    features_test, target_test, test_size=0.5, random_state=RANDOM_STATE, stratify=target_test)"
   ]
  },
  {
   "cell_type": "markdown",
   "metadata": {},
   "source": [
    "Проверим корректность разбивки данных:"
   ]
  },
  {
   "cell_type": "code",
   "execution_count": 16,
   "metadata": {},
   "outputs": [
    {
     "name": "stdout",
     "output_type": "stream",
     "text": [
      "Cоотношения: 0.60 обучающей к 0.20 тестовой, и к 0.20 валидационной\n"
     ]
    }
   ],
   "source": [
    "print('Cоотношения:',\n",
    "      f'{len(features_train) / len(features):.2f} обучающей к '\n",
    "      f'{len(features_valid) / len(features):.2f} тестовой, и к '\n",
    "      f'{len(features_test) / len(features):.2f} валидационной')"
   ]
  },
  {
   "cell_type": "markdown",
   "metadata": {},
   "source": [
    "В результате получили три набора данных: обучающий,валидационный и тестовый.\n",
    "\n",
    "Теперь можно приступить к обучению, но сначала стандартизируем признаки:"
   ]
  },
  {
   "cell_type": "code",
   "execution_count": 17,
   "metadata": {},
   "outputs": [],
   "source": [
    "#стандартизируем признаки\n",
    "numeric = ['CreditScore', 'Age', 'Tenure', 'Balance', 'NumOfProducts', 'EstimatedSalary']\n",
    "scaler = StandardScaler()\n",
    "scaler.fit(features_train[numeric])\n",
    "features_train[numeric] = scaler.transform(features_train[numeric])\n",
    "features_valid[numeric] = scaler.transform(features_valid[numeric])\n",
    "features_test[numeric] = scaler.transform(features_test[numeric])"
   ]
  },
  {
   "cell_type": "code",
   "execution_count": 18,
   "metadata": {},
   "outputs": [
    {
     "data": {
      "text/html": [
       "<div>\n",
       "<style scoped>\n",
       "    .dataframe tbody tr th:only-of-type {\n",
       "        vertical-align: middle;\n",
       "    }\n",
       "\n",
       "    .dataframe tbody tr th {\n",
       "        vertical-align: top;\n",
       "    }\n",
       "\n",
       "    .dataframe thead th {\n",
       "        text-align: right;\n",
       "    }\n",
       "</style>\n",
       "<table border=\"1\" class=\"dataframe\">\n",
       "  <thead>\n",
       "    <tr style=\"text-align: right;\">\n",
       "      <th></th>\n",
       "      <th>CreditScore</th>\n",
       "      <th>Age</th>\n",
       "      <th>Tenure</th>\n",
       "      <th>Balance</th>\n",
       "      <th>NumOfProducts</th>\n",
       "      <th>HasCrCard</th>\n",
       "      <th>IsActiveMember</th>\n",
       "      <th>EstimatedSalary</th>\n",
       "      <th>Geography_Germany</th>\n",
       "      <th>Geography_Spain</th>\n",
       "      <th>Gender_Male</th>\n",
       "    </tr>\n",
       "  </thead>\n",
       "  <tbody>\n",
       "    <tr>\n",
       "      <th>2936</th>\n",
       "      <td>-0.538572</td>\n",
       "      <td>0.493898</td>\n",
       "      <td>1.828221</td>\n",
       "      <td>0.665027</td>\n",
       "      <td>-0.909543</td>\n",
       "      <td>1</td>\n",
       "      <td>1</td>\n",
       "      <td>-1.192496</td>\n",
       "      <td>0</td>\n",
       "      <td>0</td>\n",
       "      <td>1</td>\n",
       "    </tr>\n",
       "    <tr>\n",
       "      <th>7938</th>\n",
       "      <td>1.594188</td>\n",
       "      <td>0.018157</td>\n",
       "      <td>-0.941024</td>\n",
       "      <td>-1.231619</td>\n",
       "      <td>-0.909543</td>\n",
       "      <td>0</td>\n",
       "      <td>0</td>\n",
       "      <td>1.165886</td>\n",
       "      <td>0</td>\n",
       "      <td>0</td>\n",
       "      <td>1</td>\n",
       "    </tr>\n",
       "    <tr>\n",
       "      <th>4152</th>\n",
       "      <td>1.097234</td>\n",
       "      <td>-0.743027</td>\n",
       "      <td>1.135910</td>\n",
       "      <td>1.153014</td>\n",
       "      <td>0.810904</td>\n",
       "      <td>1</td>\n",
       "      <td>1</td>\n",
       "      <td>1.696638</td>\n",
       "      <td>1</td>\n",
       "      <td>0</td>\n",
       "      <td>1</td>\n",
       "    </tr>\n",
       "    <tr>\n",
       "      <th>3216</th>\n",
       "      <td>-0.745636</td>\n",
       "      <td>-0.743027</td>\n",
       "      <td>0.443598</td>\n",
       "      <td>1.003359</td>\n",
       "      <td>-0.909543</td>\n",
       "      <td>0</td>\n",
       "      <td>1</td>\n",
       "      <td>0.628019</td>\n",
       "      <td>1</td>\n",
       "      <td>0</td>\n",
       "      <td>1</td>\n",
       "    </tr>\n",
       "    <tr>\n",
       "      <th>6949</th>\n",
       "      <td>1.190413</td>\n",
       "      <td>-0.172139</td>\n",
       "      <td>-0.941024</td>\n",
       "      <td>0.362448</td>\n",
       "      <td>0.810904</td>\n",
       "      <td>0</td>\n",
       "      <td>1</td>\n",
       "      <td>0.835342</td>\n",
       "      <td>1</td>\n",
       "      <td>0</td>\n",
       "      <td>1</td>\n",
       "    </tr>\n",
       "  </tbody>\n",
       "</table>\n",
       "</div>"
      ],
      "text/plain": [
       "      CreditScore       Age    Tenure   Balance  NumOfProducts  HasCrCard  \\\n",
       "2936    -0.538572  0.493898  1.828221  0.665027      -0.909543          1   \n",
       "7938     1.594188  0.018157 -0.941024 -1.231619      -0.909543          0   \n",
       "4152     1.097234 -0.743027  1.135910  1.153014       0.810904          1   \n",
       "3216    -0.745636 -0.743027  0.443598  1.003359      -0.909543          0   \n",
       "6949     1.190413 -0.172139 -0.941024  0.362448       0.810904          0   \n",
       "\n",
       "      IsActiveMember  EstimatedSalary  Geography_Germany  Geography_Spain  \\\n",
       "2936               1        -1.192496                  0                0   \n",
       "7938               0         1.165886                  0                0   \n",
       "4152               1         1.696638                  1                0   \n",
       "3216               1         0.628019                  1                0   \n",
       "6949               1         0.835342                  1                0   \n",
       "\n",
       "      Gender_Male  \n",
       "2936            1  \n",
       "7938            1  \n",
       "4152            1  \n",
       "3216            1  \n",
       "6949            1  "
      ]
     },
     "execution_count": 18,
     "metadata": {},
     "output_type": "execute_result"
    }
   ],
   "source": [
    "features_test.head(5)"
   ]
  },
  {
   "cell_type": "code",
   "execution_count": 19,
   "metadata": {},
   "outputs": [],
   "source": [
    "# лучшая модель\n",
    "best_model = None\n",
    "best_result = 0"
   ]
  },
  {
   "cell_type": "markdown",
   "metadata": {},
   "source": [
    "#### Модель решающего дерева"
   ]
  },
  {
   "cell_type": "code",
   "execution_count": 20,
   "metadata": {},
   "outputs": [
    {
     "name": "stdout",
     "output_type": "stream",
     "text": [
      "Лучшая F-мера: 0.5623\n",
      "Оптимальное значение глубины дерева: 9\n"
     ]
    }
   ],
   "source": [
    "# лучший результат\n",
    "DecisionTree_result = 0\n",
    "# глубина дерева\n",
    "DecisionTree_depth = 0\n",
    "\n",
    "# найдем оптимальные значения гиперпараметров в цикле\n",
    "for depth in range(1, 50):\n",
    "    #модель решающего дерева\n",
    "    model = DecisionTreeClassifier(random_state=RANDOM_STATE, max_depth=depth)\n",
    "    model.fit(features_train, target_train)\n",
    "    \n",
    "    # посчитаем качество модели на валидационной выборке\n",
    "    predictions = model.predict(features_valid)\n",
    "    result = f1_score(target_valid, predictions)\n",
    "    \n",
    "    # сравним результаты\n",
    "    if result > DecisionTree_result:\n",
    "        DecisionTree_result = result\n",
    "        DecisionTree_depth = depth\n",
    "    \n",
    "if DecisionTree_result > best_result:\n",
    "    best_result = DecisionTree_result\n",
    "    best_model = model\n",
    "\n",
    "        \n",
    "print('Лучшая F-мера:', f'{DecisionTree_result:.4f}')\n",
    "print('Оптимальное значение глубины дерева:', DecisionTree_depth)"
   ]
  },
  {
   "cell_type": "markdown",
   "metadata": {},
   "source": [
    "#### Модель логистической регрессии"
   ]
  },
  {
   "cell_type": "code",
   "execution_count": 21,
   "metadata": {},
   "outputs": [
    {
     "name": "stdout",
     "output_type": "stream",
     "text": [
      "Лучшая F-мера: 0.28\n",
      "Лучший алгоритм оптимизации: sag\n"
     ]
    }
   ],
   "source": [
    "# лучший результат\n",
    "LogisticRegression_result = 0\n",
    "\n",
    "# лучший алгоритм оптимизации\n",
    "solver = ['sag', 'saga', 'newton-cg', 'lbfgs', 'liblinear']\n",
    "best_solver = []\n",
    "\n",
    "for i in range(len(solver)):\n",
    "    # модель логистической регрессии\n",
    "    model = LogisticRegression(random_state=RANDOM_STATE, solver=solver[i], max_iter=500)\n",
    "    model.fit(features_train, target_train)\n",
    "\n",
    "    # посчитаем качество модели на валидационной выборке\n",
    "    predictions = model.predict(features_valid)\n",
    "    result = f1_score(target_valid, predictions)\n",
    "    \n",
    "    # сравним результаты\n",
    "    if result > LogisticRegression_result:\n",
    "        LogisticRegression_result = result\n",
    "        best_solver = solver[i]\n",
    "                \n",
    "# сохраним в лучшую модель    \n",
    "if LogisticRegression_result > best_result:\n",
    "    best_result = LogisticRegression_result\n",
    "    best_model = model\n",
    "    \n",
    "print('Лучшая F-мера:',f'{LogisticRegression_result:.2f}')\n",
    "print('Лучший алгоритм оптимизации:', best_solver)"
   ]
  },
  {
   "cell_type": "markdown",
   "metadata": {},
   "source": [
    "#### Модель случайного леса"
   ]
  },
  {
   "cell_type": "code",
   "execution_count": 22,
   "metadata": {},
   "outputs": [
    {
     "name": "stdout",
     "output_type": "stream",
     "text": [
      "Лучшая F-мера:0.5853\n",
      "Оптимальная глубина дерева: 15\n",
      "Оптимальное количество деревьев: 80\n"
     ]
    }
   ],
   "source": [
    "# лучший результат\n",
    "RandomForest_result = 0\n",
    "# глубина дерева\n",
    "RandomForest_depth = 0\n",
    "# количество деревьев\n",
    "RandomForest_est = 0\n",
    "\n",
    "# найдем оптимальные значения гиперпараметров в цикле\n",
    "for est in range(5, 100, 5):\n",
    "    for depth in range(1, 20):\n",
    "        # модель леса\n",
    "        model = RandomForestClassifier(random_state=RANDOM_STATE, n_estimators=est, max_depth=depth)\n",
    "        model.fit(features_train, target_train)\n",
    "        \n",
    "        # посчитаем качество модели на валидационной выборке\n",
    "        predictions = model.predict(features_valid)\n",
    "        result = f1_score(target_valid, predictions)\n",
    "        \n",
    "        # сравним результаты\n",
    "        if result > RandomForest_result:\n",
    "            RandomForest_result = result\n",
    "            RandomForest_depth = depth\n",
    "            RandomForest_est = est\n",
    "        \n",
    "# сохраним в лучшую модель    \n",
    "if RandomForest_result > best_result:\n",
    "    best_result = RandomForest_result\n",
    "    best_model = model\n",
    "\n",
    "print('Лучшая F-мера:' f'{RandomForest_result:.4f}')\n",
    "print('Оптимальная глубина дерева:', RandomForest_depth)\n",
    "print('Оптимальное количество деревьев:', RandomForest_est)"
   ]
  },
  {
   "cell_type": "markdown",
   "metadata": {},
   "source": [
    "#### Модель градиентного бустинга"
   ]
  },
  {
   "cell_type": "code",
   "execution_count": 23,
   "metadata": {},
   "outputs": [
    {
     "name": "stdout",
     "output_type": "stream",
     "text": [
      "Лучшая F-мера:0.5837\n",
      "Оптимальное количество итераций: 67\n"
     ]
    }
   ],
   "source": [
    "# лучший результат\n",
    "GradientBoosting_result = 0\n",
    "# количество итераций\n",
    "GradientBoosting_est = 0\n",
    "\n",
    "# найдем оптимальные значения гиперпараметров в цикле\n",
    "for est in range(1, 101):\n",
    "    # модель градиентного бустинга\n",
    "    model = GradientBoostingClassifier(random_state=RANDOM_STATE, n_estimators=est)\n",
    "    model.fit(features_train, target_train)\n",
    "    \n",
    "    # посчитаем качество модели на валидационной выборке\n",
    "    predictions = model.predict(features_valid)\n",
    "    result = f1_score(target_valid, predictions)\n",
    "    \n",
    "    # сравним результаты\n",
    "    if result > GradientBoosting_result:\n",
    "        GradientBoosting_result = result\n",
    "        GradientBoosting_est = est\n",
    "        \n",
    "# сохраним в лучшую модель    \n",
    "if GradientBoosting_result > best_result:\n",
    "    best_result = GradientBoosting_result\n",
    "    best_model = model\n",
    "        \n",
    "print('Лучшая F-мера:' f'{GradientBoosting_result:.4f}')\n",
    "print('Оптимальное количество итераций:', GradientBoosting_est)"
   ]
  },
  {
   "cell_type": "markdown",
   "metadata": {},
   "source": [
    "### Выводы"
   ]
  },
  {
   "cell_type": "code",
   "execution_count": 24,
   "metadata": {},
   "outputs": [
    {
     "name": "stdout",
     "output_type": "stream",
     "text": [
      "Лучшая F-мера на обучающей выборке у RandomForestClassifier(max_depth=19, n_estimators=95, random_state=1001) с результатом: 0.5853\n"
     ]
    }
   ],
   "source": [
    "print('Лучшая F-мера на обучающей выборке у', best_model,\n",
    "      'с результатом:', f'{best_result:.4f}')"
   ]
  },
  {
   "cell_type": "code",
   "execution_count": 25,
   "metadata": {},
   "outputs": [
    {
     "name": "stdout",
     "output_type": "stream",
     "text": [
      "AUC-ROC = 0.8355\n"
     ]
    }
   ],
   "source": [
    "raw_probabilities_valid = best_model.predict_proba(features_valid)\n",
    "raw_probabilities_one_valid = raw_probabilities_valid[:, 1]\n",
    "\n",
    "fpr, tpr, thresholds = roc_curve(target_valid, raw_probabilities_one_valid)\n",
    "raw_auc_roc = roc_auc_score(target_valid, raw_probabilities_one_valid)\n",
    "\n",
    "print('AUC-ROC =', f'{raw_auc_roc:.4f}')"
   ]
  },
  {
   "cell_type": "markdown",
   "metadata": {},
   "source": [
    "В несбалансированных классах лучшей моделью оказался случайный лес. AUC-ROC лучшей несбалансированной модели - 0.8355\n",
    "\n",
    "Можно переходить к борьбе с дисбалансом."
   ]
  },
  {
   "cell_type": "markdown",
   "metadata": {},
   "source": [
    "## Борьба с дисбалансом"
   ]
  },
  {
   "cell_type": "markdown",
   "metadata": {},
   "source": [
    "Приступим к балансировке классов:\n",
    "1. проверим `Upsampling`;\n",
    "2. затем `Downsampling`;\n",
    "3. и взвесим `class_weight='balanced'` на последок.\n"
   ]
  },
  {
   "cell_type": "markdown",
   "metadata": {},
   "source": [
    "### Upsampling"
   ]
  },
  {
   "cell_type": "code",
   "execution_count": 26,
   "metadata": {},
   "outputs": [
    {
     "name": "stdout",
     "output_type": "stream",
     "text": [
      "1    4888\n",
      "0    4778\n",
      "Name: Exited, dtype: int64\n"
     ]
    }
   ],
   "source": [
    "# увеличим выборку\n",
    "def upsample(features, target, repeat):\n",
    "    features_zeros = features[target == 0]\n",
    "    features_ones = features[target == 1]\n",
    "    target_zeros = target[target == 0]\n",
    "    target_ones = target[target == 1]\n",
    "    features_upsampled = pd.concat([features_zeros] + [features_ones] * repeat)\n",
    "    target_upsampled = pd.concat([target_zeros] + [target_ones] * repeat)\n",
    "    features_upsampled, target_upsampled = shuffle(\n",
    "        features_upsampled, target_upsampled, random_state=RANDOM_STATE)\n",
    "    return features_upsampled, target_upsampled\n",
    "\n",
    "#значение подобрано \n",
    "features_upsampled, target_upsampled = upsample(features_train, target_train, 4)\n",
    "\n",
    "\n",
    "print(target_upsampled.value_counts())"
   ]
  },
  {
   "cell_type": "markdown",
   "metadata": {},
   "source": [
    "Значительно лучше - 98% вместо 25%. Приступим:"
   ]
  },
  {
   "cell_type": "code",
   "execution_count": 27,
   "metadata": {},
   "outputs": [],
   "source": [
    "# лучшая модель\n",
    "best_up_model = None\n",
    "best_up_result = 0"
   ]
  },
  {
   "cell_type": "markdown",
   "metadata": {},
   "source": [
    "#### Модель решающего дерева"
   ]
  },
  {
   "cell_type": "code",
   "execution_count": 28,
   "metadata": {},
   "outputs": [
    {
     "name": "stdout",
     "output_type": "stream",
     "text": [
      "Лучшая F-мера расширенной выборке: 0.5601\n",
      "Оптимальное значение глубины дерева: 6\n"
     ]
    }
   ],
   "source": [
    "# лучший результат\n",
    "DecisionTree_up_result = 0\n",
    "# глубина дерева\n",
    "DecisionTree_up_depth = 0\n",
    "\n",
    "# найдем оптимальные значения гиперпараметров в цикле\n",
    "for depth in range(1, 50):\n",
    "    #модель решающего дерева\n",
    "    model = DecisionTreeClassifier(random_state=RANDOM_STATE, max_depth=depth)\n",
    "    model.fit(features_upsampled, target_upsampled)\n",
    "    \n",
    "    # посчитаем качество модели на валидационной выборке\n",
    "    predictions = model.predict(features_valid)\n",
    "    result = f1_score(target_valid, predictions)\n",
    "    \n",
    "    # сравним результаты\n",
    "    if result > DecisionTree_up_result:\n",
    "        DecisionTree_up_result = result\n",
    "        DecisionTree_up_depth = depth\n",
    "    \n",
    "if DecisionTree_up_result > best_up_result:\n",
    "    best_up_result = DecisionTree_up_result\n",
    "    best_up_model = model\n",
    "\n",
    "        \n",
    "print('Лучшая F-мера расширенной выборке:', f'{DecisionTree_up_result:.4f}')\n",
    "print('Оптимальное значение глубины дерева:', DecisionTree_up_depth)"
   ]
  },
  {
   "cell_type": "markdown",
   "metadata": {},
   "source": [
    "#### Модель логистической регрессии"
   ]
  },
  {
   "cell_type": "code",
   "execution_count": 29,
   "metadata": {},
   "outputs": [
    {
     "name": "stdout",
     "output_type": "stream",
     "text": [
      "Лучшая F-мера расширенной выборке: 0.49\n",
      "Лучший алгоритм оптимизации: sag\n"
     ]
    }
   ],
   "source": [
    "# лучший результат\n",
    "LogisticRegression_up_result = 0\n",
    "\n",
    "# лучший алгоритм оптимизации\n",
    "solver = ['sag', 'saga', 'newton-cg', 'lbfgs', 'liblinear']\n",
    "best_up_solver = []\n",
    "\n",
    "for i in range(len(solver)):\n",
    "    # модель логистической регрессии\n",
    "    model = LogisticRegression(random_state=RANDOM_STATE, solver=solver[i], max_iter=500)\n",
    "    model.fit(features_upsampled, target_upsampled)\n",
    "\n",
    "    # посчитаем качество модели на валидационной выборке\n",
    "    predictions = model.predict(features_valid)\n",
    "    result = f1_score(target_valid, predictions)\n",
    "    \n",
    "    # сравним результаты\n",
    "    if result > LogisticRegression_up_result:\n",
    "        LogisticRegression_up_result = result\n",
    "        best_up_solver = solver[i]\n",
    "                \n",
    "# сохраним в лучшую модель    \n",
    "if LogisticRegression_up_result > best_result:\n",
    "    best_up_result = LogisticRegression_up_result\n",
    "    best_up_model = model\n",
    "    \n",
    "print('Лучшая F-мера расширенной выборке:',f'{LogisticRegression_up_result:.2f}')\n",
    "print('Лучший алгоритм оптимизации:', best_up_solver)"
   ]
  },
  {
   "cell_type": "markdown",
   "metadata": {},
   "source": [
    "#### Модель случайного леса"
   ]
  },
  {
   "cell_type": "code",
   "execution_count": 30,
   "metadata": {},
   "outputs": [
    {
     "name": "stdout",
     "output_type": "stream",
     "text": [
      "Лучшая F-мера расширенной выборке:0.6029\n",
      "Оптимальная глубина дерева: 11\n",
      "Оптимальное количество деревьев: 85\n"
     ]
    }
   ],
   "source": [
    "# лучший результат\n",
    "RandomForest_up_result = 0\n",
    "# глубина дерева\n",
    "RandomForest_up_depth = 0\n",
    "# количество деревьев\n",
    "RandomForest_up_est = 0\n",
    "\n",
    "# найдем оптимальные значения гиперпараметров в цикле\n",
    "for est in range(5, 100, 5):\n",
    "    for depth in range(1, 20):\n",
    "        # модель леса\n",
    "        model = RandomForestClassifier(random_state=RANDOM_STATE, n_estimators=est, max_depth=depth)\n",
    "        model.fit(features_upsampled, target_upsampled)\n",
    "        \n",
    "        # посчитаем качество модели на валидационной выборке\n",
    "        predictions = model.predict(features_valid)\n",
    "        result = f1_score(target_valid, predictions)\n",
    "        \n",
    "        # сравним результаты\n",
    "        if result > RandomForest_up_result:\n",
    "            RandomForest_up_result = result\n",
    "            RandomForest_up_depth = depth\n",
    "            RandomForest_up_est = est\n",
    "        \n",
    "# сохраним в лучшую модель    \n",
    "if RandomForest_up_result > best_up_result:\n",
    "    best_up_result = RandomForest_up_result\n",
    "    best_up_model = model\n",
    "\n",
    "print('Лучшая F-мера расширенной выборке:' f'{RandomForest_up_result:.4f}')\n",
    "print('Оптимальная глубина дерева:', RandomForest_up_depth)\n",
    "print('Оптимальное количество деревьев:', RandomForest_up_est)"
   ]
  },
  {
   "cell_type": "markdown",
   "metadata": {},
   "source": [
    "#### Модель градиентного бустинга"
   ]
  },
  {
   "cell_type": "code",
   "execution_count": 31,
   "metadata": {},
   "outputs": [
    {
     "name": "stdout",
     "output_type": "stream",
     "text": [
      "Лучшая F-мера расширенной выборке:0.5834\n",
      "Оптимальное количество итераций: 44\n"
     ]
    }
   ],
   "source": [
    "# лучший результат\n",
    "GradientBoosting_up_result = 0\n",
    "# количество итераций\n",
    "GradientBoosting_up_est = 0\n",
    "\n",
    "# найдем оптимальные значения гиперпараметров в цикле\n",
    "for est in range(1, 101):\n",
    "    # модель градиентного бустинга\n",
    "    model = GradientBoostingClassifier(random_state=RANDOM_STATE, n_estimators=est)\n",
    "    model.fit(features_upsampled, target_upsampled)\n",
    "    \n",
    "    # посчитаем качество модели на валидационной выборке\n",
    "    predictions = model.predict(features_valid)\n",
    "    result = f1_score(target_valid, predictions)\n",
    "    \n",
    "    # сравним результаты\n",
    "    if result > GradientBoosting_up_result:\n",
    "        GradientBoosting_up_result = result\n",
    "        GradientBoosting_up_est = est\n",
    "        \n",
    "# сохраним в лучшую модель    \n",
    "if GradientBoosting_up_result > best_up_result:\n",
    "    best_up_result = GradientBoosting_up_result\n",
    "    best_up_model = model\n",
    "        \n",
    "print('Лучшая F-мера расширенной выборке:' f'{GradientBoosting_up_result:.4f}')\n",
    "print('Оптимальное количество итераций:', GradientBoosting_up_est)"
   ]
  },
  {
   "cell_type": "markdown",
   "metadata": {},
   "source": [
    "#### Выводы"
   ]
  },
  {
   "cell_type": "code",
   "execution_count": 32,
   "metadata": {
    "scrolled": true
   },
   "outputs": [
    {
     "name": "stdout",
     "output_type": "stream",
     "text": [
      "Лучшая F-мера на расширенной обучающей выборке у RandomForestClassifier(max_depth=19, n_estimators=95, random_state=1001) с результатом: 0.6029\n"
     ]
    }
   ],
   "source": [
    "print('Лучшая F-мера на расширенной обучающей выборке у', best_up_model,\n",
    "      'с результатом:', f'{best_up_result:.4f}')"
   ]
  },
  {
   "cell_type": "markdown",
   "metadata": {},
   "source": [
    "На увеличенной выборке все **модели улучшили F-меру**. Все **кроме решающего дерева** (никогда ей не доверял ლ(ಠ_ಠ ლ))."
   ]
  },
  {
   "cell_type": "markdown",
   "metadata": {},
   "source": [
    "### Downsampling"
   ]
  },
  {
   "cell_type": "code",
   "execution_count": 33,
   "metadata": {},
   "outputs": [
    {
     "name": "stdout",
     "output_type": "stream",
     "text": [
      "1    1222\n",
      "0    1218\n",
      "Name: Exited, dtype: int64\n"
     ]
    }
   ],
   "source": [
    "# уменьшием выборку\n",
    "def downsample(features, target, fraction):\n",
    "    features_zeros = features[target == 0]\n",
    "    features_ones = features[target == 1]\n",
    "    target_zeros = target[target == 0]\n",
    "    target_ones = target[target == 1]\n",
    "    features_downsampled = pd.concat([features_zeros.sample(frac=fraction, random_state=12345)] + [features_ones])\n",
    "    target_downsampled = pd.concat([target_zeros.sample(frac=fraction, random_state=12345)] + [target_ones])\n",
    "    features_downsampled, target_downsampled = shuffle(features_downsampled, target_downsampled, random_state=12345)\n",
    "    return features_downsampled, target_downsampled\n",
    "\n",
    "features_downsampled, target_downsampled = downsample(features_train, target_train, 0.255)\n",
    "\n",
    "\n",
    "print(target_downsampled.value_counts())"
   ]
  },
  {
   "cell_type": "markdown",
   "metadata": {},
   "source": [
    "Отношение 99%. Посмотрим что из этого получится:"
   ]
  },
  {
   "cell_type": "code",
   "execution_count": 34,
   "metadata": {},
   "outputs": [],
   "source": [
    "# лучшая модель\n",
    "best_down_model = None\n",
    "best_down_result = 0"
   ]
  },
  {
   "cell_type": "markdown",
   "metadata": {},
   "source": [
    "#### Модель решающего дерева"
   ]
  },
  {
   "cell_type": "code",
   "execution_count": 35,
   "metadata": {},
   "outputs": [
    {
     "name": "stdout",
     "output_type": "stream",
     "text": [
      "Лучшая F-мера уменьшеной выборке: 0.5431\n",
      "Оптимальное значение глубины дерева: 7\n"
     ]
    }
   ],
   "source": [
    "# лучший результат\n",
    "DecisionTree_down_result = 0\n",
    "# глубина дерева\n",
    "DecisionTree_down_depth = 0\n",
    "\n",
    "# найдем оптимальные значения гиперпараметров в цикле\n",
    "for depth in range(1, 50):\n",
    "    #модель решающего дерева\n",
    "    model = DecisionTreeClassifier(random_state=RANDOM_STATE, max_depth=depth)\n",
    "    model.fit(features_downsampled, target_downsampled)\n",
    "    \n",
    "    # посчитаем качество модели на валидационной выборке\n",
    "    predictions = model.predict(features_valid)\n",
    "    result = f1_score(target_valid, predictions)\n",
    "    \n",
    "    # сравним результаты\n",
    "    if result > DecisionTree_down_result:\n",
    "        DecisionTree_down_result = result\n",
    "        DecisionTree_down_depth = depth\n",
    "    \n",
    "if DecisionTree_result > best_down_result:\n",
    "    best_down_result = DecisionTree_down_result\n",
    "    best_down_model = model\n",
    "\n",
    "        \n",
    "print('Лучшая F-мера уменьшеной выборке:', f'{DecisionTree_down_result:.4f}')\n",
    "print('Оптимальное значение глубины дерева:', DecisionTree_down_depth)"
   ]
  },
  {
   "cell_type": "markdown",
   "metadata": {},
   "source": [
    "#### Модель логистической регрессии"
   ]
  },
  {
   "cell_type": "code",
   "execution_count": 36,
   "metadata": {},
   "outputs": [
    {
     "name": "stdout",
     "output_type": "stream",
     "text": [
      "Лучшая F-мера уменьшеной выборке: 0.50\n",
      "Лучший алгоритм оптимизации: liblinear\n"
     ]
    }
   ],
   "source": [
    "# лучший результат\n",
    "LogisticRegression_down_result = 0\n",
    "\n",
    "# лучший алгоритм оптимизации\n",
    "solver = ['sag', 'saga', 'newton-cg', 'lbfgs', 'liblinear']\n",
    "best_down_solver = []\n",
    "\n",
    "for i in range(len(solver)):\n",
    "    # модель логистической регрессии\n",
    "    model = LogisticRegression(random_state=RANDOM_STATE, solver=solver[i], max_iter=500)\n",
    "    model.fit(features_downsampled, target_downsampled)\n",
    "\n",
    "    # посчитаем качество модели на валидационной выборке\n",
    "    predictions = model.predict(features_valid)\n",
    "    result = f1_score(target_valid, predictions)\n",
    "    \n",
    "    # сравним результаты\n",
    "    if result > LogisticRegression_down_result:\n",
    "        LogisticRegression_down_result = result\n",
    "        best_down_solver = solver[i]\n",
    "                \n",
    "# сохраним в лучшую модель    \n",
    "if LogisticRegression_down_result > best_down_result:\n",
    "    best_down_result = LogisticRegression_down_result\n",
    "    best_down_model = model\n",
    "    \n",
    "print('Лучшая F-мера уменьшеной выборке:',f'{LogisticRegression_down_result:.2f}')\n",
    "print('Лучший алгоритм оптимизации:', best_down_solver)"
   ]
  },
  {
   "cell_type": "markdown",
   "metadata": {},
   "source": [
    "#### Модель случайного леса"
   ]
  },
  {
   "cell_type": "code",
   "execution_count": 37,
   "metadata": {},
   "outputs": [
    {
     "name": "stdout",
     "output_type": "stream",
     "text": [
      "Лучшая F-мера уменьшеной выборке:0.5774\n",
      "Оптимальная глубина дерева: 8\n",
      "Оптимальное количество деревьев: 25\n"
     ]
    }
   ],
   "source": [
    "# лучший результат\n",
    "RandomForest_down_result = 0\n",
    "# глубина дерева\n",
    "RandomForest_down_depth = 0\n",
    "# количество деревьев\n",
    "RandomForest_down_est = 0\n",
    "\n",
    "# найдем оптимальные значения гиперпараметров в цикле\n",
    "for est in range(5, 100, 5):\n",
    "    for depth in range(1, 20):\n",
    "        # модель леса\n",
    "        model = RandomForestClassifier(random_state=RANDOM_STATE, n_estimators=est, max_depth=depth)\n",
    "        model.fit(features_downsampled, target_downsampled)\n",
    "        \n",
    "        # посчитаем качество модели на валидационной выборке\n",
    "        predictions = model.predict(features_valid)\n",
    "        result = f1_score(target_valid, predictions)\n",
    "        \n",
    "        # сравним результаты\n",
    "        if result > RandomForest_down_result:\n",
    "            RandomForest_down_result = result\n",
    "            RandomForest_down_depth = depth\n",
    "            RandomForest_down_est = est\n",
    "        \n",
    "# сохраним в лучшую модель    \n",
    "if RandomForest_down_result > best_down_result:\n",
    "    best_down_result = RandomForest_down_result\n",
    "    best_down_model = model\n",
    "\n",
    "print('Лучшая F-мера уменьшеной выборке:' f'{RandomForest_down_result:.4f}')\n",
    "print('Оптимальная глубина дерева:', RandomForest_down_depth)\n",
    "print('Оптимальное количество деревьев:', RandomForest_down_est)"
   ]
  },
  {
   "cell_type": "markdown",
   "metadata": {},
   "source": [
    "#### Модель градиентного бустинга"
   ]
  },
  {
   "cell_type": "code",
   "execution_count": 38,
   "metadata": {
    "scrolled": true
   },
   "outputs": [
    {
     "name": "stdout",
     "output_type": "stream",
     "text": [
      "Лучшая F-мера уменьшеной выборке:0.5758\n",
      "Оптимальное количество итераций: 36\n"
     ]
    }
   ],
   "source": [
    "# лучший результат\n",
    "GradientBoosting_down_result = 0\n",
    "# количество итераций\n",
    "GradientBoosting_down_est = 0\n",
    "\n",
    "# найдем оптимальные значения гиперпараметров в цикле\n",
    "for est in range(1, 101):\n",
    "    # модель градиентного бустинга\n",
    "    model = GradientBoostingClassifier(random_state=RANDOM_STATE, n_estimators=est)\n",
    "    model.fit(features_downsampled, target_downsampled)\n",
    "    \n",
    "    # посчитаем качество модели на валидационной выборке\n",
    "    predictions = model.predict(features_valid)\n",
    "    result = f1_score(target_valid, predictions)\n",
    "    \n",
    "    # сравним результаты\n",
    "    if result > GradientBoosting_down_result:\n",
    "        GradientBoosting_down_result = result\n",
    "        GradientBoosting_down_est = est\n",
    "        \n",
    "# сохраним в лучшую модель    \n",
    "if GradientBoosting_down_result > best_down_result:\n",
    "    best_down_result = GradientBoosting_down_result\n",
    "    best_down_model = model\n",
    "        \n",
    "print('Лучшая F-мера уменьшеной выборке:' f'{GradientBoosting_down_result:.4f}')\n",
    "print('Оптимальное количество итераций:', GradientBoosting_down_est)"
   ]
  },
  {
   "cell_type": "markdown",
   "metadata": {},
   "source": [
    "#### Выводы"
   ]
  },
  {
   "cell_type": "code",
   "execution_count": 39,
   "metadata": {
    "scrolled": true
   },
   "outputs": [
    {
     "name": "stdout",
     "output_type": "stream",
     "text": [
      "Лучшая F-мера уменьшеной обучающей выборке у RandomForestClassifier(max_depth=19, n_estimators=95, random_state=1001) с результатом: 0.5774\n"
     ]
    }
   ],
   "source": [
    "print('Лучшая F-мера уменьшеной обучающей выборке у', best_down_model,\n",
    "      'с результатом:', f'{best_down_result:.4f}')"
   ]
  },
  {
   "cell_type": "markdown",
   "metadata": {},
   "source": [
    "Чудовищное **падение F-меры** на уменьшеной выборке **у каждой модели**. Разбаллансирока имеет огромное значение и в данном случае это наглядно видно!"
   ]
  },
  {
   "cell_type": "markdown",
   "metadata": {},
   "source": [
    "### class_weight"
   ]
  },
  {
   "cell_type": "code",
   "execution_count": 40,
   "metadata": {},
   "outputs": [],
   "source": [
    "# лучшая модель\n",
    "best_weight_model = None\n",
    "best_weight_result = 0"
   ]
  },
  {
   "cell_type": "markdown",
   "metadata": {},
   "source": [
    "#### Модель решающего дерева"
   ]
  },
  {
   "cell_type": "code",
   "execution_count": 41,
   "metadata": {},
   "outputs": [
    {
     "name": "stdout",
     "output_type": "stream",
     "text": [
      "Лучшая F-мера с увеличенным весом редких объектов: 0.5590\n",
      "Оптимальное значение глубины дерева: 6\n"
     ]
    }
   ],
   "source": [
    "# лучший результат\n",
    "DecisionTree_weight_result = 0\n",
    "# глубина дерева\n",
    "DecisionTree_weight_depth = 0\n",
    "\n",
    "# найдем оптимальные значения гиперпараметров в цикле\n",
    "for depth in range(1, 50):\n",
    "    #модель решающего дерева\n",
    "    model = DecisionTreeClassifier(random_state=RANDOM_STATE, max_depth=depth, class_weight='balanced')\n",
    "    model.fit(features_train, target_train)\n",
    "    \n",
    "    # посчитаем качество модели на валидационной выборке\n",
    "    predictions = model.predict(features_valid)\n",
    "    result = f1_score(target_valid, predictions)\n",
    "    \n",
    "    # сравним результаты\n",
    "    if result > DecisionTree_weight_result:\n",
    "        DecisionTree_weight_result = result\n",
    "        DecisionTree_weight_depth = depth\n",
    "    \n",
    "if DecisionTree_weight_result > best_weight_result:\n",
    "    best_weight_result = DecisionTree_weight_result\n",
    "    best_weight_model = model\n",
    "\n",
    "        \n",
    "print('Лучшая F-мера с увеличенным весом редких объектов:', f'{DecisionTree_weight_result:.4f}')\n",
    "print('Оптимальное значение глубины дерева:', DecisionTree_weight_depth)"
   ]
  },
  {
   "cell_type": "markdown",
   "metadata": {},
   "source": [
    "#### Модель логистической регрессии"
   ]
  },
  {
   "cell_type": "code",
   "execution_count": 42,
   "metadata": {},
   "outputs": [
    {
     "name": "stdout",
     "output_type": "stream",
     "text": [
      "Лучшая F-мера с увеличенным весом редких объектов: 0.49\n",
      "Лучший алгоритм оптимизации: sag\n"
     ]
    }
   ],
   "source": [
    "# лучший результат\n",
    "LogisticRegression_weight_result = 0\n",
    "\n",
    "# лучший алгоритм оптимизации\n",
    "solver = ['sag', 'saga', 'newton-cg', 'lbfgs', 'liblinear']\n",
    "best_weight_solver = []\n",
    "\n",
    "for i in range(len(solver)):\n",
    "    # модель логистической регрессии\n",
    "    model = LogisticRegression(random_state=RANDOM_STATE, solver=solver[i], max_iter=500, class_weight='balanced')\n",
    "    model.fit(features_train, target_train)\n",
    "\n",
    "    # посчитаем качество модели на валидационной выборке\n",
    "    predictions = model.predict(features_valid)\n",
    "    result = f1_score(target_valid, predictions)\n",
    "    \n",
    "    # сравним результаты\n",
    "    if result > LogisticRegression_weight_result:\n",
    "        LogisticRegression_weight_result = result\n",
    "        best_weight_solver = solver[i]\n",
    "                \n",
    "# сохраним в лучшую модель    \n",
    "if LogisticRegression_result > best_weight_result:\n",
    "    best_weight_result = LogisticRegression_weight_result\n",
    "    best_weight_model = model\n",
    "    \n",
    "print('Лучшая F-мера с увеличенным весом редких объектов:',f'{LogisticRegression_weight_result:.2f}')\n",
    "print('Лучший алгоритм оптимизации:', best_weight_solver)"
   ]
  },
  {
   "cell_type": "markdown",
   "metadata": {},
   "source": [
    "#### Модель случайного леса"
   ]
  },
  {
   "cell_type": "code",
   "execution_count": 43,
   "metadata": {},
   "outputs": [
    {
     "name": "stdout",
     "output_type": "stream",
     "text": [
      "Лучшая F-мера с увеличенным весом редких объектов:0.6127\n",
      "Оптимальная глубина дерева: 10\n",
      "Оптимальное количество деревьев: 75\n"
     ]
    }
   ],
   "source": [
    "# лучший результат\n",
    "RandomForest_weight_result = 0\n",
    "# глубина дерева\n",
    "RandomForest_weight_depth = 0\n",
    "# количество деревьев\n",
    "RandomForest_weight_est = 0\n",
    "\n",
    "# найдем оптимальные значения гиперпараметров в цикле\n",
    "for est in range(5, 100, 5):\n",
    "    for depth in range(1, 20):\n",
    "        # модель леса\n",
    "        model = RandomForestClassifier(random_state=RANDOM_STATE, n_estimators=est, max_depth=depth, class_weight='balanced')\n",
    "        model.fit(features_train, target_train)\n",
    "        \n",
    "        # посчитаем качество модели на валидационной выборке\n",
    "        predictions = model.predict(features_valid)\n",
    "        result = f1_score(target_valid, predictions)\n",
    "        \n",
    "        # сравним результаты\n",
    "        if result > RandomForest_weight_result:\n",
    "            RandomForest_weight_result = result\n",
    "            RandomForest_weight_depth = depth\n",
    "            RandomForest_weight_est = est\n",
    "        \n",
    "# сохраним в лучшую модель    \n",
    "if RandomForest_weight_result > best_weight_result:\n",
    "    best_weight_result = RandomForest_weight_result\n",
    "    best_weight_model = model\n",
    "\n",
    "print('Лучшая F-мера с увеличенным весом редких объектов:' f'{RandomForest_weight_result:.4f}')\n",
    "print('Оптимальная глубина дерева:', RandomForest_weight_depth)\n",
    "print('Оптимальное количество деревьев:', RandomForest_weight_est)"
   ]
  },
  {
   "cell_type": "markdown",
   "metadata": {},
   "source": [
    "#### Модель градиентного бустинга"
   ]
  },
  {
   "cell_type": "markdown",
   "metadata": {},
   "source": [
    "Для модели градиентно бустинга нет гиперпараметра `class_weight`. Чтож, ей же хуже."
   ]
  },
  {
   "cell_type": "markdown",
   "metadata": {},
   "source": [
    "#### Выводы"
   ]
  },
  {
   "cell_type": "code",
   "execution_count": 44,
   "metadata": {
    "scrolled": true
   },
   "outputs": [
    {
     "name": "stdout",
     "output_type": "stream",
     "text": [
      "Лучшая F-мера с увеличенным весом редких объектов\n",
      " у RandomForestClassifier(class_weight='balanced', max_depth=19, n_estimators=95,\n",
      "                       random_state=1001) с результатом: 0.6127\n"
     ]
    }
   ],
   "source": [
    "print('Лучшая F-мера с увеличенным весом редких объектов\\n у', best_weight_model,\n",
    "      'с результатом:', f'{best_weight_result:.4f}')"
   ]
  },
  {
   "cell_type": "markdown",
   "metadata": {},
   "source": [
    "Вес классов вернул веру в модели и похоже что мы нашли победителя!"
   ]
  },
  {
   "cell_type": "markdown",
   "metadata": {},
   "source": [
    "###  ROC-кривая лучшей модели"
   ]
  },
  {
   "cell_type": "markdown",
   "metadata": {},
   "source": [
    "Лучшая F-мера у **RandomForestClassifier** с увеличенным весом с результатом: 0.6042. Построим ROC-криваую:"
   ]
  },
  {
   "cell_type": "code",
   "execution_count": 45,
   "metadata": {
    "scrolled": false
   },
   "outputs": [
    {
     "data": {
      "image/png": "[encoded data removed]",
      "text/plain": [
       "<Figure size 1300x1000 with 1 Axes>"
      ]
     },
     "metadata": {},
     "output_type": "display_data"
    },
    {
     "name": "stdout",
     "output_type": "stream",
     "text": [
      "AUC-ROC =   0.8375\n"
     ]
    }
   ],
   "source": [
    "# ROC-кривая нашей модели\n",
    "plt.figure(figsize=[13,10])\n",
    "plt.plot([0, 1], [0, 1], linestyle='--', label='RandomModel')\n",
    "best_weight_model.fit(features_train, target_train)\n",
    "probabilities_valid = best_weight_model.predict_proba(features_valid)\n",
    "probabilities_one_valid = probabilities_valid[:, 1]\n",
    "fpr, tpr, thresholds = roc_curve(target_valid, probabilities_one_valid)\n",
    "auc_roc = roc_auc_score(target_valid, probabilities_one_valid)\n",
    "\n",
    "\n",
    "# ROC-кривая случайной модели\n",
    "plt.plot(fpr, tpr, label='RandomForestClassifier')\n",
    "plt.xlim([0.0, 1.0])\n",
    "plt.ylim([0.0, 1.0])\n",
    "plt.xlabel('False Positive')\n",
    "plt.ylabel('True Positive')\n",
    "plt.title('ROC-кривая')\n",
    "plt.legend(loc='lower right', fontsize='x-large')\n",
    "plt.show()\n",
    "\n",
    "print('AUC-ROC =  ', f'{auc_roc:.4f}')"
   ]
  },
  {
   "cell_type": "markdown",
   "metadata": {},
   "source": [
    "### Выводы"
   ]
  },
  {
   "attachments": {},
   "cell_type": "markdown",
   "metadata": {},
   "source": [
    "Борьба с дисбалансом дала свои результаты: `Upsamling` и `Downsampling` показали себя не так хорошо (а в случае с `Downsampling` прям-таки плохо) как развесовка.\n",
    "\n",
    "После борьбы с дисбалансом у нас определилась **лучшая модель**, это **RandomForestClassifier с результатом: 0.6127.**"
   ]
  },
  {
   "cell_type": "markdown",
   "metadata": {},
   "source": [
    "## Тестирование модели"
   ]
  },
  {
   "cell_type": "markdown",
   "metadata": {},
   "source": [
    "Проведем финальное тестирование лучшей модели:"
   ]
  },
  {
   "cell_type": "code",
   "execution_count": 46,
   "metadata": {},
   "outputs": [
    {
     "name": "stdout",
     "output_type": "stream",
     "text": [
      "Лучшая F-мера: 0.6110283159463487\n",
      "AUC-ROC = 0.862590372204158\n"
     ]
    }
   ],
   "source": [
    "best_weight_model.fit(features_train, target_train)\n",
    "\n",
    "\n",
    "full_predictions = best_weight_model.predict(features_test) \n",
    "full_result = f1_score(target_test, full_predictions)\n",
    "\n",
    "print(\"Лучшая F-мера:\", full_result)\n",
    "\n",
    "full_probabilities_test = best_weight_model.predict_proba(features_test)\n",
    "full_probabilities_one_test = full_probabilities_test[:, 1]\n",
    "\n",
    "fpr, tpr, thresholds = roc_curve(target_test, full_probabilities_one_test)\n",
    "full_auc_roc = roc_auc_score(target_test, full_probabilities_one_test)\n",
    "\n",
    "print('AUC-ROC =', full_auc_roc)"
   ]
  },
  {
   "cell_type": "markdown",
   "metadata": {},
   "source": [
    "## Выводы"
   ]
  },
  {
   "attachments": {},
   "cell_type": "markdown",
   "metadata": {},
   "source": [
    "По результатам работы проведена подготовка данных. При аналазе выяснилось, что данные дисбалансы. Обучили несколько моделей (подбор гиперпараметров провели в цикле), проверили работу моделей на данных с балансом и без. \n",
    "\n",
    "Среди моделей абсолютным лидером стал **RandomForestClassifier**. На баллансных и дисбалансных данных он показывал лучшие результаты.\n",
    "\n",
    "Лучшим методом борьбы с дисбалансом стал  **class_weight** - гиперпараметр, который позволяет увеличить вес редких объектов. \n",
    "\n",
    "Лучшая **F-мера** у **RandomForestClassifier**. По результату тестирования модели получено значение в **0.6127**, что  вполне удовлевтвояряет условию поставленной задачи. **AUC-ROC** модели равен **0.8375**. Весьма неплохой результат. Подученную модель можно использовать для предсказания \"уйдет клиент из «Бета-Банка» или нет\"."
   ]
  }
 ],
 "metadata": {
  "ExecuteTimeLog": [
   {
    "duration": 84,
    "start_time": "2022-11-22T07:35:00.369Z"
   },
   {
    "duration": 1504,
    "start_time": "2022-11-22T07:35:06.653Z"
   },
   {
    "duration": 4,
    "start_time": "2022-11-22T07:36:35.205Z"
   },
   {
    "duration": 3,
    "start_time": "2022-11-22T07:36:35.500Z"
   },
   {
    "duration": 81,
    "start_time": "2022-11-22T07:36:35.844Z"
   },
   {
    "duration": 4,
    "start_time": "2022-11-22T07:37:23.250Z"
   },
   {
    "duration": 3,
    "start_time": "2022-11-22T07:37:23.490Z"
   },
   {
    "duration": 40,
    "start_time": "2022-11-22T07:37:24.715Z"
   },
   {
    "duration": 15,
    "start_time": "2022-11-22T07:38:21.707Z"
   },
   {
    "duration": 39,
    "start_time": "2022-11-22T07:38:29.645Z"
   },
   {
    "duration": 12,
    "start_time": "2022-11-22T07:38:30.001Z"
   },
   {
    "duration": 118,
    "start_time": "2022-11-22T07:39:15.443Z"
   },
   {
    "duration": 57,
    "start_time": "2022-11-22T07:39:40.944Z"
   },
   {
    "duration": 68,
    "start_time": "2022-11-22T07:41:13.613Z"
   },
   {
    "duration": 8757,
    "start_time": "2022-11-22T08:07:55.751Z"
   },
   {
    "duration": 20827,
    "start_time": "2022-11-22T08:08:11.907Z"
   },
   {
    "duration": 58766,
    "start_time": "2022-11-22T08:09:43.653Z"
   },
   {
    "duration": 58147,
    "start_time": "2022-11-22T08:13:30.280Z"
   },
   {
    "duration": 6,
    "start_time": "2022-11-26T10:34:19.830Z"
   },
   {
    "duration": 1515,
    "start_time": "2022-11-26T10:50:33.948Z"
   },
   {
    "duration": 2,
    "start_time": "2022-11-26T10:50:35.465Z"
   },
   {
    "duration": 196,
    "start_time": "2022-11-26T10:50:38.365Z"
   },
   {
    "duration": 60,
    "start_time": "2022-11-26T10:50:39.259Z"
   },
   {
    "duration": 59,
    "start_time": "2022-11-26T11:03:28.536Z"
   },
   {
    "duration": 68,
    "start_time": "2022-11-26T11:03:41.271Z"
   },
   {
    "duration": 22,
    "start_time": "2022-11-26T11:03:47.223Z"
   },
   {
    "duration": 6,
    "start_time": "2022-11-26T11:04:54.691Z"
   },
   {
    "duration": 7,
    "start_time": "2022-11-26T11:04:57.749Z"
   },
   {
    "duration": 20,
    "start_time": "2022-11-26T11:05:14.124Z"
   },
   {
    "duration": 22,
    "start_time": "2022-11-26T11:05:36.090Z"
   },
   {
    "duration": 12,
    "start_time": "2022-11-26T11:05:56.638Z"
   },
   {
    "duration": 5,
    "start_time": "2022-11-26T11:08:18.586Z"
   },
   {
    "duration": 8,
    "start_time": "2022-11-26T11:08:23.609Z"
   },
   {
    "duration": 109,
    "start_time": "2022-11-26T11:08:29.575Z"
   },
   {
    "duration": 5,
    "start_time": "2022-11-26T11:08:35.659Z"
   },
   {
    "duration": 8,
    "start_time": "2022-12-04T14:47:28.570Z"
   },
   {
    "duration": 1433,
    "start_time": "2022-12-04T14:48:12.106Z"
   },
   {
    "duration": 3,
    "start_time": "2022-12-04T14:48:15.337Z"
   },
   {
    "duration": 90,
    "start_time": "2022-12-04T14:48:16.984Z"
   },
   {
    "duration": 16,
    "start_time": "2022-12-04T14:48:18.386Z"
   },
   {
    "duration": 1061,
    "start_time": "2022-12-04T14:48:27.619Z"
   },
   {
    "duration": 105,
    "start_time": "2022-12-04T14:53:31.004Z"
   },
   {
    "duration": 13,
    "start_time": "2022-12-04T14:53:43.008Z"
   },
   {
    "duration": 19,
    "start_time": "2022-12-04T14:53:56.836Z"
   },
   {
    "duration": 4,
    "start_time": "2022-12-04T14:55:41.361Z"
   },
   {
    "duration": 3,
    "start_time": "2022-12-04T14:55:50.998Z"
   },
   {
    "duration": 3,
    "start_time": "2022-12-04T14:55:54.480Z"
   },
   {
    "duration": 8,
    "start_time": "2022-12-04T14:56:04.602Z"
   },
   {
    "duration": 5,
    "start_time": "2022-12-04T14:56:10.616Z"
   },
   {
    "duration": 9,
    "start_time": "2022-12-04T14:56:23.099Z"
   },
   {
    "duration": 9,
    "start_time": "2022-12-04T14:56:30.847Z"
   },
   {
    "duration": 4,
    "start_time": "2022-12-04T14:57:41.581Z"
   },
   {
    "duration": 5,
    "start_time": "2022-12-04T14:59:47.565Z"
   },
   {
    "duration": 12,
    "start_time": "2022-12-04T15:00:02.409Z"
   },
   {
    "duration": 720,
    "start_time": "2022-12-04T15:01:11.415Z"
   },
   {
    "duration": 3,
    "start_time": "2022-12-04T15:01:18.432Z"
   },
   {
    "duration": 3,
    "start_time": "2022-12-04T15:01:18.443Z"
   },
   {
    "duration": 51,
    "start_time": "2022-12-04T15:01:18.448Z"
   },
   {
    "duration": 21,
    "start_time": "2022-12-04T15:01:18.500Z"
   },
   {
    "duration": 4,
    "start_time": "2022-12-04T15:01:18.523Z"
   },
   {
    "duration": 6,
    "start_time": "2022-12-04T15:16:26.928Z"
   },
   {
    "duration": 4,
    "start_time": "2022-12-04T15:16:39.232Z"
   },
   {
    "duration": 13,
    "start_time": "2022-12-04T15:16:51.460Z"
   },
   {
    "duration": 15,
    "start_time": "2022-12-04T15:17:39.076Z"
   },
   {
    "duration": 1359,
    "start_time": "2022-12-04T15:20:19.843Z"
   },
   {
    "duration": 2,
    "start_time": "2022-12-04T15:20:21.204Z"
   },
   {
    "duration": 97,
    "start_time": "2022-12-04T15:20:21.207Z"
   },
   {
    "duration": 27,
    "start_time": "2022-12-04T15:20:21.306Z"
   },
   {
    "duration": 5,
    "start_time": "2022-12-04T15:20:21.335Z"
   },
   {
    "duration": 13,
    "start_time": "2022-12-04T15:20:29.776Z"
   },
   {
    "duration": 21,
    "start_time": "2022-12-04T15:20:41.279Z"
   },
   {
    "duration": 17,
    "start_time": "2022-12-04T15:20:49.344Z"
   },
   {
    "duration": 24,
    "start_time": "2022-12-04T15:42:51.601Z"
   },
   {
    "duration": 24,
    "start_time": "2022-12-04T15:44:27.951Z"
   },
   {
    "duration": 27,
    "start_time": "2022-12-04T16:18:29.394Z"
   },
   {
    "duration": 1333,
    "start_time": "2022-12-04T16:19:38.667Z"
   },
   {
    "duration": 3,
    "start_time": "2022-12-04T16:19:40.002Z"
   },
   {
    "duration": 48,
    "start_time": "2022-12-04T16:19:40.006Z"
   },
   {
    "duration": 24,
    "start_time": "2022-12-04T16:19:40.056Z"
   },
   {
    "duration": 5,
    "start_time": "2022-12-04T16:19:40.081Z"
   },
   {
    "duration": 21,
    "start_time": "2022-12-04T16:19:40.088Z"
   },
   {
    "duration": 25,
    "start_time": "2022-12-04T16:19:40.111Z"
   },
   {
    "duration": 22,
    "start_time": "2022-12-04T16:19:40.137Z"
   },
   {
    "duration": 1375,
    "start_time": "2022-12-04T17:10:14.338Z"
   },
   {
    "duration": 3,
    "start_time": "2022-12-04T17:10:16.094Z"
   },
   {
    "duration": 42,
    "start_time": "2022-12-04T17:10:17.029Z"
   },
   {
    "duration": 25,
    "start_time": "2022-12-04T17:10:17.275Z"
   },
   {
    "duration": 5,
    "start_time": "2022-12-04T17:10:19.913Z"
   },
   {
    "duration": 13,
    "start_time": "2022-12-04T17:10:20.836Z"
   },
   {
    "duration": 20,
    "start_time": "2022-12-04T17:10:25.977Z"
   },
   {
    "duration": 25,
    "start_time": "2022-12-04T17:12:23.997Z"
   },
   {
    "duration": 26,
    "start_time": "2022-12-04T17:12:28.298Z"
   },
   {
    "duration": 1328,
    "start_time": "2022-12-04T17:23:36.705Z"
   },
   {
    "duration": 3,
    "start_time": "2022-12-04T17:23:39.701Z"
   },
   {
    "duration": 39,
    "start_time": "2022-12-04T17:23:40.690Z"
   },
   {
    "duration": 27,
    "start_time": "2022-12-04T17:23:41.255Z"
   },
   {
    "duration": 5,
    "start_time": "2022-12-04T17:23:45.540Z"
   },
   {
    "duration": 13,
    "start_time": "2022-12-04T17:23:46.834Z"
   },
   {
    "duration": 18,
    "start_time": "2022-12-04T17:23:57.866Z"
   },
   {
    "duration": 18,
    "start_time": "2022-12-04T17:24:01.109Z"
   },
   {
    "duration": 19,
    "start_time": "2022-12-04T17:24:06.640Z"
   },
   {
    "duration": 20,
    "start_time": "2022-12-04T17:24:14.036Z"
   },
   {
    "duration": 26,
    "start_time": "2022-12-04T17:24:16.264Z"
   },
   {
    "duration": 106,
    "start_time": "2022-12-04T17:24:33.121Z"
   },
   {
    "duration": 15,
    "start_time": "2022-12-04T17:24:41.000Z"
   },
   {
    "duration": 37,
    "start_time": "2022-12-04T17:24:44.698Z"
   },
   {
    "duration": 4,
    "start_time": "2022-12-04T17:24:51.324Z"
   },
   {
    "duration": 14,
    "start_time": "2022-12-04T17:24:51.331Z"
   },
   {
    "duration": 51,
    "start_time": "2022-12-04T17:24:51.347Z"
   },
   {
    "duration": 21,
    "start_time": "2022-12-04T17:24:51.400Z"
   },
   {
    "duration": 5,
    "start_time": "2022-12-04T17:24:51.423Z"
   },
   {
    "duration": 20,
    "start_time": "2022-12-04T17:24:51.429Z"
   },
   {
    "duration": 25,
    "start_time": "2022-12-04T17:24:51.451Z"
   },
   {
    "duration": 18,
    "start_time": "2022-12-04T17:24:53.925Z"
   },
   {
    "duration": 14,
    "start_time": "2022-12-04T17:25:14.585Z"
   },
   {
    "duration": 1332,
    "start_time": "2022-12-04T17:29:40.624Z"
   },
   {
    "duration": 3,
    "start_time": "2022-12-04T17:29:41.957Z"
   },
   {
    "duration": 57,
    "start_time": "2022-12-04T17:29:41.961Z"
   },
   {
    "duration": 27,
    "start_time": "2022-12-04T17:29:42.020Z"
   },
   {
    "duration": 5,
    "start_time": "2022-12-04T17:29:42.048Z"
   },
   {
    "duration": 13,
    "start_time": "2022-12-04T17:29:42.055Z"
   },
   {
    "duration": 6,
    "start_time": "2022-12-04T17:30:03.689Z"
   },
   {
    "duration": 44,
    "start_time": "2022-12-04T17:30:11.755Z"
   },
   {
    "duration": 6,
    "start_time": "2022-12-04T17:30:14.797Z"
   },
   {
    "duration": 24,
    "start_time": "2022-12-04T17:30:22.919Z"
   },
   {
    "duration": 5,
    "start_time": "2022-12-04T17:30:27.568Z"
   },
   {
    "duration": 19,
    "start_time": "2022-12-04T17:30:47.466Z"
   },
   {
    "duration": 57,
    "start_time": "2022-12-04T17:31:36.108Z"
   },
   {
    "duration": 875,
    "start_time": "2022-12-04T17:31:40.142Z"
   },
   {
    "duration": 1208,
    "start_time": "2022-12-04T17:32:23.382Z"
   },
   {
    "duration": 3,
    "start_time": "2022-12-04T17:36:10.742Z"
   },
   {
    "duration": 122,
    "start_time": "2022-12-04T17:43:18.614Z"
   },
   {
    "duration": 50,
    "start_time": "2022-12-04T17:43:38.297Z"
   },
   {
    "duration": 48,
    "start_time": "2022-12-04T17:43:40.301Z"
   },
   {
    "duration": 52,
    "start_time": "2022-12-04T17:43:54.850Z"
   },
   {
    "duration": 5,
    "start_time": "2022-12-04T17:44:13.796Z"
   },
   {
    "duration": 13,
    "start_time": "2022-12-04T17:44:13.803Z"
   },
   {
    "duration": 46,
    "start_time": "2022-12-04T17:44:13.818Z"
   },
   {
    "duration": 55,
    "start_time": "2022-12-04T17:44:18.081Z"
   },
   {
    "duration": 4,
    "start_time": "2022-12-04T17:44:57.257Z"
   },
   {
    "duration": 16,
    "start_time": "2022-12-04T17:44:59.425Z"
   },
   {
    "duration": 34,
    "start_time": "2022-12-04T17:45:14.295Z"
   },
   {
    "duration": 15,
    "start_time": "2022-12-04T17:45:23.566Z"
   },
   {
    "duration": 14,
    "start_time": "2022-12-04T17:45:25.742Z"
   },
   {
    "duration": 32,
    "start_time": "2022-12-04T17:45:32.396Z"
   },
   {
    "duration": 7,
    "start_time": "2022-12-04T17:46:31.152Z"
   },
   {
    "duration": 10,
    "start_time": "2022-12-04T17:47:50.806Z"
   },
   {
    "duration": 1467,
    "start_time": "2022-12-04T17:48:17.261Z"
   },
   {
    "duration": 3,
    "start_time": "2022-12-04T17:48:18.730Z"
   },
   {
    "duration": 60,
    "start_time": "2022-12-04T17:48:18.735Z"
   },
   {
    "duration": 80,
    "start_time": "2022-12-04T17:48:18.797Z"
   },
   {
    "duration": 40,
    "start_time": "2022-12-04T17:48:18.880Z"
   },
   {
    "duration": 5,
    "start_time": "2022-12-04T17:48:18.921Z"
   },
   {
    "duration": 29,
    "start_time": "2022-12-04T17:48:18.928Z"
   },
   {
    "duration": 26,
    "start_time": "2022-12-04T17:48:18.975Z"
   },
   {
    "duration": 16,
    "start_time": "2022-12-04T17:48:24.285Z"
   },
   {
    "duration": 9,
    "start_time": "2022-12-04T17:48:26.919Z"
   },
   {
    "duration": 10,
    "start_time": "2022-12-04T17:52:25.957Z"
   },
   {
    "duration": 4,
    "start_time": "2022-12-04T17:52:33.155Z"
   },
   {
    "duration": 705,
    "start_time": "2022-12-04T17:52:33.162Z"
   },
   {
    "duration": 0,
    "start_time": "2022-12-04T17:52:33.869Z"
   },
   {
    "duration": 0,
    "start_time": "2022-12-04T17:52:33.870Z"
   },
   {
    "duration": 0,
    "start_time": "2022-12-04T17:52:33.872Z"
   },
   {
    "duration": 0,
    "start_time": "2022-12-04T17:52:33.873Z"
   },
   {
    "duration": 0,
    "start_time": "2022-12-04T17:52:33.874Z"
   },
   {
    "duration": 0,
    "start_time": "2022-12-04T17:52:33.874Z"
   },
   {
    "duration": 0,
    "start_time": "2022-12-04T17:52:33.876Z"
   },
   {
    "duration": 4,
    "start_time": "2022-12-04T17:52:58.210Z"
   },
   {
    "duration": 6,
    "start_time": "2022-12-04T17:52:58.217Z"
   },
   {
    "duration": 45,
    "start_time": "2022-12-04T17:52:58.224Z"
   },
   {
    "duration": 56,
    "start_time": "2022-12-04T17:52:58.270Z"
   },
   {
    "duration": 5,
    "start_time": "2022-12-04T17:52:58.328Z"
   },
   {
    "duration": 19,
    "start_time": "2022-12-04T17:52:58.335Z"
   },
   {
    "duration": 25,
    "start_time": "2022-12-04T17:52:58.356Z"
   },
   {
    "duration": 15,
    "start_time": "2022-12-04T17:52:58.383Z"
   },
   {
    "duration": 9,
    "start_time": "2022-12-04T17:52:58.400Z"
   },
   {
    "duration": 17,
    "start_time": "2022-12-04T17:53:10.199Z"
   },
   {
    "duration": 9,
    "start_time": "2022-12-04T17:53:13.810Z"
   },
   {
    "duration": 1347,
    "start_time": "2022-12-04T17:55:54.430Z"
   },
   {
    "duration": 3,
    "start_time": "2022-12-04T17:55:55.779Z"
   },
   {
    "duration": 51,
    "start_time": "2022-12-04T17:55:55.783Z"
   },
   {
    "duration": 58,
    "start_time": "2022-12-04T17:55:55.836Z"
   },
   {
    "duration": 4,
    "start_time": "2022-12-04T17:55:55.895Z"
   },
   {
    "duration": 14,
    "start_time": "2022-12-04T17:55:55.900Z"
   },
   {
    "duration": 13,
    "start_time": "2022-12-04T17:55:55.916Z"
   },
   {
    "duration": 14,
    "start_time": "2022-12-04T17:55:55.930Z"
   },
   {
    "duration": 8,
    "start_time": "2022-12-04T17:55:55.945Z"
   },
   {
    "duration": 19,
    "start_time": "2022-12-04T17:56:18.941Z"
   },
   {
    "duration": 8,
    "start_time": "2022-12-04T17:56:21.403Z"
   },
   {
    "duration": 24,
    "start_time": "2022-12-04T18:03:46.513Z"
   },
   {
    "duration": 4,
    "start_time": "2022-12-04T18:03:52.554Z"
   },
   {
    "duration": 10,
    "start_time": "2022-12-04T18:03:52.559Z"
   },
   {
    "duration": 59,
    "start_time": "2022-12-04T18:03:52.570Z"
   },
   {
    "duration": 58,
    "start_time": "2022-12-04T18:03:52.630Z"
   },
   {
    "duration": 5,
    "start_time": "2022-12-04T18:03:52.690Z"
   },
   {
    "duration": 27,
    "start_time": "2022-12-04T18:03:52.696Z"
   },
   {
    "duration": 27,
    "start_time": "2022-12-04T18:03:52.725Z"
   },
   {
    "duration": 8,
    "start_time": "2022-12-04T18:03:52.754Z"
   },
   {
    "duration": 1460,
    "start_time": "2022-12-04T18:04:31.136Z"
   },
   {
    "duration": 3,
    "start_time": "2022-12-04T18:04:32.598Z"
   },
   {
    "duration": 44,
    "start_time": "2022-12-04T18:04:40.020Z"
   },
   {
    "duration": 63,
    "start_time": "2022-12-04T18:04:40.775Z"
   },
   {
    "duration": 5,
    "start_time": "2022-12-04T18:04:42.781Z"
   },
   {
    "duration": 13,
    "start_time": "2022-12-04T18:04:43.645Z"
   },
   {
    "duration": 17,
    "start_time": "2022-12-04T18:04:46.567Z"
   },
   {
    "duration": 16,
    "start_time": "2022-12-04T18:05:27.604Z"
   },
   {
    "duration": 9,
    "start_time": "2022-12-04T18:05:31.681Z"
   },
   {
    "duration": 20,
    "start_time": "2022-12-04T18:05:51.961Z"
   },
   {
    "duration": 18,
    "start_time": "2022-12-04T18:05:54.191Z"
   },
   {
    "duration": 1247,
    "start_time": "2022-12-04T18:06:27.303Z"
   },
   {
    "duration": 1361,
    "start_time": "2022-12-04T18:50:49.583Z"
   },
   {
    "duration": 2,
    "start_time": "2022-12-04T18:50:50.946Z"
   },
   {
    "duration": 53,
    "start_time": "2022-12-04T18:50:50.950Z"
   },
   {
    "duration": 61,
    "start_time": "2022-12-04T18:50:51.005Z"
   },
   {
    "duration": 9,
    "start_time": "2022-12-04T18:50:51.068Z"
   },
   {
    "duration": 19,
    "start_time": "2022-12-04T18:50:51.079Z"
   },
   {
    "duration": 30,
    "start_time": "2022-12-04T18:50:51.100Z"
   },
   {
    "duration": 9,
    "start_time": "2022-12-04T18:50:51.132Z"
   },
   {
    "duration": 38,
    "start_time": "2022-12-04T18:50:51.142Z"
   },
   {
    "duration": 1111,
    "start_time": "2022-12-04T18:50:51.182Z"
   },
   {
    "duration": 5,
    "start_time": "2022-12-04T18:50:52.294Z"
   },
   {
    "duration": 60,
    "start_time": "2022-12-04T18:50:52.301Z"
   },
   {
    "duration": 15,
    "start_time": "2022-12-04T18:51:18.957Z"
   },
   {
    "duration": 8,
    "start_time": "2022-12-04T18:51:21.595Z"
   },
   {
    "duration": 20,
    "start_time": "2022-12-04T18:51:23.749Z"
   },
   {
    "duration": 1057,
    "start_time": "2022-12-04T18:51:27.306Z"
   },
   {
    "duration": 6,
    "start_time": "2022-12-04T20:54:53.562Z"
   },
   {
    "duration": 46,
    "start_time": "2022-12-04T20:55:51.434Z"
   },
   {
    "duration": 2,
    "start_time": "2022-12-04T20:59:53.665Z"
   },
   {
    "duration": 4,
    "start_time": "2022-12-04T21:04:00.029Z"
   },
   {
    "duration": 5,
    "start_time": "2022-12-04T21:04:24.965Z"
   },
   {
    "duration": 11,
    "start_time": "2022-12-04T21:05:41.181Z"
   },
   {
    "duration": 3,
    "start_time": "2022-12-04T21:05:43.065Z"
   },
   {
    "duration": 3,
    "start_time": "2022-12-04T21:06:59.266Z"
   },
   {
    "duration": 184,
    "start_time": "2022-12-04T21:09:37.564Z"
   },
   {
    "duration": 2,
    "start_time": "2022-12-04T21:10:20.889Z"
   },
   {
    "duration": 21,
    "start_time": "2022-12-04T21:10:25.975Z"
   },
   {
    "duration": 28,
    "start_time": "2022-12-04T21:11:45.066Z"
   },
   {
    "duration": 1237,
    "start_time": "2022-12-04T21:13:15.630Z"
   },
   {
    "duration": 1185,
    "start_time": "2022-12-04T21:15:31.091Z"
   },
   {
    "duration": 1204,
    "start_time": "2022-12-04T21:16:11.064Z"
   },
   {
    "duration": 11,
    "start_time": "2022-12-04T21:17:10.826Z"
   },
   {
    "duration": 4,
    "start_time": "2022-12-04T21:17:26.904Z"
   },
   {
    "duration": 1262,
    "start_time": "2022-12-04T21:17:40.010Z"
   },
   {
    "duration": 3,
    "start_time": "2022-12-04T21:17:41.273Z"
   },
   {
    "duration": 43,
    "start_time": "2022-12-04T21:17:41.277Z"
   },
   {
    "duration": 56,
    "start_time": "2022-12-04T21:17:41.322Z"
   },
   {
    "duration": 4,
    "start_time": "2022-12-04T21:17:41.379Z"
   },
   {
    "duration": 15,
    "start_time": "2022-12-04T21:17:41.385Z"
   },
   {
    "duration": 14,
    "start_time": "2022-12-04T21:17:41.401Z"
   },
   {
    "duration": 7,
    "start_time": "2022-12-04T21:17:41.417Z"
   },
   {
    "duration": 16,
    "start_time": "2022-12-04T21:17:41.425Z"
   },
   {
    "duration": 1161,
    "start_time": "2022-12-04T21:17:41.444Z"
   },
   {
    "duration": 7,
    "start_time": "2022-12-04T21:17:42.607Z"
   },
   {
    "duration": 15,
    "start_time": "2022-12-04T21:18:01.600Z"
   },
   {
    "duration": 9,
    "start_time": "2022-12-04T21:18:02.919Z"
   },
   {
    "duration": 18,
    "start_time": "2022-12-04T21:18:05.986Z"
   },
   {
    "duration": 6,
    "start_time": "2022-12-04T21:18:16.344Z"
   },
   {
    "duration": 16,
    "start_time": "2022-12-04T21:18:16.353Z"
   },
   {
    "duration": 52,
    "start_time": "2022-12-04T21:18:16.370Z"
   },
   {
    "duration": 52,
    "start_time": "2022-12-04T21:18:16.424Z"
   },
   {
    "duration": 4,
    "start_time": "2022-12-04T21:18:16.478Z"
   },
   {
    "duration": 14,
    "start_time": "2022-12-04T21:18:16.484Z"
   },
   {
    "duration": 15,
    "start_time": "2022-12-04T21:18:16.500Z"
   },
   {
    "duration": 7,
    "start_time": "2022-12-04T21:18:16.517Z"
   },
   {
    "duration": 17,
    "start_time": "2022-12-04T21:18:16.525Z"
   },
   {
    "duration": 12,
    "start_time": "2022-12-04T21:18:45.721Z"
   },
   {
    "duration": 14,
    "start_time": "2022-12-04T21:18:58.065Z"
   },
   {
    "duration": 9,
    "start_time": "2022-12-04T21:19:03.719Z"
   },
   {
    "duration": 18,
    "start_time": "2022-12-04T21:19:06.093Z"
   },
   {
    "duration": 1106,
    "start_time": "2022-12-04T21:19:08.763Z"
   },
   {
    "duration": 6,
    "start_time": "2022-12-04T21:19:18.038Z"
   },
   {
    "duration": 6,
    "start_time": "2022-12-04T21:20:03.132Z"
   },
   {
    "duration": 11,
    "start_time": "2022-12-04T21:20:04.566Z"
   },
   {
    "duration": 3,
    "start_time": "2022-12-04T21:20:05.938Z"
   },
   {
    "duration": 2,
    "start_time": "2022-12-04T21:20:07.434Z"
   },
   {
    "duration": 1491,
    "start_time": "2022-12-04T21:20:09.214Z"
   },
   {
    "duration": 2,
    "start_time": "2022-12-04T21:21:00.610Z"
   },
   {
    "duration": 1269,
    "start_time": "2022-12-04T21:21:34.731Z"
   },
   {
    "duration": 3,
    "start_time": "2022-12-04T21:21:36.002Z"
   },
   {
    "duration": 48,
    "start_time": "2022-12-04T21:21:36.006Z"
   },
   {
    "duration": 59,
    "start_time": "2022-12-04T21:21:36.055Z"
   },
   {
    "duration": 5,
    "start_time": "2022-12-04T21:21:36.115Z"
   },
   {
    "duration": 29,
    "start_time": "2022-12-04T21:21:36.121Z"
   },
   {
    "duration": 14,
    "start_time": "2022-12-04T21:21:37.809Z"
   },
   {
    "duration": 15,
    "start_time": "2022-12-04T21:21:38.609Z"
   },
   {
    "duration": 8,
    "start_time": "2022-12-04T21:21:40.323Z"
   },
   {
    "duration": 18,
    "start_time": "2022-12-04T21:22:31.591Z"
   },
   {
    "duration": 1139,
    "start_time": "2022-12-04T21:22:33.074Z"
   },
   {
    "duration": 6,
    "start_time": "2022-12-04T21:22:44.770Z"
   },
   {
    "duration": 5,
    "start_time": "2022-12-04T21:22:47.289Z"
   },
   {
    "duration": 14,
    "start_time": "2022-12-04T21:22:49.080Z"
   },
   {
    "duration": 4,
    "start_time": "2022-12-04T21:22:50.355Z"
   },
   {
    "duration": 3,
    "start_time": "2022-12-04T21:22:52.280Z"
   },
   {
    "duration": 1307,
    "start_time": "2022-12-04T21:22:53.769Z"
   },
   {
    "duration": 15917,
    "start_time": "2022-12-04T21:23:04.273Z"
   },
   {
    "duration": 3,
    "start_time": "2022-12-04T21:23:58.738Z"
   },
   {
    "duration": 18916,
    "start_time": "2022-12-04T21:24:04.881Z"
   },
   {
    "duration": 18815,
    "start_time": "2022-12-04T21:25:50.485Z"
   },
   {
    "duration": 88779,
    "start_time": "2022-12-04T21:26:55.250Z"
   },
   {
    "duration": 4,
    "start_time": "2022-12-04T21:29:06.283Z"
   },
   {
    "duration": 3,
    "start_time": "2022-12-04T21:29:43.972Z"
   },
   {
    "duration": 35303,
    "start_time": "2022-12-04T21:30:41.729Z"
   },
   {
    "duration": 35256,
    "start_time": "2022-12-04T21:31:38.582Z"
   },
   {
    "duration": 4,
    "start_time": "2022-12-04T21:32:41.422Z"
   },
   {
    "duration": 50,
    "start_time": "2022-12-04T21:35:59.151Z"
   },
   {
    "duration": 15,
    "start_time": "2022-12-04T21:42:39.747Z"
   },
   {
    "duration": 16,
    "start_time": "2022-12-04T21:43:26.538Z"
   },
   {
    "duration": 15,
    "start_time": "2022-12-04T21:43:47.011Z"
   },
   {
    "duration": 52,
    "start_time": "2022-12-04T21:45:43.795Z"
   },
   {
    "duration": 3,
    "start_time": "2022-12-04T21:47:38.494Z"
   },
   {
    "duration": 2,
    "start_time": "2022-12-04T21:52:10.455Z"
   },
   {
    "duration": 1610,
    "start_time": "2022-12-04T21:52:12.591Z"
   },
   {
    "duration": 37134,
    "start_time": "2022-12-04T21:52:40.443Z"
   },
   {
    "duration": 128883,
    "start_time": "2022-12-04T21:53:33.444Z"
   },
   {
    "duration": 56751,
    "start_time": "2022-12-04T21:56:21.433Z"
   },
   {
    "duration": 4,
    "start_time": "2022-12-04T21:58:12.645Z"
   },
   {
    "duration": 12,
    "start_time": "2022-12-04T22:09:57.829Z"
   },
   {
    "duration": 57,
    "start_time": "2022-12-04T22:11:21.760Z"
   },
   {
    "duration": 12,
    "start_time": "2022-12-04T22:21:33.429Z"
   },
   {
    "duration": 3,
    "start_time": "2022-12-04T22:21:36.951Z"
   },
   {
    "duration": 487,
    "start_time": "2022-12-04T22:23:36.252Z"
   },
   {
    "duration": 494,
    "start_time": "2022-12-04T22:25:59.151Z"
   },
   {
    "duration": 7279,
    "start_time": "2022-12-04T22:26:04.805Z"
   },
   {
    "duration": 51828,
    "start_time": "2022-12-04T22:26:15.703Z"
   },
   {
    "duration": 13662,
    "start_time": "2022-12-04T22:28:34.658Z"
   },
   {
    "duration": 4,
    "start_time": "2022-12-04T22:29:18.242Z"
   },
   {
    "duration": 5,
    "start_time": "2022-12-04T22:40:35.764Z"
   },
   {
    "duration": 16,
    "start_time": "2022-12-04T22:40:35.771Z"
   },
   {
    "duration": 9,
    "start_time": "2022-12-04T22:40:35.789Z"
   },
   {
    "duration": 52,
    "start_time": "2022-12-04T22:40:35.801Z"
   },
   {
    "duration": 62,
    "start_time": "2022-12-04T22:40:35.854Z"
   },
   {
    "duration": 4,
    "start_time": "2022-12-04T22:40:35.918Z"
   },
   {
    "duration": 15,
    "start_time": "2022-12-04T22:40:35.924Z"
   },
   {
    "duration": 35,
    "start_time": "2022-12-04T22:40:35.941Z"
   },
   {
    "duration": 9,
    "start_time": "2022-12-04T22:40:35.978Z"
   },
   {
    "duration": 20,
    "start_time": "2022-12-04T22:40:35.990Z"
   },
   {
    "duration": 1331,
    "start_time": "2022-12-04T22:40:36.012Z"
   },
   {
    "duration": 8,
    "start_time": "2022-12-04T22:40:37.345Z"
   },
   {
    "duration": 23,
    "start_time": "2022-12-04T22:40:37.355Z"
   },
   {
    "duration": 11,
    "start_time": "2022-12-04T22:40:37.380Z"
   },
   {
    "duration": 13,
    "start_time": "2022-12-04T22:40:37.393Z"
   },
   {
    "duration": 5,
    "start_time": "2022-12-04T22:40:37.408Z"
   },
   {
    "duration": 1396,
    "start_time": "2022-12-04T22:40:37.415Z"
   },
   {
    "duration": 16692,
    "start_time": "2022-12-04T22:40:38.812Z"
   },
   {
    "duration": 94478,
    "start_time": "2022-12-04T22:40:55.577Z"
   },
   {
    "duration": 36628,
    "start_time": "2022-12-04T22:42:30.057Z"
   },
   {
    "duration": 4,
    "start_time": "2022-12-04T22:43:06.686Z"
   },
   {
    "duration": 18,
    "start_time": "2022-12-04T22:43:06.692Z"
   },
   {
    "duration": 3,
    "start_time": "2022-12-04T22:43:06.712Z"
   },
   {
    "duration": 1928,
    "start_time": "2022-12-04T22:43:06.717Z"
   },
   {
    "duration": 23666,
    "start_time": "2022-12-04T22:43:08.647Z"
   },
   {
    "duration": 141576,
    "start_time": "2022-12-04T22:43:32.378Z"
   },
   {
    "duration": 68545,
    "start_time": "2022-12-04T22:45:53.956Z"
   },
   {
    "duration": 4,
    "start_time": "2022-12-04T22:47:02.503Z"
   },
   {
    "duration": 24,
    "start_time": "2022-12-04T22:47:02.509Z"
   },
   {
    "duration": 8,
    "start_time": "2022-12-04T22:47:02.535Z"
   },
   {
    "duration": 545,
    "start_time": "2022-12-04T22:47:02.545Z"
   },
   {
    "duration": 9190,
    "start_time": "2022-12-04T22:47:03.092Z"
   },
   {
    "duration": 65121,
    "start_time": "2022-12-04T22:47:12.284Z"
   },
   {
    "duration": 15355,
    "start_time": "2022-12-04T22:48:17.407Z"
   },
   {
    "duration": 3,
    "start_time": "2022-12-04T22:49:20.709Z"
   },
   {
    "duration": 1753,
    "start_time": "2022-12-04T22:49:31.333Z"
   },
   {
    "duration": 4,
    "start_time": "2022-12-04T22:49:50.718Z"
   },
   {
    "duration": 3,
    "start_time": "2022-12-04T22:49:57.697Z"
   },
   {
    "duration": 1391,
    "start_time": "2022-12-04T23:09:01.952Z"
   },
   {
    "duration": 3,
    "start_time": "2022-12-04T23:09:03.345Z"
   },
   {
    "duration": 8,
    "start_time": "2022-12-04T23:09:03.350Z"
   },
   {
    "duration": 56,
    "start_time": "2022-12-04T23:09:03.360Z"
   },
   {
    "duration": 61,
    "start_time": "2022-12-04T23:09:03.418Z"
   },
   {
    "duration": 5,
    "start_time": "2022-12-04T23:09:03.480Z"
   },
   {
    "duration": 31,
    "start_time": "2022-12-04T23:09:03.487Z"
   },
   {
    "duration": 29,
    "start_time": "2022-12-04T23:09:03.520Z"
   },
   {
    "duration": 10,
    "start_time": "2022-12-04T23:09:03.550Z"
   },
   {
    "duration": 28,
    "start_time": "2022-12-04T23:09:03.562Z"
   },
   {
    "duration": 1162,
    "start_time": "2022-12-04T23:09:03.591Z"
   },
   {
    "duration": 8,
    "start_time": "2022-12-04T23:09:04.755Z"
   },
   {
    "duration": 17,
    "start_time": "2022-12-04T23:09:04.765Z"
   },
   {
    "duration": 21,
    "start_time": "2022-12-04T23:09:04.784Z"
   },
   {
    "duration": 4,
    "start_time": "2022-12-04T23:09:04.807Z"
   },
   {
    "duration": 39,
    "start_time": "2022-12-04T23:09:04.813Z"
   },
   {
    "duration": 10,
    "start_time": "2022-12-04T23:09:04.854Z"
   },
   {
    "duration": 10,
    "start_time": "2022-12-04T23:09:04.866Z"
   },
   {
    "duration": 1362,
    "start_time": "2022-12-04T23:09:04.878Z"
   },
   {
    "duration": 839,
    "start_time": "2022-12-04T23:09:06.242Z"
   },
   {
    "duration": 93120,
    "start_time": "2022-12-04T23:09:07.083Z"
   },
   {
    "duration": 37181,
    "start_time": "2022-12-04T23:10:40.205Z"
   },
   {
    "duration": 4,
    "start_time": "2022-12-04T23:11:17.387Z"
   },
   {
    "duration": 17,
    "start_time": "2022-12-04T23:11:17.393Z"
   },
   {
    "duration": 3,
    "start_time": "2022-12-04T23:11:17.411Z"
   },
   {
    "duration": 1669,
    "start_time": "2022-12-04T23:11:17.416Z"
   },
   {
    "duration": 1308,
    "start_time": "2022-12-04T23:11:19.087Z"
   },
   {
    "duration": 134162,
    "start_time": "2022-12-04T23:11:20.399Z"
   },
   {
    "duration": 58379,
    "start_time": "2022-12-04T23:13:34.563Z"
   },
   {
    "duration": 4,
    "start_time": "2022-12-04T23:14:32.944Z"
   },
   {
    "duration": 23,
    "start_time": "2022-12-04T23:14:32.949Z"
   },
   {
    "duration": 50,
    "start_time": "2022-12-04T23:14:32.976Z"
   },
   {
    "duration": 445,
    "start_time": "2022-12-04T23:14:33.027Z"
   },
   {
    "duration": 705,
    "start_time": "2022-12-04T23:14:33.477Z"
   },
   {
    "duration": 54069,
    "start_time": "2022-12-04T23:14:34.184Z"
   },
   {
    "duration": 13966,
    "start_time": "2022-12-04T23:15:28.255Z"
   },
   {
    "duration": 4,
    "start_time": "2022-12-04T23:15:42.223Z"
   },
   {
    "duration": 1436,
    "start_time": "2022-12-04T23:15:42.229Z"
   },
   {
    "duration": 0,
    "start_time": "2022-12-04T23:15:43.666Z"
   },
   {
    "duration": 0,
    "start_time": "2022-12-04T23:15:43.667Z"
   },
   {
    "duration": 0,
    "start_time": "2022-12-04T23:15:43.668Z"
   },
   {
    "duration": 0,
    "start_time": "2022-12-04T23:15:43.676Z"
   },
   {
    "duration": 2,
    "start_time": "2022-12-04T23:16:43.417Z"
   },
   {
    "duration": 1278,
    "start_time": "2022-12-04T23:16:44.593Z"
   },
   {
    "duration": 1081,
    "start_time": "2022-12-04T23:16:50.901Z"
   },
   {
    "duration": 94594,
    "start_time": "2022-12-04T23:16:55.668Z"
   },
   {
    "duration": 11,
    "start_time": "2022-12-04T23:19:10.573Z"
   },
   {
    "duration": 51,
    "start_time": "2022-12-04T23:19:34.064Z"
   },
   {
    "duration": 55,
    "start_time": "2022-12-05T15:45:05.829Z"
   },
   {
    "duration": 1721,
    "start_time": "2022-12-05T15:45:12.502Z"
   },
   {
    "duration": 8,
    "start_time": "2022-12-05T15:45:14.226Z"
   },
   {
    "duration": 21,
    "start_time": "2022-12-05T15:45:14.236Z"
   },
   {
    "duration": 179,
    "start_time": "2022-12-05T15:45:14.259Z"
   },
   {
    "duration": 68,
    "start_time": "2022-12-05T15:45:14.441Z"
   },
   {
    "duration": 6,
    "start_time": "2022-12-05T15:45:14.511Z"
   },
   {
    "duration": 34,
    "start_time": "2022-12-05T15:45:14.519Z"
   },
   {
    "duration": 23,
    "start_time": "2022-12-05T15:45:14.555Z"
   },
   {
    "duration": 12,
    "start_time": "2022-12-05T15:45:14.580Z"
   },
   {
    "duration": 28,
    "start_time": "2022-12-05T15:45:14.596Z"
   },
   {
    "duration": 1439,
    "start_time": "2022-12-05T15:45:14.626Z"
   },
   {
    "duration": 6,
    "start_time": "2022-12-05T15:45:16.067Z"
   },
   {
    "duration": 30,
    "start_time": "2022-12-05T15:45:16.074Z"
   },
   {
    "duration": 28,
    "start_time": "2022-12-05T15:45:16.106Z"
   },
   {
    "duration": 17,
    "start_time": "2022-12-05T15:45:16.136Z"
   },
   {
    "duration": 41,
    "start_time": "2022-12-05T15:45:16.155Z"
   },
   {
    "duration": 13,
    "start_time": "2022-12-05T15:45:16.198Z"
   },
   {
    "duration": 13,
    "start_time": "2022-12-05T15:45:16.213Z"
   },
   {
    "duration": 1357,
    "start_time": "2022-12-05T15:45:16.228Z"
   },
   {
    "duration": 1036,
    "start_time": "2022-12-05T15:45:17.587Z"
   },
   {
    "duration": 100317,
    "start_time": "2022-12-05T15:45:18.625Z"
   },
   {
    "duration": 1826,
    "start_time": "2022-12-05T15:47:36.142Z"
   },
   {
    "duration": 1356,
    "start_time": "2022-12-05T15:47:37.970Z"
   },
   {
    "duration": 149220,
    "start_time": "2022-12-05T15:47:39.330Z"
   },
   {
    "duration": 64434,
    "start_time": "2022-12-05T15:50:08.552Z"
   },
   {
    "duration": 5,
    "start_time": "2022-12-05T15:51:12.988Z"
   },
   {
    "duration": 50,
    "start_time": "2022-12-05T15:51:12.994Z"
   },
   {
    "duration": 47,
    "start_time": "2022-12-05T15:51:13.046Z"
   },
   {
    "duration": 543,
    "start_time": "2022-12-05T15:51:13.094Z"
   },
   {
    "duration": 1474,
    "start_time": "2022-12-05T15:51:13.640Z"
   },
   {
    "duration": 45909,
    "start_time": "2022-12-05T15:51:15.116Z"
   },
   {
    "duration": 16606,
    "start_time": "2022-12-05T15:52:01.027Z"
   },
   {
    "duration": 4,
    "start_time": "2022-12-05T15:52:17.635Z"
   },
   {
    "duration": 24,
    "start_time": "2022-12-05T15:52:17.641Z"
   },
   {
    "duration": 1342,
    "start_time": "2022-12-05T15:52:17.667Z"
   },
   {
    "duration": 1107,
    "start_time": "2022-12-05T15:52:19.012Z"
   },
   {
    "duration": 94445,
    "start_time": "2022-12-05T15:52:20.121Z"
   },
   {
    "duration": 4,
    "start_time": "2022-12-05T15:53:54.567Z"
   },
   {
    "duration": 899,
    "start_time": "2022-12-05T15:53:54.572Z"
   },
   {
    "duration": 4,
    "start_time": "2022-12-05T15:54:40.829Z"
   },
   {
    "duration": 5,
    "start_time": "2022-12-05T15:55:26.359Z"
   },
   {
    "duration": 9,
    "start_time": "2022-12-05T15:56:26.010Z"
   },
   {
    "duration": 10,
    "start_time": "2022-12-05T15:56:35.576Z"
   },
   {
    "duration": 10,
    "start_time": "2022-12-05T15:56:41.194Z"
   },
   {
    "duration": 6,
    "start_time": "2022-12-05T15:56:52.800Z"
   },
   {
    "duration": 10,
    "start_time": "2022-12-05T15:58:02.909Z"
   },
   {
    "duration": 7,
    "start_time": "2022-12-05T15:58:12.085Z"
   },
   {
    "duration": 6,
    "start_time": "2022-12-05T15:58:34.826Z"
   },
   {
    "duration": 7,
    "start_time": "2022-12-05T15:58:49.691Z"
   },
   {
    "duration": 6,
    "start_time": "2022-12-05T15:59:11.418Z"
   },
   {
    "duration": 7,
    "start_time": "2022-12-05T15:59:35.096Z"
   },
   {
    "duration": 4,
    "start_time": "2022-12-05T16:00:09.362Z"
   },
   {
    "duration": 42,
    "start_time": "2022-12-05T16:00:09.368Z"
   },
   {
    "duration": 32,
    "start_time": "2022-12-05T16:00:09.412Z"
   },
   {
    "duration": 78,
    "start_time": "2022-12-05T16:00:09.446Z"
   },
   {
    "duration": 61,
    "start_time": "2022-12-05T16:00:09.526Z"
   },
   {
    "duration": 4,
    "start_time": "2022-12-05T16:00:09.589Z"
   },
   {
    "duration": 39,
    "start_time": "2022-12-05T16:00:09.595Z"
   },
   {
    "duration": 57,
    "start_time": "2022-12-05T16:00:09.636Z"
   },
   {
    "duration": 28,
    "start_time": "2022-12-05T16:00:09.694Z"
   },
   {
    "duration": 37,
    "start_time": "2022-12-05T16:00:09.724Z"
   },
   {
    "duration": 1246,
    "start_time": "2022-12-05T16:00:09.764Z"
   },
   {
    "duration": 6,
    "start_time": "2022-12-05T16:00:11.012Z"
   },
   {
    "duration": 41,
    "start_time": "2022-12-05T16:00:11.020Z"
   },
   {
    "duration": 39,
    "start_time": "2022-12-05T16:00:11.062Z"
   },
   {
    "duration": 24,
    "start_time": "2022-12-05T16:00:11.103Z"
   },
   {
    "duration": 57,
    "start_time": "2022-12-05T16:00:11.129Z"
   },
   {
    "duration": 20,
    "start_time": "2022-12-05T16:00:11.188Z"
   },
   {
    "duration": 36,
    "start_time": "2022-12-05T16:00:11.209Z"
   },
   {
    "duration": 1255,
    "start_time": "2022-12-05T16:00:11.246Z"
   },
   {
    "duration": 1012,
    "start_time": "2022-12-05T16:00:12.502Z"
   },
   {
    "duration": 91268,
    "start_time": "2022-12-05T16:00:13.516Z"
   },
   {
    "duration": 1442,
    "start_time": "2022-12-05T20:05:52.040Z"
   },
   {
    "duration": 2,
    "start_time": "2022-12-05T20:05:53.484Z"
   },
   {
    "duration": 9,
    "start_time": "2022-12-05T20:05:53.488Z"
   },
   {
    "duration": 47,
    "start_time": "2022-12-05T20:05:53.499Z"
   },
   {
    "duration": 64,
    "start_time": "2022-12-05T20:05:53.548Z"
   },
   {
    "duration": 5,
    "start_time": "2022-12-05T20:05:53.614Z"
   },
   {
    "duration": 25,
    "start_time": "2022-12-05T20:05:53.621Z"
   },
   {
    "duration": 19,
    "start_time": "2022-12-05T20:05:53.648Z"
   },
   {
    "duration": 8,
    "start_time": "2022-12-05T20:05:53.668Z"
   },
   {
    "duration": 33,
    "start_time": "2022-12-05T20:05:53.679Z"
   },
   {
    "duration": 1268,
    "start_time": "2022-12-05T20:05:53.713Z"
   },
   {
    "duration": 6,
    "start_time": "2022-12-05T20:05:54.983Z"
   },
   {
    "duration": 11,
    "start_time": "2022-12-05T20:05:54.991Z"
   },
   {
    "duration": 23,
    "start_time": "2022-12-05T20:05:55.003Z"
   },
   {
    "duration": 5,
    "start_time": "2022-12-05T20:05:55.027Z"
   },
   {
    "duration": 44,
    "start_time": "2022-12-05T20:05:55.033Z"
   },
   {
    "duration": 12,
    "start_time": "2022-12-05T20:05:55.079Z"
   },
   {
    "duration": 6,
    "start_time": "2022-12-05T20:05:55.092Z"
   },
   {
    "duration": 1371,
    "start_time": "2022-12-05T20:05:55.100Z"
   },
   {
    "duration": 928,
    "start_time": "2022-12-05T20:05:56.474Z"
   },
   {
    "duration": 95040,
    "start_time": "2022-12-05T20:05:57.408Z"
   },
   {
    "duration": 35954,
    "start_time": "2022-12-05T20:07:32.450Z"
   },
   {
    "duration": 5,
    "start_time": "2022-12-05T20:08:08.408Z"
   },
   {
    "duration": 16,
    "start_time": "2022-12-05T20:08:08.414Z"
   },
   {
    "duration": 3,
    "start_time": "2022-12-05T20:08:08.432Z"
   },
   {
    "duration": 1769,
    "start_time": "2022-12-05T20:08:08.436Z"
   },
   {
    "duration": 1210,
    "start_time": "2022-12-05T20:08:10.207Z"
   },
   {
    "duration": 138626,
    "start_time": "2022-12-05T20:08:11.500Z"
   },
   {
    "duration": 58430,
    "start_time": "2022-12-05T20:10:30.128Z"
   },
   {
    "duration": 4,
    "start_time": "2022-12-05T20:11:28.559Z"
   },
   {
    "duration": 21,
    "start_time": "2022-12-05T20:11:28.564Z"
   },
   {
    "duration": 11,
    "start_time": "2022-12-05T20:11:28.586Z"
   },
   {
    "duration": 490,
    "start_time": "2022-12-05T20:11:28.599Z"
   },
   {
    "duration": 614,
    "start_time": "2022-12-05T20:11:29.091Z"
   },
   {
    "duration": 46532,
    "start_time": "2022-12-05T20:11:29.706Z"
   },
   {
    "duration": 13249,
    "start_time": "2022-12-05T20:12:16.239Z"
   },
   {
    "duration": 8,
    "start_time": "2022-12-05T20:12:29.490Z"
   },
   {
    "duration": 9,
    "start_time": "2022-12-05T20:12:29.500Z"
   },
   {
    "duration": 1359,
    "start_time": "2022-12-05T20:12:29.511Z"
   },
   {
    "duration": 930,
    "start_time": "2022-12-05T20:12:30.872Z"
   },
   {
    "duration": 96035,
    "start_time": "2022-12-05T20:12:31.804Z"
   },
   {
    "duration": 4,
    "start_time": "2022-12-05T20:14:07.841Z"
   },
   {
    "duration": 4,
    "start_time": "2022-12-05T20:15:25.071Z"
   },
   {
    "duration": 158,
    "start_time": "2022-12-05T20:15:25.594Z"
   },
   {
    "duration": 4,
    "start_time": "2022-12-05T20:17:31.825Z"
   },
   {
    "duration": 151,
    "start_time": "2022-12-05T20:17:32.560Z"
   },
   {
    "duration": 7,
    "start_time": "2022-12-05T20:17:43.007Z"
   },
   {
    "duration": 150,
    "start_time": "2022-12-05T20:38:38.396Z"
   },
   {
    "duration": 110,
    "start_time": "2022-12-05T20:38:41.797Z"
   },
   {
    "duration": 5,
    "start_time": "2022-12-05T20:38:46.034Z"
   },
   {
    "duration": 142,
    "start_time": "2022-12-05T20:38:46.629Z"
   },
   {
    "duration": 47,
    "start_time": "2022-12-05T20:58:34.608Z"
   },
   {
    "duration": 862,
    "start_time": "2022-12-05T20:59:25.299Z"
   },
   {
    "duration": 825,
    "start_time": "2022-12-05T21:06:17.048Z"
   },
   {
    "duration": 804,
    "start_time": "2022-12-05T21:14:41.220Z"
   },
   {
    "duration": 6,
    "start_time": "2022-12-05T21:29:26.188Z"
   },
   {
    "duration": 5,
    "start_time": "2022-12-05T21:29:29.141Z"
   },
   {
    "duration": 8,
    "start_time": "2022-12-05T21:34:30.041Z"
   },
   {
    "duration": 815,
    "start_time": "2022-12-05T21:34:32.618Z"
   },
   {
    "duration": 879,
    "start_time": "2022-12-05T21:34:51.703Z"
   },
   {
    "duration": 884,
    "start_time": "2022-12-05T21:35:17.132Z"
   },
   {
    "duration": 951,
    "start_time": "2022-12-05T21:35:25.040Z"
   },
   {
    "duration": 872,
    "start_time": "2022-12-05T21:35:33.190Z"
   },
   {
    "duration": 896,
    "start_time": "2022-12-05T21:36:09.006Z"
   },
   {
    "duration": 903,
    "start_time": "2022-12-05T21:38:23.630Z"
   },
   {
    "duration": 889,
    "start_time": "2022-12-05T21:38:33.001Z"
   },
   {
    "duration": 890,
    "start_time": "2022-12-05T21:38:39.065Z"
   },
   {
    "duration": 1382,
    "start_time": "2022-12-05T21:38:53.548Z"
   },
   {
    "duration": 3,
    "start_time": "2022-12-05T21:38:54.933Z"
   },
   {
    "duration": 5,
    "start_time": "2022-12-05T21:38:54.939Z"
   },
   {
    "duration": 50,
    "start_time": "2022-12-05T21:38:54.947Z"
   },
   {
    "duration": 72,
    "start_time": "2022-12-05T21:38:54.999Z"
   },
   {
    "duration": 5,
    "start_time": "2022-12-05T21:38:55.072Z"
   },
   {
    "duration": 30,
    "start_time": "2022-12-05T21:38:55.078Z"
   },
   {
    "duration": 16,
    "start_time": "2022-12-05T21:38:55.110Z"
   },
   {
    "duration": 9,
    "start_time": "2022-12-05T21:38:55.129Z"
   },
   {
    "duration": 23,
    "start_time": "2022-12-05T21:38:55.141Z"
   },
   {
    "duration": 1381,
    "start_time": "2022-12-05T21:38:55.165Z"
   },
   {
    "duration": 6,
    "start_time": "2022-12-05T21:38:56.548Z"
   },
   {
    "duration": 20,
    "start_time": "2022-12-05T21:38:56.555Z"
   },
   {
    "duration": 12,
    "start_time": "2022-12-05T21:38:56.576Z"
   },
   {
    "duration": 3,
    "start_time": "2022-12-05T21:38:56.590Z"
   },
   {
    "duration": 28,
    "start_time": "2022-12-05T21:38:56.594Z"
   },
   {
    "duration": 12,
    "start_time": "2022-12-05T21:38:56.624Z"
   },
   {
    "duration": 4,
    "start_time": "2022-12-05T21:38:56.638Z"
   },
   {
    "duration": 1316,
    "start_time": "2022-12-05T21:38:56.644Z"
   },
   {
    "duration": 1637,
    "start_time": "2022-12-05T21:38:57.961Z"
   },
   {
    "duration": 97136,
    "start_time": "2022-12-05T21:38:59.601Z"
   },
   {
    "duration": 36285,
    "start_time": "2022-12-05T21:40:36.739Z"
   },
   {
    "duration": 4,
    "start_time": "2022-12-05T21:41:13.026Z"
   },
   {
    "duration": 15,
    "start_time": "2022-12-05T21:41:13.031Z"
   },
   {
    "duration": 2,
    "start_time": "2022-12-05T21:41:13.048Z"
   },
   {
    "duration": 1738,
    "start_time": "2022-12-05T21:41:13.052Z"
   },
   {
    "duration": 1212,
    "start_time": "2022-12-05T21:41:14.792Z"
   },
   {
    "duration": 72890,
    "start_time": "2022-12-05T21:41:16.011Z"
   },
   {
    "duration": 0,
    "start_time": "2022-12-05T21:42:28.903Z"
   },
   {
    "duration": 0,
    "start_time": "2022-12-05T21:42:28.904Z"
   },
   {
    "duration": 0,
    "start_time": "2022-12-05T21:42:28.906Z"
   },
   {
    "duration": 0,
    "start_time": "2022-12-05T21:42:28.908Z"
   },
   {
    "duration": 0,
    "start_time": "2022-12-05T21:42:28.909Z"
   },
   {
    "duration": 0,
    "start_time": "2022-12-05T21:42:28.911Z"
   },
   {
    "duration": 0,
    "start_time": "2022-12-05T21:42:28.912Z"
   },
   {
    "duration": 0,
    "start_time": "2022-12-05T21:42:28.914Z"
   },
   {
    "duration": 0,
    "start_time": "2022-12-05T21:42:28.915Z"
   },
   {
    "duration": 0,
    "start_time": "2022-12-05T21:42:28.917Z"
   },
   {
    "duration": 0,
    "start_time": "2022-12-05T21:42:28.919Z"
   },
   {
    "duration": 0,
    "start_time": "2022-12-05T21:42:28.920Z"
   },
   {
    "duration": 0,
    "start_time": "2022-12-05T21:42:28.922Z"
   },
   {
    "duration": 0,
    "start_time": "2022-12-05T21:42:28.923Z"
   },
   {
    "duration": 0,
    "start_time": "2022-12-05T21:42:28.925Z"
   },
   {
    "duration": 0,
    "start_time": "2022-12-05T21:42:28.926Z"
   },
   {
    "duration": 4,
    "start_time": "2022-12-05T21:44:15.755Z"
   },
   {
    "duration": 26,
    "start_time": "2022-12-05T21:44:15.761Z"
   },
   {
    "duration": 11,
    "start_time": "2022-12-05T21:44:15.789Z"
   },
   {
    "duration": 50,
    "start_time": "2022-12-05T21:44:15.801Z"
   },
   {
    "duration": 64,
    "start_time": "2022-12-05T21:44:15.853Z"
   },
   {
    "duration": 6,
    "start_time": "2022-12-05T21:44:15.919Z"
   },
   {
    "duration": 13,
    "start_time": "2022-12-05T21:44:15.926Z"
   },
   {
    "duration": 15,
    "start_time": "2022-12-05T21:44:15.942Z"
   },
   {
    "duration": 10,
    "start_time": "2022-12-05T21:44:15.960Z"
   },
   {
    "duration": 25,
    "start_time": "2022-12-05T21:44:15.996Z"
   },
   {
    "duration": 1271,
    "start_time": "2022-12-05T21:44:16.025Z"
   },
   {
    "duration": 6,
    "start_time": "2022-12-05T21:44:17.297Z"
   },
   {
    "duration": 35,
    "start_time": "2022-12-05T21:44:17.305Z"
   },
   {
    "duration": 15,
    "start_time": "2022-12-05T21:44:17.342Z"
   },
   {
    "duration": 3,
    "start_time": "2022-12-05T21:44:17.359Z"
   },
   {
    "duration": 36,
    "start_time": "2022-12-05T21:44:17.364Z"
   },
   {
    "duration": 11,
    "start_time": "2022-12-05T21:44:17.402Z"
   },
   {
    "duration": 26,
    "start_time": "2022-12-05T21:44:17.415Z"
   },
   {
    "duration": 1317,
    "start_time": "2022-12-05T21:44:17.443Z"
   },
   {
    "duration": 1039,
    "start_time": "2022-12-05T21:44:18.762Z"
   },
   {
    "duration": 94790,
    "start_time": "2022-12-05T21:44:19.804Z"
   },
   {
    "duration": 35883,
    "start_time": "2022-12-05T21:45:54.596Z"
   },
   {
    "duration": 4,
    "start_time": "2022-12-05T21:46:30.480Z"
   },
   {
    "duration": 14,
    "start_time": "2022-12-05T21:46:30.497Z"
   },
   {
    "duration": 4,
    "start_time": "2022-12-05T21:46:30.513Z"
   },
   {
    "duration": 1779,
    "start_time": "2022-12-05T21:46:30.519Z"
   },
   {
    "duration": 1207,
    "start_time": "2022-12-05T21:46:32.300Z"
   },
   {
    "duration": 139740,
    "start_time": "2022-12-05T21:46:33.509Z"
   },
   {
    "duration": 57820,
    "start_time": "2022-12-05T21:48:53.254Z"
   },
   {
    "duration": 4,
    "start_time": "2022-12-05T21:49:51.076Z"
   },
   {
    "duration": 31,
    "start_time": "2022-12-05T21:49:51.082Z"
   },
   {
    "duration": 11,
    "start_time": "2022-12-05T21:49:51.115Z"
   },
   {
    "duration": 489,
    "start_time": "2022-12-05T21:49:51.128Z"
   },
   {
    "duration": 486,
    "start_time": "2022-12-05T21:49:51.619Z"
   },
   {
    "duration": 46324,
    "start_time": "2022-12-05T21:49:52.197Z"
   },
   {
    "duration": 13311,
    "start_time": "2022-12-05T21:50:38.523Z"
   },
   {
    "duration": 3,
    "start_time": "2022-12-05T21:50:51.836Z"
   },
   {
    "duration": 22,
    "start_time": "2022-12-05T21:50:51.841Z"
   },
   {
    "duration": 1386,
    "start_time": "2022-12-05T21:50:51.865Z"
   },
   {
    "duration": 1047,
    "start_time": "2022-12-05T21:50:53.253Z"
   },
   {
    "duration": 102074,
    "start_time": "2022-12-05T21:50:54.302Z"
   },
   {
    "duration": 3,
    "start_time": "2022-12-05T21:52:36.378Z"
   },
   {
    "duration": 840,
    "start_time": "2022-12-05T21:52:36.383Z"
   },
   {
    "duration": 4,
    "start_time": "2022-12-05T21:58:58.669Z"
   },
   {
    "duration": 683,
    "start_time": "2022-12-05T22:02:10.300Z"
   },
   {
    "duration": 1469,
    "start_time": "2022-12-06T16:11:08.373Z"
   },
   {
    "duration": 2,
    "start_time": "2022-12-06T16:11:09.844Z"
   },
   {
    "duration": 6,
    "start_time": "2022-12-06T16:11:09.848Z"
   },
   {
    "duration": 94,
    "start_time": "2022-12-06T16:11:09.855Z"
   },
   {
    "duration": 60,
    "start_time": "2022-12-06T16:11:09.950Z"
   },
   {
    "duration": 4,
    "start_time": "2022-12-06T16:11:10.012Z"
   },
   {
    "duration": 11,
    "start_time": "2022-12-06T16:11:10.021Z"
   },
   {
    "duration": 18,
    "start_time": "2022-12-06T16:11:10.034Z"
   },
   {
    "duration": 7,
    "start_time": "2022-12-06T16:11:10.054Z"
   },
   {
    "duration": 21,
    "start_time": "2022-12-06T16:11:10.063Z"
   },
   {
    "duration": 1242,
    "start_time": "2022-12-06T16:11:10.086Z"
   },
   {
    "duration": 5,
    "start_time": "2022-12-06T16:11:11.330Z"
   },
   {
    "duration": 11,
    "start_time": "2022-12-06T16:11:11.337Z"
   },
   {
    "duration": 14,
    "start_time": "2022-12-06T16:11:11.349Z"
   },
   {
    "duration": 3,
    "start_time": "2022-12-06T16:11:11.364Z"
   },
   {
    "duration": 29,
    "start_time": "2022-12-06T16:11:11.369Z"
   },
   {
    "duration": 22,
    "start_time": "2022-12-06T16:11:11.400Z"
   },
   {
    "duration": 4,
    "start_time": "2022-12-06T16:11:11.424Z"
   },
   {
    "duration": 1284,
    "start_time": "2022-12-06T16:11:11.429Z"
   },
   {
    "duration": 1115,
    "start_time": "2022-12-06T16:11:12.715Z"
   },
   {
    "duration": 89519,
    "start_time": "2022-12-06T16:11:13.832Z"
   },
   {
    "duration": 35972,
    "start_time": "2022-12-06T16:12:43.353Z"
   },
   {
    "duration": 4,
    "start_time": "2022-12-06T16:13:19.327Z"
   },
   {
    "duration": 17,
    "start_time": "2022-12-06T16:13:19.332Z"
   },
   {
    "duration": 12,
    "start_time": "2022-12-06T16:13:19.350Z"
   },
   {
    "duration": 1693,
    "start_time": "2022-12-06T16:13:19.363Z"
   },
   {
    "duration": 1477,
    "start_time": "2022-12-06T16:13:21.058Z"
   },
   {
    "duration": 129771,
    "start_time": "2022-12-06T16:13:22.539Z"
   },
   {
    "duration": 56901,
    "start_time": "2022-12-06T16:15:32.311Z"
   },
   {
    "duration": 9,
    "start_time": "2022-12-06T16:16:29.214Z"
   },
   {
    "duration": 14,
    "start_time": "2022-12-06T16:16:29.224Z"
   },
   {
    "duration": 3,
    "start_time": "2022-12-06T16:16:29.239Z"
   },
   {
    "duration": 456,
    "start_time": "2022-12-06T16:16:29.243Z"
   },
   {
    "duration": 821,
    "start_time": "2022-12-06T16:16:29.701Z"
   },
   {
    "duration": 42933,
    "start_time": "2022-12-06T16:16:30.524Z"
   },
   {
    "duration": 12704,
    "start_time": "2022-12-06T16:17:13.458Z"
   },
   {
    "duration": 4,
    "start_time": "2022-12-06T16:17:26.164Z"
   },
   {
    "duration": 11,
    "start_time": "2022-12-06T16:17:26.169Z"
   },
   {
    "duration": 1264,
    "start_time": "2022-12-06T16:17:26.182Z"
   },
   {
    "duration": 987,
    "start_time": "2022-12-06T16:17:27.447Z"
   },
   {
    "duration": 89477,
    "start_time": "2022-12-06T16:17:28.522Z"
   },
   {
    "duration": 4,
    "start_time": "2022-12-06T16:18:58.001Z"
   },
   {
    "duration": 798,
    "start_time": "2022-12-06T16:18:58.007Z"
   },
   {
    "duration": 769,
    "start_time": "2022-12-06T16:21:16.519Z"
   },
   {
    "duration": 657,
    "start_time": "2022-12-06T16:21:23.244Z"
   },
   {
    "duration": 3,
    "start_time": "2022-12-06T16:22:19.332Z"
   },
   {
    "duration": 4,
    "start_time": "2022-12-06T16:22:23.674Z"
   },
   {
    "duration": 13,
    "start_time": "2022-12-06T16:22:23.680Z"
   },
   {
    "duration": 25,
    "start_time": "2022-12-06T16:22:23.695Z"
   },
   {
    "duration": 43,
    "start_time": "2022-12-06T16:22:23.722Z"
   },
   {
    "duration": 55,
    "start_time": "2022-12-06T16:22:23.767Z"
   },
   {
    "duration": 4,
    "start_time": "2022-12-06T16:22:23.824Z"
   },
   {
    "duration": 22,
    "start_time": "2022-12-06T16:22:23.829Z"
   },
   {
    "duration": 17,
    "start_time": "2022-12-06T16:22:23.853Z"
   },
   {
    "duration": 7,
    "start_time": "2022-12-06T16:22:23.872Z"
   },
   {
    "duration": 17,
    "start_time": "2022-12-06T16:22:23.880Z"
   },
   {
    "duration": 1162,
    "start_time": "2022-12-06T16:22:23.899Z"
   },
   {
    "duration": 6,
    "start_time": "2022-12-06T16:22:25.062Z"
   },
   {
    "duration": 11,
    "start_time": "2022-12-06T16:22:25.069Z"
   },
   {
    "duration": 23,
    "start_time": "2022-12-06T16:22:25.081Z"
   },
   {
    "duration": 10,
    "start_time": "2022-12-06T16:22:25.105Z"
   },
   {
    "duration": 36,
    "start_time": "2022-12-06T16:22:25.116Z"
   },
   {
    "duration": 11,
    "start_time": "2022-12-06T16:22:25.153Z"
   },
   {
    "duration": 10,
    "start_time": "2022-12-06T16:22:25.166Z"
   },
   {
    "duration": 132,
    "start_time": "2022-12-06T16:22:25.177Z"
   },
   {
    "duration": 0,
    "start_time": "2022-12-06T16:22:25.312Z"
   },
   {
    "duration": 0,
    "start_time": "2022-12-06T16:22:25.314Z"
   },
   {
    "duration": 0,
    "start_time": "2022-12-06T16:22:25.315Z"
   },
   {
    "duration": 0,
    "start_time": "2022-12-06T16:22:25.322Z"
   },
   {
    "duration": 0,
    "start_time": "2022-12-06T16:22:25.324Z"
   },
   {
    "duration": 0,
    "start_time": "2022-12-06T16:22:25.325Z"
   },
   {
    "duration": 0,
    "start_time": "2022-12-06T16:22:25.326Z"
   },
   {
    "duration": 0,
    "start_time": "2022-12-06T16:22:25.328Z"
   },
   {
    "duration": 0,
    "start_time": "2022-12-06T16:22:25.329Z"
   },
   {
    "duration": 0,
    "start_time": "2022-12-06T16:22:25.331Z"
   },
   {
    "duration": 0,
    "start_time": "2022-12-06T16:22:25.332Z"
   },
   {
    "duration": 0,
    "start_time": "2022-12-06T16:22:25.333Z"
   },
   {
    "duration": 0,
    "start_time": "2022-12-06T16:22:25.334Z"
   },
   {
    "duration": 0,
    "start_time": "2022-12-06T16:22:25.336Z"
   },
   {
    "duration": 0,
    "start_time": "2022-12-06T16:22:25.337Z"
   },
   {
    "duration": 0,
    "start_time": "2022-12-06T16:22:25.338Z"
   },
   {
    "duration": 0,
    "start_time": "2022-12-06T16:22:25.341Z"
   },
   {
    "duration": 0,
    "start_time": "2022-12-06T16:22:25.342Z"
   },
   {
    "duration": 0,
    "start_time": "2022-12-06T16:22:25.344Z"
   },
   {
    "duration": 0,
    "start_time": "2022-12-06T16:22:25.345Z"
   },
   {
    "duration": 0,
    "start_time": "2022-12-06T16:22:25.347Z"
   },
   {
    "duration": 0,
    "start_time": "2022-12-06T16:22:25.348Z"
   },
   {
    "duration": 0,
    "start_time": "2022-12-06T16:22:25.350Z"
   },
   {
    "duration": 0,
    "start_time": "2022-12-06T16:22:25.351Z"
   },
   {
    "duration": 0,
    "start_time": "2022-12-06T16:22:25.352Z"
   },
   {
    "duration": 5,
    "start_time": "2022-12-06T16:23:32.098Z"
   },
   {
    "duration": 17,
    "start_time": "2022-12-06T16:23:32.104Z"
   },
   {
    "duration": 8,
    "start_time": "2022-12-06T16:23:32.122Z"
   },
   {
    "duration": 52,
    "start_time": "2022-12-06T16:23:32.132Z"
   },
   {
    "duration": 59,
    "start_time": "2022-12-06T16:23:32.185Z"
   },
   {
    "duration": 4,
    "start_time": "2022-12-06T16:23:32.245Z"
   },
   {
    "duration": 36,
    "start_time": "2022-12-06T16:23:32.250Z"
   },
   {
    "duration": 21,
    "start_time": "2022-12-06T16:23:32.288Z"
   },
   {
    "duration": 9,
    "start_time": "2022-12-06T16:23:32.312Z"
   },
   {
    "duration": 17,
    "start_time": "2022-12-06T16:23:32.323Z"
   },
   {
    "duration": 1246,
    "start_time": "2022-12-06T16:23:32.341Z"
   },
   {
    "duration": 5,
    "start_time": "2022-12-06T16:23:33.589Z"
   },
   {
    "duration": 19,
    "start_time": "2022-12-06T16:23:33.596Z"
   },
   {
    "duration": 17,
    "start_time": "2022-12-06T16:23:33.617Z"
   },
   {
    "duration": 3,
    "start_time": "2022-12-06T16:23:33.635Z"
   },
   {
    "duration": 35,
    "start_time": "2022-12-06T16:23:33.639Z"
   },
   {
    "duration": 13,
    "start_time": "2022-12-06T16:23:33.676Z"
   },
   {
    "duration": 5,
    "start_time": "2022-12-06T16:23:33.690Z"
   },
   {
    "duration": 41,
    "start_time": "2022-12-06T16:23:33.698Z"
   },
   {
    "duration": 0,
    "start_time": "2022-12-06T16:23:33.741Z"
   },
   {
    "duration": 0,
    "start_time": "2022-12-06T16:23:33.743Z"
   },
   {
    "duration": 0,
    "start_time": "2022-12-06T16:23:33.744Z"
   },
   {
    "duration": 0,
    "start_time": "2022-12-06T16:23:33.745Z"
   },
   {
    "duration": 0,
    "start_time": "2022-12-06T16:23:33.747Z"
   },
   {
    "duration": 0,
    "start_time": "2022-12-06T16:23:33.748Z"
   },
   {
    "duration": 0,
    "start_time": "2022-12-06T16:23:33.750Z"
   },
   {
    "duration": 0,
    "start_time": "2022-12-06T16:23:33.751Z"
   },
   {
    "duration": 0,
    "start_time": "2022-12-06T16:23:33.752Z"
   },
   {
    "duration": 0,
    "start_time": "2022-12-06T16:23:33.754Z"
   },
   {
    "duration": 0,
    "start_time": "2022-12-06T16:23:33.756Z"
   },
   {
    "duration": 0,
    "start_time": "2022-12-06T16:23:33.758Z"
   },
   {
    "duration": 0,
    "start_time": "2022-12-06T16:23:33.759Z"
   },
   {
    "duration": 0,
    "start_time": "2022-12-06T16:23:33.761Z"
   },
   {
    "duration": 0,
    "start_time": "2022-12-06T16:23:33.762Z"
   },
   {
    "duration": 0,
    "start_time": "2022-12-06T16:23:33.763Z"
   },
   {
    "duration": 0,
    "start_time": "2022-12-06T16:23:33.765Z"
   },
   {
    "duration": 0,
    "start_time": "2022-12-06T16:23:33.767Z"
   },
   {
    "duration": 0,
    "start_time": "2022-12-06T16:23:33.768Z"
   },
   {
    "duration": 0,
    "start_time": "2022-12-06T16:23:33.770Z"
   },
   {
    "duration": 0,
    "start_time": "2022-12-06T16:23:33.771Z"
   },
   {
    "duration": 0,
    "start_time": "2022-12-06T16:23:33.773Z"
   },
   {
    "duration": 0,
    "start_time": "2022-12-06T16:23:33.822Z"
   },
   {
    "duration": 0,
    "start_time": "2022-12-06T16:23:33.823Z"
   },
   {
    "duration": 0,
    "start_time": "2022-12-06T16:23:33.825Z"
   },
   {
    "duration": 1344,
    "start_time": "2022-12-06T16:23:56.618Z"
   },
   {
    "duration": 3,
    "start_time": "2022-12-06T16:23:57.963Z"
   },
   {
    "duration": 7,
    "start_time": "2022-12-06T16:23:57.967Z"
   },
   {
    "duration": 42,
    "start_time": "2022-12-06T16:23:57.976Z"
   },
   {
    "duration": 59,
    "start_time": "2022-12-06T16:23:58.019Z"
   },
   {
    "duration": 4,
    "start_time": "2022-12-06T16:23:58.080Z"
   },
   {
    "duration": 14,
    "start_time": "2022-12-06T16:23:58.086Z"
   },
   {
    "duration": 38,
    "start_time": "2022-12-06T16:23:58.101Z"
   },
   {
    "duration": 11,
    "start_time": "2022-12-06T16:23:58.141Z"
   },
   {
    "duration": 19,
    "start_time": "2022-12-06T16:23:58.154Z"
   },
   {
    "duration": 1257,
    "start_time": "2022-12-06T16:23:58.175Z"
   },
   {
    "duration": 5,
    "start_time": "2022-12-06T16:23:59.434Z"
   },
   {
    "duration": 14,
    "start_time": "2022-12-06T16:23:59.441Z"
   },
   {
    "duration": 18,
    "start_time": "2022-12-06T16:23:59.457Z"
   },
   {
    "duration": 4,
    "start_time": "2022-12-06T16:23:59.477Z"
   },
   {
    "duration": 38,
    "start_time": "2022-12-06T16:23:59.483Z"
   },
   {
    "duration": 12,
    "start_time": "2022-12-06T16:23:59.523Z"
   },
   {
    "duration": 12,
    "start_time": "2022-12-06T16:23:59.537Z"
   },
   {
    "duration": 138,
    "start_time": "2022-12-06T16:23:59.551Z"
   },
   {
    "duration": 0,
    "start_time": "2022-12-06T16:23:59.692Z"
   },
   {
    "duration": 0,
    "start_time": "2022-12-06T16:23:59.693Z"
   },
   {
    "duration": 0,
    "start_time": "2022-12-06T16:23:59.694Z"
   },
   {
    "duration": 0,
    "start_time": "2022-12-06T16:23:59.695Z"
   },
   {
    "duration": 0,
    "start_time": "2022-12-06T16:23:59.696Z"
   },
   {
    "duration": 0,
    "start_time": "2022-12-06T16:23:59.697Z"
   },
   {
    "duration": 0,
    "start_time": "2022-12-06T16:23:59.698Z"
   },
   {
    "duration": 0,
    "start_time": "2022-12-06T16:23:59.699Z"
   },
   {
    "duration": 0,
    "start_time": "2022-12-06T16:23:59.701Z"
   },
   {
    "duration": 0,
    "start_time": "2022-12-06T16:23:59.702Z"
   },
   {
    "duration": 0,
    "start_time": "2022-12-06T16:23:59.721Z"
   },
   {
    "duration": 0,
    "start_time": "2022-12-06T16:23:59.722Z"
   },
   {
    "duration": 0,
    "start_time": "2022-12-06T16:23:59.724Z"
   },
   {
    "duration": 0,
    "start_time": "2022-12-06T16:23:59.725Z"
   },
   {
    "duration": 0,
    "start_time": "2022-12-06T16:23:59.726Z"
   },
   {
    "duration": 0,
    "start_time": "2022-12-06T16:23:59.727Z"
   },
   {
    "duration": 0,
    "start_time": "2022-12-06T16:23:59.728Z"
   },
   {
    "duration": 0,
    "start_time": "2022-12-06T16:23:59.729Z"
   },
   {
    "duration": 0,
    "start_time": "2022-12-06T16:23:59.730Z"
   },
   {
    "duration": 0,
    "start_time": "2022-12-06T16:23:59.731Z"
   },
   {
    "duration": 0,
    "start_time": "2022-12-06T16:23:59.732Z"
   },
   {
    "duration": 0,
    "start_time": "2022-12-06T16:23:59.734Z"
   },
   {
    "duration": 0,
    "start_time": "2022-12-06T16:23:59.735Z"
   },
   {
    "duration": 0,
    "start_time": "2022-12-06T16:23:59.736Z"
   },
   {
    "duration": 5,
    "start_time": "2022-12-06T16:24:42.543Z"
   },
   {
    "duration": 17,
    "start_time": "2022-12-06T16:24:42.551Z"
   },
   {
    "duration": 14,
    "start_time": "2022-12-06T16:24:42.570Z"
   },
   {
    "duration": 50,
    "start_time": "2022-12-06T16:24:42.586Z"
   },
   {
    "duration": 56,
    "start_time": "2022-12-06T16:24:42.638Z"
   },
   {
    "duration": 25,
    "start_time": "2022-12-06T16:24:42.696Z"
   },
   {
    "duration": 12,
    "start_time": "2022-12-06T16:24:42.723Z"
   },
   {
    "duration": 15,
    "start_time": "2022-12-06T16:24:42.737Z"
   },
   {
    "duration": 10,
    "start_time": "2022-12-06T16:24:42.754Z"
   },
   {
    "duration": 49,
    "start_time": "2022-12-06T16:24:42.768Z"
   },
   {
    "duration": 1237,
    "start_time": "2022-12-06T16:24:42.819Z"
   },
   {
    "duration": 5,
    "start_time": "2022-12-06T16:24:44.058Z"
   },
   {
    "duration": 11,
    "start_time": "2022-12-06T16:24:44.065Z"
   },
   {
    "duration": 11,
    "start_time": "2022-12-06T16:24:44.078Z"
   },
   {
    "duration": 3,
    "start_time": "2022-12-06T16:24:44.091Z"
   },
   {
    "duration": 42,
    "start_time": "2022-12-06T16:24:44.096Z"
   },
   {
    "duration": 11,
    "start_time": "2022-12-06T16:24:44.139Z"
   },
   {
    "duration": 7,
    "start_time": "2022-12-06T16:24:44.152Z"
   },
   {
    "duration": 18,
    "start_time": "2022-12-06T16:24:44.160Z"
   },
   {
    "duration": 0,
    "start_time": "2022-12-06T16:24:44.180Z"
   },
   {
    "duration": 0,
    "start_time": "2022-12-06T16:24:44.181Z"
   },
   {
    "duration": 0,
    "start_time": "2022-12-06T16:24:44.182Z"
   },
   {
    "duration": 0,
    "start_time": "2022-12-06T16:24:44.183Z"
   },
   {
    "duration": 0,
    "start_time": "2022-12-06T16:24:44.184Z"
   },
   {
    "duration": 0,
    "start_time": "2022-12-06T16:24:44.185Z"
   },
   {
    "duration": 0,
    "start_time": "2022-12-06T16:24:44.186Z"
   },
   {
    "duration": 0,
    "start_time": "2022-12-06T16:24:44.187Z"
   },
   {
    "duration": 0,
    "start_time": "2022-12-06T16:24:44.189Z"
   },
   {
    "duration": 0,
    "start_time": "2022-12-06T16:24:44.190Z"
   },
   {
    "duration": 0,
    "start_time": "2022-12-06T16:24:44.221Z"
   },
   {
    "duration": 0,
    "start_time": "2022-12-06T16:24:44.222Z"
   },
   {
    "duration": 0,
    "start_time": "2022-12-06T16:24:44.223Z"
   },
   {
    "duration": 0,
    "start_time": "2022-12-06T16:24:44.224Z"
   },
   {
    "duration": 0,
    "start_time": "2022-12-06T16:24:44.225Z"
   },
   {
    "duration": 0,
    "start_time": "2022-12-06T16:24:44.226Z"
   },
   {
    "duration": 0,
    "start_time": "2022-12-06T16:24:44.227Z"
   },
   {
    "duration": 0,
    "start_time": "2022-12-06T16:24:44.228Z"
   },
   {
    "duration": 0,
    "start_time": "2022-12-06T16:24:44.229Z"
   },
   {
    "duration": 0,
    "start_time": "2022-12-06T16:24:44.231Z"
   },
   {
    "duration": 0,
    "start_time": "2022-12-06T16:24:44.232Z"
   },
   {
    "duration": 0,
    "start_time": "2022-12-06T16:24:44.233Z"
   },
   {
    "duration": 0,
    "start_time": "2022-12-06T16:24:44.235Z"
   },
   {
    "duration": 0,
    "start_time": "2022-12-06T16:24:44.236Z"
   },
   {
    "duration": 0,
    "start_time": "2022-12-06T16:24:44.237Z"
   },
   {
    "duration": 4,
    "start_time": "2022-12-06T16:25:14.829Z"
   },
   {
    "duration": 5,
    "start_time": "2022-12-06T16:25:18.399Z"
   },
   {
    "duration": 8,
    "start_time": "2022-12-06T16:25:18.407Z"
   },
   {
    "duration": 8,
    "start_time": "2022-12-06T16:25:18.416Z"
   },
   {
    "duration": 52,
    "start_time": "2022-12-06T16:25:18.427Z"
   },
   {
    "duration": 58,
    "start_time": "2022-12-06T16:25:18.482Z"
   },
   {
    "duration": 5,
    "start_time": "2022-12-06T16:25:18.542Z"
   },
   {
    "duration": 14,
    "start_time": "2022-12-06T16:25:18.549Z"
   },
   {
    "duration": 21,
    "start_time": "2022-12-06T16:25:18.565Z"
   },
   {
    "duration": 9,
    "start_time": "2022-12-06T16:25:18.588Z"
   },
   {
    "duration": 62,
    "start_time": "2022-12-06T16:25:18.598Z"
   },
   {
    "duration": 1194,
    "start_time": "2022-12-06T16:25:18.662Z"
   },
   {
    "duration": 6,
    "start_time": "2022-12-06T16:25:19.857Z"
   },
   {
    "duration": 12,
    "start_time": "2022-12-06T16:25:19.865Z"
   },
   {
    "duration": 11,
    "start_time": "2022-12-06T16:25:19.881Z"
   },
   {
    "duration": 4,
    "start_time": "2022-12-06T16:25:19.893Z"
   },
   {
    "duration": 46,
    "start_time": "2022-12-06T16:25:19.898Z"
   },
   {
    "duration": 11,
    "start_time": "2022-12-06T16:25:19.946Z"
   },
   {
    "duration": 7,
    "start_time": "2022-12-06T16:25:19.959Z"
   },
   {
    "duration": 1313,
    "start_time": "2022-12-06T16:25:19.967Z"
   },
   {
    "duration": 2352,
    "start_time": "2022-12-06T16:25:21.282Z"
   },
   {
    "duration": 89277,
    "start_time": "2022-12-06T16:25:23.636Z"
   },
   {
    "duration": 35238,
    "start_time": "2022-12-06T16:26:52.915Z"
   },
   {
    "duration": 4,
    "start_time": "2022-12-06T16:27:28.154Z"
   },
   {
    "duration": 18,
    "start_time": "2022-12-06T16:27:28.160Z"
   },
   {
    "duration": 3,
    "start_time": "2022-12-06T16:27:28.179Z"
   },
   {
    "duration": 1595,
    "start_time": "2022-12-06T16:27:28.183Z"
   },
   {
    "duration": 1457,
    "start_time": "2022-12-06T16:27:29.780Z"
   },
   {
    "duration": 132988,
    "start_time": "2022-12-06T16:27:31.239Z"
   },
   {
    "duration": 58702,
    "start_time": "2022-12-06T16:29:44.229Z"
   },
   {
    "duration": 3,
    "start_time": "2022-12-06T16:30:42.933Z"
   },
   {
    "duration": 15,
    "start_time": "2022-12-06T16:30:42.938Z"
   },
   {
    "duration": 2,
    "start_time": "2022-12-06T16:30:42.954Z"
   },
   {
    "duration": 471,
    "start_time": "2022-12-06T16:30:42.958Z"
   },
   {
    "duration": 698,
    "start_time": "2022-12-06T16:30:43.431Z"
   },
   {
    "duration": 43363,
    "start_time": "2022-12-06T16:30:44.131Z"
   },
   {
    "duration": 12708,
    "start_time": "2022-12-06T16:31:27.496Z"
   },
   {
    "duration": 4,
    "start_time": "2022-12-06T16:31:40.206Z"
   },
   {
    "duration": 3,
    "start_time": "2022-12-06T16:31:40.221Z"
   },
   {
    "duration": 1241,
    "start_time": "2022-12-06T16:31:40.226Z"
   },
   {
    "duration": 1067,
    "start_time": "2022-12-06T16:31:41.469Z"
   },
   {
    "duration": 97308,
    "start_time": "2022-12-06T16:31:42.621Z"
   },
   {
    "duration": 4,
    "start_time": "2022-12-06T16:33:19.931Z"
   },
   {
    "duration": 800,
    "start_time": "2022-12-06T16:33:19.936Z"
   },
   {
    "duration": 678,
    "start_time": "2022-12-06T16:33:20.738Z"
   },
   {
    "duration": 670,
    "start_time": "2022-12-06T16:34:44.305Z"
   },
   {
    "duration": 668,
    "start_time": "2022-12-06T16:41:06.077Z"
   },
   {
    "duration": 652,
    "start_time": "2022-12-06T16:41:23.270Z"
   },
   {
    "duration": 775,
    "start_time": "2022-12-06T16:59:03.276Z"
   },
   {
    "duration": 7,
    "start_time": "2022-12-06T17:02:35.131Z"
   },
   {
    "duration": 6,
    "start_time": "2022-12-06T17:02:45.051Z"
   },
   {
    "duration": 842,
    "start_time": "2022-12-06T17:02:46.521Z"
   },
   {
    "duration": 643,
    "start_time": "2022-12-06T17:03:05.948Z"
   },
   {
    "duration": 1325,
    "start_time": "2022-12-06T17:03:42.470Z"
   },
   {
    "duration": 3,
    "start_time": "2022-12-06T17:03:43.797Z"
   },
   {
    "duration": 15,
    "start_time": "2022-12-06T17:03:43.801Z"
   },
   {
    "duration": 47,
    "start_time": "2022-12-06T17:03:43.818Z"
   },
   {
    "duration": 57,
    "start_time": "2022-12-06T17:03:43.867Z"
   },
   {
    "duration": 5,
    "start_time": "2022-12-06T17:03:43.926Z"
   },
   {
    "duration": 15,
    "start_time": "2022-12-06T17:03:43.933Z"
   },
   {
    "duration": 26,
    "start_time": "2022-12-06T17:03:43.950Z"
   },
   {
    "duration": 8,
    "start_time": "2022-12-06T17:03:43.978Z"
   },
   {
    "duration": 32,
    "start_time": "2022-12-06T17:03:43.989Z"
   },
   {
    "duration": 1214,
    "start_time": "2022-12-06T17:03:44.022Z"
   },
   {
    "duration": 5,
    "start_time": "2022-12-06T17:03:45.237Z"
   },
   {
    "duration": 14,
    "start_time": "2022-12-06T17:03:45.243Z"
   },
   {
    "duration": 13,
    "start_time": "2022-12-06T17:03:45.259Z"
   },
   {
    "duration": 3,
    "start_time": "2022-12-06T17:03:45.273Z"
   },
   {
    "duration": 30,
    "start_time": "2022-12-06T17:03:45.277Z"
   },
   {
    "duration": 15,
    "start_time": "2022-12-06T17:03:45.310Z"
   },
   {
    "duration": 14,
    "start_time": "2022-12-06T17:03:45.328Z"
   },
   {
    "duration": 1310,
    "start_time": "2022-12-06T17:03:45.344Z"
   },
   {
    "duration": 973,
    "start_time": "2022-12-06T17:03:46.656Z"
   },
   {
    "duration": 89047,
    "start_time": "2022-12-06T17:03:47.631Z"
   },
   {
    "duration": 35445,
    "start_time": "2022-12-06T17:05:16.679Z"
   },
   {
    "duration": 5,
    "start_time": "2022-12-06T17:05:52.126Z"
   },
   {
    "duration": 14,
    "start_time": "2022-12-06T17:05:52.133Z"
   },
   {
    "duration": 2,
    "start_time": "2022-12-06T17:05:52.149Z"
   },
   {
    "duration": 1659,
    "start_time": "2022-12-06T17:05:52.153Z"
   },
   {
    "duration": 1316,
    "start_time": "2022-12-06T17:05:53.813Z"
   },
   {
    "duration": 128219,
    "start_time": "2022-12-06T17:05:55.135Z"
   },
   {
    "duration": 56585,
    "start_time": "2022-12-06T17:08:03.356Z"
   },
   {
    "duration": 6,
    "start_time": "2022-12-06T17:08:59.943Z"
   },
   {
    "duration": 19,
    "start_time": "2022-12-06T17:08:59.950Z"
   },
   {
    "duration": 3,
    "start_time": "2022-12-06T17:08:59.971Z"
   },
   {
    "duration": 463,
    "start_time": "2022-12-06T17:08:59.975Z"
   },
   {
    "duration": 787,
    "start_time": "2022-12-06T17:09:00.440Z"
   },
   {
    "duration": 43018,
    "start_time": "2022-12-06T17:09:01.230Z"
   },
   {
    "duration": 12697,
    "start_time": "2022-12-06T17:09:44.249Z"
   },
   {
    "duration": 4,
    "start_time": "2022-12-06T17:09:56.947Z"
   },
   {
    "duration": 19,
    "start_time": "2022-12-06T17:09:56.952Z"
   },
   {
    "duration": 1258,
    "start_time": "2022-12-06T17:09:56.972Z"
   },
   {
    "duration": 995,
    "start_time": "2022-12-06T17:09:58.231Z"
   },
   {
    "duration": 89684,
    "start_time": "2022-12-06T17:09:59.228Z"
   },
   {
    "duration": 8,
    "start_time": "2022-12-06T17:11:28.913Z"
   },
   {
    "duration": 763,
    "start_time": "2022-12-06T17:11:28.922Z"
   },
   {
    "duration": 653,
    "start_time": "2022-12-06T17:11:29.686Z"
   },
   {
    "duration": 44,
    "start_time": "2022-12-07T17:49:25.085Z"
   },
   {
    "duration": 7,
    "start_time": "2022-12-07T17:55:54.182Z"
   },
   {
    "duration": 1572,
    "start_time": "2022-12-07T20:43:25.120Z"
   },
   {
    "duration": 3,
    "start_time": "2022-12-07T20:43:26.694Z"
   },
   {
    "duration": 38,
    "start_time": "2022-12-07T20:43:26.698Z"
   },
   {
    "duration": 402,
    "start_time": "2022-12-07T20:43:26.740Z"
   },
   {
    "duration": 61,
    "start_time": "2022-12-07T20:43:27.144Z"
   },
   {
    "duration": 4,
    "start_time": "2022-12-07T20:43:27.207Z"
   },
   {
    "duration": 41,
    "start_time": "2022-12-07T20:43:27.212Z"
   },
   {
    "duration": 41,
    "start_time": "2022-12-07T20:43:27.255Z"
   },
   {
    "duration": 28,
    "start_time": "2022-12-07T20:43:27.298Z"
   },
   {
    "duration": 50,
    "start_time": "2022-12-07T20:43:27.328Z"
   },
   {
    "duration": 1234,
    "start_time": "2022-12-07T20:43:27.379Z"
   },
   {
    "duration": 4,
    "start_time": "2022-12-07T20:43:28.615Z"
   },
   {
    "duration": 55,
    "start_time": "2022-12-07T20:43:28.621Z"
   },
   {
    "duration": 40,
    "start_time": "2022-12-07T20:43:28.678Z"
   },
   {
    "duration": 31,
    "start_time": "2022-12-07T20:43:28.720Z"
   },
   {
    "duration": 50,
    "start_time": "2022-12-07T20:43:28.753Z"
   },
   {
    "duration": 46,
    "start_time": "2022-12-07T20:43:28.805Z"
   },
   {
    "duration": 25,
    "start_time": "2022-12-07T20:43:28.853Z"
   },
   {
    "duration": 1254,
    "start_time": "2022-12-07T20:43:28.879Z"
   },
   {
    "duration": 808,
    "start_time": "2022-12-07T20:43:30.135Z"
   },
   {
    "duration": 88328,
    "start_time": "2022-12-07T20:43:31.026Z"
   },
   {
    "duration": 35010,
    "start_time": "2022-12-07T20:44:59.356Z"
   },
   {
    "duration": 4,
    "start_time": "2022-12-07T20:45:34.368Z"
   },
   {
    "duration": 129,
    "start_time": "2022-12-07T20:45:34.374Z"
   },
   {
    "duration": 62,
    "start_time": "2022-12-07T20:45:49.670Z"
   },
   {
    "duration": 50,
    "start_time": "2022-12-07T20:46:21.167Z"
   },
   {
    "duration": 48,
    "start_time": "2022-12-07T20:53:50.304Z"
   },
   {
    "duration": 16,
    "start_time": "2022-12-07T20:54:28.115Z"
   },
   {
    "duration": 11,
    "start_time": "2022-12-07T20:54:33.511Z"
   },
   {
    "duration": 13,
    "start_time": "2022-12-07T20:54:39.689Z"
   },
   {
    "duration": 14,
    "start_time": "2022-12-07T20:54:52.336Z"
   },
   {
    "duration": 14,
    "start_time": "2022-12-07T20:54:58.076Z"
   },
   {
    "duration": 12,
    "start_time": "2022-12-07T20:55:03.234Z"
   },
   {
    "duration": 54,
    "start_time": "2022-12-07T20:55:12.556Z"
   },
   {
    "duration": 13,
    "start_time": "2022-12-07T20:55:25.997Z"
   },
   {
    "duration": 12,
    "start_time": "2022-12-07T20:59:28.147Z"
   },
   {
    "duration": 17,
    "start_time": "2022-12-07T20:59:46.358Z"
   },
   {
    "duration": 16,
    "start_time": "2022-12-07T20:59:59.563Z"
   },
   {
    "duration": 11,
    "start_time": "2022-12-07T21:00:05.984Z"
   },
   {
    "duration": 16,
    "start_time": "2022-12-07T21:01:48.574Z"
   },
   {
    "duration": 12,
    "start_time": "2022-12-07T21:01:55.179Z"
   },
   {
    "duration": 12,
    "start_time": "2022-12-07T21:08:01.953Z"
   },
   {
    "duration": 12,
    "start_time": "2022-12-07T21:08:05.766Z"
   },
   {
    "duration": 14,
    "start_time": "2022-12-07T21:08:10.447Z"
   },
   {
    "duration": 12,
    "start_time": "2022-12-07T21:08:13.670Z"
   },
   {
    "duration": 14,
    "start_time": "2022-12-07T21:08:21.613Z"
   },
   {
    "duration": 12,
    "start_time": "2022-12-07T21:08:26.353Z"
   },
   {
    "duration": 11,
    "start_time": "2022-12-07T21:08:32.100Z"
   },
   {
    "duration": 13,
    "start_time": "2022-12-07T21:08:38.154Z"
   },
   {
    "duration": 12,
    "start_time": "2022-12-07T21:08:45.079Z"
   },
   {
    "duration": 12,
    "start_time": "2022-12-07T21:08:50.552Z"
   },
   {
    "duration": 1399,
    "start_time": "2022-12-07T21:10:58.324Z"
   },
   {
    "duration": 3,
    "start_time": "2022-12-07T21:10:59.725Z"
   },
   {
    "duration": 32,
    "start_time": "2022-12-07T21:10:59.730Z"
   },
   {
    "duration": 64,
    "start_time": "2022-12-07T21:10:59.764Z"
   },
   {
    "duration": 62,
    "start_time": "2022-12-07T21:10:59.830Z"
   },
   {
    "duration": 4,
    "start_time": "2022-12-07T21:10:59.894Z"
   },
   {
    "duration": 59,
    "start_time": "2022-12-07T21:10:59.899Z"
   },
   {
    "duration": 36,
    "start_time": "2022-12-07T21:10:59.959Z"
   },
   {
    "duration": 31,
    "start_time": "2022-12-07T21:10:59.996Z"
   },
   {
    "duration": 50,
    "start_time": "2022-12-07T21:11:00.031Z"
   },
   {
    "duration": 1211,
    "start_time": "2022-12-07T21:11:00.082Z"
   },
   {
    "duration": 5,
    "start_time": "2022-12-07T21:11:01.295Z"
   },
   {
    "duration": 40,
    "start_time": "2022-12-07T21:11:01.301Z"
   },
   {
    "duration": 43,
    "start_time": "2022-12-07T21:11:01.342Z"
   },
   {
    "duration": 24,
    "start_time": "2022-12-07T21:11:01.387Z"
   },
   {
    "duration": 55,
    "start_time": "2022-12-07T21:11:01.412Z"
   },
   {
    "duration": 32,
    "start_time": "2022-12-07T21:11:01.468Z"
   },
   {
    "duration": 43,
    "start_time": "2022-12-07T21:11:01.502Z"
   },
   {
    "duration": 1262,
    "start_time": "2022-12-07T21:11:01.546Z"
   },
   {
    "duration": 1031,
    "start_time": "2022-12-07T21:11:02.810Z"
   },
   {
    "duration": 89669,
    "start_time": "2022-12-07T21:11:03.844Z"
   },
   {
    "duration": 34432,
    "start_time": "2022-12-07T21:12:33.515Z"
   },
   {
    "duration": 4,
    "start_time": "2022-12-07T21:13:07.949Z"
   },
   {
    "duration": 53,
    "start_time": "2022-12-07T21:13:07.954Z"
   },
   {
    "duration": 24,
    "start_time": "2022-12-07T21:13:08.008Z"
   },
   {
    "duration": 5,
    "start_time": "2022-12-07T21:13:08.034Z"
   },
   {
    "duration": 1494,
    "start_time": "2022-12-07T21:13:08.040Z"
   },
   {
    "duration": 1093,
    "start_time": "2022-12-07T21:13:09.537Z"
   },
   {
    "duration": 119422,
    "start_time": "2022-12-07T21:13:10.632Z"
   },
   {
    "duration": 58085,
    "start_time": "2022-12-07T21:15:10.056Z"
   },
   {
    "duration": 4,
    "start_time": "2022-12-07T21:16:08.143Z"
   },
   {
    "duration": 14,
    "start_time": "2022-12-07T21:16:08.148Z"
   },
   {
    "duration": 2,
    "start_time": "2022-12-07T21:16:08.164Z"
   },
   {
    "duration": 692,
    "start_time": "2022-12-07T21:16:08.168Z"
   },
   {
    "duration": 1265,
    "start_time": "2022-12-07T21:16:08.862Z"
   },
   {
    "duration": 62492,
    "start_time": "2022-12-07T21:16:10.129Z"
   },
   {
    "duration": 17045,
    "start_time": "2022-12-07T21:17:12.627Z"
   },
   {
    "duration": 4,
    "start_time": "2022-12-07T21:17:29.674Z"
   },
   {
    "duration": 30,
    "start_time": "2022-12-07T21:17:29.679Z"
   },
   {
    "duration": 1360,
    "start_time": "2022-12-07T21:17:29.710Z"
   },
   {
    "duration": 1664,
    "start_time": "2022-12-07T21:17:31.072Z"
   },
   {
    "duration": 103150,
    "start_time": "2022-12-07T21:17:32.738Z"
   },
   {
    "duration": 5,
    "start_time": "2022-12-07T21:19:15.889Z"
   },
   {
    "duration": 1073,
    "start_time": "2022-12-07T21:19:15.895Z"
   },
   {
    "duration": 1414,
    "start_time": "2022-12-07T21:19:16.970Z"
   },
   {
    "duration": 0,
    "start_time": "2022-12-07T21:19:18.385Z"
   },
   {
    "duration": 0,
    "start_time": "2022-12-07T21:19:18.386Z"
   },
   {
    "duration": 0,
    "start_time": "2022-12-07T21:19:18.388Z"
   },
   {
    "duration": 1278,
    "start_time": "2022-12-07T21:19:23.221Z"
   },
   {
    "duration": 1267,
    "start_time": "2022-12-07T21:19:43.055Z"
   },
   {
    "duration": 1589,
    "start_time": "2022-12-07T21:19:51.505Z"
   },
   {
    "duration": 622,
    "start_time": "2022-12-07T21:20:16.777Z"
   },
   {
    "duration": 823,
    "start_time": "2022-12-07T21:21:44.685Z"
   },
   {
    "duration": 636,
    "start_time": "2022-12-07T21:36:19.126Z"
   },
   {
    "duration": 666,
    "start_time": "2022-12-07T21:37:16.425Z"
   },
   {
    "duration": 669,
    "start_time": "2022-12-07T21:39:32.714Z"
   },
   {
    "duration": 1467,
    "start_time": "2022-12-07T21:40:40.990Z"
   },
   {
    "duration": 3,
    "start_time": "2022-12-07T21:40:42.459Z"
   },
   {
    "duration": 10,
    "start_time": "2022-12-07T21:40:42.463Z"
   },
   {
    "duration": 47,
    "start_time": "2022-12-07T21:40:42.475Z"
   },
   {
    "duration": 73,
    "start_time": "2022-12-07T21:40:42.524Z"
   },
   {
    "duration": 5,
    "start_time": "2022-12-07T21:40:42.599Z"
   },
   {
    "duration": 32,
    "start_time": "2022-12-07T21:40:42.606Z"
   },
   {
    "duration": 18,
    "start_time": "2022-12-07T21:40:42.640Z"
   },
   {
    "duration": 8,
    "start_time": "2022-12-07T21:40:42.659Z"
   },
   {
    "duration": 66,
    "start_time": "2022-12-07T21:40:42.669Z"
   },
   {
    "duration": 1212,
    "start_time": "2022-12-07T21:40:42.737Z"
   },
   {
    "duration": 5,
    "start_time": "2022-12-07T21:40:43.951Z"
   },
   {
    "duration": 19,
    "start_time": "2022-12-07T21:40:43.958Z"
   },
   {
    "duration": 12,
    "start_time": "2022-12-07T21:40:43.978Z"
   },
   {
    "duration": 33,
    "start_time": "2022-12-07T21:40:43.992Z"
   },
   {
    "duration": 62,
    "start_time": "2022-12-07T21:40:44.027Z"
   },
   {
    "duration": 11,
    "start_time": "2022-12-07T21:40:44.091Z"
   },
   {
    "duration": 7,
    "start_time": "2022-12-07T21:40:44.104Z"
   },
   {
    "duration": 1321,
    "start_time": "2022-12-07T21:40:44.113Z"
   },
   {
    "duration": 994,
    "start_time": "2022-12-07T21:40:45.436Z"
   },
   {
    "duration": 91096,
    "start_time": "2022-12-07T21:40:46.432Z"
   },
   {
    "duration": 34866,
    "start_time": "2022-12-07T21:42:17.530Z"
   },
   {
    "duration": 5,
    "start_time": "2022-12-07T21:42:52.397Z"
   },
   {
    "duration": 64,
    "start_time": "2022-12-07T21:42:52.403Z"
   },
   {
    "duration": 16,
    "start_time": "2022-12-07T21:42:52.469Z"
   },
   {
    "duration": 3,
    "start_time": "2022-12-07T21:42:52.486Z"
   },
   {
    "duration": 1565,
    "start_time": "2022-12-07T21:42:52.490Z"
   },
   {
    "duration": 1270,
    "start_time": "2022-12-07T21:42:54.058Z"
   },
   {
    "duration": 124015,
    "start_time": "2022-12-07T21:42:55.330Z"
   },
   {
    "duration": 52162,
    "start_time": "2022-12-07T21:44:59.347Z"
   },
   {
    "duration": 4,
    "start_time": "2022-12-07T21:45:51.511Z"
   },
   {
    "duration": 14,
    "start_time": "2022-12-07T21:45:51.526Z"
   },
   {
    "duration": 3,
    "start_time": "2022-12-07T21:45:51.542Z"
   },
   {
    "duration": 653,
    "start_time": "2022-12-07T21:45:51.546Z"
   },
   {
    "duration": 730,
    "start_time": "2022-12-07T21:45:52.201Z"
   },
   {
    "duration": 54819,
    "start_time": "2022-12-07T21:45:52.932Z"
   },
   {
    "duration": 17116,
    "start_time": "2022-12-07T21:46:47.753Z"
   },
   {
    "duration": 4,
    "start_time": "2022-12-07T21:47:04.871Z"
   },
   {
    "duration": 16,
    "start_time": "2022-12-07T21:47:04.876Z"
   },
   {
    "duration": 1377,
    "start_time": "2022-12-07T21:47:04.894Z"
   },
   {
    "duration": 1059,
    "start_time": "2022-12-07T21:47:06.272Z"
   },
   {
    "duration": 92818,
    "start_time": "2022-12-07T21:47:07.333Z"
   },
   {
    "duration": 5,
    "start_time": "2022-12-07T21:48:40.153Z"
   },
   {
    "duration": 816,
    "start_time": "2022-12-07T21:48:40.160Z"
   },
   {
    "duration": 703,
    "start_time": "2022-12-07T21:48:40.977Z"
   }
  ],
  "kernelspec": {
   "display_name": "base",
   "language": "python",
   "name": "python3"
  },
  "language_info": {
   "codemirror_mode": {
    "name": "ipython",
    "version": 3
   },
   "file_extension": ".py",
   "mimetype": "text/x-python",
   "name": "python",
   "nbconvert_exporter": "python",
   "pygments_lexer": "ipython3",
   "version": "3.9.12"
  },
  "toc": {
   "base_numbering": 1,
   "nav_menu": {},
   "number_sections": true,
   "sideBar": true,
   "skip_h1_title": true,
   "title_cell": "Содержание",
   "title_sidebar": "Contents",
   "toc_cell": true,
   "toc_position": {
    "height": "calc(100% - 180px)",
    "left": "10px",
    "top": "150px",
    "width": "300.25px"
   },
   "toc_section_display": true,
   "toc_window_display": false
  },
  "vscode": {
   "interpreter": {
    "hash": "fe3e2e4cba1fe2ca75dae6c481fe21229e83ac3d6dcf456a2846dc3bcef2b7a4"
   }
  }
 },
 "nbformat": 4,
 "nbformat_minor": 2
}
