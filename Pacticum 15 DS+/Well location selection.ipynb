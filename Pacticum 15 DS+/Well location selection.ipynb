{
 "cells": [
  {
   "cell_type": "markdown",
   "metadata": {},
   "source": [
    "Привет, меня зовут Артем Хуршудов. Сегодня я проверю твой проект.\n",
    "<br> Дальнейшее общение будет происходить на \"ты\" если это не вызывает никаких проблем.\n",
    "<br> Желательно реагировать на каждый мой комментарий ('исправил', 'не понятно как исправить ошибку', ...)\n",
    "<br> Пожалуйста, не удаляй комментарии ревьюера, так как они повышают качество повторного ревью.\n",
    "\n",
    "Комментарии будут в <font color='green'>зеленой</font>, <font color='blue'>синей</font> или <font color='red'>красной</font> рамках:\n",
    "\n",
    "<div class=\"alert alert-block alert-success\">\n",
    "<b>Успех:</b> Если все сделано отлично\n",
    "</div>\n",
    "\n",
    "<div class=\"alert alert-block alert-info\">\n",
    "<b>Совет: </b> Если можно немного улучшить\n",
    "</div>\n",
    "\n",
    "<div class=\"alert alert-block alert-danger\">\n",
    "<b>Ошибка:</b> Если требуются исправления. Работа не может быть принята с красными комментариями.\n",
    "</div>\n",
    "\n",
    "-------------------\n",
    "\n",
    "Будет очень хорошо, если ты будешь помечать свои действия следующим образом:\n",
    "<div class=\"alert alert-block alert-warning\">\n",
    "<b>Комментарий студента:</b> ...\n",
    "</div>\n",
    "\n",
    "<div class=\"alert alert-block alert-warning\">\n",
    "<b>Изменения:</b> Были внесены следующие изменения ...\n",
    "</div>\n",
    "\n",
    "### <font color='orange'>Общее впечатление</font>\n",
    "* Большое спасибо за проделанную работу. Видно, что приложено много усилий.\n",
    "* Выводы и рассуждения получились содержательными, их было интересно читать.\n",
    "* Радует, что тебе удалось разобраться с техникой бутстрапа.\n",
    "* Отлично, что доверительный интервал и риск убытков посчитаны верно.\n",
    "* Я оставил несколько советов, надеюсь, что они будут учтены в будущих проектах.\n",
    "* Редко, кто сдает эту работу с первого раза, молодец!\n",
    "* Проект может быть зачтен, но я его отправлю назад, чтобы у тебя была возможность задать вопросы и внести правки, при желании. Однако, ты можешь просто вернуть проект в таком же виде и я его зачту."
   ]
  },
  {
   "cell_type": "markdown",
   "metadata": {},
   "source": [
    "# Выбор локации для скважины"
   ]
  },
  {
   "cell_type": "markdown",
   "metadata": {},
   "source": [
    "Допустим, вы работаете в добывающей компании «ГлавРосГосНефть». Нужно решить, где бурить новую скважину.\n",
    "\n",
    "Вам предоставлены пробы нефти в трёх регионах: в каждом 10 000 месторождений, где измерили качество нефти и объём её запасов. Постройте модель машинного обучения, которая поможет определить регион, где добыча принесёт наибольшую прибыль. Проанализируйте возможную прибыль и риски техникой *Bootstrap.*\n",
    "\n",
    "Шаги для выбора локации:\n",
    "\n",
    "- В избранном регионе ищут месторождения, для каждого определяют значения признаков;\n",
    "- Строят модель и оценивают объём запасов;\n",
    "- Выбирают месторождения с самым высокими оценками значений. Количество месторождений зависит от бюджета компании и стоимости разработки одной скважины;\n",
    "- Прибыль равна суммарной прибыли отобранных месторождений."
   ]
  },
  {
   "cell_type": "markdown",
   "metadata": {},
   "source": [
    "## Загрузка и подготовка данных"
   ]
  },
  {
   "cell_type": "markdown",
   "metadata": {},
   "source": [
    "### Импортируем необходимые библиотеки и методы"
   ]
  },
  {
   "cell_type": "code",
   "execution_count": 1,
   "metadata": {},
   "outputs": [],
   "source": [
    "# импортируем библиотеки и методы\n",
    "import pandas as pd\n",
    "import seaborn as sns\n",
    "import matplotlib.pyplot as plt\n",
    "import numpy as np\n",
    "\n",
    "from sklearn.model_selection import train_test_split\n",
    "from sklearn.preprocessing import StandardScaler\n",
    "from sklearn.linear_model import LinearRegression\n",
    "from sklearn.metrics import mean_squared_error\n",
    "from sklearn.utils import shuffle"
   ]
  },
  {
   "cell_type": "markdown",
   "metadata": {},
   "source": [
    "Зафиксируем `random_state`:"
   ]
  },
  {
   "cell_type": "code",
   "execution_count": 2,
   "metadata": {},
   "outputs": [],
   "source": [
    "RANDOM_STATE = 1984"
   ]
  },
  {
   "cell_type": "markdown",
   "metadata": {},
   "source": [
    "И отключим предупреждения:"
   ]
  },
  {
   "cell_type": "code",
   "execution_count": 3,
   "metadata": {},
   "outputs": [],
   "source": [
    "import warnings\n",
    "\n",
    "warnings.filterwarnings('ignore')"
   ]
  },
  {
   "cell_type": "markdown",
   "metadata": {},
   "source": [
    "<div class=\"alert alert-block alert-success\">\n",
    "<b>Успех:</b> Отлично, что все импорты собраны в верхней части ноутбука! Если у того, кто будет запускать твой ноутбук будут отсутствовать некоторые библиотеки, то он это увидит сразу, а не в процессе!\n",
    "</div>"
   ]
  },
  {
   "cell_type": "markdown",
   "metadata": {},
   "source": [
    "### Прочитаем данные "
   ]
  },
  {
   "cell_type": "code",
   "execution_count": 4,
   "metadata": {},
   "outputs": [],
   "source": [
    "# откроем датасет либо локально, либо из интернета\n",
    "try:\n",
    "    df0 = pd.read_csv('/datasets/geo_data_0.csv')\n",
    "    df1 = pd.read_csv('/datasets/geo_data_1.csv')\n",
    "    df2 = pd.read_csv('/datasets/geo_data_2.csv')\n",
    "except:\n",
    "    df0 = pd.read_csv('https://code.s3.yandex.net/datasets/geo_data_0.csv')\n",
    "    df1 = pd.read_csv('https://code.s3.yandex.net/datasets/geo_data_1.csv')\n",
    "    df2 = pd.read_csv('https://code.s3.yandex.net/datasets/geo_data_2.csv')"
   ]
  },
  {
   "cell_type": "markdown",
   "metadata": {},
   "source": [
    "Познакомимся с данными:"
   ]
  },
  {
   "cell_type": "code",
   "execution_count": 5,
   "metadata": {},
   "outputs": [
    {
     "name": "stdout",
     "output_type": "stream",
     "text": [
      "<class 'pandas.core.frame.DataFrame'>\n",
      "RangeIndex: 100000 entries, 0 to 99999\n",
      "Data columns (total 5 columns):\n",
      " #   Column   Non-Null Count   Dtype  \n",
      "---  ------   --------------   -----  \n",
      " 0   id       100000 non-null  object \n",
      " 1   f0       100000 non-null  float64\n",
      " 2   f1       100000 non-null  float64\n",
      " 3   f2       100000 non-null  float64\n",
      " 4   product  100000 non-null  float64\n",
      "dtypes: float64(4), object(1)\n",
      "memory usage: 3.8+ MB\n"
     ]
    },
    {
     "data": {
      "text/plain": [
       "None"
      ]
     },
     "metadata": {},
     "output_type": "display_data"
    },
    {
     "name": "stdout",
     "output_type": "stream",
     "text": [
      "<class 'pandas.core.frame.DataFrame'>\n",
      "RangeIndex: 100000 entries, 0 to 99999\n",
      "Data columns (total 5 columns):\n",
      " #   Column   Non-Null Count   Dtype  \n",
      "---  ------   --------------   -----  \n",
      " 0   id       100000 non-null  object \n",
      " 1   f0       100000 non-null  float64\n",
      " 2   f1       100000 non-null  float64\n",
      " 3   f2       100000 non-null  float64\n",
      " 4   product  100000 non-null  float64\n",
      "dtypes: float64(4), object(1)\n",
      "memory usage: 3.8+ MB\n"
     ]
    },
    {
     "data": {
      "text/plain": [
       "None"
      ]
     },
     "metadata": {},
     "output_type": "display_data"
    },
    {
     "name": "stdout",
     "output_type": "stream",
     "text": [
      "<class 'pandas.core.frame.DataFrame'>\n",
      "RangeIndex: 100000 entries, 0 to 99999\n",
      "Data columns (total 5 columns):\n",
      " #   Column   Non-Null Count   Dtype  \n",
      "---  ------   --------------   -----  \n",
      " 0   id       100000 non-null  object \n",
      " 1   f0       100000 non-null  float64\n",
      " 2   f1       100000 non-null  float64\n",
      " 3   f2       100000 non-null  float64\n",
      " 4   product  100000 non-null  float64\n",
      "dtypes: float64(4), object(1)\n",
      "memory usage: 3.8+ MB\n"
     ]
    },
    {
     "data": {
      "text/plain": [
       "None"
      ]
     },
     "metadata": {},
     "output_type": "display_data"
    }
   ],
   "source": [
    "display(df0.info())\n",
    "display(df1.info())\n",
    "display(df2.info())"
   ]
  },
  {
   "cell_type": "markdown",
   "metadata": {},
   "source": [
    "Построим кореяционную карту:"
   ]
  },
  {
   "cell_type": "code",
   "execution_count": 6,
   "metadata": {
    "scrolled": false
   },
   "outputs": [
    {
     "data": {
      "image/png": "[encoded data removed]",
      "text/plain": [
       "<Figure size 432x288 with 2 Axes>"
      ]
     },
     "metadata": {
      "needs_background": "light"
     },
     "output_type": "display_data"
    },
    {
     "data": {
      "image/png": "[encoded data removed]",
      "text/plain": [
       "<Figure size 432x288 with 2 Axes>"
      ]
     },
     "metadata": {
      "needs_background": "light"
     },
     "output_type": "display_data"
    },
    {
     "data": {
      "image/png": "[encoded data removed]",
      "text/plain": [
       "<Figure size 432x288 with 2 Axes>"
      ]
     },
     "metadata": {
      "needs_background": "light"
     },
     "output_type": "display_data"
    }
   ],
   "source": [
    "fig, ax = plt.subplots()\n",
    "heatmap = sns.heatmap(df0.corr(), vmin=-1, vmax=1, annot=True, cmap='vlag')\n",
    "heatmap.set_title('Корреляционная тепловая карта по df0')\n",
    "plt.show()\n",
    "\n",
    "heatmap = sns.heatmap(df1.corr(), vmin=-1, vmax=1, annot=True, cmap='vlag')\n",
    "heatmap.set_title('Корреляционная тепловая карта по df1')\n",
    "plt.show()\n",
    "\n",
    "fig, ax = plt.subplots()\n",
    "heatmap = sns.heatmap(df2.corr(), vmin=-1, vmax=1, annot=True, cmap='vlag')\n",
    "heatmap.set_title('Корреляционная тепловая карта по df1')\n",
    "plt.show()"
   ]
  },
  {
   "cell_type": "markdown",
   "metadata": {},
   "source": [
    "Со вторым датасетом явно что то не так, посмотрим чуть подробнее:"
   ]
  },
  {
   "cell_type": "code",
   "execution_count": 7,
   "metadata": {},
   "outputs": [
    {
     "data": {
      "text/html": [
       "<div>\n",
       "<style scoped>\n",
       "    .dataframe tbody tr th:only-of-type {\n",
       "        vertical-align: middle;\n",
       "    }\n",
       "\n",
       "    .dataframe tbody tr th {\n",
       "        vertical-align: top;\n",
       "    }\n",
       "\n",
       "    .dataframe thead th {\n",
       "        text-align: right;\n",
       "    }\n",
       "</style>\n",
       "<table border=\"1\" class=\"dataframe\">\n",
       "  <thead>\n",
       "    <tr style=\"text-align: right;\">\n",
       "      <th></th>\n",
       "      <th>f0</th>\n",
       "      <th>f1</th>\n",
       "      <th>f2</th>\n",
       "      <th>product</th>\n",
       "    </tr>\n",
       "  </thead>\n",
       "  <tbody>\n",
       "    <tr>\n",
       "      <th>count</th>\n",
       "      <td>100000.000000</td>\n",
       "      <td>100000.000000</td>\n",
       "      <td>100000.000000</td>\n",
       "      <td>100000.000000</td>\n",
       "    </tr>\n",
       "    <tr>\n",
       "      <th>mean</th>\n",
       "      <td>0.500419</td>\n",
       "      <td>0.250143</td>\n",
       "      <td>2.502647</td>\n",
       "      <td>92.500000</td>\n",
       "    </tr>\n",
       "    <tr>\n",
       "      <th>std</th>\n",
       "      <td>0.871832</td>\n",
       "      <td>0.504433</td>\n",
       "      <td>3.248248</td>\n",
       "      <td>44.288691</td>\n",
       "    </tr>\n",
       "    <tr>\n",
       "      <th>min</th>\n",
       "      <td>-1.408605</td>\n",
       "      <td>-0.848218</td>\n",
       "      <td>-12.088328</td>\n",
       "      <td>0.000000</td>\n",
       "    </tr>\n",
       "    <tr>\n",
       "      <th>25%</th>\n",
       "      <td>-0.072580</td>\n",
       "      <td>-0.200881</td>\n",
       "      <td>0.287748</td>\n",
       "      <td>56.497507</td>\n",
       "    </tr>\n",
       "    <tr>\n",
       "      <th>50%</th>\n",
       "      <td>0.502360</td>\n",
       "      <td>0.250252</td>\n",
       "      <td>2.515969</td>\n",
       "      <td>91.849972</td>\n",
       "    </tr>\n",
       "    <tr>\n",
       "      <th>75%</th>\n",
       "      <td>1.073581</td>\n",
       "      <td>0.700646</td>\n",
       "      <td>4.715088</td>\n",
       "      <td>128.564089</td>\n",
       "    </tr>\n",
       "    <tr>\n",
       "      <th>max</th>\n",
       "      <td>2.362331</td>\n",
       "      <td>1.343769</td>\n",
       "      <td>16.003790</td>\n",
       "      <td>185.364347</td>\n",
       "    </tr>\n",
       "  </tbody>\n",
       "</table>\n",
       "</div>"
      ],
      "text/plain": [
       "                  f0             f1             f2        product\n",
       "count  100000.000000  100000.000000  100000.000000  100000.000000\n",
       "mean        0.500419       0.250143       2.502647      92.500000\n",
       "std         0.871832       0.504433       3.248248      44.288691\n",
       "min        -1.408605      -0.848218     -12.088328       0.000000\n",
       "25%        -0.072580      -0.200881       0.287748      56.497507\n",
       "50%         0.502360       0.250252       2.515969      91.849972\n",
       "75%         1.073581       0.700646       4.715088     128.564089\n",
       "max         2.362331       1.343769      16.003790     185.364347"
      ]
     },
     "metadata": {},
     "output_type": "display_data"
    },
    {
     "data": {
      "text/html": [
       "<div>\n",
       "<style scoped>\n",
       "    .dataframe tbody tr th:only-of-type {\n",
       "        vertical-align: middle;\n",
       "    }\n",
       "\n",
       "    .dataframe tbody tr th {\n",
       "        vertical-align: top;\n",
       "    }\n",
       "\n",
       "    .dataframe thead th {\n",
       "        text-align: right;\n",
       "    }\n",
       "</style>\n",
       "<table border=\"1\" class=\"dataframe\">\n",
       "  <thead>\n",
       "    <tr style=\"text-align: right;\">\n",
       "      <th></th>\n",
       "      <th>f0</th>\n",
       "      <th>f1</th>\n",
       "      <th>f2</th>\n",
       "      <th>product</th>\n",
       "    </tr>\n",
       "  </thead>\n",
       "  <tbody>\n",
       "    <tr>\n",
       "      <th>count</th>\n",
       "      <td>100000.000000</td>\n",
       "      <td>100000.000000</td>\n",
       "      <td>100000.000000</td>\n",
       "      <td>100000.000000</td>\n",
       "    </tr>\n",
       "    <tr>\n",
       "      <th>mean</th>\n",
       "      <td>1.141296</td>\n",
       "      <td>-4.796579</td>\n",
       "      <td>2.494541</td>\n",
       "      <td>68.825000</td>\n",
       "    </tr>\n",
       "    <tr>\n",
       "      <th>std</th>\n",
       "      <td>8.965932</td>\n",
       "      <td>5.119872</td>\n",
       "      <td>1.703572</td>\n",
       "      <td>45.944423</td>\n",
       "    </tr>\n",
       "    <tr>\n",
       "      <th>min</th>\n",
       "      <td>-31.609576</td>\n",
       "      <td>-26.358598</td>\n",
       "      <td>-0.018144</td>\n",
       "      <td>0.000000</td>\n",
       "    </tr>\n",
       "    <tr>\n",
       "      <th>25%</th>\n",
       "      <td>-6.298551</td>\n",
       "      <td>-8.267985</td>\n",
       "      <td>1.000021</td>\n",
       "      <td>26.953261</td>\n",
       "    </tr>\n",
       "    <tr>\n",
       "      <th>50%</th>\n",
       "      <td>1.153055</td>\n",
       "      <td>-4.813172</td>\n",
       "      <td>2.011479</td>\n",
       "      <td>57.085625</td>\n",
       "    </tr>\n",
       "    <tr>\n",
       "      <th>75%</th>\n",
       "      <td>8.621015</td>\n",
       "      <td>-1.332816</td>\n",
       "      <td>3.999904</td>\n",
       "      <td>107.813044</td>\n",
       "    </tr>\n",
       "    <tr>\n",
       "      <th>max</th>\n",
       "      <td>29.421755</td>\n",
       "      <td>18.734063</td>\n",
       "      <td>5.019721</td>\n",
       "      <td>137.945408</td>\n",
       "    </tr>\n",
       "  </tbody>\n",
       "</table>\n",
       "</div>"
      ],
      "text/plain": [
       "                  f0             f1             f2        product\n",
       "count  100000.000000  100000.000000  100000.000000  100000.000000\n",
       "mean        1.141296      -4.796579       2.494541      68.825000\n",
       "std         8.965932       5.119872       1.703572      45.944423\n",
       "min       -31.609576     -26.358598      -0.018144       0.000000\n",
       "25%        -6.298551      -8.267985       1.000021      26.953261\n",
       "50%         1.153055      -4.813172       2.011479      57.085625\n",
       "75%         8.621015      -1.332816       3.999904     107.813044\n",
       "max        29.421755      18.734063       5.019721     137.945408"
      ]
     },
     "metadata": {},
     "output_type": "display_data"
    },
    {
     "data": {
      "text/html": [
       "<div>\n",
       "<style scoped>\n",
       "    .dataframe tbody tr th:only-of-type {\n",
       "        vertical-align: middle;\n",
       "    }\n",
       "\n",
       "    .dataframe tbody tr th {\n",
       "        vertical-align: top;\n",
       "    }\n",
       "\n",
       "    .dataframe thead th {\n",
       "        text-align: right;\n",
       "    }\n",
       "</style>\n",
       "<table border=\"1\" class=\"dataframe\">\n",
       "  <thead>\n",
       "    <tr style=\"text-align: right;\">\n",
       "      <th></th>\n",
       "      <th>f0</th>\n",
       "      <th>f1</th>\n",
       "      <th>f2</th>\n",
       "      <th>product</th>\n",
       "    </tr>\n",
       "  </thead>\n",
       "  <tbody>\n",
       "    <tr>\n",
       "      <th>count</th>\n",
       "      <td>100000.000000</td>\n",
       "      <td>100000.000000</td>\n",
       "      <td>100000.000000</td>\n",
       "      <td>100000.000000</td>\n",
       "    </tr>\n",
       "    <tr>\n",
       "      <th>mean</th>\n",
       "      <td>0.002023</td>\n",
       "      <td>-0.002081</td>\n",
       "      <td>2.495128</td>\n",
       "      <td>95.000000</td>\n",
       "    </tr>\n",
       "    <tr>\n",
       "      <th>std</th>\n",
       "      <td>1.732045</td>\n",
       "      <td>1.730417</td>\n",
       "      <td>3.473445</td>\n",
       "      <td>44.749921</td>\n",
       "    </tr>\n",
       "    <tr>\n",
       "      <th>min</th>\n",
       "      <td>-8.760004</td>\n",
       "      <td>-7.084020</td>\n",
       "      <td>-11.970335</td>\n",
       "      <td>0.000000</td>\n",
       "    </tr>\n",
       "    <tr>\n",
       "      <th>25%</th>\n",
       "      <td>-1.162288</td>\n",
       "      <td>-1.174820</td>\n",
       "      <td>0.130359</td>\n",
       "      <td>59.450441</td>\n",
       "    </tr>\n",
       "    <tr>\n",
       "      <th>50%</th>\n",
       "      <td>0.009424</td>\n",
       "      <td>-0.009482</td>\n",
       "      <td>2.484236</td>\n",
       "      <td>94.925613</td>\n",
       "    </tr>\n",
       "    <tr>\n",
       "      <th>75%</th>\n",
       "      <td>1.158535</td>\n",
       "      <td>1.163678</td>\n",
       "      <td>4.858794</td>\n",
       "      <td>130.595027</td>\n",
       "    </tr>\n",
       "    <tr>\n",
       "      <th>max</th>\n",
       "      <td>7.238262</td>\n",
       "      <td>7.844801</td>\n",
       "      <td>16.739402</td>\n",
       "      <td>190.029838</td>\n",
       "    </tr>\n",
       "  </tbody>\n",
       "</table>\n",
       "</div>"
      ],
      "text/plain": [
       "                  f0             f1             f2        product\n",
       "count  100000.000000  100000.000000  100000.000000  100000.000000\n",
       "mean        0.002023      -0.002081       2.495128      95.000000\n",
       "std         1.732045       1.730417       3.473445      44.749921\n",
       "min        -8.760004      -7.084020     -11.970335       0.000000\n",
       "25%        -1.162288      -1.174820       0.130359      59.450441\n",
       "50%         0.009424      -0.009482       2.484236      94.925613\n",
       "75%         1.158535       1.163678       4.858794     130.595027\n",
       "max         7.238262       7.844801      16.739402     190.029838"
      ]
     },
     "metadata": {},
     "output_type": "display_data"
    }
   ],
   "source": [
    "display(df0.describe())\n",
    "display(df1.describe())\n",
    "display(df2.describe())"
   ]
  },
  {
   "cell_type": "markdown",
   "metadata": {},
   "source": [
    "Построим гистограммы по столбцу `product` в каждом регионе:"
   ]
  },
  {
   "cell_type": "code",
   "execution_count": 8,
   "metadata": {},
   "outputs": [
    {
     "data": {
      "image/png": "[encoded data removed]",
      "text/plain": [
       "<Figure size 936x720 with 1 Axes>"
      ]
     },
     "metadata": {
      "needs_background": "light"
     },
     "output_type": "display_data"
    }
   ],
   "source": [
    "plt.figure(figsize=[13,10])\n",
    "plt.hist(df0['product'], bins=200)\n",
    "\n",
    "plt.xlim([0,200])\n",
    "plt.ylim([0,800])\n",
    "plt.xlabel(\"Объем нефти на скважину, тыс. барелей\")\n",
    "plt.ylabel(\"Количество скважин\")\n",
    "\n",
    "plt.title(\"Гистограмма распределения по объему скважин первого региона\")\n",
    "plt.show()"
   ]
  },
  {
   "cell_type": "code",
   "execution_count": 9,
   "metadata": {},
   "outputs": [
    {
     "data": {
      "image/png": "[encoded data removed]",
      "text/plain": [
       "<Figure size 936x720 with 1 Axes>"
      ]
     },
     "metadata": {
      "needs_background": "light"
     },
     "output_type": "display_data"
    }
   ],
   "source": [
    "plt.figure(figsize=[13,10])\n",
    "plt.hist(df1['product'], bins=10)\n",
    "\n",
    "plt.xlim([0,150])\n",
    "plt.ylim([0,19000])\n",
    "plt.xlabel(\"Объем нефти на скважину, тыс. барелей\")\n",
    "plt.ylabel(\"Количество скважин\")\n",
    "\n",
    "plt.title(\"Гистограмма распределения по объему скважин второго региона\")\n",
    "plt.show()"
   ]
  },
  {
   "cell_type": "code",
   "execution_count": 10,
   "metadata": {},
   "outputs": [
    {
     "data": {
      "image/png": "[encoded data removed]",
      "text/plain": [
       "<Figure size 936x720 with 1 Axes>"
      ]
     },
     "metadata": {
      "needs_background": "light"
     },
     "output_type": "display_data"
    }
   ],
   "source": [
    "plt.figure(figsize=[13,10])\n",
    "plt.hist(df2['product'], bins=200)\n",
    "\n",
    "plt.xlim([0,200])\n",
    "plt.ylim([0,1000])\n",
    "plt.xlabel(\"Объем нефти на скважину, тыс. барелей\")\n",
    "plt.ylabel(\"Количество скважин\")\n",
    "\n",
    "plt.title(\"Гистограмма распределения по объему скважин третьего региона\")\n",
    "plt.show()"
   ]
  },
  {
   "cell_type": "markdown",
   "metadata": {},
   "source": [
    "На лицо искуственность второго датасэта."
   ]
  },
  {
   "cell_type": "markdown",
   "metadata": {},
   "source": [
    "### Подготовим данные"
   ]
  },
  {
   "cell_type": "markdown",
   "metadata": {},
   "source": [
    "Удалим неинформативный признак из каждого датафрейма - столбец `id`."
   ]
  },
  {
   "cell_type": "code",
   "execution_count": 11,
   "metadata": {},
   "outputs": [],
   "source": [
    "df0 = df0.drop(['id'], axis=1)\n",
    "df1 = df1.drop(['id'], axis=1)\n",
    "df2 = df2.drop(['id'], axis=1)"
   ]
  },
  {
   "cell_type": "markdown",
   "metadata": {},
   "source": [
    "### Вывод"
   ]
  },
  {
   "cell_type": "markdown",
   "metadata": {},
   "source": [
    "Данные готовы к обучению.\n",
    "\n",
    "К первому и третьему датасэту вопросов нет, а вот ко второму датасэту стоит отнестись аккуратней -  скорей всего он был введен искуственно."
   ]
  },
  {
   "cell_type": "markdown",
   "metadata": {},
   "source": [
    "<div class=\"alert alert-block alert-success\">\n",
    "<b>Успех:</b> Данные загружены и осмотрены корректно. Согласен, что колонка id нам не нужна. Радует, что распределения и корреляции были визуализированы!\n",
    "</div>"
   ]
  },
  {
   "cell_type": "markdown",
   "metadata": {},
   "source": [
    "## Обучение и проверка модели"
   ]
  },
  {
   "cell_type": "markdown",
   "metadata": {},
   "source": [
    "Но сначала выделим признаки для модели:"
   ]
  },
  {
   "cell_type": "code",
   "execution_count": 12,
   "metadata": {},
   "outputs": [],
   "source": [
    "# выделим признаки и целевой признак\n",
    "features_0 = df0.drop('product', axis=1)\n",
    "target_0 = df0['product']\n",
    "\n",
    "features_1 = df1.drop('product', axis=1)\n",
    "target_1 = df1['product']\n",
    "\n",
    "features_2 = df2.drop('product', axis=1)\n",
    "target_2 = df2['product']"
   ]
  },
  {
   "cell_type": "markdown",
   "metadata": {},
   "source": [
    " ### Разобьем данные на обучающую и валидационную выборки"
   ]
  },
  {
   "cell_type": "code",
   "execution_count": 13,
   "metadata": {},
   "outputs": [],
   "source": [
    "# отделим обучающую и валидационную выборку\n",
    "features_train_0, features_valid_0, target_train_0, target_valid_0 = train_test_split(\n",
    "    features_0, target_0, test_size=0.25, random_state=RANDOM_STATE)\n",
    "\n",
    "features_train_1, features_valid_1, target_train_1, target_valid_1 = train_test_split(\n",
    "    features_1, target_1, test_size=0.25, random_state=RANDOM_STATE)\n",
    "\n",
    "features_train_2, features_valid_2, target_train_2, target_valid_2 = train_test_split(\n",
    "    features_2, target_2, test_size=0.25, random_state=RANDOM_STATE)"
   ]
  },
  {
   "cell_type": "markdown",
   "metadata": {},
   "source": [
    "### Стандартизируем признаки"
   ]
  },
  {
   "cell_type": "code",
   "execution_count": 14,
   "metadata": {},
   "outputs": [],
   "source": [
    "#стандартизируем признаки\n",
    "numeric = ['f0', 'f1', 'f2']\n",
    "scaler = StandardScaler()\n",
    "\n",
    "scaler.fit(features_train_0[numeric])\n",
    "features_train_0[numeric] = scaler.transform(features_train_0[numeric])\n",
    "features_valid_0[numeric] = scaler.transform(features_valid_0[numeric])\n",
    "\n",
    "scaler.fit(features_train_1[numeric])\n",
    "features_train_1[numeric] = scaler.transform(features_train_1[numeric])\n",
    "features_valid_1[numeric] = scaler.transform(features_valid_1[numeric])\n",
    "\n",
    "scaler.fit(features_train_2[numeric])\n",
    "features_train_2[numeric] = scaler.transform(features_train_2[numeric])\n",
    "features_valid_2[numeric] = scaler.transform(features_valid_2[numeric])"
   ]
  },
  {
   "cell_type": "markdown",
   "metadata": {},
   "source": [
    "<div class=\"alert alert-block alert-success\">\n",
    "<b>Успех:</b> Отлично, что scaler был обучен только на треине!\n",
    "</div>"
   ]
  },
  {
   "cell_type": "markdown",
   "metadata": {},
   "source": [
    "### Обучитм модель и сделаем предсказания на валидационной выборке"
   ]
  },
  {
   "cell_type": "markdown",
   "metadata": {},
   "source": [
    "Согласно условию задачи нам подходит только линейная регрессия, т. к. она достаточно предсказуема."
   ]
  },
  {
   "cell_type": "code",
   "execution_count": 15,
   "metadata": {},
   "outputs": [
    {
     "name": "stdout",
     "output_type": "stream",
     "text": [
      "RMSE модели первого региона - 37.70\n",
      "Cредний запас предсказанного сырья первого региона - 92.47\n",
      "\n",
      "RMSE модели второго региона - 0.89\n",
      "Cредний запас предсказанного сырья второго региона - 68.69\n",
      "\n",
      "RMSE модели третьего региона - 40.22\n",
      "Cредний запас предсказанного сырья третьего региона - 94.83\n"
     ]
    }
   ],
   "source": [
    "model = LinearRegression()\n",
    "\n",
    "model.fit(features_train_0, target_train_0)\n",
    "predicted_target_0 = model.predict(features_valid_0)\n",
    "print('RMSE модели первого региона -', \n",
    "      f'{mean_squared_error(target_valid_0, predicted_target_0)**0.5:.2f}')\n",
    "print('Cредний запас предсказанного сырья первого региона -',\n",
    "      f'{ predicted_target_0.mean():.2f}\\n' )\n",
    "\n",
    "model.fit(features_train_1, target_train_1)\n",
    "predicted_target_1 = model.predict(features_valid_1)\n",
    "print('RMSE модели второго региона -', \n",
    "      f'{mean_squared_error(target_valid_1, predicted_target_1)**0.5:.2f}')\n",
    "print('Cредний запас предсказанного сырья второго региона -',\n",
    "      f'{ predicted_target_1.mean():.2f}\\n')\n",
    "\n",
    "model.fit(features_train_2, target_train_2)\n",
    "predicted_target_2 = model.predict(features_valid_2)\n",
    "print('RMSE модели третьего региона -', \n",
    "      f'{mean_squared_error(target_valid_2, predicted_target_2)**0.5:.2f}')\n",
    "print('Cредний запас предсказанного сырья третьего региона -',\n",
    "      f'{ predicted_target_2.mean():.2f}')"
   ]
  },
  {
   "cell_type": "markdown",
   "metadata": {},
   "source": [
    "Сравним предсказаный объем с реальным в каждом регионе:"
   ]
  },
  {
   "cell_type": "code",
   "execution_count": 16,
   "metadata": {},
   "outputs": [
    {
     "name": "stdout",
     "output_type": "stream",
     "text": [
      "Предсказанный запас в первом регионе: 2311822.67\n",
      "Реальный запас в первом регионе: 2314733.19\n",
      "Ошибка в предсказании в первом регионе на: 2910.51\n",
      "\n",
      "Предсказанный запас во втором регионе: 1717203.69\n",
      "Реальный запас во втором регионе: 1717459.30\n",
      "Ошибка в предсказании во втором регионе на: 255.61\n",
      "\n",
      "Предсказанный запас в третьем регионе: 2370657.98\n",
      "Реальный запас в третьем регионе: 2381689.42\n",
      "Ошибка в предсказании в третьем регионе на: 11031.44\n"
     ]
    }
   ],
   "source": [
    "print('Предсказанный запас в первом регионе:', f'{predicted_target_0.sum():.2f}')\n",
    "print('Реальный запас в первом регионе:',f'{ target_valid_0.sum():.2f}')\n",
    "print('Ошибка в предсказании в первом регионе на:',\n",
    "      f'{abs(predicted_target_0.sum() - target_valid_0.sum()):.2f}\\n')\n",
    "\n",
    "print('Предсказанный запас во втором регионе:', f'{predicted_target_1.sum():.2f}')\n",
    "print('Реальный запас во втором регионе:',f'{ target_valid_1.sum():.2f}')\n",
    "print('Ошибка в предсказании во втором регионе на:',\n",
    "      f'{abs(predicted_target_1.sum() - target_valid_1.sum()):.2f}\\n')\n",
    "\n",
    "print('Предсказанный запас в третьем регионе:', f'{predicted_target_2.sum():.2f}')\n",
    "print('Реальный запас в третьем регионе:',f'{ target_valid_2.sum():.2f}')\n",
    "print('Ошибка в предсказании в третьем регионе на:',\n",
    "      f'{abs(predicted_target_2.sum() - target_valid_2.sum()):.2f}')"
   ]
  },
  {
   "cell_type": "markdown",
   "metadata": {},
   "source": [
    "### Вывод"
   ]
  },
  {
   "cell_type": "markdown",
   "metadata": {},
   "source": [
    "Лучшее предсказание модели во втором регионе **(RMSE - 0.89)** с ошибкой в **45.56 тыс. баррелей**.\n",
    "\n",
    "Вероятной причиной этого скорей всего является то, что датасэт по второму региону был введен специально."
   ]
  },
  {
   "cell_type": "markdown",
   "metadata": {},
   "source": [
    "<div class=\"alert alert-block alert-success\">\n",
    "<b>Успех:</b> Модели обучены корректно.\n",
    "</div>\n",
    "\n",
    "<div class=\"alert alert-block alert-info\">\n",
    "<b>Совет: </b> На протяжении всего проекта происходит работа с 3мя одинаковыми таблицами. В связи с этим можно было использовать функции и/или циклы, чтобы избежать копирования кода.\n",
    "<br> Зачем его нужно избегать? Потому что очень часто оно приводит к ошибкам (например, забыл поменять одну из переменных). Впоследствии такие ошибки очень трудно найти.\n",
    "</div>"
   ]
  },
  {
   "cell_type": "markdown",
   "metadata": {},
   "source": [
    "## Подготовка к расчёту прибыли"
   ]
  },
  {
   "cell_type": "markdown",
   "metadata": {},
   "source": [
    "### Ключевые значения "
   ]
  },
  {
   "cell_type": "markdown",
   "metadata": {},
   "source": [
    "Сохраним ключевые значения в отдельных переменных:"
   ]
  },
  {
   "cell_type": "code",
   "execution_count": 17,
   "metadata": {},
   "outputs": [],
   "source": [
    "# бюджет на разработку скважин в регионе (10 милн тыс. руб), т.к. расчет в тыс. руб.\n",
    "budget = 10000000 \n",
    "# при разведке региона исследуют 500 точек\n",
    "chosen_points = 500 \n",
    "# из которых с помощью машинного обучения выбирали 200 лучших\n",
    "best_points = 200\n",
    "# цена за баррель нефти\n",
    "price_per_barrel = 450"
   ]
  },
  {
   "cell_type": "markdown",
   "metadata": {},
   "source": [
    "### Рассчет достаточного объёма нефти для безубыточной разработки новой скважины"
   ]
  },
  {
   "cell_type": "markdown",
   "metadata": {},
   "source": [
    "Посчитаем требования к прибыли и объемам:"
   ]
  },
  {
   "cell_type": "code",
   "execution_count": 18,
   "metadata": {
    "scrolled": true
   },
   "outputs": [
    {
     "name": "stdout",
     "output_type": "stream",
     "text": [
      "Средняя прибыль на скважину должна составлять: 50000.00, тыс. руб.\n",
      "Средний объем нефти на скважину должен составлять: 111.11, тыс. барелей\n",
      "Средний объем нефти на регион должен составлять: 22222.22, тыс. барелей\n"
     ]
    }
   ],
   "source": [
    "average_profit_per_point = budget / best_points\n",
    "print('Средняя прибыль на скважину должна составлять:',\n",
    "      f'{average_profit_per_point:.2f}, тыс. руб.')\n",
    "\n",
    "average_barrels_per_point = average_profit_per_point  / price_per_barrel\n",
    "print('Средний объем нефти на скважину должен составлять:',\n",
    "      f'{average_barrels_per_point:.2f}, тыс. барелей')\n",
    "\n",
    "average_barrels_per_region = budget / price_per_barrel\n",
    "print('Средний объем нефти на регион должен составлять:',\n",
    "      f'{average_barrels_per_region:.2f}, тыс. барелей')"
   ]
  },
  {
   "cell_type": "markdown",
   "metadata": {},
   "source": [
    "Сравним полученный объём сырья со средним запасом в каждом регионе:"
   ]
  },
  {
   "cell_type": "code",
   "execution_count": 19,
   "metadata": {},
   "outputs": [
    {
     "name": "stdout",
     "output_type": "stream",
     "text": [
      "Фактический средний объем нефти на скважину в первом регионе: 92.50000000000001\n",
      "Дефицит объема нефти на точку в регионе 1: -18.6111111111111\n",
      "\n",
      "Фактический средний объем нефти на скважину во втором регионе: 68.82500000000002\n",
      "Дефицит объема нефти на точку в регионе 2: -42.2861111111111\n",
      "\n",
      "Фактический средний объем нефти на скважину в третьем регионе: 95.00000000000004\n",
      "Дефицит объема нефти на точку в регионе 3: -16.11111111111107\n"
     ]
    }
   ],
   "source": [
    "print('Фактический средний объем нефти на скважину в первом регионе:', df0['product'].mean())\n",
    "print('Дефицит объема нефти на точку в регионе 1:', df0['product'].mean()-average_barrels_per_point)\n",
    "print()\n",
    "print('Фактический средний объем нефти на скважину во втором регионе:', df1['product'].mean())\n",
    "print('Дефицит объема нефти на точку в регионе 2:', df1['product'].mean()-average_barrels_per_point)\n",
    "print()\n",
    "print('Фактический средний объем нефти на скважину в третьем регионе:', df2['product'].mean())\n",
    "print('Дефицит объема нефти на точку в регионе 3:', df2['product'].mean()-average_barrels_per_point)"
   ]
  },
  {
   "cell_type": "markdown",
   "metadata": {},
   "source": [
    "<div class=\"alert alert-block alert-info\">\n",
    "\n",
    "<b>Совет: </b> В названиях константных переменных лучше использовать только БОЛЬШИЕ буквы. Это соглашение между программистами: https://pythonworld.ru/osnovy/pep-8-rukovodstvo-po-napisaniyu-koda-na-python.html#id29 .\n",
    "</div>\n",
    "\n",
    "<div class=\"alert alert-block alert-success\">\n",
    "<b>Успех:</b> Точка безубыточности найдена верно, сравнение проведено!\n",
    "</div>"
   ]
  },
  {
   "cell_type": "markdown",
   "metadata": {},
   "source": [
    "### Функция для расчёта прибыли"
   ]
  },
  {
   "cell_type": "markdown",
   "metadata": {},
   "source": [
    "Напишем функцию для расчёта прибыли по выбранным скважинам и предсказаниям модели, но сначала приведем данные к типу Series:"
   ]
  },
  {
   "cell_type": "code",
   "execution_count": 20,
   "metadata": {},
   "outputs": [],
   "source": [
    "# приведем данные к типу Series\n",
    "target_valid_0 = target_valid_0.reset_index(drop=True)\n",
    "predicted_target_0 = pd.Series(predicted_target_0)\n",
    "\n",
    "target_valid_1 = target_valid_1.reset_index(drop=True)\n",
    "predicted_target_1 = pd.Series(predicted_target_1)\n",
    "\n",
    "target_valid_2 = target_valid_2.reset_index(drop=True)\n",
    "predicted_target_2 = pd.Series(predicted_target_2)"
   ]
  },
  {
   "cell_type": "code",
   "execution_count": 21,
   "metadata": {},
   "outputs": [],
   "source": [
    "# напишем функцию для расчёта прибыли\n",
    "def oil_profit_calculation(target, predictions, count):\n",
    "    predictions_sorted = predictions.sort_values(ascending=False)\n",
    "    selected = target[predictions_sorted.index][:count]\n",
    "    return price_per_barrel * selected.sum() - budget"
   ]
  },
  {
   "cell_type": "markdown",
   "metadata": {},
   "source": [
    "<div class=\"alert alert-block alert-success\">\n",
    "<b>Успех:</b> Верно.\n",
    "</div>"
   ]
  },
  {
   "cell_type": "code",
   "execution_count": 22,
   "metadata": {},
   "outputs": [
    {
     "name": "stdout",
     "output_type": "stream",
     "text": [
      "Прибыль по первому региону: 3059083.94, тыс. рублей\n",
      "Прибыль по второму региону: 2415086.70, тыс. рублей\n",
      "Прибыль по третьему региону: 2585877.67, тыс. рублей\n"
     ]
    }
   ],
   "source": [
    "print('Прибыль по первому региону:',\n",
    "      f'{oil_profit_calculation(target_valid_0, predicted_target_0, best_points):.2f}, тыс. рублей')\n",
    "print('Прибыль по второму региону:',\n",
    "      f'{oil_profit_calculation(target_valid_1, predicted_target_1, best_points):.2f}, тыс. рублей')\n",
    "print('Прибыль по третьему региону:',\n",
    "      f'{oil_profit_calculation(target_valid_2, predicted_target_2, best_points):.2f}, тыс. рублей')"
   ]
  },
  {
   "cell_type": "markdown",
   "metadata": {},
   "source": [
    "### Выводы"
   ]
  },
  {
   "cell_type": "markdown",
   "metadata": {},
   "source": [
    "Для безубыточной разработки новой скважины средний объем нефти на скважину должен составлять **111.11, тыс. барелей**. \n",
    "\n",
    "При этом шанс окупить затраты у второго региона меньше чем у остольных: **средний дефицит** объема нефти на скважину в этом регионе составляет **-42.29** тыс. барелей. \n",
    "\n",
    "Наибольшая прогнозируемая прибыль у первого региона: **3059083.94**, тыс. рублей."
   ]
  },
  {
   "cell_type": "markdown",
   "metadata": {},
   "source": [
    "## Расчёт прибыли и рисков "
   ]
  },
  {
   "cell_type": "markdown",
   "metadata": {},
   "source": [
    "Посчитайте риски и прибыль для каждого региона:\n",
    "5.1. Примените технику Bootstrap с 1000 выборок, чтобы найти распределение прибыли.\n",
    "5.2. Найдите среднюю прибыль, 95%-й доверительный интервал и риск убытков. Убыток — это отрицательная прибыль.\n",
    "5.3. Напишите выводы: предложите регион для разработки скважин и обоснуйте выбор."
   ]
  },
  {
   "cell_type": "markdown",
   "metadata": {},
   "source": [
    "### Bootstrap с 1000 выборок"
   ]
  },
  {
   "cell_type": "markdown",
   "metadata": {},
   "source": [
    "Напишем функцию для `Bootstrap`:"
   ]
  },
  {
   "cell_type": "code",
   "execution_count": 23,
   "metadata": {},
   "outputs": [],
   "source": [
    "state = np.random.RandomState(8800)\n",
    "def bootstrap(target, probs):\n",
    "    values=[]\n",
    "    loss = 0\n",
    "    for i in range(1000):\n",
    "        target_sample = target.sample(n=chosen_points, replace=True, random_state=state)\n",
    "        probs_sample = probs[target_sample.index]\n",
    "        profit = oil_profit_calculation(target, probs_sample, best_points)\n",
    "        if profit < 0:\n",
    "            loss +=1\n",
    "        values.append(profit)\n",
    "    \n",
    "    values = pd.Series(values)\n",
    "    lower = values.quantile(0.025)\n",
    "    upper = values.quantile(0.975)\n",
    "    average = values.mean()\n",
    "    risk = loss / values.count()\n",
    "    return average, lower, upper, risk"
   ]
  },
  {
   "cell_type": "markdown",
   "metadata": {},
   "source": [
    "<div class=\"alert alert-block alert-success\">\n",
    "<b>Успех:</b> Отлично, что для подсчета доверительного интервала использовался именно метод квантилей!\n",
    "</div>\n",
    "\n",
    "\n",
    "<div class=\"alert alert-block alert-info\">\n",
    "\n",
    "<b>Совет: </b> Риск можно было найти чуть проще: `(values < 0).mean()`, если объект типа pandas Series или numpy array.\n",
    "</div>"
   ]
  },
  {
   "cell_type": "markdown",
   "metadata": {},
   "source": [
    "### Cредняя прибыль, 95%-й доверительный интервал и риск убытков"
   ]
  },
  {
   "cell_type": "markdown",
   "metadata": {},
   "source": [
    "Применим функцию `bootstrap` и выведем среднюю прибыль, доверительный интервал и риск убытков для каждого региона:"
   ]
  },
  {
   "cell_type": "code",
   "execution_count": 24,
   "metadata": {
    "scrolled": true
   },
   "outputs": [
    {
     "name": "stdout",
     "output_type": "stream",
     "text": [
      "Средняя прибыль в первом регионе составляет 406921.36 тыс.руб.\n",
      "95%-й доверительный интервал первого региона от -105929.91 до 897383.79 тыс.руб.\n",
      "Процент риска в первом регионе составляет 6.40%\n",
      "\n",
      "Средняя прибыль во втором регионе составляет 450685.97 тыс.руб.\n",
      "95%-й доверительный интервал второго региона от 50186.84 до 869394.41 тыс.руб.\n",
      "Процент риска во втором регионе составляет 1.40%\n",
      "\n",
      "Средняя прибыль в третьем регионе составляет 389803.66 тыс.руб.\n",
      "95%-й доверительный интервал третьего региона от -147471.66 до 891711.20 тыс.руб.\n",
      "Процент риска в третьем регионе составляет 7.60%\n"
     ]
    }
   ],
   "source": [
    "average_0, lower_0, upper_0, risk_0 = bootstrap(target_valid_0, predicted_target_0)\n",
    "print('Средняя прибыль в первом регионе составляет {:.2f} тыс.руб.'.format(average_0))\n",
    "print('95%-й доверительный интервал первого региона от {:.2f} до {:.2f} тыс.руб.'\n",
    "      .format(lower_0, upper_0))\n",
    "print('Процент риска в первом регионе составляет {:.2%}\\n'.format(risk_0))\n",
    "\n",
    "average_1, lower_1, upper_1, risk_1 = bootstrap(target_valid_1, predicted_target_1)\n",
    "print('Средняя прибыль во втором регионе составляет {:.2f} тыс.руб.'.format(average_1))\n",
    "print('95%-й доверительный интервал второго региона от {:.2f} до {:.2f} тыс.руб.'\n",
    "      .format(lower_1, upper_1))\n",
    "print('Процент риска во втором регионе составляет {:.2%}\\n'.format(risk_1))\n",
    "\n",
    "average_2, lower_2, upper_2, risk_2 = bootstrap(target_valid_2, predicted_target_2)\n",
    "print('Средняя прибыль в третьем регионе составляет {:.2f} тыс.руб.'.format(average_2))\n",
    "print('95%-й доверительный интервал третьего региона от {:.2f} до {:.2f} тыс.руб.'\n",
    "      .format(lower_2, upper_2))\n",
    "print('Процент риска в третьем регионе составляет {:.2%}'.format(risk_2))"
   ]
  },
  {
   "cell_type": "markdown",
   "metadata": {},
   "source": [
    "### Вывод"
   ]
  },
  {
   "cell_type": "markdown",
   "metadata": {},
   "source": [
    "По результатам подсчета рисков и прибыли лидером стал второй регион: средняя прибыль составит **450685.97 тыс.руб**, при этом риск минимальный, всего **1.40%**. \n",
    "\n",
    "Первый и третий регионы имеют достаточно высокий процент риска: **6.40%** и **7.60%** соответственно, что не удовлетворяет условию поставленной задачи (риски не должны превышать 2.50%)."
   ]
  },
  {
   "cell_type": "markdown",
   "metadata": {},
   "source": [
    "## Выводы"
   ]
  },
  {
   "cell_type": "markdown",
   "metadata": {},
   "source": [
    "По результатам знакомства с датасетами выявлена явная **синтетичность данных во втором регионе**.\n",
    "\n",
    "После обучения модели выяснилось, что лучшая среднеквадратическая ошибка во втором регионе - **0.89**, при этом фактический средний объем нефти на скважину в регионе оказался самым низким: всего  **68.82** тыс. баррелей из прогнозируемого минимума в 111 тыс. баррелей.\n",
    "\n",
    "Единственным регионом для разработки скважин оказался **второй регион**. Судя по доверительному интервалу можно сказать, что даже при не удачном выборе скважины - **разработка окупится**.\n",
    "\n",
    "Главной особеностью проекта можно выделить ненормальное распределение данных во втором регионе, от чего наша функция расчета прибыли могла увести нас не в том направлении, но благодоря технике `Bootstrap` все стало на свои места."
   ]
  },
  {
   "cell_type": "markdown",
   "metadata": {},
   "source": [
    "<div class=\"alert alert-block alert-success\">\n",
    "<b>Успех:</b> Приятно видеть вывод в конце проекта! С выбором региона согласен.\n",
    "</div>"
   ]
  },
  {
   "cell_type": "markdown",
   "metadata": {},
   "source": [
    "# Чек-лист готовности проекта"
   ]
  },
  {
   "cell_type": "markdown",
   "metadata": {},
   "source": [
    "Поставьте 'x' в выполненных пунктах. Далее нажмите Shift+Enter."
   ]
  },
  {
   "cell_type": "markdown",
   "metadata": {},
   "source": [
    "- [x]  Jupyter Notebook открыт\n",
    "- [x]  Весь код выполняется без ошибок\n",
    "- [x]  Ячейки с кодом расположены в порядке исполнения\n",
    "- [x]  Выполнен шаг 1: данные подготовлены\n",
    "- [x]  Выполнен шаг 2: модели обучены и проверены\n",
    "    - [x]  Данные корректно разбиты на обучающую и валидационную выборки\n",
    "    - [x]  Модели обучены, предсказания сделаны\n",
    "    - [x]  Предсказания и правильные ответы на валидационной выборке сохранены\n",
    "    - [x]  На экране напечатаны результаты\n",
    "    - [x]  Сделаны выводы\n",
    "- [x]  Выполнен шаг 3: проведена подготовка к расчёту прибыли\n",
    "    - [x]  Для всех ключевых значений созданы константы Python\n",
    "    - [x]  Посчитано минимальное среднее количество продукта в месторождениях региона, достаточное для разработки\n",
    "    - [x]  По предыдущему пункту сделаны выводы\n",
    "    - [x]  Написана функция расчёта прибыли\n",
    "- [x]  Выполнен шаг 4: посчитаны риски и прибыль\n",
    "    - [x]  Проведена процедура *Bootstrap*\n",
    "    - [x]  Все параметры бутстрепа соответствуют условию\n",
    "    - [x]  Найдены все нужные величины\n",
    "    - [x]  Предложен регион для разработки месторождения\n",
    "    - [x]  Выбор региона обоснован"
   ]
  }
 ],
 "metadata": {
  "ExecuteTimeLog": [
   {
    "duration": 5,
    "start_time": "2022-12-10T08:17:34.113Z"
   },
   {
    "duration": 1815,
    "start_time": "2022-12-10T08:17:34.121Z"
   },
   {
    "duration": 71,
    "start_time": "2022-12-10T08:17:35.938Z"
   },
   {
    "duration": 0,
    "start_time": "2022-12-10T08:17:36.012Z"
   },
   {
    "duration": 0,
    "start_time": "2022-12-10T08:17:36.014Z"
   },
   {
    "duration": 0,
    "start_time": "2022-12-10T08:17:36.016Z"
   },
   {
    "duration": 0,
    "start_time": "2022-12-10T08:17:36.017Z"
   },
   {
    "duration": 4,
    "start_time": "2022-12-10T08:18:10.307Z"
   },
   {
    "duration": 3,
    "start_time": "2022-12-10T08:18:10.317Z"
   },
   {
    "duration": 3,
    "start_time": "2022-12-10T08:18:10.328Z"
   },
   {
    "duration": 1803,
    "start_time": "2022-12-10T08:18:19.468Z"
   },
   {
    "duration": 3,
    "start_time": "2022-12-10T08:18:24.280Z"
   },
   {
    "duration": 29,
    "start_time": "2022-12-10T08:19:03.284Z"
   },
   {
    "duration": 57,
    "start_time": "2022-12-10T08:19:52.483Z"
   },
   {
    "duration": 451,
    "start_time": "2022-12-10T08:21:07.597Z"
   },
   {
    "duration": 359,
    "start_time": "2022-12-10T08:21:39.908Z"
   },
   {
    "duration": 388,
    "start_time": "2022-12-10T08:21:41.947Z"
   },
   {
    "duration": 125,
    "start_time": "2022-12-10T08:22:23.214Z"
   },
   {
    "duration": 1320,
    "start_time": "2022-12-10T08:22:35.453Z"
   },
   {
    "duration": 15,
    "start_time": "2022-12-10T08:22:42.866Z"
   },
   {
    "duration": 369,
    "start_time": "2022-12-10T08:24:36.699Z"
   },
   {
    "duration": 424,
    "start_time": "2022-12-10T08:24:41.439Z"
   },
   {
    "duration": 436,
    "start_time": "2022-12-10T08:24:44.072Z"
   },
   {
    "duration": 302,
    "start_time": "2022-12-10T08:43:00.209Z"
   },
   {
    "duration": 646,
    "start_time": "2022-12-10T08:43:20.015Z"
   },
   {
    "duration": 661,
    "start_time": "2022-12-10T08:43:26.942Z"
   },
   {
    "duration": 718,
    "start_time": "2022-12-10T10:44:33.070Z"
   },
   {
    "duration": 44,
    "start_time": "2022-12-15T19:45:18.478Z"
   },
   {
    "duration": 7,
    "start_time": "2022-12-15T19:45:23.677Z"
   },
   {
    "duration": 1486,
    "start_time": "2022-12-15T19:45:27.429Z"
   },
   {
    "duration": 2,
    "start_time": "2022-12-15T19:45:28.918Z"
   },
   {
    "duration": 8,
    "start_time": "2022-12-15T19:45:28.922Z"
   },
   {
    "duration": 1609,
    "start_time": "2022-12-15T19:45:28.931Z"
   },
   {
    "duration": 46,
    "start_time": "2022-12-15T19:45:30.542Z"
   },
   {
    "duration": 717,
    "start_time": "2022-12-15T19:45:30.590Z"
   },
   {
    "duration": 648,
    "start_time": "2022-12-15T19:45:35.285Z"
   },
   {
    "duration": 533,
    "start_time": "2022-12-15T19:45:43.024Z"
   },
   {
    "duration": 646,
    "start_time": "2022-12-15T19:45:55.776Z"
   },
   {
    "duration": 446,
    "start_time": "2022-12-15T19:46:01.611Z"
   },
   {
    "duration": 14,
    "start_time": "2022-12-15T19:46:45.631Z"
   },
   {
    "duration": 945,
    "start_time": "2022-12-15T19:47:06.385Z"
   },
   {
    "duration": 71,
    "start_time": "2022-12-15T19:47:42.971Z"
   },
   {
    "duration": 72,
    "start_time": "2022-12-15T19:47:57.948Z"
   },
   {
    "duration": 4,
    "start_time": "2022-12-15T19:48:03.330Z"
   },
   {
    "duration": 4,
    "start_time": "2022-12-15T19:48:25.297Z"
   },
   {
    "duration": 3,
    "start_time": "2022-12-15T19:48:32.508Z"
   },
   {
    "duration": 1647,
    "start_time": "2022-12-16T12:44:39.558Z"
   },
   {
    "duration": 3,
    "start_time": "2022-12-16T12:44:41.207Z"
   },
   {
    "duration": 17,
    "start_time": "2022-12-16T12:44:41.212Z"
   },
   {
    "duration": 1709,
    "start_time": "2022-12-16T12:44:41.231Z"
   },
   {
    "duration": 47,
    "start_time": "2022-12-16T12:44:42.942Z"
   },
   {
    "duration": 1042,
    "start_time": "2022-12-16T12:44:42.991Z"
   },
   {
    "duration": 18,
    "start_time": "2022-12-16T12:44:51.479Z"
   },
   {
    "duration": 1028,
    "start_time": "2022-12-16T12:45:02.696Z"
   },
   {
    "duration": 28,
    "start_time": "2022-12-16T12:45:20.384Z"
   },
   {
    "duration": 112,
    "start_time": "2022-12-16T13:21:31.685Z"
   },
   {
    "duration": 37,
    "start_time": "2022-12-16T13:21:50.394Z"
   },
   {
    "duration": 98,
    "start_time": "2022-12-16T13:22:16.742Z"
   },
   {
    "duration": 10,
    "start_time": "2022-12-16T13:23:36.311Z"
   },
   {
    "duration": 13,
    "start_time": "2022-12-16T13:23:42.528Z"
   },
   {
    "duration": 54,
    "start_time": "2022-12-17T19:13:31.897Z"
   },
   {
    "duration": 1544,
    "start_time": "2022-12-17T19:13:36.808Z"
   },
   {
    "duration": 3,
    "start_time": "2022-12-17T19:13:38.355Z"
   },
   {
    "duration": 27,
    "start_time": "2022-12-17T19:13:38.360Z"
   },
   {
    "duration": 750,
    "start_time": "2022-12-17T19:13:38.389Z"
   },
   {
    "duration": 67,
    "start_time": "2022-12-17T19:13:39.142Z"
   },
   {
    "duration": 56,
    "start_time": "2022-12-17T19:13:40.907Z"
   },
   {
    "duration": 1118,
    "start_time": "2022-12-17T19:13:45.635Z"
   },
   {
    "duration": 54,
    "start_time": "2022-12-17T19:14:18.542Z"
   },
   {
    "duration": 115,
    "start_time": "2022-12-17T19:14:22.327Z"
   },
   {
    "duration": 1404,
    "start_time": "2022-12-17T19:16:30.144Z"
   },
   {
    "duration": 3,
    "start_time": "2022-12-17T19:16:31.550Z"
   },
   {
    "duration": 30,
    "start_time": "2022-12-17T19:16:31.554Z"
   },
   {
    "duration": 369,
    "start_time": "2022-12-17T19:16:31.586Z"
   },
   {
    "duration": 46,
    "start_time": "2022-12-17T19:16:31.958Z"
   },
   {
    "duration": 975,
    "start_time": "2022-12-17T19:16:32.005Z"
   },
   {
    "duration": 105,
    "start_time": "2022-12-17T19:16:35.283Z"
   },
   {
    "duration": 16,
    "start_time": "2022-12-17T19:16:37.077Z"
   },
   {
    "duration": 15,
    "start_time": "2022-12-17T19:16:51.998Z"
   },
   {
    "duration": 11,
    "start_time": "2022-12-17T19:17:02.286Z"
   },
   {
    "duration": 5,
    "start_time": "2022-12-17T19:17:25.173Z"
   },
   {
    "duration": 14,
    "start_time": "2022-12-17T19:17:42.041Z"
   },
   {
    "duration": 6,
    "start_time": "2022-12-17T19:17:59.209Z"
   },
   {
    "duration": 8,
    "start_time": "2022-12-17T19:18:07.707Z"
   },
   {
    "duration": 8,
    "start_time": "2022-12-17T19:18:13.168Z"
   },
   {
    "duration": 12,
    "start_time": "2022-12-17T19:18:42.285Z"
   },
   {
    "duration": 12,
    "start_time": "2022-12-17T19:18:57.686Z"
   },
   {
    "duration": 112,
    "start_time": "2022-12-17T19:20:11.110Z"
   },
   {
    "duration": 11,
    "start_time": "2022-12-17T19:20:18.585Z"
   },
   {
    "duration": 7,
    "start_time": "2022-12-17T19:20:23.805Z"
   },
   {
    "duration": 507,
    "start_time": "2022-12-17T19:43:32.467Z"
   },
   {
    "duration": 431,
    "start_time": "2022-12-17T19:46:53.479Z"
   },
   {
    "duration": 433,
    "start_time": "2022-12-17T19:46:55.609Z"
   },
   {
    "duration": 3098,
    "start_time": "2022-12-17T19:47:01.889Z"
   },
   {
    "duration": 183,
    "start_time": "2022-12-17T19:47:08.378Z"
   },
   {
    "duration": 185,
    "start_time": "2022-12-17T19:47:17.087Z"
   },
   {
    "duration": 702,
    "start_time": "2022-12-17T19:47:22.507Z"
   },
   {
    "duration": 447,
    "start_time": "2022-12-17T19:47:27.767Z"
   },
   {
    "duration": 414,
    "start_time": "2022-12-17T19:47:33.746Z"
   },
   {
    "duration": 430,
    "start_time": "2022-12-17T19:47:39.235Z"
   },
   {
    "duration": 555,
    "start_time": "2022-12-17T19:47:49.474Z"
   },
   {
    "duration": 404,
    "start_time": "2022-12-17T19:50:47.487Z"
   },
   {
    "duration": 440,
    "start_time": "2022-12-17T19:51:06.257Z"
   },
   {
    "duration": 375,
    "start_time": "2022-12-17T19:51:12.606Z"
   },
   {
    "duration": 518,
    "start_time": "2022-12-17T19:51:16.906Z"
   },
   {
    "duration": 392,
    "start_time": "2022-12-17T19:51:31.163Z"
   },
   {
    "duration": 459,
    "start_time": "2022-12-17T19:53:06.515Z"
   },
   {
    "duration": 525,
    "start_time": "2022-12-17T19:53:13.644Z"
   },
   {
    "duration": 248,
    "start_time": "2022-12-17T19:53:23.844Z"
   },
   {
    "duration": 212,
    "start_time": "2022-12-17T19:53:27.683Z"
   },
   {
    "duration": 304,
    "start_time": "2022-12-17T19:53:34.453Z"
   },
   {
    "duration": 231,
    "start_time": "2022-12-17T19:53:43.904Z"
   },
   {
    "duration": 193,
    "start_time": "2022-12-17T19:53:51.680Z"
   },
   {
    "duration": 181,
    "start_time": "2022-12-17T19:54:48.837Z"
   },
   {
    "duration": 179,
    "start_time": "2022-12-17T19:54:58.395Z"
   },
   {
    "duration": 393,
    "start_time": "2022-12-17T19:55:16.515Z"
   },
   {
    "duration": 520,
    "start_time": "2022-12-17T19:56:15.478Z"
   },
   {
    "duration": 197,
    "start_time": "2022-12-17T19:56:28.816Z"
   },
   {
    "duration": 385,
    "start_time": "2022-12-17T19:56:37.810Z"
   },
   {
    "duration": 43,
    "start_time": "2022-12-17T20:03:33.726Z"
   },
   {
    "duration": 203,
    "start_time": "2022-12-17T20:11:05.967Z"
   },
   {
    "duration": 197,
    "start_time": "2022-12-17T20:11:10.332Z"
   },
   {
    "duration": 202,
    "start_time": "2022-12-17T20:11:16.897Z"
   },
   {
    "duration": 201,
    "start_time": "2022-12-17T20:11:22.883Z"
   },
   {
    "duration": 330,
    "start_time": "2022-12-17T20:11:28.799Z"
   },
   {
    "duration": 15,
    "start_time": "2022-12-17T20:13:05.413Z"
   },
   {
    "duration": 53,
    "start_time": "2022-12-17T20:34:59.603Z"
   },
   {
    "duration": 107,
    "start_time": "2022-12-17T20:41:35.305Z"
   },
   {
    "duration": 10,
    "start_time": "2022-12-17T20:42:23.450Z"
   },
   {
    "duration": 10,
    "start_time": "2022-12-17T20:55:16.525Z"
   },
   {
    "duration": 10,
    "start_time": "2022-12-17T20:55:29.873Z"
   },
   {
    "duration": 24,
    "start_time": "2022-12-17T20:56:04.270Z"
   },
   {
    "duration": 1373,
    "start_time": "2022-12-17T20:57:39.955Z"
   },
   {
    "duration": 2,
    "start_time": "2022-12-17T20:57:41.330Z"
   },
   {
    "duration": 4,
    "start_time": "2022-12-17T20:57:41.334Z"
   },
   {
    "duration": 376,
    "start_time": "2022-12-17T20:57:41.341Z"
   },
   {
    "duration": 51,
    "start_time": "2022-12-17T20:57:41.719Z"
   },
   {
    "duration": 972,
    "start_time": "2022-12-17T20:57:41.772Z"
   },
   {
    "duration": 116,
    "start_time": "2022-12-17T20:57:42.746Z"
   },
   {
    "duration": 562,
    "start_time": "2022-12-17T20:57:42.864Z"
   },
   {
    "duration": 229,
    "start_time": "2022-12-17T20:57:43.428Z"
   },
   {
    "duration": 506,
    "start_time": "2022-12-17T20:57:43.660Z"
   },
   {
    "duration": 20,
    "start_time": "2022-12-17T20:57:44.168Z"
   },
   {
    "duration": 15,
    "start_time": "2022-12-17T20:57:44.190Z"
   },
   {
    "duration": 9,
    "start_time": "2022-12-17T20:58:03.375Z"
   },
   {
    "duration": 133,
    "start_time": "2022-12-17T20:58:04.886Z"
   },
   {
    "duration": 72,
    "start_time": "2022-12-17T21:00:23.442Z"
   },
   {
    "duration": 27,
    "start_time": "2022-12-17T21:00:30.441Z"
   },
   {
    "duration": 9,
    "start_time": "2022-12-17T21:03:57.436Z"
   },
   {
    "duration": 8,
    "start_time": "2022-12-17T21:05:01.303Z"
   },
   {
    "duration": 9,
    "start_time": "2022-12-17T21:05:11.521Z"
   },
   {
    "duration": 11,
    "start_time": "2022-12-17T21:16:55.360Z"
   },
   {
    "duration": 45,
    "start_time": "2022-12-17T21:17:22.037Z"
   },
   {
    "duration": 9,
    "start_time": "2022-12-17T21:18:08.153Z"
   },
   {
    "duration": 9,
    "start_time": "2022-12-17T21:51:49.255Z"
   },
   {
    "duration": 14,
    "start_time": "2022-12-17T21:51:53.059Z"
   },
   {
    "duration": 23,
    "start_time": "2022-12-17T21:59:09.072Z"
   },
   {
    "duration": 312,
    "start_time": "2022-12-17T22:00:31.444Z"
   },
   {
    "duration": 130,
    "start_time": "2022-12-17T22:16:44.228Z"
   },
   {
    "duration": 132,
    "start_time": "2022-12-17T22:17:05.326Z"
   },
   {
    "duration": 77,
    "start_time": "2022-12-17T22:27:22.149Z"
   },
   {
    "duration": 46,
    "start_time": "2022-12-17T22:27:31.538Z"
   },
   {
    "duration": 49,
    "start_time": "2022-12-17T22:27:40.996Z"
   },
   {
    "duration": 247,
    "start_time": "2022-12-17T22:27:55.509Z"
   },
   {
    "duration": 224,
    "start_time": "2022-12-17T22:28:23.633Z"
   },
   {
    "duration": 168,
    "start_time": "2022-12-17T22:28:34.600Z"
   },
   {
    "duration": 294,
    "start_time": "2022-12-17T22:29:57.361Z"
   },
   {
    "duration": 145,
    "start_time": "2022-12-17T22:30:18.120Z"
   },
   {
    "duration": 150,
    "start_time": "2022-12-17T22:31:12.814Z"
   },
   {
    "duration": 139,
    "start_time": "2022-12-17T22:31:46.422Z"
   },
   {
    "duration": 139,
    "start_time": "2022-12-17T22:32:02.520Z"
   },
   {
    "duration": 153,
    "start_time": "2022-12-17T22:34:20.308Z"
   },
   {
    "duration": 167,
    "start_time": "2022-12-17T22:34:47.094Z"
   },
   {
    "duration": 166,
    "start_time": "2022-12-17T22:34:53.093Z"
   },
   {
    "duration": 12,
    "start_time": "2022-12-17T22:36:59.169Z"
   },
   {
    "duration": 5,
    "start_time": "2022-12-17T22:37:02.979Z"
   },
   {
    "duration": 4,
    "start_time": "2022-12-17T22:37:59.164Z"
   },
   {
    "duration": 4,
    "start_time": "2022-12-17T22:38:37.131Z"
   },
   {
    "duration": 7,
    "start_time": "2022-12-17T22:39:12.286Z"
   },
   {
    "duration": 46,
    "start_time": "2022-12-17T22:41:14.655Z"
   },
   {
    "duration": 7,
    "start_time": "2022-12-17T22:41:22.896Z"
   },
   {
    "duration": 5,
    "start_time": "2022-12-17T22:41:49.872Z"
   },
   {
    "duration": 5,
    "start_time": "2022-12-17T22:42:12.669Z"
   },
   {
    "duration": 5,
    "start_time": "2022-12-17T22:42:13.229Z"
   },
   {
    "duration": 4,
    "start_time": "2022-12-17T22:42:13.760Z"
   },
   {
    "duration": 8,
    "start_time": "2022-12-17T22:43:52.690Z"
   },
   {
    "duration": 10,
    "start_time": "2022-12-17T22:44:18.317Z"
   },
   {
    "duration": 9,
    "start_time": "2022-12-17T22:45:30.210Z"
   },
   {
    "duration": 9,
    "start_time": "2022-12-17T22:47:48.036Z"
   },
   {
    "duration": 10,
    "start_time": "2022-12-17T22:48:10.464Z"
   },
   {
    "duration": 6,
    "start_time": "2022-12-17T22:52:59.789Z"
   },
   {
    "duration": 6,
    "start_time": "2022-12-17T22:53:10.564Z"
   },
   {
    "duration": 47,
    "start_time": "2022-12-17T22:53:32.304Z"
   },
   {
    "duration": 4,
    "start_time": "2022-12-17T22:53:45.922Z"
   },
   {
    "duration": 67,
    "start_time": "2022-12-17T23:00:48.320Z"
   },
   {
    "duration": 8,
    "start_time": "2022-12-17T23:14:07.115Z"
   },
   {
    "duration": 3,
    "start_time": "2022-12-17T23:14:09.071Z"
   },
   {
    "duration": 4,
    "start_time": "2022-12-17T23:14:09.962Z"
   },
   {
    "duration": 45,
    "start_time": "2022-12-17T23:14:43.140Z"
   },
   {
    "duration": 57,
    "start_time": "2022-12-17T23:15:03.656Z"
   },
   {
    "duration": 5,
    "start_time": "2022-12-17T23:15:49.154Z"
   },
   {
    "duration": 4,
    "start_time": "2022-12-17T23:16:24.615Z"
   },
   {
    "duration": 4,
    "start_time": "2022-12-17T23:19:17.762Z"
   },
   {
    "duration": 4,
    "start_time": "2022-12-17T23:23:27.217Z"
   },
   {
    "duration": 42,
    "start_time": "2022-12-17T23:24:19.452Z"
   },
   {
    "duration": 4,
    "start_time": "2022-12-17T23:25:05.568Z"
   },
   {
    "duration": 44,
    "start_time": "2022-12-17T23:27:27.754Z"
   },
   {
    "duration": 45,
    "start_time": "2022-12-17T23:28:05.235Z"
   },
   {
    "duration": 5,
    "start_time": "2022-12-17T23:28:23.808Z"
   },
   {
    "duration": 6,
    "start_time": "2022-12-17T23:29:32.395Z"
   },
   {
    "duration": 42,
    "start_time": "2022-12-17T23:29:57.694Z"
   },
   {
    "duration": 51,
    "start_time": "2022-12-17T23:30:49.898Z"
   },
   {
    "duration": 59,
    "start_time": "2022-12-17T23:30:56.713Z"
   },
   {
    "duration": 55,
    "start_time": "2022-12-17T23:31:16.095Z"
   },
   {
    "duration": 49,
    "start_time": "2022-12-17T23:32:38.775Z"
   },
   {
    "duration": 4,
    "start_time": "2022-12-17T23:33:47.358Z"
   },
   {
    "duration": 43,
    "start_time": "2022-12-17T23:33:55.505Z"
   },
   {
    "duration": 50,
    "start_time": "2022-12-17T23:34:03.794Z"
   },
   {
    "duration": 45,
    "start_time": "2022-12-17T23:34:41.023Z"
   },
   {
    "duration": 45,
    "start_time": "2022-12-17T23:35:00.891Z"
   },
   {
    "duration": 48,
    "start_time": "2022-12-17T23:35:09.701Z"
   },
   {
    "duration": 53,
    "start_time": "2022-12-17T23:35:39.751Z"
   },
   {
    "duration": 47,
    "start_time": "2022-12-17T23:35:49.795Z"
   },
   {
    "duration": 17,
    "start_time": "2022-12-17T23:36:22.052Z"
   },
   {
    "duration": 6,
    "start_time": "2022-12-17T23:36:29.923Z"
   },
   {
    "duration": 47,
    "start_time": "2022-12-17T23:43:28.129Z"
   },
   {
    "duration": 6,
    "start_time": "2022-12-17T23:44:05.525Z"
   },
   {
    "duration": 7,
    "start_time": "2022-12-17T23:44:53.672Z"
   },
   {
    "duration": 7,
    "start_time": "2022-12-17T23:45:10.901Z"
   },
   {
    "duration": 6,
    "start_time": "2022-12-17T23:45:30.698Z"
   },
   {
    "duration": 43,
    "start_time": "2022-12-17T23:45:59.929Z"
   },
   {
    "duration": 7,
    "start_time": "2022-12-17T23:46:38.821Z"
   },
   {
    "duration": 6,
    "start_time": "2022-12-17T23:47:02.719Z"
   },
   {
    "duration": 50,
    "start_time": "2022-12-17T23:47:25.999Z"
   },
   {
    "duration": 13,
    "start_time": "2022-12-17T23:47:30.929Z"
   },
   {
    "duration": 45,
    "start_time": "2022-12-17T23:48:38.379Z"
   },
   {
    "duration": 43,
    "start_time": "2022-12-17T23:48:42.099Z"
   },
   {
    "duration": 47,
    "start_time": "2022-12-17T23:48:53.037Z"
   },
   {
    "duration": 9,
    "start_time": "2022-12-17T23:48:57.617Z"
   },
   {
    "duration": 9,
    "start_time": "2022-12-17T23:49:11.458Z"
   },
   {
    "duration": 9,
    "start_time": "2022-12-17T23:49:22.405Z"
   },
   {
    "duration": 9,
    "start_time": "2022-12-17T23:49:28.505Z"
   },
   {
    "duration": 60,
    "start_time": "2022-12-17T23:53:29.151Z"
   },
   {
    "duration": 3,
    "start_time": "2022-12-17T23:53:35.377Z"
   },
   {
    "duration": 10,
    "start_time": "2022-12-18T00:03:01.766Z"
   },
   {
    "duration": 9,
    "start_time": "2022-12-18T00:03:17.873Z"
   },
   {
    "duration": 9,
    "start_time": "2022-12-18T00:03:25.843Z"
   },
   {
    "duration": 9,
    "start_time": "2022-12-18T00:03:34.342Z"
   },
   {
    "duration": 3,
    "start_time": "2022-12-18T00:16:28.198Z"
   },
   {
    "duration": 4,
    "start_time": "2022-12-18T00:16:29.746Z"
   },
   {
    "duration": 11,
    "start_time": "2022-12-18T00:16:31.486Z"
   },
   {
    "duration": 10,
    "start_time": "2022-12-18T00:18:23.006Z"
   },
   {
    "duration": 14,
    "start_time": "2022-12-18T00:22:43.409Z"
   },
   {
    "duration": 10,
    "start_time": "2022-12-18T00:40:57.288Z"
   },
   {
    "duration": 1376,
    "start_time": "2022-12-18T00:41:47.525Z"
   },
   {
    "duration": 3,
    "start_time": "2022-12-18T00:41:48.903Z"
   },
   {
    "duration": 5,
    "start_time": "2022-12-18T00:41:48.908Z"
   },
   {
    "duration": 402,
    "start_time": "2022-12-18T00:41:48.914Z"
   },
   {
    "duration": 50,
    "start_time": "2022-12-18T00:41:49.319Z"
   },
   {
    "duration": 1025,
    "start_time": "2022-12-18T00:41:49.371Z"
   },
   {
    "duration": 114,
    "start_time": "2022-12-18T00:41:50.398Z"
   },
   {
    "duration": 504,
    "start_time": "2022-12-18T00:41:50.513Z"
   },
   {
    "duration": 193,
    "start_time": "2022-12-18T00:41:51.019Z"
   },
   {
    "duration": 405,
    "start_time": "2022-12-18T00:41:51.214Z"
   },
   {
    "duration": 20,
    "start_time": "2022-12-18T00:41:51.621Z"
   },
   {
    "duration": 11,
    "start_time": "2022-12-18T00:41:51.655Z"
   },
   {
    "duration": 37,
    "start_time": "2022-12-18T00:41:51.668Z"
   },
   {
    "duration": 57,
    "start_time": "2022-12-18T00:41:51.708Z"
   },
   {
    "duration": 296,
    "start_time": "2022-12-18T00:41:51.767Z"
   },
   {
    "duration": 101,
    "start_time": "2022-12-18T00:41:52.155Z"
   },
   {
    "duration": 9,
    "start_time": "2022-12-18T00:41:52.258Z"
   },
   {
    "duration": 6,
    "start_time": "2022-12-18T00:41:52.269Z"
   },
   {
    "duration": 13,
    "start_time": "2022-12-18T00:41:52.277Z"
   },
   {
    "duration": 45,
    "start_time": "2022-12-18T00:42:03.603Z"
   },
   {
    "duration": 4,
    "start_time": "2022-12-18T00:42:08.213Z"
   },
   {
    "duration": 5,
    "start_time": "2022-12-18T00:42:09.257Z"
   },
   {
    "duration": 104,
    "start_time": "2022-12-18T00:42:12.033Z"
   },
   {
    "duration": 11,
    "start_time": "2022-12-18T00:42:28.994Z"
   },
   {
    "duration": 10,
    "start_time": "2022-12-18T01:12:29.702Z"
   },
   {
    "duration": 15,
    "start_time": "2022-12-18T01:13:01.974Z"
   },
   {
    "duration": 19,
    "start_time": "2022-12-18T01:13:10.352Z"
   },
   {
    "duration": 53,
    "start_time": "2022-12-18T01:13:39.801Z"
   },
   {
    "duration": 15,
    "start_time": "2022-12-18T01:13:47.563Z"
   },
   {
    "duration": 4,
    "start_time": "2022-12-18T01:14:23.837Z"
   },
   {
    "duration": 16,
    "start_time": "2022-12-18T01:14:24.795Z"
   },
   {
    "duration": 4,
    "start_time": "2022-12-18T01:15:50.827Z"
   },
   {
    "duration": 14,
    "start_time": "2022-12-18T01:15:51.380Z"
   },
   {
    "duration": 5,
    "start_time": "2022-12-18T01:16:00.903Z"
   },
   {
    "duration": 15,
    "start_time": "2022-12-18T01:16:02.187Z"
   },
   {
    "duration": 5,
    "start_time": "2022-12-18T01:16:08.515Z"
   },
   {
    "duration": 14,
    "start_time": "2022-12-18T01:16:09.315Z"
   },
   {
    "duration": 14,
    "start_time": "2022-12-18T01:18:14.462Z"
   },
   {
    "duration": 15,
    "start_time": "2022-12-18T01:18:36.184Z"
   },
   {
    "duration": 11,
    "start_time": "2022-12-18T01:18:47.553Z"
   },
   {
    "duration": 13,
    "start_time": "2022-12-18T01:19:30.505Z"
   },
   {
    "duration": 13,
    "start_time": "2022-12-18T01:19:47.724Z"
   },
   {
    "duration": 1309,
    "start_time": "2022-12-18T01:21:37.191Z"
   },
   {
    "duration": 3,
    "start_time": "2022-12-18T01:21:38.502Z"
   },
   {
    "duration": 6,
    "start_time": "2022-12-18T01:21:38.507Z"
   },
   {
    "duration": 380,
    "start_time": "2022-12-18T01:21:38.514Z"
   },
   {
    "duration": 60,
    "start_time": "2022-12-18T01:21:38.895Z"
   },
   {
    "duration": 995,
    "start_time": "2022-12-18T01:21:38.957Z"
   },
   {
    "duration": 126,
    "start_time": "2022-12-18T01:21:39.955Z"
   },
   {
    "duration": 518,
    "start_time": "2022-12-18T01:21:40.083Z"
   },
   {
    "duration": 196,
    "start_time": "2022-12-18T01:21:40.602Z"
   },
   {
    "duration": 408,
    "start_time": "2022-12-18T01:21:40.801Z"
   },
   {
    "duration": 19,
    "start_time": "2022-12-18T01:21:41.211Z"
   },
   {
    "duration": 23,
    "start_time": "2022-12-18T01:21:41.232Z"
   },
   {
    "duration": 33,
    "start_time": "2022-12-18T01:21:41.257Z"
   },
   {
    "duration": 40,
    "start_time": "2022-12-18T01:21:41.292Z"
   },
   {
    "duration": 422,
    "start_time": "2022-12-18T01:21:41.334Z"
   },
   {
    "duration": 97,
    "start_time": "2022-12-18T01:21:41.759Z"
   },
   {
    "duration": 7,
    "start_time": "2022-12-18T01:21:41.858Z"
   },
   {
    "duration": 7,
    "start_time": "2022-12-18T01:21:41.866Z"
   },
   {
    "duration": 11,
    "start_time": "2022-12-18T01:21:41.875Z"
   },
   {
    "duration": 4,
    "start_time": "2022-12-18T01:21:45.932Z"
   },
   {
    "duration": 62,
    "start_time": "2022-12-18T01:23:02.028Z"
   },
   {
    "duration": 104,
    "start_time": "2022-12-18T01:26:32.640Z"
   },
   {
    "duration": 13,
    "start_time": "2022-12-18T01:28:09.535Z"
   },
   {
    "duration": 18,
    "start_time": "2022-12-18T01:28:22.074Z"
   },
   {
    "duration": 5,
    "start_time": "2022-12-18T01:33:04.896Z"
   },
   {
    "duration": 15,
    "start_time": "2022-12-18T01:33:55.591Z"
   },
   {
    "duration": 10,
    "start_time": "2022-12-18T01:34:45.375Z"
   },
   {
    "duration": 46,
    "start_time": "2022-12-18T01:36:24.497Z"
   },
   {
    "duration": 45,
    "start_time": "2022-12-18T01:36:44.194Z"
   },
   {
    "duration": 44,
    "start_time": "2022-12-18T01:37:15.126Z"
   },
   {
    "duration": 3,
    "start_time": "2022-12-18T01:37:25.131Z"
   },
   {
    "duration": 3,
    "start_time": "2022-12-18T01:37:26.801Z"
   },
   {
    "duration": 9,
    "start_time": "2022-12-18T01:37:33.641Z"
   },
   {
    "duration": 10,
    "start_time": "2022-12-18T01:37:43.498Z"
   },
   {
    "duration": 3,
    "start_time": "2022-12-18T01:39:11.454Z"
   },
   {
    "duration": 1463,
    "start_time": "2022-12-18T01:41:34.441Z"
   },
   {
    "duration": 2,
    "start_time": "2022-12-18T01:41:35.906Z"
   },
   {
    "duration": 8,
    "start_time": "2022-12-18T01:41:35.910Z"
   },
   {
    "duration": 391,
    "start_time": "2022-12-18T01:41:35.921Z"
   },
   {
    "duration": 53,
    "start_time": "2022-12-18T01:41:36.314Z"
   },
   {
    "duration": 927,
    "start_time": "2022-12-18T01:41:36.368Z"
   },
   {
    "duration": 107,
    "start_time": "2022-12-18T01:41:37.297Z"
   },
   {
    "duration": 499,
    "start_time": "2022-12-18T01:41:37.406Z"
   },
   {
    "duration": 209,
    "start_time": "2022-12-18T01:41:37.907Z"
   },
   {
    "duration": 416,
    "start_time": "2022-12-18T01:41:38.118Z"
   },
   {
    "duration": 20,
    "start_time": "2022-12-18T01:41:38.535Z"
   },
   {
    "duration": 13,
    "start_time": "2022-12-18T01:41:38.557Z"
   },
   {
    "duration": 34,
    "start_time": "2022-12-18T01:41:38.571Z"
   },
   {
    "duration": 52,
    "start_time": "2022-12-18T01:41:38.607Z"
   },
   {
    "duration": 200,
    "start_time": "2022-12-18T01:41:38.661Z"
   },
   {
    "duration": 102,
    "start_time": "2022-12-18T01:41:38.863Z"
   },
   {
    "duration": 8,
    "start_time": "2022-12-18T01:41:39.054Z"
   },
   {
    "duration": 7,
    "start_time": "2022-12-18T01:41:39.063Z"
   },
   {
    "duration": 12,
    "start_time": "2022-12-18T01:41:39.071Z"
   },
   {
    "duration": 4,
    "start_time": "2022-12-18T01:41:46.678Z"
   },
   {
    "duration": 6,
    "start_time": "2022-12-18T01:43:56.490Z"
   },
   {
    "duration": 4,
    "start_time": "2022-12-18T01:45:10.595Z"
   },
   {
    "duration": 118,
    "start_time": "2022-12-18T01:45:32.882Z"
   },
   {
    "duration": 3,
    "start_time": "2022-12-18T01:45:45.381Z"
   },
   {
    "duration": 10,
    "start_time": "2022-12-18T01:45:46.040Z"
   },
   {
    "duration": 9,
    "start_time": "2022-12-18T01:45:56.059Z"
   },
   {
    "duration": 9,
    "start_time": "2022-12-18T01:50:21.936Z"
   },
   {
    "duration": 9,
    "start_time": "2022-12-18T01:50:57.881Z"
   },
   {
    "duration": 18,
    "start_time": "2022-12-18T01:51:21.689Z"
   },
   {
    "duration": 19,
    "start_time": "2022-12-18T01:51:29.498Z"
   },
   {
    "duration": 19,
    "start_time": "2022-12-18T01:52:25.252Z"
   },
   {
    "duration": 5,
    "start_time": "2022-12-18T01:55:45.582Z"
   },
   {
    "duration": 922,
    "start_time": "2022-12-18T01:55:48.352Z"
   },
   {
    "duration": 933,
    "start_time": "2022-12-18T01:56:19.352Z"
   },
   {
    "duration": 885,
    "start_time": "2022-12-18T01:56:56.728Z"
   },
   {
    "duration": 917,
    "start_time": "2022-12-18T01:57:15.854Z"
   },
   {
    "duration": 902,
    "start_time": "2022-12-18T01:57:51.171Z"
   },
   {
    "duration": 921,
    "start_time": "2022-12-18T01:58:04.809Z"
   },
   {
    "duration": 879,
    "start_time": "2022-12-18T01:58:16.977Z"
   },
   {
    "duration": 910,
    "start_time": "2022-12-18T01:58:33.816Z"
   },
   {
    "duration": 5,
    "start_time": "2022-12-18T02:03:59.044Z"
   },
   {
    "duration": 3,
    "start_time": "2022-12-18T02:04:00.574Z"
   },
   {
    "duration": 977,
    "start_time": "2022-12-18T02:04:48.689Z"
   },
   {
    "duration": 4,
    "start_time": "2022-12-18T02:04:55.929Z"
   },
   {
    "duration": 876,
    "start_time": "2022-12-18T02:04:57.455Z"
   },
   {
    "duration": 902,
    "start_time": "2022-12-18T02:05:01.307Z"
   },
   {
    "duration": 969,
    "start_time": "2022-12-18T02:05:02.808Z"
   },
   {
    "duration": 5,
    "start_time": "2022-12-18T02:05:08.936Z"
   },
   {
    "duration": 889,
    "start_time": "2022-12-18T02:05:10.708Z"
   },
   {
    "duration": 888,
    "start_time": "2022-12-18T02:05:11.897Z"
   },
   {
    "duration": 924,
    "start_time": "2022-12-18T02:05:14.428Z"
   },
   {
    "duration": 898,
    "start_time": "2022-12-18T02:08:36.757Z"
   },
   {
    "duration": 913,
    "start_time": "2022-12-18T02:09:06.214Z"
   },
   {
    "duration": 891,
    "start_time": "2022-12-18T02:10:21.330Z"
   },
   {
    "duration": 876,
    "start_time": "2022-12-18T02:10:38.874Z"
   },
   {
    "duration": 905,
    "start_time": "2022-12-18T02:10:41.644Z"
   },
   {
    "duration": 2697,
    "start_time": "2022-12-18T02:11:09.632Z"
   },
   {
    "duration": 2785,
    "start_time": "2022-12-18T02:11:28.830Z"
   },
   {
    "duration": 2647,
    "start_time": "2022-12-18T02:11:40.532Z"
   },
   {
    "duration": 2810,
    "start_time": "2022-12-18T02:13:23.598Z"
   },
   {
    "duration": 1446,
    "start_time": "2022-12-18T02:14:30.566Z"
   },
   {
    "duration": 3,
    "start_time": "2022-12-18T02:14:32.014Z"
   },
   {
    "duration": 12,
    "start_time": "2022-12-18T02:14:32.019Z"
   },
   {
    "duration": 385,
    "start_time": "2022-12-18T02:14:32.032Z"
   },
   {
    "duration": 49,
    "start_time": "2022-12-18T02:14:32.420Z"
   },
   {
    "duration": 992,
    "start_time": "2022-12-18T02:14:32.471Z"
   },
   {
    "duration": 116,
    "start_time": "2022-12-18T02:14:33.464Z"
   },
   {
    "duration": 536,
    "start_time": "2022-12-18T02:14:33.581Z"
   },
   {
    "duration": 193,
    "start_time": "2022-12-18T02:14:34.119Z"
   },
   {
    "duration": 535,
    "start_time": "2022-12-18T02:14:34.314Z"
   },
   {
    "duration": 23,
    "start_time": "2022-12-18T02:14:34.851Z"
   },
   {
    "duration": 16,
    "start_time": "2022-12-18T02:14:34.876Z"
   },
   {
    "duration": 35,
    "start_time": "2022-12-18T02:14:34.894Z"
   },
   {
    "duration": 55,
    "start_time": "2022-12-18T02:14:34.932Z"
   },
   {
    "duration": 172,
    "start_time": "2022-12-18T02:14:34.988Z"
   },
   {
    "duration": 102,
    "start_time": "2022-12-18T02:14:35.162Z"
   },
   {
    "duration": 15,
    "start_time": "2022-12-18T02:14:35.355Z"
   },
   {
    "duration": 10,
    "start_time": "2022-12-18T02:14:35.372Z"
   },
   {
    "duration": 14,
    "start_time": "2022-12-18T02:14:35.384Z"
   },
   {
    "duration": 5,
    "start_time": "2022-12-18T02:14:35.400Z"
   },
   {
    "duration": 8,
    "start_time": "2022-12-18T02:14:35.406Z"
   },
   {
    "duration": 39,
    "start_time": "2022-12-18T02:14:35.416Z"
   },
   {
    "duration": 6,
    "start_time": "2022-12-18T02:14:35.457Z"
   },
   {
    "duration": 2751,
    "start_time": "2022-12-18T02:14:39.015Z"
   },
   {
    "duration": 2713,
    "start_time": "2022-12-18T02:17:48.124Z"
   },
   {
    "duration": 2778,
    "start_time": "2022-12-18T02:18:01.825Z"
   },
   {
    "duration": 2778,
    "start_time": "2022-12-18T02:18:24.113Z"
   },
   {
    "duration": 7,
    "start_time": "2022-12-18T02:20:18.939Z"
   },
   {
    "duration": 2800,
    "start_time": "2022-12-18T02:20:20.863Z"
   },
   {
    "duration": 5,
    "start_time": "2022-12-18T02:20:29.198Z"
   },
   {
    "duration": 2843,
    "start_time": "2022-12-18T02:20:31.077Z"
   },
   {
    "duration": 1349,
    "start_time": "2022-12-18T02:48:56.604Z"
   },
   {
    "duration": 3,
    "start_time": "2022-12-18T02:48:57.955Z"
   },
   {
    "duration": 6,
    "start_time": "2022-12-18T02:48:57.960Z"
   },
   {
    "duration": 387,
    "start_time": "2022-12-18T02:48:57.968Z"
   },
   {
    "duration": 43,
    "start_time": "2022-12-18T02:48:58.357Z"
   },
   {
    "duration": 1062,
    "start_time": "2022-12-18T02:48:58.402Z"
   },
   {
    "duration": 113,
    "start_time": "2022-12-18T02:48:59.466Z"
   },
   {
    "duration": 501,
    "start_time": "2022-12-18T02:48:59.581Z"
   },
   {
    "duration": 199,
    "start_time": "2022-12-18T02:49:00.084Z"
   },
   {
    "duration": 434,
    "start_time": "2022-12-18T02:49:00.285Z"
   },
   {
    "duration": 20,
    "start_time": "2022-12-18T02:49:00.720Z"
   },
   {
    "duration": 31,
    "start_time": "2022-12-18T02:49:00.741Z"
   },
   {
    "duration": 48,
    "start_time": "2022-12-18T02:49:00.774Z"
   },
   {
    "duration": 45,
    "start_time": "2022-12-18T02:49:00.824Z"
   },
   {
    "duration": 288,
    "start_time": "2022-12-18T02:49:00.871Z"
   },
   {
    "duration": 100,
    "start_time": "2022-12-18T02:49:01.162Z"
   },
   {
    "duration": 90,
    "start_time": "2022-12-18T02:49:01.266Z"
   },
   {
    "duration": 17,
    "start_time": "2022-12-18T02:49:01.358Z"
   },
   {
    "duration": 28,
    "start_time": "2022-12-18T02:49:01.377Z"
   },
   {
    "duration": 11,
    "start_time": "2022-12-18T02:49:01.407Z"
   },
   {
    "duration": 19,
    "start_time": "2022-12-18T02:49:01.419Z"
   },
   {
    "duration": 70,
    "start_time": "2022-12-18T02:49:01.440Z"
   },
   {
    "duration": 8,
    "start_time": "2022-12-18T02:49:01.512Z"
   },
   {
    "duration": 2822,
    "start_time": "2022-12-18T02:49:01.522Z"
   }
  ],
  "kernelspec": {
   "display_name": "Python 3 (ipykernel)",
   "language": "python",
   "name": "python3"
  },
  "language_info": {
   "codemirror_mode": {
    "name": "ipython",
    "version": 3
   },
   "file_extension": ".py",
   "mimetype": "text/x-python",
   "name": "python",
   "nbconvert_exporter": "python",
   "pygments_lexer": "ipython3",
   "version": "3.9.5"
  },
  "toc": {
   "base_numbering": 1,
   "nav_menu": {},
   "number_sections": true,
   "sideBar": true,
   "skip_h1_title": true,
   "title_cell": "Table of Contents",
   "title_sidebar": "Contents",
   "toc_cell": false,
   "toc_position": {
    "height": "calc(100% - 180px)",
    "left": "10px",
    "top": "150px",
    "width": "252.391px"
   },
   "toc_section_display": true,
   "toc_window_display": false
  }
 },
 "nbformat": 4,
 "nbformat_minor": 2
}
