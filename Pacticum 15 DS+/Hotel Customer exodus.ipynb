{
 "cells": [
  {
   "cell_type": "markdown",
   "metadata": {},
   "source": [
    "<div style=\"padding: 30px 25px; border: 2px #6495ed solid\">\n",
    "    \n",
    "<b>Привет, Иван!</b>\n",
    "\n",
    "Меня зовут Алексей Косенко, и я буду проверять твой проект. Прощу прощения за долгое ожидание\n",
    "    \n",
    "Предлагаю общаться на «<b>ты</b>», но если это неудобно — обязательно сообщи об этом.\n",
    "    \n",
    "Ниже ты увидишь мои комментарии, выделенные разным цветом:\n",
    "    \n",
    "<div class=\"alert alert-success\">\n",
    "<h2>Комментарий ревьюера<a class=\"tocSkip\"></a></h2>\n",
    "\n",
    "<b>Отлично!</b> ✔️: все ок, продолжай в том же духе :)\n",
    "\n",
    "</div>\n",
    "<div class=\"alert alert-warning\">\n",
    "<h2>Комментарий ревьюера<a class=\"tocSkip\"></a></h2>\n",
    "    \n",
    "<b>Есть совет</b> ⚠️: так выделены некритичные замечания или советы, которые смогут улучшить твой проект.\n",
    "\n",
    "</div>\n",
    "<div class=\"alert alert-danger\">\n",
    "<h2>Комментарий ревьюера<a class=\"tocSkip\"></a></h2>\n",
    "\n",
    "<b>Нужно доработать</b> ❌: так выделены важные замечания — без их исправления проект не может быть принят.\n",
    "    \n",
    "</div>\n",
    "\n",
    "Будет здорово, если ты будешь участвовать в диалоге, а свои вопросы, комментарии и изменения в проекте тоже будешь выделять, например, вот так:\n",
    "    \n",
    "<div class=\"alert alert-info\">\n",
    "    <b>Комментарий студента:</b> Привет!\n",
    "</div>\n",
    "    \n",
    "Пожалуйста, не перемещай и не удаляй мои комментарии, это усложнит повторную проверку.\n",
    "    \n",
    "</div>"
   ]
  },
  {
   "cell_type": "markdown",
   "metadata": {},
   "source": [
    "<div style=\"padding: 30px 25px; border: 2px #6495ed solid\">\n",
    "    \n",
    "<b>Еще раз привет!</b>\n",
    "\n",
    "Спасибо, что доделал работу, оформление комментариев остается тем же, только обозначим номер итерации: v2\n",
    "    \n",
    "</div>"
   ]
  },
  {
   "cell_type": "markdown",
   "metadata": {},
   "source": [
    "# Прогнозирование оттока клиентов в сети отелей «Как в гостях»"
   ]
  },
  {
   "cell_type": "markdown",
   "metadata": {},
   "source": [
    "Заказчик этого исследования — сеть отелей «Как в гостях».\n",
    "Чтобы привлечь клиентов, эта сеть отелей добавила на свой сайт возможность забронировать номер без предоплаты. Однако если клиент отменял бронирование, то компания терпела убытки. Сотрудники отеля могли, например, закупить продукты к приезду гостя или просто не успеть найти другого клиента.\n",
    "Чтобы решить эту проблему, вам нужно разработать систему, которая предсказывает отказ от брони. Если модель покажет, что бронь будет отменена, то клиенту предлагается внести депозит. Размер депозита — 80% от стоимости номера за одни сутки и затрат на разовую уборку. Деньги будут списаны со счёта клиента, если он всё же отменит бронь."
   ]
  },
  {
   "cell_type": "markdown",
   "metadata": {},
   "source": [
    "## Знакомство с данными"
   ]
  },
  {
   "cell_type": "markdown",
   "metadata": {},
   "source": [
    "### Импортируем необходимые библиотеки и методы"
   ]
  },
  {
   "cell_type": "code",
   "execution_count": 1,
   "metadata": {},
   "outputs": [],
   "source": [
    "# импортируем библиотеки и методы\n",
    "import pandas as pd\n",
    "import seaborn as sns\n",
    "import numpy as np\n",
    "import matplotlib.pyplot as plt\n",
    "\n",
    "\n",
    "from sklearn.model_selection import train_test_split\n",
    "from sklearn.preprocessing import StandardScaler\n",
    "from sklearn.linear_model import LinearRegression\n",
    "from sklearn.metrics import mean_squared_error\n",
    "from sklearn.utils import shuffle\n",
    "from sklearn.model_selection import cross_val_score\n",
    "\n",
    "from sklearn.tree import DecisionTreeClassifier\n",
    "from sklearn.ensemble import RandomForestClassifier\n",
    "from sklearn.linear_model import LogisticRegression\n",
    "\n",
    "from sklearn.metrics import f1_score\n",
    "from sklearn.metrics import accuracy_score\n",
    "from sklearn.metrics import precision_score\n",
    "from sklearn.metrics import recall_score\n",
    "from sklearn.metrics import roc_auc_score"
   ]
  },
  {
   "cell_type": "markdown",
   "metadata": {},
   "source": [
    "Зафиксируем random_state:"
   ]
  },
  {
   "cell_type": "code",
   "execution_count": 2,
   "metadata": {},
   "outputs": [],
   "source": [
    "np.random.seed(274)\n",
    "RANDOM_STATE = 1001\n",
    "BUDGET = 400000\n",
    "DEPOSIT = 0.8"
   ]
  },
  {
   "cell_type": "markdown",
   "metadata": {},
   "source": [
    "И отключим предупреждения:"
   ]
  },
  {
   "cell_type": "code",
   "execution_count": 3,
   "metadata": {},
   "outputs": [],
   "source": [
    "import warnings\n",
    "\n",
    "warnings.filterwarnings('ignore')"
   ]
  },
  {
   "cell_type": "markdown",
   "metadata": {},
   "source": [
    "И немного магии для удобства просмотра таблиц:"
   ]
  },
  {
   "cell_type": "code",
   "execution_count": 4,
   "metadata": {},
   "outputs": [],
   "source": [
    "pd.options.display.max_columns = 100 "
   ]
  },
  {
   "cell_type": "markdown",
   "metadata": {},
   "source": [
    "<div class=\"alert alert-success\">\n",
    "<h2>Комментарий ревьюера<a class=\"tocSkip\"></a></h2>\n",
    "    \n",
    "**Отлично!** ✔️: 👍</div>"
   ]
  },
  {
   "cell_type": "markdown",
   "metadata": {},
   "source": [
    "### Прочитаем данные "
   ]
  },
  {
   "cell_type": "code",
   "execution_count": 5,
   "metadata": {},
   "outputs": [],
   "source": [
    "# откроем датасет либо локально, либо из интернета\n",
    "try:\n",
    "    df_train = pd.read_csv('/datasets/hotel_train.csv')\n",
    "    df_test = pd.read_csv('/datasets/hotel_test.csv')\n",
    "except:\n",
    "    df_train = pd.read_csv('https://code.s3.yandex.net/datasets/hotel_train.csv')\n",
    "    df_test = pd.read_csv('https://code.s3.yandex.net/datasets/hotel_test.csv')"
   ]
  },
  {
   "cell_type": "markdown",
   "metadata": {},
   "source": [
    "Познакомимся с обучающими данными:"
   ]
  },
  {
   "cell_type": "code",
   "execution_count": 6,
   "metadata": {},
   "outputs": [
    {
     "data": {
      "text/html": [
       "<div>\n",
       "<style scoped>\n",
       "    .dataframe tbody tr th:only-of-type {\n",
       "        vertical-align: middle;\n",
       "    }\n",
       "\n",
       "    .dataframe tbody tr th {\n",
       "        vertical-align: top;\n",
       "    }\n",
       "\n",
       "    .dataframe thead th {\n",
       "        text-align: right;\n",
       "    }\n",
       "</style>\n",
       "<table border=\"1\" class=\"dataframe\">\n",
       "  <thead>\n",
       "    <tr style=\"text-align: right;\">\n",
       "      <th></th>\n",
       "      <th>id</th>\n",
       "      <th>is_canceled</th>\n",
       "      <th>lead_time</th>\n",
       "      <th>arrival_date_year</th>\n",
       "      <th>arrival_date_month</th>\n",
       "      <th>arrival_date_week_number</th>\n",
       "      <th>arrival_date_day_of_month</th>\n",
       "      <th>stays_in_weekend_nights</th>\n",
       "      <th>stays_in_week_nights</th>\n",
       "      <th>adults</th>\n",
       "      <th>children</th>\n",
       "      <th>babies</th>\n",
       "      <th>meal</th>\n",
       "      <th>country</th>\n",
       "      <th>distribution_channel</th>\n",
       "      <th>is_repeated_guest</th>\n",
       "      <th>previous_cancellations</th>\n",
       "      <th>previous_bookings_not_canceled</th>\n",
       "      <th>reserved_room_type</th>\n",
       "      <th>booking_changes</th>\n",
       "      <th>days_in_waiting_list</th>\n",
       "      <th>customer_type</th>\n",
       "      <th>required_car_parking_spaces</th>\n",
       "      <th>total_of_special_requests</th>\n",
       "      <th>total_nights</th>\n",
       "    </tr>\n",
       "  </thead>\n",
       "  <tbody>\n",
       "    <tr>\n",
       "      <th>0</th>\n",
       "      <td>0</td>\n",
       "      <td>0</td>\n",
       "      <td>7.0</td>\n",
       "      <td>2015</td>\n",
       "      <td>July</td>\n",
       "      <td>27</td>\n",
       "      <td>1</td>\n",
       "      <td>0</td>\n",
       "      <td>1</td>\n",
       "      <td>1.0</td>\n",
       "      <td>0.0</td>\n",
       "      <td>0.0</td>\n",
       "      <td>BB</td>\n",
       "      <td>GBR</td>\n",
       "      <td>Direct</td>\n",
       "      <td>0</td>\n",
       "      <td>0</td>\n",
       "      <td>0</td>\n",
       "      <td>A</td>\n",
       "      <td>0</td>\n",
       "      <td>0</td>\n",
       "      <td>Transient</td>\n",
       "      <td>0</td>\n",
       "      <td>0</td>\n",
       "      <td>1</td>\n",
       "    </tr>\n",
       "    <tr>\n",
       "      <th>1</th>\n",
       "      <td>1</td>\n",
       "      <td>0</td>\n",
       "      <td>14.0</td>\n",
       "      <td>2015</td>\n",
       "      <td>July</td>\n",
       "      <td>27</td>\n",
       "      <td>1</td>\n",
       "      <td>0</td>\n",
       "      <td>2</td>\n",
       "      <td>2.0</td>\n",
       "      <td>0.0</td>\n",
       "      <td>0.0</td>\n",
       "      <td>BB</td>\n",
       "      <td>GBR</td>\n",
       "      <td>TA/TO</td>\n",
       "      <td>0</td>\n",
       "      <td>0</td>\n",
       "      <td>0</td>\n",
       "      <td>A</td>\n",
       "      <td>0</td>\n",
       "      <td>0</td>\n",
       "      <td>Transient</td>\n",
       "      <td>0</td>\n",
       "      <td>1</td>\n",
       "      <td>2</td>\n",
       "    </tr>\n",
       "    <tr>\n",
       "      <th>2</th>\n",
       "      <td>2</td>\n",
       "      <td>0</td>\n",
       "      <td>0.0</td>\n",
       "      <td>2015</td>\n",
       "      <td>July</td>\n",
       "      <td>27</td>\n",
       "      <td>1</td>\n",
       "      <td>0</td>\n",
       "      <td>2</td>\n",
       "      <td>2.0</td>\n",
       "      <td>0.0</td>\n",
       "      <td>0.0</td>\n",
       "      <td>BB</td>\n",
       "      <td>PRT</td>\n",
       "      <td>Direct</td>\n",
       "      <td>0</td>\n",
       "      <td>0</td>\n",
       "      <td>0</td>\n",
       "      <td>C</td>\n",
       "      <td>0</td>\n",
       "      <td>0</td>\n",
       "      <td>Transient</td>\n",
       "      <td>0</td>\n",
       "      <td>0</td>\n",
       "      <td>2</td>\n",
       "    </tr>\n",
       "    <tr>\n",
       "      <th>3</th>\n",
       "      <td>3</td>\n",
       "      <td>0</td>\n",
       "      <td>9.0</td>\n",
       "      <td>2015</td>\n",
       "      <td>July</td>\n",
       "      <td>27</td>\n",
       "      <td>1</td>\n",
       "      <td>0</td>\n",
       "      <td>2</td>\n",
       "      <td>2.0</td>\n",
       "      <td>0.0</td>\n",
       "      <td>0.0</td>\n",
       "      <td>FB</td>\n",
       "      <td>PRT</td>\n",
       "      <td>Direct</td>\n",
       "      <td>0</td>\n",
       "      <td>0</td>\n",
       "      <td>0</td>\n",
       "      <td>C</td>\n",
       "      <td>0</td>\n",
       "      <td>0</td>\n",
       "      <td>Transient</td>\n",
       "      <td>0</td>\n",
       "      <td>1</td>\n",
       "      <td>2</td>\n",
       "    </tr>\n",
       "    <tr>\n",
       "      <th>4</th>\n",
       "      <td>4</td>\n",
       "      <td>1</td>\n",
       "      <td>85.0</td>\n",
       "      <td>2015</td>\n",
       "      <td>July</td>\n",
       "      <td>27</td>\n",
       "      <td>1</td>\n",
       "      <td>0</td>\n",
       "      <td>3</td>\n",
       "      <td>2.0</td>\n",
       "      <td>0.0</td>\n",
       "      <td>0.0</td>\n",
       "      <td>BB</td>\n",
       "      <td>PRT</td>\n",
       "      <td>TA/TO</td>\n",
       "      <td>0</td>\n",
       "      <td>0</td>\n",
       "      <td>0</td>\n",
       "      <td>A</td>\n",
       "      <td>0</td>\n",
       "      <td>0</td>\n",
       "      <td>Transient</td>\n",
       "      <td>0</td>\n",
       "      <td>1</td>\n",
       "      <td>3</td>\n",
       "    </tr>\n",
       "  </tbody>\n",
       "</table>\n",
       "</div>"
      ],
      "text/plain": [
       "   id  is_canceled  lead_time  arrival_date_year arrival_date_month  \\\n",
       "0   0            0        7.0               2015               July   \n",
       "1   1            0       14.0               2015               July   \n",
       "2   2            0        0.0               2015               July   \n",
       "3   3            0        9.0               2015               July   \n",
       "4   4            1       85.0               2015               July   \n",
       "\n",
       "   arrival_date_week_number  arrival_date_day_of_month  \\\n",
       "0                        27                          1   \n",
       "1                        27                          1   \n",
       "2                        27                          1   \n",
       "3                        27                          1   \n",
       "4                        27                          1   \n",
       "\n",
       "   stays_in_weekend_nights  stays_in_week_nights  adults  children  babies  \\\n",
       "0                        0                     1     1.0       0.0     0.0   \n",
       "1                        0                     2     2.0       0.0     0.0   \n",
       "2                        0                     2     2.0       0.0     0.0   \n",
       "3                        0                     2     2.0       0.0     0.0   \n",
       "4                        0                     3     2.0       0.0     0.0   \n",
       "\n",
       "        meal country distribution_channel  is_repeated_guest  \\\n",
       "0  BB            GBR               Direct                  0   \n",
       "1  BB            GBR                TA/TO                  0   \n",
       "2  BB            PRT               Direct                  0   \n",
       "3  FB            PRT               Direct                  0   \n",
       "4  BB            PRT                TA/TO                  0   \n",
       "\n",
       "   previous_cancellations  previous_bookings_not_canceled reserved_room_type  \\\n",
       "0                       0                               0   A                  \n",
       "1                       0                               0   A                  \n",
       "2                       0                               0   C                  \n",
       "3                       0                               0   C                  \n",
       "4                       0                               0   A                  \n",
       "\n",
       "   booking_changes  days_in_waiting_list customer_type  \\\n",
       "0                0                     0     Transient   \n",
       "1                0                     0     Transient   \n",
       "2                0                     0     Transient   \n",
       "3                0                     0     Transient   \n",
       "4                0                     0     Transient   \n",
       "\n",
       "   required_car_parking_spaces  total_of_special_requests  total_nights  \n",
       "0                            0                          0             1  \n",
       "1                            0                          1             2  \n",
       "2                            0                          0             2  \n",
       "3                            0                          1             2  \n",
       "4                            0                          1             3  "
      ]
     },
     "metadata": {},
     "output_type": "display_data"
    },
    {
     "data": {
      "text/html": [
       "<div>\n",
       "<style scoped>\n",
       "    .dataframe tbody tr th:only-of-type {\n",
       "        vertical-align: middle;\n",
       "    }\n",
       "\n",
       "    .dataframe tbody tr th {\n",
       "        vertical-align: top;\n",
       "    }\n",
       "\n",
       "    .dataframe thead th {\n",
       "        text-align: right;\n",
       "    }\n",
       "</style>\n",
       "<table border=\"1\" class=\"dataframe\">\n",
       "  <thead>\n",
       "    <tr style=\"text-align: right;\">\n",
       "      <th></th>\n",
       "      <th>id</th>\n",
       "      <th>is_canceled</th>\n",
       "      <th>lead_time</th>\n",
       "      <th>arrival_date_year</th>\n",
       "      <th>arrival_date_week_number</th>\n",
       "      <th>arrival_date_day_of_month</th>\n",
       "      <th>stays_in_weekend_nights</th>\n",
       "      <th>stays_in_week_nights</th>\n",
       "      <th>adults</th>\n",
       "      <th>children</th>\n",
       "      <th>babies</th>\n",
       "      <th>is_repeated_guest</th>\n",
       "      <th>previous_cancellations</th>\n",
       "      <th>previous_bookings_not_canceled</th>\n",
       "      <th>booking_changes</th>\n",
       "      <th>days_in_waiting_list</th>\n",
       "      <th>required_car_parking_spaces</th>\n",
       "      <th>total_of_special_requests</th>\n",
       "      <th>total_nights</th>\n",
       "    </tr>\n",
       "  </thead>\n",
       "  <tbody>\n",
       "    <tr>\n",
       "      <th>count</th>\n",
       "      <td>65229.000000</td>\n",
       "      <td>65229.000000</td>\n",
       "      <td>65229.000000</td>\n",
       "      <td>65229.000000</td>\n",
       "      <td>65229.000000</td>\n",
       "      <td>65229.000000</td>\n",
       "      <td>65229.000000</td>\n",
       "      <td>65229.000000</td>\n",
       "      <td>65229.000000</td>\n",
       "      <td>65229.000000</td>\n",
       "      <td>65229.000000</td>\n",
       "      <td>65229.000000</td>\n",
       "      <td>65229.000000</td>\n",
       "      <td>65229.000000</td>\n",
       "      <td>65229.000000</td>\n",
       "      <td>65229.000000</td>\n",
       "      <td>65229.000000</td>\n",
       "      <td>65229.000000</td>\n",
       "      <td>65229.000000</td>\n",
       "    </tr>\n",
       "    <tr>\n",
       "      <th>mean</th>\n",
       "      <td>43544.069172</td>\n",
       "      <td>0.368609</td>\n",
       "      <td>96.337917</td>\n",
       "      <td>2015.719021</td>\n",
       "      <td>31.339772</td>\n",
       "      <td>15.847813</td>\n",
       "      <td>0.825185</td>\n",
       "      <td>2.224793</td>\n",
       "      <td>1.836576</td>\n",
       "      <td>0.074890</td>\n",
       "      <td>0.007236</td>\n",
       "      <td>0.027151</td>\n",
       "      <td>0.128915</td>\n",
       "      <td>0.107713</td>\n",
       "      <td>0.194269</td>\n",
       "      <td>3.334422</td>\n",
       "      <td>0.056647</td>\n",
       "      <td>0.512763</td>\n",
       "      <td>3.049978</td>\n",
       "    </tr>\n",
       "    <tr>\n",
       "      <th>std</th>\n",
       "      <td>25614.858971</td>\n",
       "      <td>0.482431</td>\n",
       "      <td>96.127545</td>\n",
       "      <td>0.449481</td>\n",
       "      <td>13.464024</td>\n",
       "      <td>8.748182</td>\n",
       "      <td>0.853477</td>\n",
       "      <td>1.354992</td>\n",
       "      <td>0.480245</td>\n",
       "      <td>0.334243</td>\n",
       "      <td>0.098790</td>\n",
       "      <td>0.162523</td>\n",
       "      <td>0.965326</td>\n",
       "      <td>1.326638</td>\n",
       "      <td>0.593838</td>\n",
       "      <td>18.239606</td>\n",
       "      <td>0.232094</td>\n",
       "      <td>0.752590</td>\n",
       "      <td>1.738108</td>\n",
       "    </tr>\n",
       "    <tr>\n",
       "      <th>min</th>\n",
       "      <td>0.000000</td>\n",
       "      <td>0.000000</td>\n",
       "      <td>0.000000</td>\n",
       "      <td>2015.000000</td>\n",
       "      <td>1.000000</td>\n",
       "      <td>1.000000</td>\n",
       "      <td>0.000000</td>\n",
       "      <td>0.000000</td>\n",
       "      <td>0.000000</td>\n",
       "      <td>0.000000</td>\n",
       "      <td>0.000000</td>\n",
       "      <td>0.000000</td>\n",
       "      <td>0.000000</td>\n",
       "      <td>0.000000</td>\n",
       "      <td>0.000000</td>\n",
       "      <td>0.000000</td>\n",
       "      <td>0.000000</td>\n",
       "      <td>0.000000</td>\n",
       "      <td>1.000000</td>\n",
       "    </tr>\n",
       "    <tr>\n",
       "      <th>25%</th>\n",
       "      <td>19108.000000</td>\n",
       "      <td>0.000000</td>\n",
       "      <td>17.000000</td>\n",
       "      <td>2015.000000</td>\n",
       "      <td>21.000000</td>\n",
       "      <td>8.000000</td>\n",
       "      <td>0.000000</td>\n",
       "      <td>1.000000</td>\n",
       "      <td>2.000000</td>\n",
       "      <td>0.000000</td>\n",
       "      <td>0.000000</td>\n",
       "      <td>0.000000</td>\n",
       "      <td>0.000000</td>\n",
       "      <td>0.000000</td>\n",
       "      <td>0.000000</td>\n",
       "      <td>0.000000</td>\n",
       "      <td>0.000000</td>\n",
       "      <td>0.000000</td>\n",
       "      <td>2.000000</td>\n",
       "    </tr>\n",
       "    <tr>\n",
       "      <th>50%</th>\n",
       "      <td>40554.000000</td>\n",
       "      <td>0.000000</td>\n",
       "      <td>64.000000</td>\n",
       "      <td>2016.000000</td>\n",
       "      <td>34.000000</td>\n",
       "      <td>16.000000</td>\n",
       "      <td>1.000000</td>\n",
       "      <td>2.000000</td>\n",
       "      <td>2.000000</td>\n",
       "      <td>0.000000</td>\n",
       "      <td>0.000000</td>\n",
       "      <td>0.000000</td>\n",
       "      <td>0.000000</td>\n",
       "      <td>0.000000</td>\n",
       "      <td>0.000000</td>\n",
       "      <td>0.000000</td>\n",
       "      <td>0.000000</td>\n",
       "      <td>0.000000</td>\n",
       "      <td>3.000000</td>\n",
       "    </tr>\n",
       "    <tr>\n",
       "      <th>75%</th>\n",
       "      <td>67414.000000</td>\n",
       "      <td>1.000000</td>\n",
       "      <td>151.000000</td>\n",
       "      <td>2016.000000</td>\n",
       "      <td>42.000000</td>\n",
       "      <td>23.000000</td>\n",
       "      <td>2.000000</td>\n",
       "      <td>3.000000</td>\n",
       "      <td>2.000000</td>\n",
       "      <td>0.000000</td>\n",
       "      <td>0.000000</td>\n",
       "      <td>0.000000</td>\n",
       "      <td>0.000000</td>\n",
       "      <td>0.000000</td>\n",
       "      <td>0.000000</td>\n",
       "      <td>0.000000</td>\n",
       "      <td>0.000000</td>\n",
       "      <td>1.000000</td>\n",
       "      <td>4.000000</td>\n",
       "    </tr>\n",
       "    <tr>\n",
       "      <th>max</th>\n",
       "      <td>84121.000000</td>\n",
       "      <td>1.000000</td>\n",
       "      <td>374.000000</td>\n",
       "      <td>2016.000000</td>\n",
       "      <td>53.000000</td>\n",
       "      <td>31.000000</td>\n",
       "      <td>4.000000</td>\n",
       "      <td>6.000000</td>\n",
       "      <td>4.000000</td>\n",
       "      <td>3.000000</td>\n",
       "      <td>10.000000</td>\n",
       "      <td>1.000000</td>\n",
       "      <td>26.000000</td>\n",
       "      <td>58.000000</td>\n",
       "      <td>17.000000</td>\n",
       "      <td>259.000000</td>\n",
       "      <td>3.000000</td>\n",
       "      <td>5.000000</td>\n",
       "      <td>10.000000</td>\n",
       "    </tr>\n",
       "  </tbody>\n",
       "</table>\n",
       "</div>"
      ],
      "text/plain": [
       "                 id   is_canceled     lead_time  arrival_date_year  \\\n",
       "count  65229.000000  65229.000000  65229.000000       65229.000000   \n",
       "mean   43544.069172      0.368609     96.337917        2015.719021   \n",
       "std    25614.858971      0.482431     96.127545           0.449481   \n",
       "min        0.000000      0.000000      0.000000        2015.000000   \n",
       "25%    19108.000000      0.000000     17.000000        2015.000000   \n",
       "50%    40554.000000      0.000000     64.000000        2016.000000   \n",
       "75%    67414.000000      1.000000    151.000000        2016.000000   \n",
       "max    84121.000000      1.000000    374.000000        2016.000000   \n",
       "\n",
       "       arrival_date_week_number  arrival_date_day_of_month  \\\n",
       "count              65229.000000               65229.000000   \n",
       "mean                  31.339772                  15.847813   \n",
       "std                   13.464024                   8.748182   \n",
       "min                    1.000000                   1.000000   \n",
       "25%                   21.000000                   8.000000   \n",
       "50%                   34.000000                  16.000000   \n",
       "75%                   42.000000                  23.000000   \n",
       "max                   53.000000                  31.000000   \n",
       "\n",
       "       stays_in_weekend_nights  stays_in_week_nights        adults  \\\n",
       "count             65229.000000          65229.000000  65229.000000   \n",
       "mean                  0.825185              2.224793      1.836576   \n",
       "std                   0.853477              1.354992      0.480245   \n",
       "min                   0.000000              0.000000      0.000000   \n",
       "25%                   0.000000              1.000000      2.000000   \n",
       "50%                   1.000000              2.000000      2.000000   \n",
       "75%                   2.000000              3.000000      2.000000   \n",
       "max                   4.000000              6.000000      4.000000   \n",
       "\n",
       "           children        babies  is_repeated_guest  previous_cancellations  \\\n",
       "count  65229.000000  65229.000000       65229.000000            65229.000000   \n",
       "mean       0.074890      0.007236           0.027151                0.128915   \n",
       "std        0.334243      0.098790           0.162523                0.965326   \n",
       "min        0.000000      0.000000           0.000000                0.000000   \n",
       "25%        0.000000      0.000000           0.000000                0.000000   \n",
       "50%        0.000000      0.000000           0.000000                0.000000   \n",
       "75%        0.000000      0.000000           0.000000                0.000000   \n",
       "max        3.000000     10.000000           1.000000               26.000000   \n",
       "\n",
       "       previous_bookings_not_canceled  booking_changes  days_in_waiting_list  \\\n",
       "count                    65229.000000     65229.000000          65229.000000   \n",
       "mean                         0.107713         0.194269              3.334422   \n",
       "std                          1.326638         0.593838             18.239606   \n",
       "min                          0.000000         0.000000              0.000000   \n",
       "25%                          0.000000         0.000000              0.000000   \n",
       "50%                          0.000000         0.000000              0.000000   \n",
       "75%                          0.000000         0.000000              0.000000   \n",
       "max                         58.000000        17.000000            259.000000   \n",
       "\n",
       "       required_car_parking_spaces  total_of_special_requests  total_nights  \n",
       "count                 65229.000000               65229.000000  65229.000000  \n",
       "mean                      0.056647                   0.512763      3.049978  \n",
       "std                       0.232094                   0.752590      1.738108  \n",
       "min                       0.000000                   0.000000      1.000000  \n",
       "25%                       0.000000                   0.000000      2.000000  \n",
       "50%                       0.000000                   0.000000      3.000000  \n",
       "75%                       0.000000                   1.000000      4.000000  \n",
       "max                       3.000000                   5.000000     10.000000  "
      ]
     },
     "metadata": {},
     "output_type": "display_data"
    },
    {
     "name": "stdout",
     "output_type": "stream",
     "text": [
      "<class 'pandas.core.frame.DataFrame'>\n",
      "RangeIndex: 65229 entries, 0 to 65228\n",
      "Data columns (total 25 columns):\n",
      " #   Column                          Non-Null Count  Dtype  \n",
      "---  ------                          --------------  -----  \n",
      " 0   id                              65229 non-null  int64  \n",
      " 1   is_canceled                     65229 non-null  int64  \n",
      " 2   lead_time                       65229 non-null  float64\n",
      " 3   arrival_date_year               65229 non-null  int64  \n",
      " 4   arrival_date_month              65229 non-null  object \n",
      " 5   arrival_date_week_number        65229 non-null  int64  \n",
      " 6   arrival_date_day_of_month       65229 non-null  int64  \n",
      " 7   stays_in_weekend_nights         65229 non-null  int64  \n",
      " 8   stays_in_week_nights            65229 non-null  int64  \n",
      " 9   adults                          65229 non-null  float64\n",
      " 10  children                        65229 non-null  float64\n",
      " 11  babies                          65229 non-null  float64\n",
      " 12  meal                            65229 non-null  object \n",
      " 13  country                         65229 non-null  object \n",
      " 14  distribution_channel            65229 non-null  object \n",
      " 15  is_repeated_guest               65229 non-null  int64  \n",
      " 16  previous_cancellations          65229 non-null  int64  \n",
      " 17  previous_bookings_not_canceled  65229 non-null  int64  \n",
      " 18  reserved_room_type              65229 non-null  object \n",
      " 19  booking_changes                 65229 non-null  int64  \n",
      " 20  days_in_waiting_list            65229 non-null  int64  \n",
      " 21  customer_type                   65229 non-null  object \n",
      " 22  required_car_parking_spaces     65229 non-null  int64  \n",
      " 23  total_of_special_requests       65229 non-null  int64  \n",
      " 24  total_nights                    65229 non-null  int64  \n",
      "dtypes: float64(4), int64(15), object(6)\n",
      "memory usage: 12.4+ MB\n"
     ]
    }
   ],
   "source": [
    "display(df_train.head())\n",
    "display(df_train.describe())\n",
    "df_train.info()"
   ]
  },
  {
   "cell_type": "markdown",
   "metadata": {},
   "source": [
    "После первого знакомства с обучающими данными, можно заметить, что информация в датасэте представлена за два года (2015, 2016). Так же есть ошибки в столбце `babies`, явные выбросы в столбцах `previous_cancellations`, `previous_bookings_not_canceled`, `booking_changes` и `days_in_waiting_list`."
   ]
  },
  {
   "cell_type": "markdown",
   "metadata": {},
   "source": [
    "Познакомимся с тестовыми данными:"
   ]
  },
  {
   "cell_type": "code",
   "execution_count": 7,
   "metadata": {
    "scrolled": false
   },
   "outputs": [
    {
     "data": {
      "text/html": [
       "<div>\n",
       "<style scoped>\n",
       "    .dataframe tbody tr th:only-of-type {\n",
       "        vertical-align: middle;\n",
       "    }\n",
       "\n",
       "    .dataframe tbody tr th {\n",
       "        vertical-align: top;\n",
       "    }\n",
       "\n",
       "    .dataframe thead th {\n",
       "        text-align: right;\n",
       "    }\n",
       "</style>\n",
       "<table border=\"1\" class=\"dataframe\">\n",
       "  <thead>\n",
       "    <tr style=\"text-align: right;\">\n",
       "      <th></th>\n",
       "      <th>id</th>\n",
       "      <th>is_canceled</th>\n",
       "      <th>lead_time</th>\n",
       "      <th>arrival_date_year</th>\n",
       "      <th>arrival_date_month</th>\n",
       "      <th>arrival_date_week_number</th>\n",
       "      <th>arrival_date_day_of_month</th>\n",
       "      <th>stays_in_weekend_nights</th>\n",
       "      <th>stays_in_week_nights</th>\n",
       "      <th>adults</th>\n",
       "      <th>children</th>\n",
       "      <th>babies</th>\n",
       "      <th>meal</th>\n",
       "      <th>country</th>\n",
       "      <th>distribution_channel</th>\n",
       "      <th>is_repeated_guest</th>\n",
       "      <th>previous_cancellations</th>\n",
       "      <th>previous_bookings_not_canceled</th>\n",
       "      <th>reserved_room_type</th>\n",
       "      <th>booking_changes</th>\n",
       "      <th>days_in_waiting_list</th>\n",
       "      <th>customer_type</th>\n",
       "      <th>required_car_parking_spaces</th>\n",
       "      <th>total_of_special_requests</th>\n",
       "      <th>total_nights</th>\n",
       "    </tr>\n",
       "  </thead>\n",
       "  <tbody>\n",
       "    <tr>\n",
       "      <th>0</th>\n",
       "      <td>6086</td>\n",
       "      <td>1</td>\n",
       "      <td>74.0</td>\n",
       "      <td>2017</td>\n",
       "      <td>January</td>\n",
       "      <td>1</td>\n",
       "      <td>1</td>\n",
       "      <td>1</td>\n",
       "      <td>0</td>\n",
       "      <td>2.0</td>\n",
       "      <td>0.0</td>\n",
       "      <td>0.0</td>\n",
       "      <td>BB</td>\n",
       "      <td>PRT</td>\n",
       "      <td>TA/TO</td>\n",
       "      <td>0</td>\n",
       "      <td>0</td>\n",
       "      <td>0</td>\n",
       "      <td>A</td>\n",
       "      <td>0</td>\n",
       "      <td>0</td>\n",
       "      <td>Transient</td>\n",
       "      <td>0</td>\n",
       "      <td>0</td>\n",
       "      <td>1</td>\n",
       "    </tr>\n",
       "    <tr>\n",
       "      <th>1</th>\n",
       "      <td>6087</td>\n",
       "      <td>1</td>\n",
       "      <td>62.0</td>\n",
       "      <td>2017</td>\n",
       "      <td>January</td>\n",
       "      <td>1</td>\n",
       "      <td>1</td>\n",
       "      <td>2</td>\n",
       "      <td>2</td>\n",
       "      <td>2.0</td>\n",
       "      <td>0.0</td>\n",
       "      <td>0.0</td>\n",
       "      <td>BB</td>\n",
       "      <td>AUT</td>\n",
       "      <td>TA/TO</td>\n",
       "      <td>0</td>\n",
       "      <td>0</td>\n",
       "      <td>0</td>\n",
       "      <td>A</td>\n",
       "      <td>0</td>\n",
       "      <td>0</td>\n",
       "      <td>Transient</td>\n",
       "      <td>0</td>\n",
       "      <td>1</td>\n",
       "      <td>4</td>\n",
       "    </tr>\n",
       "    <tr>\n",
       "      <th>2</th>\n",
       "      <td>6088</td>\n",
       "      <td>1</td>\n",
       "      <td>62.0</td>\n",
       "      <td>2017</td>\n",
       "      <td>January</td>\n",
       "      <td>1</td>\n",
       "      <td>1</td>\n",
       "      <td>2</td>\n",
       "      <td>2</td>\n",
       "      <td>2.0</td>\n",
       "      <td>0.0</td>\n",
       "      <td>0.0</td>\n",
       "      <td>BB</td>\n",
       "      <td>AUT</td>\n",
       "      <td>TA/TO</td>\n",
       "      <td>0</td>\n",
       "      <td>0</td>\n",
       "      <td>0</td>\n",
       "      <td>A</td>\n",
       "      <td>0</td>\n",
       "      <td>0</td>\n",
       "      <td>Transient</td>\n",
       "      <td>0</td>\n",
       "      <td>1</td>\n",
       "      <td>4</td>\n",
       "    </tr>\n",
       "    <tr>\n",
       "      <th>3</th>\n",
       "      <td>6089</td>\n",
       "      <td>1</td>\n",
       "      <td>71.0</td>\n",
       "      <td>2017</td>\n",
       "      <td>January</td>\n",
       "      <td>1</td>\n",
       "      <td>1</td>\n",
       "      <td>2</td>\n",
       "      <td>2</td>\n",
       "      <td>1.0</td>\n",
       "      <td>0.0</td>\n",
       "      <td>0.0</td>\n",
       "      <td>BB</td>\n",
       "      <td>PRT</td>\n",
       "      <td>TA/TO</td>\n",
       "      <td>0</td>\n",
       "      <td>0</td>\n",
       "      <td>0</td>\n",
       "      <td>A</td>\n",
       "      <td>0</td>\n",
       "      <td>0</td>\n",
       "      <td>Transient</td>\n",
       "      <td>0</td>\n",
       "      <td>1</td>\n",
       "      <td>4</td>\n",
       "    </tr>\n",
       "    <tr>\n",
       "      <th>4</th>\n",
       "      <td>6090</td>\n",
       "      <td>1</td>\n",
       "      <td>172.0</td>\n",
       "      <td>2017</td>\n",
       "      <td>January</td>\n",
       "      <td>1</td>\n",
       "      <td>1</td>\n",
       "      <td>2</td>\n",
       "      <td>5</td>\n",
       "      <td>2.0</td>\n",
       "      <td>0.0</td>\n",
       "      <td>0.0</td>\n",
       "      <td>BB</td>\n",
       "      <td>BEL</td>\n",
       "      <td>TA/TO</td>\n",
       "      <td>0</td>\n",
       "      <td>0</td>\n",
       "      <td>0</td>\n",
       "      <td>A</td>\n",
       "      <td>0</td>\n",
       "      <td>0</td>\n",
       "      <td>Transient</td>\n",
       "      <td>0</td>\n",
       "      <td>0</td>\n",
       "      <td>7</td>\n",
       "    </tr>\n",
       "  </tbody>\n",
       "</table>\n",
       "</div>"
      ],
      "text/plain": [
       "     id  is_canceled  lead_time  arrival_date_year arrival_date_month  \\\n",
       "0  6086            1       74.0               2017            January   \n",
       "1  6087            1       62.0               2017            January   \n",
       "2  6088            1       62.0               2017            January   \n",
       "3  6089            1       71.0               2017            January   \n",
       "4  6090            1      172.0               2017            January   \n",
       "\n",
       "   arrival_date_week_number  arrival_date_day_of_month  \\\n",
       "0                         1                          1   \n",
       "1                         1                          1   \n",
       "2                         1                          1   \n",
       "3                         1                          1   \n",
       "4                         1                          1   \n",
       "\n",
       "   stays_in_weekend_nights  stays_in_week_nights  adults  children  babies  \\\n",
       "0                        1                     0     2.0       0.0     0.0   \n",
       "1                        2                     2     2.0       0.0     0.0   \n",
       "2                        2                     2     2.0       0.0     0.0   \n",
       "3                        2                     2     1.0       0.0     0.0   \n",
       "4                        2                     5     2.0       0.0     0.0   \n",
       "\n",
       "        meal country distribution_channel  is_repeated_guest  \\\n",
       "0  BB            PRT                TA/TO                  0   \n",
       "1  BB            AUT                TA/TO                  0   \n",
       "2  BB            AUT                TA/TO                  0   \n",
       "3  BB            PRT                TA/TO                  0   \n",
       "4  BB            BEL                TA/TO                  0   \n",
       "\n",
       "   previous_cancellations  previous_bookings_not_canceled reserved_room_type  \\\n",
       "0                       0                               0   A                  \n",
       "1                       0                               0   A                  \n",
       "2                       0                               0   A                  \n",
       "3                       0                               0   A                  \n",
       "4                       0                               0   A                  \n",
       "\n",
       "   booking_changes  days_in_waiting_list customer_type  \\\n",
       "0                0                     0     Transient   \n",
       "1                0                     0     Transient   \n",
       "2                0                     0     Transient   \n",
       "3                0                     0     Transient   \n",
       "4                0                     0     Transient   \n",
       "\n",
       "   required_car_parking_spaces  total_of_special_requests  total_nights  \n",
       "0                            0                          0             1  \n",
       "1                            0                          1             4  \n",
       "2                            0                          1             4  \n",
       "3                            0                          1             4  \n",
       "4                            0                          0             7  "
      ]
     },
     "metadata": {},
     "output_type": "display_data"
    },
    {
     "data": {
      "text/html": [
       "<div>\n",
       "<style scoped>\n",
       "    .dataframe tbody tr th:only-of-type {\n",
       "        vertical-align: middle;\n",
       "    }\n",
       "\n",
       "    .dataframe tbody tr th {\n",
       "        vertical-align: top;\n",
       "    }\n",
       "\n",
       "    .dataframe thead th {\n",
       "        text-align: right;\n",
       "    }\n",
       "</style>\n",
       "<table border=\"1\" class=\"dataframe\">\n",
       "  <thead>\n",
       "    <tr style=\"text-align: right;\">\n",
       "      <th></th>\n",
       "      <th>id</th>\n",
       "      <th>is_canceled</th>\n",
       "      <th>lead_time</th>\n",
       "      <th>arrival_date_year</th>\n",
       "      <th>arrival_date_week_number</th>\n",
       "      <th>arrival_date_day_of_month</th>\n",
       "      <th>stays_in_weekend_nights</th>\n",
       "      <th>stays_in_week_nights</th>\n",
       "      <th>adults</th>\n",
       "      <th>children</th>\n",
       "      <th>babies</th>\n",
       "      <th>is_repeated_guest</th>\n",
       "      <th>previous_cancellations</th>\n",
       "      <th>previous_bookings_not_canceled</th>\n",
       "      <th>booking_changes</th>\n",
       "      <th>days_in_waiting_list</th>\n",
       "      <th>required_car_parking_spaces</th>\n",
       "      <th>total_of_special_requests</th>\n",
       "      <th>total_nights</th>\n",
       "    </tr>\n",
       "  </thead>\n",
       "  <tbody>\n",
       "    <tr>\n",
       "      <th>count</th>\n",
       "      <td>32412.000000</td>\n",
       "      <td>32412.000000</td>\n",
       "      <td>32412.000000</td>\n",
       "      <td>32412.0</td>\n",
       "      <td>32412.000000</td>\n",
       "      <td>32412.000000</td>\n",
       "      <td>32412.000000</td>\n",
       "      <td>32412.00000</td>\n",
       "      <td>32412.000000</td>\n",
       "      <td>32412.000000</td>\n",
       "      <td>32412.000000</td>\n",
       "      <td>32412.000000</td>\n",
       "      <td>32412.000000</td>\n",
       "      <td>32412.000000</td>\n",
       "      <td>32412.000000</td>\n",
       "      <td>32412.000000</td>\n",
       "      <td>32412.000000</td>\n",
       "      <td>32412.000000</td>\n",
       "      <td>32412.000000</td>\n",
       "    </tr>\n",
       "    <tr>\n",
       "      <th>mean</th>\n",
       "      <td>60131.505183</td>\n",
       "      <td>0.388467</td>\n",
       "      <td>97.587869</td>\n",
       "      <td>2017.0</td>\n",
       "      <td>17.804054</td>\n",
       "      <td>15.656948</td>\n",
       "      <td>0.867888</td>\n",
       "      <td>2.34009</td>\n",
       "      <td>1.858602</td>\n",
       "      <td>0.083765</td>\n",
       "      <td>0.005523</td>\n",
       "      <td>0.031377</td>\n",
       "      <td>0.011601</td>\n",
       "      <td>0.171418</td>\n",
       "      <td>0.216741</td>\n",
       "      <td>0.262341</td>\n",
       "      <td>0.046248</td>\n",
       "      <td>0.657781</td>\n",
       "      <td>3.207979</td>\n",
       "    </tr>\n",
       "    <tr>\n",
       "      <th>std</th>\n",
       "      <td>29953.586177</td>\n",
       "      <td>0.487409</td>\n",
       "      <td>86.507146</td>\n",
       "      <td>0.0</td>\n",
       "      <td>9.177384</td>\n",
       "      <td>8.766429</td>\n",
       "      <td>0.853394</td>\n",
       "      <td>1.37517</td>\n",
       "      <td>0.489341</td>\n",
       "      <td>0.343470</td>\n",
       "      <td>0.075757</td>\n",
       "      <td>0.174338</td>\n",
       "      <td>0.180473</td>\n",
       "      <td>1.875170</td>\n",
       "      <td>0.640551</td>\n",
       "      <td>4.733027</td>\n",
       "      <td>0.219367</td>\n",
       "      <td>0.834341</td>\n",
       "      <td>1.738683</td>\n",
       "    </tr>\n",
       "    <tr>\n",
       "      <th>min</th>\n",
       "      <td>6086.000000</td>\n",
       "      <td>0.000000</td>\n",
       "      <td>0.000000</td>\n",
       "      <td>2017.0</td>\n",
       "      <td>1.000000</td>\n",
       "      <td>1.000000</td>\n",
       "      <td>0.000000</td>\n",
       "      <td>0.00000</td>\n",
       "      <td>0.000000</td>\n",
       "      <td>0.000000</td>\n",
       "      <td>0.000000</td>\n",
       "      <td>0.000000</td>\n",
       "      <td>0.000000</td>\n",
       "      <td>0.000000</td>\n",
       "      <td>0.000000</td>\n",
       "      <td>0.000000</td>\n",
       "      <td>0.000000</td>\n",
       "      <td>0.000000</td>\n",
       "      <td>1.000000</td>\n",
       "    </tr>\n",
       "    <tr>\n",
       "      <th>25%</th>\n",
       "      <td>45291.750000</td>\n",
       "      <td>0.000000</td>\n",
       "      <td>23.000000</td>\n",
       "      <td>2017.0</td>\n",
       "      <td>10.000000</td>\n",
       "      <td>8.000000</td>\n",
       "      <td>0.000000</td>\n",
       "      <td>1.00000</td>\n",
       "      <td>2.000000</td>\n",
       "      <td>0.000000</td>\n",
       "      <td>0.000000</td>\n",
       "      <td>0.000000</td>\n",
       "      <td>0.000000</td>\n",
       "      <td>0.000000</td>\n",
       "      <td>0.000000</td>\n",
       "      <td>0.000000</td>\n",
       "      <td>0.000000</td>\n",
       "      <td>0.000000</td>\n",
       "      <td>2.000000</td>\n",
       "    </tr>\n",
       "    <tr>\n",
       "      <th>50%</th>\n",
       "      <td>53394.500000</td>\n",
       "      <td>0.000000</td>\n",
       "      <td>76.000000</td>\n",
       "      <td>2017.0</td>\n",
       "      <td>18.000000</td>\n",
       "      <td>15.500000</td>\n",
       "      <td>1.000000</td>\n",
       "      <td>2.00000</td>\n",
       "      <td>2.000000</td>\n",
       "      <td>0.000000</td>\n",
       "      <td>0.000000</td>\n",
       "      <td>0.000000</td>\n",
       "      <td>0.000000</td>\n",
       "      <td>0.000000</td>\n",
       "      <td>0.000000</td>\n",
       "      <td>0.000000</td>\n",
       "      <td>0.000000</td>\n",
       "      <td>0.000000</td>\n",
       "      <td>3.000000</td>\n",
       "    </tr>\n",
       "    <tr>\n",
       "      <th>75%</th>\n",
       "      <td>89800.250000</td>\n",
       "      <td>1.000000</td>\n",
       "      <td>155.000000</td>\n",
       "      <td>2017.0</td>\n",
       "      <td>25.000000</td>\n",
       "      <td>23.000000</td>\n",
       "      <td>2.000000</td>\n",
       "      <td>3.00000</td>\n",
       "      <td>2.000000</td>\n",
       "      <td>0.000000</td>\n",
       "      <td>0.000000</td>\n",
       "      <td>0.000000</td>\n",
       "      <td>0.000000</td>\n",
       "      <td>0.000000</td>\n",
       "      <td>0.000000</td>\n",
       "      <td>0.000000</td>\n",
       "      <td>0.000000</td>\n",
       "      <td>1.000000</td>\n",
       "      <td>4.000000</td>\n",
       "    </tr>\n",
       "    <tr>\n",
       "      <th>max</th>\n",
       "      <td>97903.000000</td>\n",
       "      <td>1.000000</td>\n",
       "      <td>373.000000</td>\n",
       "      <td>2017.0</td>\n",
       "      <td>35.000000</td>\n",
       "      <td>31.000000</td>\n",
       "      <td>4.000000</td>\n",
       "      <td>6.00000</td>\n",
       "      <td>4.000000</td>\n",
       "      <td>3.000000</td>\n",
       "      <td>2.000000</td>\n",
       "      <td>1.000000</td>\n",
       "      <td>6.000000</td>\n",
       "      <td>72.000000</td>\n",
       "      <td>18.000000</td>\n",
       "      <td>223.000000</td>\n",
       "      <td>8.000000</td>\n",
       "      <td>5.000000</td>\n",
       "      <td>10.000000</td>\n",
       "    </tr>\n",
       "  </tbody>\n",
       "</table>\n",
       "</div>"
      ],
      "text/plain": [
       "                 id   is_canceled     lead_time  arrival_date_year  \\\n",
       "count  32412.000000  32412.000000  32412.000000            32412.0   \n",
       "mean   60131.505183      0.388467     97.587869             2017.0   \n",
       "std    29953.586177      0.487409     86.507146                0.0   \n",
       "min     6086.000000      0.000000      0.000000             2017.0   \n",
       "25%    45291.750000      0.000000     23.000000             2017.0   \n",
       "50%    53394.500000      0.000000     76.000000             2017.0   \n",
       "75%    89800.250000      1.000000    155.000000             2017.0   \n",
       "max    97903.000000      1.000000    373.000000             2017.0   \n",
       "\n",
       "       arrival_date_week_number  arrival_date_day_of_month  \\\n",
       "count              32412.000000               32412.000000   \n",
       "mean                  17.804054                  15.656948   \n",
       "std                    9.177384                   8.766429   \n",
       "min                    1.000000                   1.000000   \n",
       "25%                   10.000000                   8.000000   \n",
       "50%                   18.000000                  15.500000   \n",
       "75%                   25.000000                  23.000000   \n",
       "max                   35.000000                  31.000000   \n",
       "\n",
       "       stays_in_weekend_nights  stays_in_week_nights        adults  \\\n",
       "count             32412.000000           32412.00000  32412.000000   \n",
       "mean                  0.867888               2.34009      1.858602   \n",
       "std                   0.853394               1.37517      0.489341   \n",
       "min                   0.000000               0.00000      0.000000   \n",
       "25%                   0.000000               1.00000      2.000000   \n",
       "50%                   1.000000               2.00000      2.000000   \n",
       "75%                   2.000000               3.00000      2.000000   \n",
       "max                   4.000000               6.00000      4.000000   \n",
       "\n",
       "           children        babies  is_repeated_guest  previous_cancellations  \\\n",
       "count  32412.000000  32412.000000       32412.000000            32412.000000   \n",
       "mean       0.083765      0.005523           0.031377                0.011601   \n",
       "std        0.343470      0.075757           0.174338                0.180473   \n",
       "min        0.000000      0.000000           0.000000                0.000000   \n",
       "25%        0.000000      0.000000           0.000000                0.000000   \n",
       "50%        0.000000      0.000000           0.000000                0.000000   \n",
       "75%        0.000000      0.000000           0.000000                0.000000   \n",
       "max        3.000000      2.000000           1.000000                6.000000   \n",
       "\n",
       "       previous_bookings_not_canceled  booking_changes  days_in_waiting_list  \\\n",
       "count                    32412.000000     32412.000000          32412.000000   \n",
       "mean                         0.171418         0.216741              0.262341   \n",
       "std                          1.875170         0.640551              4.733027   \n",
       "min                          0.000000         0.000000              0.000000   \n",
       "25%                          0.000000         0.000000              0.000000   \n",
       "50%                          0.000000         0.000000              0.000000   \n",
       "75%                          0.000000         0.000000              0.000000   \n",
       "max                         72.000000        18.000000            223.000000   \n",
       "\n",
       "       required_car_parking_spaces  total_of_special_requests  total_nights  \n",
       "count                 32412.000000               32412.000000  32412.000000  \n",
       "mean                      0.046248                   0.657781      3.207979  \n",
       "std                       0.219367                   0.834341      1.738683  \n",
       "min                       0.000000                   0.000000      1.000000  \n",
       "25%                       0.000000                   0.000000      2.000000  \n",
       "50%                       0.000000                   0.000000      3.000000  \n",
       "75%                       0.000000                   1.000000      4.000000  \n",
       "max                       8.000000                   5.000000     10.000000  "
      ]
     },
     "metadata": {},
     "output_type": "display_data"
    },
    {
     "name": "stdout",
     "output_type": "stream",
     "text": [
      "<class 'pandas.core.frame.DataFrame'>\n",
      "RangeIndex: 32412 entries, 0 to 32411\n",
      "Data columns (total 25 columns):\n",
      " #   Column                          Non-Null Count  Dtype  \n",
      "---  ------                          --------------  -----  \n",
      " 0   id                              32412 non-null  int64  \n",
      " 1   is_canceled                     32412 non-null  int64  \n",
      " 2   lead_time                       32412 non-null  float64\n",
      " 3   arrival_date_year               32412 non-null  int64  \n",
      " 4   arrival_date_month              32412 non-null  object \n",
      " 5   arrival_date_week_number        32412 non-null  int64  \n",
      " 6   arrival_date_day_of_month       32412 non-null  int64  \n",
      " 7   stays_in_weekend_nights         32412 non-null  int64  \n",
      " 8   stays_in_week_nights            32412 non-null  int64  \n",
      " 9   adults                          32412 non-null  float64\n",
      " 10  children                        32412 non-null  float64\n",
      " 11  babies                          32412 non-null  float64\n",
      " 12  meal                            32412 non-null  object \n",
      " 13  country                         32412 non-null  object \n",
      " 14  distribution_channel            32412 non-null  object \n",
      " 15  is_repeated_guest               32412 non-null  int64  \n",
      " 16  previous_cancellations          32412 non-null  int64  \n",
      " 17  previous_bookings_not_canceled  32412 non-null  int64  \n",
      " 18  reserved_room_type              32412 non-null  object \n",
      " 19  booking_changes                 32412 non-null  int64  \n",
      " 20  days_in_waiting_list            32412 non-null  int64  \n",
      " 21  customer_type                   32412 non-null  object \n",
      " 22  required_car_parking_spaces     32412 non-null  int64  \n",
      " 23  total_of_special_requests       32412 non-null  int64  \n",
      " 24  total_nights                    32412 non-null  int64  \n",
      "dtypes: float64(4), int64(15), object(6)\n",
      "memory usage: 6.2+ MB\n"
     ]
    }
   ],
   "source": [
    "display(df_test.head())\n",
    "display(df_test.describe())\n",
    "df_test.info()"
   ]
  },
  {
   "cell_type": "markdown",
   "metadata": {},
   "source": [
    "Предварительное знакомство с тестовыми данными показало, что информация в датасэте представлена за только за 2017 год. Есть  ошибки в столбце `required_car_parking_spaces`, явные выбросы в столбцах `previous_cancellations`, `previous_bookings_not_canceled`, `booking_changes` и `days_in_waiting_list`."
   ]
  },
  {
   "cell_type": "markdown",
   "metadata": {},
   "source": [
    "<div class=\"alert alert-success\">\n",
    "<h2>Комментарий ревьюера<a class=\"tocSkip\"></a></h2>\n",
    "    \n",
    "**Отлично!** ✔️: данные на месте!</div>"
   ]
  },
  {
   "cell_type": "markdown",
   "metadata": {},
   "source": [
    "## Предобработка и исследовательский анализ данных"
   ]
  },
  {
   "cell_type": "markdown",
   "metadata": {},
   "source": [
    "Для удобства работы с двумя датасетами следует их объеденить, а после предобработки мы разделим их. Мерилом выступит столбец `arrival_date_year`, потому что мы знаеам, что в df_test только 2017 год."
   ]
  },
  {
   "cell_type": "code",
   "execution_count": 8,
   "metadata": {},
   "outputs": [
    {
     "name": "stdout",
     "output_type": "stream",
     "text": [
      "<class 'pandas.core.frame.DataFrame'>\n",
      "Int64Index: 97641 entries, 0 to 32411\n",
      "Data columns (total 25 columns):\n",
      " #   Column                          Non-Null Count  Dtype  \n",
      "---  ------                          --------------  -----  \n",
      " 0   id                              97641 non-null  int64  \n",
      " 1   is_canceled                     97641 non-null  int64  \n",
      " 2   lead_time                       97641 non-null  float64\n",
      " 3   arrival_date_year               97641 non-null  int64  \n",
      " 4   arrival_date_month              97641 non-null  object \n",
      " 5   arrival_date_week_number        97641 non-null  int64  \n",
      " 6   arrival_date_day_of_month       97641 non-null  int64  \n",
      " 7   stays_in_weekend_nights         97641 non-null  int64  \n",
      " 8   stays_in_week_nights            97641 non-null  int64  \n",
      " 9   adults                          97641 non-null  float64\n",
      " 10  children                        97641 non-null  float64\n",
      " 11  babies                          97641 non-null  float64\n",
      " 12  meal                            97641 non-null  object \n",
      " 13  country                         97641 non-null  object \n",
      " 14  distribution_channel            97641 non-null  object \n",
      " 15  is_repeated_guest               97641 non-null  int64  \n",
      " 16  previous_cancellations          97641 non-null  int64  \n",
      " 17  previous_bookings_not_canceled  97641 non-null  int64  \n",
      " 18  reserved_room_type              97641 non-null  object \n",
      " 19  booking_changes                 97641 non-null  int64  \n",
      " 20  days_in_waiting_list            97641 non-null  int64  \n",
      " 21  customer_type                   97641 non-null  object \n",
      " 22  required_car_parking_spaces     97641 non-null  int64  \n",
      " 23  total_of_special_requests       97641 non-null  int64  \n",
      " 24  total_nights                    97641 non-null  int64  \n",
      "dtypes: float64(4), int64(15), object(6)\n",
      "memory usage: 19.4+ MB\n"
     ]
    }
   ],
   "source": [
    "df_full = pd.concat([df_train, df_test])\n",
    "df_full.info()"
   ]
  },
  {
   "cell_type": "markdown",
   "metadata": {},
   "source": [
    "### Проверим данные и откорректируем их\n"
   ]
  },
  {
   "cell_type": "markdown",
   "metadata": {},
   "source": [
    "Сначала мы удалим столбец `id`, так как он не несет в себе никакой полезной информации:"
   ]
  },
  {
   "cell_type": "code",
   "execution_count": 9,
   "metadata": {},
   "outputs": [],
   "source": [
    "df_full = df_full.drop('id', axis=1)"
   ]
  },
  {
   "cell_type": "markdown",
   "metadata": {},
   "source": [
    "Далее пойдем по порядку: столбец `is_canceled` - целевой. Он содержит только значения *0* и *1*. Остальные стобцы будем анализировать с учетом столбца `is_canceled`."
   ]
  },
  {
   "cell_type": "markdown",
   "metadata": {},
   "source": [
    "<div class=\"alert alert-success\">\n",
    "<h2>Комментарий ревьюера<a class=\"tocSkip\"></a></h2>\n",
    "    \n",
    "**Отлично!** ✔️: верно, id нам точно не понадобится</div>"
   ]
  },
  {
   "cell_type": "markdown",
   "metadata": {},
   "source": [
    "#### lead_time"
   ]
  },
  {
   "cell_type": "code",
   "execution_count": 10,
   "metadata": {},
   "outputs": [],
   "source": [
    "# для удобства поменяем значения на int\n",
    "df_full['lead_time'] = df_full['lead_time'].astype('int64')"
   ]
  },
  {
   "cell_type": "code",
   "execution_count": 11,
   "metadata": {},
   "outputs": [
    {
     "name": "stdout",
     "output_type": "stream",
     "text": [
      "[0, 1, 2, 3, 4, 5, 6, 7, 8, 9, 10, 11, 12, 13, 14, 15, 16, 17, 18, 19, 20, 21, 22, 23, 24, 25, 26, 27, 28, 29, 30, 31, 32, 33, 34, 35, 36, 37, 38, 39, 40, 41, 42, 43, 44, 45, 46, 47, 48, 49, 50, 51, 52, 53, 54, 55, 56, 57, 58, 59, 60, 61, 62, 63, 64, 65, 66, 67, 68, 69, 70, 71, 72, 73, 74, 75, 76, 77, 78, 79, 80, 81, 82, 83, 84, 85, 86, 87, 88, 89, 90, 91, 92, 93, 94, 95, 96, 97, 98, 99, 100, 101, 102, 103, 104, 105, 106, 107, 108, 109, 110, 111, 112, 113, 114, 115, 116, 117, 118, 119, 120, 121, 122, 123, 124, 125, 126, 127, 128, 129, 130, 131, 132, 133, 134, 135, 136, 137, 138, 139, 140, 141, 142, 143, 144, 145, 146, 147, 148, 149, 150, 151, 152, 153, 154, 155, 156, 157, 158, 159, 160, 161, 162, 163, 164, 165, 166, 167, 168, 169, 170, 171, 172, 173, 174, 175, 176, 177, 178, 179, 180, 181, 182, 183, 184, 185, 186, 187, 188, 189, 190, 191, 192, 193, 194, 195, 196, 197, 198, 199, 200, 201, 202, 203, 204, 205, 206, 207, 208, 209, 210, 211, 212, 213, 214, 215, 216, 217, 218, 219, 220, 221, 222, 223, 224, 225, 226, 227, 228, 229, 230, 231, 232, 233, 234, 235, 236, 237, 238, 239, 240, 241, 242, 243, 244, 245, 246, 247, 248, 249, 250, 251, 252, 253, 254, 255, 256, 257, 258, 259, 260, 261, 262, 263, 264, 265, 266, 267, 268, 269, 270, 271, 272, 273, 274, 275, 276, 277, 278, 279, 280, 281, 282, 283, 284, 285, 286, 287, 288, 289, 290, 291, 292, 293, 294, 295, 296, 297, 298, 299, 300, 301, 302, 303, 304, 305, 306, 307, 308, 309, 310, 311, 312, 313, 314, 315, 316, 317, 318, 319, 320, 321, 322, 323, 324, 325, 326, 327, 328, 329, 330, 331, 332, 333, 334, 335, 336, 337, 338, 339, 340, 341, 342, 343, 344, 345, 346, 347, 348, 349, 350, 351, 352, 353, 354, 355, 356, 357, 358, 359, 360, 361, 362, 363, 364, 365, 366, 367, 368, 372, 373, 374]\n"
     ]
    }
   ],
   "source": [
    "print(sorted(df_full['lead_time'].unique()))"
   ]
  },
  {
   "cell_type": "code",
   "execution_count": 12,
   "metadata": {},
   "outputs": [
    {
     "data": {
      "text/plain": [
       "151"
      ]
     },
     "execution_count": 12,
     "metadata": {},
     "output_type": "execute_result"
    }
   ],
   "source": [
    "# посмотрм сколько людей бронируют более чем на год\n",
    "df_full['lead_time'][df_full['lead_time']>365].count()"
   ]
  },
  {
   "cell_type": "markdown",
   "metadata": {},
   "source": [
    "Аномалий нет,  можно отметить что люди бронируют отель более чем на год вперед, но таких совсем мало."
   ]
  },
  {
   "cell_type": "markdown",
   "metadata": {},
   "source": [
    "#### arrival_date_year"
   ]
  },
  {
   "cell_type": "code",
   "execution_count": 13,
   "metadata": {},
   "outputs": [
    {
     "data": {
      "text/plain": [
       "array([2015, 2016, 2017])"
      ]
     },
     "execution_count": 13,
     "metadata": {},
     "output_type": "execute_result"
    }
   ],
   "source": [
    "df_full['arrival_date_year'].unique()"
   ]
  },
  {
   "cell_type": "code",
   "execution_count": 14,
   "metadata": {},
   "outputs": [
    {
     "data": {
      "image/png": "[encoded data removed]",
      "text/plain": [
       "<Figure size 1080x432 with 1 Axes>"
      ]
     },
     "metadata": {
      "needs_background": "light"
     },
     "output_type": "display_data"
    }
   ],
   "source": [
    "# построим график \n",
    "pd.crosstab(df_full['arrival_date_year'], df_full['is_canceled']).plot.barh(figsize=(15, 6))\n",
    "\n",
    "plt.legend(['Подтвержден', 'Отменен'])\n",
    "plt.ylabel('Год')\n",
    "plt.xlabel('Количество бронирований')\n",
    "\n",
    "plt.show()"
   ]
  },
  {
   "cell_type": "markdown",
   "metadata": {},
   "source": [
    "Ничего примечательного не замечено. Оставляем столбец как есть, тем более он нам нужен только для того, чтобы разделить в будущем датасэт на тестовый и обучающий."
   ]
  },
  {
   "cell_type": "markdown",
   "metadata": {},
   "source": [
    "#### arrival_date_month (arrival_date_season)            "
   ]
  },
  {
   "cell_type": "code",
   "execution_count": 15,
   "metadata": {},
   "outputs": [
    {
     "data": {
      "text/plain": [
       "array(['July', 'August', 'September', 'October', 'November', 'December',\n",
       "       'January', 'February', 'March', 'April', 'May', 'June'],\n",
       "      dtype=object)"
      ]
     },
     "execution_count": 15,
     "metadata": {},
     "output_type": "execute_result"
    }
   ],
   "source": [
    "df_full['arrival_date_month'].unique()"
   ]
  },
  {
   "cell_type": "markdown",
   "metadata": {},
   "source": [
    "Так как по условию задачи в ценовой политике отеля используются сезонные коэффициенты, можно смело поменять месяцы на сезон."
   ]
  },
  {
   "cell_type": "code",
   "execution_count": 16,
   "metadata": {},
   "outputs": [],
   "source": [
    "df_full['arrival_date_month'] = df_full['arrival_date_month'].replace(['December','January', 'February'],'winter')\n",
    "df_full['arrival_date_month'] = df_full['arrival_date_month'].replace(['March', 'April', 'May'],'spring')\n",
    "df_full['arrival_date_month'] = df_full['arrival_date_month'].replace(['June','July', 'August'],'summer')\n",
    "df_full['arrival_date_month'] = df_full['arrival_date_month'].replace(['September', 'October', 'November'],'autumn')"
   ]
  },
  {
   "cell_type": "code",
   "execution_count": 17,
   "metadata": {},
   "outputs": [],
   "source": [
    "# а чтобы не путаться в дальнейшем, переименуем столбец в 'arrival_date_season'\n",
    "df_full.rename(columns={'arrival_date_month': 'arrival_date_season'}, inplace=True)"
   ]
  },
  {
   "cell_type": "code",
   "execution_count": 18,
   "metadata": {},
   "outputs": [
    {
     "data": {
      "image/png": "[encoded data removed]",
      "text/plain": [
       "<Figure size 1080x432 with 1 Axes>"
      ]
     },
     "metadata": {
      "needs_background": "light"
     },
     "output_type": "display_data"
    }
   ],
   "source": [
    "# построим график \n",
    "pd.crosstab(df_full['arrival_date_season'], df_full['is_canceled']).plot.bar(figsize=(15, 6))\n",
    "\n",
    "plt.legend(['Подтвержден', 'Отменен'])\n",
    "plt.xlabel('Месяц')\n",
    "plt.ylabel('Количество бронирований')\n",
    "\n",
    "plt.show()"
   ]
  },
  {
   "cell_type": "markdown",
   "metadata": {},
   "source": [
    "Выглядит давольно неплохо. Бронирований в зимние месяцы незначиельно меньше, все-таки люди предпочитают отдыхать в теплое время года."
   ]
  },
  {
   "cell_type": "markdown",
   "metadata": {},
   "source": [
    "#### arrival_date_week_number"
   ]
  },
  {
   "cell_type": "code",
   "execution_count": 19,
   "metadata": {},
   "outputs": [
    {
     "data": {
      "text/plain": [
       "count    97641.000000\n",
       "mean        26.846581\n",
       "std         13.772847\n",
       "min          1.000000\n",
       "25%         16.000000\n",
       "50%         27.000000\n",
       "75%         38.000000\n",
       "max         53.000000\n",
       "Name: arrival_date_week_number, dtype: float64"
      ]
     },
     "execution_count": 19,
     "metadata": {},
     "output_type": "execute_result"
    }
   ],
   "source": [
    "df_full['arrival_date_week_number'].describe()"
   ]
  },
  {
   "cell_type": "code",
   "execution_count": 20,
   "metadata": {},
   "outputs": [
    {
     "data": {
      "image/png": "[encoded data removed]",
      "text/plain": [
       "<Figure size 1080x432 with 1 Axes>"
      ]
     },
     "metadata": {
      "needs_background": "light"
     },
     "output_type": "display_data"
    }
   ],
   "source": [
    "df_full['arrival_date_week_number'].hist(grid=False,figsize=(15, 6))\n",
    "\n",
    "plt.xlabel('Неделя года')\n",
    "plt.ylabel('Количество бронирований')\n",
    "\n",
    "plt.show()"
   ]
  },
  {
   "cell_type": "markdown",
   "metadata": {},
   "source": [
    "Можно заметить распределение Гаусса - в добавок отлично коррелирует с данными по сезонам Зимние месяцы броней меньше чем в осальные сзоны. \n",
    "\n",
    "В целом данный столбец нам не помошник в нашем анализе, его можно удалить:"
   ]
  },
  {
   "cell_type": "code",
   "execution_count": 21,
   "metadata": {},
   "outputs": [],
   "source": [
    "df_full = df_full.drop('arrival_date_week_number', axis=1)"
   ]
  },
  {
   "cell_type": "markdown",
   "metadata": {},
   "source": [
    "<div class=\"alert alert-success\">\n",
    "<h2>Комментарий ревьюера<a class=\"tocSkip\"></a></h2>\n",
    "    \n",
    "**Отлично!** ✔️: согласен, номер недели всегда будет линейно зависим с номером месяца, а значит новой информации он не несет</div>"
   ]
  },
  {
   "cell_type": "markdown",
   "metadata": {},
   "source": [
    "#### arrival_date_day_of_month      "
   ]
  },
  {
   "cell_type": "code",
   "execution_count": 22,
   "metadata": {},
   "outputs": [
    {
     "data": {
      "text/plain": [
       "count    97641.000000\n",
       "mean        15.784455\n",
       "std          8.754660\n",
       "min          1.000000\n",
       "25%          8.000000\n",
       "50%         16.000000\n",
       "75%         23.000000\n",
       "max         31.000000\n",
       "Name: arrival_date_day_of_month, dtype: float64"
      ]
     },
     "execution_count": 22,
     "metadata": {},
     "output_type": "execute_result"
    }
   ],
   "source": [
    "df_full['arrival_date_day_of_month'].describe()"
   ]
  },
  {
   "cell_type": "code",
   "execution_count": 23,
   "metadata": {
    "scrolled": false
   },
   "outputs": [
    {
     "data": {
      "image/png": "[encoded data removed]",
      "text/plain": [
       "<Figure size 1080x432 with 1 Axes>"
      ]
     },
     "metadata": {
      "needs_background": "light"
     },
     "output_type": "display_data"
    }
   ],
   "source": [
    "df_full['arrival_date_day_of_month'].hist(grid=False,figsize=(15, 6))\n",
    "\n",
    "plt.xlabel('День месяца')\n",
    "plt.ylabel('Количество бронирований')\n",
    "\n",
    "plt.show()"
   ]
  },
  {
   "cell_type": "markdown",
   "metadata": {},
   "source": [
    "Гистограмма - ровнее не придумаешь, разве что самую капельку задран хвост. \n",
    "\n",
    "Судьба у данного столбца такая же как и у `arrival_date_week_number`, его можно удалить:"
   ]
  },
  {
   "cell_type": "code",
   "execution_count": 24,
   "metadata": {},
   "outputs": [],
   "source": [
    "df_full = df_full.drop('arrival_date_day_of_month', axis=1)"
   ]
  },
  {
   "cell_type": "markdown",
   "metadata": {},
   "source": [
    "<div class=\"alert alert-success\">\n",
    "<h2>Комментарий ревьюера<a class=\"tocSkip\"></a></h2>\n",
    "    \n",
    "**Отлично!** ✔️: 👍</div>"
   ]
  },
  {
   "cell_type": "markdown",
   "metadata": {},
   "source": [
    "#### stays_in_weekend_nights и stays_in_week_nights"
   ]
  },
  {
   "cell_type": "code",
   "execution_count": 25,
   "metadata": {},
   "outputs": [
    {
     "data": {
      "text/plain": [
       "count    97641.000000\n",
       "mean         0.839361\n",
       "std          0.853682\n",
       "min          0.000000\n",
       "25%          0.000000\n",
       "50%          1.000000\n",
       "75%          2.000000\n",
       "max          4.000000\n",
       "Name: stays_in_weekend_nights, dtype: float64"
      ]
     },
     "execution_count": 25,
     "metadata": {},
     "output_type": "execute_result"
    }
   ],
   "source": [
    "df_full['stays_in_weekend_nights'].describe()"
   ]
  },
  {
   "cell_type": "code",
   "execution_count": 26,
   "metadata": {},
   "outputs": [
    {
     "data": {
      "text/plain": [
       "count    97641.000000\n",
       "mean         2.263066\n",
       "std          1.362798\n",
       "min          0.000000\n",
       "25%          1.000000\n",
       "50%          2.000000\n",
       "75%          3.000000\n",
       "max          6.000000\n",
       "Name: stays_in_week_nights, dtype: float64"
      ]
     },
     "execution_count": 26,
     "metadata": {},
     "output_type": "execute_result"
    }
   ],
   "source": [
    "df_full['stays_in_week_nights'].describe()"
   ]
  },
  {
   "cell_type": "markdown",
   "metadata": {},
   "source": [
    "Оба столбца мне категорически не нравятся, не понимаю как могут быть 4 выходных или 6 будичных ночей. Единственное объяснение этому - столбцы пересекаются, например бронь с пятницы и до понедельника следующей недели. В таком случае действительно получится 4 выходных и 6 будничных ночи, тогда не понятно для чего нам столбец `total_nights`. \n",
    "\n",
    "Проверим следующим образом: выходная ночь + будничная ночь = всего ночей. Если условие соблюдено, то эти два столбца нам не нужны и их можно удалить."
   ]
  },
  {
   "cell_type": "code",
   "execution_count": 27,
   "metadata": {},
   "outputs": [
    {
     "data": {
      "text/plain": [
       "array([ True])"
      ]
     },
     "execution_count": 27,
     "metadata": {},
     "output_type": "execute_result"
    }
   ],
   "source": [
    "((df_full['stays_in_weekend_nights'] + df_full['stays_in_week_nights']) ==\n",
    "                                       df_full['total_nights']).unique()"
   ]
  },
  {
   "cell_type": "markdown",
   "metadata": {},
   "source": [
    "Вот и подтвердилась бесполезная пара столбцов, под нож их!"
   ]
  },
  {
   "cell_type": "code",
   "execution_count": 28,
   "metadata": {},
   "outputs": [],
   "source": [
    "df_full = df_full.drop(['stays_in_weekend_nights','stays_in_week_nights'], axis=1)"
   ]
  },
  {
   "cell_type": "markdown",
   "metadata": {},
   "source": [
    "<div class=\"alert alert-success\">\n",
    "<h2>Комментарий ревьюера<a class=\"tocSkip\"></a></h2>\n",
    "    \n",
    "**Отлично!** ✔️: верно, так как цены в отеле не меняются в зависимости от дня недели, то эти столбцы спокойно можно удалять</div>"
   ]
  },
  {
   "cell_type": "markdown",
   "metadata": {},
   "source": [
    "#### adults"
   ]
  },
  {
   "cell_type": "code",
   "execution_count": 29,
   "metadata": {},
   "outputs": [],
   "source": [
    "# для удобства поменяем значения на int\n",
    "df_full['adults'] = df_full['adults'].astype('int64')"
   ]
  },
  {
   "cell_type": "code",
   "execution_count": 30,
   "metadata": {},
   "outputs": [
    {
     "data": {
      "text/plain": [
       "array([1, 2, 3, 4, 0])"
      ]
     },
     "execution_count": 30,
     "metadata": {},
     "output_type": "execute_result"
    }
   ],
   "source": [
    "df_full['adults'].unique()"
   ]
  },
  {
   "cell_type": "markdown",
   "metadata": {},
   "source": [
    "Смущает количество взрослых равное нулю. Дети баловались?\n",
    "\n",
    "Думаю не будет ошибкой удалить строки где взрослых нет."
   ]
  },
  {
   "cell_type": "code",
   "execution_count": 31,
   "metadata": {},
   "outputs": [
    {
     "data": {
      "text/plain": [
       "235"
      ]
     },
     "execution_count": 31,
     "metadata": {},
     "output_type": "execute_result"
    }
   ],
   "source": [
    "# посмотрим сколько у нас таких записей\n",
    "(df_full['adults'] == 0).sum()"
   ]
  },
  {
   "cell_type": "code",
   "execution_count": 32,
   "metadata": {},
   "outputs": [],
   "source": [
    "# удаляем строки с без взрослых\n",
    "df_full = df_full.loc[df_full['adults'] != 0]"
   ]
  },
  {
   "cell_type": "markdown",
   "metadata": {},
   "source": [
    "<div class=\"alert alert-success\">\n",
    "<h2>Комментарий ревьюера<a class=\"tocSkip\"></a></h2>\n",
    "    \n",
    "**Отлично!** ✔️: согласен, детям без взрослых сдать номер не могут, поэтому такие записи — это явные аномалии</div>"
   ]
  },
  {
   "cell_type": "code",
   "execution_count": 33,
   "metadata": {},
   "outputs": [
    {
     "data": {
      "image/png": "[encoded data removed]",
      "text/plain": [
       "<Figure size 1080x432 with 1 Axes>"
      ]
     },
     "metadata": {
      "needs_background": "light"
     },
     "output_type": "display_data"
    }
   ],
   "source": [
    "# построим график \n",
    "pd.crosstab(df_full['adults'], df_full['is_canceled']).plot.bar(figsize=(15, 6))\n",
    "\n",
    "plt.legend(['Подтвержден', 'Отменен'])\n",
    "plt.xlabel('Количество взрослых')\n",
    "plt.ylabel('Количество бронирований')\n",
    "\n",
    "plt.show()"
   ]
  },
  {
   "cell_type": "markdown",
   "metadata": {},
   "source": [
    "Хоть у нас и совсем мало с трок с 4 взрослыми, но они никак не мешают нам работать, оставим их."
   ]
  },
  {
   "cell_type": "markdown",
   "metadata": {},
   "source": [
    "#### children"
   ]
  },
  {
   "cell_type": "code",
   "execution_count": 34,
   "metadata": {},
   "outputs": [],
   "source": [
    "# для удобства поменяем значения на int\n",
    "df_full['children'] = df_full['children'].astype('int64')"
   ]
  },
  {
   "cell_type": "code",
   "execution_count": 35,
   "metadata": {},
   "outputs": [
    {
     "data": {
      "text/plain": [
       "array([0, 1, 2, 3])"
      ]
     },
     "execution_count": 35,
     "metadata": {},
     "output_type": "execute_result"
    }
   ],
   "source": [
    "df_full['children'].unique()"
   ]
  },
  {
   "cell_type": "code",
   "execution_count": 36,
   "metadata": {},
   "outputs": [
    {
     "data": {
      "image/png": "[encoded data removed]",
      "text/plain": [
       "<Figure size 1080x432 with 1 Axes>"
      ]
     },
     "metadata": {
      "needs_background": "light"
     },
     "output_type": "display_data"
    }
   ],
   "source": [
    "# построим график \n",
    "pd.crosstab(df_full['children'], df_full['is_canceled']).plot.bar(figsize=(15, 6))\n",
    "\n",
    "plt.legend(['Подтвержден', 'Отменен'])\n",
    "plt.xlabel('Количество подростков')\n",
    "plt.ylabel('Количество бронирований')\n",
    "\n",
    "plt.show()"
   ]
  },
  {
   "cell_type": "markdown",
   "metadata": {},
   "source": [
    "Все выглядит в рамках приличия, оставим столбец."
   ]
  },
  {
   "cell_type": "markdown",
   "metadata": {},
   "source": [
    "#### babies"
   ]
  },
  {
   "cell_type": "code",
   "execution_count": 37,
   "metadata": {},
   "outputs": [],
   "source": [
    "# для удобства поменяем значения на int\n",
    "df_full['babies'] = df_full['babies'].astype('int64')"
   ]
  },
  {
   "cell_type": "code",
   "execution_count": 38,
   "metadata": {},
   "outputs": [
    {
     "data": {
      "text/plain": [
       "count    97406.000000\n",
       "mean         0.006653\n",
       "std          0.091735\n",
       "min          0.000000\n",
       "25%          0.000000\n",
       "50%          0.000000\n",
       "75%          0.000000\n",
       "max         10.000000\n",
       "Name: babies, dtype: float64"
      ]
     },
     "execution_count": 38,
     "metadata": {},
     "output_type": "execute_result"
    }
   ],
   "source": [
    "df_full['babies'].describe()"
   ]
  },
  {
   "cell_type": "code",
   "execution_count": 39,
   "metadata": {},
   "outputs": [
    {
     "data": {
      "text/plain": [
       "2"
      ]
     },
     "execution_count": 39,
     "metadata": {},
     "output_type": "execute_result"
    }
   ],
   "source": [
    "# посмотрим сколько у нас таких записей\n",
    "(df_full['babies'] > 8).sum()"
   ]
  },
  {
   "cell_type": "markdown",
   "metadata": {},
   "source": [
    "По одному на 9 и 10 детей. Вожатая с группой детсадовцев? Почему бы и нет, но номеров с 10 кроватками я не встречал. \n",
    "\n",
    "Двумя строками можно пожертвовать."
   ]
  },
  {
   "cell_type": "code",
   "execution_count": 40,
   "metadata": {},
   "outputs": [],
   "source": [
    "# удаляем строки\n",
    "df_full = df_full.loc[df_full['babies'] < 9]"
   ]
  },
  {
   "cell_type": "markdown",
   "metadata": {},
   "source": [
    "<div class=\"alert alert-warning\">\n",
    "<h2>Комментарий ревьюера<a class=\"tocSkip\"></a></h2>\n",
    "    \n",
    "**Есть совет** ⚠️: окей, но если внимательно изучить признак, то можно заметить, что бронирований с 2 младенцами тоже слишком мало, чтобы делать по ним прогноз. Такие записи тоже лучше удалить(или приравнять к 1) и переименовать признак, например, в `has_babies`, чтобы обозначить его теперь уже бинарную природу\n",
    "\n",
    "<div class=\"alert alert-info\">\n",
    "<b>Комментарий студента:</b> Довольно долго думал касательно всех подобных столбцов и пришел к следующиему выводу:\n",
    "    1. эспоненциальное распределение имеет место быть, пускай и угол атаки на графике будет под 90 градусов;\n",
    "    2. незначительное количество строк - оно в обе стороны незначительно (что оставить, что удалить);\n",
    "    3. самое главное - в случае уточненных датафреймов (мы знаем, что дф_тест хоть и за 2017 год, но только за 8 месяцев) модель будет знать что такое и 2 и теоретически 3 ребенка.\n",
    "    \n",
    "Стараюсь придерживаться средующего правила в предобработке: оставь-исправь-удали (๑˘︶˘๑)\n",
    "\n",
    "</div>"
   ]
  },
  {
   "cell_type": "markdown",
   "metadata": {},
   "source": [
    "<div class=\"alert alert-success\">\n",
    "<h2>Комментарий ревьюера v2<a class=\"tocSkip\"></a></h2>\n",
    "    \n",
    "**Отлично!** ✔️: вообще обычно еще стоит ориентироваться на природу выбросов. Например, когда выбросы вполне легко объясняются предметной областью: в нашем датасете можно заметить, что люди бронируют номер за год и более. Несмотря на то, что это статистические выбросы, это тоже объясняет поведение определенной группы пользователей, а значит может быть полезно и для модели: постояльцы вполне могут планировать отпуск и за год, особенно, во время акционных предложений. Если же выбросы единичны(как в случае с младенцами) или противоречат здравому смыслу(детям до 14 лет без взрослых не могут сдать номер по закону), то полезными для модели эти данные вряд ли назовешь, скорее, они будут вносить лишний шум. Но проконсультироваться с коллегами по этому поводу и выяснить причину выбросов, конечно, стоит :)</div>"
   ]
  },
  {
   "cell_type": "markdown",
   "metadata": {},
   "source": [
    "#### meal"
   ]
  },
  {
   "cell_type": "code",
   "execution_count": 41,
   "metadata": {},
   "outputs": [
    {
     "data": {
      "text/plain": [
       "array(['BB       ', 'FB       ', 'HB       ', 'SC       ', 'SC'],\n",
       "      dtype=object)"
      ]
     },
     "execution_count": 41,
     "metadata": {},
     "output_type": "execute_result"
    }
   ],
   "source": [
    "df_full['meal'].unique()"
   ]
  },
  {
   "cell_type": "markdown",
   "metadata": {},
   "source": [
    "Хвосты из пробелов следует подправить."
   ]
  },
  {
   "cell_type": "code",
   "execution_count": 42,
   "metadata": {},
   "outputs": [],
   "source": [
    "df_full['meal'] = df_full['meal'].str.strip()"
   ]
  },
  {
   "cell_type": "markdown",
   "metadata": {},
   "source": [
    "<div class=\"alert alert-success\">\n",
    "<h2>Комментарий ревьюера<a class=\"tocSkip\"></a></h2>\n",
    "    \n",
    "**Отлично!** ✔️: здорово, что заметил лишние пробелы!</div>"
   ]
  },
  {
   "cell_type": "code",
   "execution_count": 43,
   "metadata": {},
   "outputs": [
    {
     "data": {
      "image/png": "[encoded data removed]",
      "text/plain": [
       "<Figure size 1080x432 with 1 Axes>"
      ]
     },
     "metadata": {
      "needs_background": "light"
     },
     "output_type": "display_data"
    }
   ],
   "source": [
    "# построим график \n",
    "pd.crosstab(df_full['meal'], df_full['is_canceled']).plot.bar(figsize=(15, 6))\n",
    "\n",
    "plt.legend(['Подтвержден', 'Отменен'])\n",
    "plt.xlabel('Опция заказа')\n",
    "plt.ylabel('Количество бронирований')\n",
    "\n",
    "plt.show()"
   ]
  },
  {
   "cell_type": "markdown",
   "metadata": {},
   "source": [
    "Теперь все стало на свои места."
   ]
  },
  {
   "cell_type": "markdown",
   "metadata": {},
   "source": [
    "#### country"
   ]
  },
  {
   "cell_type": "code",
   "execution_count": 44,
   "metadata": {},
   "outputs": [
    {
     "data": {
      "text/plain": [
       "array(['GBR', 'PRT', 'ESP', 'IRL', 'FRA', 'ROU', 'NOR', 'USA', 'DEU',\n",
       "       'BEL', 'CHE', 'CN', 'GRC', 'NLD', 'ARG', 'RUS', 'SWE', 'POL',\n",
       "       'EST', 'CZE', 'ITA', 'FIN', 'DNK', 'MOZ', 'BWA', 'LUX', 'BRA',\n",
       "       'SVN', 'ALB', 'CHN', 'MEX', 'MAR', 'SMR', 'LVA', 'CHL', 'AUT',\n",
       "       'LTU', 'TUR', 'ISR', 'IND', 'CYM', 'AUS', 'CPV', 'ZWE', 'DZA',\n",
       "       'KOR', 'CRI', 'HUN', 'TUN', 'ARE', 'HRV', 'HKG', 'IRN', 'GIB',\n",
       "       'JEY', 'URY', 'ZAF', 'COL', 'GGY', 'KWT', 'CYP', 'KAZ', 'THA',\n",
       "       'DOM', 'NGA', 'BLR', 'VEN', 'UKR', 'ARM', 'JPN', 'LKA', 'MYS',\n",
       "       'BIH', 'MUS', 'OMN', 'SUR', 'JAM', 'BGR', 'CIV', 'SRB', 'JOR',\n",
       "       'SYR', 'PHL', 'PRI', 'SGP', 'BDI', 'LBN', 'AGO', 'VNM', 'AZE',\n",
       "       'PLW', 'NZL', 'EGY', 'MDV', 'CMR', 'MLT', 'SVK', 'MWI', 'STP',\n",
       "       'TWN', 'IDN', 'SEN', 'PER', 'SAU', 'KNA', 'ETH', 'ECU', 'IRQ',\n",
       "       'AND', 'HND', 'PAK', 'GEO', 'ZMB', 'QAT', 'KHM', 'MCO', 'BGD',\n",
       "       'ISL', 'UZB', 'IMN', 'TJK', 'NIC', 'BEN', 'MAC', 'VGB', 'TZA',\n",
       "       'GAB', 'MKD', 'TMP', 'GLP', 'KEN', 'LIE', 'MMR', 'PAN', 'BFA',\n",
       "       'LBY', 'GNB', 'MLI', 'BHR', 'NAM', 'BOL', 'SYC', 'PRY', 'BRB',\n",
       "       'ABW', 'SLV', 'DMA', 'CUB', 'PYF', 'UGA', 'GUY', 'LCA', 'ATA',\n",
       "       'RWA', 'MNE', 'FJI', 'MDG', 'CAF', 'NPL', 'BHS', 'UMI', 'MYT',\n",
       "       'GTM', 'GHA', 'ASM', 'TGO', 'MRT', 'NCL', 'KIR', 'SDN', 'ATF',\n",
       "       'SLE', 'LAO', 'FRO'], dtype=object)"
      ]
     },
     "execution_count": 44,
     "metadata": {},
     "output_type": "execute_result"
    }
   ],
   "source": [
    "df_full['country'].unique()"
   ]
  },
  {
   "cell_type": "code",
   "execution_count": 45,
   "metadata": {},
   "outputs": [
    {
     "data": {
      "image/png": "[encoded data removed]",
      "text/plain": [
       "<Figure size 1080x432 with 1 Axes>"
      ]
     },
     "metadata": {
      "needs_background": "light"
     },
     "output_type": "display_data"
    }
   ],
   "source": [
    "# построим график \n",
    "pd.crosstab(df_full['country'], df_full['is_canceled']).plot.bar(figsize=(15, 6))\n",
    "\n",
    "plt.legend(['Подтвержден', 'Отменен'])\n",
    "plt.xlabel('Страна')\n",
    "plt.ylabel('Количество бронирований')\n",
    "\n",
    "plt.show()"
   ]
  },
  {
   "cell_type": "markdown",
   "metadata": {},
   "source": [
    "Ужасно некрасивый график, заменим страны, количество которых меньше процента, на `other`:"
   ]
  },
  {
   "cell_type": "code",
   "execution_count": 46,
   "metadata": {},
   "outputs": [],
   "source": [
    "# (df_full['country'].value_counts().sum())/100 - тот самый процент от общего числа записей\n",
    "df_full.loc[df_full['country'].isin((df_full['country'].value_counts())\n",
    "                [(df_full['country'].value_counts())<\n",
    "                ((df_full['country'].value_counts().sum())/100)].index), 'country'] = 'other'"
   ]
  },
  {
   "cell_type": "code",
   "execution_count": 47,
   "metadata": {},
   "outputs": [
    {
     "data": {
      "image/png": "[encoded data removed]",
      "text/plain": [
       "<Figure size 1080x432 with 1 Axes>"
      ]
     },
     "metadata": {
      "needs_background": "light"
     },
     "output_type": "display_data"
    }
   ],
   "source": [
    "# построим график \n",
    "pd.crosstab(df_full['country'], df_full['is_canceled']).plot.bar(figsize=(15, 6))\n",
    "\n",
    "plt.legend(['Подтвержден', 'Отменен'])\n",
    "plt.xlabel('Страна')\n",
    "plt.ylabel('Количество бронирований')\n",
    "\n",
    "plt.show()"
   ]
  },
  {
   "cell_type": "markdown",
   "metadata": {},
   "source": [
    "Ох уж эти португальцы, отмен больше чем приличные люди себе могут позволить! Похоже, что облик \"плохого клиента\" начал вырисовываться."
   ]
  },
  {
   "cell_type": "markdown",
   "metadata": {},
   "source": [
    "#### distribution_channel"
   ]
  },
  {
   "cell_type": "code",
   "execution_count": 48,
   "metadata": {},
   "outputs": [
    {
     "data": {
      "text/plain": [
       "array(['Direct', 'TA/TO', 'Corporate', 'GDS'], dtype=object)"
      ]
     },
     "execution_count": 48,
     "metadata": {},
     "output_type": "execute_result"
    }
   ],
   "source": [
    "df_full['distribution_channel'].unique()"
   ]
  },
  {
   "cell_type": "code",
   "execution_count": 49,
   "metadata": {},
   "outputs": [
    {
     "data": {
      "image/png": "[encoded data removed]",
      "text/plain": [
       "<Figure size 1080x432 with 1 Axes>"
      ]
     },
     "metadata": {
      "needs_background": "light"
     },
     "output_type": "display_data"
    }
   ],
   "source": [
    "# построим график \n",
    "pd.crosstab(df_full['distribution_channel'], df_full['is_canceled']).plot.bar(figsize=(15, 6))\n",
    "\n",
    "plt.legend(['Подтвержден', 'Отменен'])\n",
    "plt.xlabel('Канал дистрибуции')\n",
    "plt.ylabel('Количество бронирований')\n",
    "\n",
    "plt.show()"
   ]
  },
  {
   "cell_type": "code",
   "execution_count": 50,
   "metadata": {},
   "outputs": [
    {
     "data": {
      "text/plain": [
       "184"
      ]
     },
     "execution_count": 50,
     "metadata": {},
     "output_type": "execute_result"
    }
   ],
   "source": [
    "# посмотрим сколько у нас таких записей\n",
    "(df_full['distribution_channel'] == 'GDS').sum()"
   ]
  },
  {
   "cell_type": "markdown",
   "metadata": {},
   "source": [
    "С этим признаком проблем нет. \n",
    "\n",
    "Следует отметить, что `GDS` на порядок (а то и на два) меньше остальных каналов дистрибуции."
   ]
  },
  {
   "cell_type": "markdown",
   "metadata": {},
   "source": [
    "#### is_repeated_guest"
   ]
  },
  {
   "cell_type": "code",
   "execution_count": 51,
   "metadata": {},
   "outputs": [
    {
     "data": {
      "text/plain": [
       "array([0, 1])"
      ]
     },
     "execution_count": 51,
     "metadata": {},
     "output_type": "execute_result"
    }
   ],
   "source": [
    "df_full['is_repeated_guest'].unique()"
   ]
  },
  {
   "cell_type": "code",
   "execution_count": 52,
   "metadata": {},
   "outputs": [
    {
     "data": {
      "image/png": "[encoded data removed]",
      "text/plain": [
       "<Figure size 1080x432 with 1 Axes>"
      ]
     },
     "metadata": {
      "needs_background": "light"
     },
     "output_type": "display_data"
    }
   ],
   "source": [
    "# построим график \n",
    "pd.crosstab(df_full['is_repeated_guest'], df_full['is_canceled']).plot.bar(figsize=(15, 6))\n",
    "\n",
    "plt.legend(['Подтвержден', 'Отменен'])\n",
    "plt.xlabel('Знаком-ли нам гость?')\n",
    "plt.ylabel('Количество бронирований')\n",
    "\n",
    "plt.show()"
   ]
  },
  {
   "cell_type": "markdown",
   "metadata": {},
   "source": [
    "Постоянных клиентов не так много как хотелось, а в остальном все выглядит прилично."
   ]
  },
  {
   "cell_type": "markdown",
   "metadata": {},
   "source": [
    "#### previous_cancellations"
   ]
  },
  {
   "cell_type": "code",
   "execution_count": 53,
   "metadata": {},
   "outputs": [
    {
     "data": {
      "text/plain": [
       "array([ 0,  1,  2,  3, 26, 25, 14, 24, 19,  4,  5, 21,  6, 13, 11])"
      ]
     },
     "execution_count": 53,
     "metadata": {},
     "output_type": "execute_result"
    }
   ],
   "source": [
    "df_full['previous_cancellations'].unique()"
   ]
  },
  {
   "cell_type": "code",
   "execution_count": 54,
   "metadata": {},
   "outputs": [
    {
     "data": {
      "text/plain": [
       "332"
      ]
     },
     "execution_count": 54,
     "metadata": {},
     "output_type": "execute_result"
    }
   ],
   "source": [
    "# посмотрим сколько у нас записей c отменами > 1\n",
    "(df_full['previous_cancellations'] > 1).sum()"
   ]
  },
  {
   "cell_type": "markdown",
   "metadata": {},
   "source": [
    "Капля в море. Но что же со странами? Давайте посмотрим на повторные отмены по странам:"
   ]
  },
  {
   "cell_type": "code",
   "execution_count": 55,
   "metadata": {},
   "outputs": [
    {
     "data": {
      "image/png": "[encoded data removed]",
      "text/plain": [
       "<Figure size 1080x432 with 1 Axes>"
      ]
     },
     "metadata": {
      "needs_background": "light"
     },
     "output_type": "display_data"
    }
   ],
   "source": [
    "# построим график \n",
    "pd.crosstab(df_full['previous_cancellations'].sum(), df_full['country']).plot.bar(figsize=(15, 6))\n",
    "\n",
    "plt.xlabel('Количество отмен')\n",
    "plt.ylabel('Количество бронирований')\n",
    "\n",
    "plt.show()"
   ]
  },
  {
   "cell_type": "markdown",
   "metadata": {},
   "source": [
    "И снова португалия абсолютный чемпион. Интересно, чем насолил им наш(ваш) отель?"
   ]
  },
  {
   "cell_type": "markdown",
   "metadata": {},
   "source": [
    "#### previous_bookings_not_canceled"
   ]
  },
  {
   "cell_type": "code",
   "execution_count": 56,
   "metadata": {},
   "outputs": [
    {
     "data": {
      "text/plain": [
       "array([ 0,  1,  2,  3,  4,  5,  6, 10, 12, 13, 15, 21,  7,  9,  8, 11, 14,\n",
       "       18, 22, 16, 17, 19, 20, 23, 24, 26, 27, 28, 29, 30, 31, 32, 33, 34,\n",
       "       35, 36, 37, 38, 39, 40, 41, 42, 43, 44, 45, 47, 48, 49, 50, 51, 52,\n",
       "       53, 54, 55, 56, 57, 58, 25, 59, 60, 61, 62, 63, 64, 65, 66, 67, 68,\n",
       "       69, 70, 71, 72])"
      ]
     },
     "execution_count": 56,
     "metadata": {},
     "output_type": "execute_result"
    }
   ],
   "source": [
    "df_full['previous_bookings_not_canceled'].unique()"
   ]
  },
  {
   "cell_type": "code",
   "execution_count": 57,
   "metadata": {},
   "outputs": [
    {
     "data": {
      "image/png": "[encoded data removed]",
      "text/plain": [
       "<Figure size 1080x432 with 1 Axes>"
      ]
     },
     "metadata": {
      "needs_background": "light"
     },
     "output_type": "display_data"
    }
   ],
   "source": [
    "# построим график \n",
    "pd.crosstab(df_full['previous_bookings_not_canceled'], df_full['is_canceled']).plot.bar(figsize=(15, 6))\n",
    "\n",
    "plt.legend(['Подтвержден', 'Отменен'])\n",
    "plt.xlabel('количество подтверждённых заказов')\n",
    "plt.ylabel('Количество бронирований')\n",
    "\n",
    "plt.show()"
   ]
  },
  {
   "cell_type": "code",
   "execution_count": 58,
   "metadata": {},
   "outputs": [
    {
     "data": {
      "text/plain": [
       "485"
      ]
     },
     "execution_count": 58,
     "metadata": {},
     "output_type": "execute_result"
    }
   ],
   "source": [
    "# посмотрим сколько у нас записей > 6\n",
    "(df_full['previous_bookings_not_canceled'] > 6).sum()"
   ]
  },
  {
   "cell_type": "markdown",
   "metadata": {},
   "source": [
    "Какое то не здоровое количество подтверждений заказов, похоже на анамалию."
   ]
  },
  {
   "cell_type": "code",
   "execution_count": 59,
   "metadata": {},
   "outputs": [],
   "source": [
    "# удаляем строки\n",
    "df_full = df_full.loc[df_full['previous_bookings_not_canceled'] < 6]"
   ]
  },
  {
   "cell_type": "markdown",
   "metadata": {},
   "source": [
    "<div class=\"alert alert-success\">\n",
    "<h2>Комментарий ревьюера<a class=\"tocSkip\"></a></h2>\n",
    "    \n",
    "**Отлично!** ✔️: 👍</div>"
   ]
  },
  {
   "cell_type": "markdown",
   "metadata": {},
   "source": [
    "#### reserved_room_type"
   ]
  },
  {
   "cell_type": "code",
   "execution_count": 60,
   "metadata": {},
   "outputs": [
    {
     "data": {
      "text/plain": [
       "array(['A               ', 'C               ', 'D               ',\n",
       "       'E               ', 'G               ', 'F               ',\n",
       "       'B               '], dtype=object)"
      ]
     },
     "execution_count": 60,
     "metadata": {},
     "output_type": "execute_result"
    }
   ],
   "source": [
    "df_full['reserved_room_type'].unique()"
   ]
  },
  {
   "cell_type": "markdown",
   "metadata": {},
   "source": [
    "Подчистим пробельные хвосты как в случае с `meal`:"
   ]
  },
  {
   "cell_type": "code",
   "execution_count": 61,
   "metadata": {},
   "outputs": [],
   "source": [
    "df_full['reserved_room_type'] = df_full['reserved_room_type'].str.strip()"
   ]
  },
  {
   "cell_type": "code",
   "execution_count": 62,
   "metadata": {},
   "outputs": [
    {
     "data": {
      "image/png": "[encoded data removed]",
      "text/plain": [
       "<Figure size 1080x432 with 1 Axes>"
      ]
     },
     "metadata": {
      "needs_background": "light"
     },
     "output_type": "display_data"
    }
   ],
   "source": [
    "# построим график \n",
    "pd.crosstab(df_full['reserved_room_type'], df_full['is_canceled']).plot.bar(figsize=(15, 6))\n",
    "\n",
    "plt.legend(['Подтвержден', 'Отменен'])\n",
    "plt.xlabel('Категория обслуживания')\n",
    "plt.ylabel('Количество бронирований')\n",
    "\n",
    "plt.show()"
   ]
  },
  {
   "cell_type": "markdown",
   "metadata": {},
   "source": [
    "Вроде чисто, по крайней мере ничего подозрительного не наблюдается."
   ]
  },
  {
   "cell_type": "markdown",
   "metadata": {},
   "source": [
    "#### booking_changes"
   ]
  },
  {
   "cell_type": "code",
   "execution_count": 63,
   "metadata": {},
   "outputs": [
    {
     "name": "stdout",
     "output_type": "stream",
     "text": [
      "[0, 1, 2, 3, 4, 5, 6, 7, 8, 9, 10, 11, 13, 14, 15, 16, 17, 18]\n"
     ]
    }
   ],
   "source": [
    "print(sorted(df_full['booking_changes'].unique()))"
   ]
  },
  {
   "cell_type": "code",
   "execution_count": 64,
   "metadata": {},
   "outputs": [
    {
     "data": {
      "image/png": "[encoded data removed]",
      "text/plain": [
       "<Figure size 1080x432 with 1 Axes>"
      ]
     },
     "metadata": {
      "needs_background": "light"
     },
     "output_type": "display_data"
    }
   ],
   "source": [
    "# построим график \n",
    "pd.crosstab(df_full['booking_changes'], df_full['is_canceled']).plot.bar(figsize=(15, 6))\n",
    "\n",
    "plt.legend(['Подтвержден', 'Отменен'])\n",
    "plt.xlabel('Количество изменений заказов')\n",
    "plt.ylabel('Количество бронирований')\n",
    "\n",
    "plt.show()"
   ]
  },
  {
   "cell_type": "markdown",
   "metadata": {},
   "source": [
    "Ну пускай 4 раза уточнять заказ, но 18? с этим надо что то делать."
   ]
  },
  {
   "cell_type": "code",
   "execution_count": 65,
   "metadata": {},
   "outputs": [
    {
     "data": {
      "text/plain": [
       "88"
      ]
     },
     "execution_count": 65,
     "metadata": {},
     "output_type": "execute_result"
    }
   ],
   "source": [
    "# посмотрим сколько у нас записей > 5\n",
    "(df_full['booking_changes'] > 5).sum()"
   ]
  },
  {
   "cell_type": "code",
   "execution_count": 66,
   "metadata": {},
   "outputs": [],
   "source": [
    "# удаляем строки\n",
    "df_full = df_full.loc[df_full['booking_changes'] < 6]"
   ]
  },
  {
   "cell_type": "markdown",
   "metadata": {},
   "source": [
    "Удалить строки наверно не будет ошибкой. Аномалия в данных на лицо, а 157 строк погоды не сделают."
   ]
  },
  {
   "cell_type": "markdown",
   "metadata": {},
   "source": [
    "#### days_in_waiting_list"
   ]
  },
  {
   "cell_type": "code",
   "execution_count": 67,
   "metadata": {},
   "outputs": [
    {
     "name": "stdout",
     "output_type": "stream",
     "text": [
      "[0, 1, 2, 3, 4, 5, 6, 7, 8, 9, 10, 11, 12, 13, 14, 15, 16, 17, 18, 19, 20, 21, 22, 23, 24, 25, 26, 27, 28, 30, 31, 32, 33, 34, 35, 36, 38, 39, 40, 41, 42, 43, 44, 45, 46, 47, 48, 49, 50, 53, 54, 55, 56, 57, 58, 59, 60, 61, 62, 63, 64, 65, 68, 69, 70, 71, 72, 73, 74, 75, 76, 77, 79, 80, 81, 83, 84, 85, 87, 89, 91, 93, 96, 98, 99, 100, 101, 105, 107, 108, 109, 111, 113, 117, 120, 121, 122, 125, 142, 147, 150, 154, 160, 162, 165, 167, 174, 175, 176, 178, 183, 185, 187, 193, 207, 215, 223, 224, 236, 259]\n"
     ]
    }
   ],
   "source": [
    "print(sorted(df_full['days_in_waiting_list'].unique()))"
   ]
  },
  {
   "cell_type": "code",
   "execution_count": 68,
   "metadata": {},
   "outputs": [
    {
     "data": {
      "image/png": "[encoded data removed]",
      "text/plain": [
       "<Figure size 1080x432 with 1 Axes>"
      ]
     },
     "metadata": {
      "needs_background": "light"
     },
     "output_type": "display_data"
    }
   ],
   "source": [
    "# построим график \n",
    "pd.crosstab(df_full['days_in_waiting_list'], df_full['is_canceled']).plot.bar(figsize=(15, 6))\n",
    "\n",
    "plt.legend(['Подтвержден', 'Отменен'])\n",
    "plt.xlabel('Дней ожидания подтверждения')\n",
    "plt.ylabel('Количество бронирований')\n",
    "\n",
    "plt.show()"
   ]
  },
  {
   "cell_type": "markdown",
   "metadata": {},
   "source": [
    "Опять та же ситуация, что и у `previous_bookings_not_canceled` и `booking_changes`. Только в этом случае львиная доля заказов подтверждается день в день."
   ]
  },
  {
   "cell_type": "code",
   "execution_count": 69,
   "metadata": {},
   "outputs": [
    {
     "data": {
      "text/plain": [
       "3385"
      ]
     },
     "execution_count": 69,
     "metadata": {},
     "output_type": "execute_result"
    }
   ],
   "source": [
    "# посмотрим сколько у нас записей > 5\n",
    "(df_full['days_in_waiting_list'] > 1).sum()"
   ]
  },
  {
   "cell_type": "markdown",
   "metadata": {},
   "source": [
    "Что то много строк для удаления, и распределены значения совсем равнехонько. Оставим как есть."
   ]
  },
  {
   "cell_type": "markdown",
   "metadata": {},
   "source": [
    "#### customer_type"
   ]
  },
  {
   "cell_type": "code",
   "execution_count": 70,
   "metadata": {},
   "outputs": [
    {
     "data": {
      "text/plain": [
       "array(['Transient', 'Contract', 'Transient-Party', 'Group'], dtype=object)"
      ]
     },
     "execution_count": 70,
     "metadata": {},
     "output_type": "execute_result"
    }
   ],
   "source": [
    "df_full['customer_type'].unique()"
   ]
  },
  {
   "cell_type": "code",
   "execution_count": 71,
   "metadata": {},
   "outputs": [
    {
     "data": {
      "image/png": "[encoded data removed]",
      "text/plain": [
       "<Figure size 1080x432 with 1 Axes>"
      ]
     },
     "metadata": {
      "needs_background": "light"
     },
     "output_type": "display_data"
    }
   ],
   "source": [
    "# построим график \n",
    "pd.crosstab(df_full['customer_type'], df_full['is_canceled']).plot.bar(figsize=(15, 6))\n",
    "\n",
    "plt.legend(['Подтвержден', 'Отменен'])\n",
    "plt.xlabel('Тип заказчика')\n",
    "plt.ylabel('Количество бронирований')\n",
    "\n",
    "plt.show()"
   ]
  },
  {
   "cell_type": "markdown",
   "metadata": {},
   "source": [
    "Тут все чин по чину."
   ]
  },
  {
   "cell_type": "markdown",
   "metadata": {},
   "source": [
    "#### required_car_parking_spaces"
   ]
  },
  {
   "cell_type": "code",
   "execution_count": 72,
   "metadata": {},
   "outputs": [
    {
     "data": {
      "text/plain": [
       "array([0, 1, 2, 3, 8])"
      ]
     },
     "execution_count": 72,
     "metadata": {},
     "output_type": "execute_result"
    }
   ],
   "source": [
    "df_full['required_car_parking_spaces'].unique()"
   ]
  },
  {
   "cell_type": "code",
   "execution_count": 73,
   "metadata": {},
   "outputs": [
    {
     "data": {
      "image/png": "[encoded data removed]",
      "text/plain": [
       "<Figure size 1080x432 with 1 Axes>"
      ]
     },
     "metadata": {
      "needs_background": "light"
     },
     "output_type": "display_data"
    }
   ],
   "source": [
    "# построим график \n",
    "pd.crosstab(df_full['required_car_parking_spaces'], df_full['is_canceled']).plot.bar(figsize=(15, 6))\n",
    "\n",
    "plt.legend(['Подтвержден', 'Отменен'])\n",
    "plt.xlabel('Требования к парковочным местам')\n",
    "plt.ylabel('Количество бронирований')\n",
    "\n",
    "plt.show()"
   ]
  },
  {
   "cell_type": "markdown",
   "metadata": {},
   "source": [
    "8 мест - явно выброс. КАЗНИТЬ!(с)"
   ]
  },
  {
   "cell_type": "code",
   "execution_count": 74,
   "metadata": {},
   "outputs": [
    {
     "data": {
      "text/plain": [
       "2"
      ]
     },
     "execution_count": 74,
     "metadata": {},
     "output_type": "execute_result"
    }
   ],
   "source": [
    "# посмотрим сколько у нас записей > 3\n",
    "(df_full['required_car_parking_spaces'] > 3).sum()"
   ]
  },
  {
   "cell_type": "code",
   "execution_count": 75,
   "metadata": {},
   "outputs": [],
   "source": [
    "# удаляем строки\n",
    "df_full = df_full.loc[df_full['required_car_parking_spaces'] < 4]"
   ]
  },
  {
   "cell_type": "markdown",
   "metadata": {},
   "source": [
    "<div class=\"alert alert-warning\">\n",
    "<h2>Комментарий ревьюера<a class=\"tocSkip\"></a></h2>\n",
    "    \n",
    "**Есть совет** ⚠️: а этот признак можно обработать, аналогично признаку с количеством младенцев</div>"
   ]
  },
  {
   "cell_type": "markdown",
   "metadata": {},
   "source": [
    "#### total_of_special_requests"
   ]
  },
  {
   "cell_type": "code",
   "execution_count": 76,
   "metadata": {},
   "outputs": [
    {
     "data": {
      "text/plain": [
       "array([0, 1, 3, 2, 4, 5])"
      ]
     },
     "execution_count": 76,
     "metadata": {},
     "output_type": "execute_result"
    }
   ],
   "source": [
    "df_full['total_of_special_requests'].unique()"
   ]
  },
  {
   "cell_type": "code",
   "execution_count": 77,
   "metadata": {},
   "outputs": [
    {
     "data": {
      "image/png": "[encoded data removed]",
      "text/plain": [
       "<Figure size 1080x432 with 1 Axes>"
      ]
     },
     "metadata": {
      "needs_background": "light"
     },
     "output_type": "display_data"
    }
   ],
   "source": [
    "# построим график \n",
    "pd.crosstab(df_full['total_of_special_requests'], df_full['is_canceled']).plot.bar(figsize=(15, 6))\n",
    "\n",
    "plt.legend(['Подтвержден', 'Отменен'])\n",
    "plt.xlabel('Специальных отметок')\n",
    "plt.ylabel('Количество бронирований')\n",
    "\n",
    "plt.show()"
   ]
  },
  {
   "cell_type": "markdown",
   "metadata": {},
   "source": [
    "Ой как равненько, глаз радуется. Только вот отмененных заказов почти столько же соклько и подтвержденых (для бронирований без специальных отметок)."
   ]
  },
  {
   "cell_type": "markdown",
   "metadata": {},
   "source": [
    "#### total_nights"
   ]
  },
  {
   "cell_type": "code",
   "execution_count": 78,
   "metadata": {},
   "outputs": [
    {
     "data": {
      "text/plain": [
       "array([ 1,  2,  3,  4,  6,  7,  5,  8, 10,  9])"
      ]
     },
     "execution_count": 78,
     "metadata": {},
     "output_type": "execute_result"
    }
   ],
   "source": [
    "df_full['total_nights'].unique()"
   ]
  },
  {
   "cell_type": "code",
   "execution_count": 79,
   "metadata": {},
   "outputs": [
    {
     "data": {
      "image/png": "[encoded data removed]",
      "text/plain": [
       "<Figure size 1080x432 with 1 Axes>"
      ]
     },
     "metadata": {
      "needs_background": "light"
     },
     "output_type": "display_data"
    }
   ],
   "source": [
    "# построим график \n",
    "pd.crosstab(df_full['total_nights'], df_full['is_canceled']).plot.bar(figsize=(15, 6))\n",
    "\n",
    "plt.legend(['Подтвержден', 'Отменен'])\n",
    "plt.xlabel('Всего ночей')\n",
    "plt.ylabel('Количество бронирований')\n",
    "\n",
    "plt.show()"
   ]
  },
  {
   "cell_type": "markdown",
   "metadata": {},
   "source": [
    "С этим столбцом так же нет никаких пароблем."
   ]
  },
  {
   "cell_type": "markdown",
   "metadata": {},
   "source": [
    "#### post scriptum"
   ]
  },
  {
   "cell_type": "markdown",
   "metadata": {},
   "source": [
    "Вернем все как было:"
   ]
  },
  {
   "cell_type": "code",
   "execution_count": 80,
   "metadata": {},
   "outputs": [],
   "source": [
    "# разделим обратно данные на обучающую и тестовую выборки\n",
    "df_train = df_full.loc[df_full['arrival_date_year'] != 2017]\n",
    "df_test = df_full.loc[df_full['arrival_date_year'] == 2017]"
   ]
  },
  {
   "cell_type": "code",
   "execution_count": 81,
   "metadata": {},
   "outputs": [
    {
     "name": "stdout",
     "output_type": "stream",
     "text": [
      "<class 'pandas.core.frame.DataFrame'>\n",
      "Int64Index: 64694 entries, 0 to 65228\n",
      "Data columns (total 20 columns):\n",
      " #   Column                          Non-Null Count  Dtype \n",
      "---  ------                          --------------  ----- \n",
      " 0   is_canceled                     64694 non-null  int64 \n",
      " 1   lead_time                       64694 non-null  int64 \n",
      " 2   arrival_date_year               64694 non-null  int64 \n",
      " 3   arrival_date_season             64694 non-null  object\n",
      " 4   adults                          64694 non-null  int64 \n",
      " 5   children                        64694 non-null  int64 \n",
      " 6   babies                          64694 non-null  int64 \n",
      " 7   meal                            64694 non-null  object\n",
      " 8   country                         64694 non-null  object\n",
      " 9   distribution_channel            64694 non-null  object\n",
      " 10  is_repeated_guest               64694 non-null  int64 \n",
      " 11  previous_cancellations          64694 non-null  int64 \n",
      " 12  previous_bookings_not_canceled  64694 non-null  int64 \n",
      " 13  reserved_room_type              64694 non-null  object\n",
      " 14  booking_changes                 64694 non-null  int64 \n",
      " 15  days_in_waiting_list            64694 non-null  int64 \n",
      " 16  customer_type                   64694 non-null  object\n",
      " 17  required_car_parking_spaces     64694 non-null  int64 \n",
      " 18  total_of_special_requests       64694 non-null  int64 \n",
      " 19  total_nights                    64694 non-null  int64 \n",
      "dtypes: int64(14), object(6)\n",
      "memory usage: 10.4+ MB\n"
     ]
    }
   ],
   "source": [
    "df_train.info()"
   ]
  },
  {
   "cell_type": "code",
   "execution_count": 82,
   "metadata": {},
   "outputs": [
    {
     "name": "stdout",
     "output_type": "stream",
     "text": [
      "<class 'pandas.core.frame.DataFrame'>\n",
      "Int64Index: 32041 entries, 0 to 32411\n",
      "Data columns (total 20 columns):\n",
      " #   Column                          Non-Null Count  Dtype \n",
      "---  ------                          --------------  ----- \n",
      " 0   is_canceled                     32041 non-null  int64 \n",
      " 1   lead_time                       32041 non-null  int64 \n",
      " 2   arrival_date_year               32041 non-null  int64 \n",
      " 3   arrival_date_season             32041 non-null  object\n",
      " 4   adults                          32041 non-null  int64 \n",
      " 5   children                        32041 non-null  int64 \n",
      " 6   babies                          32041 non-null  int64 \n",
      " 7   meal                            32041 non-null  object\n",
      " 8   country                         32041 non-null  object\n",
      " 9   distribution_channel            32041 non-null  object\n",
      " 10  is_repeated_guest               32041 non-null  int64 \n",
      " 11  previous_cancellations          32041 non-null  int64 \n",
      " 12  previous_bookings_not_canceled  32041 non-null  int64 \n",
      " 13  reserved_room_type              32041 non-null  object\n",
      " 14  booking_changes                 32041 non-null  int64 \n",
      " 15  days_in_waiting_list            32041 non-null  int64 \n",
      " 16  customer_type                   32041 non-null  object\n",
      " 17  required_car_parking_spaces     32041 non-null  int64 \n",
      " 18  total_of_special_requests       32041 non-null  int64 \n",
      " 19  total_nights                    32041 non-null  int64 \n",
      "dtypes: int64(14), object(6)\n",
      "memory usage: 5.1+ MB\n"
     ]
    }
   ],
   "source": [
    "df_test.info()"
   ]
  },
  {
   "cell_type": "code",
   "execution_count": 83,
   "metadata": {},
   "outputs": [],
   "source": [
    "# удалим теперь уже ненужный столбец с годом\n",
    "df_train = df_train.drop('arrival_date_year', axis=1)\n",
    "df_test = df_test.drop('arrival_date_year', axis=1)"
   ]
  },
  {
   "cell_type": "markdown",
   "metadata": {},
   "source": [
    "### Выводы"
   ]
  },
  {
   "cell_type": "markdown",
   "metadata": {},
   "source": [
    "По результатам предобработки и анализа данных мы избавились от ряда ненужных признаков и удалили незначительное количество строк. Вцелом данные выгляядят неплохо, нам даже удалось определить один из признаков недобросовестных клиентов. Можно переходить к следующему шагу."
   ]
  },
  {
   "cell_type": "markdown",
   "metadata": {},
   "source": [
    "<div class=\"alert alert-success\">\n",
    "<h2>Комментарий ревьюера<a class=\"tocSkip\"></a></h2>\n",
    "    \n",
    "**Отлично!** ✔️: молодец, что подробно изучаешь данные!</div>"
   ]
  },
  {
   "cell_type": "markdown",
   "metadata": {},
   "source": [
    "## Формулировка ML-задачи на основе бизнес-задачи"
   ]
  },
  {
   "cell_type": "markdown",
   "metadata": {},
   "source": [
    "### Оценим прибыль отеля до внедрения депозитов"
   ]
  },
  {
   "cell_type": "markdown",
   "metadata": {},
   "source": [
    "А чтобы не портить df_test, посчитаем все на его копии:"
   ]
  },
  {
   "cell_type": "code",
   "execution_count": 84,
   "metadata": {},
   "outputs": [],
   "source": [
    "# для подсчета прибыли\n",
    "df_test_copy = df_test.copy(deep = True)"
   ]
  },
  {
   "cell_type": "markdown",
   "metadata": {},
   "source": [
    "#### Добавление столбцов со стоимостью номера и стоимостью обслуживания"
   ]
  },
  {
   "cell_type": "code",
   "execution_count": 85,
   "metadata": {},
   "outputs": [],
   "source": [
    "# стоимость номера\n",
    "df_test_copy['night_price'] = np.select([df_test_copy['reserved_room_type'] =='A', df_test_copy['reserved_room_type'] == 'B',\n",
    "                                  df_test_copy['reserved_room_type'] == 'C', df_test_copy['reserved_room_type'] == 'D',\n",
    "                                  df_test_copy['reserved_room_type'] == 'E', df_test_copy['reserved_room_type'] == 'F', \n",
    "                                  df_test_copy['reserved_room_type'] == 'G'],[1000,800,600,550,500,450,350])\n",
    "# стоимость обслуживания \n",
    "df_test_copy['service_price'] = np.select([df_test_copy['reserved_room_type'] =='A', df_test_copy['reserved_room_type'] == 'B',\n",
    "                                  df_test_copy['reserved_room_type'] == 'C', df_test_copy['reserved_room_type'] == 'D',\n",
    "                                  df_test_copy['reserved_room_type'] == 'E', df_test_copy['reserved_room_type'] == 'F', \n",
    "                                  df_test_copy['reserved_room_type'] == 'G'],[400,350,350,150,150,150,150])"
   ]
  },
  {
   "cell_type": "markdown",
   "metadata": {},
   "source": [
    "Применим сезонный коэффициент к стоимости номера:"
   ]
  },
  {
   "cell_type": "code",
   "execution_count": 86,
   "metadata": {},
   "outputs": [],
   "source": [
    "# для лета\n",
    "df_test_copy['night_price'].mask(df_test_copy['arrival_date_season'] == 'summer', df_test_copy['night_price'] * 1.4, inplace=True)"
   ]
  },
  {
   "cell_type": "code",
   "execution_count": 87,
   "metadata": {},
   "outputs": [],
   "source": [
    "# для весны и осени\n",
    "df_test_copy['night_price'].mask((df_test_copy['arrival_date_season'] == 'spring') | \n",
    "                            (df_test_copy['arrival_date_season'] == 'autumn'), df_test_copy['night_price'] * 1.2, inplace=True)"
   ]
  },
  {
   "cell_type": "code",
   "execution_count": 88,
   "metadata": {},
   "outputs": [
    {
     "data": {
      "text/html": [
       "<div>\n",
       "<style scoped>\n",
       "    .dataframe tbody tr th:only-of-type {\n",
       "        vertical-align: middle;\n",
       "    }\n",
       "\n",
       "    .dataframe tbody tr th {\n",
       "        vertical-align: top;\n",
       "    }\n",
       "\n",
       "    .dataframe thead th {\n",
       "        text-align: right;\n",
       "    }\n",
       "</style>\n",
       "<table border=\"1\" class=\"dataframe\">\n",
       "  <thead>\n",
       "    <tr style=\"text-align: right;\">\n",
       "      <th></th>\n",
       "      <th>is_canceled</th>\n",
       "      <th>lead_time</th>\n",
       "      <th>arrival_date_season</th>\n",
       "      <th>adults</th>\n",
       "      <th>children</th>\n",
       "      <th>babies</th>\n",
       "      <th>meal</th>\n",
       "      <th>country</th>\n",
       "      <th>distribution_channel</th>\n",
       "      <th>is_repeated_guest</th>\n",
       "      <th>previous_cancellations</th>\n",
       "      <th>previous_bookings_not_canceled</th>\n",
       "      <th>reserved_room_type</th>\n",
       "      <th>booking_changes</th>\n",
       "      <th>days_in_waiting_list</th>\n",
       "      <th>customer_type</th>\n",
       "      <th>required_car_parking_spaces</th>\n",
       "      <th>total_of_special_requests</th>\n",
       "      <th>total_nights</th>\n",
       "      <th>night_price</th>\n",
       "      <th>service_price</th>\n",
       "    </tr>\n",
       "  </thead>\n",
       "  <tbody>\n",
       "    <tr>\n",
       "      <th>0</th>\n",
       "      <td>1</td>\n",
       "      <td>74</td>\n",
       "      <td>winter</td>\n",
       "      <td>2</td>\n",
       "      <td>0</td>\n",
       "      <td>0</td>\n",
       "      <td>BB</td>\n",
       "      <td>PRT</td>\n",
       "      <td>TA/TO</td>\n",
       "      <td>0</td>\n",
       "      <td>0</td>\n",
       "      <td>0</td>\n",
       "      <td>A</td>\n",
       "      <td>0</td>\n",
       "      <td>0</td>\n",
       "      <td>Transient</td>\n",
       "      <td>0</td>\n",
       "      <td>0</td>\n",
       "      <td>1</td>\n",
       "      <td>1000.0</td>\n",
       "      <td>400</td>\n",
       "    </tr>\n",
       "    <tr>\n",
       "      <th>1</th>\n",
       "      <td>1</td>\n",
       "      <td>62</td>\n",
       "      <td>winter</td>\n",
       "      <td>2</td>\n",
       "      <td>0</td>\n",
       "      <td>0</td>\n",
       "      <td>BB</td>\n",
       "      <td>AUT</td>\n",
       "      <td>TA/TO</td>\n",
       "      <td>0</td>\n",
       "      <td>0</td>\n",
       "      <td>0</td>\n",
       "      <td>A</td>\n",
       "      <td>0</td>\n",
       "      <td>0</td>\n",
       "      <td>Transient</td>\n",
       "      <td>0</td>\n",
       "      <td>1</td>\n",
       "      <td>4</td>\n",
       "      <td>1000.0</td>\n",
       "      <td>400</td>\n",
       "    </tr>\n",
       "    <tr>\n",
       "      <th>2</th>\n",
       "      <td>1</td>\n",
       "      <td>62</td>\n",
       "      <td>winter</td>\n",
       "      <td>2</td>\n",
       "      <td>0</td>\n",
       "      <td>0</td>\n",
       "      <td>BB</td>\n",
       "      <td>AUT</td>\n",
       "      <td>TA/TO</td>\n",
       "      <td>0</td>\n",
       "      <td>0</td>\n",
       "      <td>0</td>\n",
       "      <td>A</td>\n",
       "      <td>0</td>\n",
       "      <td>0</td>\n",
       "      <td>Transient</td>\n",
       "      <td>0</td>\n",
       "      <td>1</td>\n",
       "      <td>4</td>\n",
       "      <td>1000.0</td>\n",
       "      <td>400</td>\n",
       "    </tr>\n",
       "    <tr>\n",
       "      <th>3</th>\n",
       "      <td>1</td>\n",
       "      <td>71</td>\n",
       "      <td>winter</td>\n",
       "      <td>1</td>\n",
       "      <td>0</td>\n",
       "      <td>0</td>\n",
       "      <td>BB</td>\n",
       "      <td>PRT</td>\n",
       "      <td>TA/TO</td>\n",
       "      <td>0</td>\n",
       "      <td>0</td>\n",
       "      <td>0</td>\n",
       "      <td>A</td>\n",
       "      <td>0</td>\n",
       "      <td>0</td>\n",
       "      <td>Transient</td>\n",
       "      <td>0</td>\n",
       "      <td>1</td>\n",
       "      <td>4</td>\n",
       "      <td>1000.0</td>\n",
       "      <td>400</td>\n",
       "    </tr>\n",
       "    <tr>\n",
       "      <th>4</th>\n",
       "      <td>1</td>\n",
       "      <td>172</td>\n",
       "      <td>winter</td>\n",
       "      <td>2</td>\n",
       "      <td>0</td>\n",
       "      <td>0</td>\n",
       "      <td>BB</td>\n",
       "      <td>BEL</td>\n",
       "      <td>TA/TO</td>\n",
       "      <td>0</td>\n",
       "      <td>0</td>\n",
       "      <td>0</td>\n",
       "      <td>A</td>\n",
       "      <td>0</td>\n",
       "      <td>0</td>\n",
       "      <td>Transient</td>\n",
       "      <td>0</td>\n",
       "      <td>0</td>\n",
       "      <td>7</td>\n",
       "      <td>1000.0</td>\n",
       "      <td>400</td>\n",
       "    </tr>\n",
       "  </tbody>\n",
       "</table>\n",
       "</div>"
      ],
      "text/plain": [
       "   is_canceled  lead_time arrival_date_season  adults  children  babies meal  \\\n",
       "0            1         74              winter       2         0       0   BB   \n",
       "1            1         62              winter       2         0       0   BB   \n",
       "2            1         62              winter       2         0       0   BB   \n",
       "3            1         71              winter       1         0       0   BB   \n",
       "4            1        172              winter       2         0       0   BB   \n",
       "\n",
       "  country distribution_channel  is_repeated_guest  previous_cancellations  \\\n",
       "0     PRT                TA/TO                  0                       0   \n",
       "1     AUT                TA/TO                  0                       0   \n",
       "2     AUT                TA/TO                  0                       0   \n",
       "3     PRT                TA/TO                  0                       0   \n",
       "4     BEL                TA/TO                  0                       0   \n",
       "\n",
       "   previous_bookings_not_canceled reserved_room_type  booking_changes  \\\n",
       "0                               0                  A                0   \n",
       "1                               0                  A                0   \n",
       "2                               0                  A                0   \n",
       "3                               0                  A                0   \n",
       "4                               0                  A                0   \n",
       "\n",
       "   days_in_waiting_list customer_type  required_car_parking_spaces  \\\n",
       "0                     0     Transient                            0   \n",
       "1                     0     Transient                            0   \n",
       "2                     0     Transient                            0   \n",
       "3                     0     Transient                            0   \n",
       "4                     0     Transient                            0   \n",
       "\n",
       "   total_of_special_requests  total_nights  night_price  service_price  \n",
       "0                          0             1       1000.0            400  \n",
       "1                          1             4       1000.0            400  \n",
       "2                          1             4       1000.0            400  \n",
       "3                          1             4       1000.0            400  \n",
       "4                          0             7       1000.0            400  "
      ]
     },
     "execution_count": 88,
     "metadata": {},
     "output_type": "execute_result"
    }
   ],
   "source": [
    "df_test_copy.head()"
   ]
  },
  {
   "cell_type": "markdown",
   "metadata": {},
   "source": [
    "#### Подсчет дохода"
   ]
  },
  {
   "cell_type": "markdown",
   "metadata": {},
   "source": [
    "Сначала определиим доход отеля — это разница между стоимостью номера за все ночи (`total_nights` * `night_price`) и затраты на обслуживание: как при подготовке номера (`service_price`), так и каждые два дня при проживании постояльца."
   ]
  },
  {
   "cell_type": "markdown",
   "metadata": {},
   "source": [
    "Доход будем расчитывать по следующей формуле: **`total_nights` * `night_price` - ((`total_nights` / 2) + 1 ) * `service_price`**."
   ]
  },
  {
   "cell_type": "markdown",
   "metadata": {},
   "source": [
    " Доход проведем на `is_canceled` = 0."
   ]
  },
  {
   "cell_type": "code",
   "execution_count": 89,
   "metadata": {},
   "outputs": [],
   "source": [
    "# добавим столбец с посчитанной доходом отеля\n",
    "df_test_copy.loc[df_test_copy['is_canceled'] == 0, 'profit'] = df_test_copy['total_nights'] * \\\n",
    "df_test_copy['night_price'] - (((df_test_copy['total_nights'] // 2) + 1 ) * df_test_copy['service_price'])"
   ]
  },
  {
   "cell_type": "code",
   "execution_count": 90,
   "metadata": {},
   "outputs": [
    {
     "name": "stdout",
     "output_type": "stream",
     "text": [
      "Доход за 2017 год: 50083620.00 рублей\n"
     ]
    }
   ],
   "source": [
    "print('Доход за 2017 год:', f'{(df_test_copy.loc[df_test[\"is_canceled\"] == 0, \"profit\"].sum()):.2f} рублей')"
   ]
  },
  {
   "cell_type": "markdown",
   "metadata": {},
   "source": [
    "#### Подсчет убытков"
   ]
  },
  {
   "cell_type": "markdown",
   "metadata": {},
   "source": [
    "Убыток - это неполученные деньги за одну ночь (при этом не важно, на сколько планировалось бронировать номер) и за одну подготовку номера. Для удобства чтения, домножим значения убытка на `-1`."
   ]
  },
  {
   "cell_type": "markdown",
   "metadata": {},
   "source": [
    "Убыток будем расчитывать по следующей формуле: **(`night_price` + `service_price`)*(-1)**."
   ]
  },
  {
   "cell_type": "markdown",
   "metadata": {},
   "source": [
    "Доход проведем на `is_canceled` = 1."
   ]
  },
  {
   "cell_type": "code",
   "execution_count": 91,
   "metadata": {},
   "outputs": [],
   "source": [
    "# посчитаем убыток\n",
    "df_test_copy.loc[df_test_copy['is_canceled'] == 1, 'profit'] = (df_test_copy['night_price'] + df_test_copy['service_price'])*(-1) "
   ]
  },
  {
   "cell_type": "code",
   "execution_count": 92,
   "metadata": {},
   "outputs": [
    {
     "name": "stdout",
     "output_type": "stream",
     "text": [
      "Убыток за 2017 год: -17969180.00 рублей\n"
     ]
    }
   ],
   "source": [
    "print('Убыток за 2017 год:', f'{(df_test_copy.loc[df_test[\"is_canceled\"] == 1, \"profit\"].sum()):.2f} рублей')"
   ]
  },
  {
   "cell_type": "markdown",
   "metadata": {},
   "source": [
    "#### Подсчет прибыли"
   ]
  },
  {
   "cell_type": "markdown",
   "metadata": {},
   "source": [
    "Благодоря разным знакам в столбце `profit` мы можем посчитать профицит/дефицит простой встроиной функции `.sum()`."
   ]
  },
  {
   "cell_type": "code",
   "execution_count": 93,
   "metadata": {},
   "outputs": [
    {
     "name": "stdout",
     "output_type": "stream",
     "text": [
      "Прибыль за 2017 год: 32114440.00 рублей\n"
     ]
    }
   ],
   "source": [
    "print('Прибыль за 2017 год:', f'{(df_test_copy[\"profit\"].sum()):.2f} рублей')"
   ]
  },
  {
   "cell_type": "code",
   "execution_count": 94,
   "metadata": {},
   "outputs": [
    {
     "name": "stdout",
     "output_type": "stream",
     "text": [
      "Почти 35.88 % от дохода составляют убытки.\n"
     ]
    }
   ],
   "source": [
    "print('Почти', f'{(abs(df_test_copy.loc[df_test_copy[\"is_canceled\"] == 1, \"profit\"].sum()) / (df_test_copy.loc[df_test_copy[\"is_canceled\"] == 0 , \"profit\"].sum())*100):.2f} % от дохода составляют убытки.')"
   ]
  },
  {
   "cell_type": "code",
   "execution_count": 95,
   "metadata": {},
   "outputs": [
    {
     "data": {
      "text/html": [
       "<div>\n",
       "<style scoped>\n",
       "    .dataframe tbody tr th:only-of-type {\n",
       "        vertical-align: middle;\n",
       "    }\n",
       "\n",
       "    .dataframe tbody tr th {\n",
       "        vertical-align: top;\n",
       "    }\n",
       "\n",
       "    .dataframe thead th {\n",
       "        text-align: right;\n",
       "    }\n",
       "</style>\n",
       "<table border=\"1\" class=\"dataframe\">\n",
       "  <thead>\n",
       "    <tr style=\"text-align: right;\">\n",
       "      <th></th>\n",
       "      <th>is_canceled</th>\n",
       "      <th>lead_time</th>\n",
       "      <th>arrival_date_season</th>\n",
       "      <th>adults</th>\n",
       "      <th>children</th>\n",
       "      <th>babies</th>\n",
       "      <th>meal</th>\n",
       "      <th>country</th>\n",
       "      <th>distribution_channel</th>\n",
       "      <th>is_repeated_guest</th>\n",
       "      <th>previous_cancellations</th>\n",
       "      <th>previous_bookings_not_canceled</th>\n",
       "      <th>reserved_room_type</th>\n",
       "      <th>booking_changes</th>\n",
       "      <th>days_in_waiting_list</th>\n",
       "      <th>customer_type</th>\n",
       "      <th>required_car_parking_spaces</th>\n",
       "      <th>total_of_special_requests</th>\n",
       "      <th>total_nights</th>\n",
       "      <th>night_price</th>\n",
       "      <th>service_price</th>\n",
       "      <th>profit</th>\n",
       "    </tr>\n",
       "  </thead>\n",
       "  <tbody>\n",
       "    <tr>\n",
       "      <th>0</th>\n",
       "      <td>1</td>\n",
       "      <td>74</td>\n",
       "      <td>winter</td>\n",
       "      <td>2</td>\n",
       "      <td>0</td>\n",
       "      <td>0</td>\n",
       "      <td>BB</td>\n",
       "      <td>PRT</td>\n",
       "      <td>TA/TO</td>\n",
       "      <td>0</td>\n",
       "      <td>0</td>\n",
       "      <td>0</td>\n",
       "      <td>A</td>\n",
       "      <td>0</td>\n",
       "      <td>0</td>\n",
       "      <td>Transient</td>\n",
       "      <td>0</td>\n",
       "      <td>0</td>\n",
       "      <td>1</td>\n",
       "      <td>1000.0</td>\n",
       "      <td>400</td>\n",
       "      <td>-1400.0</td>\n",
       "    </tr>\n",
       "    <tr>\n",
       "      <th>1</th>\n",
       "      <td>1</td>\n",
       "      <td>62</td>\n",
       "      <td>winter</td>\n",
       "      <td>2</td>\n",
       "      <td>0</td>\n",
       "      <td>0</td>\n",
       "      <td>BB</td>\n",
       "      <td>AUT</td>\n",
       "      <td>TA/TO</td>\n",
       "      <td>0</td>\n",
       "      <td>0</td>\n",
       "      <td>0</td>\n",
       "      <td>A</td>\n",
       "      <td>0</td>\n",
       "      <td>0</td>\n",
       "      <td>Transient</td>\n",
       "      <td>0</td>\n",
       "      <td>1</td>\n",
       "      <td>4</td>\n",
       "      <td>1000.0</td>\n",
       "      <td>400</td>\n",
       "      <td>-1400.0</td>\n",
       "    </tr>\n",
       "    <tr>\n",
       "      <th>2</th>\n",
       "      <td>1</td>\n",
       "      <td>62</td>\n",
       "      <td>winter</td>\n",
       "      <td>2</td>\n",
       "      <td>0</td>\n",
       "      <td>0</td>\n",
       "      <td>BB</td>\n",
       "      <td>AUT</td>\n",
       "      <td>TA/TO</td>\n",
       "      <td>0</td>\n",
       "      <td>0</td>\n",
       "      <td>0</td>\n",
       "      <td>A</td>\n",
       "      <td>0</td>\n",
       "      <td>0</td>\n",
       "      <td>Transient</td>\n",
       "      <td>0</td>\n",
       "      <td>1</td>\n",
       "      <td>4</td>\n",
       "      <td>1000.0</td>\n",
       "      <td>400</td>\n",
       "      <td>-1400.0</td>\n",
       "    </tr>\n",
       "    <tr>\n",
       "      <th>3</th>\n",
       "      <td>1</td>\n",
       "      <td>71</td>\n",
       "      <td>winter</td>\n",
       "      <td>1</td>\n",
       "      <td>0</td>\n",
       "      <td>0</td>\n",
       "      <td>BB</td>\n",
       "      <td>PRT</td>\n",
       "      <td>TA/TO</td>\n",
       "      <td>0</td>\n",
       "      <td>0</td>\n",
       "      <td>0</td>\n",
       "      <td>A</td>\n",
       "      <td>0</td>\n",
       "      <td>0</td>\n",
       "      <td>Transient</td>\n",
       "      <td>0</td>\n",
       "      <td>1</td>\n",
       "      <td>4</td>\n",
       "      <td>1000.0</td>\n",
       "      <td>400</td>\n",
       "      <td>-1400.0</td>\n",
       "    </tr>\n",
       "    <tr>\n",
       "      <th>4</th>\n",
       "      <td>1</td>\n",
       "      <td>172</td>\n",
       "      <td>winter</td>\n",
       "      <td>2</td>\n",
       "      <td>0</td>\n",
       "      <td>0</td>\n",
       "      <td>BB</td>\n",
       "      <td>BEL</td>\n",
       "      <td>TA/TO</td>\n",
       "      <td>0</td>\n",
       "      <td>0</td>\n",
       "      <td>0</td>\n",
       "      <td>A</td>\n",
       "      <td>0</td>\n",
       "      <td>0</td>\n",
       "      <td>Transient</td>\n",
       "      <td>0</td>\n",
       "      <td>0</td>\n",
       "      <td>7</td>\n",
       "      <td>1000.0</td>\n",
       "      <td>400</td>\n",
       "      <td>-1400.0</td>\n",
       "    </tr>\n",
       "  </tbody>\n",
       "</table>\n",
       "</div>"
      ],
      "text/plain": [
       "   is_canceled  lead_time arrival_date_season  adults  children  babies meal  \\\n",
       "0            1         74              winter       2         0       0   BB   \n",
       "1            1         62              winter       2         0       0   BB   \n",
       "2            1         62              winter       2         0       0   BB   \n",
       "3            1         71              winter       1         0       0   BB   \n",
       "4            1        172              winter       2         0       0   BB   \n",
       "\n",
       "  country distribution_channel  is_repeated_guest  previous_cancellations  \\\n",
       "0     PRT                TA/TO                  0                       0   \n",
       "1     AUT                TA/TO                  0                       0   \n",
       "2     AUT                TA/TO                  0                       0   \n",
       "3     PRT                TA/TO                  0                       0   \n",
       "4     BEL                TA/TO                  0                       0   \n",
       "\n",
       "   previous_bookings_not_canceled reserved_room_type  booking_changes  \\\n",
       "0                               0                  A                0   \n",
       "1                               0                  A                0   \n",
       "2                               0                  A                0   \n",
       "3                               0                  A                0   \n",
       "4                               0                  A                0   \n",
       "\n",
       "   days_in_waiting_list customer_type  required_car_parking_spaces  \\\n",
       "0                     0     Transient                            0   \n",
       "1                     0     Transient                            0   \n",
       "2                     0     Transient                            0   \n",
       "3                     0     Transient                            0   \n",
       "4                     0     Transient                            0   \n",
       "\n",
       "   total_of_special_requests  total_nights  night_price  service_price  profit  \n",
       "0                          0             1       1000.0            400 -1400.0  \n",
       "1                          1             4       1000.0            400 -1400.0  \n",
       "2                          1             4       1000.0            400 -1400.0  \n",
       "3                          1             4       1000.0            400 -1400.0  \n",
       "4                          0             7       1000.0            400 -1400.0  "
      ]
     },
     "execution_count": 95,
     "metadata": {},
     "output_type": "execute_result"
    }
   ],
   "source": [
    "df_test_copy.head()"
   ]
  },
  {
   "cell_type": "markdown",
   "metadata": {},
   "source": [
    "<div class=\"alert alert-danger\">\n",
    "<h2>Комментарий ревьюера<a class=\"tocSkip\"></a></h2>\n",
    "\n",
    "**Нужно доработать** ❌: почти все так, но есть один момент: сезонный коэффициент применяется только к стоимости за номер, стоимость уборки останется прежней\n",
    "\n",
    "<div class=\"alert alert-info\">\n",
    "<b>Комментарий студента:</b> Удалил пару строк в п.п. 3.1.1. Подправил выводы в п.п. 3.3 и 4.5.\n",
    "   \n",
    "Но теперь если честно, не совсем понимаю к чему паривязаны сезонные коэфициенты.  \n",
    "Я думал сезонный коэфициент введен из-за большого наплыва клиентов, тогда поделится с персоналом выручкой было бы справидливо. ╮( ˘ ､ ˘ )╭   \n",
    "</div>"
   ]
  },
  {
   "cell_type": "markdown",
   "metadata": {},
   "source": [
    "<div class=\"alert alert-success\">\n",
    "<h2>Комментарий ревьюера v2<a class=\"tocSkip\"></a></h2>\n",
    "    \n",
    "**Отлично!** ✔️: согласен, было бы вполне логично :) Но особенностей работы отеля нам здесь не поясняется: возможно, наплыв компенсируется иначе, например, дополнительными работниками</div>"
   ]
  },
  {
   "cell_type": "markdown",
   "metadata": {},
   "source": [
    "### Определим основную бизнес-метрику"
   ]
  },
  {
   "cell_type": "markdown",
   "metadata": {},
   "source": [
    "Основная бизнес-метрика для любой сети отелей — её прибыль. \n",
    "\n",
    "Для максимизации прибыли нужно минимизировать убытки, или же увеличить общий доход. Но так как мы рассматриваем конкретный отель с определившимися метриками, то единственное что нам остается - это сократить убытки."
   ]
  },
  {
   "cell_type": "markdown",
   "metadata": {},
   "source": [
    "В нашем случае сокращение убытков должно быть проведено за счет минимизации *FN - ответов*. В случае введения депозитов *FP - ответы* позволят как минимум оставить залог, это поможет отелю избежать убытков.\n",
    "\n",
    "**Recall** - наиболее точная для нас метрика, будем использовать ее."
   ]
  },
  {
   "cell_type": "markdown",
   "metadata": {},
   "source": [
    "### Выводы"
   ]
  },
  {
   "cell_type": "markdown",
   "metadata": {},
   "source": [
    "По резултатам оценки мы выяснили, что отель получил **прибыль в размере 32114440 рублей**, однако количество убытков по отношению к доходу составляет почти **36%**. Для минимизации убытков наилучшей метрикой бутет **Recall**, т.к. нам необходимо минимизировать ложноотрицательные ответы. "
   ]
  },
  {
   "cell_type": "markdown",
   "metadata": {},
   "source": [
    "<div class=\"alert alert-success\">\n",
    "<h2>Комментарий ревьюера<a class=\"tocSkip\"></a></h2>\n",
    "    \n",
    "**Отлично!** ✔️: окей, полнота здесь вполне подходит, принимается :)</div>"
   ]
  },
  {
   "cell_type": "markdown",
   "metadata": {},
   "source": [
    "## Разработка модели ML"
   ]
  },
  {
   "cell_type": "markdown",
   "metadata": {},
   "source": [
    "### Обучим разные модели и оценим их качество кросс-валидацией"
   ]
  },
  {
   "cell_type": "markdown",
   "metadata": {},
   "source": [
    "Преобразуем категориальные признаки в числовые. Закрутим их в количественный вид, а `get_dummies` будет нашим гаечным ключом."
   ]
  },
  {
   "cell_type": "code",
   "execution_count": 96,
   "metadata": {},
   "outputs": [
    {
     "data": {
      "text/html": [
       "<div>\n",
       "<style scoped>\n",
       "    .dataframe tbody tr th:only-of-type {\n",
       "        vertical-align: middle;\n",
       "    }\n",
       "\n",
       "    .dataframe tbody tr th {\n",
       "        vertical-align: top;\n",
       "    }\n",
       "\n",
       "    .dataframe thead th {\n",
       "        text-align: right;\n",
       "    }\n",
       "</style>\n",
       "<table border=\"1\" class=\"dataframe\">\n",
       "  <thead>\n",
       "    <tr style=\"text-align: right;\">\n",
       "      <th></th>\n",
       "      <th>is_canceled</th>\n",
       "      <th>lead_time</th>\n",
       "      <th>adults</th>\n",
       "      <th>children</th>\n",
       "      <th>babies</th>\n",
       "      <th>is_repeated_guest</th>\n",
       "      <th>previous_cancellations</th>\n",
       "      <th>previous_bookings_not_canceled</th>\n",
       "      <th>booking_changes</th>\n",
       "      <th>days_in_waiting_list</th>\n",
       "      <th>required_car_parking_spaces</th>\n",
       "      <th>total_of_special_requests</th>\n",
       "      <th>total_nights</th>\n",
       "      <th>arrival_date_season_spring</th>\n",
       "      <th>arrival_date_season_summer</th>\n",
       "      <th>arrival_date_season_winter</th>\n",
       "      <th>meal_FB</th>\n",
       "      <th>meal_HB</th>\n",
       "      <th>meal_SC</th>\n",
       "      <th>country_BEL</th>\n",
       "      <th>country_BRA</th>\n",
       "      <th>country_CHE</th>\n",
       "      <th>country_DEU</th>\n",
       "      <th>country_ESP</th>\n",
       "      <th>country_FRA</th>\n",
       "      <th>country_GBR</th>\n",
       "      <th>country_IRL</th>\n",
       "      <th>country_ITA</th>\n",
       "      <th>country_NLD</th>\n",
       "      <th>country_PRT</th>\n",
       "      <th>country_USA</th>\n",
       "      <th>country_other</th>\n",
       "      <th>distribution_channel_Direct</th>\n",
       "      <th>distribution_channel_GDS</th>\n",
       "      <th>distribution_channel_TA/TO</th>\n",
       "      <th>reserved_room_type_B</th>\n",
       "      <th>reserved_room_type_C</th>\n",
       "      <th>reserved_room_type_D</th>\n",
       "      <th>reserved_room_type_E</th>\n",
       "      <th>reserved_room_type_F</th>\n",
       "      <th>reserved_room_type_G</th>\n",
       "      <th>customer_type_Group</th>\n",
       "      <th>customer_type_Transient</th>\n",
       "      <th>customer_type_Transient-Party</th>\n",
       "    </tr>\n",
       "  </thead>\n",
       "  <tbody>\n",
       "    <tr>\n",
       "      <th>0</th>\n",
       "      <td>0</td>\n",
       "      <td>7</td>\n",
       "      <td>1</td>\n",
       "      <td>0</td>\n",
       "      <td>0</td>\n",
       "      <td>0</td>\n",
       "      <td>0</td>\n",
       "      <td>0</td>\n",
       "      <td>0</td>\n",
       "      <td>0</td>\n",
       "      <td>0</td>\n",
       "      <td>0</td>\n",
       "      <td>1</td>\n",
       "      <td>0</td>\n",
       "      <td>1</td>\n",
       "      <td>0</td>\n",
       "      <td>0</td>\n",
       "      <td>0</td>\n",
       "      <td>0</td>\n",
       "      <td>0</td>\n",
       "      <td>0</td>\n",
       "      <td>0</td>\n",
       "      <td>0</td>\n",
       "      <td>0</td>\n",
       "      <td>0</td>\n",
       "      <td>1</td>\n",
       "      <td>0</td>\n",
       "      <td>0</td>\n",
       "      <td>0</td>\n",
       "      <td>0</td>\n",
       "      <td>0</td>\n",
       "      <td>0</td>\n",
       "      <td>1</td>\n",
       "      <td>0</td>\n",
       "      <td>0</td>\n",
       "      <td>0</td>\n",
       "      <td>0</td>\n",
       "      <td>0</td>\n",
       "      <td>0</td>\n",
       "      <td>0</td>\n",
       "      <td>0</td>\n",
       "      <td>0</td>\n",
       "      <td>1</td>\n",
       "      <td>0</td>\n",
       "    </tr>\n",
       "    <tr>\n",
       "      <th>1</th>\n",
       "      <td>0</td>\n",
       "      <td>14</td>\n",
       "      <td>2</td>\n",
       "      <td>0</td>\n",
       "      <td>0</td>\n",
       "      <td>0</td>\n",
       "      <td>0</td>\n",
       "      <td>0</td>\n",
       "      <td>0</td>\n",
       "      <td>0</td>\n",
       "      <td>0</td>\n",
       "      <td>1</td>\n",
       "      <td>2</td>\n",
       "      <td>0</td>\n",
       "      <td>1</td>\n",
       "      <td>0</td>\n",
       "      <td>0</td>\n",
       "      <td>0</td>\n",
       "      <td>0</td>\n",
       "      <td>0</td>\n",
       "      <td>0</td>\n",
       "      <td>0</td>\n",
       "      <td>0</td>\n",
       "      <td>0</td>\n",
       "      <td>0</td>\n",
       "      <td>1</td>\n",
       "      <td>0</td>\n",
       "      <td>0</td>\n",
       "      <td>0</td>\n",
       "      <td>0</td>\n",
       "      <td>0</td>\n",
       "      <td>0</td>\n",
       "      <td>0</td>\n",
       "      <td>0</td>\n",
       "      <td>1</td>\n",
       "      <td>0</td>\n",
       "      <td>0</td>\n",
       "      <td>0</td>\n",
       "      <td>0</td>\n",
       "      <td>0</td>\n",
       "      <td>0</td>\n",
       "      <td>0</td>\n",
       "      <td>1</td>\n",
       "      <td>0</td>\n",
       "    </tr>\n",
       "    <tr>\n",
       "      <th>2</th>\n",
       "      <td>0</td>\n",
       "      <td>0</td>\n",
       "      <td>2</td>\n",
       "      <td>0</td>\n",
       "      <td>0</td>\n",
       "      <td>0</td>\n",
       "      <td>0</td>\n",
       "      <td>0</td>\n",
       "      <td>0</td>\n",
       "      <td>0</td>\n",
       "      <td>0</td>\n",
       "      <td>0</td>\n",
       "      <td>2</td>\n",
       "      <td>0</td>\n",
       "      <td>1</td>\n",
       "      <td>0</td>\n",
       "      <td>0</td>\n",
       "      <td>0</td>\n",
       "      <td>0</td>\n",
       "      <td>0</td>\n",
       "      <td>0</td>\n",
       "      <td>0</td>\n",
       "      <td>0</td>\n",
       "      <td>0</td>\n",
       "      <td>0</td>\n",
       "      <td>0</td>\n",
       "      <td>0</td>\n",
       "      <td>0</td>\n",
       "      <td>0</td>\n",
       "      <td>1</td>\n",
       "      <td>0</td>\n",
       "      <td>0</td>\n",
       "      <td>1</td>\n",
       "      <td>0</td>\n",
       "      <td>0</td>\n",
       "      <td>0</td>\n",
       "      <td>1</td>\n",
       "      <td>0</td>\n",
       "      <td>0</td>\n",
       "      <td>0</td>\n",
       "      <td>0</td>\n",
       "      <td>0</td>\n",
       "      <td>1</td>\n",
       "      <td>0</td>\n",
       "    </tr>\n",
       "    <tr>\n",
       "      <th>3</th>\n",
       "      <td>0</td>\n",
       "      <td>9</td>\n",
       "      <td>2</td>\n",
       "      <td>0</td>\n",
       "      <td>0</td>\n",
       "      <td>0</td>\n",
       "      <td>0</td>\n",
       "      <td>0</td>\n",
       "      <td>0</td>\n",
       "      <td>0</td>\n",
       "      <td>0</td>\n",
       "      <td>1</td>\n",
       "      <td>2</td>\n",
       "      <td>0</td>\n",
       "      <td>1</td>\n",
       "      <td>0</td>\n",
       "      <td>1</td>\n",
       "      <td>0</td>\n",
       "      <td>0</td>\n",
       "      <td>0</td>\n",
       "      <td>0</td>\n",
       "      <td>0</td>\n",
       "      <td>0</td>\n",
       "      <td>0</td>\n",
       "      <td>0</td>\n",
       "      <td>0</td>\n",
       "      <td>0</td>\n",
       "      <td>0</td>\n",
       "      <td>0</td>\n",
       "      <td>1</td>\n",
       "      <td>0</td>\n",
       "      <td>0</td>\n",
       "      <td>1</td>\n",
       "      <td>0</td>\n",
       "      <td>0</td>\n",
       "      <td>0</td>\n",
       "      <td>1</td>\n",
       "      <td>0</td>\n",
       "      <td>0</td>\n",
       "      <td>0</td>\n",
       "      <td>0</td>\n",
       "      <td>0</td>\n",
       "      <td>1</td>\n",
       "      <td>0</td>\n",
       "    </tr>\n",
       "    <tr>\n",
       "      <th>4</th>\n",
       "      <td>1</td>\n",
       "      <td>85</td>\n",
       "      <td>2</td>\n",
       "      <td>0</td>\n",
       "      <td>0</td>\n",
       "      <td>0</td>\n",
       "      <td>0</td>\n",
       "      <td>0</td>\n",
       "      <td>0</td>\n",
       "      <td>0</td>\n",
       "      <td>0</td>\n",
       "      <td>1</td>\n",
       "      <td>3</td>\n",
       "      <td>0</td>\n",
       "      <td>1</td>\n",
       "      <td>0</td>\n",
       "      <td>0</td>\n",
       "      <td>0</td>\n",
       "      <td>0</td>\n",
       "      <td>0</td>\n",
       "      <td>0</td>\n",
       "      <td>0</td>\n",
       "      <td>0</td>\n",
       "      <td>0</td>\n",
       "      <td>0</td>\n",
       "      <td>0</td>\n",
       "      <td>0</td>\n",
       "      <td>0</td>\n",
       "      <td>0</td>\n",
       "      <td>1</td>\n",
       "      <td>0</td>\n",
       "      <td>0</td>\n",
       "      <td>0</td>\n",
       "      <td>0</td>\n",
       "      <td>1</td>\n",
       "      <td>0</td>\n",
       "      <td>0</td>\n",
       "      <td>0</td>\n",
       "      <td>0</td>\n",
       "      <td>0</td>\n",
       "      <td>0</td>\n",
       "      <td>0</td>\n",
       "      <td>1</td>\n",
       "      <td>0</td>\n",
       "    </tr>\n",
       "  </tbody>\n",
       "</table>\n",
       "</div>"
      ],
      "text/plain": [
       "   is_canceled  lead_time  adults  children  babies  is_repeated_guest  \\\n",
       "0            0          7       1         0       0                  0   \n",
       "1            0         14       2         0       0                  0   \n",
       "2            0          0       2         0       0                  0   \n",
       "3            0          9       2         0       0                  0   \n",
       "4            1         85       2         0       0                  0   \n",
       "\n",
       "   previous_cancellations  previous_bookings_not_canceled  booking_changes  \\\n",
       "0                       0                               0                0   \n",
       "1                       0                               0                0   \n",
       "2                       0                               0                0   \n",
       "3                       0                               0                0   \n",
       "4                       0                               0                0   \n",
       "\n",
       "   days_in_waiting_list  required_car_parking_spaces  \\\n",
       "0                     0                            0   \n",
       "1                     0                            0   \n",
       "2                     0                            0   \n",
       "3                     0                            0   \n",
       "4                     0                            0   \n",
       "\n",
       "   total_of_special_requests  total_nights  arrival_date_season_spring  \\\n",
       "0                          0             1                           0   \n",
       "1                          1             2                           0   \n",
       "2                          0             2                           0   \n",
       "3                          1             2                           0   \n",
       "4                          1             3                           0   \n",
       "\n",
       "   arrival_date_season_summer  arrival_date_season_winter  meal_FB  meal_HB  \\\n",
       "0                           1                           0        0        0   \n",
       "1                           1                           0        0        0   \n",
       "2                           1                           0        0        0   \n",
       "3                           1                           0        1        0   \n",
       "4                           1                           0        0        0   \n",
       "\n",
       "   meal_SC  country_BEL  country_BRA  country_CHE  country_DEU  country_ESP  \\\n",
       "0        0            0            0            0            0            0   \n",
       "1        0            0            0            0            0            0   \n",
       "2        0            0            0            0            0            0   \n",
       "3        0            0            0            0            0            0   \n",
       "4        0            0            0            0            0            0   \n",
       "\n",
       "   country_FRA  country_GBR  country_IRL  country_ITA  country_NLD  \\\n",
       "0            0            1            0            0            0   \n",
       "1            0            1            0            0            0   \n",
       "2            0            0            0            0            0   \n",
       "3            0            0            0            0            0   \n",
       "4            0            0            0            0            0   \n",
       "\n",
       "   country_PRT  country_USA  country_other  distribution_channel_Direct  \\\n",
       "0            0            0              0                            1   \n",
       "1            0            0              0                            0   \n",
       "2            1            0              0                            1   \n",
       "3            1            0              0                            1   \n",
       "4            1            0              0                            0   \n",
       "\n",
       "   distribution_channel_GDS  distribution_channel_TA/TO  reserved_room_type_B  \\\n",
       "0                         0                           0                     0   \n",
       "1                         0                           1                     0   \n",
       "2                         0                           0                     0   \n",
       "3                         0                           0                     0   \n",
       "4                         0                           1                     0   \n",
       "\n",
       "   reserved_room_type_C  reserved_room_type_D  reserved_room_type_E  \\\n",
       "0                     0                     0                     0   \n",
       "1                     0                     0                     0   \n",
       "2                     1                     0                     0   \n",
       "3                     1                     0                     0   \n",
       "4                     0                     0                     0   \n",
       "\n",
       "   reserved_room_type_F  reserved_room_type_G  customer_type_Group  \\\n",
       "0                     0                     0                    0   \n",
       "1                     0                     0                    0   \n",
       "2                     0                     0                    0   \n",
       "3                     0                     0                    0   \n",
       "4                     0                     0                    0   \n",
       "\n",
       "   customer_type_Transient  customer_type_Transient-Party  \n",
       "0                        1                              0  \n",
       "1                        1                              0  \n",
       "2                        1                              0  \n",
       "3                        1                              0  \n",
       "4                        1                              0  "
      ]
     },
     "metadata": {},
     "output_type": "display_data"
    },
    {
     "data": {
      "text/plain": [
       "(64694, 44)"
      ]
     },
     "execution_count": 96,
     "metadata": {},
     "output_type": "execute_result"
    }
   ],
   "source": [
    "# преобразуем df_train\n",
    "df_train_ohe = pd.get_dummies(df_train, drop_first=True)\n",
    "display(df_train_ohe.head())\n",
    "df_train_ohe.shape"
   ]
  },
  {
   "cell_type": "code",
   "execution_count": 97,
   "metadata": {},
   "outputs": [
    {
     "data": {
      "text/html": [
       "<div>\n",
       "<style scoped>\n",
       "    .dataframe tbody tr th:only-of-type {\n",
       "        vertical-align: middle;\n",
       "    }\n",
       "\n",
       "    .dataframe tbody tr th {\n",
       "        vertical-align: top;\n",
       "    }\n",
       "\n",
       "    .dataframe thead th {\n",
       "        text-align: right;\n",
       "    }\n",
       "</style>\n",
       "<table border=\"1\" class=\"dataframe\">\n",
       "  <thead>\n",
       "    <tr style=\"text-align: right;\">\n",
       "      <th></th>\n",
       "      <th>is_canceled</th>\n",
       "      <th>lead_time</th>\n",
       "      <th>adults</th>\n",
       "      <th>children</th>\n",
       "      <th>babies</th>\n",
       "      <th>is_repeated_guest</th>\n",
       "      <th>previous_cancellations</th>\n",
       "      <th>previous_bookings_not_canceled</th>\n",
       "      <th>booking_changes</th>\n",
       "      <th>days_in_waiting_list</th>\n",
       "      <th>required_car_parking_spaces</th>\n",
       "      <th>total_of_special_requests</th>\n",
       "      <th>total_nights</th>\n",
       "      <th>arrival_date_season_summer</th>\n",
       "      <th>arrival_date_season_winter</th>\n",
       "      <th>meal_FB</th>\n",
       "      <th>meal_HB</th>\n",
       "      <th>meal_SC</th>\n",
       "      <th>country_BEL</th>\n",
       "      <th>country_BRA</th>\n",
       "      <th>country_CHE</th>\n",
       "      <th>country_DEU</th>\n",
       "      <th>country_ESP</th>\n",
       "      <th>country_FRA</th>\n",
       "      <th>country_GBR</th>\n",
       "      <th>country_IRL</th>\n",
       "      <th>country_ITA</th>\n",
       "      <th>country_NLD</th>\n",
       "      <th>country_PRT</th>\n",
       "      <th>country_USA</th>\n",
       "      <th>country_other</th>\n",
       "      <th>distribution_channel_Direct</th>\n",
       "      <th>distribution_channel_GDS</th>\n",
       "      <th>distribution_channel_TA/TO</th>\n",
       "      <th>reserved_room_type_B</th>\n",
       "      <th>reserved_room_type_C</th>\n",
       "      <th>reserved_room_type_D</th>\n",
       "      <th>reserved_room_type_E</th>\n",
       "      <th>reserved_room_type_F</th>\n",
       "      <th>reserved_room_type_G</th>\n",
       "      <th>customer_type_Group</th>\n",
       "      <th>customer_type_Transient</th>\n",
       "      <th>customer_type_Transient-Party</th>\n",
       "    </tr>\n",
       "  </thead>\n",
       "  <tbody>\n",
       "    <tr>\n",
       "      <th>0</th>\n",
       "      <td>1</td>\n",
       "      <td>74</td>\n",
       "      <td>2</td>\n",
       "      <td>0</td>\n",
       "      <td>0</td>\n",
       "      <td>0</td>\n",
       "      <td>0</td>\n",
       "      <td>0</td>\n",
       "      <td>0</td>\n",
       "      <td>0</td>\n",
       "      <td>0</td>\n",
       "      <td>0</td>\n",
       "      <td>1</td>\n",
       "      <td>0</td>\n",
       "      <td>1</td>\n",
       "      <td>0</td>\n",
       "      <td>0</td>\n",
       "      <td>0</td>\n",
       "      <td>0</td>\n",
       "      <td>0</td>\n",
       "      <td>0</td>\n",
       "      <td>0</td>\n",
       "      <td>0</td>\n",
       "      <td>0</td>\n",
       "      <td>0</td>\n",
       "      <td>0</td>\n",
       "      <td>0</td>\n",
       "      <td>0</td>\n",
       "      <td>1</td>\n",
       "      <td>0</td>\n",
       "      <td>0</td>\n",
       "      <td>0</td>\n",
       "      <td>0</td>\n",
       "      <td>1</td>\n",
       "      <td>0</td>\n",
       "      <td>0</td>\n",
       "      <td>0</td>\n",
       "      <td>0</td>\n",
       "      <td>0</td>\n",
       "      <td>0</td>\n",
       "      <td>0</td>\n",
       "      <td>1</td>\n",
       "      <td>0</td>\n",
       "    </tr>\n",
       "    <tr>\n",
       "      <th>1</th>\n",
       "      <td>1</td>\n",
       "      <td>62</td>\n",
       "      <td>2</td>\n",
       "      <td>0</td>\n",
       "      <td>0</td>\n",
       "      <td>0</td>\n",
       "      <td>0</td>\n",
       "      <td>0</td>\n",
       "      <td>0</td>\n",
       "      <td>0</td>\n",
       "      <td>0</td>\n",
       "      <td>1</td>\n",
       "      <td>4</td>\n",
       "      <td>0</td>\n",
       "      <td>1</td>\n",
       "      <td>0</td>\n",
       "      <td>0</td>\n",
       "      <td>0</td>\n",
       "      <td>0</td>\n",
       "      <td>0</td>\n",
       "      <td>0</td>\n",
       "      <td>0</td>\n",
       "      <td>0</td>\n",
       "      <td>0</td>\n",
       "      <td>0</td>\n",
       "      <td>0</td>\n",
       "      <td>0</td>\n",
       "      <td>0</td>\n",
       "      <td>0</td>\n",
       "      <td>0</td>\n",
       "      <td>0</td>\n",
       "      <td>0</td>\n",
       "      <td>0</td>\n",
       "      <td>1</td>\n",
       "      <td>0</td>\n",
       "      <td>0</td>\n",
       "      <td>0</td>\n",
       "      <td>0</td>\n",
       "      <td>0</td>\n",
       "      <td>0</td>\n",
       "      <td>0</td>\n",
       "      <td>1</td>\n",
       "      <td>0</td>\n",
       "    </tr>\n",
       "    <tr>\n",
       "      <th>2</th>\n",
       "      <td>1</td>\n",
       "      <td>62</td>\n",
       "      <td>2</td>\n",
       "      <td>0</td>\n",
       "      <td>0</td>\n",
       "      <td>0</td>\n",
       "      <td>0</td>\n",
       "      <td>0</td>\n",
       "      <td>0</td>\n",
       "      <td>0</td>\n",
       "      <td>0</td>\n",
       "      <td>1</td>\n",
       "      <td>4</td>\n",
       "      <td>0</td>\n",
       "      <td>1</td>\n",
       "      <td>0</td>\n",
       "      <td>0</td>\n",
       "      <td>0</td>\n",
       "      <td>0</td>\n",
       "      <td>0</td>\n",
       "      <td>0</td>\n",
       "      <td>0</td>\n",
       "      <td>0</td>\n",
       "      <td>0</td>\n",
       "      <td>0</td>\n",
       "      <td>0</td>\n",
       "      <td>0</td>\n",
       "      <td>0</td>\n",
       "      <td>0</td>\n",
       "      <td>0</td>\n",
       "      <td>0</td>\n",
       "      <td>0</td>\n",
       "      <td>0</td>\n",
       "      <td>1</td>\n",
       "      <td>0</td>\n",
       "      <td>0</td>\n",
       "      <td>0</td>\n",
       "      <td>0</td>\n",
       "      <td>0</td>\n",
       "      <td>0</td>\n",
       "      <td>0</td>\n",
       "      <td>1</td>\n",
       "      <td>0</td>\n",
       "    </tr>\n",
       "    <tr>\n",
       "      <th>3</th>\n",
       "      <td>1</td>\n",
       "      <td>71</td>\n",
       "      <td>1</td>\n",
       "      <td>0</td>\n",
       "      <td>0</td>\n",
       "      <td>0</td>\n",
       "      <td>0</td>\n",
       "      <td>0</td>\n",
       "      <td>0</td>\n",
       "      <td>0</td>\n",
       "      <td>0</td>\n",
       "      <td>1</td>\n",
       "      <td>4</td>\n",
       "      <td>0</td>\n",
       "      <td>1</td>\n",
       "      <td>0</td>\n",
       "      <td>0</td>\n",
       "      <td>0</td>\n",
       "      <td>0</td>\n",
       "      <td>0</td>\n",
       "      <td>0</td>\n",
       "      <td>0</td>\n",
       "      <td>0</td>\n",
       "      <td>0</td>\n",
       "      <td>0</td>\n",
       "      <td>0</td>\n",
       "      <td>0</td>\n",
       "      <td>0</td>\n",
       "      <td>1</td>\n",
       "      <td>0</td>\n",
       "      <td>0</td>\n",
       "      <td>0</td>\n",
       "      <td>0</td>\n",
       "      <td>1</td>\n",
       "      <td>0</td>\n",
       "      <td>0</td>\n",
       "      <td>0</td>\n",
       "      <td>0</td>\n",
       "      <td>0</td>\n",
       "      <td>0</td>\n",
       "      <td>0</td>\n",
       "      <td>1</td>\n",
       "      <td>0</td>\n",
       "    </tr>\n",
       "    <tr>\n",
       "      <th>4</th>\n",
       "      <td>1</td>\n",
       "      <td>172</td>\n",
       "      <td>2</td>\n",
       "      <td>0</td>\n",
       "      <td>0</td>\n",
       "      <td>0</td>\n",
       "      <td>0</td>\n",
       "      <td>0</td>\n",
       "      <td>0</td>\n",
       "      <td>0</td>\n",
       "      <td>0</td>\n",
       "      <td>0</td>\n",
       "      <td>7</td>\n",
       "      <td>0</td>\n",
       "      <td>1</td>\n",
       "      <td>0</td>\n",
       "      <td>0</td>\n",
       "      <td>0</td>\n",
       "      <td>1</td>\n",
       "      <td>0</td>\n",
       "      <td>0</td>\n",
       "      <td>0</td>\n",
       "      <td>0</td>\n",
       "      <td>0</td>\n",
       "      <td>0</td>\n",
       "      <td>0</td>\n",
       "      <td>0</td>\n",
       "      <td>0</td>\n",
       "      <td>0</td>\n",
       "      <td>0</td>\n",
       "      <td>0</td>\n",
       "      <td>0</td>\n",
       "      <td>0</td>\n",
       "      <td>1</td>\n",
       "      <td>0</td>\n",
       "      <td>0</td>\n",
       "      <td>0</td>\n",
       "      <td>0</td>\n",
       "      <td>0</td>\n",
       "      <td>0</td>\n",
       "      <td>0</td>\n",
       "      <td>1</td>\n",
       "      <td>0</td>\n",
       "    </tr>\n",
       "  </tbody>\n",
       "</table>\n",
       "</div>"
      ],
      "text/plain": [
       "   is_canceled  lead_time  adults  children  babies  is_repeated_guest  \\\n",
       "0            1         74       2         0       0                  0   \n",
       "1            1         62       2         0       0                  0   \n",
       "2            1         62       2         0       0                  0   \n",
       "3            1         71       1         0       0                  0   \n",
       "4            1        172       2         0       0                  0   \n",
       "\n",
       "   previous_cancellations  previous_bookings_not_canceled  booking_changes  \\\n",
       "0                       0                               0                0   \n",
       "1                       0                               0                0   \n",
       "2                       0                               0                0   \n",
       "3                       0                               0                0   \n",
       "4                       0                               0                0   \n",
       "\n",
       "   days_in_waiting_list  required_car_parking_spaces  \\\n",
       "0                     0                            0   \n",
       "1                     0                            0   \n",
       "2                     0                            0   \n",
       "3                     0                            0   \n",
       "4                     0                            0   \n",
       "\n",
       "   total_of_special_requests  total_nights  arrival_date_season_summer  \\\n",
       "0                          0             1                           0   \n",
       "1                          1             4                           0   \n",
       "2                          1             4                           0   \n",
       "3                          1             4                           0   \n",
       "4                          0             7                           0   \n",
       "\n",
       "   arrival_date_season_winter  meal_FB  meal_HB  meal_SC  country_BEL  \\\n",
       "0                           1        0        0        0            0   \n",
       "1                           1        0        0        0            0   \n",
       "2                           1        0        0        0            0   \n",
       "3                           1        0        0        0            0   \n",
       "4                           1        0        0        0            1   \n",
       "\n",
       "   country_BRA  country_CHE  country_DEU  country_ESP  country_FRA  \\\n",
       "0            0            0            0            0            0   \n",
       "1            0            0            0            0            0   \n",
       "2            0            0            0            0            0   \n",
       "3            0            0            0            0            0   \n",
       "4            0            0            0            0            0   \n",
       "\n",
       "   country_GBR  country_IRL  country_ITA  country_NLD  country_PRT  \\\n",
       "0            0            0            0            0            1   \n",
       "1            0            0            0            0            0   \n",
       "2            0            0            0            0            0   \n",
       "3            0            0            0            0            1   \n",
       "4            0            0            0            0            0   \n",
       "\n",
       "   country_USA  country_other  distribution_channel_Direct  \\\n",
       "0            0              0                            0   \n",
       "1            0              0                            0   \n",
       "2            0              0                            0   \n",
       "3            0              0                            0   \n",
       "4            0              0                            0   \n",
       "\n",
       "   distribution_channel_GDS  distribution_channel_TA/TO  reserved_room_type_B  \\\n",
       "0                         0                           1                     0   \n",
       "1                         0                           1                     0   \n",
       "2                         0                           1                     0   \n",
       "3                         0                           1                     0   \n",
       "4                         0                           1                     0   \n",
       "\n",
       "   reserved_room_type_C  reserved_room_type_D  reserved_room_type_E  \\\n",
       "0                     0                     0                     0   \n",
       "1                     0                     0                     0   \n",
       "2                     0                     0                     0   \n",
       "3                     0                     0                     0   \n",
       "4                     0                     0                     0   \n",
       "\n",
       "   reserved_room_type_F  reserved_room_type_G  customer_type_Group  \\\n",
       "0                     0                     0                    0   \n",
       "1                     0                     0                    0   \n",
       "2                     0                     0                    0   \n",
       "3                     0                     0                    0   \n",
       "4                     0                     0                    0   \n",
       "\n",
       "   customer_type_Transient  customer_type_Transient-Party  \n",
       "0                        1                              0  \n",
       "1                        1                              0  \n",
       "2                        1                              0  \n",
       "3                        1                              0  \n",
       "4                        1                              0  "
      ]
     },
     "metadata": {},
     "output_type": "display_data"
    },
    {
     "data": {
      "text/plain": [
       "(32041, 43)"
      ]
     },
     "execution_count": 97,
     "metadata": {},
     "output_type": "execute_result"
    }
   ],
   "source": [
    "# преобразуем df_test\n",
    "df_test_ohe = pd.get_dummies(df_test, drop_first=True)\n",
    "display(df_test_ohe.head())\n",
    "df_test_ohe.shape"
   ]
  },
  {
   "cell_type": "markdown",
   "metadata": {},
   "source": [
    "Обратим внимание, что в df_test отсутствует один столбец. Найдем потерю и вернем ее на место"
   ]
  },
  {
   "cell_type": "code",
   "execution_count": 98,
   "metadata": {},
   "outputs": [
    {
     "data": {
      "text/plain": [
       "Index(['arrival_date_season_spring'], dtype='object')"
      ]
     },
     "execution_count": 98,
     "metadata": {},
     "output_type": "execute_result"
    }
   ],
   "source": [
    "# найдем потерю \n",
    "df_test_ohe.columns ^ df_train_ohe.columns"
   ]
  },
  {
   "cell_type": "code",
   "execution_count": 99,
   "metadata": {},
   "outputs": [],
   "source": [
    "# вернем столбец на свое место\n",
    "df_test_ohe.insert(13, 'arrival_date_season_spring', 0)"
   ]
  },
  {
   "cell_type": "markdown",
   "metadata": {},
   "source": [
    "Теперь параметры в обоих датафреймах совпадают. \n",
    "\n",
    "Подготовим наши датафреймы к скармливанию в модели:"
   ]
  },
  {
   "cell_type": "code",
   "execution_count": 100,
   "metadata": {},
   "outputs": [],
   "source": [
    "# извлекаем признаки, исключаем целевой признак и признаки которые не имеет предсказательной силы \n",
    "features_train = df_train_ohe.drop(['is_canceled'], axis=1) \n",
    "target_train = df_train_ohe['is_canceled'] \n",
    "\n",
    "# извлекаем признаки, исключаем целевой признак и признаки которые не имеет предсказательной силы \n",
    "features_test = df_test_ohe.drop(['is_canceled'], axis=1)\n",
    "target_test = df_test_ohe['is_canceled'] "
   ]
  },
  {
   "cell_type": "markdown",
   "metadata": {},
   "source": [
    "Проведем масштабирование:"
   ]
  },
  {
   "cell_type": "code",
   "execution_count": 101,
   "metadata": {},
   "outputs": [],
   "source": [
    "#стандартизируем признаки\n",
    "numeric = ['lead_time', 'adults', 'total_of_special_requests', 'total_nights']\n",
    "scaler = StandardScaler()\n",
    "scaler.fit(features_train[numeric])\n",
    "features_train[numeric] = scaler.transform(features_train[numeric])\n",
    "features_test[numeric] = scaler.transform(features_test[numeric])"
   ]
  },
  {
   "cell_type": "markdown",
   "metadata": {},
   "source": [
    "<div class=\"alert alert-warning\">\n",
    "<h2>Комментарий ревьюера<a class=\"tocSkip\"></a></h2>\n",
    "    \n",
    "**Есть совет** ⚠️: вообще для «деревянных» моделей лучше использовать порядковое кодирование, так как они заметно быстрее обучаются на меньшем количестве признаков и не теряют в качестве, есть <a href=\"https://medium.com/data-design/visiting-categorical-features-and-encoding-in-decision-trees-53400fa65931\" target=\"blank_\">шикарная статья</a> на эту тему. Но для линейных моделей(в том числе логистической регрессии) порядковое кодирование не подходит, потому что задает приоритет признакам, которого в природе данных нет. Тогда, например, значение 10^2 в признаке X для них будет важнее, чем значение 10^1, а это далеко не всегда верное утверждение. Поэтому для них лучше использовать OHE.\n",
    "    \n",
    "Также для «деревянных» моделей масштабирование совсем не обязательно, <a href=\"https://towardsdatascience.com/how-data-normalization-affects-your-random-forest-algorithm-fbc6753b4ddf\" target=\"blank_\">тут</a> можно почитать про это подробнее. Но для линейных моделей наоборот, может заметно улучшить метрики\n",
    "    \n",
    "Тогда у тебя получится разная предобработка для разных моделей, это вполне нормально, тут могут помочь пайплайны, они особенно полезны как раз в подобных случаях\n",
    "    \n",
    "Подробнее про пайплайны:\n",
    "* https://scikit-learn.org/stable/modules/generated/sklearn.pipeline.Pipeline.html\n",
    "* https://scikit-learn.org/stable/modules/compose.html\n",
    "* https://towardsdatascience.com/how-to-use-sklearn-pipelines-for-ridiculously-neat-code-a61ab66ca90d\n",
    "    \n",
    "<div class=\"alert alert-info\">\n",
    "<b>Комментарий студента:</b> Пайплайны и ОНЕ, принято! (o˘◡˘o)   \n",
    "</div>\n",
    "\n"
   ]
  },
  {
   "cell_type": "markdown",
   "metadata": {},
   "source": [
    "<div class=\"alert alert-success\">\n",
    "<h2>Комментарий ревьюера v2<a class=\"tocSkip\"></a></h2>\n",
    "    \n",
    "**Отлично!** ✔️: 👍</div>"
   ]
  },
  {
   "cell_type": "markdown",
   "metadata": {},
   "source": [
    "### Выберем лучшую модель и проверим её на тестовой выборке"
   ]
  },
  {
   "cell_type": "markdown",
   "metadata": {},
   "source": [
    "Рассмотрим три модели: логистичческой регрессии, дерево решений и случайного леса:"
   ]
  },
  {
   "cell_type": "code",
   "execution_count": 102,
   "metadata": {},
   "outputs": [],
   "source": [
    "# сдесь сохраним лучшую модель\n",
    "best_model = None\n",
    "best_result = 0"
   ]
  },
  {
   "cell_type": "markdown",
   "metadata": {},
   "source": [
    "#### Logistic Regression"
   ]
  },
  {
   "cell_type": "code",
   "execution_count": 103,
   "metadata": {},
   "outputs": [
    {
     "name": "stdout",
     "output_type": "stream",
     "text": [
      "Лучшая полнота: 0.63\n",
      "Лучший алгоритм оптимизации: saga\n"
     ]
    }
   ],
   "source": [
    "# лучший результат\n",
    "LogisticRegression_result = 0\n",
    "\n",
    "# лучший алгоритм оптимизации\n",
    "solver = ['sag', 'saga', 'newton-cg', 'lbfgs', 'liblinear']\n",
    "best_solver = []\n",
    "\n",
    "for i in range(len(solver)):\n",
    "    # модель логистической регрессии\n",
    "    model = LogisticRegression(random_state=RANDOM_STATE, solver=solver[i], max_iter=100, class_weight='balanced')\n",
    "    model.fit(features_train, target_train)\n",
    "\n",
    "    # посчитаем качество модели на валидационной выборке\n",
    "    predictions = model.predict(features_train)\n",
    "    result = cross_val_score(model, features_train, target_train, cv=5, scoring='recall').mean()\n",
    "    \n",
    "    # сравним результаты\n",
    "    if result > LogisticRegression_result:\n",
    "        LogisticRegression_result = result\n",
    "        best_solver = solver[i]\n",
    "                \n",
    "# сохраним в лучшую модель    \n",
    "if LogisticRegression_result > best_result:\n",
    "    best_result = LogisticRegression_result\n",
    "    best_model = model\n",
    "    \n",
    "print('Лучшая полнота:',f'{LogisticRegression_result:.2f}')\n",
    "print('Лучший алгоритм оптимизации:', best_solver)"
   ]
  },
  {
   "cell_type": "markdown",
   "metadata": {},
   "source": [
    "#### Decision Tree"
   ]
  },
  {
   "cell_type": "code",
   "execution_count": 104,
   "metadata": {},
   "outputs": [
    {
     "name": "stdout",
     "output_type": "stream",
     "text": [
      "Лучшая полнота: 0.7166\n",
      "Оптимальное значение глубины дерева: 5\n",
      "Оптимальный критерий: entropy\n"
     ]
    }
   ],
   "source": [
    "# лучший результат\n",
    "DecisionTree_result = 0\n",
    "# глубина дерева\n",
    "DecisionTree_depth = 0\n",
    "\n",
    "# лучший алгоритм оптимизации\n",
    "creteria = ['gini', 'entropy']\n",
    "best_creteria = []\n",
    "\n",
    "# найдем оптимальные значения гиперпараметров в цикле\n",
    "for i in range(len(creteria)):\n",
    "    for depth in range(1, 50):\n",
    "        #модель решающего дерева\n",
    "        model = DecisionTreeClassifier(criterion=creteria[i], random_state=RANDOM_STATE, max_depth=depth, class_weight='balanced')\n",
    "        model.fit(features_train, target_train)\n",
    "    \n",
    "        # посчитаем качество модели на валидационной выборке\n",
    "        predictions = model.predict(features_train)\n",
    "        result = cross_val_score(model, features_train, target_train, cv=5, scoring='recall').mean()\n",
    "    \n",
    "        # сравним результаты\n",
    "        if result > DecisionTree_result:\n",
    "            DecisionTree_result = result\n",
    "            DecisionTree_depth = depth\n",
    "            best_creteria = creteria[i]\n",
    "    \n",
    "if DecisionTree_result > best_result:\n",
    "    best_result = DecisionTree_result\n",
    "    best_model = model\n",
    "\n",
    "        \n",
    "print('Лучшая полнота:', f'{DecisionTree_result:.4f}')\n",
    "print('Оптимальное значение глубины дерева:', DecisionTree_depth)\n",
    "print('Оптимальный критерий:', best_creteria)"
   ]
  },
  {
   "cell_type": "markdown",
   "metadata": {},
   "source": [
    "#### Random Forest"
   ]
  },
  {
   "cell_type": "code",
   "execution_count": 105,
   "metadata": {},
   "outputs": [
    {
     "name": "stdout",
     "output_type": "stream",
     "text": [
      "Лучшая полнота:0.6746\n",
      "Оптимальная глубина дерева: 2\n",
      "Оптимальное количество деревьев: 46\n"
     ]
    }
   ],
   "source": [
    "# лучший результат\n",
    "RandomForest_result = 0\n",
    "# глубина дерева\n",
    "RandomForest_depth = 0\n",
    "# количество деревьев\n",
    "RandomForest_est = 0\n",
    "\n",
    "# найдем оптимальные значения гиперпараметров в цикле\n",
    "for est in range(1, 100, 5):\n",
    "    for depth in range(1, 10):\n",
    "        # модель леса\n",
    "        model = RandomForestClassifier(random_state=RANDOM_STATE, n_estimators=est, max_depth=depth, class_weight='balanced')\n",
    "        model.fit(features_train, target_train)\n",
    "        \n",
    "        # посчитаем качество модели на валидационной выборке\n",
    "        predictions = model.predict(features_train)\n",
    "        result = cross_val_score(model, features_train, target_train, cv=5, scoring='recall').mean()\n",
    "        \n",
    "        # сравним результаты\n",
    "        if result > RandomForest_result:\n",
    "            RandomForest_result = result\n",
    "            RandomForest_depth = depth\n",
    "            RandomForest_est = est\n",
    "        \n",
    "# сохраним в лучшую модель    \n",
    "if RandomForest_result > best_result:\n",
    "    best_result = RandomForest_result\n",
    "    best_model = model\n",
    "\n",
    "print('Лучшая полнота:' f'{RandomForest_result:.4f}')\n",
    "print('Оптимальная глубина дерева:', RandomForest_depth)\n",
    "print('Оптимальное количество деревьев:', RandomForest_est)"
   ]
  },
  {
   "cell_type": "markdown",
   "metadata": {},
   "source": [
    "### Лучшая модель"
   ]
  },
  {
   "cell_type": "code",
   "execution_count": 106,
   "metadata": {},
   "outputs": [
    {
     "name": "stdout",
     "output_type": "stream",
     "text": [
      "Лучшая полнота у \n",
      " DecisionTreeClassifier(class_weight='balanced', criterion='entropy',\n",
      "                       max_depth=49, random_state=1001) \n",
      "с результатом: 0.7166\n"
     ]
    }
   ],
   "source": [
    "print('Лучшая полнота у \\n', best_model,'\\nс результатом:', f'{best_result:.4f}')"
   ]
  },
  {
   "cell_type": "markdown",
   "metadata": {},
   "source": [
    "Применим лучшую модель и посмотрим ее метрики:"
   ]
  },
  {
   "cell_type": "code",
   "execution_count": 107,
   "metadata": {
    "scrolled": true
   },
   "outputs": [
    {
     "name": "stdout",
     "output_type": "stream",
     "text": [
      "Итоговая точность: 0.6741\n",
      "Итоговая AUC-ROC: 0.6417\n",
      "Итоговая F1-мера: 0.5400\n",
      "Итоговая полнота: 0.4887\n"
     ]
    }
   ],
   "source": [
    "best_model.fit(features_train, target_train)\n",
    "\n",
    "full_predictions = best_model.predict(features_test) \n",
    "\n",
    "full_probabilities_test = best_model.predict_proba(features_test)\n",
    "full_probabilities_one_test = full_probabilities_test[:, 1]\n",
    "\n",
    "full_result = accuracy_score(target_test, full_predictions)\n",
    "full_f1 = f1_score(target_test, full_predictions)\n",
    "full_recall = recall_score(target_test, full_predictions)\n",
    "full_auc_roc = roc_auc_score(target_test, full_probabilities_one_test)\n",
    "\n",
    "print(\"Итоговая точность:\", f'{full_result:.4f}')\n",
    "print('Итоговая AUC-ROC:', f'{full_auc_roc:.4f}')\n",
    "print('Итоговая F1-мера:', f'{full_f1:.4f}')\n",
    "print('Итоговая полнота:', f'{full_recall:.4f}')"
   ]
  },
  {
   "cell_type": "code",
   "execution_count": 108,
   "metadata": {},
   "outputs": [
    {
     "data": {
      "text/plain": [
       "pandas.core.series.Series"
      ]
     },
     "execution_count": 108,
     "metadata": {},
     "output_type": "execute_result"
    }
   ],
   "source": [
    "# поменяем тип данных\n",
    "full_predictions_series = pd.Series(full_predictions)\n",
    "\n",
    "# проверим смену типа на Series\n",
    "type(full_predictions_series)"
   ]
  },
  {
   "cell_type": "markdown",
   "metadata": {},
   "source": [
    "<div class=\"alert alert-success\">\n",
    "<h2>Комментарий ревьюера<a class=\"tocSkip\"></a></h2>\n",
    "    \n",
    "**Отлично!** ✔️: качественная работа с моделями!</div>"
   ]
  },
  {
   "cell_type": "markdown",
   "metadata": {},
   "source": [
    "### Оценим прибыль, которую принесёт выбранная модель за год"
   ]
  },
  {
   "cell_type": "markdown",
   "metadata": {},
   "source": [
    "Добавляем в df_test_copy новый параметр is_canceled_predicted с предсказаниями модели."
   ]
  },
  {
   "cell_type": "code",
   "execution_count": 109,
   "metadata": {},
   "outputs": [],
   "source": [
    "df_test_copy['is_canceled_predicted'] = full_predictions_series"
   ]
  },
  {
   "cell_type": "markdown",
   "metadata": {},
   "source": [
    "Напишем функцию подсчета:"
   ]
  },
  {
   "cell_type": "code",
   "execution_count": 110,
   "metadata": {},
   "outputs": [],
   "source": [
    "def predicted_profit(row, col):\n",
    "    if row['is_canceled'] == 0:\n",
    "        income = row['night_price'] * row['total_nights']\n",
    "        loss = row['service_price'] * round(1 + row['total_nights'] // 2)\n",
    "        \n",
    "    # бронь отменена, прибыль отсутствует    \n",
    "    elif(row[col] == 0) and (row['is_canceled'] ==1 ):\n",
    "        income = 0 \n",
    "        loss = row['service_price'] + row['night_price']\n",
    "        \n",
    "    # клиенту предлагается депозит, а в расход идет только разовое обслуживание\n",
    "    elif (row[col] == 1) and (row['is_canceled']==1):\n",
    "        income= row['night_price'] * DEPOSIT + row['service_price'] * DEPOSIT\n",
    "        loss = row['service_price'] + row['night_price']\n",
    "        \n",
    "    profit_total = income - loss\n",
    "    return profit_total"
   ]
  },
  {
   "cell_type": "code",
   "execution_count": 111,
   "metadata": {},
   "outputs": [
    {
     "name": "stdout",
     "output_type": "stream",
     "text": [
      "Прибыль за 2017 год: 32114440.00 рублей\n",
      "Прибыль за 2017 год после ML: 39207120.00 рублей\n",
      "Прибыль от внедрения модели с учётом бюджета: 6692680.00 рублей\n"
     ]
    }
   ],
   "source": [
    "df_test_copy['predicted_profit'] = df_test_copy.apply(predicted_profit, col='is_canceled_predicted', axis = 1)\n",
    "\n",
    "print('Прибыль за 2017 год:', f'{(df_test_copy[\"profit\"].sum()):.2f} рублей')\n",
    "print('Прибыль за 2017 год после ML:', f'{(df_test_copy[\"predicted_profit\"].sum()):.2f} рублей')\n",
    "print('Прибыль от внедрения модели с учётом бюджета:', f'{((df_test_copy[\"predicted_profit\"].sum())-(df_test_copy[\"profit\"].sum())) - BUDGET:.2f} рублей')"
   ]
  },
  {
   "cell_type": "markdown",
   "metadata": {},
   "source": [
    "<div class=\"alert alert-success\">\n",
    "<h2>Комментарий ревьюера<a class=\"tocSkip\"></a></h2>\n",
    "    \n",
    "**Отлично!** ✔️: прибыль после внедрения модели рассчитана верно!</div>"
   ]
  },
  {
   "cell_type": "markdown",
   "metadata": {},
   "source": [
    "### Выводы"
   ]
  },
  {
   "cell_type": "markdown",
   "metadata": {},
   "source": [
    "На основе предсказаний модели нам удалось определить отказ от бронирования клиентов, что позволит эффективно ввести депозитную политику.\n",
    "\n",
    "С учётом затрат на создание модели, прибыль отеля выросла на **6692680.00 рублей**."
   ]
  },
  {
   "cell_type": "markdown",
   "metadata": {},
   "source": [
    "## Описание портрета «ненадёжного» клиента"
   ]
  },
  {
   "cell_type": "markdown",
   "metadata": {},
   "source": [
    "### Опишим клиента, склонного к отказу от брони"
   ]
  },
  {
   "cell_type": "markdown",
   "metadata": {},
   "source": [
    "Посмотрим, какие признаки наша модель считает наиболее важными:"
   ]
  },
  {
   "cell_type": "code",
   "execution_count": 112,
   "metadata": {},
   "outputs": [
    {
     "data": {
      "image/png": "[encoded data removed]",
      "text/plain": [
       "<Figure size 1080x720 with 1 Axes>"
      ]
     },
     "metadata": {
      "needs_background": "light"
     },
     "output_type": "display_data"
    }
   ],
   "source": [
    "df_test_importance = pd.DataFrame(data=df_test_ohe, columns=df_test_ohe.columns)\n",
    "df_test_importance['is_canceled'] = df_test_ohe['is_canceled']\n",
    "\n",
    "best_model.fit(X = df_test_importance.drop(['is_canceled'], axis=1), y = df_test_importance['is_canceled'])\n",
    "\n",
    "df_test_main = pd.Series(model.feature_importances_, df_test_importance.drop(['is_canceled'], axis=1).columns)\n",
    "fig, ax = plt.subplots(figsize=(15,10))\n",
    "\n",
    "df_test_main.plot.bar(ax=ax)\n",
    "ax.set_xlabel('Признаки')\n",
    "ax.set_ylabel('Важность')\n",
    "plt.show()"
   ]
  },
  {
   "cell_type": "markdown",
   "metadata": {},
   "source": [
    "Стоит выделить четыре важнейших признака:\n",
    "\n",
    "1. country_PRT\n",
    "2. previous_cancellations\n",
    "3. lead_time\n",
    "4. total_of_special_requests"
   ]
  },
  {
   "cell_type": "markdown",
   "metadata": {},
   "source": [
    "С недобросовестными португальцами мы уже встречались, лучше поближе посмотрим на оставшиеся 3 столбца."
   ]
  },
  {
   "cell_type": "markdown",
   "metadata": {},
   "source": [
    "#### previous_cancellations"
   ]
  },
  {
   "cell_type": "markdown",
   "metadata": {},
   "source": [
    "Основываясь на выводах пункта 2.1.14, можно с уверенностью сказать что лидером в отменах стала Португалия."
   ]
  },
  {
   "cell_type": "code",
   "execution_count": 113,
   "metadata": {
    "scrolled": true
   },
   "outputs": [
    {
     "data": {
      "image/png": "[encoded data removed]",
      "text/plain": [
       "<Figure size 1080x432 with 1 Axes>"
      ]
     },
     "metadata": {
      "needs_background": "light"
     },
     "output_type": "display_data"
    }
   ],
   "source": [
    "# построим график \n",
    "pd.crosstab(df_test_ohe['previous_cancellations'].sum(), df_test_ohe['country_PRT']).plot.bar(figsize=(15, 6))\n",
    "\n",
    "plt.xlabel('Португальцы')\n",
    "plt.ylabel('Количество бронирований')\n",
    "\n",
    "plt.show()"
   ]
  },
  {
   "cell_type": "markdown",
   "metadata": {},
   "source": [
    "Треть жителей этой страны отменяли бронь несколько раз. Может языковой барьер?"
   ]
  },
  {
   "cell_type": "markdown",
   "metadata": {},
   "source": [
    "#### lead_time"
   ]
  },
  {
   "cell_type": "code",
   "execution_count": 114,
   "metadata": {},
   "outputs": [
    {
     "name": "stdout",
     "output_type": "stream",
     "text": [
      "Больше всего отмен ( 177 ) происходит на 56 день.\n"
     ]
    }
   ],
   "source": [
    "most_cancellations = 0\n",
    "cencel_day = 0\n",
    "\n",
    "for i in df_test_ohe['lead_time'].unique():\n",
    "    cancellations = df_test_ohe.loc[(df_test_ohe['lead_time'] == i) & (df_test_ohe['is_canceled'] == 1), 'is_canceled'].count()\n",
    "    \n",
    "    if cancellations > most_cancellations:\n",
    "        most_cancellations = cancellations\n",
    "        cencel_day = i\n",
    "        \n",
    "print('Больше всего отмен (',most_cancellations,') происходит на', cencel_day,'день.')"
   ]
  },
  {
   "cell_type": "markdown",
   "metadata": {},
   "source": [
    "#### total_of_special_requests"
   ]
  },
  {
   "cell_type": "code",
   "execution_count": 115,
   "metadata": {},
   "outputs": [
    {
     "data": {
      "image/png": "[encoded data removed]",
      "text/plain": [
       "<Figure size 1080x432 with 1 Axes>"
      ]
     },
     "metadata": {
      "needs_background": "light"
     },
     "output_type": "display_data"
    }
   ],
   "source": [
    "# построим график \n",
    "pd.crosstab(df_test_ohe['total_of_special_requests'], df_test_ohe['is_canceled']).plot.bar(figsize=(15, 6))\n",
    "\n",
    "plt.legend(['Подтвержден', 'Отменен'])\n",
    "plt.xlabel('Специальных отметок')\n",
    "plt.ylabel('Количество бронирований')\n",
    "\n",
    "plt.show()"
   ]
  },
  {
   "cell_type": "markdown",
   "metadata": {},
   "source": [
    "В пункте 2.1.22 было отмечено, что больше всего отмен с нулевым количеством специалных отметок. "
   ]
  },
  {
   "cell_type": "markdown",
   "metadata": {},
   "source": [
    "### Выводы"
   ]
  },
  {
   "cell_type": "markdown",
   "metadata": {},
   "source": [
    "Основные маркеры, отличающие ненадежного клиента это:\n",
    "\n",
    "0. ПОРТУГАЛЕЦ!\n",
    "1. каждый третий представитель этой страны;\n",
    "2. дата бронирования и датой прибытия почти 2 месяца;\n",
    "3. без спец требований."
   ]
  },
  {
   "cell_type": "markdown",
   "metadata": {},
   "source": [
    "<div class=\"alert alert-success\">\n",
    "<h2>Комментарий ревьюера<a class=\"tocSkip\"></a></h2>\n",
    "    \n",
    "**Отлично!** ✔️: вполне наглядный получился портрет :) Круто, что знаешь про важность признаков!</div>"
   ]
  },
  {
   "cell_type": "markdown",
   "metadata": {},
   "source": [
    "## Вывод"
   ]
  },
  {
   "cell_type": "markdown",
   "metadata": {},
   "source": [
    "### Опишим модель, которая решает задачу с наибольшей выгодой для бизнеса"
   ]
  },
  {
   "cell_type": "markdown",
   "metadata": {},
   "source": [
    "Среди трех рассмотренных моделей, лучше всех показала себя модель **Дерева решений** с параметрами class_weight='balanced', criterion='entropy',max_depth=49, random_state=1001. Результат на тестовой выборке составил: \n",
    "\n",
    "1. точность: 0.6741\n",
    "2. AUC-ROC: 0.6417\n",
    "3. F1-мера: 0.5400\n",
    "4. полнота: 0.4887\n",
    "\n",
    "Для минимизации убытков наилучшей метрикой бутет **Recall**, т.к. нам необходимо минимизировать ложноотрицательные ответы."
   ]
  },
  {
   "cell_type": "markdown",
   "metadata": {},
   "source": [
    "### Дадим бизнесу рекомендации по результатам проделанной работы"
   ]
  },
  {
   "cell_type": "markdown",
   "metadata": {},
   "source": [
    "При выборе потенциальных постояльцев с которых стоит брать депозитную предоплату необходимо строго следовать следующему скрипту: \n",
    "1. Каждый третий португальский паспорт брать в залог;\n",
    "2. не верить обещаниям, что ровно через два месяца приедут (скорее отменят бронь на 56 день);\n",
    "3. Если у клиента есть спец требования, значит он действительно намерян заселится."
   ]
  },
  {
   "cell_type": "markdown",
   "metadata": {},
   "source": [
    "<div style=\"padding: 20px 25px; border: 2px #6495ed solid\">\n",
    "    \n",
    "<h2 style=\"color: #87187D\">Итоговый комментарий ревьюера<a class=\"tocSkip\"></a></h2>\n",
    "\n",
    "Чистый и структурированный проект, спасибо, такие всегда приятно проверять :)\n",
    "\n",
    "Подробный анализ, наглядные графики, качественная работа с моделями, все супер!\n",
    "\n",
    "Осталось поправить расчет прибыли до внедрения модели и я смогу принять твою работу\n",
    "\n",
    "Остальные комментарии можно найти в проекте. Готов ответить на любые вопросы! Постараюсь проверить твою работу побыстрее :)\n",
    "\n",
    "<b>Жду доработанный проект на повторное ревью! Удачи!</b>\n",
    "        \n",
    "</div>"
   ]
  },
  {
   "cell_type": "markdown",
   "metadata": {},
   "source": [
    "<div style=\"padding: 20px 25px; border: 2px #6495ed solid\">\n",
    "    \n",
    "<h2 style=\"color: #87187D\">Итоговый комментарий ревьюера v2<a class=\"tocSkip\"></a></h2>\n",
    "\n",
    "Вот теперь то, что нужно!\n",
    "\n",
    "Все критичные замечания исправлены, и теперь я могу принять твою работу :)\n",
    "\n",
    "<b>Успехов в обучении!</b>\n",
    "        \n",
    "</div>"
   ]
  },
  {
   "cell_type": "code",
   "execution_count": null,
   "metadata": {},
   "outputs": [],
   "source": []
  }
 ],
 "metadata": {
  "ExecuteTimeLog": [
   {
    "duration": 1869,
    "start_time": "2022-12-19T07:52:16.608Z"
   },
   {
    "duration": 89,
    "start_time": "2022-12-19T07:52:20.339Z"
   },
   {
    "duration": 487,
    "start_time": "2022-12-19T07:52:24.207Z"
   },
   {
    "duration": 61,
    "start_time": "2022-12-19T07:52:39.738Z"
   },
   {
    "duration": 27,
    "start_time": "2022-12-19T07:53:03.102Z"
   },
   {
    "duration": 31,
    "start_time": "2022-12-19T07:53:27.780Z"
   },
   {
    "duration": 32,
    "start_time": "2022-12-19T07:53:37.827Z"
   },
   {
    "duration": 1372,
    "start_time": "2022-12-26T11:33:20.666Z"
   },
   {
    "duration": 1066,
    "start_time": "2022-12-26T11:33:25.642Z"
   },
   {
    "duration": 8,
    "start_time": "2022-12-26T11:33:28.093Z"
   },
   {
    "duration": 10,
    "start_time": "2022-12-26T11:34:24.296Z"
   },
   {
    "duration": 222,
    "start_time": "2022-12-26T11:34:36.095Z"
   },
   {
    "duration": 215,
    "start_time": "2022-12-26T11:34:38.284Z"
   },
   {
    "duration": 24,
    "start_time": "2022-12-26T11:34:41.132Z"
   },
   {
    "duration": 26,
    "start_time": "2022-12-26T11:37:09.609Z"
   },
   {
    "duration": 18,
    "start_time": "2022-12-26T11:37:10.124Z"
   },
   {
    "duration": 19,
    "start_time": "2022-12-26T11:37:32.161Z"
   },
   {
    "duration": 97,
    "start_time": "2022-12-26T11:37:41.219Z"
   },
   {
    "duration": 3,
    "start_time": "2022-12-26T11:38:58.427Z"
   },
   {
    "duration": 3,
    "start_time": "2022-12-26T11:38:59.505Z"
   },
   {
    "duration": 3,
    "start_time": "2022-12-26T11:39:01.998Z"
   },
   {
    "duration": 93,
    "start_time": "2022-12-26T11:39:32.831Z"
   },
   {
    "duration": 92,
    "start_time": "2022-12-26T11:42:37.902Z"
   },
   {
    "duration": 141,
    "start_time": "2022-12-26T11:42:46.875Z"
   },
   {
    "duration": 120,
    "start_time": "2022-12-26T11:44:42.564Z"
   },
   {
    "duration": 69,
    "start_time": "2022-12-26T11:45:50.601Z"
   },
   {
    "duration": 99,
    "start_time": "2022-12-26T11:45:56.296Z"
   },
   {
    "duration": 93,
    "start_time": "2022-12-26T11:47:01.800Z"
   },
   {
    "duration": 78,
    "start_time": "2022-12-26T11:47:05.686Z"
   },
   {
    "duration": 9,
    "start_time": "2022-12-26T11:52:21.487Z"
   },
   {
    "duration": 41,
    "start_time": "2022-12-26T12:23:43.157Z"
   },
   {
    "duration": 112,
    "start_time": "2022-12-26T12:24:35.429Z"
   },
   {
    "duration": 83,
    "start_time": "2022-12-26T12:24:58.266Z"
   },
   {
    "duration": 5,
    "start_time": "2022-12-26T12:50:02.056Z"
   },
   {
    "duration": 19,
    "start_time": "2022-12-26T12:50:02.064Z"
   },
   {
    "duration": 25,
    "start_time": "2022-12-26T12:50:02.085Z"
   },
   {
    "duration": 306,
    "start_time": "2022-12-26T12:50:02.112Z"
   },
   {
    "duration": 152,
    "start_time": "2022-12-26T12:50:02.421Z"
   },
   {
    "duration": 140,
    "start_time": "2022-12-26T12:50:02.576Z"
   },
   {
    "duration": 52,
    "start_time": "2022-12-27T10:59:09.581Z"
   },
   {
    "duration": 1470,
    "start_time": "2022-12-27T10:59:15.739Z"
   },
   {
    "duration": 3,
    "start_time": "2022-12-27T10:59:17.210Z"
   },
   {
    "duration": 9,
    "start_time": "2022-12-27T10:59:17.215Z"
   },
   {
    "duration": 415,
    "start_time": "2022-12-27T10:59:17.225Z"
   },
   {
    "duration": 117,
    "start_time": "2022-12-27T10:59:17.642Z"
   },
   {
    "duration": 93,
    "start_time": "2022-12-27T10:59:17.760Z"
   },
   {
    "duration": 101,
    "start_time": "2022-12-27T11:16:49.347Z"
   },
   {
    "duration": 8,
    "start_time": "2022-12-27T11:16:52.621Z"
   },
   {
    "duration": 9,
    "start_time": "2022-12-27T11:17:06.151Z"
   },
   {
    "duration": 29,
    "start_time": "2022-12-27T11:26:31.845Z"
   },
   {
    "duration": 70,
    "start_time": "2022-12-27T11:26:44.153Z"
   },
   {
    "duration": 48,
    "start_time": "2022-12-27T11:27:06.147Z"
   },
   {
    "duration": 39,
    "start_time": "2022-12-27T11:32:19.507Z"
   },
   {
    "duration": 63,
    "start_time": "2022-12-27T11:32:29.077Z"
   },
   {
    "duration": 13,
    "start_time": "2022-12-27T13:44:14.886Z"
   },
   {
    "duration": 27,
    "start_time": "2022-12-27T13:44:20.705Z"
   },
   {
    "duration": 63,
    "start_time": "2022-12-27T13:44:30.974Z"
   },
   {
    "duration": 31,
    "start_time": "2022-12-27T13:48:20.701Z"
   },
   {
    "duration": 8,
    "start_time": "2022-12-27T13:48:27.832Z"
   },
   {
    "duration": 16,
    "start_time": "2022-12-27T13:48:46.587Z"
   },
   {
    "duration": 7,
    "start_time": "2022-12-27T13:48:51.744Z"
   },
   {
    "duration": 16,
    "start_time": "2022-12-27T13:48:54.869Z"
   },
   {
    "duration": 13,
    "start_time": "2022-12-27T13:49:05.822Z"
   },
   {
    "duration": 32,
    "start_time": "2022-12-27T13:49:11.907Z"
   },
   {
    "duration": 10,
    "start_time": "2022-12-27T13:50:07.535Z"
   },
   {
    "duration": 8,
    "start_time": "2022-12-27T13:50:24.446Z"
   },
   {
    "duration": 35,
    "start_time": "2022-12-27T13:50:36.336Z"
   },
   {
    "duration": 8,
    "start_time": "2022-12-27T13:50:38.219Z"
   },
   {
    "duration": 30,
    "start_time": "2022-12-27T13:51:01.041Z"
   },
   {
    "duration": 9,
    "start_time": "2022-12-27T13:51:02.521Z"
   },
   {
    "duration": 3,
    "start_time": "2022-12-27T13:52:46.210Z"
   },
   {
    "duration": 3,
    "start_time": "2022-12-27T13:52:46.235Z"
   },
   {
    "duration": 7,
    "start_time": "2022-12-27T13:52:46.240Z"
   },
   {
    "duration": 214,
    "start_time": "2022-12-27T13:52:46.250Z"
   },
   {
    "duration": 135,
    "start_time": "2022-12-27T13:52:46.466Z"
   },
   {
    "duration": 119,
    "start_time": "2022-12-27T13:52:46.603Z"
   },
   {
    "duration": 73,
    "start_time": "2022-12-27T13:52:46.725Z"
   },
   {
    "duration": 25,
    "start_time": "2022-12-27T13:52:46.800Z"
   },
   {
    "duration": 23,
    "start_time": "2022-12-27T13:52:49.240Z"
   },
   {
    "duration": 5,
    "start_time": "2022-12-27T13:54:01.138Z"
   },
   {
    "duration": 53,
    "start_time": "2022-12-27T14:01:34.513Z"
   },
   {
    "duration": 25,
    "start_time": "2022-12-27T14:01:44.193Z"
   },
   {
    "duration": 48,
    "start_time": "2022-12-27T14:01:48.748Z"
   },
   {
    "duration": 28,
    "start_time": "2022-12-27T14:03:19.032Z"
   },
   {
    "duration": 10,
    "start_time": "2022-12-27T14:05:04.934Z"
   },
   {
    "duration": 56,
    "start_time": "2022-12-27T14:05:06.707Z"
   },
   {
    "duration": 28,
    "start_time": "2022-12-27T14:05:51.929Z"
   },
   {
    "duration": 61,
    "start_time": "2022-12-27T14:05:53.513Z"
   },
   {
    "duration": 803,
    "start_time": "2022-12-27T14:06:07.976Z"
   },
   {
    "duration": 3,
    "start_time": "2022-12-27T14:06:41.049Z"
   },
   {
    "duration": 2,
    "start_time": "2022-12-27T14:06:41.061Z"
   },
   {
    "duration": 2,
    "start_time": "2022-12-27T14:06:41.076Z"
   },
   {
    "duration": 200,
    "start_time": "2022-12-27T14:06:41.088Z"
   },
   {
    "duration": 129,
    "start_time": "2022-12-27T14:06:41.290Z"
   },
   {
    "duration": 116,
    "start_time": "2022-12-27T14:06:41.421Z"
   },
   {
    "duration": 64,
    "start_time": "2022-12-27T14:06:41.539Z"
   },
   {
    "duration": 22,
    "start_time": "2022-12-27T14:06:41.604Z"
   },
   {
    "duration": 9,
    "start_time": "2022-12-27T14:07:39.507Z"
   },
   {
    "duration": 5,
    "start_time": "2022-12-27T14:08:11.029Z"
   },
   {
    "duration": 237,
    "start_time": "2022-12-27T14:08:34.961Z"
   },
   {
    "duration": 227,
    "start_time": "2022-12-27T14:08:45.708Z"
   },
   {
    "duration": 145,
    "start_time": "2022-12-27T14:09:18.317Z"
   },
   {
    "duration": 211,
    "start_time": "2022-12-27T14:09:46.192Z"
   },
   {
    "duration": 150,
    "start_time": "2022-12-27T14:10:55.038Z"
   },
   {
    "duration": 242,
    "start_time": "2022-12-27T14:11:04.869Z"
   },
   {
    "duration": 53,
    "start_time": "2022-12-27T14:16:29.422Z"
   },
   {
    "duration": 36,
    "start_time": "2022-12-27T14:16:35.379Z"
   },
   {
    "duration": 1294,
    "start_time": "2022-12-27T14:17:27.285Z"
   },
   {
    "duration": 2,
    "start_time": "2022-12-27T14:17:28.581Z"
   },
   {
    "duration": 13,
    "start_time": "2022-12-27T14:17:28.584Z"
   },
   {
    "duration": 218,
    "start_time": "2022-12-27T14:17:28.599Z"
   },
   {
    "duration": 122,
    "start_time": "2022-12-27T14:17:28.818Z"
   },
   {
    "duration": 104,
    "start_time": "2022-12-27T14:17:28.941Z"
   },
   {
    "duration": 64,
    "start_time": "2022-12-27T14:17:29.048Z"
   },
   {
    "duration": 38,
    "start_time": "2022-12-27T14:17:29.114Z"
   },
   {
    "duration": 6,
    "start_time": "2022-12-27T14:17:29.153Z"
   },
   {
    "duration": 49,
    "start_time": "2022-12-27T14:18:11.528Z"
   },
   {
    "duration": 1349,
    "start_time": "2022-12-27T14:18:17.979Z"
   },
   {
    "duration": 3,
    "start_time": "2022-12-27T14:18:19.330Z"
   },
   {
    "duration": 8,
    "start_time": "2022-12-27T14:18:19.335Z"
   },
   {
    "duration": 227,
    "start_time": "2022-12-27T14:18:19.345Z"
   },
   {
    "duration": 126,
    "start_time": "2022-12-27T14:18:19.573Z"
   },
   {
    "duration": 103,
    "start_time": "2022-12-27T14:18:19.701Z"
   },
   {
    "duration": 57,
    "start_time": "2022-12-27T14:18:19.806Z"
   },
   {
    "duration": 48,
    "start_time": "2022-12-27T14:18:19.865Z"
   },
   {
    "duration": 5,
    "start_time": "2022-12-27T14:18:21.690Z"
   },
   {
    "duration": 113,
    "start_time": "2022-12-27T14:18:23.491Z"
   },
   {
    "duration": 4,
    "start_time": "2022-12-27T14:18:56.484Z"
   },
   {
    "duration": 153,
    "start_time": "2022-12-27T14:19:16.110Z"
   },
   {
    "duration": 4,
    "start_time": "2022-12-27T14:19:38.759Z"
   },
   {
    "duration": 151,
    "start_time": "2022-12-27T14:19:41.909Z"
   },
   {
    "duration": 154,
    "start_time": "2022-12-27T14:20:47.157Z"
   },
   {
    "duration": 153,
    "start_time": "2022-12-27T14:21:00.149Z"
   },
   {
    "duration": 142,
    "start_time": "2022-12-27T14:21:59.252Z"
   },
   {
    "duration": 324,
    "start_time": "2022-12-27T14:22:04.705Z"
   },
   {
    "duration": 144,
    "start_time": "2022-12-27T14:22:32.715Z"
   },
   {
    "duration": 148,
    "start_time": "2022-12-27T14:23:18.818Z"
   },
   {
    "duration": 171,
    "start_time": "2022-12-27T14:27:11.440Z"
   },
   {
    "duration": 149,
    "start_time": "2022-12-27T14:27:20.455Z"
   },
   {
    "duration": 27,
    "start_time": "2022-12-27T14:27:36.262Z"
   },
   {
    "duration": 165,
    "start_time": "2022-12-27T14:27:53.630Z"
   },
   {
    "duration": 141,
    "start_time": "2022-12-27T14:28:10.573Z"
   },
   {
    "duration": 164,
    "start_time": "2022-12-27T14:28:18.732Z"
   },
   {
    "duration": 156,
    "start_time": "2022-12-27T14:28:24.438Z"
   },
   {
    "duration": 139,
    "start_time": "2022-12-27T14:31:51.297Z"
   },
   {
    "duration": 130,
    "start_time": "2022-12-27T14:31:59.741Z"
   },
   {
    "duration": 251,
    "start_time": "2022-12-27T14:32:21.387Z"
   },
   {
    "duration": 148,
    "start_time": "2022-12-27T14:32:30.410Z"
   },
   {
    "duration": 29,
    "start_time": "2022-12-27T14:32:41.971Z"
   },
   {
    "duration": 27,
    "start_time": "2022-12-27T14:32:46.557Z"
   },
   {
    "duration": 132,
    "start_time": "2022-12-27T14:32:50.444Z"
   },
   {
    "duration": 150,
    "start_time": "2022-12-27T14:32:53.427Z"
   },
   {
    "duration": 147,
    "start_time": "2022-12-27T14:35:53.105Z"
   },
   {
    "duration": 143,
    "start_time": "2022-12-27T14:36:57.744Z"
   },
   {
    "duration": 132,
    "start_time": "2022-12-27T14:37:18.770Z"
   },
   {
    "duration": 155,
    "start_time": "2022-12-27T14:37:22.809Z"
   },
   {
    "duration": 12,
    "start_time": "2022-12-27T14:46:56.007Z"
   },
   {
    "duration": 11,
    "start_time": "2022-12-27T14:48:05.396Z"
   },
   {
    "duration": 10,
    "start_time": "2022-12-27T14:48:18.223Z"
   },
   {
    "duration": 10,
    "start_time": "2022-12-27T14:49:42.767Z"
   },
   {
    "duration": 10,
    "start_time": "2022-12-27T14:50:02.793Z"
   },
   {
    "duration": 10,
    "start_time": "2022-12-27T14:50:07.316Z"
   },
   {
    "duration": 10,
    "start_time": "2022-12-27T14:50:43.693Z"
   },
   {
    "duration": 6,
    "start_time": "2022-12-27T14:51:20.708Z"
   },
   {
    "duration": 7,
    "start_time": "2022-12-27T14:51:30.043Z"
   },
   {
    "duration": 9,
    "start_time": "2022-12-27T14:51:51.468Z"
   },
   {
    "duration": 9,
    "start_time": "2022-12-27T14:52:08.317Z"
   },
   {
    "duration": 9,
    "start_time": "2022-12-27T14:52:50.021Z"
   },
   {
    "duration": 10,
    "start_time": "2022-12-27T14:53:10.963Z"
   },
   {
    "duration": 4,
    "start_time": "2022-12-27T14:53:47.300Z"
   },
   {
    "duration": 3,
    "start_time": "2022-12-27T14:53:51.698Z"
   },
   {
    "duration": 12,
    "start_time": "2022-12-27T14:54:42.047Z"
   },
   {
    "duration": 10,
    "start_time": "2022-12-27T14:54:47.283Z"
   },
   {
    "duration": 7,
    "start_time": "2022-12-27T14:54:52.889Z"
   },
   {
    "duration": 10,
    "start_time": "2022-12-27T14:55:05.208Z"
   },
   {
    "duration": 14,
    "start_time": "2022-12-27T14:55:08.006Z"
   },
   {
    "duration": 9,
    "start_time": "2022-12-27T14:55:11.618Z"
   },
   {
    "duration": 6,
    "start_time": "2022-12-27T14:55:47.973Z"
   },
   {
    "duration": 5,
    "start_time": "2022-12-27T14:56:37.320Z"
   },
   {
    "duration": 6,
    "start_time": "2022-12-27T14:56:55.079Z"
   },
   {
    "duration": 1488,
    "start_time": "2022-12-27T18:44:00.445Z"
   },
   {
    "duration": 3,
    "start_time": "2022-12-27T18:44:01.935Z"
   },
   {
    "duration": 21,
    "start_time": "2022-12-27T18:44:01.940Z"
   },
   {
    "duration": 589,
    "start_time": "2022-12-27T18:44:01.963Z"
   },
   {
    "duration": 125,
    "start_time": "2022-12-27T18:44:02.554Z"
   },
   {
    "duration": 97,
    "start_time": "2022-12-27T18:44:02.680Z"
   },
   {
    "duration": 79,
    "start_time": "2022-12-27T18:44:02.779Z"
   },
   {
    "duration": 39,
    "start_time": "2022-12-27T18:44:02.859Z"
   },
   {
    "duration": 6,
    "start_time": "2022-12-27T18:44:02.899Z"
   },
   {
    "duration": 157,
    "start_time": "2022-12-27T18:44:02.920Z"
   },
   {
    "duration": 6,
    "start_time": "2022-12-27T18:47:58.449Z"
   },
   {
    "duration": 5029,
    "start_time": "2022-12-27T18:48:00.157Z"
   },
   {
    "duration": 5289,
    "start_time": "2022-12-27T18:48:14.035Z"
   },
   {
    "duration": 224,
    "start_time": "2022-12-27T18:48:43.743Z"
   },
   {
    "duration": 7,
    "start_time": "2022-12-27T18:57:38.842Z"
   },
   {
    "duration": 6,
    "start_time": "2022-12-27T18:57:47.312Z"
   },
   {
    "duration": 5219,
    "start_time": "2022-12-27T18:57:49.850Z"
   },
   {
    "duration": 9,
    "start_time": "2022-12-27T19:10:55.957Z"
   },
   {
    "duration": 8,
    "start_time": "2022-12-27T19:11:28.569Z"
   },
   {
    "duration": 5,
    "start_time": "2022-12-27T19:12:10.873Z"
   },
   {
    "duration": 4,
    "start_time": "2022-12-27T19:12:12.112Z"
   },
   {
    "duration": 4,
    "start_time": "2022-12-27T19:12:27.329Z"
   },
   {
    "duration": 5,
    "start_time": "2022-12-27T19:12:53.007Z"
   },
   {
    "duration": 4,
    "start_time": "2022-12-27T19:13:03.255Z"
   },
   {
    "duration": 10,
    "start_time": "2022-12-27T19:13:18.544Z"
   },
   {
    "duration": 8,
    "start_time": "2022-12-27T19:14:27.118Z"
   },
   {
    "duration": 3,
    "start_time": "2022-12-27T19:15:18.143Z"
   },
   {
    "duration": 3,
    "start_time": "2022-12-27T19:15:20.852Z"
   },
   {
    "duration": 9,
    "start_time": "2022-12-27T19:17:50.447Z"
   },
   {
    "duration": 3,
    "start_time": "2022-12-27T19:17:58.227Z"
   },
   {
    "duration": 5,
    "start_time": "2022-12-27T19:18:02.845Z"
   },
   {
    "duration": 4752,
    "start_time": "2022-12-27T19:19:26.058Z"
   },
   {
    "duration": 9,
    "start_time": "2022-12-27T19:22:04.095Z"
   },
   {
    "duration": 5,
    "start_time": "2022-12-27T19:22:17.106Z"
   },
   {
    "duration": 132,
    "start_time": "2022-12-27T19:31:23.780Z"
   },
   {
    "duration": 150,
    "start_time": "2022-12-27T19:31:37.028Z"
   },
   {
    "duration": 5037,
    "start_time": "2022-12-27T19:38:16.280Z"
   },
   {
    "duration": 136,
    "start_time": "2022-12-27T19:38:41.877Z"
   },
   {
    "duration": 4832,
    "start_time": "2022-12-27T19:40:39.775Z"
   },
   {
    "duration": 4902,
    "start_time": "2022-12-27T19:48:23.561Z"
   },
   {
    "duration": 5,
    "start_time": "2022-12-27T19:52:47.676Z"
   },
   {
    "duration": 9,
    "start_time": "2022-12-27T19:53:00.505Z"
   },
   {
    "duration": 5,
    "start_time": "2022-12-27T19:53:05.034Z"
   },
   {
    "duration": 6,
    "start_time": "2022-12-27T19:54:06.479Z"
   },
   {
    "duration": 5,
    "start_time": "2022-12-27T19:54:11.199Z"
   },
   {
    "duration": 6,
    "start_time": "2022-12-27T19:54:14.967Z"
   },
   {
    "duration": 5,
    "start_time": "2022-12-27T19:54:22.436Z"
   },
   {
    "duration": 5,
    "start_time": "2022-12-27T19:54:28.367Z"
   },
   {
    "duration": 5,
    "start_time": "2022-12-27T19:54:33.245Z"
   },
   {
    "duration": 4,
    "start_time": "2022-12-27T19:54:38.465Z"
   },
   {
    "duration": 4,
    "start_time": "2022-12-27T19:54:43.225Z"
   },
   {
    "duration": 5,
    "start_time": "2022-12-27T19:54:46.595Z"
   },
   {
    "duration": 5,
    "start_time": "2022-12-27T19:54:49.907Z"
   },
   {
    "duration": 5,
    "start_time": "2022-12-27T19:54:53.955Z"
   },
   {
    "duration": 4,
    "start_time": "2022-12-27T19:54:57.923Z"
   },
   {
    "duration": 1578,
    "start_time": "2022-12-28T12:49:56.742Z"
   },
   {
    "duration": 3,
    "start_time": "2022-12-28T12:49:58.322Z"
   },
   {
    "duration": 28,
    "start_time": "2022-12-28T12:49:58.326Z"
   },
   {
    "duration": 845,
    "start_time": "2022-12-28T12:49:58.357Z"
   },
   {
    "duration": 129,
    "start_time": "2022-12-28T12:49:59.203Z"
   },
   {
    "duration": 109,
    "start_time": "2022-12-28T12:49:59.333Z"
   },
   {
    "duration": 59,
    "start_time": "2022-12-28T12:49:59.443Z"
   },
   {
    "duration": 51,
    "start_time": "2022-12-28T12:49:59.503Z"
   },
   {
    "duration": 5,
    "start_time": "2022-12-28T12:49:59.556Z"
   },
   {
    "duration": 184,
    "start_time": "2022-12-28T12:49:59.563Z"
   },
   {
    "duration": 5,
    "start_time": "2022-12-28T12:49:59.748Z"
   },
   {
    "duration": 14,
    "start_time": "2022-12-28T12:49:59.754Z"
   },
   {
    "duration": 9,
    "start_time": "2022-12-28T12:49:59.770Z"
   },
   {
    "duration": 9,
    "start_time": "2022-12-28T12:57:30.314Z"
   },
   {
    "duration": 5,
    "start_time": "2022-12-28T12:59:26.908Z"
   },
   {
    "duration": 260,
    "start_time": "2022-12-28T13:02:21.512Z"
   },
   {
    "duration": 229,
    "start_time": "2022-12-28T13:02:41.326Z"
   },
   {
    "duration": 47,
    "start_time": "2022-12-28T13:07:46.664Z"
   },
   {
    "duration": 20,
    "start_time": "2022-12-28T13:08:06.487Z"
   },
   {
    "duration": 80,
    "start_time": "2022-12-28T13:09:34.962Z"
   },
   {
    "duration": 20,
    "start_time": "2022-12-28T13:09:47.326Z"
   },
   {
    "duration": 3,
    "start_time": "2022-12-28T13:10:39.385Z"
   },
   {
    "duration": 20,
    "start_time": "2022-12-28T13:10:44.711Z"
   },
   {
    "duration": 200,
    "start_time": "2022-12-28T13:31:55.753Z"
   },
   {
    "duration": 4,
    "start_time": "2022-12-28T13:43:33.413Z"
   },
   {
    "duration": 6,
    "start_time": "2022-12-28T13:43:33.419Z"
   },
   {
    "duration": 5,
    "start_time": "2022-12-28T13:43:33.428Z"
   },
   {
    "duration": 238,
    "start_time": "2022-12-28T13:43:33.447Z"
   },
   {
    "duration": 128,
    "start_time": "2022-12-28T13:43:33.687Z"
   },
   {
    "duration": 122,
    "start_time": "2022-12-28T13:43:33.816Z"
   },
   {
    "duration": 51,
    "start_time": "2022-12-28T13:43:33.940Z"
   },
   {
    "duration": 46,
    "start_time": "2022-12-28T13:43:33.992Z"
   },
   {
    "duration": 4,
    "start_time": "2022-12-28T13:43:34.040Z"
   },
   {
    "duration": 26,
    "start_time": "2022-12-28T13:43:34.045Z"
   },
   {
    "duration": 17,
    "start_time": "2022-12-28T13:43:34.074Z"
   },
   {
    "duration": 21,
    "start_time": "2022-12-28T13:43:34.093Z"
   },
   {
    "duration": 213,
    "start_time": "2022-12-28T13:43:34.117Z"
   },
   {
    "duration": 8,
    "start_time": "2022-12-28T13:43:34.332Z"
   },
   {
    "duration": 59,
    "start_time": "2022-12-28T13:43:34.341Z"
   },
   {
    "duration": 4,
    "start_time": "2022-12-28T13:43:34.401Z"
   },
   {
    "duration": 3,
    "start_time": "2022-12-28T13:43:36.117Z"
   },
   {
    "duration": 257,
    "start_time": "2022-12-28T13:43:36.815Z"
   },
   {
    "duration": 6,
    "start_time": "2022-12-28T13:46:11.919Z"
   },
   {
    "duration": 119,
    "start_time": "2022-12-28T13:46:28.992Z"
   },
   {
    "duration": 11,
    "start_time": "2022-12-28T13:46:32.674Z"
   },
   {
    "duration": 14,
    "start_time": "2022-12-28T13:46:51.628Z"
   },
   {
    "duration": 137,
    "start_time": "2022-12-28T13:47:26.586Z"
   },
   {
    "duration": 148,
    "start_time": "2022-12-28T13:47:55.174Z"
   },
   {
    "duration": 10,
    "start_time": "2022-12-28T13:48:58.714Z"
   },
   {
    "duration": 199,
    "start_time": "2022-12-28T13:49:06.455Z"
   },
   {
    "duration": 161,
    "start_time": "2022-12-28T13:49:36.471Z"
   },
   {
    "duration": 166,
    "start_time": "2022-12-28T13:49:50.994Z"
   },
   {
    "duration": 162,
    "start_time": "2022-12-28T13:50:00.442Z"
   },
   {
    "duration": 17,
    "start_time": "2022-12-28T13:53:55.299Z"
   },
   {
    "duration": 21,
    "start_time": "2022-12-28T13:54:00.646Z"
   },
   {
    "duration": 147,
    "start_time": "2022-12-28T13:55:14.420Z"
   },
   {
    "duration": 1256,
    "start_time": "2022-12-28T13:56:02.629Z"
   },
   {
    "duration": 1143,
    "start_time": "2022-12-28T13:56:23.913Z"
   },
   {
    "duration": 137,
    "start_time": "2022-12-28T13:56:40.221Z"
   },
   {
    "duration": 16,
    "start_time": "2022-12-28T13:57:53.295Z"
   },
   {
    "duration": 8,
    "start_time": "2022-12-28T13:58:02.195Z"
   },
   {
    "duration": 21,
    "start_time": "2022-12-28T13:58:04.695Z"
   },
   {
    "duration": 3,
    "start_time": "2022-12-28T13:58:31.358Z"
   },
   {
    "duration": 14,
    "start_time": "2022-12-28T13:58:31.373Z"
   },
   {
    "duration": 18,
    "start_time": "2022-12-28T13:58:31.394Z"
   },
   {
    "duration": 234,
    "start_time": "2022-12-28T13:58:31.414Z"
   },
   {
    "duration": 133,
    "start_time": "2022-12-28T13:58:31.650Z"
   },
   {
    "duration": 120,
    "start_time": "2022-12-28T13:58:31.784Z"
   },
   {
    "duration": 60,
    "start_time": "2022-12-28T13:58:31.906Z"
   },
   {
    "duration": 31,
    "start_time": "2022-12-28T13:58:31.968Z"
   },
   {
    "duration": 25,
    "start_time": "2022-12-28T13:58:32.001Z"
   },
   {
    "duration": 8,
    "start_time": "2022-12-28T13:58:32.028Z"
   },
   {
    "duration": 8,
    "start_time": "2022-12-28T13:58:32.037Z"
   },
   {
    "duration": 8,
    "start_time": "2022-12-28T13:58:32.047Z"
   },
   {
    "duration": 175,
    "start_time": "2022-12-28T13:58:32.057Z"
   },
   {
    "duration": 9,
    "start_time": "2022-12-28T13:58:32.234Z"
   },
   {
    "duration": 45,
    "start_time": "2022-12-28T13:58:32.244Z"
   },
   {
    "duration": 4,
    "start_time": "2022-12-28T13:58:32.291Z"
   },
   {
    "duration": 201,
    "start_time": "2022-12-28T13:58:32.297Z"
   },
   {
    "duration": 10,
    "start_time": "2022-12-28T13:58:32.500Z"
   },
   {
    "duration": 229,
    "start_time": "2022-12-28T13:58:32.522Z"
   },
   {
    "duration": 17,
    "start_time": "2022-12-28T13:58:32.753Z"
   },
   {
    "duration": 10,
    "start_time": "2022-12-28T13:58:32.773Z"
   },
   {
    "duration": 163,
    "start_time": "2022-12-28T13:58:32.785Z"
   },
   {
    "duration": 153,
    "start_time": "2022-12-28T14:07:14.270Z"
   },
   {
    "duration": 3,
    "start_time": "2022-12-28T14:07:20.302Z"
   },
   {
    "duration": 142,
    "start_time": "2022-12-28T14:07:23.663Z"
   },
   {
    "duration": 143,
    "start_time": "2022-12-28T14:07:39.695Z"
   },
   {
    "duration": 148,
    "start_time": "2022-12-28T14:07:56.521Z"
   },
   {
    "duration": 140,
    "start_time": "2022-12-28T14:08:12.593Z"
   },
   {
    "duration": 11,
    "start_time": "2022-12-28T14:08:47.309Z"
   },
   {
    "duration": 10,
    "start_time": "2022-12-28T14:08:51.284Z"
   },
   {
    "duration": 10,
    "start_time": "2022-12-28T14:09:07.599Z"
   },
   {
    "duration": 167,
    "start_time": "2022-12-28T14:09:11.318Z"
   },
   {
    "duration": 163,
    "start_time": "2022-12-28T14:09:18.590Z"
   },
   {
    "duration": 145,
    "start_time": "2022-12-28T14:09:26.192Z"
   },
   {
    "duration": 10,
    "start_time": "2022-12-28T14:18:13.388Z"
   },
   {
    "duration": 7,
    "start_time": "2022-12-28T14:32:41.657Z"
   },
   {
    "duration": 13,
    "start_time": "2022-12-28T14:33:14.133Z"
   },
   {
    "duration": 6,
    "start_time": "2022-12-28T14:33:37.627Z"
   },
   {
    "duration": 71,
    "start_time": "2022-12-28T14:33:51.555Z"
   },
   {
    "duration": 6,
    "start_time": "2022-12-28T14:33:56.786Z"
   },
   {
    "duration": 6,
    "start_time": "2022-12-28T14:34:07.295Z"
   },
   {
    "duration": 6,
    "start_time": "2022-12-28T14:34:22.673Z"
   },
   {
    "duration": 6,
    "start_time": "2022-12-28T14:34:31.136Z"
   },
   {
    "duration": 6,
    "start_time": "2022-12-28T14:35:10.071Z"
   },
   {
    "duration": 6,
    "start_time": "2022-12-28T14:35:15.295Z"
   },
   {
    "duration": 5,
    "start_time": "2022-12-28T14:38:06.590Z"
   },
   {
    "duration": 5,
    "start_time": "2022-12-28T14:38:13.380Z"
   },
   {
    "duration": 3,
    "start_time": "2022-12-28T14:39:31.228Z"
   },
   {
    "duration": 3,
    "start_time": "2022-12-28T14:39:36.418Z"
   },
   {
    "duration": 3,
    "start_time": "2022-12-28T14:39:45.180Z"
   },
   {
    "duration": 3,
    "start_time": "2022-12-28T14:39:55.180Z"
   },
   {
    "duration": 13,
    "start_time": "2022-12-28T14:40:34.138Z"
   },
   {
    "duration": 5,
    "start_time": "2022-12-28T14:41:04.595Z"
   },
   {
    "duration": 9,
    "start_time": "2022-12-28T14:42:21.335Z"
   },
   {
    "duration": 10,
    "start_time": "2022-12-28T14:42:50.981Z"
   },
   {
    "duration": 20,
    "start_time": "2022-12-28T14:43:07.507Z"
   },
   {
    "duration": 3,
    "start_time": "2022-12-28T14:43:39.040Z"
   },
   {
    "duration": 2,
    "start_time": "2022-12-28T14:43:39.064Z"
   },
   {
    "duration": 5,
    "start_time": "2022-12-28T14:43:39.070Z"
   },
   {
    "duration": 222,
    "start_time": "2022-12-28T14:43:39.091Z"
   },
   {
    "duration": 126,
    "start_time": "2022-12-28T14:43:39.316Z"
   },
   {
    "duration": 114,
    "start_time": "2022-12-28T14:43:39.444Z"
   },
   {
    "duration": 62,
    "start_time": "2022-12-28T14:43:39.560Z"
   },
   {
    "duration": 26,
    "start_time": "2022-12-28T14:43:39.624Z"
   },
   {
    "duration": 5,
    "start_time": "2022-12-28T14:43:39.652Z"
   },
   {
    "duration": 8,
    "start_time": "2022-12-28T14:43:39.658Z"
   },
   {
    "duration": 8,
    "start_time": "2022-12-28T14:43:39.667Z"
   },
   {
    "duration": 10,
    "start_time": "2022-12-28T14:43:39.676Z"
   },
   {
    "duration": 184,
    "start_time": "2022-12-28T14:43:39.688Z"
   },
   {
    "duration": 8,
    "start_time": "2022-12-28T14:43:39.874Z"
   },
   {
    "duration": 64,
    "start_time": "2022-12-28T14:43:39.884Z"
   },
   {
    "duration": 4,
    "start_time": "2022-12-28T14:43:39.949Z"
   },
   {
    "duration": 286,
    "start_time": "2022-12-28T14:43:39.954Z"
   },
   {
    "duration": 11,
    "start_time": "2022-12-28T14:43:40.242Z"
   },
   {
    "duration": 164,
    "start_time": "2022-12-28T14:43:40.255Z"
   },
   {
    "duration": 17,
    "start_time": "2022-12-28T14:43:40.422Z"
   },
   {
    "duration": 10,
    "start_time": "2022-12-28T14:43:40.440Z"
   },
   {
    "duration": 153,
    "start_time": "2022-12-28T14:43:40.451Z"
   },
   {
    "duration": 18,
    "start_time": "2022-12-28T14:43:40.606Z"
   },
   {
    "duration": 14,
    "start_time": "2022-12-28T14:43:40.627Z"
   },
   {
    "duration": 10,
    "start_time": "2022-12-28T14:43:40.643Z"
   },
   {
    "duration": 6,
    "start_time": "2022-12-28T14:43:40.655Z"
   },
   {
    "duration": 13,
    "start_time": "2022-12-28T14:43:40.662Z"
   },
   {
    "duration": 16,
    "start_time": "2022-12-28T14:43:47.872Z"
   },
   {
    "duration": 70,
    "start_time": "2022-12-28T14:48:47.777Z"
   },
   {
    "duration": 80,
    "start_time": "2022-12-28T14:48:53.470Z"
   },
   {
    "duration": 11,
    "start_time": "2022-12-28T14:48:56.699Z"
   },
   {
    "duration": 15,
    "start_time": "2022-12-28T14:49:25.317Z"
   },
   {
    "duration": 188,
    "start_time": "2022-12-28T14:49:41.464Z"
   },
   {
    "duration": 4,
    "start_time": "2022-12-28T14:50:37.147Z"
   },
   {
    "duration": 5,
    "start_time": "2022-12-28T14:50:38.107Z"
   },
   {
    "duration": 212,
    "start_time": "2022-12-28T14:51:20.068Z"
   },
   {
    "duration": 263,
    "start_time": "2022-12-28T14:52:23.010Z"
   },
   {
    "duration": 245,
    "start_time": "2022-12-28T14:52:29.578Z"
   },
   {
    "duration": 182,
    "start_time": "2022-12-28T14:52:36.434Z"
   },
   {
    "duration": 196,
    "start_time": "2022-12-28T14:52:45.785Z"
   },
   {
    "duration": 1186,
    "start_time": "2022-12-28T14:53:00.939Z"
   },
   {
    "duration": 1287,
    "start_time": "2022-12-28T14:53:14.010Z"
   },
   {
    "duration": 221,
    "start_time": "2022-12-28T14:53:28.899Z"
   },
   {
    "duration": 4,
    "start_time": "2022-12-28T14:53:53.974Z"
   },
   {
    "duration": 4,
    "start_time": "2022-12-28T14:53:53.987Z"
   },
   {
    "duration": 9,
    "start_time": "2022-12-28T14:53:54.002Z"
   },
   {
    "duration": 328,
    "start_time": "2022-12-28T14:53:54.019Z"
   },
   {
    "duration": 153,
    "start_time": "2022-12-28T14:53:54.350Z"
   },
   {
    "duration": 123,
    "start_time": "2022-12-28T14:53:54.504Z"
   },
   {
    "duration": 48,
    "start_time": "2022-12-28T14:53:54.629Z"
   },
   {
    "duration": 43,
    "start_time": "2022-12-28T14:53:54.679Z"
   },
   {
    "duration": 5,
    "start_time": "2022-12-28T14:53:54.724Z"
   },
   {
    "duration": 21,
    "start_time": "2022-12-28T14:53:54.731Z"
   },
   {
    "duration": 9,
    "start_time": "2022-12-28T14:53:54.754Z"
   },
   {
    "duration": 19,
    "start_time": "2022-12-28T14:53:54.767Z"
   },
   {
    "duration": 184,
    "start_time": "2022-12-28T14:53:54.788Z"
   },
   {
    "duration": 8,
    "start_time": "2022-12-28T14:53:54.974Z"
   },
   {
    "duration": 71,
    "start_time": "2022-12-28T14:53:54.983Z"
   },
   {
    "duration": 3,
    "start_time": "2022-12-28T14:53:55.056Z"
   },
   {
    "duration": 324,
    "start_time": "2022-12-28T14:53:55.061Z"
   },
   {
    "duration": 10,
    "start_time": "2022-12-28T14:53:55.387Z"
   },
   {
    "duration": 185,
    "start_time": "2022-12-28T14:53:55.398Z"
   },
   {
    "duration": 17,
    "start_time": "2022-12-28T14:53:55.585Z"
   },
   {
    "duration": 27,
    "start_time": "2022-12-28T14:53:55.603Z"
   },
   {
    "duration": 164,
    "start_time": "2022-12-28T14:53:55.631Z"
   },
   {
    "duration": 11,
    "start_time": "2022-12-28T14:53:55.797Z"
   },
   {
    "duration": 29,
    "start_time": "2022-12-28T14:53:55.823Z"
   },
   {
    "duration": 17,
    "start_time": "2022-12-28T14:53:55.855Z"
   },
   {
    "duration": 19,
    "start_time": "2022-12-28T14:53:55.874Z"
   },
   {
    "duration": 29,
    "start_time": "2022-12-28T14:53:55.895Z"
   },
   {
    "duration": 22,
    "start_time": "2022-12-28T14:53:55.927Z"
   },
   {
    "duration": 10,
    "start_time": "2022-12-28T14:53:55.951Z"
   },
   {
    "duration": 24,
    "start_time": "2022-12-28T14:53:55.963Z"
   },
   {
    "duration": 15,
    "start_time": "2022-12-28T14:55:34.314Z"
   },
   {
    "duration": 1837,
    "start_time": "2022-12-29T08:40:12.781Z"
   },
   {
    "duration": 3,
    "start_time": "2022-12-29T08:40:14.620Z"
   },
   {
    "duration": 7,
    "start_time": "2022-12-29T08:40:14.624Z"
   },
   {
    "duration": 867,
    "start_time": "2022-12-29T08:40:14.633Z"
   },
   {
    "duration": 134,
    "start_time": "2022-12-29T08:40:15.501Z"
   },
   {
    "duration": 127,
    "start_time": "2022-12-29T08:40:15.637Z"
   },
   {
    "duration": 109,
    "start_time": "2022-12-29T08:40:15.767Z"
   },
   {
    "duration": 51,
    "start_time": "2022-12-29T08:40:15.881Z"
   },
   {
    "duration": 6,
    "start_time": "2022-12-29T08:40:15.934Z"
   },
   {
    "duration": 5,
    "start_time": "2022-12-29T08:40:15.942Z"
   },
   {
    "duration": 8,
    "start_time": "2022-12-29T08:40:15.949Z"
   },
   {
    "duration": 6,
    "start_time": "2022-12-29T08:40:15.958Z"
   },
   {
    "duration": 223,
    "start_time": "2022-12-29T08:40:15.966Z"
   },
   {
    "duration": 17,
    "start_time": "2022-12-29T08:40:16.191Z"
   },
   {
    "duration": 58,
    "start_time": "2022-12-29T08:40:16.209Z"
   },
   {
    "duration": 3,
    "start_time": "2022-12-29T08:40:16.269Z"
   },
   {
    "duration": 200,
    "start_time": "2022-12-29T08:40:16.274Z"
   },
   {
    "duration": 10,
    "start_time": "2022-12-29T08:40:16.476Z"
   },
   {
    "duration": 181,
    "start_time": "2022-12-29T08:40:16.487Z"
   },
   {
    "duration": 17,
    "start_time": "2022-12-29T08:40:16.670Z"
   },
   {
    "duration": 24,
    "start_time": "2022-12-29T08:40:16.689Z"
   },
   {
    "duration": 157,
    "start_time": "2022-12-29T08:40:16.714Z"
   },
   {
    "duration": 10,
    "start_time": "2022-12-29T08:40:16.873Z"
   },
   {
    "duration": 26,
    "start_time": "2022-12-29T08:40:16.886Z"
   },
   {
    "duration": 9,
    "start_time": "2022-12-29T08:40:16.914Z"
   },
   {
    "duration": 6,
    "start_time": "2022-12-29T08:40:16.925Z"
   },
   {
    "duration": 9,
    "start_time": "2022-12-29T08:40:16.933Z"
   },
   {
    "duration": 5,
    "start_time": "2022-12-29T08:44:58.964Z"
   },
   {
    "duration": 7,
    "start_time": "2022-12-29T08:45:01.507Z"
   },
   {
    "duration": 169,
    "start_time": "2022-12-29T09:08:50.278Z"
   },
   {
    "duration": 76,
    "start_time": "2022-12-29T09:23:42.038Z"
   },
   {
    "duration": 104,
    "start_time": "2022-12-29T09:23:47.012Z"
   },
   {
    "duration": 5,
    "start_time": "2022-12-29T09:23:57.987Z"
   },
   {
    "duration": 4,
    "start_time": "2022-12-29T09:24:53.609Z"
   },
   {
    "duration": 137,
    "start_time": "2022-12-29T09:25:36.688Z"
   },
   {
    "duration": 32,
    "start_time": "2022-12-29T09:25:49.251Z"
   },
   {
    "duration": 8,
    "start_time": "2022-12-29T09:25:56.141Z"
   },
   {
    "duration": 18,
    "start_time": "2022-12-29T09:25:58.937Z"
   },
   {
    "duration": 187,
    "start_time": "2022-12-29T09:26:28.160Z"
   },
   {
    "duration": 5,
    "start_time": "2022-12-29T09:26:35.500Z"
   },
   {
    "duration": 22,
    "start_time": "2022-12-29T09:26:35.514Z"
   },
   {
    "duration": 28,
    "start_time": "2022-12-29T09:26:35.539Z"
   },
   {
    "duration": 324,
    "start_time": "2022-12-29T09:26:35.570Z"
   },
   {
    "duration": 130,
    "start_time": "2022-12-29T09:26:35.895Z"
   },
   {
    "duration": 110,
    "start_time": "2022-12-29T09:26:36.027Z"
   },
   {
    "duration": 71,
    "start_time": "2022-12-29T09:26:36.139Z"
   },
   {
    "duration": 30,
    "start_time": "2022-12-29T09:26:36.211Z"
   },
   {
    "duration": 5,
    "start_time": "2022-12-29T09:26:36.243Z"
   },
   {
    "duration": 24,
    "start_time": "2022-12-29T09:26:36.249Z"
   },
   {
    "duration": 36,
    "start_time": "2022-12-29T09:26:36.275Z"
   },
   {
    "duration": 26,
    "start_time": "2022-12-29T09:26:36.313Z"
   },
   {
    "duration": 207,
    "start_time": "2022-12-29T09:26:36.341Z"
   },
   {
    "duration": 8,
    "start_time": "2022-12-29T09:26:36.550Z"
   },
   {
    "duration": 79,
    "start_time": "2022-12-29T09:26:36.559Z"
   },
   {
    "duration": 4,
    "start_time": "2022-12-29T09:26:36.639Z"
   },
   {
    "duration": 222,
    "start_time": "2022-12-29T09:26:36.644Z"
   },
   {
    "duration": 9,
    "start_time": "2022-12-29T09:26:36.867Z"
   },
   {
    "duration": 174,
    "start_time": "2022-12-29T09:26:36.878Z"
   },
   {
    "duration": 17,
    "start_time": "2022-12-29T09:26:37.054Z"
   },
   {
    "duration": 42,
    "start_time": "2022-12-29T09:26:37.074Z"
   },
   {
    "duration": 184,
    "start_time": "2022-12-29T09:26:37.118Z"
   },
   {
    "duration": 15,
    "start_time": "2022-12-29T09:26:37.304Z"
   },
   {
    "duration": 40,
    "start_time": "2022-12-29T09:26:37.321Z"
   },
   {
    "duration": 32,
    "start_time": "2022-12-29T09:26:37.364Z"
   },
   {
    "duration": 43,
    "start_time": "2022-12-29T09:26:37.399Z"
   },
   {
    "duration": 65,
    "start_time": "2022-12-29T09:26:37.444Z"
   },
   {
    "duration": 48,
    "start_time": "2022-12-29T09:26:37.513Z"
   },
   {
    "duration": 20,
    "start_time": "2022-12-29T09:26:37.563Z"
   },
   {
    "duration": 11,
    "start_time": "2022-12-29T09:26:37.586Z"
   },
   {
    "duration": 5,
    "start_time": "2022-12-29T09:26:40.190Z"
   },
   {
    "duration": 17,
    "start_time": "2022-12-29T09:26:41.741Z"
   },
   {
    "duration": 175,
    "start_time": "2022-12-29T09:26:43.837Z"
   },
   {
    "duration": 53,
    "start_time": "2022-12-29T09:26:47.765Z"
   },
   {
    "duration": 5,
    "start_time": "2022-12-29T09:26:55.393Z"
   },
   {
    "duration": 35,
    "start_time": "2022-12-29T09:28:28.767Z"
   },
   {
    "duration": 4,
    "start_time": "2022-12-29T09:29:54.461Z"
   },
   {
    "duration": 6,
    "start_time": "2022-12-29T09:29:55.307Z"
   },
   {
    "duration": 5,
    "start_time": "2022-12-29T09:30:01.562Z"
   },
   {
    "duration": 169,
    "start_time": "2022-12-29T09:30:29.246Z"
   },
   {
    "duration": 77,
    "start_time": "2022-12-29T09:31:02.221Z"
   },
   {
    "duration": 4,
    "start_time": "2022-12-29T09:31:28.307Z"
   },
   {
    "duration": 4,
    "start_time": "2022-12-29T09:31:43.958Z"
   },
   {
    "duration": 6,
    "start_time": "2022-12-29T09:31:45.044Z"
   },
   {
    "duration": 11,
    "start_time": "2022-12-29T09:40:01.255Z"
   },
   {
    "duration": 4,
    "start_time": "2022-12-29T09:42:23.245Z"
   },
   {
    "duration": 9,
    "start_time": "2022-12-29T09:42:23.257Z"
   },
   {
    "duration": 12,
    "start_time": "2022-12-29T09:42:23.274Z"
   },
   {
    "duration": 223,
    "start_time": "2022-12-29T09:42:23.293Z"
   },
   {
    "duration": 139,
    "start_time": "2022-12-29T09:42:23.522Z"
   },
   {
    "duration": 150,
    "start_time": "2022-12-29T09:42:23.663Z"
   },
   {
    "duration": 61,
    "start_time": "2022-12-29T09:42:23.821Z"
   },
   {
    "duration": 44,
    "start_time": "2022-12-29T09:42:23.884Z"
   },
   {
    "duration": 5,
    "start_time": "2022-12-29T09:42:23.930Z"
   },
   {
    "duration": 23,
    "start_time": "2022-12-29T09:42:23.936Z"
   },
   {
    "duration": 29,
    "start_time": "2022-12-29T09:42:23.961Z"
   },
   {
    "duration": 42,
    "start_time": "2022-12-29T09:42:23.992Z"
   },
   {
    "duration": 257,
    "start_time": "2022-12-29T09:42:24.037Z"
   },
   {
    "duration": 25,
    "start_time": "2022-12-29T09:42:24.296Z"
   },
   {
    "duration": 65,
    "start_time": "2022-12-29T09:42:24.324Z"
   },
   {
    "duration": 3,
    "start_time": "2022-12-29T09:42:24.391Z"
   },
   {
    "duration": 257,
    "start_time": "2022-12-29T09:42:24.396Z"
   },
   {
    "duration": 11,
    "start_time": "2022-12-29T09:42:24.654Z"
   },
   {
    "duration": 176,
    "start_time": "2022-12-29T09:42:24.667Z"
   },
   {
    "duration": 18,
    "start_time": "2022-12-29T09:42:24.845Z"
   },
   {
    "duration": 10,
    "start_time": "2022-12-29T09:42:24.865Z"
   },
   {
    "duration": 180,
    "start_time": "2022-12-29T09:42:24.877Z"
   },
   {
    "duration": 15,
    "start_time": "2022-12-29T09:42:25.059Z"
   },
   {
    "duration": 18,
    "start_time": "2022-12-29T09:42:25.076Z"
   },
   {
    "duration": 30,
    "start_time": "2022-12-29T09:42:25.096Z"
   },
   {
    "duration": 16,
    "start_time": "2022-12-29T09:42:25.128Z"
   },
   {
    "duration": 17,
    "start_time": "2022-12-29T09:42:25.146Z"
   },
   {
    "duration": 14,
    "start_time": "2022-12-29T09:42:25.164Z"
   },
   {
    "duration": 16,
    "start_time": "2022-12-29T09:42:25.180Z"
   },
   {
    "duration": 47,
    "start_time": "2022-12-29T09:42:25.199Z"
   },
   {
    "duration": 23,
    "start_time": "2022-12-29T09:42:25.250Z"
   },
   {
    "duration": 259,
    "start_time": "2022-12-29T09:42:25.275Z"
   },
   {
    "duration": 5,
    "start_time": "2022-12-29T09:42:25.536Z"
   },
   {
    "duration": 12,
    "start_time": "2022-12-29T09:42:25.542Z"
   },
   {
    "duration": 209,
    "start_time": "2022-12-29T09:42:25.556Z"
   },
   {
    "duration": 5,
    "start_time": "2022-12-29T09:42:41.158Z"
   },
   {
    "duration": 6,
    "start_time": "2022-12-29T09:42:48.327Z"
   },
   {
    "duration": 82,
    "start_time": "2022-12-29T09:42:53.467Z"
   },
   {
    "duration": 6,
    "start_time": "2022-12-29T09:43:20.332Z"
   },
   {
    "duration": 7,
    "start_time": "2022-12-29T13:13:25.343Z"
   },
   {
    "duration": 116,
    "start_time": "2022-12-29T13:15:40.338Z"
   },
   {
    "duration": 52,
    "start_time": "2022-12-29T13:15:47.967Z"
   },
   {
    "duration": 9,
    "start_time": "2022-12-29T13:15:49.773Z"
   },
   {
    "duration": 1532,
    "start_time": "2022-12-30T10:47:17.026Z"
   },
   {
    "duration": 3,
    "start_time": "2022-12-30T10:47:18.560Z"
   },
   {
    "duration": 10,
    "start_time": "2022-12-30T10:47:18.564Z"
   },
   {
    "duration": 1051,
    "start_time": "2022-12-30T10:47:18.576Z"
   },
   {
    "duration": 131,
    "start_time": "2022-12-30T10:47:19.629Z"
   },
   {
    "duration": 103,
    "start_time": "2022-12-30T10:47:19.762Z"
   },
   {
    "duration": 65,
    "start_time": "2022-12-30T10:47:19.867Z"
   },
   {
    "duration": 48,
    "start_time": "2022-12-30T10:47:19.934Z"
   },
   {
    "duration": 5,
    "start_time": "2022-12-30T10:47:19.984Z"
   },
   {
    "duration": 8,
    "start_time": "2022-12-30T10:47:19.992Z"
   },
   {
    "duration": 7,
    "start_time": "2022-12-30T10:47:20.001Z"
   },
   {
    "duration": 5,
    "start_time": "2022-12-30T10:47:20.009Z"
   },
   {
    "duration": 201,
    "start_time": "2022-12-30T10:47:20.016Z"
   },
   {
    "duration": 7,
    "start_time": "2022-12-30T10:47:20.219Z"
   },
   {
    "duration": 56,
    "start_time": "2022-12-30T10:47:20.227Z"
   },
   {
    "duration": 3,
    "start_time": "2022-12-30T10:47:20.285Z"
   },
   {
    "duration": 180,
    "start_time": "2022-12-30T10:47:20.289Z"
   },
   {
    "duration": 14,
    "start_time": "2022-12-30T10:47:20.470Z"
   },
   {
    "duration": 161,
    "start_time": "2022-12-30T10:47:20.486Z"
   },
   {
    "duration": 16,
    "start_time": "2022-12-30T10:47:20.649Z"
   },
   {
    "duration": 9,
    "start_time": "2022-12-30T10:47:20.678Z"
   },
   {
    "duration": 153,
    "start_time": "2022-12-30T10:47:20.689Z"
   },
   {
    "duration": 10,
    "start_time": "2022-12-30T10:47:20.843Z"
   },
   {
    "duration": 24,
    "start_time": "2022-12-30T10:47:20.855Z"
   },
   {
    "duration": 22,
    "start_time": "2022-12-30T10:47:20.881Z"
   },
   {
    "duration": 7,
    "start_time": "2022-12-30T10:47:20.905Z"
   },
   {
    "duration": 11,
    "start_time": "2022-12-30T10:47:20.914Z"
   },
   {
    "duration": 6,
    "start_time": "2022-12-30T10:47:20.929Z"
   },
   {
    "duration": 7,
    "start_time": "2022-12-30T10:47:20.937Z"
   },
   {
    "duration": 14,
    "start_time": "2022-12-30T10:47:20.946Z"
   },
   {
    "duration": 16,
    "start_time": "2022-12-30T10:47:20.979Z"
   },
   {
    "duration": 195,
    "start_time": "2022-12-30T10:47:20.996Z"
   },
   {
    "duration": 5,
    "start_time": "2022-12-30T10:47:21.192Z"
   },
   {
    "duration": 8,
    "start_time": "2022-12-30T10:47:21.198Z"
   },
   {
    "duration": 260,
    "start_time": "2022-12-30T10:47:21.207Z"
   },
   {
    "duration": 10,
    "start_time": "2022-12-30T10:47:21.468Z"
   },
   {
    "duration": 13,
    "start_time": "2022-12-30T10:47:21.480Z"
   },
   {
    "duration": 16,
    "start_time": "2022-12-30T10:47:21.496Z"
   },
   {
    "duration": 27,
    "start_time": "2022-12-30T10:47:21.514Z"
   },
   {
    "duration": 40,
    "start_time": "2022-12-30T10:47:21.544Z"
   },
   {
    "duration": 9,
    "start_time": "2022-12-30T10:48:19.822Z"
   },
   {
    "duration": 168,
    "start_time": "2022-12-30T10:49:37.661Z"
   },
   {
    "duration": 2392,
    "start_time": "2022-12-30T10:49:48.873Z"
   },
   {
    "duration": 542,
    "start_time": "2022-12-30T10:51:54.037Z"
   },
   {
    "duration": 7,
    "start_time": "2022-12-30T10:52:08.990Z"
   },
   {
    "duration": 12,
    "start_time": "2022-12-30T10:52:17.003Z"
   },
   {
    "duration": 13,
    "start_time": "2022-12-30T10:57:46.417Z"
   },
   {
    "duration": 9,
    "start_time": "2022-12-30T10:57:59.565Z"
   },
   {
    "duration": 11,
    "start_time": "2022-12-30T10:58:10.784Z"
   },
   {
    "duration": 12,
    "start_time": "2022-12-30T10:58:40.479Z"
   },
   {
    "duration": 21,
    "start_time": "2022-12-30T11:00:27.605Z"
   },
   {
    "duration": 13,
    "start_time": "2022-12-30T11:00:42.000Z"
   },
   {
    "duration": 13,
    "start_time": "2022-12-30T11:00:50.056Z"
   },
   {
    "duration": 12,
    "start_time": "2022-12-30T11:00:57.821Z"
   },
   {
    "duration": 12,
    "start_time": "2022-12-30T11:01:16.256Z"
   },
   {
    "duration": 70,
    "start_time": "2022-12-30T11:06:58.673Z"
   },
   {
    "duration": 2438,
    "start_time": "2022-12-30T11:07:03.002Z"
   },
   {
    "duration": 29,
    "start_time": "2022-12-30T11:09:26.086Z"
   },
   {
    "duration": 13,
    "start_time": "2022-12-30T11:11:28.799Z"
   },
   {
    "duration": 11,
    "start_time": "2022-12-30T11:11:31.931Z"
   },
   {
    "duration": 12,
    "start_time": "2022-12-30T11:12:42.625Z"
   },
   {
    "duration": 11,
    "start_time": "2022-12-30T11:12:47.950Z"
   },
   {
    "duration": 19,
    "start_time": "2022-12-30T11:17:42.747Z"
   },
   {
    "duration": 995,
    "start_time": "2022-12-30T11:17:45.358Z"
   },
   {
    "duration": 21,
    "start_time": "2022-12-30T11:18:07.754Z"
   },
   {
    "duration": 226,
    "start_time": "2022-12-30T11:18:09.600Z"
   },
   {
    "duration": 3,
    "start_time": "2022-12-30T11:18:40.339Z"
   },
   {
    "duration": 2,
    "start_time": "2022-12-30T11:18:40.357Z"
   },
   {
    "duration": 3,
    "start_time": "2022-12-30T11:18:40.375Z"
   },
   {
    "duration": 206,
    "start_time": "2022-12-30T11:18:40.392Z"
   },
   {
    "duration": 254,
    "start_time": "2022-12-30T11:18:40.600Z"
   },
   {
    "duration": 133,
    "start_time": "2022-12-30T11:18:40.856Z"
   },
   {
    "duration": 46,
    "start_time": "2022-12-30T11:18:40.991Z"
   },
   {
    "duration": 44,
    "start_time": "2022-12-30T11:18:41.039Z"
   },
   {
    "duration": 5,
    "start_time": "2022-12-30T11:18:41.085Z"
   },
   {
    "duration": 5,
    "start_time": "2022-12-30T11:18:41.092Z"
   },
   {
    "duration": 6,
    "start_time": "2022-12-30T11:18:41.099Z"
   },
   {
    "duration": 7,
    "start_time": "2022-12-30T11:18:41.106Z"
   },
   {
    "duration": 186,
    "start_time": "2022-12-30T11:18:41.116Z"
   },
   {
    "duration": 8,
    "start_time": "2022-12-30T11:18:41.304Z"
   },
   {
    "duration": 64,
    "start_time": "2022-12-30T11:18:41.314Z"
   },
   {
    "duration": 3,
    "start_time": "2022-12-30T11:18:41.380Z"
   },
   {
    "duration": 193,
    "start_time": "2022-12-30T11:18:41.385Z"
   },
   {
    "duration": 10,
    "start_time": "2022-12-30T11:18:41.579Z"
   },
   {
    "duration": 164,
    "start_time": "2022-12-30T11:18:41.590Z"
   },
   {
    "duration": 24,
    "start_time": "2022-12-30T11:18:41.756Z"
   },
   {
    "duration": 9,
    "start_time": "2022-12-30T11:18:41.782Z"
   },
   {
    "duration": 153,
    "start_time": "2022-12-30T11:18:41.793Z"
   },
   {
    "duration": 12,
    "start_time": "2022-12-30T11:18:41.947Z"
   },
   {
    "duration": 23,
    "start_time": "2022-12-30T11:18:41.961Z"
   },
   {
    "duration": 9,
    "start_time": "2022-12-30T11:18:41.985Z"
   },
   {
    "duration": 4,
    "start_time": "2022-12-30T11:18:41.996Z"
   },
   {
    "duration": 13,
    "start_time": "2022-12-30T11:18:42.002Z"
   },
   {
    "duration": 4,
    "start_time": "2022-12-30T11:18:42.017Z"
   },
   {
    "duration": 10,
    "start_time": "2022-12-30T11:18:42.023Z"
   },
   {
    "duration": 5,
    "start_time": "2022-12-30T11:18:42.035Z"
   },
   {
    "duration": 38,
    "start_time": "2022-12-30T11:18:42.043Z"
   },
   {
    "duration": 172,
    "start_time": "2022-12-30T11:18:42.083Z"
   },
   {
    "duration": 4,
    "start_time": "2022-12-30T11:18:42.257Z"
   },
   {
    "duration": 17,
    "start_time": "2022-12-30T11:18:42.262Z"
   },
   {
    "duration": 169,
    "start_time": "2022-12-30T11:18:42.280Z"
   },
   {
    "duration": 4,
    "start_time": "2022-12-30T11:18:42.450Z"
   },
   {
    "duration": 8,
    "start_time": "2022-12-30T11:18:42.455Z"
   },
   {
    "duration": 16,
    "start_time": "2022-12-30T11:18:42.464Z"
   },
   {
    "duration": 8,
    "start_time": "2022-12-30T11:18:42.482Z"
   },
   {
    "duration": 31,
    "start_time": "2022-12-30T11:18:42.491Z"
   },
   {
    "duration": 19,
    "start_time": "2022-12-30T11:18:42.524Z"
   },
   {
    "duration": 2755,
    "start_time": "2022-12-30T11:18:42.545Z"
   },
   {
    "duration": 23,
    "start_time": "2022-12-30T11:18:45.302Z"
   },
   {
    "duration": 20,
    "start_time": "2022-12-30T11:19:18.840Z"
   },
   {
    "duration": 258,
    "start_time": "2022-12-30T11:19:20.606Z"
   },
   {
    "duration": 516,
    "start_time": "2022-12-30T11:23:11.388Z"
   },
   {
    "duration": 11,
    "start_time": "2022-12-30T11:23:24.351Z"
   },
   {
    "duration": 12,
    "start_time": "2022-12-30T11:23:30.289Z"
   },
   {
    "duration": 14,
    "start_time": "2022-12-30T11:23:43.858Z"
   },
   {
    "duration": 11,
    "start_time": "2022-12-30T11:25:05.444Z"
   },
   {
    "duration": 27,
    "start_time": "2022-12-30T11:25:07.191Z"
   },
   {
    "duration": 236,
    "start_time": "2022-12-30T11:25:12.552Z"
   },
   {
    "duration": 3,
    "start_time": "2022-12-30T11:25:17.625Z"
   },
   {
    "duration": 3,
    "start_time": "2022-12-30T11:25:17.649Z"
   },
   {
    "duration": 2,
    "start_time": "2022-12-30T11:25:17.663Z"
   },
   {
    "duration": 188,
    "start_time": "2022-12-30T11:25:17.680Z"
   },
   {
    "duration": 133,
    "start_time": "2022-12-30T11:25:17.870Z"
   },
   {
    "duration": 125,
    "start_time": "2022-12-30T11:25:18.005Z"
   },
   {
    "duration": 63,
    "start_time": "2022-12-30T11:25:18.132Z"
   },
   {
    "duration": 28,
    "start_time": "2022-12-30T11:25:18.197Z"
   },
   {
    "duration": 5,
    "start_time": "2022-12-30T11:25:18.227Z"
   },
   {
    "duration": 15,
    "start_time": "2022-12-30T11:25:18.233Z"
   },
   {
    "duration": 29,
    "start_time": "2022-12-30T11:25:18.250Z"
   },
   {
    "duration": 8,
    "start_time": "2022-12-30T11:25:18.281Z"
   },
   {
    "duration": 179,
    "start_time": "2022-12-30T11:25:18.292Z"
   },
   {
    "duration": 11,
    "start_time": "2022-12-30T11:25:18.472Z"
   },
   {
    "duration": 43,
    "start_time": "2022-12-30T11:25:18.485Z"
   },
   {
    "duration": 4,
    "start_time": "2022-12-30T11:25:18.530Z"
   },
   {
    "duration": 201,
    "start_time": "2022-12-30T11:25:18.535Z"
   },
   {
    "duration": 10,
    "start_time": "2022-12-30T11:25:18.738Z"
   },
   {
    "duration": 157,
    "start_time": "2022-12-30T11:25:18.749Z"
   },
   {
    "duration": 18,
    "start_time": "2022-12-30T11:25:18.908Z"
   },
   {
    "duration": 11,
    "start_time": "2022-12-30T11:25:18.927Z"
   },
   {
    "duration": 186,
    "start_time": "2022-12-30T11:25:18.940Z"
   },
   {
    "duration": 10,
    "start_time": "2022-12-30T11:25:19.128Z"
   },
   {
    "duration": 19,
    "start_time": "2022-12-30T11:25:19.139Z"
   },
   {
    "duration": 21,
    "start_time": "2022-12-30T11:25:19.160Z"
   },
   {
    "duration": 7,
    "start_time": "2022-12-30T11:25:19.182Z"
   },
   {
    "duration": 15,
    "start_time": "2022-12-30T11:25:19.190Z"
   },
   {
    "duration": 5,
    "start_time": "2022-12-30T11:25:19.207Z"
   },
   {
    "duration": 7,
    "start_time": "2022-12-30T11:25:19.214Z"
   },
   {
    "duration": 11,
    "start_time": "2022-12-30T11:25:19.222Z"
   },
   {
    "duration": 44,
    "start_time": "2022-12-30T11:25:19.236Z"
   },
   {
    "duration": 171,
    "start_time": "2022-12-30T11:25:19.282Z"
   },
   {
    "duration": 4,
    "start_time": "2022-12-30T11:25:19.455Z"
   },
   {
    "duration": 9,
    "start_time": "2022-12-30T11:25:19.460Z"
   },
   {
    "duration": 174,
    "start_time": "2022-12-30T11:25:19.478Z"
   },
   {
    "duration": 4,
    "start_time": "2022-12-30T11:25:19.654Z"
   },
   {
    "duration": 20,
    "start_time": "2022-12-30T11:25:19.659Z"
   },
   {
    "duration": 5,
    "start_time": "2022-12-30T11:25:19.680Z"
   },
   {
    "duration": 10,
    "start_time": "2022-12-30T11:25:19.687Z"
   },
   {
    "duration": 30,
    "start_time": "2022-12-30T11:25:19.699Z"
   },
   {
    "duration": 10,
    "start_time": "2022-12-30T11:25:19.731Z"
   },
   {
    "duration": 2443,
    "start_time": "2022-12-30T11:25:19.742Z"
   },
   {
    "duration": 10,
    "start_time": "2022-12-30T11:25:26.240Z"
   },
   {
    "duration": 34,
    "start_time": "2022-12-30T11:25:27.356Z"
   },
   {
    "duration": 255,
    "start_time": "2022-12-30T11:25:28.188Z"
   },
   {
    "duration": 11,
    "start_time": "2022-12-30T11:28:53.280Z"
   },
   {
    "duration": 1349,
    "start_time": "2022-12-30T11:29:16.982Z"
   },
   {
    "duration": 2,
    "start_time": "2022-12-30T11:29:18.333Z"
   },
   {
    "duration": 6,
    "start_time": "2022-12-30T11:29:18.337Z"
   },
   {
    "duration": 227,
    "start_time": "2022-12-30T11:29:18.344Z"
   },
   {
    "duration": 127,
    "start_time": "2022-12-30T11:29:18.573Z"
   },
   {
    "duration": 103,
    "start_time": "2022-12-30T11:29:18.702Z"
   },
   {
    "duration": 55,
    "start_time": "2022-12-30T11:29:18.807Z"
   },
   {
    "duration": 40,
    "start_time": "2022-12-30T11:29:18.877Z"
   },
   {
    "duration": 5,
    "start_time": "2022-12-30T11:29:18.918Z"
   },
   {
    "duration": 9,
    "start_time": "2022-12-30T11:29:18.925Z"
   },
   {
    "duration": 11,
    "start_time": "2022-12-30T11:29:18.936Z"
   },
   {
    "duration": 25,
    "start_time": "2022-12-30T11:29:18.949Z"
   },
   {
    "duration": 203,
    "start_time": "2022-12-30T11:29:18.977Z"
   },
   {
    "duration": 9,
    "start_time": "2022-12-30T11:29:19.182Z"
   },
   {
    "duration": 47,
    "start_time": "2022-12-30T11:29:19.193Z"
   },
   {
    "duration": 3,
    "start_time": "2022-12-30T11:29:19.242Z"
   },
   {
    "duration": 213,
    "start_time": "2022-12-30T11:29:19.247Z"
   },
   {
    "duration": 10,
    "start_time": "2022-12-30T11:29:19.462Z"
   },
   {
    "duration": 143,
    "start_time": "2022-12-30T11:29:19.474Z"
   },
   {
    "duration": 17,
    "start_time": "2022-12-30T11:29:19.618Z"
   },
   {
    "duration": 9,
    "start_time": "2022-12-30T11:29:19.637Z"
   },
   {
    "duration": 167,
    "start_time": "2022-12-30T11:29:19.648Z"
   },
   {
    "duration": 10,
    "start_time": "2022-12-30T11:29:19.816Z"
   },
   {
    "duration": 14,
    "start_time": "2022-12-30T11:29:19.828Z"
   },
   {
    "duration": 10,
    "start_time": "2022-12-30T11:29:19.844Z"
   },
   {
    "duration": 25,
    "start_time": "2022-12-30T11:29:19.856Z"
   },
   {
    "duration": 11,
    "start_time": "2022-12-30T11:29:19.883Z"
   },
   {
    "duration": 5,
    "start_time": "2022-12-30T11:29:19.899Z"
   },
   {
    "duration": 7,
    "start_time": "2022-12-30T11:29:19.905Z"
   },
   {
    "duration": 10,
    "start_time": "2022-12-30T11:29:19.914Z"
   },
   {
    "duration": 16,
    "start_time": "2022-12-30T11:29:19.926Z"
   },
   {
    "duration": 165,
    "start_time": "2022-12-30T11:29:19.978Z"
   },
   {
    "duration": 5,
    "start_time": "2022-12-30T11:29:20.145Z"
   },
   {
    "duration": 15,
    "start_time": "2022-12-30T11:29:20.152Z"
   },
   {
    "duration": 249,
    "start_time": "2022-12-30T11:29:20.169Z"
   },
   {
    "duration": 5,
    "start_time": "2022-12-30T11:29:20.419Z"
   },
   {
    "duration": 8,
    "start_time": "2022-12-30T11:29:20.426Z"
   },
   {
    "duration": 6,
    "start_time": "2022-12-30T11:29:20.436Z"
   },
   {
    "duration": 34,
    "start_time": "2022-12-30T11:29:20.444Z"
   },
   {
    "duration": 5,
    "start_time": "2022-12-30T11:29:20.480Z"
   },
   {
    "duration": 22,
    "start_time": "2022-12-30T11:29:20.486Z"
   },
   {
    "duration": 12,
    "start_time": "2022-12-30T11:29:20.510Z"
   },
   {
    "duration": 150,
    "start_time": "2022-12-30T11:29:20.524Z"
   },
   {
    "duration": 5,
    "start_time": "2022-12-30T11:29:20.678Z"
   },
   {
    "duration": 14,
    "start_time": "2022-12-30T11:29:20.685Z"
   },
   {
    "duration": 161,
    "start_time": "2022-12-30T11:29:20.700Z"
   },
   {
    "duration": 1433,
    "start_time": "2022-12-30T11:31:18.965Z"
   },
   {
    "duration": 2,
    "start_time": "2022-12-30T11:31:20.400Z"
   },
   {
    "duration": 11,
    "start_time": "2022-12-30T11:31:20.404Z"
   },
   {
    "duration": 231,
    "start_time": "2022-12-30T11:31:20.417Z"
   },
   {
    "duration": 130,
    "start_time": "2022-12-30T11:31:20.649Z"
   },
   {
    "duration": 108,
    "start_time": "2022-12-30T11:31:20.781Z"
   },
   {
    "duration": 61,
    "start_time": "2022-12-30T11:31:20.891Z"
   },
   {
    "duration": 59,
    "start_time": "2022-12-30T11:31:20.954Z"
   },
   {
    "duration": 6,
    "start_time": "2022-12-30T11:31:21.015Z"
   },
   {
    "duration": 8,
    "start_time": "2022-12-30T11:31:21.024Z"
   },
   {
    "duration": 9,
    "start_time": "2022-12-30T11:31:21.033Z"
   },
   {
    "duration": 8,
    "start_time": "2022-12-30T11:31:21.044Z"
   },
   {
    "duration": 216,
    "start_time": "2022-12-30T11:31:21.053Z"
   },
   {
    "duration": 11,
    "start_time": "2022-12-30T11:31:21.270Z"
   },
   {
    "duration": 46,
    "start_time": "2022-12-30T11:31:21.282Z"
   },
   {
    "duration": 3,
    "start_time": "2022-12-30T11:31:21.329Z"
   },
   {
    "duration": 197,
    "start_time": "2022-12-30T11:31:21.334Z"
   },
   {
    "duration": 11,
    "start_time": "2022-12-30T11:31:21.532Z"
   },
   {
    "duration": 166,
    "start_time": "2022-12-30T11:31:21.544Z"
   },
   {
    "duration": 18,
    "start_time": "2022-12-30T11:31:21.712Z"
   },
   {
    "duration": 10,
    "start_time": "2022-12-30T11:31:21.731Z"
   },
   {
    "duration": 166,
    "start_time": "2022-12-30T11:31:21.742Z"
   },
   {
    "duration": 10,
    "start_time": "2022-12-30T11:31:21.909Z"
   },
   {
    "duration": 10,
    "start_time": "2022-12-30T11:31:21.921Z"
   },
   {
    "duration": 10,
    "start_time": "2022-12-30T11:31:21.932Z"
   },
   {
    "duration": 4,
    "start_time": "2022-12-30T11:31:21.944Z"
   },
   {
    "duration": 35,
    "start_time": "2022-12-30T11:31:21.950Z"
   },
   {
    "duration": 5,
    "start_time": "2022-12-30T11:31:21.988Z"
   },
   {
    "duration": 7,
    "start_time": "2022-12-30T11:31:21.995Z"
   },
   {
    "duration": 9,
    "start_time": "2022-12-30T11:31:22.003Z"
   },
   {
    "duration": 20,
    "start_time": "2022-12-30T11:31:22.014Z"
   },
   {
    "duration": 178,
    "start_time": "2022-12-30T11:31:22.036Z"
   },
   {
    "duration": 5,
    "start_time": "2022-12-30T11:31:22.215Z"
   },
   {
    "duration": 11,
    "start_time": "2022-12-30T11:31:22.221Z"
   },
   {
    "duration": 259,
    "start_time": "2022-12-30T11:31:22.233Z"
   },
   {
    "duration": 4,
    "start_time": "2022-12-30T11:31:22.493Z"
   },
   {
    "duration": 14,
    "start_time": "2022-12-30T11:31:22.499Z"
   },
   {
    "duration": 10,
    "start_time": "2022-12-30T11:31:22.515Z"
   },
   {
    "duration": 24,
    "start_time": "2022-12-30T11:31:22.527Z"
   },
   {
    "duration": 7,
    "start_time": "2022-12-30T11:31:22.553Z"
   },
   {
    "duration": 46,
    "start_time": "2022-12-30T11:31:22.562Z"
   },
   {
    "duration": 9,
    "start_time": "2022-12-30T11:31:22.610Z"
   },
   {
    "duration": 2478,
    "start_time": "2022-12-30T11:31:22.621Z"
   },
   {
    "duration": 11,
    "start_time": "2022-12-30T11:31:25.100Z"
   },
   {
    "duration": 44,
    "start_time": "2022-12-30T11:31:25.113Z"
   },
   {
    "duration": 278,
    "start_time": "2022-12-30T11:31:25.159Z"
   },
   {
    "duration": 27,
    "start_time": "2022-12-30T11:32:06.868Z"
   },
   {
    "duration": 15,
    "start_time": "2022-12-30T11:32:13.004Z"
   },
   {
    "duration": 4,
    "start_time": "2022-12-30T11:32:23.365Z"
   },
   {
    "duration": 5,
    "start_time": "2022-12-30T11:56:07.015Z"
   },
   {
    "duration": 8,
    "start_time": "2022-12-30T11:57:47.184Z"
   },
   {
    "duration": 178,
    "start_time": "2022-12-30T11:59:09.118Z"
   },
   {
    "duration": 12,
    "start_time": "2022-12-30T12:07:45.479Z"
   },
   {
    "duration": 11,
    "start_time": "2022-12-30T12:08:14.935Z"
   },
   {
    "duration": 10,
    "start_time": "2022-12-30T12:11:57.468Z"
   },
   {
    "duration": 9,
    "start_time": "2022-12-30T12:12:04.482Z"
   },
   {
    "duration": 8,
    "start_time": "2022-12-30T12:12:12.849Z"
   },
   {
    "duration": 9,
    "start_time": "2022-12-30T12:12:21.454Z"
   },
   {
    "duration": 12,
    "start_time": "2022-12-30T12:12:39.335Z"
   },
   {
    "duration": 4,
    "start_time": "2022-12-30T12:14:31.147Z"
   },
   {
    "duration": 313,
    "start_time": "2022-12-30T12:14:50.008Z"
   },
   {
    "duration": 159,
    "start_time": "2022-12-30T12:15:48.711Z"
   },
   {
    "duration": 1505,
    "start_time": "2022-12-30T15:44:22.690Z"
   },
   {
    "duration": 4,
    "start_time": "2022-12-30T15:44:24.197Z"
   },
   {
    "duration": 8,
    "start_time": "2022-12-30T15:44:24.202Z"
   },
   {
    "duration": 424,
    "start_time": "2022-12-30T15:44:24.212Z"
   },
   {
    "duration": 112,
    "start_time": "2022-12-30T15:44:24.637Z"
   },
   {
    "duration": 93,
    "start_time": "2022-12-30T15:44:24.751Z"
   },
   {
    "duration": 56,
    "start_time": "2022-12-30T15:44:24.846Z"
   },
   {
    "duration": 37,
    "start_time": "2022-12-30T15:44:24.915Z"
   },
   {
    "duration": 4,
    "start_time": "2022-12-30T15:44:24.954Z"
   },
   {
    "duration": 8,
    "start_time": "2022-12-30T15:44:24.960Z"
   },
   {
    "duration": 7,
    "start_time": "2022-12-30T15:44:24.970Z"
   },
   {
    "duration": 5,
    "start_time": "2022-12-30T15:44:24.979Z"
   },
   {
    "duration": 194,
    "start_time": "2022-12-30T15:44:24.985Z"
   },
   {
    "duration": 17,
    "start_time": "2022-12-30T15:44:25.181Z"
   },
   {
    "duration": 59,
    "start_time": "2022-12-30T15:44:25.201Z"
   },
   {
    "duration": 4,
    "start_time": "2022-12-30T15:44:25.262Z"
   },
   {
    "duration": 198,
    "start_time": "2022-12-30T15:44:25.267Z"
   },
   {
    "duration": 9,
    "start_time": "2022-12-30T15:44:25.467Z"
   },
   {
    "duration": 163,
    "start_time": "2022-12-30T15:44:25.477Z"
   },
   {
    "duration": 16,
    "start_time": "2022-12-30T15:44:25.641Z"
   },
   {
    "duration": 8,
    "start_time": "2022-12-30T15:44:25.659Z"
   },
   {
    "duration": 163,
    "start_time": "2022-12-30T15:44:25.668Z"
   },
   {
    "duration": 9,
    "start_time": "2022-12-30T15:44:25.833Z"
   },
   {
    "duration": 9,
    "start_time": "2022-12-30T15:44:25.843Z"
   },
   {
    "duration": 9,
    "start_time": "2022-12-30T15:44:25.853Z"
   },
   {
    "duration": 5,
    "start_time": "2022-12-30T15:44:25.863Z"
   },
   {
    "duration": 9,
    "start_time": "2022-12-30T15:44:25.869Z"
   },
   {
    "duration": 34,
    "start_time": "2022-12-30T15:44:25.881Z"
   },
   {
    "duration": 4,
    "start_time": "2022-12-30T15:44:25.917Z"
   },
   {
    "duration": 7,
    "start_time": "2022-12-30T15:44:25.922Z"
   },
   {
    "duration": 17,
    "start_time": "2022-12-30T15:44:25.930Z"
   },
   {
    "duration": 174,
    "start_time": "2022-12-30T15:44:25.949Z"
   },
   {
    "duration": 4,
    "start_time": "2022-12-30T15:44:26.124Z"
   },
   {
    "duration": 8,
    "start_time": "2022-12-30T15:44:26.129Z"
   },
   {
    "duration": 267,
    "start_time": "2022-12-30T15:44:26.138Z"
   },
   {
    "duration": 9,
    "start_time": "2022-12-30T15:44:26.407Z"
   },
   {
    "duration": 15,
    "start_time": "2022-12-30T15:44:26.418Z"
   },
   {
    "duration": 4,
    "start_time": "2022-12-30T15:44:26.435Z"
   },
   {
    "duration": 18,
    "start_time": "2022-12-30T15:44:26.440Z"
   },
   {
    "duration": 8,
    "start_time": "2022-12-30T15:44:26.460Z"
   },
   {
    "duration": 36,
    "start_time": "2022-12-30T15:44:26.469Z"
   },
   {
    "duration": 13,
    "start_time": "2022-12-30T15:44:26.506Z"
   },
   {
    "duration": 2201,
    "start_time": "2022-12-30T15:44:26.520Z"
   },
   {
    "duration": 32,
    "start_time": "2022-12-30T15:44:28.722Z"
   },
   {
    "duration": 231,
    "start_time": "2022-12-30T15:44:28.755Z"
   },
   {
    "duration": 7,
    "start_time": "2022-12-30T15:44:28.987Z"
   },
   {
    "duration": 178,
    "start_time": "2022-12-30T15:44:28.996Z"
   },
   {
    "duration": 8,
    "start_time": "2022-12-30T15:44:29.176Z"
   },
   {
    "duration": 7,
    "start_time": "2022-12-30T15:44:29.186Z"
   },
   {
    "duration": 5,
    "start_time": "2022-12-30T15:45:08.176Z"
   },
   {
    "duration": 228,
    "start_time": "2022-12-30T15:45:10.176Z"
   },
   {
    "duration": 4,
    "start_time": "2022-12-30T15:46:00.282Z"
   },
   {
    "duration": 4,
    "start_time": "2022-12-30T15:46:07.591Z"
   },
   {
    "duration": 149,
    "start_time": "2022-12-30T15:46:36.735Z"
   },
   {
    "duration": 220,
    "start_time": "2022-12-30T15:46:43.026Z"
   },
   {
    "duration": 4,
    "start_time": "2022-12-30T16:01:02.588Z"
   },
   {
    "duration": 4,
    "start_time": "2022-12-30T16:01:08.340Z"
   },
   {
    "duration": 4,
    "start_time": "2022-12-30T16:01:11.801Z"
   },
   {
    "duration": 5,
    "start_time": "2022-12-30T16:01:29.600Z"
   },
   {
    "duration": 488,
    "start_time": "2022-12-30T16:01:48.208Z"
   },
   {
    "duration": 526,
    "start_time": "2022-12-30T16:10:09.090Z"
   },
   {
    "duration": 4,
    "start_time": "2022-12-30T17:26:08.723Z"
   },
   {
    "duration": 538,
    "start_time": "2022-12-30T17:45:26.644Z"
   },
   {
    "duration": 581,
    "start_time": "2022-12-30T17:45:35.777Z"
   },
   {
    "duration": 229,
    "start_time": "2022-12-30T17:53:55.638Z"
   },
   {
    "duration": 593,
    "start_time": "2022-12-30T17:54:08.897Z"
   },
   {
    "duration": 264,
    "start_time": "2022-12-30T17:54:25.005Z"
   },
   {
    "duration": 273,
    "start_time": "2022-12-30T17:54:38.045Z"
   },
   {
    "duration": 128,
    "start_time": "2022-12-30T17:54:55.124Z"
   },
   {
    "duration": 32,
    "start_time": "2022-12-30T17:55:01.521Z"
   },
   {
    "duration": 31,
    "start_time": "2022-12-30T17:55:11.275Z"
   },
   {
    "duration": 49,
    "start_time": "2022-12-30T17:55:17.120Z"
   },
   {
    "duration": 285,
    "start_time": "2022-12-30T17:55:19.799Z"
   },
   {
    "duration": 242,
    "start_time": "2022-12-30T17:58:08.783Z"
   },
   {
    "duration": 246,
    "start_time": "2022-12-30T17:58:24.593Z"
   },
   {
    "duration": 240,
    "start_time": "2022-12-30T17:58:30.054Z"
   },
   {
    "duration": 244,
    "start_time": "2022-12-30T17:58:34.979Z"
   },
   {
    "duration": 243,
    "start_time": "2022-12-30T17:59:02.659Z"
   },
   {
    "duration": 336,
    "start_time": "2022-12-30T17:59:20.346Z"
   },
   {
    "duration": 5,
    "start_time": "2022-12-30T18:04:07.507Z"
   },
   {
    "duration": 247,
    "start_time": "2022-12-30T18:04:19.867Z"
   },
   {
    "duration": 2252,
    "start_time": "2022-12-30T18:04:28.274Z"
   },
   {
    "duration": 258,
    "start_time": "2022-12-30T18:04:44.753Z"
   },
   {
    "duration": 238,
    "start_time": "2022-12-30T18:05:51.081Z"
   },
   {
    "duration": 147,
    "start_time": "2022-12-30T18:06:30.284Z"
   },
   {
    "duration": 12,
    "start_time": "2022-12-30T18:06:59.880Z"
   },
   {
    "duration": 145,
    "start_time": "2022-12-30T18:58:09.407Z"
   },
   {
    "duration": 139,
    "start_time": "2022-12-30T18:58:26.705Z"
   },
   {
    "duration": 390,
    "start_time": "2022-12-30T19:01:26.259Z"
   },
   {
    "duration": 145,
    "start_time": "2022-12-30T19:03:01.103Z"
   },
   {
    "duration": 245,
    "start_time": "2022-12-30T19:07:44.941Z"
   },
   {
    "duration": 2365,
    "start_time": "2022-12-30T19:12:22.203Z"
   },
   {
    "duration": 2472,
    "start_time": "2022-12-30T19:12:51.020Z"
   },
   {
    "duration": 257,
    "start_time": "2022-12-30T19:13:01.331Z"
   },
   {
    "duration": 680,
    "start_time": "2022-12-30T19:13:38.227Z"
   },
   {
    "duration": 145,
    "start_time": "2022-12-30T19:13:48.325Z"
   },
   {
    "duration": 140,
    "start_time": "2022-12-30T19:14:10.382Z"
   },
   {
    "duration": 45,
    "start_time": "2022-12-30T19:14:33.300Z"
   },
   {
    "duration": 9,
    "start_time": "2022-12-30T19:14:37.959Z"
   },
   {
    "duration": 28,
    "start_time": "2022-12-30T19:14:47.689Z"
   },
   {
    "duration": 10202,
    "start_time": "2022-12-30T19:18:10.590Z"
   },
   {
    "duration": 178,
    "start_time": "2022-12-30T19:18:27.997Z"
   },
   {
    "duration": 44,
    "start_time": "2022-12-30T19:19:22.624Z"
   },
   {
    "duration": 4,
    "start_time": "2022-12-30T19:19:27.884Z"
   },
   {
    "duration": 9,
    "start_time": "2022-12-30T19:19:30.003Z"
   },
   {
    "duration": 5,
    "start_time": "2022-12-30T19:20:00.178Z"
   },
   {
    "duration": 8,
    "start_time": "2022-12-30T19:20:34.775Z"
   },
   {
    "duration": 4,
    "start_time": "2022-12-30T19:20:39.774Z"
   },
   {
    "duration": 4,
    "start_time": "2022-12-30T19:20:56.234Z"
   },
   {
    "duration": 235,
    "start_time": "2022-12-30T19:21:11.262Z"
   },
   {
    "duration": 186,
    "start_time": "2022-12-30T19:23:20.839Z"
   },
   {
    "duration": 4,
    "start_time": "2022-12-30T19:23:52.936Z"
   },
   {
    "duration": 5,
    "start_time": "2022-12-30T19:24:05.214Z"
   },
   {
    "duration": 5,
    "start_time": "2022-12-30T19:24:09.323Z"
   },
   {
    "duration": 4,
    "start_time": "2022-12-30T19:26:02.513Z"
   },
   {
    "duration": 5,
    "start_time": "2022-12-30T19:26:06.022Z"
   },
   {
    "duration": 5,
    "start_time": "2022-12-30T19:26:12.182Z"
   },
   {
    "duration": 5,
    "start_time": "2022-12-30T19:26:16.242Z"
   },
   {
    "duration": 155,
    "start_time": "2022-12-30T19:27:25.195Z"
   },
   {
    "duration": 157,
    "start_time": "2022-12-30T19:28:01.762Z"
   },
   {
    "duration": 705,
    "start_time": "2022-12-30T19:55:36.300Z"
   },
   {
    "duration": 179,
    "start_time": "2022-12-30T19:57:28.404Z"
   },
   {
    "duration": 618,
    "start_time": "2022-12-30T19:57:57.978Z"
   },
   {
    "duration": 198,
    "start_time": "2022-12-30T20:03:44.445Z"
   },
   {
    "duration": 232,
    "start_time": "2022-12-30T20:08:06.159Z"
   },
   {
    "duration": 193,
    "start_time": "2022-12-30T20:08:24.413Z"
   },
   {
    "duration": 174,
    "start_time": "2022-12-30T20:08:29.654Z"
   },
   {
    "duration": 184,
    "start_time": "2022-12-30T20:08:33.352Z"
   },
   {
    "duration": 279,
    "start_time": "2022-12-30T20:08:36.602Z"
   },
   {
    "duration": 533,
    "start_time": "2022-12-30T20:08:43.372Z"
   },
   {
    "duration": 527,
    "start_time": "2022-12-30T20:08:53.661Z"
   },
   {
    "duration": 260,
    "start_time": "2022-12-30T20:09:05.490Z"
   },
   {
    "duration": 5,
    "start_time": "2022-12-30T20:25:51.100Z"
   },
   {
    "duration": 43,
    "start_time": "2022-12-30T20:35:18.445Z"
   },
   {
    "duration": 11,
    "start_time": "2022-12-30T20:35:21.754Z"
   },
   {
    "duration": 4,
    "start_time": "2022-12-30T20:35:23.814Z"
   },
   {
    "duration": 5,
    "start_time": "2022-12-30T20:35:35.683Z"
   },
   {
    "duration": 1271,
    "start_time": "2022-12-30T20:38:15.568Z"
   },
   {
    "duration": 2,
    "start_time": "2022-12-30T20:38:16.841Z"
   },
   {
    "duration": 6,
    "start_time": "2022-12-30T20:38:16.845Z"
   },
   {
    "duration": 211,
    "start_time": "2022-12-30T20:38:16.853Z"
   },
   {
    "duration": 118,
    "start_time": "2022-12-30T20:38:17.065Z"
   },
   {
    "duration": 97,
    "start_time": "2022-12-30T20:38:17.184Z"
   },
   {
    "duration": 73,
    "start_time": "2022-12-30T20:38:17.283Z"
   },
   {
    "duration": 38,
    "start_time": "2022-12-30T20:38:17.358Z"
   },
   {
    "duration": 5,
    "start_time": "2022-12-30T20:38:17.397Z"
   },
   {
    "duration": 3,
    "start_time": "2022-12-30T20:38:17.416Z"
   },
   {
    "duration": 19,
    "start_time": "2022-12-30T20:38:17.421Z"
   },
   {
    "duration": 7,
    "start_time": "2022-12-30T20:38:17.441Z"
   },
   {
    "duration": 178,
    "start_time": "2022-12-30T20:38:17.449Z"
   },
   {
    "duration": 8,
    "start_time": "2022-12-30T20:38:17.628Z"
   },
   {
    "duration": 48,
    "start_time": "2022-12-30T20:38:17.637Z"
   },
   {
    "duration": 3,
    "start_time": "2022-12-30T20:38:17.687Z"
   },
   {
    "duration": 186,
    "start_time": "2022-12-30T20:38:17.691Z"
   },
   {
    "duration": 8,
    "start_time": "2022-12-30T20:38:17.879Z"
   },
   {
    "duration": 145,
    "start_time": "2022-12-30T20:38:17.888Z"
   },
   {
    "duration": 18,
    "start_time": "2022-12-30T20:38:18.035Z"
   },
   {
    "duration": 12,
    "start_time": "2022-12-30T20:38:18.055Z"
   },
   {
    "duration": 148,
    "start_time": "2022-12-30T20:38:18.069Z"
   },
   {
    "duration": 10,
    "start_time": "2022-12-30T20:38:18.218Z"
   },
   {
    "duration": 9,
    "start_time": "2022-12-30T20:38:18.229Z"
   },
   {
    "duration": 8,
    "start_time": "2022-12-30T20:38:18.239Z"
   },
   {
    "duration": 5,
    "start_time": "2022-12-30T20:38:18.248Z"
   },
   {
    "duration": 10,
    "start_time": "2022-12-30T20:38:18.254Z"
   },
   {
    "duration": 4,
    "start_time": "2022-12-30T20:38:18.267Z"
   },
   {
    "duration": 6,
    "start_time": "2022-12-30T20:38:18.272Z"
   },
   {
    "duration": 38,
    "start_time": "2022-12-30T20:38:18.279Z"
   },
   {
    "duration": 15,
    "start_time": "2022-12-30T20:38:18.319Z"
   },
   {
    "duration": 158,
    "start_time": "2022-12-30T20:38:18.336Z"
   },
   {
    "duration": 4,
    "start_time": "2022-12-30T20:38:18.495Z"
   },
   {
    "duration": 16,
    "start_time": "2022-12-30T20:38:18.500Z"
   },
   {
    "duration": 236,
    "start_time": "2022-12-30T20:38:18.517Z"
   },
   {
    "duration": 4,
    "start_time": "2022-12-30T20:38:18.754Z"
   },
   {
    "duration": 14,
    "start_time": "2022-12-30T20:38:18.759Z"
   },
   {
    "duration": 5,
    "start_time": "2022-12-30T20:38:18.775Z"
   },
   {
    "duration": 19,
    "start_time": "2022-12-30T20:38:18.782Z"
   },
   {
    "duration": 19,
    "start_time": "2022-12-30T20:38:18.803Z"
   },
   {
    "duration": 34,
    "start_time": "2022-12-30T20:38:18.823Z"
   },
   {
    "duration": 166,
    "start_time": "2022-12-30T20:38:18.858Z"
   },
   {
    "duration": 8,
    "start_time": "2022-12-30T20:38:19.025Z"
   },
   {
    "duration": 2203,
    "start_time": "2022-12-30T20:38:19.034Z"
   },
   {
    "duration": 28,
    "start_time": "2022-12-30T20:38:21.239Z"
   },
   {
    "duration": 220,
    "start_time": "2022-12-30T20:38:21.269Z"
   },
   {
    "duration": 7,
    "start_time": "2022-12-30T20:38:21.491Z"
   },
   {
    "duration": 270,
    "start_time": "2022-12-30T20:38:21.500Z"
   },
   {
    "duration": 8,
    "start_time": "2022-12-30T20:38:21.772Z"
   },
   {
    "duration": 8,
    "start_time": "2022-12-30T20:38:21.782Z"
   },
   {
    "duration": 163,
    "start_time": "2022-12-30T20:38:21.791Z"
   },
   {
    "duration": 5,
    "start_time": "2022-12-30T20:38:21.956Z"
   },
   {
    "duration": 10,
    "start_time": "2022-12-30T20:38:21.962Z"
   },
   {
    "duration": 291,
    "start_time": "2022-12-30T20:38:21.974Z"
   },
   {
    "duration": 5,
    "start_time": "2022-12-30T20:38:22.267Z"
   },
   {
    "duration": 162,
    "start_time": "2022-12-30T20:38:22.273Z"
   },
   {
    "duration": 10,
    "start_time": "2022-12-30T20:38:22.437Z"
   },
   {
    "duration": 50,
    "start_time": "2022-12-30T20:38:22.449Z"
   },
   {
    "duration": 179,
    "start_time": "2022-12-30T20:38:22.500Z"
   },
   {
    "duration": 4,
    "start_time": "2022-12-30T20:38:22.681Z"
   },
   {
    "duration": 248,
    "start_time": "2022-12-30T20:38:22.687Z"
   },
   {
    "duration": 6,
    "start_time": "2022-12-30T20:38:22.936Z"
   },
   {
    "duration": 14,
    "start_time": "2022-12-30T20:38:22.943Z"
   },
   {
    "duration": 5,
    "start_time": "2022-12-30T20:38:28.015Z"
   },
   {
    "duration": 934,
    "start_time": "2022-12-30T20:39:10.723Z"
   },
   {
    "duration": 4,
    "start_time": "2022-12-30T20:40:55.313Z"
   },
   {
    "duration": 5,
    "start_time": "2022-12-30T20:40:59.431Z"
   },
   {
    "duration": 4,
    "start_time": "2022-12-30T20:41:10.680Z"
   },
   {
    "duration": 1081,
    "start_time": "2022-12-30T20:41:33.872Z"
   },
   {
    "duration": 4,
    "start_time": "2022-12-30T20:44:59.938Z"
   },
   {
    "duration": 5,
    "start_time": "2022-12-30T20:45:04.049Z"
   },
   {
    "duration": 5,
    "start_time": "2022-12-30T20:47:09.486Z"
   },
   {
    "duration": 5,
    "start_time": "2022-12-30T20:47:16.764Z"
   },
   {
    "duration": 12,
    "start_time": "2022-12-30T20:49:05.794Z"
   },
   {
    "duration": 4,
    "start_time": "2022-12-30T20:49:07.164Z"
   },
   {
    "duration": 5,
    "start_time": "2022-12-30T20:49:29.442Z"
   },
   {
    "duration": 5,
    "start_time": "2022-12-30T20:49:43.551Z"
   },
   {
    "duration": 4,
    "start_time": "2022-12-30T20:55:47.184Z"
   },
   {
    "duration": 166,
    "start_time": "2022-12-30T20:56:15.052Z"
   },
   {
    "duration": 1583,
    "start_time": "2022-12-30T20:57:30.394Z"
   },
   {
    "duration": 1621,
    "start_time": "2022-12-30T20:58:17.260Z"
   },
   {
    "duration": 1253,
    "start_time": "2022-12-30T20:59:11.384Z"
   },
   {
    "duration": 3,
    "start_time": "2022-12-30T20:59:12.639Z"
   },
   {
    "duration": 6,
    "start_time": "2022-12-30T20:59:12.643Z"
   },
   {
    "duration": 220,
    "start_time": "2022-12-30T20:59:12.650Z"
   },
   {
    "duration": 110,
    "start_time": "2022-12-30T20:59:12.871Z"
   },
   {
    "duration": 97,
    "start_time": "2022-12-30T20:59:12.982Z"
   },
   {
    "duration": 66,
    "start_time": "2022-12-30T20:59:13.080Z"
   },
   {
    "duration": 38,
    "start_time": "2022-12-30T20:59:13.148Z"
   },
   {
    "duration": 5,
    "start_time": "2022-12-30T20:59:13.188Z"
   },
   {
    "duration": 21,
    "start_time": "2022-12-30T20:59:13.196Z"
   },
   {
    "duration": 11,
    "start_time": "2022-12-30T20:59:13.219Z"
   },
   {
    "duration": 5,
    "start_time": "2022-12-30T20:59:13.231Z"
   },
   {
    "duration": 170,
    "start_time": "2022-12-30T20:59:13.238Z"
   },
   {
    "duration": 9,
    "start_time": "2022-12-30T20:59:13.410Z"
   },
   {
    "duration": 50,
    "start_time": "2022-12-30T20:59:13.420Z"
   },
   {
    "duration": 4,
    "start_time": "2022-12-30T20:59:13.471Z"
   },
   {
    "duration": 197,
    "start_time": "2022-12-30T20:59:13.476Z"
   },
   {
    "duration": 9,
    "start_time": "2022-12-30T20:59:13.675Z"
   },
   {
    "duration": 151,
    "start_time": "2022-12-30T20:59:13.686Z"
   },
   {
    "duration": 18,
    "start_time": "2022-12-30T20:59:13.839Z"
   },
   {
    "duration": 9,
    "start_time": "2022-12-30T20:59:13.858Z"
   },
   {
    "duration": 151,
    "start_time": "2022-12-30T20:59:13.868Z"
   },
   {
    "duration": 9,
    "start_time": "2022-12-30T20:59:14.021Z"
   },
   {
    "duration": 20,
    "start_time": "2022-12-30T20:59:14.031Z"
   },
   {
    "duration": 8,
    "start_time": "2022-12-30T20:59:14.053Z"
   },
   {
    "duration": 6,
    "start_time": "2022-12-30T20:59:14.062Z"
   },
   {
    "duration": 11,
    "start_time": "2022-12-30T20:59:14.069Z"
   },
   {
    "duration": 4,
    "start_time": "2022-12-30T20:59:14.083Z"
   },
   {
    "duration": 28,
    "start_time": "2022-12-30T20:59:14.088Z"
   },
   {
    "duration": 5,
    "start_time": "2022-12-30T20:59:14.117Z"
   },
   {
    "duration": 20,
    "start_time": "2022-12-30T20:59:14.123Z"
   },
   {
    "duration": 162,
    "start_time": "2022-12-30T20:59:14.144Z"
   },
   {
    "duration": 9,
    "start_time": "2022-12-30T20:59:14.307Z"
   },
   {
    "duration": 6,
    "start_time": "2022-12-30T20:59:14.317Z"
   },
   {
    "duration": 227,
    "start_time": "2022-12-30T20:59:14.324Z"
   },
   {
    "duration": 4,
    "start_time": "2022-12-30T20:59:14.552Z"
   },
   {
    "duration": 9,
    "start_time": "2022-12-30T20:59:14.557Z"
   },
   {
    "duration": 7,
    "start_time": "2022-12-30T20:59:14.568Z"
   },
   {
    "duration": 17,
    "start_time": "2022-12-30T20:59:14.576Z"
   },
   {
    "duration": 22,
    "start_time": "2022-12-30T20:59:14.594Z"
   },
   {
    "duration": 42,
    "start_time": "2022-12-30T20:59:14.617Z"
   },
   {
    "duration": 158,
    "start_time": "2022-12-30T20:59:14.660Z"
   },
   {
    "duration": 8,
    "start_time": "2022-12-30T20:59:14.819Z"
   },
   {
    "duration": 2259,
    "start_time": "2022-12-30T20:59:14.828Z"
   },
   {
    "duration": 33,
    "start_time": "2022-12-30T20:59:17.089Z"
   },
   {
    "duration": 220,
    "start_time": "2022-12-30T20:59:17.124Z"
   },
   {
    "duration": 7,
    "start_time": "2022-12-30T20:59:17.346Z"
   },
   {
    "duration": 270,
    "start_time": "2022-12-30T20:59:17.354Z"
   },
   {
    "duration": 9,
    "start_time": "2022-12-30T20:59:17.626Z"
   },
   {
    "duration": 12,
    "start_time": "2022-12-30T20:59:17.636Z"
   },
   {
    "duration": 159,
    "start_time": "2022-12-30T20:59:17.650Z"
   },
   {
    "duration": 4,
    "start_time": "2022-12-30T20:59:17.815Z"
   },
   {
    "duration": 9,
    "start_time": "2022-12-30T20:59:17.821Z"
   },
   {
    "duration": 261,
    "start_time": "2022-12-30T20:59:17.831Z"
   },
   {
    "duration": 5,
    "start_time": "2022-12-30T20:59:18.093Z"
   },
   {
    "duration": 960,
    "start_time": "2022-12-30T20:59:18.099Z"
   },
   {
    "duration": 5,
    "start_time": "2022-12-30T20:59:19.060Z"
   },
   {
    "duration": 16,
    "start_time": "2022-12-30T20:59:19.067Z"
   },
   {
    "duration": 11,
    "start_time": "2022-12-30T20:59:19.085Z"
   },
   {
    "duration": 42,
    "start_time": "2022-12-30T20:59:19.098Z"
   },
   {
    "duration": 178,
    "start_time": "2022-12-30T20:59:19.141Z"
   },
   {
    "duration": 4,
    "start_time": "2022-12-30T20:59:19.320Z"
   },
   {
    "duration": 240,
    "start_time": "2022-12-30T20:59:19.325Z"
   },
   {
    "duration": 4,
    "start_time": "2022-12-30T20:59:19.566Z"
   },
   {
    "duration": 16,
    "start_time": "2022-12-30T20:59:19.572Z"
   },
   {
    "duration": 4,
    "start_time": "2022-12-30T21:00:46.965Z"
   },
   {
    "duration": 1608,
    "start_time": "2022-12-30T21:00:48.385Z"
   },
   {
    "duration": 6,
    "start_time": "2022-12-30T21:01:17.352Z"
   },
   {
    "duration": 4,
    "start_time": "2022-12-30T21:01:26.795Z"
   },
   {
    "duration": 6,
    "start_time": "2022-12-30T21:01:44.050Z"
   },
   {
    "duration": 5,
    "start_time": "2022-12-30T21:02:09.978Z"
   },
   {
    "duration": 6,
    "start_time": "2022-12-30T21:02:15.027Z"
   },
   {
    "duration": 5,
    "start_time": "2022-12-30T21:02:20.857Z"
   },
   {
    "duration": 5,
    "start_time": "2022-12-30T21:02:30.636Z"
   },
   {
    "duration": 40,
    "start_time": "2022-12-30T21:09:54.549Z"
   },
   {
    "duration": 9,
    "start_time": "2022-12-30T21:10:03.344Z"
   },
   {
    "duration": 178,
    "start_time": "2022-12-30T21:10:15.860Z"
   },
   {
    "duration": 48,
    "start_time": "2022-12-30T21:10:32.504Z"
   },
   {
    "duration": 183,
    "start_time": "2022-12-30T21:10:51.027Z"
   },
   {
    "duration": 5,
    "start_time": "2022-12-30T21:11:09.053Z"
   },
   {
    "duration": 173,
    "start_time": "2022-12-30T21:14:36.296Z"
   },
   {
    "duration": 4,
    "start_time": "2022-12-30T21:19:21.105Z"
   },
   {
    "duration": 6,
    "start_time": "2022-12-30T21:19:27.577Z"
   },
   {
    "duration": 5,
    "start_time": "2022-12-30T21:19:32.635Z"
   },
   {
    "duration": 5,
    "start_time": "2022-12-30T21:19:36.655Z"
   },
   {
    "duration": 5,
    "start_time": "2022-12-30T21:19:45.014Z"
   },
   {
    "duration": 4,
    "start_time": "2022-12-30T21:20:03.623Z"
   },
   {
    "duration": 11,
    "start_time": "2022-12-30T21:20:28.091Z"
   },
   {
    "duration": 154,
    "start_time": "2022-12-30T21:20:29.760Z"
   },
   {
    "duration": 4,
    "start_time": "2022-12-30T21:23:03.624Z"
   },
   {
    "duration": 5,
    "start_time": "2022-12-30T21:23:09.174Z"
   },
   {
    "duration": 181,
    "start_time": "2022-12-30T21:23:15.254Z"
   },
   {
    "duration": 4,
    "start_time": "2022-12-30T21:30:15.542Z"
   },
   {
    "duration": 190,
    "start_time": "2022-12-30T21:30:21.191Z"
   },
   {
    "duration": 66,
    "start_time": "2022-12-30T21:35:22.743Z"
   },
   {
    "duration": 1226,
    "start_time": "2022-12-30T21:36:10.660Z"
   },
   {
    "duration": 3,
    "start_time": "2022-12-30T21:36:11.888Z"
   },
   {
    "duration": 6,
    "start_time": "2022-12-30T21:36:11.892Z"
   },
   {
    "duration": 222,
    "start_time": "2022-12-30T21:36:11.901Z"
   },
   {
    "duration": 115,
    "start_time": "2022-12-30T21:36:12.125Z"
   },
   {
    "duration": 107,
    "start_time": "2022-12-30T21:36:12.242Z"
   },
   {
    "duration": 67,
    "start_time": "2022-12-30T21:36:12.351Z"
   },
   {
    "duration": 40,
    "start_time": "2022-12-30T21:36:12.420Z"
   },
   {
    "duration": 4,
    "start_time": "2022-12-30T21:36:12.462Z"
   },
   {
    "duration": 7,
    "start_time": "2022-12-30T21:36:12.469Z"
   },
   {
    "duration": 14,
    "start_time": "2022-12-30T21:36:12.478Z"
   },
   {
    "duration": 22,
    "start_time": "2022-12-30T21:36:12.494Z"
   },
   {
    "duration": 174,
    "start_time": "2022-12-30T21:36:12.517Z"
   },
   {
    "duration": 8,
    "start_time": "2022-12-30T21:36:12.693Z"
   },
   {
    "duration": 60,
    "start_time": "2022-12-30T21:36:12.702Z"
   },
   {
    "duration": 3,
    "start_time": "2022-12-30T21:36:12.764Z"
   },
   {
    "duration": 181,
    "start_time": "2022-12-30T21:36:12.768Z"
   },
   {
    "duration": 9,
    "start_time": "2022-12-30T21:36:12.950Z"
   },
   {
    "duration": 153,
    "start_time": "2022-12-30T21:36:12.960Z"
   },
   {
    "duration": 16,
    "start_time": "2022-12-30T21:36:13.116Z"
   },
   {
    "duration": 9,
    "start_time": "2022-12-30T21:36:13.134Z"
   },
   {
    "duration": 151,
    "start_time": "2022-12-30T21:36:13.145Z"
   },
   {
    "duration": 17,
    "start_time": "2022-12-30T21:36:13.298Z"
   },
   {
    "duration": 8,
    "start_time": "2022-12-30T21:36:13.317Z"
   },
   {
    "duration": 8,
    "start_time": "2022-12-30T21:36:13.326Z"
   },
   {
    "duration": 6,
    "start_time": "2022-12-30T21:36:13.335Z"
   },
   {
    "duration": 13,
    "start_time": "2022-12-30T21:36:13.343Z"
   },
   {
    "duration": 4,
    "start_time": "2022-12-30T21:36:13.361Z"
   },
   {
    "duration": 6,
    "start_time": "2022-12-30T21:36:13.367Z"
   },
   {
    "duration": 6,
    "start_time": "2022-12-30T21:36:13.375Z"
   },
   {
    "duration": 14,
    "start_time": "2022-12-30T21:36:13.416Z"
   },
   {
    "duration": 159,
    "start_time": "2022-12-30T21:36:13.432Z"
   },
   {
    "duration": 4,
    "start_time": "2022-12-30T21:36:13.592Z"
   },
   {
    "duration": 7,
    "start_time": "2022-12-30T21:36:13.597Z"
   },
   {
    "duration": 235,
    "start_time": "2022-12-30T21:36:13.615Z"
   },
   {
    "duration": 3,
    "start_time": "2022-12-30T21:36:13.852Z"
   },
   {
    "duration": 6,
    "start_time": "2022-12-30T21:36:13.857Z"
   },
   {
    "duration": 5,
    "start_time": "2022-12-30T21:36:13.864Z"
   },
   {
    "duration": 16,
    "start_time": "2022-12-30T21:36:13.871Z"
   },
   {
    "duration": 27,
    "start_time": "2022-12-30T21:36:13.889Z"
   },
   {
    "duration": 37,
    "start_time": "2022-12-30T21:36:13.917Z"
   },
   {
    "duration": 184,
    "start_time": "2022-12-30T21:36:13.956Z"
   },
   {
    "duration": 12,
    "start_time": "2022-12-30T21:36:14.142Z"
   },
   {
    "duration": 2225,
    "start_time": "2022-12-30T21:36:14.156Z"
   },
   {
    "duration": 49,
    "start_time": "2022-12-30T21:36:16.383Z"
   },
   {
    "duration": 222,
    "start_time": "2022-12-30T21:36:16.434Z"
   },
   {
    "duration": 7,
    "start_time": "2022-12-30T21:36:16.658Z"
   },
   {
    "duration": 266,
    "start_time": "2022-12-30T21:36:16.667Z"
   },
   {
    "duration": 9,
    "start_time": "2022-12-30T21:36:16.935Z"
   },
   {
    "duration": 9,
    "start_time": "2022-12-30T21:36:16.945Z"
   },
   {
    "duration": 162,
    "start_time": "2022-12-30T21:36:16.955Z"
   },
   {
    "duration": 4,
    "start_time": "2022-12-30T21:36:17.118Z"
   },
   {
    "duration": 7,
    "start_time": "2022-12-30T21:36:17.124Z"
   },
   {
    "duration": 270,
    "start_time": "2022-12-30T21:36:17.132Z"
   },
   {
    "duration": 11,
    "start_time": "2022-12-30T21:36:17.404Z"
   },
   {
    "duration": 951,
    "start_time": "2022-12-30T21:36:17.417Z"
   },
   {
    "duration": 4,
    "start_time": "2022-12-30T21:36:18.370Z"
   },
   {
    "duration": 17,
    "start_time": "2022-12-30T21:36:18.376Z"
   },
   {
    "duration": 8,
    "start_time": "2022-12-30T21:36:18.394Z"
   },
   {
    "duration": 28,
    "start_time": "2022-12-30T21:36:18.415Z"
   },
   {
    "duration": 173,
    "start_time": "2022-12-30T21:36:18.444Z"
   },
   {
    "duration": 4,
    "start_time": "2022-12-30T21:36:18.619Z"
   },
   {
    "duration": 250,
    "start_time": "2022-12-30T21:36:18.624Z"
   },
   {
    "duration": 5,
    "start_time": "2022-12-30T21:36:18.875Z"
   },
   {
    "duration": 15,
    "start_time": "2022-12-30T21:36:18.881Z"
   },
   {
    "duration": 3,
    "start_time": "2022-12-30T21:36:18.898Z"
   },
   {
    "duration": 1634,
    "start_time": "2022-12-30T21:36:18.915Z"
   },
   {
    "duration": 4,
    "start_time": "2022-12-30T21:36:20.551Z"
   },
   {
    "duration": 11,
    "start_time": "2022-12-30T21:36:20.556Z"
   },
   {
    "duration": 194,
    "start_time": "2022-12-30T21:36:20.568Z"
   },
   {
    "duration": 5,
    "start_time": "2022-12-30T21:36:20.763Z"
   },
   {
    "duration": 171,
    "start_time": "2022-12-30T21:36:20.769Z"
   },
   {
    "duration": 5,
    "start_time": "2022-12-30T21:36:20.942Z"
   },
   {
    "duration": 15,
    "start_time": "2022-12-30T21:36:20.948Z"
   },
   {
    "duration": 5,
    "start_time": "2022-12-30T21:36:20.964Z"
   },
   {
    "duration": 196,
    "start_time": "2022-12-30T21:36:20.970Z"
   },
   {
    "duration": 4,
    "start_time": "2022-12-30T21:36:21.167Z"
   },
   {
    "duration": 201,
    "start_time": "2022-12-30T21:36:21.172Z"
   },
   {
    "duration": 1262,
    "start_time": "2022-12-31T17:26:23.849Z"
   },
   {
    "duration": 3,
    "start_time": "2022-12-31T17:26:25.113Z"
   },
   {
    "duration": 7,
    "start_time": "2022-12-31T17:26:25.117Z"
   },
   {
    "duration": 215,
    "start_time": "2022-12-31T17:26:25.125Z"
   },
   {
    "duration": 116,
    "start_time": "2022-12-31T17:26:25.342Z"
   },
   {
    "duration": 98,
    "start_time": "2022-12-31T17:26:25.459Z"
   },
   {
    "duration": 61,
    "start_time": "2022-12-31T17:26:25.559Z"
   },
   {
    "duration": 37,
    "start_time": "2022-12-31T17:26:25.622Z"
   },
   {
    "duration": 4,
    "start_time": "2022-12-31T17:26:25.661Z"
   },
   {
    "duration": 4,
    "start_time": "2022-12-31T17:26:25.667Z"
   },
   {
    "duration": 6,
    "start_time": "2022-12-31T17:26:25.673Z"
   },
   {
    "duration": 6,
    "start_time": "2022-12-31T17:26:25.681Z"
   },
   {
    "duration": 193,
    "start_time": "2022-12-31T17:26:25.688Z"
   },
   {
    "duration": 8,
    "start_time": "2022-12-31T17:26:25.884Z"
   },
   {
    "duration": 60,
    "start_time": "2022-12-31T17:26:25.893Z"
   },
   {
    "duration": 3,
    "start_time": "2022-12-31T17:26:25.954Z"
   },
   {
    "duration": 192,
    "start_time": "2022-12-31T17:26:25.959Z"
   },
   {
    "duration": 10,
    "start_time": "2022-12-31T17:26:26.153Z"
   },
   {
    "duration": 195,
    "start_time": "2022-12-31T17:26:26.164Z"
   },
   {
    "duration": 18,
    "start_time": "2022-12-31T17:26:26.361Z"
   },
   {
    "duration": 9,
    "start_time": "2022-12-31T17:26:26.381Z"
   },
   {
    "duration": 153,
    "start_time": "2022-12-31T17:26:26.391Z"
   },
   {
    "duration": 9,
    "start_time": "2022-12-31T17:26:26.545Z"
   },
   {
    "duration": 13,
    "start_time": "2022-12-31T17:26:26.555Z"
   },
   {
    "duration": 8,
    "start_time": "2022-12-31T17:26:26.569Z"
   },
   {
    "duration": 5,
    "start_time": "2022-12-31T17:26:26.578Z"
   },
   {
    "duration": 31,
    "start_time": "2022-12-31T17:26:26.584Z"
   },
   {
    "duration": 4,
    "start_time": "2022-12-31T17:26:26.617Z"
   },
   {
    "duration": 7,
    "start_time": "2022-12-31T17:26:26.622Z"
   },
   {
    "duration": 4,
    "start_time": "2022-12-31T17:26:26.630Z"
   },
   {
    "duration": 15,
    "start_time": "2022-12-31T17:26:26.635Z"
   },
   {
    "duration": 175,
    "start_time": "2022-12-31T17:26:26.652Z"
   },
   {
    "duration": 4,
    "start_time": "2022-12-31T17:26:26.828Z"
   },
   {
    "duration": 14,
    "start_time": "2022-12-31T17:26:26.834Z"
   },
   {
    "duration": 245,
    "start_time": "2022-12-31T17:26:26.850Z"
   },
   {
    "duration": 4,
    "start_time": "2022-12-31T17:26:27.097Z"
   },
   {
    "duration": 13,
    "start_time": "2022-12-31T17:26:27.103Z"
   },
   {
    "duration": 10,
    "start_time": "2022-12-31T17:26:27.117Z"
   },
   {
    "duration": 23,
    "start_time": "2022-12-31T17:26:27.129Z"
   },
   {
    "duration": 9,
    "start_time": "2022-12-31T17:26:27.153Z"
   },
   {
    "duration": 30,
    "start_time": "2022-12-31T17:26:27.166Z"
   },
   {
    "duration": 180,
    "start_time": "2022-12-31T17:26:27.197Z"
   },
   {
    "duration": 8,
    "start_time": "2022-12-31T17:26:27.378Z"
   },
   {
    "duration": 2164,
    "start_time": "2022-12-31T17:26:27.387Z"
   },
   {
    "duration": 29,
    "start_time": "2022-12-31T17:26:29.553Z"
   },
   {
    "duration": 220,
    "start_time": "2022-12-31T17:26:29.584Z"
   },
   {
    "duration": 13,
    "start_time": "2022-12-31T17:26:29.806Z"
   },
   {
    "duration": 256,
    "start_time": "2022-12-31T17:26:29.820Z"
   },
   {
    "duration": 11,
    "start_time": "2022-12-31T17:26:30.078Z"
   },
   {
    "duration": 18,
    "start_time": "2022-12-31T17:26:30.090Z"
   },
   {
    "duration": 155,
    "start_time": "2022-12-31T17:26:30.109Z"
   },
   {
    "duration": 4,
    "start_time": "2022-12-31T17:26:30.266Z"
   },
   {
    "duration": 37,
    "start_time": "2022-12-31T17:26:30.271Z"
   },
   {
    "duration": 262,
    "start_time": "2022-12-31T17:26:30.310Z"
   },
   {
    "duration": 4,
    "start_time": "2022-12-31T17:26:30.573Z"
   },
   {
    "duration": 964,
    "start_time": "2022-12-31T17:26:30.579Z"
   },
   {
    "duration": 5,
    "start_time": "2022-12-31T17:26:31.544Z"
   },
   {
    "duration": 15,
    "start_time": "2022-12-31T17:26:31.550Z"
   },
   {
    "duration": 14,
    "start_time": "2022-12-31T17:26:31.567Z"
   },
   {
    "duration": 39,
    "start_time": "2022-12-31T17:26:31.582Z"
   },
   {
    "duration": 168,
    "start_time": "2022-12-31T17:26:31.622Z"
   },
   {
    "duration": 4,
    "start_time": "2022-12-31T17:26:31.792Z"
   },
   {
    "duration": 245,
    "start_time": "2022-12-31T17:26:31.797Z"
   },
   {
    "duration": 5,
    "start_time": "2022-12-31T17:26:32.043Z"
   },
   {
    "duration": 17,
    "start_time": "2022-12-31T17:26:32.049Z"
   },
   {
    "duration": 3,
    "start_time": "2022-12-31T17:26:32.068Z"
   },
   {
    "duration": 1623,
    "start_time": "2022-12-31T17:26:32.073Z"
   },
   {
    "duration": 3,
    "start_time": "2022-12-31T17:26:33.698Z"
   },
   {
    "duration": 16,
    "start_time": "2022-12-31T17:26:33.703Z"
   },
   {
    "duration": 176,
    "start_time": "2022-12-31T17:26:33.720Z"
   },
   {
    "duration": 4,
    "start_time": "2022-12-31T17:26:33.898Z"
   },
   {
    "duration": 170,
    "start_time": "2022-12-31T17:26:33.903Z"
   },
   {
    "duration": 5,
    "start_time": "2022-12-31T17:26:34.075Z"
   },
   {
    "duration": 15,
    "start_time": "2022-12-31T17:26:34.082Z"
   },
   {
    "duration": 18,
    "start_time": "2022-12-31T17:26:34.099Z"
   },
   {
    "duration": 172,
    "start_time": "2022-12-31T17:26:34.118Z"
   },
   {
    "duration": 4,
    "start_time": "2022-12-31T17:26:34.292Z"
   },
   {
    "duration": 206,
    "start_time": "2022-12-31T17:26:34.298Z"
   },
   {
    "duration": 1575,
    "start_time": "2023-01-05T20:00:17.038Z"
   },
   {
    "duration": 3,
    "start_time": "2023-01-05T20:00:18.615Z"
   },
   {
    "duration": 39,
    "start_time": "2023-01-05T20:00:18.619Z"
   },
   {
    "duration": 474,
    "start_time": "2023-01-05T20:00:18.661Z"
   },
   {
    "duration": 157,
    "start_time": "2023-01-05T20:00:19.136Z"
   },
   {
    "duration": 120,
    "start_time": "2023-01-05T20:00:19.295Z"
   },
   {
    "duration": 77,
    "start_time": "2023-01-05T20:00:19.417Z"
   },
   {
    "duration": 52,
    "start_time": "2023-01-05T20:00:19.497Z"
   },
   {
    "duration": 4,
    "start_time": "2023-01-05T20:00:19.551Z"
   },
   {
    "duration": 10,
    "start_time": "2023-01-05T20:00:19.558Z"
   },
   {
    "duration": 12,
    "start_time": "2023-01-05T20:00:19.569Z"
   },
   {
    "duration": 5,
    "start_time": "2023-01-05T20:00:19.582Z"
   },
   {
    "duration": 209,
    "start_time": "2023-01-05T20:00:19.588Z"
   },
   {
    "duration": 9,
    "start_time": "2023-01-05T20:00:19.799Z"
   },
   {
    "duration": 71,
    "start_time": "2023-01-05T20:00:19.809Z"
   },
   {
    "duration": 3,
    "start_time": "2023-01-05T20:00:19.882Z"
   },
   {
    "duration": 220,
    "start_time": "2023-01-05T20:00:19.887Z"
   },
   {
    "duration": 9,
    "start_time": "2023-01-05T20:00:20.109Z"
   },
   {
    "duration": 177,
    "start_time": "2023-01-05T20:00:20.119Z"
   },
   {
    "duration": 18,
    "start_time": "2023-01-05T20:00:20.297Z"
   },
   {
    "duration": 21,
    "start_time": "2023-01-05T20:00:20.316Z"
   },
   {
    "duration": 168,
    "start_time": "2023-01-05T20:00:20.339Z"
   },
   {
    "duration": 11,
    "start_time": "2023-01-05T20:00:20.509Z"
   },
   {
    "duration": 22,
    "start_time": "2023-01-05T20:00:20.522Z"
   },
   {
    "duration": 12,
    "start_time": "2023-01-05T20:00:20.545Z"
   },
   {
    "duration": 20,
    "start_time": "2023-01-05T20:00:20.559Z"
   },
   {
    "duration": 17,
    "start_time": "2023-01-05T20:00:20.581Z"
   },
   {
    "duration": 4,
    "start_time": "2023-01-05T20:00:20.604Z"
   },
   {
    "duration": 10,
    "start_time": "2023-01-05T20:00:20.610Z"
   },
   {
    "duration": 9,
    "start_time": "2023-01-05T20:00:20.636Z"
   },
   {
    "duration": 22,
    "start_time": "2023-01-05T20:00:20.647Z"
   },
   {
    "duration": 185,
    "start_time": "2023-01-05T20:00:20.671Z"
   },
   {
    "duration": 5,
    "start_time": "2023-01-05T20:00:20.858Z"
   },
   {
    "duration": 7,
    "start_time": "2023-01-05T20:00:20.865Z"
   },
   {
    "duration": 271,
    "start_time": "2023-01-05T20:00:20.874Z"
   },
   {
    "duration": 4,
    "start_time": "2023-01-05T20:00:21.147Z"
   },
   {
    "duration": 8,
    "start_time": "2023-01-05T20:00:21.153Z"
   },
   {
    "duration": 8,
    "start_time": "2023-01-05T20:00:21.162Z"
   },
   {
    "duration": 26,
    "start_time": "2023-01-05T20:00:21.172Z"
   },
   {
    "duration": 9,
    "start_time": "2023-01-05T20:00:21.200Z"
   },
   {
    "duration": 58,
    "start_time": "2023-01-05T20:00:21.211Z"
   },
   {
    "duration": 194,
    "start_time": "2023-01-05T20:00:21.271Z"
   },
   {
    "duration": 8,
    "start_time": "2023-01-05T20:00:21.467Z"
   },
   {
    "duration": 2610,
    "start_time": "2023-01-05T20:00:21.477Z"
   },
   {
    "duration": 46,
    "start_time": "2023-01-05T20:00:24.089Z"
   },
   {
    "duration": 253,
    "start_time": "2023-01-05T20:00:24.137Z"
   },
   {
    "duration": 8,
    "start_time": "2023-01-05T20:00:24.391Z"
   },
   {
    "duration": 302,
    "start_time": "2023-01-05T20:00:24.401Z"
   },
   {
    "duration": 10,
    "start_time": "2023-01-05T20:00:24.705Z"
   },
   {
    "duration": 20,
    "start_time": "2023-01-05T20:00:24.717Z"
   },
   {
    "duration": 194,
    "start_time": "2023-01-05T20:00:24.739Z"
   },
   {
    "duration": 8,
    "start_time": "2023-01-05T20:00:24.935Z"
   },
   {
    "duration": 17,
    "start_time": "2023-01-05T20:00:24.945Z"
   },
   {
    "duration": 300,
    "start_time": "2023-01-05T20:00:24.964Z"
   },
   {
    "duration": 5,
    "start_time": "2023-01-05T20:00:25.267Z"
   },
   {
    "duration": 1141,
    "start_time": "2023-01-05T20:00:25.274Z"
   },
   {
    "duration": 5,
    "start_time": "2023-01-05T20:00:26.417Z"
   },
   {
    "duration": 33,
    "start_time": "2023-01-05T20:00:26.424Z"
   },
   {
    "duration": 10,
    "start_time": "2023-01-05T20:00:26.459Z"
   },
   {
    "duration": 50,
    "start_time": "2023-01-05T20:00:26.471Z"
   },
   {
    "duration": 207,
    "start_time": "2023-01-05T20:00:26.523Z"
   },
   {
    "duration": 5,
    "start_time": "2023-01-05T20:00:26.735Z"
   },
   {
    "duration": 307,
    "start_time": "2023-01-05T20:00:26.742Z"
   },
   {
    "duration": 5,
    "start_time": "2023-01-05T20:00:27.050Z"
   },
   {
    "duration": 32,
    "start_time": "2023-01-05T20:00:27.056Z"
   },
   {
    "duration": 24,
    "start_time": "2023-01-05T20:00:27.089Z"
   },
   {
    "duration": 1843,
    "start_time": "2023-01-05T20:00:27.114Z"
   },
   {
    "duration": 4,
    "start_time": "2023-01-05T20:00:28.959Z"
   },
   {
    "duration": 23,
    "start_time": "2023-01-05T20:00:28.965Z"
   },
   {
    "duration": 224,
    "start_time": "2023-01-05T20:00:28.990Z"
   },
   {
    "duration": 5,
    "start_time": "2023-01-05T20:00:29.216Z"
   },
   {
    "duration": 209,
    "start_time": "2023-01-05T20:00:29.222Z"
   },
   {
    "duration": 5,
    "start_time": "2023-01-05T20:00:29.435Z"
   },
   {
    "duration": 25,
    "start_time": "2023-01-05T20:00:29.441Z"
   },
   {
    "duration": 8,
    "start_time": "2023-01-05T20:00:29.468Z"
   },
   {
    "duration": 208,
    "start_time": "2023-01-05T20:00:29.478Z"
   },
   {
    "duration": 4,
    "start_time": "2023-01-05T20:00:29.688Z"
   },
   {
    "duration": 241,
    "start_time": "2023-01-05T20:00:29.694Z"
   },
   {
    "duration": 7,
    "start_time": "2023-01-05T20:09:38.136Z"
   },
   {
    "duration": 19,
    "start_time": "2023-01-05T20:09:47.288Z"
   },
   {
    "duration": 11,
    "start_time": "2023-01-05T20:11:16.738Z"
   },
   {
    "duration": 26,
    "start_time": "2023-01-05T20:11:27.338Z"
   },
   {
    "duration": 4,
    "start_time": "2023-01-05T20:16:38.699Z"
   },
   {
    "duration": 19,
    "start_time": "2023-01-05T20:16:38.705Z"
   },
   {
    "duration": 45,
    "start_time": "2023-01-05T20:16:38.726Z"
   },
   {
    "duration": 279,
    "start_time": "2023-01-05T20:16:38.773Z"
   },
   {
    "duration": 135,
    "start_time": "2023-01-05T20:16:39.055Z"
   },
   {
    "duration": 120,
    "start_time": "2023-01-05T20:16:39.192Z"
   },
   {
    "duration": 64,
    "start_time": "2023-01-05T20:16:39.314Z"
   },
   {
    "duration": 28,
    "start_time": "2023-01-05T20:16:39.380Z"
   },
   {
    "duration": 4,
    "start_time": "2023-01-05T20:16:39.411Z"
   },
   {
    "duration": 4,
    "start_time": "2023-01-05T20:16:39.435Z"
   },
   {
    "duration": 10,
    "start_time": "2023-01-05T20:16:39.441Z"
   },
   {
    "duration": 10,
    "start_time": "2023-01-05T20:16:39.453Z"
   },
   {
    "duration": 190,
    "start_time": "2023-01-05T20:16:39.465Z"
   },
   {
    "duration": 9,
    "start_time": "2023-01-05T20:16:39.656Z"
   },
   {
    "duration": 56,
    "start_time": "2023-01-05T20:16:39.667Z"
   },
   {
    "duration": 4,
    "start_time": "2023-01-05T20:16:39.734Z"
   },
   {
    "duration": 199,
    "start_time": "2023-01-05T20:16:39.739Z"
   },
   {
    "duration": 9,
    "start_time": "2023-01-05T20:16:39.940Z"
   },
   {
    "duration": 167,
    "start_time": "2023-01-05T20:16:39.951Z"
   },
   {
    "duration": 27,
    "start_time": "2023-01-05T20:16:40.120Z"
   },
   {
    "duration": 11,
    "start_time": "2023-01-05T20:16:40.149Z"
   },
   {
    "duration": 156,
    "start_time": "2023-01-05T20:16:40.161Z"
   },
   {
    "duration": 21,
    "start_time": "2023-01-05T20:16:40.318Z"
   },
   {
    "duration": 9,
    "start_time": "2023-01-05T20:16:40.341Z"
   },
   {
    "duration": 12,
    "start_time": "2023-01-05T20:16:40.351Z"
   },
   {
    "duration": 12,
    "start_time": "2023-01-05T20:16:40.364Z"
   },
   {
    "duration": 26,
    "start_time": "2023-01-05T20:16:40.377Z"
   },
   {
    "duration": 15,
    "start_time": "2023-01-05T20:16:40.405Z"
   },
   {
    "duration": 7,
    "start_time": "2023-01-05T20:16:40.424Z"
   },
   {
    "duration": 14,
    "start_time": "2023-01-05T20:16:40.433Z"
   },
   {
    "duration": 118,
    "start_time": "2023-01-05T20:16:40.449Z"
   },
   {
    "duration": 169,
    "start_time": "2023-01-05T20:16:40.568Z"
   },
   {
    "duration": 4,
    "start_time": "2023-01-05T20:16:40.738Z"
   },
   {
    "duration": 14,
    "start_time": "2023-01-05T20:16:40.744Z"
   },
   {
    "duration": 178,
    "start_time": "2023-01-05T20:16:40.760Z"
   },
   {
    "duration": 4,
    "start_time": "2023-01-05T20:16:40.940Z"
   },
   {
    "duration": 13,
    "start_time": "2023-01-05T20:16:40.945Z"
   },
   {
    "duration": 8,
    "start_time": "2023-01-05T20:16:40.960Z"
   },
   {
    "duration": 19,
    "start_time": "2023-01-05T20:16:40.969Z"
   },
   {
    "duration": 10,
    "start_time": "2023-01-05T20:16:40.990Z"
   },
   {
    "duration": 50,
    "start_time": "2023-01-05T20:16:41.001Z"
   },
   {
    "duration": 179,
    "start_time": "2023-01-05T20:16:41.053Z"
   },
   {
    "duration": 8,
    "start_time": "2023-01-05T20:16:41.235Z"
   },
   {
    "duration": 2509,
    "start_time": "2023-01-05T20:16:41.245Z"
   },
   {
    "duration": 35,
    "start_time": "2023-01-05T20:16:43.755Z"
   },
   {
    "duration": 373,
    "start_time": "2023-01-05T20:16:43.792Z"
   },
   {
    "duration": 8,
    "start_time": "2023-01-05T20:16:44.167Z"
   },
   {
    "duration": 199,
    "start_time": "2023-01-05T20:16:44.176Z"
   },
   {
    "duration": 10,
    "start_time": "2023-01-05T20:16:44.376Z"
   },
   {
    "duration": 12,
    "start_time": "2023-01-05T20:16:44.388Z"
   },
   {
    "duration": 176,
    "start_time": "2023-01-05T20:16:44.402Z"
   },
   {
    "duration": 4,
    "start_time": "2023-01-05T20:16:44.580Z"
   },
   {
    "duration": 11,
    "start_time": "2023-01-05T20:16:44.586Z"
   },
   {
    "duration": 278,
    "start_time": "2023-01-05T20:16:44.599Z"
   },
   {
    "duration": 5,
    "start_time": "2023-01-05T20:16:44.879Z"
   },
   {
    "duration": 1104,
    "start_time": "2023-01-05T20:16:44.885Z"
   },
   {
    "duration": 6,
    "start_time": "2023-01-05T20:16:45.990Z"
   },
   {
    "duration": 27,
    "start_time": "2023-01-05T20:16:45.998Z"
   },
   {
    "duration": 15,
    "start_time": "2023-01-05T20:16:46.028Z"
   },
   {
    "duration": 43,
    "start_time": "2023-01-05T20:16:46.045Z"
   },
   {
    "duration": 194,
    "start_time": "2023-01-05T20:16:46.090Z"
   },
   {
    "duration": 4,
    "start_time": "2023-01-05T20:16:46.286Z"
   },
   {
    "duration": 295,
    "start_time": "2023-01-05T20:16:46.292Z"
   },
   {
    "duration": 5,
    "start_time": "2023-01-05T20:16:46.589Z"
   },
   {
    "duration": 22,
    "start_time": "2023-01-05T20:16:46.596Z"
   },
   {
    "duration": 15,
    "start_time": "2023-01-05T20:16:46.620Z"
   },
   {
    "duration": 1947,
    "start_time": "2023-01-05T20:16:46.637Z"
   },
   {
    "duration": 5,
    "start_time": "2023-01-05T20:16:48.587Z"
   },
   {
    "duration": 28,
    "start_time": "2023-01-05T20:16:48.594Z"
   },
   {
    "duration": 218,
    "start_time": "2023-01-05T20:16:48.624Z"
   },
   {
    "duration": 6,
    "start_time": "2023-01-05T20:16:48.844Z"
   },
   {
    "duration": 203,
    "start_time": "2023-01-05T20:16:48.852Z"
   },
   {
    "duration": 6,
    "start_time": "2023-01-05T20:16:49.057Z"
   },
   {
    "duration": 23,
    "start_time": "2023-01-05T20:16:49.065Z"
   },
   {
    "duration": 12,
    "start_time": "2023-01-05T20:16:49.090Z"
   },
   {
    "duration": 230,
    "start_time": "2023-01-05T20:16:49.104Z"
   },
   {
    "duration": 6,
    "start_time": "2023-01-05T20:16:49.336Z"
   },
   {
    "duration": 247,
    "start_time": "2023-01-05T20:16:49.343Z"
   },
   {
    "duration": 13,
    "start_time": "2023-01-05T20:16:54.076Z"
   },
   {
    "duration": 32,
    "start_time": "2023-01-05T20:16:54.968Z"
   },
   {
    "duration": 18,
    "start_time": "2023-01-05T20:16:57.394Z"
   },
   {
    "duration": 28,
    "start_time": "2023-01-05T20:17:44.482Z"
   },
   {
    "duration": 18,
    "start_time": "2023-01-05T20:22:04.162Z"
   },
   {
    "duration": 37,
    "start_time": "2023-01-05T20:22:06.245Z"
   },
   {
    "duration": 39,
    "start_time": "2023-01-05T20:22:15.985Z"
   },
   {
    "duration": 44,
    "start_time": "2023-01-05T20:34:08.434Z"
   },
   {
    "duration": 75,
    "start_time": "2023-01-05T20:49:01.204Z"
   },
   {
    "duration": 82,
    "start_time": "2023-01-05T20:49:01.948Z"
   },
   {
    "duration": 122,
    "start_time": "2023-01-05T20:49:03.958Z"
   },
   {
    "duration": 20,
    "start_time": "2023-01-05T20:49:46.973Z"
   },
   {
    "duration": 11,
    "start_time": "2023-01-05T20:50:05.418Z"
   },
   {
    "duration": 13,
    "start_time": "2023-01-05T20:50:21.760Z"
   },
   {
    "duration": 10,
    "start_time": "2023-01-05T20:50:41.018Z"
   },
   {
    "duration": 22,
    "start_time": "2023-01-05T20:50:54.546Z"
   },
   {
    "duration": 74,
    "start_time": "2023-01-05T21:00:25.221Z"
   },
   {
    "duration": 74,
    "start_time": "2023-01-05T21:03:06.291Z"
   },
   {
    "duration": 138,
    "start_time": "2023-01-05T21:03:47.401Z"
   },
   {
    "duration": 782,
    "start_time": "2023-01-05T21:10:17.443Z"
   },
   {
    "duration": 735,
    "start_time": "2023-01-05T21:10:58.989Z"
   },
   {
    "duration": 787,
    "start_time": "2023-01-05T21:11:10.408Z"
   },
   {
    "duration": 20,
    "start_time": "2023-01-05T21:11:35.027Z"
   },
   {
    "duration": 34,
    "start_time": "2023-01-05T21:11:56.540Z"
   },
   {
    "duration": 32,
    "start_time": "2023-01-05T21:11:58.832Z"
   },
   {
    "duration": 76,
    "start_time": "2023-01-05T21:12:15.781Z"
   },
   {
    "duration": 33,
    "start_time": "2023-01-05T21:12:17.931Z"
   },
   {
    "duration": 4,
    "start_time": "2023-01-05T21:12:23.506Z"
   },
   {
    "duration": 32,
    "start_time": "2023-01-05T21:12:23.512Z"
   },
   {
    "duration": 15,
    "start_time": "2023-01-05T21:12:23.546Z"
   },
   {
    "duration": 224,
    "start_time": "2023-01-05T21:12:23.563Z"
   },
   {
    "duration": 131,
    "start_time": "2023-01-05T21:12:23.789Z"
   },
   {
    "duration": 99,
    "start_time": "2023-01-05T21:12:23.922Z"
   },
   {
    "duration": 57,
    "start_time": "2023-01-05T21:12:24.036Z"
   },
   {
    "duration": 43,
    "start_time": "2023-01-05T21:12:24.095Z"
   },
   {
    "duration": 5,
    "start_time": "2023-01-05T21:12:24.140Z"
   },
   {
    "duration": 16,
    "start_time": "2023-01-05T21:12:24.147Z"
   },
   {
    "duration": 15,
    "start_time": "2023-01-05T21:12:24.165Z"
   },
   {
    "duration": 22,
    "start_time": "2023-01-05T21:12:24.182Z"
   },
   {
    "duration": 174,
    "start_time": "2023-01-05T21:12:24.206Z"
   },
   {
    "duration": 9,
    "start_time": "2023-01-05T21:12:24.384Z"
   },
   {
    "duration": 63,
    "start_time": "2023-01-05T21:12:24.394Z"
   },
   {
    "duration": 3,
    "start_time": "2023-01-05T21:12:24.459Z"
   },
   {
    "duration": 206,
    "start_time": "2023-01-05T21:12:24.463Z"
   },
   {
    "duration": 8,
    "start_time": "2023-01-05T21:12:24.671Z"
   },
   {
    "duration": 165,
    "start_time": "2023-01-05T21:12:24.681Z"
   },
   {
    "duration": 23,
    "start_time": "2023-01-05T21:12:24.848Z"
   },
   {
    "duration": 10,
    "start_time": "2023-01-05T21:12:24.873Z"
   },
   {
    "duration": 185,
    "start_time": "2023-01-05T21:12:24.884Z"
   },
   {
    "duration": 13,
    "start_time": "2023-01-05T21:12:25.071Z"
   },
   {
    "duration": 34,
    "start_time": "2023-01-05T21:12:25.085Z"
   },
   {
    "duration": 23,
    "start_time": "2023-01-05T21:12:25.120Z"
   },
   {
    "duration": 33,
    "start_time": "2023-01-05T21:12:25.144Z"
   },
   {
    "duration": 21,
    "start_time": "2023-01-05T21:12:25.178Z"
   },
   {
    "duration": 7,
    "start_time": "2023-01-05T21:12:25.201Z"
   },
   {
    "duration": 42,
    "start_time": "2023-01-05T21:12:25.209Z"
   },
   {
    "duration": 29,
    "start_time": "2023-01-05T21:12:25.253Z"
   },
   {
    "duration": 81,
    "start_time": "2023-01-05T21:12:25.283Z"
   },
   {
    "duration": 183,
    "start_time": "2023-01-05T21:12:25.366Z"
   },
   {
    "duration": 5,
    "start_time": "2023-01-05T21:12:25.551Z"
   },
   {
    "duration": 33,
    "start_time": "2023-01-05T21:12:25.557Z"
   },
   {
    "duration": 191,
    "start_time": "2023-01-05T21:12:25.592Z"
   },
   {
    "duration": 5,
    "start_time": "2023-01-05T21:12:25.784Z"
   },
   {
    "duration": 24,
    "start_time": "2023-01-05T21:12:25.790Z"
   },
   {
    "duration": 18,
    "start_time": "2023-01-05T21:12:25.816Z"
   },
   {
    "duration": 46,
    "start_time": "2023-01-05T21:12:25.835Z"
   },
   {
    "duration": 15,
    "start_time": "2023-01-05T21:12:25.883Z"
   },
   {
    "duration": 43,
    "start_time": "2023-01-05T21:12:25.903Z"
   },
   {
    "duration": 194,
    "start_time": "2023-01-05T21:12:25.948Z"
   },
   {
    "duration": 7,
    "start_time": "2023-01-05T21:12:26.144Z"
   },
   {
    "duration": 2596,
    "start_time": "2023-01-05T21:12:26.153Z"
   },
   {
    "duration": 34,
    "start_time": "2023-01-05T21:12:28.751Z"
   },
   {
    "duration": 258,
    "start_time": "2023-01-05T21:12:28.787Z"
   },
   {
    "duration": 8,
    "start_time": "2023-01-05T21:12:29.046Z"
   },
   {
    "duration": 200,
    "start_time": "2023-01-05T21:12:29.056Z"
   },
   {
    "duration": 9,
    "start_time": "2023-01-05T21:12:29.257Z"
   },
   {
    "duration": 13,
    "start_time": "2023-01-05T21:12:29.268Z"
   },
   {
    "duration": 178,
    "start_time": "2023-01-05T21:12:29.283Z"
   },
   {
    "duration": 4,
    "start_time": "2023-01-05T21:12:29.463Z"
   },
   {
    "duration": 9,
    "start_time": "2023-01-05T21:12:29.468Z"
   },
   {
    "duration": 297,
    "start_time": "2023-01-05T21:12:29.478Z"
   },
   {
    "duration": 4,
    "start_time": "2023-01-05T21:12:29.777Z"
   },
   {
    "duration": 1252,
    "start_time": "2023-01-05T21:12:29.783Z"
   },
   {
    "duration": 5,
    "start_time": "2023-01-05T21:12:31.037Z"
   },
   {
    "duration": 29,
    "start_time": "2023-01-05T21:12:31.044Z"
   },
   {
    "duration": 9,
    "start_time": "2023-01-05T21:12:31.075Z"
   },
   {
    "duration": 59,
    "start_time": "2023-01-05T21:12:31.086Z"
   },
   {
    "duration": 202,
    "start_time": "2023-01-05T21:12:31.147Z"
   },
   {
    "duration": 5,
    "start_time": "2023-01-05T21:12:31.350Z"
   },
   {
    "duration": 305,
    "start_time": "2023-01-05T21:12:31.356Z"
   },
   {
    "duration": 5,
    "start_time": "2023-01-05T21:12:31.662Z"
   },
   {
    "duration": 42,
    "start_time": "2023-01-05T21:12:31.668Z"
   },
   {
    "duration": 14,
    "start_time": "2023-01-05T21:12:31.712Z"
   },
   {
    "duration": 1899,
    "start_time": "2023-01-05T21:12:31.728Z"
   },
   {
    "duration": 9,
    "start_time": "2023-01-05T21:12:33.629Z"
   },
   {
    "duration": 38,
    "start_time": "2023-01-05T21:12:33.640Z"
   },
   {
    "duration": 320,
    "start_time": "2023-01-05T21:12:33.680Z"
   },
   {
    "duration": 5,
    "start_time": "2023-01-05T21:12:34.002Z"
   },
   {
    "duration": 204,
    "start_time": "2023-01-05T21:12:34.009Z"
   },
   {
    "duration": 5,
    "start_time": "2023-01-05T21:12:34.214Z"
   },
   {
    "duration": 32,
    "start_time": "2023-01-05T21:12:34.221Z"
   },
   {
    "duration": 20,
    "start_time": "2023-01-05T21:12:34.255Z"
   },
   {
    "duration": 193,
    "start_time": "2023-01-05T21:12:34.277Z"
   },
   {
    "duration": 4,
    "start_time": "2023-01-05T21:12:34.472Z"
   },
   {
    "duration": 231,
    "start_time": "2023-01-05T21:12:34.478Z"
   },
   {
    "duration": 13,
    "start_time": "2023-01-05T21:12:34.710Z"
   },
   {
    "duration": 23,
    "start_time": "2023-01-05T21:12:34.725Z"
   },
   {
    "duration": 91,
    "start_time": "2023-01-05T21:12:34.750Z"
   },
   {
    "duration": 80,
    "start_time": "2023-01-05T21:12:34.843Z"
   },
   {
    "duration": 34,
    "start_time": "2023-01-05T21:12:37.720Z"
   },
   {
    "duration": 49,
    "start_time": "2023-01-05T21:28:51.753Z"
   },
   {
    "duration": 18,
    "start_time": "2023-01-05T21:29:25.441Z"
   },
   {
    "duration": 11,
    "start_time": "2023-01-05T21:29:51.518Z"
   },
   {
    "duration": 12,
    "start_time": "2023-01-05T21:29:57.787Z"
   },
   {
    "duration": 11,
    "start_time": "2023-01-05T21:30:02.846Z"
   },
   {
    "duration": 764,
    "start_time": "2023-01-05T21:31:58.166Z"
   },
   {
    "duration": 19,
    "start_time": "2023-01-05T21:32:15.096Z"
   },
   {
    "duration": 52,
    "start_time": "2023-01-05T21:32:34.433Z"
   },
   {
    "duration": 11,
    "start_time": "2023-01-05T21:32:35.927Z"
   },
   {
    "duration": 129,
    "start_time": "2023-01-05T21:33:00.250Z"
   },
   {
    "duration": 18,
    "start_time": "2023-01-05T21:33:05.558Z"
   },
   {
    "duration": 17,
    "start_time": "2023-01-05T21:33:27.466Z"
   },
   {
    "duration": 10,
    "start_time": "2023-01-05T21:33:30.165Z"
   },
   {
    "duration": 19,
    "start_time": "2023-01-05T21:33:41.597Z"
   },
   {
    "duration": 18,
    "start_time": "2023-01-05T21:49:53.929Z"
   },
   {
    "duration": 1397,
    "start_time": "2023-01-05T21:52:54.118Z"
   },
   {
    "duration": 3,
    "start_time": "2023-01-05T21:52:55.517Z"
   },
   {
    "duration": 22,
    "start_time": "2023-01-05T21:52:55.521Z"
   },
   {
    "duration": 249,
    "start_time": "2023-01-05T21:52:55.544Z"
   },
   {
    "duration": 143,
    "start_time": "2023-01-05T21:52:55.796Z"
   },
   {
    "duration": 116,
    "start_time": "2023-01-05T21:52:55.941Z"
   },
   {
    "duration": 78,
    "start_time": "2023-01-05T21:52:56.059Z"
   },
   {
    "duration": 42,
    "start_time": "2023-01-05T21:52:56.139Z"
   },
   {
    "duration": 5,
    "start_time": "2023-01-05T21:52:56.183Z"
   },
   {
    "duration": 13,
    "start_time": "2023-01-05T21:52:56.189Z"
   },
   {
    "duration": 11,
    "start_time": "2023-01-05T21:52:56.206Z"
   },
   {
    "duration": 19,
    "start_time": "2023-01-05T21:52:56.219Z"
   },
   {
    "duration": 189,
    "start_time": "2023-01-05T21:52:56.240Z"
   },
   {
    "duration": 9,
    "start_time": "2023-01-05T21:52:56.436Z"
   },
   {
    "duration": 60,
    "start_time": "2023-01-05T21:52:56.446Z"
   },
   {
    "duration": 3,
    "start_time": "2023-01-05T21:52:56.508Z"
   },
   {
    "duration": 214,
    "start_time": "2023-01-05T21:52:56.513Z"
   },
   {
    "duration": 12,
    "start_time": "2023-01-05T21:52:56.731Z"
   },
   {
    "duration": 185,
    "start_time": "2023-01-05T21:52:56.745Z"
   },
   {
    "duration": 19,
    "start_time": "2023-01-05T21:52:56.932Z"
   },
   {
    "duration": 11,
    "start_time": "2023-01-05T21:52:56.953Z"
   },
   {
    "duration": 175,
    "start_time": "2023-01-05T21:52:56.966Z"
   },
   {
    "duration": 10,
    "start_time": "2023-01-05T21:52:57.142Z"
   },
   {
    "duration": 12,
    "start_time": "2023-01-05T21:52:57.153Z"
   },
   {
    "duration": 10,
    "start_time": "2023-01-05T21:52:57.166Z"
   },
   {
    "duration": 5,
    "start_time": "2023-01-05T21:52:57.177Z"
   },
   {
    "duration": 15,
    "start_time": "2023-01-05T21:52:57.183Z"
   },
   {
    "duration": 11,
    "start_time": "2023-01-05T21:52:57.199Z"
   },
   {
    "duration": 26,
    "start_time": "2023-01-05T21:52:57.212Z"
   },
   {
    "duration": 5,
    "start_time": "2023-01-05T21:52:57.240Z"
   },
   {
    "duration": 25,
    "start_time": "2023-01-05T21:52:57.246Z"
   },
   {
    "duration": 177,
    "start_time": "2023-01-05T21:52:57.273Z"
   },
   {
    "duration": 4,
    "start_time": "2023-01-05T21:52:57.452Z"
   },
   {
    "duration": 15,
    "start_time": "2023-01-05T21:52:57.458Z"
   },
   {
    "duration": 271,
    "start_time": "2023-01-05T21:52:57.475Z"
   },
   {
    "duration": 3,
    "start_time": "2023-01-05T21:52:57.748Z"
   },
   {
    "duration": 9,
    "start_time": "2023-01-05T21:52:57.753Z"
   },
   {
    "duration": 8,
    "start_time": "2023-01-05T21:52:57.764Z"
   },
   {
    "duration": 24,
    "start_time": "2023-01-05T21:52:57.773Z"
   },
   {
    "duration": 9,
    "start_time": "2023-01-05T21:52:57.799Z"
   },
   {
    "duration": 52,
    "start_time": "2023-01-05T21:52:57.812Z"
   },
   {
    "duration": 179,
    "start_time": "2023-01-05T21:52:57.866Z"
   },
   {
    "duration": 8,
    "start_time": "2023-01-05T21:52:58.047Z"
   },
   {
    "duration": 2469,
    "start_time": "2023-01-05T21:52:58.056Z"
   },
   {
    "duration": 38,
    "start_time": "2023-01-05T21:53:00.527Z"
   },
   {
    "duration": 281,
    "start_time": "2023-01-05T21:53:00.567Z"
   },
   {
    "duration": 9,
    "start_time": "2023-01-05T21:53:00.851Z"
   },
   {
    "duration": 287,
    "start_time": "2023-01-05T21:53:00.862Z"
   },
   {
    "duration": 9,
    "start_time": "2023-01-05T21:53:01.151Z"
   },
   {
    "duration": 18,
    "start_time": "2023-01-05T21:53:01.161Z"
   },
   {
    "duration": 167,
    "start_time": "2023-01-05T21:53:01.181Z"
   },
   {
    "duration": 4,
    "start_time": "2023-01-05T21:53:01.350Z"
   },
   {
    "duration": 29,
    "start_time": "2023-01-05T21:53:01.356Z"
   },
   {
    "duration": 287,
    "start_time": "2023-01-05T21:53:01.387Z"
   },
   {
    "duration": 4,
    "start_time": "2023-01-05T21:53:01.676Z"
   },
   {
    "duration": 1162,
    "start_time": "2023-01-05T21:53:01.682Z"
   },
   {
    "duration": 5,
    "start_time": "2023-01-05T21:53:02.846Z"
   },
   {
    "duration": 26,
    "start_time": "2023-01-05T21:53:02.852Z"
   },
   {
    "duration": 11,
    "start_time": "2023-01-05T21:53:02.879Z"
   },
   {
    "duration": 30,
    "start_time": "2023-01-05T21:53:02.892Z"
   },
   {
    "duration": 202,
    "start_time": "2023-01-05T21:53:02.936Z"
   },
   {
    "duration": 4,
    "start_time": "2023-01-05T21:53:03.140Z"
   },
   {
    "duration": 292,
    "start_time": "2023-01-05T21:53:03.146Z"
   },
   {
    "duration": 5,
    "start_time": "2023-01-05T21:53:03.440Z"
   },
   {
    "duration": 20,
    "start_time": "2023-01-05T21:53:03.447Z"
   },
   {
    "duration": 4,
    "start_time": "2023-01-05T21:53:03.469Z"
   },
   {
    "duration": 1826,
    "start_time": "2023-01-05T21:53:03.475Z"
   },
   {
    "duration": 5,
    "start_time": "2023-01-05T21:53:05.302Z"
   },
   {
    "duration": 25,
    "start_time": "2023-01-05T21:53:05.308Z"
   },
   {
    "duration": 221,
    "start_time": "2023-01-05T21:53:05.335Z"
   },
   {
    "duration": 6,
    "start_time": "2023-01-05T21:53:05.557Z"
   },
   {
    "duration": 203,
    "start_time": "2023-01-05T21:53:05.565Z"
   },
   {
    "duration": 6,
    "start_time": "2023-01-05T21:53:05.770Z"
   },
   {
    "duration": 32,
    "start_time": "2023-01-05T21:53:05.778Z"
   },
   {
    "duration": 7,
    "start_time": "2023-01-05T21:53:05.811Z"
   },
   {
    "duration": 205,
    "start_time": "2023-01-05T21:53:05.820Z"
   },
   {
    "duration": 10,
    "start_time": "2023-01-05T21:53:06.027Z"
   },
   {
    "duration": 228,
    "start_time": "2023-01-05T21:53:06.039Z"
   },
   {
    "duration": 16,
    "start_time": "2023-01-05T21:53:06.269Z"
   },
   {
    "duration": 24,
    "start_time": "2023-01-05T21:53:06.287Z"
   },
   {
    "duration": 100,
    "start_time": "2023-01-05T21:53:06.312Z"
   },
   {
    "duration": 94,
    "start_time": "2023-01-05T21:53:06.415Z"
   },
   {
    "duration": 32,
    "start_time": "2023-01-05T21:53:06.511Z"
   },
   {
    "duration": 12,
    "start_time": "2023-01-05T21:53:13.660Z"
   },
   {
    "duration": 115,
    "start_time": "2023-01-05T21:53:15.020Z"
   },
   {
    "duration": 912,
    "start_time": "2023-01-05T21:53:30.300Z"
   },
   {
    "duration": 4,
    "start_time": "2023-01-05T21:56:27.200Z"
   },
   {
    "duration": 8,
    "start_time": "2023-01-05T21:56:27.211Z"
   },
   {
    "duration": 7,
    "start_time": "2023-01-05T21:56:27.220Z"
   },
   {
    "duration": 217,
    "start_time": "2023-01-05T21:56:27.229Z"
   },
   {
    "duration": 136,
    "start_time": "2023-01-05T21:56:27.448Z"
   },
   {
    "duration": 105,
    "start_time": "2023-01-05T21:56:27.586Z"
   },
   {
    "duration": 64,
    "start_time": "2023-01-05T21:56:27.692Z"
   },
   {
    "duration": 23,
    "start_time": "2023-01-05T21:56:27.758Z"
   },
   {
    "duration": 5,
    "start_time": "2023-01-05T21:56:27.783Z"
   },
   {
    "duration": 19,
    "start_time": "2023-01-05T21:56:27.790Z"
   },
   {
    "duration": 19,
    "start_time": "2023-01-05T21:56:27.812Z"
   },
   {
    "duration": 27,
    "start_time": "2023-01-05T21:56:27.833Z"
   },
   {
    "duration": 181,
    "start_time": "2023-01-05T21:56:27.862Z"
   },
   {
    "duration": 8,
    "start_time": "2023-01-05T21:56:28.045Z"
   },
   {
    "duration": 57,
    "start_time": "2023-01-05T21:56:28.056Z"
   },
   {
    "duration": 20,
    "start_time": "2023-01-05T21:56:28.115Z"
   },
   {
    "duration": 203,
    "start_time": "2023-01-05T21:56:28.137Z"
   },
   {
    "duration": 8,
    "start_time": "2023-01-05T21:56:28.342Z"
   },
   {
    "duration": 162,
    "start_time": "2023-01-05T21:56:28.352Z"
   },
   {
    "duration": 22,
    "start_time": "2023-01-05T21:56:28.515Z"
   },
   {
    "duration": 9,
    "start_time": "2023-01-05T21:56:28.539Z"
   },
   {
    "duration": 151,
    "start_time": "2023-01-05T21:56:28.550Z"
   },
   {
    "duration": 11,
    "start_time": "2023-01-05T21:56:28.703Z"
   },
   {
    "duration": 23,
    "start_time": "2023-01-05T21:56:28.715Z"
   },
   {
    "duration": 9,
    "start_time": "2023-01-05T21:56:28.740Z"
   },
   {
    "duration": 10,
    "start_time": "2023-01-05T21:56:28.751Z"
   },
   {
    "duration": 16,
    "start_time": "2023-01-05T21:56:28.762Z"
   },
   {
    "duration": 18,
    "start_time": "2023-01-05T21:56:28.780Z"
   },
   {
    "duration": 22,
    "start_time": "2023-01-05T21:56:28.800Z"
   },
   {
    "duration": 15,
    "start_time": "2023-01-05T21:56:28.823Z"
   },
   {
    "duration": 24,
    "start_time": "2023-01-05T21:56:28.841Z"
   },
   {
    "duration": 286,
    "start_time": "2023-01-05T21:56:28.867Z"
   },
   {
    "duration": 4,
    "start_time": "2023-01-05T21:56:29.155Z"
   },
   {
    "duration": 18,
    "start_time": "2023-01-05T21:56:29.160Z"
   },
   {
    "duration": 184,
    "start_time": "2023-01-05T21:56:29.180Z"
   },
   {
    "duration": 4,
    "start_time": "2023-01-05T21:56:29.366Z"
   },
   {
    "duration": 10,
    "start_time": "2023-01-05T21:56:29.371Z"
   },
   {
    "duration": 7,
    "start_time": "2023-01-05T21:56:29.382Z"
   },
   {
    "duration": 21,
    "start_time": "2023-01-05T21:56:29.390Z"
   },
   {
    "duration": 22,
    "start_time": "2023-01-05T21:56:29.413Z"
   },
   {
    "duration": 38,
    "start_time": "2023-01-05T21:56:29.437Z"
   },
   {
    "duration": 190,
    "start_time": "2023-01-05T21:56:29.480Z"
   },
   {
    "duration": 8,
    "start_time": "2023-01-05T21:56:29.672Z"
   },
   {
    "duration": 2355,
    "start_time": "2023-01-05T21:56:29.682Z"
   },
   {
    "duration": 35,
    "start_time": "2023-01-05T21:56:32.038Z"
   },
   {
    "duration": 347,
    "start_time": "2023-01-05T21:56:32.075Z"
   },
   {
    "duration": 14,
    "start_time": "2023-01-05T21:56:32.424Z"
   },
   {
    "duration": 253,
    "start_time": "2023-01-05T21:56:32.440Z"
   },
   {
    "duration": 8,
    "start_time": "2023-01-05T21:56:32.696Z"
   },
   {
    "duration": 13,
    "start_time": "2023-01-05T21:56:32.706Z"
   },
   {
    "duration": 172,
    "start_time": "2023-01-05T21:56:32.721Z"
   },
   {
    "duration": 4,
    "start_time": "2023-01-05T21:56:32.895Z"
   },
   {
    "duration": 10,
    "start_time": "2023-01-05T21:56:32.901Z"
   },
   {
    "duration": 290,
    "start_time": "2023-01-05T21:56:32.913Z"
   },
   {
    "duration": 4,
    "start_time": "2023-01-05T21:56:33.205Z"
   },
   {
    "duration": 1115,
    "start_time": "2023-01-05T21:56:33.211Z"
   },
   {
    "duration": 10,
    "start_time": "2023-01-05T21:56:34.327Z"
   },
   {
    "duration": 31,
    "start_time": "2023-01-05T21:56:34.339Z"
   },
   {
    "duration": 10,
    "start_time": "2023-01-05T21:56:34.372Z"
   },
   {
    "duration": 54,
    "start_time": "2023-01-05T21:56:34.384Z"
   },
   {
    "duration": 207,
    "start_time": "2023-01-05T21:56:34.440Z"
   },
   {
    "duration": 6,
    "start_time": "2023-01-05T21:56:34.649Z"
   },
   {
    "duration": 295,
    "start_time": "2023-01-05T21:56:34.657Z"
   },
   {
    "duration": 5,
    "start_time": "2023-01-05T21:56:34.954Z"
   },
   {
    "duration": 20,
    "start_time": "2023-01-05T21:56:34.961Z"
   },
   {
    "duration": 4,
    "start_time": "2023-01-05T21:56:34.983Z"
   },
   {
    "duration": 1932,
    "start_time": "2023-01-05T21:56:34.989Z"
   },
   {
    "duration": 14,
    "start_time": "2023-01-05T21:56:36.922Z"
   },
   {
    "duration": 18,
    "start_time": "2023-01-05T21:56:36.938Z"
   },
   {
    "duration": 220,
    "start_time": "2023-01-05T21:56:36.957Z"
   },
   {
    "duration": 5,
    "start_time": "2023-01-05T21:56:37.178Z"
   },
   {
    "duration": 194,
    "start_time": "2023-01-05T21:56:37.184Z"
   },
   {
    "duration": 4,
    "start_time": "2023-01-05T21:56:37.380Z"
   },
   {
    "duration": 15,
    "start_time": "2023-01-05T21:56:37.386Z"
   },
   {
    "duration": 6,
    "start_time": "2023-01-05T21:56:37.403Z"
   },
   {
    "duration": 215,
    "start_time": "2023-01-05T21:56:37.410Z"
   },
   {
    "duration": 4,
    "start_time": "2023-01-05T21:56:37.627Z"
   },
   {
    "duration": 234,
    "start_time": "2023-01-05T21:56:37.635Z"
   },
   {
    "duration": 14,
    "start_time": "2023-01-05T21:56:37.870Z"
   },
   {
    "duration": 17,
    "start_time": "2023-01-05T21:56:37.885Z"
   },
   {
    "duration": 96,
    "start_time": "2023-01-05T21:56:37.904Z"
   },
   {
    "duration": 91,
    "start_time": "2023-01-05T21:56:38.001Z"
   },
   {
    "duration": 21,
    "start_time": "2023-01-05T21:56:38.095Z"
   },
   {
    "duration": 61,
    "start_time": "2023-01-05T21:56:49.380Z"
   },
   {
    "duration": 1329,
    "start_time": "2023-01-08T09:19:09.984Z"
   },
   {
    "duration": 3,
    "start_time": "2023-01-08T09:19:11.315Z"
   },
   {
    "duration": 14,
    "start_time": "2023-01-08T09:19:11.319Z"
   },
   {
    "duration": 270,
    "start_time": "2023-01-08T09:19:11.335Z"
   },
   {
    "duration": 123,
    "start_time": "2023-01-08T09:19:11.606Z"
   },
   {
    "duration": 112,
    "start_time": "2023-01-08T09:19:11.735Z"
   },
   {
    "duration": 62,
    "start_time": "2023-01-08T09:19:11.849Z"
   },
   {
    "duration": 55,
    "start_time": "2023-01-08T09:19:11.913Z"
   },
   {
    "duration": 4,
    "start_time": "2023-01-08T09:19:11.970Z"
   },
   {
    "duration": 19,
    "start_time": "2023-01-08T09:19:11.977Z"
   },
   {
    "duration": 7,
    "start_time": "2023-01-08T09:19:11.997Z"
   },
   {
    "duration": 7,
    "start_time": "2023-01-08T09:19:12.005Z"
   },
   {
    "duration": 196,
    "start_time": "2023-01-08T09:19:12.013Z"
   },
   {
    "duration": 9,
    "start_time": "2023-01-08T09:19:12.210Z"
   },
   {
    "duration": 64,
    "start_time": "2023-01-08T09:19:12.220Z"
   },
   {
    "duration": 2,
    "start_time": "2023-01-08T09:19:12.287Z"
   },
   {
    "duration": 216,
    "start_time": "2023-01-08T09:19:12.291Z"
   },
   {
    "duration": 10,
    "start_time": "2023-01-08T09:19:12.510Z"
   },
   {
    "duration": 214,
    "start_time": "2023-01-08T09:19:12.521Z"
   },
   {
    "duration": 17,
    "start_time": "2023-01-08T09:19:12.737Z"
   },
   {
    "duration": 17,
    "start_time": "2023-01-08T09:19:12.756Z"
   },
   {
    "duration": 169,
    "start_time": "2023-01-08T09:19:12.775Z"
   },
   {
    "duration": 9,
    "start_time": "2023-01-08T09:19:12.946Z"
   },
   {
    "duration": 31,
    "start_time": "2023-01-08T09:19:12.957Z"
   },
   {
    "duration": 34,
    "start_time": "2023-01-08T09:19:12.990Z"
   },
   {
    "duration": 9,
    "start_time": "2023-01-08T09:19:13.026Z"
   },
   {
    "duration": 34,
    "start_time": "2023-01-08T09:19:13.037Z"
   },
   {
    "duration": 9,
    "start_time": "2023-01-08T09:19:13.076Z"
   },
   {
    "duration": 47,
    "start_time": "2023-01-08T09:19:13.086Z"
   },
   {
    "duration": 35,
    "start_time": "2023-01-08T09:19:13.135Z"
   },
   {
    "duration": 44,
    "start_time": "2023-01-08T09:19:13.171Z"
   },
   {
    "duration": 169,
    "start_time": "2023-01-08T09:19:13.217Z"
   },
   {
    "duration": 4,
    "start_time": "2023-01-08T09:19:13.387Z"
   },
   {
    "duration": 11,
    "start_time": "2023-01-08T09:19:13.393Z"
   },
   {
    "duration": 270,
    "start_time": "2023-01-08T09:19:13.405Z"
   },
   {
    "duration": 4,
    "start_time": "2023-01-08T09:19:13.678Z"
   },
   {
    "duration": 13,
    "start_time": "2023-01-08T09:19:13.683Z"
   },
   {
    "duration": 6,
    "start_time": "2023-01-08T09:19:13.697Z"
   },
   {
    "duration": 34,
    "start_time": "2023-01-08T09:19:13.704Z"
   },
   {
    "duration": 9,
    "start_time": "2023-01-08T09:19:13.740Z"
   },
   {
    "duration": 34,
    "start_time": "2023-01-08T09:19:13.751Z"
   },
   {
    "duration": 192,
    "start_time": "2023-01-08T09:19:13.786Z"
   },
   {
    "duration": 11,
    "start_time": "2023-01-08T09:19:13.980Z"
   },
   {
    "duration": 2430,
    "start_time": "2023-01-08T09:19:13.993Z"
   },
   {
    "duration": 45,
    "start_time": "2023-01-08T09:19:16.425Z"
   },
   {
    "duration": 266,
    "start_time": "2023-01-08T09:19:16.473Z"
   },
   {
    "duration": 11,
    "start_time": "2023-01-08T09:19:16.741Z"
   },
   {
    "duration": 302,
    "start_time": "2023-01-08T09:19:16.754Z"
   },
   {
    "duration": 9,
    "start_time": "2023-01-08T09:19:17.058Z"
   },
   {
    "duration": 13,
    "start_time": "2023-01-08T09:19:17.069Z"
   },
   {
    "duration": 173,
    "start_time": "2023-01-08T09:19:17.084Z"
   },
   {
    "duration": 5,
    "start_time": "2023-01-08T09:19:17.258Z"
   },
   {
    "duration": 6,
    "start_time": "2023-01-08T09:19:17.264Z"
   },
   {
    "duration": 281,
    "start_time": "2023-01-08T09:19:17.271Z"
   },
   {
    "duration": 4,
    "start_time": "2023-01-08T09:19:17.554Z"
   },
   {
    "duration": 1046,
    "start_time": "2023-01-08T09:19:17.560Z"
   },
   {
    "duration": 4,
    "start_time": "2023-01-08T09:19:18.608Z"
   },
   {
    "duration": 26,
    "start_time": "2023-01-08T09:19:18.614Z"
   },
   {
    "duration": 20,
    "start_time": "2023-01-08T09:19:18.642Z"
   },
   {
    "duration": 30,
    "start_time": "2023-01-08T09:19:18.664Z"
   },
   {
    "duration": 192,
    "start_time": "2023-01-08T09:19:18.695Z"
   },
   {
    "duration": 4,
    "start_time": "2023-01-08T09:19:18.889Z"
   },
   {
    "duration": 308,
    "start_time": "2023-01-08T09:19:18.894Z"
   },
   {
    "duration": 5,
    "start_time": "2023-01-08T09:19:19.204Z"
   },
   {
    "duration": 24,
    "start_time": "2023-01-08T09:19:19.211Z"
   },
   {
    "duration": 5,
    "start_time": "2023-01-08T09:19:19.237Z"
   },
   {
    "duration": 1851,
    "start_time": "2023-01-08T09:19:19.244Z"
   },
   {
    "duration": 6,
    "start_time": "2023-01-08T09:19:21.097Z"
   },
   {
    "duration": 27,
    "start_time": "2023-01-08T09:19:21.104Z"
   },
   {
    "duration": 223,
    "start_time": "2023-01-08T09:19:21.133Z"
   },
   {
    "duration": 6,
    "start_time": "2023-01-08T09:19:21.358Z"
   },
   {
    "duration": 205,
    "start_time": "2023-01-08T09:19:21.366Z"
   },
   {
    "duration": 5,
    "start_time": "2023-01-08T09:19:21.573Z"
   },
   {
    "duration": 21,
    "start_time": "2023-01-08T09:19:21.579Z"
   },
   {
    "duration": 5,
    "start_time": "2023-01-08T09:19:21.602Z"
   },
   {
    "duration": 222,
    "start_time": "2023-01-08T09:19:21.608Z"
   },
   {
    "duration": 4,
    "start_time": "2023-01-08T09:19:21.835Z"
   },
   {
    "duration": 241,
    "start_time": "2023-01-08T09:19:21.841Z"
   },
   {
    "duration": 15,
    "start_time": "2023-01-08T09:19:22.085Z"
   },
   {
    "duration": 37,
    "start_time": "2023-01-08T09:19:22.103Z"
   },
   {
    "duration": 93,
    "start_time": "2023-01-08T09:19:22.142Z"
   },
   {
    "duration": 81,
    "start_time": "2023-01-08T09:19:22.240Z"
   },
   {
    "duration": 20,
    "start_time": "2023-01-08T09:25:10.445Z"
   },
   {
    "duration": 1681,
    "start_time": "2023-01-09T13:07:22.077Z"
   },
   {
    "duration": 3,
    "start_time": "2023-01-09T13:07:23.760Z"
   },
   {
    "duration": 28,
    "start_time": "2023-01-09T13:07:23.764Z"
   },
   {
    "duration": 928,
    "start_time": "2023-01-09T13:07:23.795Z"
   },
   {
    "duration": 141,
    "start_time": "2023-01-09T13:07:24.725Z"
   },
   {
    "duration": 121,
    "start_time": "2023-01-09T13:07:24.869Z"
   },
   {
    "duration": 78,
    "start_time": "2023-01-09T13:07:24.992Z"
   },
   {
    "duration": 44,
    "start_time": "2023-01-09T13:07:25.072Z"
   },
   {
    "duration": 5,
    "start_time": "2023-01-09T13:07:25.118Z"
   },
   {
    "duration": 34,
    "start_time": "2023-01-09T13:07:25.126Z"
   },
   {
    "duration": 38,
    "start_time": "2023-01-09T13:07:25.162Z"
   },
   {
    "duration": 36,
    "start_time": "2023-01-09T13:07:25.202Z"
   },
   {
    "duration": 210,
    "start_time": "2023-01-09T13:07:25.240Z"
   },
   {
    "duration": 9,
    "start_time": "2023-01-09T13:07:25.453Z"
   },
   {
    "duration": 102,
    "start_time": "2023-01-09T13:07:25.463Z"
   },
   {
    "duration": 10,
    "start_time": "2023-01-09T13:07:25.567Z"
   },
   {
    "duration": 228,
    "start_time": "2023-01-09T13:07:25.578Z"
   },
   {
    "duration": 10,
    "start_time": "2023-01-09T13:07:25.807Z"
   },
   {
    "duration": 178,
    "start_time": "2023-01-09T13:07:25.818Z"
   },
   {
    "duration": 18,
    "start_time": "2023-01-09T13:07:25.998Z"
   },
   {
    "duration": 36,
    "start_time": "2023-01-09T13:07:26.018Z"
   },
   {
    "duration": 191,
    "start_time": "2023-01-09T13:07:26.057Z"
   },
   {
    "duration": 11,
    "start_time": "2023-01-09T13:07:26.249Z"
   },
   {
    "duration": 49,
    "start_time": "2023-01-09T13:07:26.262Z"
   },
   {
    "duration": 46,
    "start_time": "2023-01-09T13:07:26.313Z"
   },
   {
    "duration": 13,
    "start_time": "2023-01-09T13:07:26.361Z"
   },
   {
    "duration": 49,
    "start_time": "2023-01-09T13:07:26.376Z"
   },
   {
    "duration": 15,
    "start_time": "2023-01-09T13:07:26.429Z"
   },
   {
    "duration": 43,
    "start_time": "2023-01-09T13:07:26.445Z"
   },
   {
    "duration": 67,
    "start_time": "2023-01-09T13:07:26.490Z"
   },
   {
    "duration": 34,
    "start_time": "2023-01-09T13:07:26.559Z"
   },
   {
    "duration": 204,
    "start_time": "2023-01-09T13:07:26.595Z"
   },
   {
    "duration": 5,
    "start_time": "2023-01-09T13:07:26.801Z"
   },
   {
    "duration": 35,
    "start_time": "2023-01-09T13:07:26.808Z"
   },
   {
    "duration": 287,
    "start_time": "2023-01-09T13:07:26.844Z"
   },
   {
    "duration": 4,
    "start_time": "2023-01-09T13:07:27.133Z"
   },
   {
    "duration": 31,
    "start_time": "2023-01-09T13:07:27.138Z"
   },
   {
    "duration": 30,
    "start_time": "2023-01-09T13:07:27.171Z"
   },
   {
    "duration": 59,
    "start_time": "2023-01-09T13:07:27.203Z"
   },
   {
    "duration": 25,
    "start_time": "2023-01-09T13:07:27.265Z"
   },
   {
    "duration": 73,
    "start_time": "2023-01-09T13:07:27.292Z"
   },
   {
    "duration": 186,
    "start_time": "2023-01-09T13:07:27.367Z"
   },
   {
    "duration": 9,
    "start_time": "2023-01-09T13:07:27.555Z"
   },
   {
    "duration": 2727,
    "start_time": "2023-01-09T13:07:27.565Z"
   },
   {
    "duration": 41,
    "start_time": "2023-01-09T13:07:30.294Z"
   },
   {
    "duration": 299,
    "start_time": "2023-01-09T13:07:30.337Z"
   },
   {
    "duration": 13,
    "start_time": "2023-01-09T13:07:30.638Z"
   },
   {
    "duration": 356,
    "start_time": "2023-01-09T13:07:30.653Z"
   },
   {
    "duration": 11,
    "start_time": "2023-01-09T13:07:31.011Z"
   },
   {
    "duration": 84,
    "start_time": "2023-01-09T13:07:31.023Z"
   },
   {
    "duration": 217,
    "start_time": "2023-01-09T13:07:31.108Z"
   },
   {
    "duration": 5,
    "start_time": "2023-01-09T13:07:31.328Z"
   },
   {
    "duration": 21,
    "start_time": "2023-01-09T13:07:31.334Z"
   },
   {
    "duration": 327,
    "start_time": "2023-01-09T13:07:31.357Z"
   },
   {
    "duration": 5,
    "start_time": "2023-01-09T13:07:31.685Z"
   },
   {
    "duration": 1168,
    "start_time": "2023-01-09T13:07:31.692Z"
   },
   {
    "duration": 5,
    "start_time": "2023-01-09T13:07:32.861Z"
   },
   {
    "duration": 18,
    "start_time": "2023-01-09T13:07:32.868Z"
   },
   {
    "duration": 10,
    "start_time": "2023-01-09T13:07:32.888Z"
   },
   {
    "duration": 56,
    "start_time": "2023-01-09T13:07:32.900Z"
   },
   {
    "duration": 224,
    "start_time": "2023-01-09T13:07:32.958Z"
   },
   {
    "duration": 5,
    "start_time": "2023-01-09T13:07:33.185Z"
   },
   {
    "duration": 306,
    "start_time": "2023-01-09T13:07:33.192Z"
   },
   {
    "duration": 6,
    "start_time": "2023-01-09T13:07:33.499Z"
   },
   {
    "duration": 22,
    "start_time": "2023-01-09T13:07:33.506Z"
   },
   {
    "duration": 5,
    "start_time": "2023-01-09T13:07:33.529Z"
   },
   {
    "duration": 1923,
    "start_time": "2023-01-09T13:07:33.551Z"
   },
   {
    "duration": 4,
    "start_time": "2023-01-09T13:07:35.476Z"
   },
   {
    "duration": 12,
    "start_time": "2023-01-09T13:07:35.482Z"
   },
   {
    "duration": 228,
    "start_time": "2023-01-09T13:07:35.496Z"
   },
   {
    "duration": 4,
    "start_time": "2023-01-09T13:07:35.726Z"
   },
   {
    "duration": 207,
    "start_time": "2023-01-09T13:07:35.732Z"
   },
   {
    "duration": 12,
    "start_time": "2023-01-09T13:07:35.941Z"
   },
   {
    "duration": 17,
    "start_time": "2023-01-09T13:07:35.954Z"
   },
   {
    "duration": 6,
    "start_time": "2023-01-09T13:07:35.973Z"
   },
   {
    "duration": 220,
    "start_time": "2023-01-09T13:07:35.980Z"
   },
   {
    "duration": 6,
    "start_time": "2023-01-09T13:07:36.202Z"
   },
   {
    "duration": 245,
    "start_time": "2023-01-09T13:07:36.210Z"
   },
   {
    "duration": 14,
    "start_time": "2023-01-09T13:07:36.457Z"
   },
   {
    "duration": 22,
    "start_time": "2023-01-09T13:07:36.473Z"
   },
   {
    "duration": 102,
    "start_time": "2023-01-09T13:07:36.497Z"
   },
   {
    "duration": 87,
    "start_time": "2023-01-09T13:07:36.604Z"
   },
   {
    "duration": 29,
    "start_time": "2023-01-09T13:07:39.745Z"
   },
   {
    "duration": 177,
    "start_time": "2023-01-09T13:12:16.997Z"
   },
   {
    "duration": 12,
    "start_time": "2023-01-09T13:16:22.481Z"
   },
   {
    "duration": 82,
    "start_time": "2023-01-09T13:17:07.640Z"
   },
   {
    "duration": 17,
    "start_time": "2023-01-09T13:17:18.936Z"
   },
   {
    "duration": 10,
    "start_time": "2023-01-09T13:17:24.819Z"
   },
   {
    "duration": 20,
    "start_time": "2023-01-09T13:17:30.128Z"
   },
   {
    "duration": 3,
    "start_time": "2023-01-09T13:17:34.354Z"
   },
   {
    "duration": 3,
    "start_time": "2023-01-09T13:17:34.415Z"
   },
   {
    "duration": 10,
    "start_time": "2023-01-09T13:17:34.420Z"
   },
   {
    "duration": 243,
    "start_time": "2023-01-09T13:17:34.432Z"
   },
   {
    "duration": 145,
    "start_time": "2023-01-09T13:17:34.676Z"
   },
   {
    "duration": 142,
    "start_time": "2023-01-09T13:17:34.823Z"
   },
   {
    "duration": 54,
    "start_time": "2023-01-09T13:17:34.967Z"
   },
   {
    "duration": 49,
    "start_time": "2023-01-09T13:17:35.023Z"
   },
   {
    "duration": 4,
    "start_time": "2023-01-09T13:17:35.074Z"
   },
   {
    "duration": 14,
    "start_time": "2023-01-09T13:17:35.080Z"
   },
   {
    "duration": 17,
    "start_time": "2023-01-09T13:17:35.096Z"
   },
   {
    "duration": 13,
    "start_time": "2023-01-09T13:17:35.115Z"
   },
   {
    "duration": 195,
    "start_time": "2023-01-09T13:17:35.130Z"
   },
   {
    "duration": 9,
    "start_time": "2023-01-09T13:17:35.327Z"
   },
   {
    "duration": 58,
    "start_time": "2023-01-09T13:17:35.350Z"
   },
   {
    "duration": 3,
    "start_time": "2023-01-09T13:17:35.410Z"
   },
   {
    "duration": 357,
    "start_time": "2023-01-09T13:17:35.415Z"
   },
   {
    "duration": 10,
    "start_time": "2023-01-09T13:17:35.774Z"
   },
   {
    "duration": 185,
    "start_time": "2023-01-09T13:17:35.786Z"
   },
   {
    "duration": 15,
    "start_time": "2023-01-09T13:17:35.973Z"
   },
   {
    "duration": 10,
    "start_time": "2023-01-09T13:17:35.990Z"
   },
   {
    "duration": 176,
    "start_time": "2023-01-09T13:17:36.002Z"
   },
   {
    "duration": 11,
    "start_time": "2023-01-09T13:17:36.180Z"
   },
   {
    "duration": 23,
    "start_time": "2023-01-09T13:17:36.192Z"
   },
   {
    "duration": 13,
    "start_time": "2023-01-09T13:17:36.218Z"
   },
   {
    "duration": 24,
    "start_time": "2023-01-09T13:17:36.232Z"
   },
   {
    "duration": 17,
    "start_time": "2023-01-09T13:17:36.258Z"
   },
   {
    "duration": 5,
    "start_time": "2023-01-09T13:17:36.277Z"
   },
   {
    "duration": 11,
    "start_time": "2023-01-09T13:17:36.284Z"
   },
   {
    "duration": 21,
    "start_time": "2023-01-09T13:17:36.296Z"
   },
   {
    "duration": 32,
    "start_time": "2023-01-09T13:17:36.319Z"
   },
   {
    "duration": 180,
    "start_time": "2023-01-09T13:17:36.353Z"
   },
   {
    "duration": 3,
    "start_time": "2023-01-09T13:17:36.535Z"
   },
   {
    "duration": 5,
    "start_time": "2023-01-09T13:17:36.551Z"
   },
   {
    "duration": 201,
    "start_time": "2023-01-09T13:17:36.557Z"
   },
   {
    "duration": 4,
    "start_time": "2023-01-09T13:17:36.760Z"
   },
   {
    "duration": 12,
    "start_time": "2023-01-09T13:17:36.766Z"
   },
   {
    "duration": 11,
    "start_time": "2023-01-09T13:17:36.780Z"
   },
   {
    "duration": 19,
    "start_time": "2023-01-09T13:17:36.792Z"
   },
   {
    "duration": 10,
    "start_time": "2023-01-09T13:17:36.813Z"
   },
   {
    "duration": 51,
    "start_time": "2023-01-09T13:17:36.825Z"
   },
   {
    "duration": 206,
    "start_time": "2023-01-09T13:17:36.881Z"
   },
   {
    "duration": 9,
    "start_time": "2023-01-09T13:17:37.088Z"
   },
   {
    "duration": 2772,
    "start_time": "2023-01-09T13:17:37.099Z"
   },
   {
    "duration": 43,
    "start_time": "2023-01-09T13:17:39.873Z"
   },
   {
    "duration": 287,
    "start_time": "2023-01-09T13:17:39.918Z"
   },
   {
    "duration": 10,
    "start_time": "2023-01-09T13:17:40.207Z"
   },
   {
    "duration": 216,
    "start_time": "2023-01-09T13:17:40.218Z"
   },
   {
    "duration": 17,
    "start_time": "2023-01-09T13:17:40.436Z"
   },
   {
    "duration": 8,
    "start_time": "2023-01-09T13:17:40.455Z"
   },
   {
    "duration": 198,
    "start_time": "2023-01-09T13:17:40.464Z"
   },
   {
    "duration": 7,
    "start_time": "2023-01-09T13:17:40.664Z"
   },
   {
    "duration": 24,
    "start_time": "2023-01-09T13:17:40.672Z"
   },
   {
    "duration": 305,
    "start_time": "2023-01-09T13:17:40.698Z"
   },
   {
    "duration": 5,
    "start_time": "2023-01-09T13:17:41.005Z"
   },
   {
    "duration": 1199,
    "start_time": "2023-01-09T13:17:41.012Z"
   },
   {
    "duration": 5,
    "start_time": "2023-01-09T13:17:42.214Z"
   },
   {
    "duration": 117,
    "start_time": "2023-01-09T13:17:42.221Z"
   },
   {
    "duration": 11,
    "start_time": "2023-01-09T13:17:42.340Z"
   },
   {
    "duration": 31,
    "start_time": "2023-01-09T13:17:42.353Z"
   },
   {
    "duration": 213,
    "start_time": "2023-01-09T13:17:42.385Z"
   },
   {
    "duration": 5,
    "start_time": "2023-01-09T13:17:42.600Z"
   },
   {
    "duration": 421,
    "start_time": "2023-01-09T13:17:42.607Z"
   },
   {
    "duration": 6,
    "start_time": "2023-01-09T13:17:43.029Z"
   },
   {
    "duration": 28,
    "start_time": "2023-01-09T13:17:43.036Z"
   },
   {
    "duration": 5,
    "start_time": "2023-01-09T13:17:43.066Z"
   },
   {
    "duration": 1786,
    "start_time": "2023-01-09T13:17:43.072Z"
   },
   {
    "duration": 5,
    "start_time": "2023-01-09T13:17:44.861Z"
   },
   {
    "duration": 12,
    "start_time": "2023-01-09T13:17:44.867Z"
   },
   {
    "duration": 232,
    "start_time": "2023-01-09T13:17:44.881Z"
   },
   {
    "duration": 5,
    "start_time": "2023-01-09T13:17:45.114Z"
   },
   {
    "duration": 222,
    "start_time": "2023-01-09T13:17:45.120Z"
   },
   {
    "duration": 5,
    "start_time": "2023-01-09T13:17:45.351Z"
   },
   {
    "duration": 20,
    "start_time": "2023-01-09T13:17:45.358Z"
   },
   {
    "duration": 5,
    "start_time": "2023-01-09T13:17:45.380Z"
   },
   {
    "duration": 211,
    "start_time": "2023-01-09T13:17:45.386Z"
   },
   {
    "duration": 5,
    "start_time": "2023-01-09T13:17:45.599Z"
   },
   {
    "duration": 248,
    "start_time": "2023-01-09T13:17:45.605Z"
   },
   {
    "duration": 18,
    "start_time": "2023-01-09T13:17:45.855Z"
   },
   {
    "duration": 22,
    "start_time": "2023-01-09T13:17:45.875Z"
   },
   {
    "duration": 106,
    "start_time": "2023-01-09T13:17:45.899Z"
   },
   {
    "duration": 90,
    "start_time": "2023-01-09T13:17:46.007Z"
   },
   {
    "duration": 22,
    "start_time": "2023-01-09T13:18:08.310Z"
   },
   {
    "duration": 160,
    "start_time": "2023-01-09T13:20:19.435Z"
   },
   {
    "duration": 11,
    "start_time": "2023-01-09T13:20:44.943Z"
   },
   {
    "duration": 17,
    "start_time": "2023-01-09T13:23:14.603Z"
   },
   {
    "duration": 10,
    "start_time": "2023-01-09T13:26:18.433Z"
   },
   {
    "duration": 14,
    "start_time": "2023-01-09T13:26:24.959Z"
   },
   {
    "duration": 12,
    "start_time": "2023-01-09T13:26:28.030Z"
   },
   {
    "duration": 17,
    "start_time": "2023-01-09T13:26:48.331Z"
   },
   {
    "duration": 15,
    "start_time": "2023-01-09T13:27:17.528Z"
   },
   {
    "duration": 12,
    "start_time": "2023-01-09T13:27:18.861Z"
   },
   {
    "duration": 12,
    "start_time": "2023-01-09T13:27:27.499Z"
   },
   {
    "duration": 24,
    "start_time": "2023-01-09T13:27:37.790Z"
   },
   {
    "duration": 23,
    "start_time": "2023-01-09T13:29:46.824Z"
   },
   {
    "duration": 10,
    "start_time": "2023-01-09T13:30:21.323Z"
   },
   {
    "duration": 10,
    "start_time": "2023-01-09T13:30:28.380Z"
   },
   {
    "duration": 14,
    "start_time": "2023-01-09T13:30:35.143Z"
   },
   {
    "duration": 118,
    "start_time": "2023-01-09T13:30:39.817Z"
   },
   {
    "duration": 10,
    "start_time": "2023-01-09T13:30:41.880Z"
   },
   {
    "duration": 13,
    "start_time": "2023-01-09T13:31:13.094Z"
   },
   {
    "duration": 11,
    "start_time": "2023-01-09T13:31:18.715Z"
   },
   {
    "duration": 13,
    "start_time": "2023-01-09T13:31:49.889Z"
   },
   {
    "duration": 19,
    "start_time": "2023-01-09T13:31:56.796Z"
   },
   {
    "duration": 1160,
    "start_time": "2023-01-09T13:31:59.110Z"
   },
   {
    "duration": 15,
    "start_time": "2023-01-09T13:32:06.579Z"
   },
   {
    "duration": 11,
    "start_time": "2023-01-09T13:32:15.558Z"
   },
   {
    "duration": 11,
    "start_time": "2023-01-09T13:32:24.706Z"
   },
   {
    "duration": 71,
    "start_time": "2023-01-09T13:32:37.200Z"
   },
   {
    "duration": 11,
    "start_time": "2023-01-09T13:32:41.095Z"
   },
   {
    "duration": 41,
    "start_time": "2023-01-09T13:33:30.447Z"
   },
   {
    "duration": 36,
    "start_time": "2023-01-09T13:33:59.468Z"
   },
   {
    "duration": 38,
    "start_time": "2023-01-09T13:35:02.053Z"
   },
   {
    "duration": 1599,
    "start_time": "2023-01-09T13:35:29.746Z"
   },
   {
    "duration": 3,
    "start_time": "2023-01-09T13:35:31.347Z"
   },
   {
    "duration": 31,
    "start_time": "2023-01-09T13:35:31.351Z"
   },
   {
    "duration": 290,
    "start_time": "2023-01-09T13:35:31.384Z"
   },
   {
    "duration": 142,
    "start_time": "2023-01-09T13:35:31.676Z"
   },
   {
    "duration": 111,
    "start_time": "2023-01-09T13:35:31.820Z"
   },
   {
    "duration": 78,
    "start_time": "2023-01-09T13:35:31.932Z"
   },
   {
    "duration": 55,
    "start_time": "2023-01-09T13:35:32.012Z"
   },
   {
    "duration": 5,
    "start_time": "2023-01-09T13:35:32.069Z"
   },
   {
    "duration": 16,
    "start_time": "2023-01-09T13:35:32.076Z"
   },
   {
    "duration": 10,
    "start_time": "2023-01-09T13:35:32.093Z"
   },
   {
    "duration": 11,
    "start_time": "2023-01-09T13:35:32.104Z"
   },
   {
    "duration": 201,
    "start_time": "2023-01-09T13:35:32.116Z"
   },
   {
    "duration": 10,
    "start_time": "2023-01-09T13:35:32.318Z"
   },
   {
    "duration": 69,
    "start_time": "2023-01-09T13:35:32.330Z"
   },
   {
    "duration": 3,
    "start_time": "2023-01-09T13:35:32.401Z"
   },
   {
    "duration": 213,
    "start_time": "2023-01-09T13:35:32.406Z"
   },
   {
    "duration": 9,
    "start_time": "2023-01-09T13:35:32.621Z"
   },
   {
    "duration": 170,
    "start_time": "2023-01-09T13:35:32.632Z"
   },
   {
    "duration": 20,
    "start_time": "2023-01-09T13:35:32.804Z"
   },
   {
    "duration": 26,
    "start_time": "2023-01-09T13:35:32.826Z"
   },
   {
    "duration": 166,
    "start_time": "2023-01-09T13:35:32.854Z"
   },
   {
    "duration": 11,
    "start_time": "2023-01-09T13:35:33.022Z"
   },
   {
    "duration": 23,
    "start_time": "2023-01-09T13:35:33.034Z"
   },
   {
    "duration": 10,
    "start_time": "2023-01-09T13:35:33.058Z"
   },
   {
    "duration": 8,
    "start_time": "2023-01-09T13:35:33.069Z"
   },
   {
    "duration": 12,
    "start_time": "2023-01-09T13:35:33.079Z"
   },
   {
    "duration": 5,
    "start_time": "2023-01-09T13:35:33.095Z"
   },
   {
    "duration": 8,
    "start_time": "2023-01-09T13:35:33.102Z"
   },
   {
    "duration": 40,
    "start_time": "2023-01-09T13:35:33.111Z"
   },
   {
    "duration": 18,
    "start_time": "2023-01-09T13:35:33.152Z"
   },
   {
    "duration": 196,
    "start_time": "2023-01-09T13:35:33.172Z"
   },
   {
    "duration": 4,
    "start_time": "2023-01-09T13:35:33.369Z"
   },
   {
    "duration": 20,
    "start_time": "2023-01-09T13:35:33.375Z"
   },
   {
    "duration": 265,
    "start_time": "2023-01-09T13:35:33.397Z"
   },
   {
    "duration": 4,
    "start_time": "2023-01-09T13:35:33.664Z"
   },
   {
    "duration": 11,
    "start_time": "2023-01-09T13:35:33.670Z"
   },
   {
    "duration": 11,
    "start_time": "2023-01-09T13:35:33.682Z"
   },
   {
    "duration": 25,
    "start_time": "2023-01-09T13:35:33.694Z"
   },
   {
    "duration": 9,
    "start_time": "2023-01-09T13:35:33.720Z"
   },
   {
    "duration": 54,
    "start_time": "2023-01-09T13:35:33.730Z"
   },
   {
    "duration": 192,
    "start_time": "2023-01-09T13:35:33.786Z"
   },
   {
    "duration": 8,
    "start_time": "2023-01-09T13:35:33.980Z"
   },
   {
    "duration": 2552,
    "start_time": "2023-01-09T13:35:33.990Z"
   },
   {
    "duration": 41,
    "start_time": "2023-01-09T13:35:36.544Z"
   },
   {
    "duration": 267,
    "start_time": "2023-01-09T13:35:36.587Z"
   },
   {
    "duration": 9,
    "start_time": "2023-01-09T13:35:36.856Z"
   },
   {
    "duration": 304,
    "start_time": "2023-01-09T13:35:36.867Z"
   },
   {
    "duration": 10,
    "start_time": "2023-01-09T13:35:37.172Z"
   },
   {
    "duration": 10,
    "start_time": "2023-01-09T13:35:37.184Z"
   },
   {
    "duration": 187,
    "start_time": "2023-01-09T13:35:37.195Z"
   },
   {
    "duration": 5,
    "start_time": "2023-01-09T13:35:37.384Z"
   },
   {
    "duration": 24,
    "start_time": "2023-01-09T13:35:37.390Z"
   },
   {
    "duration": 292,
    "start_time": "2023-01-09T13:35:37.416Z"
   },
   {
    "duration": 5,
    "start_time": "2023-01-09T13:35:37.710Z"
   },
   {
    "duration": 1137,
    "start_time": "2023-01-09T13:35:37.717Z"
   },
   {
    "duration": 6,
    "start_time": "2023-01-09T13:35:38.856Z"
   },
   {
    "duration": 27,
    "start_time": "2023-01-09T13:35:38.863Z"
   },
   {
    "duration": 10,
    "start_time": "2023-01-09T13:35:38.893Z"
   },
   {
    "duration": 49,
    "start_time": "2023-01-09T13:35:38.905Z"
   },
   {
    "duration": 212,
    "start_time": "2023-01-09T13:35:38.956Z"
   },
   {
    "duration": 4,
    "start_time": "2023-01-09T13:35:39.170Z"
   },
   {
    "duration": 312,
    "start_time": "2023-01-09T13:35:39.177Z"
   },
   {
    "duration": 6,
    "start_time": "2023-01-09T13:35:39.490Z"
   },
   {
    "duration": 21,
    "start_time": "2023-01-09T13:35:39.498Z"
   },
   {
    "duration": 5,
    "start_time": "2023-01-09T13:35:39.521Z"
   },
   {
    "duration": 2053,
    "start_time": "2023-01-09T13:35:39.528Z"
   },
   {
    "duration": 6,
    "start_time": "2023-01-09T13:35:41.583Z"
   },
   {
    "duration": 12,
    "start_time": "2023-01-09T13:35:41.591Z"
   },
   {
    "duration": 251,
    "start_time": "2023-01-09T13:35:41.605Z"
   },
   {
    "duration": 5,
    "start_time": "2023-01-09T13:35:41.858Z"
   },
   {
    "duration": 201,
    "start_time": "2023-01-09T13:35:41.864Z"
   },
   {
    "duration": 6,
    "start_time": "2023-01-09T13:35:42.067Z"
   },
   {
    "duration": 18,
    "start_time": "2023-01-09T13:35:42.075Z"
   },
   {
    "duration": 5,
    "start_time": "2023-01-09T13:35:42.096Z"
   },
   {
    "duration": 243,
    "start_time": "2023-01-09T13:35:42.102Z"
   },
   {
    "duration": 5,
    "start_time": "2023-01-09T13:35:42.346Z"
   },
   {
    "duration": 247,
    "start_time": "2023-01-09T13:35:42.353Z"
   },
   {
    "duration": 15,
    "start_time": "2023-01-09T13:35:42.603Z"
   },
   {
    "duration": 37,
    "start_time": "2023-01-09T13:35:42.620Z"
   },
   {
    "duration": 81,
    "start_time": "2023-01-09T13:35:42.659Z"
   },
   {
    "duration": 78,
    "start_time": "2023-01-09T13:35:42.755Z"
   },
   {
    "duration": 54,
    "start_time": "2023-01-09T13:35:42.834Z"
   },
   {
    "duration": 35,
    "start_time": "2023-01-09T13:35:42.889Z"
   },
   {
    "duration": 50,
    "start_time": "2023-01-09T13:35:42.926Z"
   },
   {
    "duration": 20,
    "start_time": "2023-01-09T13:36:26.346Z"
   },
   {
    "duration": 18,
    "start_time": "2023-01-09T13:36:27.021Z"
   },
   {
    "duration": 35,
    "start_time": "2023-01-09T13:36:28.886Z"
   },
   {
    "duration": 36,
    "start_time": "2023-01-09T13:36:31.623Z"
   },
   {
    "duration": 39,
    "start_time": "2023-01-09T13:36:36.143Z"
   },
   {
    "duration": 1641,
    "start_time": "2023-01-09T13:38:19.002Z"
   },
   {
    "duration": 4,
    "start_time": "2023-01-09T13:38:20.645Z"
   },
   {
    "duration": 22,
    "start_time": "2023-01-09T13:38:20.651Z"
   },
   {
    "duration": 266,
    "start_time": "2023-01-09T13:38:20.675Z"
   },
   {
    "duration": 157,
    "start_time": "2023-01-09T13:38:20.943Z"
   },
   {
    "duration": 124,
    "start_time": "2023-01-09T13:38:21.103Z"
   },
   {
    "duration": 79,
    "start_time": "2023-01-09T13:38:21.229Z"
   },
   {
    "duration": 51,
    "start_time": "2023-01-09T13:38:21.310Z"
   },
   {
    "duration": 4,
    "start_time": "2023-01-09T13:38:21.363Z"
   },
   {
    "duration": 5,
    "start_time": "2023-01-09T13:38:21.370Z"
   },
   {
    "duration": 8,
    "start_time": "2023-01-09T13:38:21.376Z"
   },
   {
    "duration": 5,
    "start_time": "2023-01-09T13:38:21.385Z"
   },
   {
    "duration": 233,
    "start_time": "2023-01-09T13:38:21.392Z"
   },
   {
    "duration": 25,
    "start_time": "2023-01-09T13:38:21.627Z"
   },
   {
    "duration": 58,
    "start_time": "2023-01-09T13:38:21.654Z"
   },
   {
    "duration": 3,
    "start_time": "2023-01-09T13:38:21.714Z"
   },
   {
    "duration": 228,
    "start_time": "2023-01-09T13:38:21.718Z"
   },
   {
    "duration": 10,
    "start_time": "2023-01-09T13:38:21.950Z"
   },
   {
    "duration": 175,
    "start_time": "2023-01-09T13:38:21.963Z"
   },
   {
    "duration": 23,
    "start_time": "2023-01-09T13:38:22.140Z"
   },
   {
    "duration": 14,
    "start_time": "2023-01-09T13:38:22.165Z"
   },
   {
    "duration": 184,
    "start_time": "2023-01-09T13:38:22.181Z"
   },
   {
    "duration": 11,
    "start_time": "2023-01-09T13:38:22.366Z"
   },
   {
    "duration": 17,
    "start_time": "2023-01-09T13:38:22.379Z"
   },
   {
    "duration": 9,
    "start_time": "2023-01-09T13:38:22.398Z"
   },
   {
    "duration": 6,
    "start_time": "2023-01-09T13:38:22.409Z"
   },
   {
    "duration": 36,
    "start_time": "2023-01-09T13:38:22.416Z"
   },
   {
    "duration": 5,
    "start_time": "2023-01-09T13:38:22.456Z"
   },
   {
    "duration": 8,
    "start_time": "2023-01-09T13:38:22.462Z"
   },
   {
    "duration": 5,
    "start_time": "2023-01-09T13:38:22.472Z"
   },
   {
    "duration": 20,
    "start_time": "2023-01-09T13:38:22.479Z"
   },
   {
    "duration": 219,
    "start_time": "2023-01-09T13:38:22.501Z"
   },
   {
    "duration": 5,
    "start_time": "2023-01-09T13:38:22.722Z"
   },
   {
    "duration": 10,
    "start_time": "2023-01-09T13:38:22.728Z"
   },
   {
    "duration": 262,
    "start_time": "2023-01-09T13:38:22.750Z"
   },
   {
    "duration": 4,
    "start_time": "2023-01-09T13:38:23.014Z"
   },
   {
    "duration": 9,
    "start_time": "2023-01-09T13:38:23.019Z"
   },
   {
    "duration": 6,
    "start_time": "2023-01-09T13:38:23.029Z"
   },
   {
    "duration": 21,
    "start_time": "2023-01-09T13:38:23.050Z"
   },
   {
    "duration": 8,
    "start_time": "2023-01-09T13:38:23.073Z"
   },
   {
    "duration": 39,
    "start_time": "2023-01-09T13:38:23.083Z"
   },
   {
    "duration": 207,
    "start_time": "2023-01-09T13:38:23.124Z"
   },
   {
    "duration": 18,
    "start_time": "2023-01-09T13:38:23.333Z"
   },
   {
    "duration": 2802,
    "start_time": "2023-01-09T13:38:23.353Z"
   },
   {
    "duration": 42,
    "start_time": "2023-01-09T13:38:26.157Z"
   },
   {
    "duration": 297,
    "start_time": "2023-01-09T13:38:26.201Z"
   },
   {
    "duration": 9,
    "start_time": "2023-01-09T13:38:26.499Z"
   },
   {
    "duration": 326,
    "start_time": "2023-01-09T13:38:26.510Z"
   },
   {
    "duration": 19,
    "start_time": "2023-01-09T13:38:26.839Z"
   },
   {
    "duration": 12,
    "start_time": "2023-01-09T13:38:26.860Z"
   },
   {
    "duration": 207,
    "start_time": "2023-01-09T13:38:26.874Z"
   },
   {
    "duration": 7,
    "start_time": "2023-01-09T13:38:27.083Z"
   },
   {
    "duration": 10,
    "start_time": "2023-01-09T13:38:27.093Z"
   },
   {
    "duration": 314,
    "start_time": "2023-01-09T13:38:27.105Z"
   },
   {
    "duration": 5,
    "start_time": "2023-01-09T13:38:27.421Z"
   },
   {
    "duration": 1194,
    "start_time": "2023-01-09T13:38:27.428Z"
   },
   {
    "duration": 5,
    "start_time": "2023-01-09T13:38:28.624Z"
   },
   {
    "duration": 26,
    "start_time": "2023-01-09T13:38:28.630Z"
   },
   {
    "duration": 10,
    "start_time": "2023-01-09T13:38:28.658Z"
   },
   {
    "duration": 35,
    "start_time": "2023-01-09T13:38:28.669Z"
   },
   {
    "duration": 217,
    "start_time": "2023-01-09T13:38:28.706Z"
   },
   {
    "duration": 4,
    "start_time": "2023-01-09T13:38:28.926Z"
   },
   {
    "duration": 321,
    "start_time": "2023-01-09T13:38:28.932Z"
   },
   {
    "duration": 6,
    "start_time": "2023-01-09T13:38:29.255Z"
   },
   {
    "duration": 16,
    "start_time": "2023-01-09T13:38:29.262Z"
   },
   {
    "duration": 4,
    "start_time": "2023-01-09T13:38:29.281Z"
   },
   {
    "duration": 2122,
    "start_time": "2023-01-09T13:38:29.286Z"
   },
   {
    "duration": 6,
    "start_time": "2023-01-09T13:38:31.410Z"
   },
   {
    "duration": 19,
    "start_time": "2023-01-09T13:38:31.418Z"
   },
   {
    "duration": 231,
    "start_time": "2023-01-09T13:38:31.438Z"
   },
   {
    "duration": 4,
    "start_time": "2023-01-09T13:38:31.671Z"
   },
   {
    "duration": 208,
    "start_time": "2023-01-09T13:38:31.677Z"
   },
   {
    "duration": 5,
    "start_time": "2023-01-09T13:38:31.887Z"
   },
   {
    "duration": 14,
    "start_time": "2023-01-09T13:38:31.894Z"
   },
   {
    "duration": 5,
    "start_time": "2023-01-09T13:38:31.910Z"
   },
   {
    "duration": 226,
    "start_time": "2023-01-09T13:38:31.917Z"
   },
   {
    "duration": 10,
    "start_time": "2023-01-09T13:38:32.144Z"
   },
   {
    "duration": 252,
    "start_time": "2023-01-09T13:38:32.155Z"
   },
   {
    "duration": 16,
    "start_time": "2023-01-09T13:38:39.248Z"
   },
   {
    "duration": 28,
    "start_time": "2023-01-09T13:38:41.394Z"
   },
   {
    "duration": 20,
    "start_time": "2023-01-09T13:38:44.566Z"
   },
   {
    "duration": 46,
    "start_time": "2023-01-09T13:39:45.775Z"
   },
   {
    "duration": 46,
    "start_time": "2023-01-09T13:39:46.656Z"
   },
   {
    "duration": 23,
    "start_time": "2023-01-09T13:39:48.699Z"
   },
   {
    "duration": 28,
    "start_time": "2023-01-09T13:39:51.361Z"
   },
   {
    "duration": 15,
    "start_time": "2023-01-09T13:39:58.848Z"
   },
   {
    "duration": 29,
    "start_time": "2023-01-09T13:40:01.426Z"
   },
   {
    "duration": 20,
    "start_time": "2023-01-09T13:40:04.388Z"
   },
   {
    "duration": 365,
    "start_time": "2023-01-09T13:40:10.207Z"
   },
   {
    "duration": 73,
    "start_time": "2023-01-09T13:40:48.433Z"
   },
   {
    "duration": 71,
    "start_time": "2023-01-09T13:40:56.791Z"
   },
   {
    "duration": 77,
    "start_time": "2023-01-09T13:41:09.315Z"
   },
   {
    "duration": 73,
    "start_time": "2023-01-09T13:41:41.367Z"
   },
   {
    "duration": 20,
    "start_time": "2023-01-09T13:41:52.850Z"
   },
   {
    "duration": 29,
    "start_time": "2023-01-09T13:42:06.822Z"
   },
   {
    "duration": 20,
    "start_time": "2023-01-09T13:42:08.837Z"
   },
   {
    "duration": 12,
    "start_time": "2023-01-09T13:42:20.789Z"
   },
   {
    "duration": 27,
    "start_time": "2023-01-09T13:42:24.824Z"
   },
   {
    "duration": 110,
    "start_time": "2023-01-09T13:42:43.879Z"
   },
   {
    "duration": 13,
    "start_time": "2023-01-09T13:42:51.214Z"
   },
   {
    "duration": 12,
    "start_time": "2023-01-09T13:42:58.685Z"
   },
   {
    "duration": 18,
    "start_time": "2023-01-09T13:43:25.517Z"
   },
   {
    "duration": 10,
    "start_time": "2023-01-09T13:43:34.631Z"
   },
   {
    "duration": 22,
    "start_time": "2023-01-09T13:44:37.136Z"
   },
   {
    "duration": 11,
    "start_time": "2023-01-09T14:17:20.220Z"
   },
   {
    "duration": 11,
    "start_time": "2023-01-09T14:17:35.737Z"
   },
   {
    "duration": 16,
    "start_time": "2023-01-09T14:18:24.915Z"
   },
   {
    "duration": 27,
    "start_time": "2023-01-09T14:18:28.618Z"
   },
   {
    "duration": 42,
    "start_time": "2023-01-09T14:18:29.214Z"
   },
   {
    "duration": 14,
    "start_time": "2023-01-09T14:18:30.582Z"
   },
   {
    "duration": 4,
    "start_time": "2023-01-09T14:18:45.813Z"
   },
   {
    "duration": 33,
    "start_time": "2023-01-09T14:18:45.819Z"
   },
   {
    "duration": 41,
    "start_time": "2023-01-09T14:18:45.855Z"
   },
   {
    "duration": 270,
    "start_time": "2023-01-09T14:18:45.899Z"
   },
   {
    "duration": 153,
    "start_time": "2023-01-09T14:18:46.172Z"
   },
   {
    "duration": 127,
    "start_time": "2023-01-09T14:18:46.327Z"
   },
   {
    "duration": 62,
    "start_time": "2023-01-09T14:18:46.456Z"
   },
   {
    "duration": 45,
    "start_time": "2023-01-09T14:18:46.520Z"
   },
   {
    "duration": 5,
    "start_time": "2023-01-09T14:18:46.567Z"
   },
   {
    "duration": 7,
    "start_time": "2023-01-09T14:18:46.574Z"
   },
   {
    "duration": 6,
    "start_time": "2023-01-09T14:18:46.584Z"
   },
   {
    "duration": 7,
    "start_time": "2023-01-09T14:18:46.591Z"
   },
   {
    "duration": 243,
    "start_time": "2023-01-09T14:18:46.600Z"
   },
   {
    "duration": 9,
    "start_time": "2023-01-09T14:18:46.851Z"
   },
   {
    "duration": 59,
    "start_time": "2023-01-09T14:18:46.861Z"
   },
   {
    "duration": 4,
    "start_time": "2023-01-09T14:18:46.921Z"
   },
   {
    "duration": 226,
    "start_time": "2023-01-09T14:18:46.927Z"
   },
   {
    "duration": 11,
    "start_time": "2023-01-09T14:18:47.155Z"
   },
   {
    "duration": 190,
    "start_time": "2023-01-09T14:18:47.167Z"
   },
   {
    "duration": 16,
    "start_time": "2023-01-09T14:18:47.359Z"
   },
   {
    "duration": 11,
    "start_time": "2023-01-09T14:18:47.377Z"
   },
   {
    "duration": 192,
    "start_time": "2023-01-09T14:18:47.390Z"
   },
   {
    "duration": 10,
    "start_time": "2023-01-09T14:18:47.583Z"
   },
   {
    "duration": 21,
    "start_time": "2023-01-09T14:18:47.595Z"
   },
   {
    "duration": 11,
    "start_time": "2023-01-09T14:18:47.617Z"
   },
   {
    "duration": 24,
    "start_time": "2023-01-09T14:18:47.630Z"
   },
   {
    "duration": 12,
    "start_time": "2023-01-09T14:18:47.655Z"
   },
   {
    "duration": 5,
    "start_time": "2023-01-09T14:18:47.669Z"
   },
   {
    "duration": 7,
    "start_time": "2023-01-09T14:18:47.679Z"
   },
   {
    "duration": 6,
    "start_time": "2023-01-09T14:18:47.688Z"
   },
   {
    "duration": 170,
    "start_time": "2023-01-09T14:18:47.696Z"
   },
   {
    "duration": 201,
    "start_time": "2023-01-09T14:18:47.868Z"
   },
   {
    "duration": 5,
    "start_time": "2023-01-09T14:18:48.070Z"
   },
   {
    "duration": 11,
    "start_time": "2023-01-09T14:18:48.077Z"
   },
   {
    "duration": 228,
    "start_time": "2023-01-09T14:18:48.089Z"
   },
   {
    "duration": 5,
    "start_time": "2023-01-09T14:18:48.319Z"
   },
   {
    "duration": 44,
    "start_time": "2023-01-09T14:18:48.325Z"
   },
   {
    "duration": 28,
    "start_time": "2023-01-09T14:18:48.371Z"
   },
   {
    "duration": 72,
    "start_time": "2023-01-09T14:18:48.401Z"
   },
   {
    "duration": 26,
    "start_time": "2023-01-09T14:18:48.475Z"
   },
   {
    "duration": 56,
    "start_time": "2023-01-09T14:18:48.503Z"
   },
   {
    "duration": 207,
    "start_time": "2023-01-09T14:18:48.561Z"
   },
   {
    "duration": 9,
    "start_time": "2023-01-09T14:18:48.770Z"
   },
   {
    "duration": 2797,
    "start_time": "2023-01-09T14:18:48.782Z"
   },
   {
    "duration": 41,
    "start_time": "2023-01-09T14:18:51.581Z"
   },
   {
    "duration": 404,
    "start_time": "2023-01-09T14:18:51.624Z"
   },
   {
    "duration": 20,
    "start_time": "2023-01-09T14:18:52.031Z"
   },
   {
    "duration": 219,
    "start_time": "2023-01-09T14:18:52.053Z"
   },
   {
    "duration": 10,
    "start_time": "2023-01-09T14:18:52.274Z"
   },
   {
    "duration": 19,
    "start_time": "2023-01-09T14:18:52.286Z"
   },
   {
    "duration": 197,
    "start_time": "2023-01-09T14:18:52.307Z"
   },
   {
    "duration": 4,
    "start_time": "2023-01-09T14:18:52.506Z"
   },
   {
    "duration": 22,
    "start_time": "2023-01-09T14:18:52.512Z"
   },
   {
    "duration": 315,
    "start_time": "2023-01-09T14:18:52.535Z"
   },
   {
    "duration": 5,
    "start_time": "2023-01-09T14:18:52.852Z"
   },
   {
    "duration": 1180,
    "start_time": "2023-01-09T14:18:52.859Z"
   },
   {
    "duration": 11,
    "start_time": "2023-01-09T14:18:54.041Z"
   },
   {
    "duration": 15,
    "start_time": "2023-01-09T14:18:54.054Z"
   },
   {
    "duration": 11,
    "start_time": "2023-01-09T14:18:54.071Z"
   },
   {
    "duration": 31,
    "start_time": "2023-01-09T14:18:54.084Z"
   },
   {
    "duration": 240,
    "start_time": "2023-01-09T14:18:54.117Z"
   },
   {
    "duration": 4,
    "start_time": "2023-01-09T14:18:54.358Z"
   },
   {
    "duration": 297,
    "start_time": "2023-01-09T14:18:54.364Z"
   },
   {
    "duration": 5,
    "start_time": "2023-01-09T14:18:54.662Z"
   },
   {
    "duration": 15,
    "start_time": "2023-01-09T14:18:54.669Z"
   },
   {
    "duration": 4,
    "start_time": "2023-01-09T14:18:54.686Z"
   },
   {
    "duration": 1988,
    "start_time": "2023-01-09T14:18:54.691Z"
   },
   {
    "duration": 5,
    "start_time": "2023-01-09T14:18:56.680Z"
   },
   {
    "duration": 14,
    "start_time": "2023-01-09T14:18:56.687Z"
   },
   {
    "duration": 229,
    "start_time": "2023-01-09T14:18:56.703Z"
   },
   {
    "duration": 5,
    "start_time": "2023-01-09T14:18:56.934Z"
   },
   {
    "duration": 204,
    "start_time": "2023-01-09T14:18:56.951Z"
   },
   {
    "duration": 4,
    "start_time": "2023-01-09T14:18:57.157Z"
   },
   {
    "duration": 15,
    "start_time": "2023-01-09T14:18:57.163Z"
   },
   {
    "duration": 5,
    "start_time": "2023-01-09T14:18:57.180Z"
   },
   {
    "duration": 229,
    "start_time": "2023-01-09T14:18:57.187Z"
   },
   {
    "duration": 6,
    "start_time": "2023-01-09T14:18:57.417Z"
   },
   {
    "duration": 265,
    "start_time": "2023-01-09T14:18:57.424Z"
   },
   {
    "duration": 15,
    "start_time": "2023-01-09T14:18:57.691Z"
   },
   {
    "duration": 46,
    "start_time": "2023-01-09T14:18:57.711Z"
   },
   {
    "duration": 20,
    "start_time": "2023-01-09T14:18:57.759Z"
   },
   {
    "duration": 2,
    "start_time": "2023-01-09T14:18:57.782Z"
   },
   {
    "duration": 70,
    "start_time": "2023-01-09T14:18:57.786Z"
   },
   {
    "duration": 55,
    "start_time": "2023-01-09T14:18:57.858Z"
   },
   {
    "duration": 42,
    "start_time": "2023-01-09T14:18:57.915Z"
   },
   {
    "duration": 37,
    "start_time": "2023-01-09T14:18:57.959Z"
   },
   {
    "duration": 13,
    "start_time": "2023-01-09T14:19:00.272Z"
   },
   {
    "duration": 13,
    "start_time": "2023-01-09T14:22:53.565Z"
   },
   {
    "duration": 12,
    "start_time": "2023-01-09T14:22:57.436Z"
   },
   {
    "duration": 16,
    "start_time": "2023-01-09T14:23:09.557Z"
   },
   {
    "duration": 6,
    "start_time": "2023-01-09T14:23:26.023Z"
   },
   {
    "duration": 1669,
    "start_time": "2023-01-10T08:32:55.807Z"
   },
   {
    "duration": 5,
    "start_time": "2023-01-10T08:32:57.478Z"
   },
   {
    "duration": 21,
    "start_time": "2023-01-10T08:32:57.484Z"
   },
   {
    "duration": 415,
    "start_time": "2023-01-10T08:32:57.507Z"
   },
   {
    "duration": 131,
    "start_time": "2023-01-10T08:32:57.924Z"
   },
   {
    "duration": 139,
    "start_time": "2023-01-10T08:32:58.056Z"
   },
   {
    "duration": 88,
    "start_time": "2023-01-10T08:32:58.197Z"
   },
   {
    "duration": 45,
    "start_time": "2023-01-10T08:32:58.294Z"
   },
   {
    "duration": 6,
    "start_time": "2023-01-10T08:32:58.341Z"
   },
   {
    "duration": 58,
    "start_time": "2023-01-10T08:32:58.351Z"
   },
   {
    "duration": 125,
    "start_time": "2023-01-10T08:32:58.412Z"
   },
   {
    "duration": 37,
    "start_time": "2023-01-10T08:32:58.539Z"
   },
   {
    "duration": 274,
    "start_time": "2023-01-10T08:32:58.579Z"
   },
   {
    "duration": 9,
    "start_time": "2023-01-10T08:32:58.855Z"
   },
   {
    "duration": 66,
    "start_time": "2023-01-10T08:32:58.886Z"
   },
   {
    "duration": 4,
    "start_time": "2023-01-10T08:32:58.953Z"
   },
   {
    "duration": 242,
    "start_time": "2023-01-10T08:32:58.958Z"
   },
   {
    "duration": 10,
    "start_time": "2023-01-10T08:32:59.202Z"
   },
   {
    "duration": 189,
    "start_time": "2023-01-10T08:32:59.214Z"
   },
   {
    "duration": 20,
    "start_time": "2023-01-10T08:32:59.405Z"
   },
   {
    "duration": 11,
    "start_time": "2023-01-10T08:32:59.427Z"
   },
   {
    "duration": 206,
    "start_time": "2023-01-10T08:32:59.440Z"
   },
   {
    "duration": 10,
    "start_time": "2023-01-10T08:32:59.648Z"
   },
   {
    "duration": 32,
    "start_time": "2023-01-10T08:32:59.660Z"
   },
   {
    "duration": 17,
    "start_time": "2023-01-10T08:32:59.694Z"
   },
   {
    "duration": 19,
    "start_time": "2023-01-10T08:32:59.712Z"
   },
   {
    "duration": 21,
    "start_time": "2023-01-10T08:32:59.734Z"
   },
   {
    "duration": 27,
    "start_time": "2023-01-10T08:32:59.759Z"
   },
   {
    "duration": 23,
    "start_time": "2023-01-10T08:32:59.789Z"
   },
   {
    "duration": 46,
    "start_time": "2023-01-10T08:32:59.813Z"
   },
   {
    "duration": 61,
    "start_time": "2023-01-10T08:32:59.861Z"
   },
   {
    "duration": 194,
    "start_time": "2023-01-10T08:32:59.924Z"
   },
   {
    "duration": 5,
    "start_time": "2023-01-10T08:33:00.119Z"
   },
   {
    "duration": 29,
    "start_time": "2023-01-10T08:33:00.126Z"
   },
   {
    "duration": 299,
    "start_time": "2023-01-10T08:33:00.157Z"
   },
   {
    "duration": 5,
    "start_time": "2023-01-10T08:33:00.457Z"
   },
   {
    "duration": 22,
    "start_time": "2023-01-10T08:33:00.463Z"
   },
   {
    "duration": 22,
    "start_time": "2023-01-10T08:33:00.487Z"
   },
   {
    "duration": 29,
    "start_time": "2023-01-10T08:33:00.511Z"
   },
   {
    "duration": 19,
    "start_time": "2023-01-10T08:33:00.542Z"
   },
   {
    "duration": 68,
    "start_time": "2023-01-10T08:33:00.563Z"
   },
   {
    "duration": 211,
    "start_time": "2023-01-10T08:33:00.632Z"
   },
   {
    "duration": 9,
    "start_time": "2023-01-10T08:33:00.845Z"
   },
   {
    "duration": 2719,
    "start_time": "2023-01-10T08:33:00.855Z"
   },
   {
    "duration": 35,
    "start_time": "2023-01-10T08:33:03.580Z"
   },
   {
    "duration": 317,
    "start_time": "2023-01-10T08:33:03.616Z"
   },
   {
    "duration": 10,
    "start_time": "2023-01-10T08:33:03.935Z"
   },
   {
    "duration": 388,
    "start_time": "2023-01-10T08:33:03.946Z"
   },
   {
    "duration": 9,
    "start_time": "2023-01-10T08:33:04.336Z"
   },
   {
    "duration": 33,
    "start_time": "2023-01-10T08:33:04.348Z"
   },
   {
    "duration": 199,
    "start_time": "2023-01-10T08:33:04.390Z"
   },
   {
    "duration": 5,
    "start_time": "2023-01-10T08:33:04.596Z"
   },
   {
    "duration": 16,
    "start_time": "2023-01-10T08:33:04.603Z"
   },
   {
    "duration": 339,
    "start_time": "2023-01-10T08:33:04.621Z"
   },
   {
    "duration": 6,
    "start_time": "2023-01-10T08:33:04.962Z"
   },
   {
    "duration": 1249,
    "start_time": "2023-01-10T08:33:04.978Z"
   },
   {
    "duration": 5,
    "start_time": "2023-01-10T08:33:06.229Z"
   },
   {
    "duration": 19,
    "start_time": "2023-01-10T08:33:06.236Z"
   },
   {
    "duration": 36,
    "start_time": "2023-01-10T08:33:06.257Z"
   },
   {
    "duration": 29,
    "start_time": "2023-01-10T08:33:06.295Z"
   },
   {
    "duration": 233,
    "start_time": "2023-01-10T08:33:06.326Z"
   },
   {
    "duration": 20,
    "start_time": "2023-01-10T08:33:06.561Z"
   },
   {
    "duration": 289,
    "start_time": "2023-01-10T08:33:06.586Z"
   },
   {
    "duration": 13,
    "start_time": "2023-01-10T08:33:06.877Z"
   },
   {
    "duration": 22,
    "start_time": "2023-01-10T08:33:06.895Z"
   },
   {
    "duration": 6,
    "start_time": "2023-01-10T08:33:06.919Z"
   },
   {
    "duration": 2076,
    "start_time": "2023-01-10T08:33:06.932Z"
   },
   {
    "duration": 8,
    "start_time": "2023-01-10T08:33:09.010Z"
   },
   {
    "duration": 12,
    "start_time": "2023-01-10T08:33:09.020Z"
   },
   {
    "duration": 309,
    "start_time": "2023-01-10T08:33:09.035Z"
   },
   {
    "duration": 7,
    "start_time": "2023-01-10T08:33:09.346Z"
   },
   {
    "duration": 213,
    "start_time": "2023-01-10T08:33:09.355Z"
   },
   {
    "duration": 5,
    "start_time": "2023-01-10T08:33:09.570Z"
   },
   {
    "duration": 30,
    "start_time": "2023-01-10T08:33:09.579Z"
   },
   {
    "duration": 6,
    "start_time": "2023-01-10T08:33:09.610Z"
   },
   {
    "duration": 226,
    "start_time": "2023-01-10T08:33:09.617Z"
   },
   {
    "duration": 6,
    "start_time": "2023-01-10T08:33:09.845Z"
   },
   {
    "duration": 266,
    "start_time": "2023-01-10T08:33:09.852Z"
   },
   {
    "duration": 17,
    "start_time": "2023-01-10T08:33:10.120Z"
   },
   {
    "duration": 55,
    "start_time": "2023-01-10T08:33:10.139Z"
   },
   {
    "duration": 18,
    "start_time": "2023-01-10T08:33:10.196Z"
   },
   {
    "duration": 3,
    "start_time": "2023-01-10T08:33:10.219Z"
   },
   {
    "duration": 71,
    "start_time": "2023-01-10T08:33:10.224Z"
   },
   {
    "duration": 41,
    "start_time": "2023-01-10T08:33:10.297Z"
   },
   {
    "duration": 23,
    "start_time": "2023-01-10T08:33:10.340Z"
   },
   {
    "duration": 61,
    "start_time": "2023-01-10T08:33:10.364Z"
   },
   {
    "duration": 4,
    "start_time": "2023-01-10T08:33:10.427Z"
   },
   {
    "duration": 6,
    "start_time": "2023-01-10T08:48:20.802Z"
   },
   {
    "duration": 5,
    "start_time": "2023-01-10T08:54:58.507Z"
   },
   {
    "duration": 4,
    "start_time": "2023-01-10T08:55:01.594Z"
   },
   {
    "duration": 5,
    "start_time": "2023-01-10T08:55:10.626Z"
   },
   {
    "duration": 6,
    "start_time": "2023-01-10T08:55:14.589Z"
   },
   {
    "duration": 5,
    "start_time": "2023-01-10T08:55:45.639Z"
   },
   {
    "duration": 6,
    "start_time": "2023-01-10T08:55:50.774Z"
   },
   {
    "duration": 4,
    "start_time": "2023-01-10T09:00:15.124Z"
   },
   {
    "duration": 5,
    "start_time": "2023-01-10T09:00:18.908Z"
   },
   {
    "duration": 4,
    "start_time": "2023-01-10T09:00:22.181Z"
   },
   {
    "duration": 4,
    "start_time": "2023-01-10T09:00:24.724Z"
   },
   {
    "duration": 4,
    "start_time": "2023-01-10T09:00:28.600Z"
   },
   {
    "duration": 4,
    "start_time": "2023-01-10T09:00:31.064Z"
   },
   {
    "duration": 5,
    "start_time": "2023-01-10T09:00:33.798Z"
   },
   {
    "duration": 5,
    "start_time": "2023-01-10T09:00:37.621Z"
   },
   {
    "duration": 5,
    "start_time": "2023-01-10T09:00:40.686Z"
   },
   {
    "duration": 5,
    "start_time": "2023-01-10T09:00:43.591Z"
   },
   {
    "duration": 4,
    "start_time": "2023-01-10T09:00:46.176Z"
   },
   {
    "duration": 8,
    "start_time": "2023-01-10T10:25:52.394Z"
   },
   {
    "duration": 43,
    "start_time": "2023-01-10T10:28:43.697Z"
   },
   {
    "duration": 10,
    "start_time": "2023-01-10T10:29:02.706Z"
   },
   {
    "duration": 23,
    "start_time": "2023-01-10T10:29:24.517Z"
   },
   {
    "duration": 57,
    "start_time": "2023-01-10T10:30:06.727Z"
   },
   {
    "duration": 5,
    "start_time": "2023-01-10T10:30:10.233Z"
   },
   {
    "duration": 23,
    "start_time": "2023-01-10T10:30:11.964Z"
   },
   {
    "duration": 7,
    "start_time": "2023-01-10T10:30:16.863Z"
   },
   {
    "duration": 7,
    "start_time": "2023-01-10T10:30:45.264Z"
   },
   {
    "duration": 21,
    "start_time": "2023-01-10T10:30:46.334Z"
   },
   {
    "duration": 6,
    "start_time": "2023-01-10T10:35:18.076Z"
   },
   {
    "duration": 11,
    "start_time": "2023-01-10T10:35:35.762Z"
   },
   {
    "duration": 12,
    "start_time": "2023-01-10T10:39:58.221Z"
   },
   {
    "duration": 11,
    "start_time": "2023-01-10T10:40:09.164Z"
   },
   {
    "duration": 4,
    "start_time": "2023-01-10T10:57:59.560Z"
   },
   {
    "duration": 184,
    "start_time": "2023-01-10T10:57:59.566Z"
   },
   {
    "duration": 26,
    "start_time": "2023-01-10T10:57:59.753Z"
   },
   {
    "duration": 274,
    "start_time": "2023-01-10T10:57:59.781Z"
   },
   {
    "duration": 160,
    "start_time": "2023-01-10T10:58:00.057Z"
   },
   {
    "duration": 126,
    "start_time": "2023-01-10T10:58:00.219Z"
   },
   {
    "duration": 65,
    "start_time": "2023-01-10T10:58:00.347Z"
   },
   {
    "duration": 30,
    "start_time": "2023-01-10T10:58:00.414Z"
   },
   {
    "duration": 27,
    "start_time": "2023-01-10T10:58:00.445Z"
   },
   {
    "duration": 30,
    "start_time": "2023-01-10T10:58:00.474Z"
   },
   {
    "duration": 51,
    "start_time": "2023-01-10T10:58:00.507Z"
   },
   {
    "duration": 61,
    "start_time": "2023-01-10T10:58:00.560Z"
   },
   {
    "duration": 238,
    "start_time": "2023-01-10T10:58:00.623Z"
   },
   {
    "duration": 17,
    "start_time": "2023-01-10T10:58:00.863Z"
   },
   {
    "duration": 54,
    "start_time": "2023-01-10T10:58:00.882Z"
   },
   {
    "duration": 3,
    "start_time": "2023-01-10T10:58:00.938Z"
   },
   {
    "duration": 237,
    "start_time": "2023-01-10T10:58:00.943Z"
   },
   {
    "duration": 11,
    "start_time": "2023-01-10T10:58:01.181Z"
   },
   {
    "duration": 181,
    "start_time": "2023-01-10T10:58:01.193Z"
   },
   {
    "duration": 20,
    "start_time": "2023-01-10T10:58:01.378Z"
   },
   {
    "duration": 83,
    "start_time": "2023-01-10T10:58:01.400Z"
   },
   {
    "duration": 204,
    "start_time": "2023-01-10T10:58:01.485Z"
   },
   {
    "duration": 11,
    "start_time": "2023-01-10T10:58:01.691Z"
   },
   {
    "duration": 61,
    "start_time": "2023-01-10T10:58:01.704Z"
   },
   {
    "duration": 10,
    "start_time": "2023-01-10T10:58:01.766Z"
   },
   {
    "duration": 11,
    "start_time": "2023-01-10T10:58:01.777Z"
   },
   {
    "duration": 20,
    "start_time": "2023-01-10T10:58:01.790Z"
   },
   {
    "duration": 6,
    "start_time": "2023-01-10T10:58:01.812Z"
   },
   {
    "duration": 153,
    "start_time": "2023-01-10T10:58:01.822Z"
   },
   {
    "duration": 5,
    "start_time": "2023-01-10T10:58:01.977Z"
   },
   {
    "duration": 25,
    "start_time": "2023-01-10T10:58:01.983Z"
   },
   {
    "duration": 194,
    "start_time": "2023-01-10T10:58:02.010Z"
   },
   {
    "duration": 5,
    "start_time": "2023-01-10T10:58:02.206Z"
   },
   {
    "duration": 14,
    "start_time": "2023-01-10T10:58:02.212Z"
   },
   {
    "duration": 192,
    "start_time": "2023-01-10T10:58:02.227Z"
   },
   {
    "duration": 5,
    "start_time": "2023-01-10T10:58:02.420Z"
   },
   {
    "duration": 9,
    "start_time": "2023-01-10T10:58:02.427Z"
   },
   {
    "duration": 5,
    "start_time": "2023-01-10T10:58:02.439Z"
   },
   {
    "duration": 47,
    "start_time": "2023-01-10T10:58:02.445Z"
   },
   {
    "duration": 10,
    "start_time": "2023-01-10T10:58:02.494Z"
   },
   {
    "duration": 36,
    "start_time": "2023-01-10T10:58:02.506Z"
   },
   {
    "duration": 205,
    "start_time": "2023-01-10T10:58:02.544Z"
   },
   {
    "duration": 9,
    "start_time": "2023-01-10T10:58:02.751Z"
   },
   {
    "duration": 2466,
    "start_time": "2023-01-10T10:58:02.762Z"
   },
   {
    "duration": 47,
    "start_time": "2023-01-10T10:58:05.230Z"
   },
   {
    "duration": 646,
    "start_time": "2023-01-10T10:58:05.279Z"
   },
   {
    "duration": 8,
    "start_time": "2023-01-10T10:58:05.927Z"
   },
   {
    "duration": 212,
    "start_time": "2023-01-10T10:58:05.936Z"
   },
   {
    "duration": 8,
    "start_time": "2023-01-10T10:58:06.150Z"
   },
   {
    "duration": 25,
    "start_time": "2023-01-10T10:58:06.160Z"
   },
   {
    "duration": 190,
    "start_time": "2023-01-10T10:58:06.187Z"
   },
   {
    "duration": 4,
    "start_time": "2023-01-10T10:58:06.379Z"
   },
   {
    "duration": 20,
    "start_time": "2023-01-10T10:58:06.385Z"
   },
   {
    "duration": 294,
    "start_time": "2023-01-10T10:58:06.407Z"
   },
   {
    "duration": 6,
    "start_time": "2023-01-10T10:58:06.703Z"
   },
   {
    "duration": 1137,
    "start_time": "2023-01-10T10:58:06.710Z"
   },
   {
    "duration": 6,
    "start_time": "2023-01-10T10:58:07.848Z"
   },
   {
    "duration": 31,
    "start_time": "2023-01-10T10:58:07.855Z"
   },
   {
    "duration": 12,
    "start_time": "2023-01-10T10:58:07.889Z"
   },
   {
    "duration": 44,
    "start_time": "2023-01-10T10:58:07.902Z"
   },
   {
    "duration": 246,
    "start_time": "2023-01-10T10:58:07.948Z"
   },
   {
    "duration": 4,
    "start_time": "2023-01-10T10:58:08.196Z"
   },
   {
    "duration": 284,
    "start_time": "2023-01-10T10:58:08.202Z"
   },
   {
    "duration": 6,
    "start_time": "2023-01-10T10:58:08.488Z"
   },
   {
    "duration": 34,
    "start_time": "2023-01-10T10:58:08.496Z"
   },
   {
    "duration": 21,
    "start_time": "2023-01-10T10:58:08.532Z"
   },
   {
    "duration": 1976,
    "start_time": "2023-01-10T10:58:08.555Z"
   },
   {
    "duration": 5,
    "start_time": "2023-01-10T10:58:10.533Z"
   },
   {
    "duration": 523,
    "start_time": "2023-01-10T10:58:10.540Z"
   },
   {
    "duration": 242,
    "start_time": "2023-01-10T10:58:11.065Z"
   },
   {
    "duration": 5,
    "start_time": "2023-01-10T10:58:11.309Z"
   },
   {
    "duration": 207,
    "start_time": "2023-01-10T10:58:11.315Z"
   },
   {
    "duration": 5,
    "start_time": "2023-01-10T10:58:11.524Z"
   },
   {
    "duration": 43,
    "start_time": "2023-01-10T10:58:11.531Z"
   },
   {
    "duration": 18,
    "start_time": "2023-01-10T10:58:11.575Z"
   },
   {
    "duration": 232,
    "start_time": "2023-01-10T10:58:11.595Z"
   },
   {
    "duration": 5,
    "start_time": "2023-01-10T10:58:11.829Z"
   },
   {
    "duration": 260,
    "start_time": "2023-01-10T10:58:11.836Z"
   },
   {
    "duration": 19,
    "start_time": "2023-01-10T10:58:12.100Z"
   },
   {
    "duration": 45,
    "start_time": "2023-01-10T10:58:12.121Z"
   },
   {
    "duration": 37,
    "start_time": "2023-01-10T10:58:12.168Z"
   },
   {
    "duration": 30,
    "start_time": "2023-01-10T10:58:12.207Z"
   },
   {
    "duration": 36,
    "start_time": "2023-01-10T10:58:12.243Z"
   },
   {
    "duration": 34,
    "start_time": "2023-01-10T10:58:12.281Z"
   },
   {
    "duration": 28,
    "start_time": "2023-01-10T10:58:12.317Z"
   },
   {
    "duration": 11,
    "start_time": "2023-01-10T10:58:12.347Z"
   },
   {
    "duration": 28,
    "start_time": "2023-01-10T10:58:12.360Z"
   },
   {
    "duration": 21,
    "start_time": "2023-01-10T10:58:12.390Z"
   },
   {
    "duration": 6,
    "start_time": "2023-01-10T10:58:14.564Z"
   },
   {
    "duration": 13,
    "start_time": "2023-01-10T10:58:18.314Z"
   },
   {
    "duration": 5,
    "start_time": "2023-01-10T10:58:43.406Z"
   },
   {
    "duration": 22,
    "start_time": "2023-01-10T10:58:46.990Z"
   },
   {
    "duration": 4,
    "start_time": "2023-01-10T11:06:10.046Z"
   },
   {
    "duration": 31,
    "start_time": "2023-01-10T11:06:10.057Z"
   },
   {
    "duration": 20,
    "start_time": "2023-01-10T11:06:10.090Z"
   },
   {
    "duration": 244,
    "start_time": "2023-01-10T11:06:10.111Z"
   },
   {
    "duration": 144,
    "start_time": "2023-01-10T11:06:10.357Z"
   },
   {
    "duration": 128,
    "start_time": "2023-01-10T11:06:10.503Z"
   },
   {
    "duration": 68,
    "start_time": "2023-01-10T11:06:10.633Z"
   },
   {
    "duration": 28,
    "start_time": "2023-01-10T11:06:10.703Z"
   },
   {
    "duration": 6,
    "start_time": "2023-01-10T11:06:10.733Z"
   },
   {
    "duration": 38,
    "start_time": "2023-01-10T11:06:10.740Z"
   },
   {
    "duration": 28,
    "start_time": "2023-01-10T11:06:10.781Z"
   },
   {
    "duration": 41,
    "start_time": "2023-01-10T11:06:10.811Z"
   },
   {
    "duration": 201,
    "start_time": "2023-01-10T11:06:10.854Z"
   },
   {
    "duration": 8,
    "start_time": "2023-01-10T11:06:11.057Z"
   },
   {
    "duration": 68,
    "start_time": "2023-01-10T11:06:11.077Z"
   },
   {
    "duration": 3,
    "start_time": "2023-01-10T11:06:11.147Z"
   },
   {
    "duration": 239,
    "start_time": "2023-01-10T11:06:11.152Z"
   },
   {
    "duration": 10,
    "start_time": "2023-01-10T11:06:11.393Z"
   },
   {
    "duration": 177,
    "start_time": "2023-01-10T11:06:11.405Z"
   },
   {
    "duration": 18,
    "start_time": "2023-01-10T11:06:11.584Z"
   },
   {
    "duration": 11,
    "start_time": "2023-01-10T11:06:11.604Z"
   },
   {
    "duration": 295,
    "start_time": "2023-01-10T11:06:11.616Z"
   },
   {
    "duration": 11,
    "start_time": "2023-01-10T11:06:11.913Z"
   },
   {
    "duration": 26,
    "start_time": "2023-01-10T11:06:11.926Z"
   },
   {
    "duration": 9,
    "start_time": "2023-01-10T11:06:11.955Z"
   },
   {
    "duration": 7,
    "start_time": "2023-01-10T11:06:11.978Z"
   },
   {
    "duration": 12,
    "start_time": "2023-01-10T11:06:11.987Z"
   },
   {
    "duration": 5,
    "start_time": "2023-01-10T11:06:12.001Z"
   },
   {
    "duration": 4,
    "start_time": "2023-01-10T11:06:12.012Z"
   },
   {
    "duration": 10,
    "start_time": "2023-01-10T11:06:12.018Z"
   },
   {
    "duration": 62,
    "start_time": "2023-01-10T11:06:12.030Z"
   },
   {
    "duration": 187,
    "start_time": "2023-01-10T11:06:12.094Z"
   },
   {
    "duration": 4,
    "start_time": "2023-01-10T11:06:12.282Z"
   },
   {
    "duration": 10,
    "start_time": "2023-01-10T11:06:12.288Z"
   },
   {
    "duration": 196,
    "start_time": "2023-01-10T11:06:12.300Z"
   },
   {
    "duration": 4,
    "start_time": "2023-01-10T11:06:12.498Z"
   },
   {
    "duration": 7,
    "start_time": "2023-01-10T11:06:12.504Z"
   },
   {
    "duration": 5,
    "start_time": "2023-01-10T11:06:12.512Z"
   },
   {
    "duration": 20,
    "start_time": "2023-01-10T11:06:12.519Z"
   },
   {
    "duration": 39,
    "start_time": "2023-01-10T11:06:12.541Z"
   },
   {
    "duration": 30,
    "start_time": "2023-01-10T11:06:12.582Z"
   },
   {
    "duration": 201,
    "start_time": "2023-01-10T11:06:12.614Z"
   },
   {
    "duration": 8,
    "start_time": "2023-01-10T11:06:12.817Z"
   },
   {
    "duration": 2573,
    "start_time": "2023-01-10T11:06:12.826Z"
   },
   {
    "duration": 33,
    "start_time": "2023-01-10T11:06:15.401Z"
   },
   {
    "duration": 267,
    "start_time": "2023-01-10T11:06:15.436Z"
   },
   {
    "duration": 9,
    "start_time": "2023-01-10T11:06:15.705Z"
   },
   {
    "duration": 228,
    "start_time": "2023-01-10T11:06:15.716Z"
   },
   {
    "duration": 9,
    "start_time": "2023-01-10T11:06:15.946Z"
   },
   {
    "duration": 23,
    "start_time": "2023-01-10T11:06:15.957Z"
   },
   {
    "duration": 202,
    "start_time": "2023-01-10T11:06:15.982Z"
   },
   {
    "duration": 4,
    "start_time": "2023-01-10T11:06:16.186Z"
   },
   {
    "duration": 7,
    "start_time": "2023-01-10T11:06:16.192Z"
   },
   {
    "duration": 340,
    "start_time": "2023-01-10T11:06:16.200Z"
   },
   {
    "duration": 6,
    "start_time": "2023-01-10T11:06:16.542Z"
   },
   {
    "duration": 1133,
    "start_time": "2023-01-10T11:06:16.549Z"
   },
   {
    "duration": 5,
    "start_time": "2023-01-10T11:06:17.684Z"
   },
   {
    "duration": 20,
    "start_time": "2023-01-10T11:06:17.690Z"
   },
   {
    "duration": 9,
    "start_time": "2023-01-10T11:06:17.712Z"
   },
   {
    "duration": 32,
    "start_time": "2023-01-10T11:06:17.723Z"
   },
   {
    "duration": 223,
    "start_time": "2023-01-10T11:06:17.778Z"
   },
   {
    "duration": 3,
    "start_time": "2023-01-10T11:06:18.003Z"
   },
   {
    "duration": 294,
    "start_time": "2023-01-10T11:06:18.008Z"
   },
   {
    "duration": 6,
    "start_time": "2023-01-10T11:06:18.304Z"
   },
   {
    "duration": 17,
    "start_time": "2023-01-10T11:06:18.311Z"
   },
   {
    "duration": 6,
    "start_time": "2023-01-10T11:06:18.330Z"
   },
   {
    "duration": 1957,
    "start_time": "2023-01-10T11:06:18.338Z"
   },
   {
    "duration": 5,
    "start_time": "2023-01-10T11:06:20.296Z"
   },
   {
    "duration": 29,
    "start_time": "2023-01-10T11:06:20.302Z"
   },
   {
    "duration": 208,
    "start_time": "2023-01-10T11:06:20.333Z"
   },
   {
    "duration": 4,
    "start_time": "2023-01-10T11:06:20.543Z"
   },
   {
    "duration": 196,
    "start_time": "2023-01-10T11:06:20.548Z"
   },
   {
    "duration": 5,
    "start_time": "2023-01-10T11:06:20.746Z"
   },
   {
    "duration": 32,
    "start_time": "2023-01-10T11:06:20.752Z"
   },
   {
    "duration": 5,
    "start_time": "2023-01-10T11:06:20.785Z"
   },
   {
    "duration": 220,
    "start_time": "2023-01-10T11:06:20.792Z"
   },
   {
    "duration": 6,
    "start_time": "2023-01-10T11:06:21.014Z"
   },
   {
    "duration": 242,
    "start_time": "2023-01-10T11:06:21.022Z"
   },
   {
    "duration": 17,
    "start_time": "2023-01-10T11:06:21.266Z"
   },
   {
    "duration": 23,
    "start_time": "2023-01-10T11:06:21.285Z"
   },
   {
    "duration": 19,
    "start_time": "2023-01-10T11:06:21.310Z"
   },
   {
    "duration": 8,
    "start_time": "2023-01-10T11:06:21.331Z"
   },
   {
    "duration": 57,
    "start_time": "2023-01-10T11:06:21.344Z"
   },
   {
    "duration": 10,
    "start_time": "2023-01-10T11:06:21.403Z"
   },
   {
    "duration": 13,
    "start_time": "2023-01-10T11:06:21.415Z"
   },
   {
    "duration": 20,
    "start_time": "2023-01-10T11:06:21.430Z"
   },
   {
    "duration": 10,
    "start_time": "2023-01-10T11:09:05.693Z"
   },
   {
    "duration": 13,
    "start_time": "2023-01-10T11:09:10.764Z"
   },
   {
    "duration": 22,
    "start_time": "2023-01-10T11:09:26.233Z"
   },
   {
    "duration": 25,
    "start_time": "2023-01-10T11:10:03.883Z"
   },
   {
    "duration": 220,
    "start_time": "2023-01-10T11:11:21.795Z"
   },
   {
    "duration": 6,
    "start_time": "2023-01-10T11:11:35.645Z"
   },
   {
    "duration": 46,
    "start_time": "2023-01-10T11:12:28.016Z"
   },
   {
    "duration": 48,
    "start_time": "2023-01-10T11:12:31.700Z"
   },
   {
    "duration": 50,
    "start_time": "2023-01-10T11:12:55.658Z"
   },
   {
    "duration": 7,
    "start_time": "2023-01-10T11:12:57.992Z"
   },
   {
    "duration": 58,
    "start_time": "2023-01-10T11:13:07.620Z"
   },
   {
    "duration": 51,
    "start_time": "2023-01-10T11:13:34.386Z"
   },
   {
    "duration": 59,
    "start_time": "2023-01-10T11:13:40.767Z"
   },
   {
    "duration": 47,
    "start_time": "2023-01-10T11:14:38.193Z"
   },
   {
    "duration": 46,
    "start_time": "2023-01-10T11:15:42.174Z"
   },
   {
    "duration": 56,
    "start_time": "2023-01-10T11:15:49.305Z"
   },
   {
    "duration": 48,
    "start_time": "2023-01-10T11:15:56.827Z"
   },
   {
    "duration": 50,
    "start_time": "2023-01-10T11:15:59.290Z"
   },
   {
    "duration": 49,
    "start_time": "2023-01-10T11:16:05.629Z"
   },
   {
    "duration": 6,
    "start_time": "2023-01-10T11:16:14.790Z"
   },
   {
    "duration": 5,
    "start_time": "2023-01-10T11:16:38.252Z"
   },
   {
    "duration": 75,
    "start_time": "2023-01-10T11:19:00.843Z"
   },
   {
    "duration": 57,
    "start_time": "2023-01-10T11:19:14.933Z"
   },
   {
    "duration": 62,
    "start_time": "2023-01-10T11:20:05.547Z"
   },
   {
    "duration": 6,
    "start_time": "2023-01-10T11:20:31.359Z"
   },
   {
    "duration": 6,
    "start_time": "2023-01-10T11:20:40.625Z"
   },
   {
    "duration": 922,
    "start_time": "2023-01-10T11:36:39.942Z"
   },
   {
    "duration": 9,
    "start_time": "2023-01-10T11:37:08.056Z"
   },
   {
    "duration": 38,
    "start_time": "2023-01-10T11:37:20.647Z"
   },
   {
    "duration": 4,
    "start_time": "2023-01-10T11:38:13.919Z"
   },
   {
    "duration": 5,
    "start_time": "2023-01-10T11:38:21.385Z"
   },
   {
    "duration": 6,
    "start_time": "2023-01-10T11:38:45.378Z"
   },
   {
    "duration": 23,
    "start_time": "2023-01-10T11:38:46.455Z"
   },
   {
    "duration": 5,
    "start_time": "2023-01-10T11:39:00.723Z"
   },
   {
    "duration": 9,
    "start_time": "2023-01-10T11:39:38.054Z"
   },
   {
    "duration": 28,
    "start_time": "2023-01-10T11:41:20.912Z"
   },
   {
    "duration": 52,
    "start_time": "2023-01-10T11:45:49.242Z"
   },
   {
    "duration": 1541,
    "start_time": "2023-01-10T11:51:56.812Z"
   },
   {
    "duration": 2,
    "start_time": "2023-01-10T11:51:58.355Z"
   },
   {
    "duration": 7,
    "start_time": "2023-01-10T11:51:58.358Z"
   },
   {
    "duration": 253,
    "start_time": "2023-01-10T11:51:58.367Z"
   },
   {
    "duration": 188,
    "start_time": "2023-01-10T11:51:58.622Z"
   },
   {
    "duration": 130,
    "start_time": "2023-01-10T11:51:58.812Z"
   },
   {
    "duration": 83,
    "start_time": "2023-01-10T11:51:58.944Z"
   },
   {
    "duration": 57,
    "start_time": "2023-01-10T11:51:59.029Z"
   },
   {
    "duration": 6,
    "start_time": "2023-01-10T11:51:59.088Z"
   },
   {
    "duration": 8,
    "start_time": "2023-01-10T11:51:59.097Z"
   },
   {
    "duration": 11,
    "start_time": "2023-01-10T11:51:59.106Z"
   },
   {
    "duration": 6,
    "start_time": "2023-01-10T11:51:59.118Z"
   },
   {
    "duration": 219,
    "start_time": "2023-01-10T11:51:59.125Z"
   },
   {
    "duration": 9,
    "start_time": "2023-01-10T11:51:59.345Z"
   },
   {
    "duration": 64,
    "start_time": "2023-01-10T11:51:59.356Z"
   },
   {
    "duration": 4,
    "start_time": "2023-01-10T11:51:59.422Z"
   },
   {
    "duration": 210,
    "start_time": "2023-01-10T11:51:59.428Z"
   },
   {
    "duration": 12,
    "start_time": "2023-01-10T11:51:59.640Z"
   },
   {
    "duration": 183,
    "start_time": "2023-01-10T11:51:59.654Z"
   },
   {
    "duration": 39,
    "start_time": "2023-01-10T11:51:59.839Z"
   },
   {
    "duration": 11,
    "start_time": "2023-01-10T11:51:59.880Z"
   },
   {
    "duration": 187,
    "start_time": "2023-01-10T11:51:59.893Z"
   },
   {
    "duration": 11,
    "start_time": "2023-01-10T11:52:00.082Z"
   },
   {
    "duration": 12,
    "start_time": "2023-01-10T11:52:00.094Z"
   },
   {
    "duration": 14,
    "start_time": "2023-01-10T11:52:00.108Z"
   },
   {
    "duration": 16,
    "start_time": "2023-01-10T11:52:00.124Z"
   },
   {
    "duration": 39,
    "start_time": "2023-01-10T11:52:00.142Z"
   },
   {
    "duration": 4,
    "start_time": "2023-01-10T11:52:00.187Z"
   },
   {
    "duration": 10,
    "start_time": "2023-01-10T11:52:00.193Z"
   },
   {
    "duration": 19,
    "start_time": "2023-01-10T11:52:00.205Z"
   },
   {
    "duration": 20,
    "start_time": "2023-01-10T11:52:00.226Z"
   },
   {
    "duration": 196,
    "start_time": "2023-01-10T11:52:00.248Z"
   },
   {
    "duration": 5,
    "start_time": "2023-01-10T11:52:00.446Z"
   },
   {
    "duration": 35,
    "start_time": "2023-01-10T11:52:00.452Z"
   },
   {
    "duration": 285,
    "start_time": "2023-01-10T11:52:00.489Z"
   },
   {
    "duration": 5,
    "start_time": "2023-01-10T11:52:00.776Z"
   },
   {
    "duration": 29,
    "start_time": "2023-01-10T11:52:00.782Z"
   },
   {
    "duration": 15,
    "start_time": "2023-01-10T11:52:00.813Z"
   },
   {
    "duration": 33,
    "start_time": "2023-01-10T11:52:00.829Z"
   },
   {
    "duration": 9,
    "start_time": "2023-01-10T11:52:00.864Z"
   },
   {
    "duration": 45,
    "start_time": "2023-01-10T11:52:00.874Z"
   },
   {
    "duration": 220,
    "start_time": "2023-01-10T11:52:00.921Z"
   },
   {
    "duration": 9,
    "start_time": "2023-01-10T11:52:01.143Z"
   },
   {
    "duration": 2590,
    "start_time": "2023-01-10T11:52:01.153Z"
   },
   {
    "duration": 51,
    "start_time": "2023-01-10T11:52:03.744Z"
   },
   {
    "duration": 295,
    "start_time": "2023-01-10T11:52:03.797Z"
   },
   {
    "duration": 11,
    "start_time": "2023-01-10T11:52:04.094Z"
   },
   {
    "duration": 322,
    "start_time": "2023-01-10T11:52:04.107Z"
   },
   {
    "duration": 9,
    "start_time": "2023-01-10T11:52:04.431Z"
   },
   {
    "duration": 30,
    "start_time": "2023-01-10T11:52:04.442Z"
   },
   {
    "duration": 180,
    "start_time": "2023-01-10T11:52:04.474Z"
   },
   {
    "duration": 6,
    "start_time": "2023-01-10T11:52:04.656Z"
   },
   {
    "duration": 17,
    "start_time": "2023-01-10T11:52:04.664Z"
   },
   {
    "duration": 346,
    "start_time": "2023-01-10T11:52:04.683Z"
   },
   {
    "duration": 7,
    "start_time": "2023-01-10T11:52:05.031Z"
   },
   {
    "duration": 1141,
    "start_time": "2023-01-10T11:52:05.040Z"
   },
   {
    "duration": 5,
    "start_time": "2023-01-10T11:52:06.183Z"
   },
   {
    "duration": 27,
    "start_time": "2023-01-10T11:52:06.189Z"
   },
   {
    "duration": 10,
    "start_time": "2023-01-10T11:52:06.218Z"
   },
   {
    "duration": 51,
    "start_time": "2023-01-10T11:52:06.230Z"
   },
   {
    "duration": 200,
    "start_time": "2023-01-10T11:52:06.283Z"
   },
   {
    "duration": 4,
    "start_time": "2023-01-10T11:52:06.484Z"
   },
   {
    "duration": 282,
    "start_time": "2023-01-10T11:52:06.490Z"
   },
   {
    "duration": 8,
    "start_time": "2023-01-10T11:52:06.773Z"
   },
   {
    "duration": 32,
    "start_time": "2023-01-10T11:52:06.783Z"
   },
   {
    "duration": 21,
    "start_time": "2023-01-10T11:52:06.817Z"
   },
   {
    "duration": 1910,
    "start_time": "2023-01-10T11:52:06.839Z"
   },
   {
    "duration": 5,
    "start_time": "2023-01-10T11:52:08.750Z"
   },
   {
    "duration": 39,
    "start_time": "2023-01-10T11:52:08.756Z"
   },
   {
    "duration": 241,
    "start_time": "2023-01-10T11:52:08.797Z"
   },
   {
    "duration": 5,
    "start_time": "2023-01-10T11:52:09.040Z"
   },
   {
    "duration": 211,
    "start_time": "2023-01-10T11:52:09.046Z"
   },
   {
    "duration": 5,
    "start_time": "2023-01-10T11:52:09.259Z"
   },
   {
    "duration": 25,
    "start_time": "2023-01-10T11:52:09.277Z"
   },
   {
    "duration": 28,
    "start_time": "2023-01-10T11:52:09.304Z"
   },
   {
    "duration": 212,
    "start_time": "2023-01-10T11:52:09.333Z"
   },
   {
    "duration": 5,
    "start_time": "2023-01-10T11:52:09.547Z"
   },
   {
    "duration": 245,
    "start_time": "2023-01-10T11:52:09.554Z"
   },
   {
    "duration": 26,
    "start_time": "2023-01-10T11:52:09.801Z"
   },
   {
    "duration": 34,
    "start_time": "2023-01-10T11:52:09.829Z"
   },
   {
    "duration": 24,
    "start_time": "2023-01-10T11:52:09.865Z"
   },
   {
    "duration": 2,
    "start_time": "2023-01-10T11:52:09.896Z"
   },
   {
    "duration": 35,
    "start_time": "2023-01-10T11:52:09.900Z"
   },
   {
    "duration": 45,
    "start_time": "2023-01-10T11:52:09.937Z"
   },
   {
    "duration": 19,
    "start_time": "2023-01-10T11:52:09.984Z"
   },
   {
    "duration": 25,
    "start_time": "2023-01-10T11:52:10.005Z"
   },
   {
    "duration": 50,
    "start_time": "2023-01-10T11:52:10.032Z"
   },
   {
    "duration": 6,
    "start_time": "2023-01-10T11:52:10.084Z"
   },
   {
    "duration": 10,
    "start_time": "2023-01-10T11:52:10.092Z"
   },
   {
    "duration": 4,
    "start_time": "2023-01-10T11:52:10.104Z"
   },
   {
    "duration": 7,
    "start_time": "2023-01-10T11:52:10.110Z"
   },
   {
    "duration": 6,
    "start_time": "2023-01-10T12:13:17.379Z"
   },
   {
    "duration": 5,
    "start_time": "2023-01-10T12:13:31.591Z"
   },
   {
    "duration": 8,
    "start_time": "2023-01-10T12:16:39.961Z"
   },
   {
    "duration": 8,
    "start_time": "2023-01-10T12:16:50.209Z"
   },
   {
    "duration": 7,
    "start_time": "2023-01-10T12:19:45.258Z"
   },
   {
    "duration": 54,
    "start_time": "2023-01-10T12:21:37.509Z"
   },
   {
    "duration": 79,
    "start_time": "2023-01-10T12:21:53.043Z"
   },
   {
    "duration": 62,
    "start_time": "2023-01-10T12:21:59.447Z"
   },
   {
    "duration": 51,
    "start_time": "2023-01-10T12:22:10.158Z"
   },
   {
    "duration": 7,
    "start_time": "2023-01-10T12:22:14.681Z"
   },
   {
    "duration": 7,
    "start_time": "2023-01-10T12:22:24.292Z"
   },
   {
    "duration": 7,
    "start_time": "2023-01-10T12:22:57.233Z"
   },
   {
    "duration": 10,
    "start_time": "2023-01-10T12:23:23.062Z"
   },
   {
    "duration": 9,
    "start_time": "2023-01-10T12:23:26.741Z"
   },
   {
    "duration": 7,
    "start_time": "2023-01-10T12:23:50.627Z"
   },
   {
    "duration": 55,
    "start_time": "2023-01-10T12:24:05.295Z"
   },
   {
    "duration": 61,
    "start_time": "2023-01-10T12:24:08.413Z"
   },
   {
    "duration": 52,
    "start_time": "2023-01-10T12:24:15.349Z"
   },
   {
    "duration": 7,
    "start_time": "2023-01-10T12:24:17.198Z"
   },
   {
    "duration": 48,
    "start_time": "2023-01-10T12:24:56.752Z"
   },
   {
    "duration": 54,
    "start_time": "2023-01-10T12:26:59.235Z"
   },
   {
    "duration": 46,
    "start_time": "2023-01-10T12:28:01.384Z"
   },
   {
    "duration": 8,
    "start_time": "2023-01-10T12:28:08.531Z"
   },
   {
    "duration": 1424,
    "start_time": "2023-01-10T12:30:55.327Z"
   },
   {
    "duration": 3,
    "start_time": "2023-01-10T12:30:56.753Z"
   },
   {
    "duration": 6,
    "start_time": "2023-01-10T12:30:56.758Z"
   },
   {
    "duration": 251,
    "start_time": "2023-01-10T12:30:56.773Z"
   },
   {
    "duration": 133,
    "start_time": "2023-01-10T12:30:57.025Z"
   },
   {
    "duration": 122,
    "start_time": "2023-01-10T12:30:57.160Z"
   },
   {
    "duration": 61,
    "start_time": "2023-01-10T12:30:57.284Z"
   },
   {
    "duration": 69,
    "start_time": "2023-01-10T12:30:57.347Z"
   },
   {
    "duration": 4,
    "start_time": "2023-01-10T12:30:57.418Z"
   },
   {
    "duration": 23,
    "start_time": "2023-01-10T12:30:57.425Z"
   },
   {
    "duration": 33,
    "start_time": "2023-01-10T12:30:57.450Z"
   },
   {
    "duration": 46,
    "start_time": "2023-01-10T12:30:57.485Z"
   },
   {
    "duration": 214,
    "start_time": "2023-01-10T12:30:57.533Z"
   },
   {
    "duration": 9,
    "start_time": "2023-01-10T12:30:57.749Z"
   },
   {
    "duration": 65,
    "start_time": "2023-01-10T12:30:57.759Z"
   },
   {
    "duration": 4,
    "start_time": "2023-01-10T12:30:57.825Z"
   },
   {
    "duration": 235,
    "start_time": "2023-01-10T12:30:57.830Z"
   },
   {
    "duration": 18,
    "start_time": "2023-01-10T12:30:58.067Z"
   },
   {
    "duration": 190,
    "start_time": "2023-01-10T12:30:58.087Z"
   },
   {
    "duration": 23,
    "start_time": "2023-01-10T12:30:58.280Z"
   },
   {
    "duration": 14,
    "start_time": "2023-01-10T12:30:58.306Z"
   },
   {
    "duration": 234,
    "start_time": "2023-01-10T12:30:58.322Z"
   },
   {
    "duration": 22,
    "start_time": "2023-01-10T12:30:58.558Z"
   },
   {
    "duration": 21,
    "start_time": "2023-01-10T12:30:58.582Z"
   },
   {
    "duration": 25,
    "start_time": "2023-01-10T12:30:58.604Z"
   },
   {
    "duration": 16,
    "start_time": "2023-01-10T12:30:58.631Z"
   },
   {
    "duration": 24,
    "start_time": "2023-01-10T12:30:58.649Z"
   },
   {
    "duration": 10,
    "start_time": "2023-01-10T12:30:58.678Z"
   },
   {
    "duration": 20,
    "start_time": "2023-01-10T12:30:58.689Z"
   },
   {
    "duration": 13,
    "start_time": "2023-01-10T12:30:58.711Z"
   },
   {
    "duration": 48,
    "start_time": "2023-01-10T12:30:58.726Z"
   },
   {
    "duration": 188,
    "start_time": "2023-01-10T12:30:58.775Z"
   },
   {
    "duration": 15,
    "start_time": "2023-01-10T12:30:58.965Z"
   },
   {
    "duration": 26,
    "start_time": "2023-01-10T12:30:58.981Z"
   },
   {
    "duration": 311,
    "start_time": "2023-01-10T12:30:59.009Z"
   },
   {
    "duration": 5,
    "start_time": "2023-01-10T12:30:59.322Z"
   },
   {
    "duration": 18,
    "start_time": "2023-01-10T12:30:59.328Z"
   },
   {
    "duration": 36,
    "start_time": "2023-01-10T12:30:59.347Z"
   },
   {
    "duration": 34,
    "start_time": "2023-01-10T12:30:59.385Z"
   },
   {
    "duration": 12,
    "start_time": "2023-01-10T12:30:59.421Z"
   },
   {
    "duration": 46,
    "start_time": "2023-01-10T12:30:59.435Z"
   },
   {
    "duration": 198,
    "start_time": "2023-01-10T12:30:59.482Z"
   },
   {
    "duration": 9,
    "start_time": "2023-01-10T12:30:59.682Z"
   },
   {
    "duration": 2634,
    "start_time": "2023-01-10T12:30:59.692Z"
   },
   {
    "duration": 51,
    "start_time": "2023-01-10T12:31:02.327Z"
   },
   {
    "duration": 260,
    "start_time": "2023-01-10T12:31:02.379Z"
   },
   {
    "duration": 9,
    "start_time": "2023-01-10T12:31:02.641Z"
   },
   {
    "duration": 324,
    "start_time": "2023-01-10T12:31:02.651Z"
   },
   {
    "duration": 9,
    "start_time": "2023-01-10T12:31:02.977Z"
   },
   {
    "duration": 10,
    "start_time": "2023-01-10T12:31:02.988Z"
   },
   {
    "duration": 199,
    "start_time": "2023-01-10T12:31:03.000Z"
   },
   {
    "duration": 5,
    "start_time": "2023-01-10T12:31:03.201Z"
   },
   {
    "duration": 7,
    "start_time": "2023-01-10T12:31:03.208Z"
   },
   {
    "duration": 308,
    "start_time": "2023-01-10T12:31:03.217Z"
   },
   {
    "duration": 5,
    "start_time": "2023-01-10T12:31:03.526Z"
   },
   {
    "duration": 1176,
    "start_time": "2023-01-10T12:31:03.533Z"
   },
   {
    "duration": 6,
    "start_time": "2023-01-10T12:31:04.710Z"
   },
   {
    "duration": 22,
    "start_time": "2023-01-10T12:31:04.718Z"
   },
   {
    "duration": 10,
    "start_time": "2023-01-10T12:31:04.742Z"
   },
   {
    "duration": 32,
    "start_time": "2023-01-10T12:31:04.777Z"
   },
   {
    "duration": 220,
    "start_time": "2023-01-10T12:31:04.810Z"
   },
   {
    "duration": 4,
    "start_time": "2023-01-10T12:31:05.033Z"
   },
   {
    "duration": 313,
    "start_time": "2023-01-10T12:31:05.040Z"
   },
   {
    "duration": 6,
    "start_time": "2023-01-10T12:31:05.355Z"
   },
   {
    "duration": 43,
    "start_time": "2023-01-10T12:31:05.363Z"
   },
   {
    "duration": 11,
    "start_time": "2023-01-10T12:31:05.408Z"
   },
   {
    "duration": 1925,
    "start_time": "2023-01-10T12:31:05.420Z"
   },
   {
    "duration": 6,
    "start_time": "2023-01-10T12:31:07.347Z"
   },
   {
    "duration": 29,
    "start_time": "2023-01-10T12:31:07.355Z"
   },
   {
    "duration": 239,
    "start_time": "2023-01-10T12:31:07.386Z"
   },
   {
    "duration": 5,
    "start_time": "2023-01-10T12:31:07.626Z"
   },
   {
    "duration": 211,
    "start_time": "2023-01-10T12:31:07.633Z"
   },
   {
    "duration": 7,
    "start_time": "2023-01-10T12:31:07.846Z"
   },
   {
    "duration": 34,
    "start_time": "2023-01-10T12:31:07.855Z"
   },
   {
    "duration": 6,
    "start_time": "2023-01-10T12:31:07.891Z"
   },
   {
    "duration": 218,
    "start_time": "2023-01-10T12:31:07.899Z"
   },
   {
    "duration": 6,
    "start_time": "2023-01-10T12:31:08.120Z"
   },
   {
    "duration": 276,
    "start_time": "2023-01-10T12:31:08.128Z"
   },
   {
    "duration": 18,
    "start_time": "2023-01-10T12:31:08.406Z"
   },
   {
    "duration": 53,
    "start_time": "2023-01-10T12:31:08.426Z"
   },
   {
    "duration": 22,
    "start_time": "2023-01-10T12:31:08.482Z"
   },
   {
    "duration": 5,
    "start_time": "2023-01-10T12:31:08.510Z"
   },
   {
    "duration": 67,
    "start_time": "2023-01-10T12:31:08.517Z"
   },
   {
    "duration": 13,
    "start_time": "2023-01-10T12:31:08.586Z"
   },
   {
    "duration": 37,
    "start_time": "2023-01-10T12:31:08.601Z"
   },
   {
    "duration": 40,
    "start_time": "2023-01-10T12:31:08.639Z"
   },
   {
    "duration": 16,
    "start_time": "2023-01-10T12:31:08.681Z"
   },
   {
    "duration": 9,
    "start_time": "2023-01-10T12:31:08.699Z"
   },
   {
    "duration": 8,
    "start_time": "2023-01-10T12:31:08.710Z"
   },
   {
    "duration": 6,
    "start_time": "2023-01-10T12:31:08.720Z"
   },
   {
    "duration": 5,
    "start_time": "2023-01-10T12:31:08.728Z"
   },
   {
    "duration": 10,
    "start_time": "2023-01-10T12:31:08.734Z"
   },
   {
    "duration": 1594,
    "start_time": "2023-01-11T11:47:06.774Z"
   },
   {
    "duration": 2,
    "start_time": "2023-01-11T11:47:08.371Z"
   },
   {
    "duration": 8,
    "start_time": "2023-01-11T11:47:08.375Z"
   },
   {
    "duration": 834,
    "start_time": "2023-01-11T11:47:08.386Z"
   },
   {
    "duration": 137,
    "start_time": "2023-01-11T11:47:09.222Z"
   },
   {
    "duration": 110,
    "start_time": "2023-01-11T11:47:09.361Z"
   },
   {
    "duration": 55,
    "start_time": "2023-01-11T11:47:09.473Z"
   },
   {
    "duration": 56,
    "start_time": "2023-01-11T11:47:09.530Z"
   },
   {
    "duration": 4,
    "start_time": "2023-01-11T11:47:09.588Z"
   },
   {
    "duration": 29,
    "start_time": "2023-01-11T11:47:09.595Z"
   },
   {
    "duration": 45,
    "start_time": "2023-01-11T11:47:09.626Z"
   },
   {
    "duration": 50,
    "start_time": "2023-01-11T11:47:09.672Z"
   },
   {
    "duration": 209,
    "start_time": "2023-01-11T11:47:09.724Z"
   },
   {
    "duration": 17,
    "start_time": "2023-01-11T11:47:09.935Z"
   },
   {
    "duration": 88,
    "start_time": "2023-01-11T11:47:09.954Z"
   },
   {
    "duration": 19,
    "start_time": "2023-01-11T11:47:10.044Z"
   },
   {
    "duration": 229,
    "start_time": "2023-01-11T11:47:10.065Z"
   },
   {
    "duration": 9,
    "start_time": "2023-01-11T11:47:10.296Z"
   },
   {
    "duration": 161,
    "start_time": "2023-01-11T11:47:10.307Z"
   },
   {
    "duration": 17,
    "start_time": "2023-01-11T11:47:10.470Z"
   },
   {
    "duration": 19,
    "start_time": "2023-01-11T11:47:10.489Z"
   },
   {
    "duration": 177,
    "start_time": "2023-01-11T11:47:10.510Z"
   },
   {
    "duration": 9,
    "start_time": "2023-01-11T11:47:10.689Z"
   },
   {
    "duration": 48,
    "start_time": "2023-01-11T11:47:10.700Z"
   },
   {
    "duration": 23,
    "start_time": "2023-01-11T11:47:10.750Z"
   },
   {
    "duration": 42,
    "start_time": "2023-01-11T11:47:10.775Z"
   },
   {
    "duration": 19,
    "start_time": "2023-01-11T11:47:10.819Z"
   },
   {
    "duration": 34,
    "start_time": "2023-01-11T11:47:10.843Z"
   },
   {
    "duration": 56,
    "start_time": "2023-01-11T11:47:10.879Z"
   },
   {
    "duration": 62,
    "start_time": "2023-01-11T11:47:10.937Z"
   },
   {
    "duration": 53,
    "start_time": "2023-01-11T11:47:11.000Z"
   },
   {
    "duration": 170,
    "start_time": "2023-01-11T11:47:11.055Z"
   },
   {
    "duration": 5,
    "start_time": "2023-01-11T11:47:11.227Z"
   },
   {
    "duration": 37,
    "start_time": "2023-01-11T11:47:11.233Z"
   },
   {
    "duration": 271,
    "start_time": "2023-01-11T11:47:11.272Z"
   },
   {
    "duration": 7,
    "start_time": "2023-01-11T11:47:11.545Z"
   },
   {
    "duration": 27,
    "start_time": "2023-01-11T11:47:11.553Z"
   },
   {
    "duration": 38,
    "start_time": "2023-01-11T11:47:11.582Z"
   },
   {
    "duration": 41,
    "start_time": "2023-01-11T11:47:11.621Z"
   },
   {
    "duration": 16,
    "start_time": "2023-01-11T11:47:11.664Z"
   },
   {
    "duration": 70,
    "start_time": "2023-01-11T11:47:11.682Z"
   },
   {
    "duration": 170,
    "start_time": "2023-01-11T11:47:11.754Z"
   },
   {
    "duration": 7,
    "start_time": "2023-01-11T11:47:11.926Z"
   },
   {
    "duration": 2379,
    "start_time": "2023-01-11T11:47:11.935Z"
   },
   {
    "duration": 36,
    "start_time": "2023-01-11T11:47:14.316Z"
   },
   {
    "duration": 250,
    "start_time": "2023-01-11T11:47:14.354Z"
   },
   {
    "duration": 9,
    "start_time": "2023-01-11T11:47:14.606Z"
   },
   {
    "duration": 304,
    "start_time": "2023-01-11T11:47:14.617Z"
   },
   {
    "duration": 9,
    "start_time": "2023-01-11T11:47:14.923Z"
   },
   {
    "duration": 19,
    "start_time": "2023-01-11T11:47:14.934Z"
   },
   {
    "duration": 177,
    "start_time": "2023-01-11T11:47:14.955Z"
   },
   {
    "duration": 4,
    "start_time": "2023-01-11T11:47:15.134Z"
   },
   {
    "duration": 23,
    "start_time": "2023-01-11T11:47:15.140Z"
   },
   {
    "duration": 278,
    "start_time": "2023-01-11T11:47:15.165Z"
   },
   {
    "duration": 9,
    "start_time": "2023-01-11T11:47:15.445Z"
   },
   {
    "duration": 1049,
    "start_time": "2023-01-11T11:47:15.455Z"
   },
   {
    "duration": 5,
    "start_time": "2023-01-11T11:47:16.506Z"
   },
   {
    "duration": 22,
    "start_time": "2023-01-11T11:47:16.512Z"
   },
   {
    "duration": 18,
    "start_time": "2023-01-11T11:47:16.536Z"
   },
   {
    "duration": 30,
    "start_time": "2023-01-11T11:47:16.555Z"
   },
   {
    "duration": 221,
    "start_time": "2023-01-11T11:47:16.587Z"
   },
   {
    "duration": 4,
    "start_time": "2023-01-11T11:47:16.809Z"
   },
   {
    "duration": 316,
    "start_time": "2023-01-11T11:47:16.815Z"
   },
   {
    "duration": 5,
    "start_time": "2023-01-11T11:47:17.133Z"
   },
   {
    "duration": 14,
    "start_time": "2023-01-11T11:47:17.152Z"
   },
   {
    "duration": 4,
    "start_time": "2023-01-11T11:47:17.168Z"
   },
   {
    "duration": 2004,
    "start_time": "2023-01-11T11:47:17.174Z"
   },
   {
    "duration": 6,
    "start_time": "2023-01-11T11:47:19.180Z"
   },
   {
    "duration": 39,
    "start_time": "2023-01-11T11:47:19.187Z"
   },
   {
    "duration": 237,
    "start_time": "2023-01-11T11:47:19.228Z"
   },
   {
    "duration": 5,
    "start_time": "2023-01-11T11:47:19.467Z"
   },
   {
    "duration": 207,
    "start_time": "2023-01-11T11:47:19.473Z"
   },
   {
    "duration": 6,
    "start_time": "2023-01-11T11:47:19.682Z"
   },
   {
    "duration": 25,
    "start_time": "2023-01-11T11:47:19.689Z"
   },
   {
    "duration": 16,
    "start_time": "2023-01-11T11:47:19.716Z"
   },
   {
    "duration": 209,
    "start_time": "2023-01-11T11:47:19.734Z"
   },
   {
    "duration": 9,
    "start_time": "2023-01-11T11:47:19.945Z"
   },
   {
    "duration": 236,
    "start_time": "2023-01-11T11:47:19.956Z"
   },
   {
    "duration": 15,
    "start_time": "2023-01-11T11:47:20.195Z"
   },
   {
    "duration": 32,
    "start_time": "2023-01-11T11:47:20.212Z"
   },
   {
    "duration": 18,
    "start_time": "2023-01-11T11:47:20.253Z"
   },
   {
    "duration": 37,
    "start_time": "2023-01-11T11:47:20.278Z"
   },
   {
    "duration": 116,
    "start_time": "2023-01-11T11:47:20.317Z"
   },
   {
    "duration": 18,
    "start_time": "2023-01-11T11:47:20.434Z"
   },
   {
    "duration": 34,
    "start_time": "2023-01-11T11:47:20.454Z"
   },
   {
    "duration": 27,
    "start_time": "2023-01-11T11:47:20.490Z"
   },
   {
    "duration": 307,
    "start_time": "2023-01-11T11:47:20.519Z"
   },
   {
    "duration": 0,
    "start_time": "2023-01-11T11:47:20.829Z"
   },
   {
    "duration": 0,
    "start_time": "2023-01-11T11:47:20.831Z"
   },
   {
    "duration": 0,
    "start_time": "2023-01-11T11:47:20.832Z"
   },
   {
    "duration": 0,
    "start_time": "2023-01-11T11:47:20.833Z"
   },
   {
    "duration": 0,
    "start_time": "2023-01-11T11:47:20.835Z"
   },
   {
    "duration": 1455,
    "start_time": "2023-01-11T11:47:54.041Z"
   },
   {
    "duration": 3,
    "start_time": "2023-01-11T11:47:55.498Z"
   },
   {
    "duration": 37,
    "start_time": "2023-01-11T11:47:55.502Z"
   },
   {
    "duration": 242,
    "start_time": "2023-01-11T11:47:55.541Z"
   },
   {
    "duration": 126,
    "start_time": "2023-01-11T11:47:55.785Z"
   },
   {
    "duration": 111,
    "start_time": "2023-01-11T11:47:55.912Z"
   },
   {
    "duration": 70,
    "start_time": "2023-01-11T11:47:56.025Z"
   },
   {
    "duration": 39,
    "start_time": "2023-01-11T11:47:56.097Z"
   },
   {
    "duration": 15,
    "start_time": "2023-01-11T11:47:56.138Z"
   },
   {
    "duration": 6,
    "start_time": "2023-01-11T11:47:56.156Z"
   },
   {
    "duration": 33,
    "start_time": "2023-01-11T11:47:56.164Z"
   },
   {
    "duration": 13,
    "start_time": "2023-01-11T11:47:56.198Z"
   },
   {
    "duration": 189,
    "start_time": "2023-01-11T11:47:56.212Z"
   },
   {
    "duration": 8,
    "start_time": "2023-01-11T11:47:56.402Z"
   },
   {
    "duration": 58,
    "start_time": "2023-01-11T11:47:56.411Z"
   },
   {
    "duration": 3,
    "start_time": "2023-01-11T11:47:56.471Z"
   },
   {
    "duration": 196,
    "start_time": "2023-01-11T11:47:56.475Z"
   },
   {
    "duration": 8,
    "start_time": "2023-01-11T11:47:56.673Z"
   },
   {
    "duration": 163,
    "start_time": "2023-01-11T11:47:56.683Z"
   },
   {
    "duration": 19,
    "start_time": "2023-01-11T11:47:56.847Z"
   },
   {
    "duration": 9,
    "start_time": "2023-01-11T11:47:56.868Z"
   },
   {
    "duration": 169,
    "start_time": "2023-01-11T11:47:56.878Z"
   },
   {
    "duration": 12,
    "start_time": "2023-01-11T11:47:57.048Z"
   },
   {
    "duration": 16,
    "start_time": "2023-01-11T11:47:57.061Z"
   },
   {
    "duration": 9,
    "start_time": "2023-01-11T11:47:57.079Z"
   },
   {
    "duration": 5,
    "start_time": "2023-01-11T11:47:57.089Z"
   },
   {
    "duration": 19,
    "start_time": "2023-01-11T11:47:57.095Z"
   },
   {
    "duration": 5,
    "start_time": "2023-01-11T11:47:57.118Z"
   },
   {
    "duration": 28,
    "start_time": "2023-01-11T11:47:57.125Z"
   },
   {
    "duration": 4,
    "start_time": "2023-01-11T11:47:57.155Z"
   },
   {
    "duration": 22,
    "start_time": "2023-01-11T11:47:57.161Z"
   },
   {
    "duration": 175,
    "start_time": "2023-01-11T11:47:57.184Z"
   },
   {
    "duration": 4,
    "start_time": "2023-01-11T11:47:57.360Z"
   },
   {
    "duration": 6,
    "start_time": "2023-01-11T11:47:57.366Z"
   },
   {
    "duration": 258,
    "start_time": "2023-01-11T11:47:57.374Z"
   },
   {
    "duration": 4,
    "start_time": "2023-01-11T11:47:57.633Z"
   },
   {
    "duration": 22,
    "start_time": "2023-01-11T11:47:57.639Z"
   },
   {
    "duration": 26,
    "start_time": "2023-01-11T11:47:57.663Z"
   },
   {
    "duration": 38,
    "start_time": "2023-01-11T11:47:57.691Z"
   },
   {
    "duration": 9,
    "start_time": "2023-01-11T11:47:57.732Z"
   },
   {
    "duration": 38,
    "start_time": "2023-01-11T11:47:57.742Z"
   },
   {
    "duration": 174,
    "start_time": "2023-01-11T11:47:57.782Z"
   },
   {
    "duration": 8,
    "start_time": "2023-01-11T11:47:57.958Z"
   },
   {
    "duration": 2326,
    "start_time": "2023-01-11T11:47:57.967Z"
   },
   {
    "duration": 35,
    "start_time": "2023-01-11T11:48:00.295Z"
   },
   {
    "duration": 256,
    "start_time": "2023-01-11T11:48:00.332Z"
   },
   {
    "duration": 8,
    "start_time": "2023-01-11T11:48:00.590Z"
   },
   {
    "duration": 295,
    "start_time": "2023-01-11T11:48:00.600Z"
   },
   {
    "duration": 10,
    "start_time": "2023-01-11T11:48:00.896Z"
   },
   {
    "duration": 22,
    "start_time": "2023-01-11T11:48:00.907Z"
   },
   {
    "duration": 192,
    "start_time": "2023-01-11T11:48:00.931Z"
   },
   {
    "duration": 5,
    "start_time": "2023-01-11T11:48:01.124Z"
   },
   {
    "duration": 13,
    "start_time": "2023-01-11T11:48:01.130Z"
   },
   {
    "duration": 282,
    "start_time": "2023-01-11T11:48:01.144Z"
   },
   {
    "duration": 6,
    "start_time": "2023-01-11T11:48:01.428Z"
   },
   {
    "duration": 1066,
    "start_time": "2023-01-11T11:48:01.436Z"
   },
   {
    "duration": 6,
    "start_time": "2023-01-11T11:48:02.504Z"
   },
   {
    "duration": 36,
    "start_time": "2023-01-11T11:48:02.512Z"
   },
   {
    "duration": 11,
    "start_time": "2023-01-11T11:48:02.550Z"
   },
   {
    "duration": 34,
    "start_time": "2023-01-11T11:48:02.563Z"
   },
   {
    "duration": 208,
    "start_time": "2023-01-11T11:48:02.601Z"
   },
   {
    "duration": 4,
    "start_time": "2023-01-11T11:48:02.810Z"
   },
   {
    "duration": 273,
    "start_time": "2023-01-11T11:48:02.815Z"
   },
   {
    "duration": 4,
    "start_time": "2023-01-11T11:48:03.090Z"
   },
   {
    "duration": 16,
    "start_time": "2023-01-11T11:48:03.096Z"
   },
   {
    "duration": 4,
    "start_time": "2023-01-11T11:48:03.114Z"
   },
   {
    "duration": 1765,
    "start_time": "2023-01-11T11:48:03.119Z"
   },
   {
    "duration": 5,
    "start_time": "2023-01-11T11:48:04.886Z"
   },
   {
    "duration": 39,
    "start_time": "2023-01-11T11:48:04.892Z"
   },
   {
    "duration": 207,
    "start_time": "2023-01-11T11:48:04.933Z"
   },
   {
    "duration": 10,
    "start_time": "2023-01-11T11:48:05.142Z"
   },
   {
    "duration": 185,
    "start_time": "2023-01-11T11:48:05.153Z"
   },
   {
    "duration": 4,
    "start_time": "2023-01-11T11:48:05.340Z"
   },
   {
    "duration": 23,
    "start_time": "2023-01-11T11:48:05.353Z"
   },
   {
    "duration": 19,
    "start_time": "2023-01-11T11:48:05.377Z"
   },
   {
    "duration": 224,
    "start_time": "2023-01-11T11:48:05.397Z"
   },
   {
    "duration": 5,
    "start_time": "2023-01-11T11:48:05.622Z"
   },
   {
    "duration": 253,
    "start_time": "2023-01-11T11:48:05.628Z"
   },
   {
    "duration": 14,
    "start_time": "2023-01-11T11:48:05.883Z"
   },
   {
    "duration": 43,
    "start_time": "2023-01-11T11:48:05.898Z"
   },
   {
    "duration": 15,
    "start_time": "2023-01-11T11:48:05.943Z"
   },
   {
    "duration": 35,
    "start_time": "2023-01-11T11:48:05.962Z"
   },
   {
    "duration": 86,
    "start_time": "2023-01-11T11:48:05.999Z"
   },
   {
    "duration": 29,
    "start_time": "2023-01-11T11:48:06.087Z"
   },
   {
    "duration": 51,
    "start_time": "2023-01-11T11:48:06.117Z"
   },
   {
    "duration": 21,
    "start_time": "2023-01-11T11:48:06.169Z"
   },
   {
    "duration": 17,
    "start_time": "2023-01-11T11:48:14.881Z"
   },
   {
    "duration": 268,
    "start_time": "2023-01-11T11:48:20.544Z"
   },
   {
    "duration": 1504,
    "start_time": "2023-01-11T11:55:36.647Z"
   },
   {
    "duration": 3,
    "start_time": "2023-01-11T11:55:38.153Z"
   },
   {
    "duration": 44,
    "start_time": "2023-01-11T11:55:38.157Z"
   },
   {
    "duration": 262,
    "start_time": "2023-01-11T11:55:38.204Z"
   },
   {
    "duration": 132,
    "start_time": "2023-01-11T11:55:38.468Z"
   },
   {
    "duration": 116,
    "start_time": "2023-01-11T11:55:38.603Z"
   },
   {
    "duration": 67,
    "start_time": "2023-01-11T11:55:38.720Z"
   },
   {
    "duration": 39,
    "start_time": "2023-01-11T11:55:38.789Z"
   },
   {
    "duration": 10,
    "start_time": "2023-01-11T11:55:38.830Z"
   },
   {
    "duration": 32,
    "start_time": "2023-01-11T11:55:38.851Z"
   },
   {
    "duration": 64,
    "start_time": "2023-01-11T11:55:38.885Z"
   },
   {
    "duration": 33,
    "start_time": "2023-01-11T11:55:38.951Z"
   },
   {
    "duration": 197,
    "start_time": "2023-01-11T11:55:38.986Z"
   },
   {
    "duration": 8,
    "start_time": "2023-01-11T11:55:39.185Z"
   },
   {
    "duration": 65,
    "start_time": "2023-01-11T11:55:39.195Z"
   },
   {
    "duration": 15,
    "start_time": "2023-01-11T11:55:39.262Z"
   },
   {
    "duration": 248,
    "start_time": "2023-01-11T11:55:39.279Z"
   },
   {
    "duration": 10,
    "start_time": "2023-01-11T11:55:39.529Z"
   },
   {
    "duration": 180,
    "start_time": "2023-01-11T11:55:39.541Z"
   },
   {
    "duration": 18,
    "start_time": "2023-01-11T11:55:39.722Z"
   },
   {
    "duration": 28,
    "start_time": "2023-01-11T11:55:39.742Z"
   },
   {
    "duration": 175,
    "start_time": "2023-01-11T11:55:39.772Z"
   },
   {
    "duration": 10,
    "start_time": "2023-01-11T11:55:39.949Z"
   },
   {
    "duration": 72,
    "start_time": "2023-01-11T11:55:39.961Z"
   },
   {
    "duration": 24,
    "start_time": "2023-01-11T11:55:40.034Z"
   },
   {
    "duration": 32,
    "start_time": "2023-01-11T11:55:40.060Z"
   },
   {
    "duration": 56,
    "start_time": "2023-01-11T11:55:40.094Z"
   },
   {
    "duration": 26,
    "start_time": "2023-01-11T11:55:40.155Z"
   },
   {
    "duration": 48,
    "start_time": "2023-01-11T11:55:40.183Z"
   },
   {
    "duration": 37,
    "start_time": "2023-01-11T11:55:40.233Z"
   },
   {
    "duration": 57,
    "start_time": "2023-01-11T11:55:40.271Z"
   },
   {
    "duration": 186,
    "start_time": "2023-01-11T11:55:40.330Z"
   },
   {
    "duration": 4,
    "start_time": "2023-01-11T11:55:40.518Z"
   },
   {
    "duration": 35,
    "start_time": "2023-01-11T11:55:40.524Z"
   },
   {
    "duration": 284,
    "start_time": "2023-01-11T11:55:40.561Z"
   },
   {
    "duration": 7,
    "start_time": "2023-01-11T11:55:40.847Z"
   },
   {
    "duration": 52,
    "start_time": "2023-01-11T11:55:40.855Z"
   },
   {
    "duration": 44,
    "start_time": "2023-01-11T11:55:40.908Z"
   },
   {
    "duration": 44,
    "start_time": "2023-01-11T11:55:40.954Z"
   },
   {
    "duration": 43,
    "start_time": "2023-01-11T11:55:40.999Z"
   },
   {
    "duration": 53,
    "start_time": "2023-01-11T11:55:41.044Z"
   },
   {
    "duration": 181,
    "start_time": "2023-01-11T11:55:41.099Z"
   },
   {
    "duration": 7,
    "start_time": "2023-01-11T11:55:41.282Z"
   },
   {
    "duration": 2470,
    "start_time": "2023-01-11T11:55:41.291Z"
   },
   {
    "duration": 32,
    "start_time": "2023-01-11T11:55:43.763Z"
   },
   {
    "duration": 252,
    "start_time": "2023-01-11T11:55:43.797Z"
   },
   {
    "duration": 9,
    "start_time": "2023-01-11T11:55:44.052Z"
   },
   {
    "duration": 314,
    "start_time": "2023-01-11T11:55:44.062Z"
   },
   {
    "duration": 10,
    "start_time": "2023-01-11T11:55:44.378Z"
   },
   {
    "duration": 11,
    "start_time": "2023-01-11T11:55:44.390Z"
   },
   {
    "duration": 190,
    "start_time": "2023-01-11T11:55:44.402Z"
   },
   {
    "duration": 4,
    "start_time": "2023-01-11T11:55:44.594Z"
   },
   {
    "duration": 28,
    "start_time": "2023-01-11T11:55:44.600Z"
   },
   {
    "duration": 289,
    "start_time": "2023-01-11T11:55:44.631Z"
   },
   {
    "duration": 5,
    "start_time": "2023-01-11T11:55:44.922Z"
   },
   {
    "duration": 1072,
    "start_time": "2023-01-11T11:55:44.929Z"
   },
   {
    "duration": 5,
    "start_time": "2023-01-11T11:55:46.003Z"
   },
   {
    "duration": 15,
    "start_time": "2023-01-11T11:55:46.009Z"
   },
   {
    "duration": 9,
    "start_time": "2023-01-11T11:55:46.026Z"
   },
   {
    "duration": 51,
    "start_time": "2023-01-11T11:55:46.036Z"
   },
   {
    "duration": 248,
    "start_time": "2023-01-11T11:55:46.088Z"
   },
   {
    "duration": 4,
    "start_time": "2023-01-11T11:55:46.337Z"
   },
   {
    "duration": 351,
    "start_time": "2023-01-11T11:55:46.343Z"
   },
   {
    "duration": 6,
    "start_time": "2023-01-11T11:55:46.696Z"
   },
   {
    "duration": 58,
    "start_time": "2023-01-11T11:55:46.703Z"
   },
   {
    "duration": 10,
    "start_time": "2023-01-11T11:55:46.763Z"
   },
   {
    "duration": 1900,
    "start_time": "2023-01-11T11:55:46.775Z"
   },
   {
    "duration": 5,
    "start_time": "2023-01-11T11:55:48.678Z"
   },
   {
    "duration": 36,
    "start_time": "2023-01-11T11:55:48.685Z"
   },
   {
    "duration": 210,
    "start_time": "2023-01-11T11:55:48.723Z"
   },
   {
    "duration": 6,
    "start_time": "2023-01-11T11:55:48.935Z"
   },
   {
    "duration": 214,
    "start_time": "2023-01-11T11:55:48.952Z"
   },
   {
    "duration": 5,
    "start_time": "2023-01-11T11:55:49.168Z"
   },
   {
    "duration": 43,
    "start_time": "2023-01-11T11:55:49.175Z"
   },
   {
    "duration": 24,
    "start_time": "2023-01-11T11:55:49.219Z"
   },
   {
    "duration": 228,
    "start_time": "2023-01-11T11:55:49.245Z"
   },
   {
    "duration": 5,
    "start_time": "2023-01-11T11:55:49.475Z"
   },
   {
    "duration": 247,
    "start_time": "2023-01-11T11:55:49.482Z"
   },
   {
    "duration": 14,
    "start_time": "2023-01-11T11:55:49.731Z"
   },
   {
    "duration": 29,
    "start_time": "2023-01-11T11:55:49.751Z"
   },
   {
    "duration": 56,
    "start_time": "2023-01-11T11:55:49.782Z"
   },
   {
    "duration": 35,
    "start_time": "2023-01-11T11:55:49.843Z"
   },
   {
    "duration": 77,
    "start_time": "2023-01-11T11:55:49.880Z"
   },
   {
    "duration": 53,
    "start_time": "2023-01-11T11:55:49.959Z"
   },
   {
    "duration": 46,
    "start_time": "2023-01-11T11:55:50.014Z"
   },
   {
    "duration": 39,
    "start_time": "2023-01-11T11:55:50.062Z"
   },
   {
    "duration": 41,
    "start_time": "2023-01-11T11:55:50.103Z"
   },
   {
    "duration": 33,
    "start_time": "2023-01-11T11:55:50.146Z"
   },
   {
    "duration": 59,
    "start_time": "2023-01-11T11:55:50.180Z"
   },
   {
    "duration": 32,
    "start_time": "2023-01-11T11:55:50.241Z"
   },
   {
    "duration": 51,
    "start_time": "2023-01-11T11:55:50.275Z"
   },
   {
    "duration": 48,
    "start_time": "2023-01-11T11:55:50.328Z"
   },
   {
    "duration": 5,
    "start_time": "2023-01-11T11:59:14.048Z"
   },
   {
    "duration": 15,
    "start_time": "2023-01-11T12:01:32.803Z"
   },
   {
    "duration": 39,
    "start_time": "2023-01-11T12:01:47.847Z"
   },
   {
    "duration": 16,
    "start_time": "2023-01-11T12:01:49.358Z"
   },
   {
    "duration": 22,
    "start_time": "2023-01-11T12:02:13.803Z"
   },
   {
    "duration": 29,
    "start_time": "2023-01-11T12:02:38.915Z"
   },
   {
    "duration": 15,
    "start_time": "2023-01-11T12:02:43.343Z"
   },
   {
    "duration": 4,
    "start_time": "2023-01-11T12:03:21.247Z"
   },
   {
    "duration": 4,
    "start_time": "2023-01-11T12:09:24.406Z"
   },
   {
    "duration": 8,
    "start_time": "2023-01-11T12:09:24.413Z"
   },
   {
    "duration": 7,
    "start_time": "2023-01-11T12:09:24.424Z"
   },
   {
    "duration": 246,
    "start_time": "2023-01-11T12:09:24.433Z"
   },
   {
    "duration": 138,
    "start_time": "2023-01-11T12:09:24.681Z"
   },
   {
    "duration": 189,
    "start_time": "2023-01-11T12:09:24.820Z"
   },
   {
    "duration": 72,
    "start_time": "2023-01-11T12:09:25.012Z"
   },
   {
    "duration": 27,
    "start_time": "2023-01-11T12:09:25.085Z"
   },
   {
    "duration": 4,
    "start_time": "2023-01-11T12:09:25.114Z"
   },
   {
    "duration": 6,
    "start_time": "2023-01-11T12:09:25.120Z"
   },
   {
    "duration": 25,
    "start_time": "2023-01-11T12:09:25.128Z"
   },
   {
    "duration": 11,
    "start_time": "2023-01-11T12:09:25.155Z"
   },
   {
    "duration": 173,
    "start_time": "2023-01-11T12:09:25.169Z"
   },
   {
    "duration": 15,
    "start_time": "2023-01-11T12:09:25.343Z"
   },
   {
    "duration": 64,
    "start_time": "2023-01-11T12:09:25.360Z"
   },
   {
    "duration": 3,
    "start_time": "2023-01-11T12:09:25.426Z"
   },
   {
    "duration": 204,
    "start_time": "2023-01-11T12:09:25.431Z"
   },
   {
    "duration": 20,
    "start_time": "2023-01-11T12:09:25.637Z"
   },
   {
    "duration": 152,
    "start_time": "2023-01-11T12:09:25.659Z"
   },
   {
    "duration": 17,
    "start_time": "2023-01-11T12:09:25.813Z"
   },
   {
    "duration": 22,
    "start_time": "2023-01-11T12:09:25.832Z"
   },
   {
    "duration": 156,
    "start_time": "2023-01-11T12:09:25.856Z"
   },
   {
    "duration": 11,
    "start_time": "2023-01-11T12:09:26.014Z"
   },
   {
    "duration": 15,
    "start_time": "2023-01-11T12:09:26.026Z"
   },
   {
    "duration": 9,
    "start_time": "2023-01-11T12:09:26.053Z"
   },
   {
    "duration": 5,
    "start_time": "2023-01-11T12:09:26.064Z"
   },
   {
    "duration": 16,
    "start_time": "2023-01-11T12:09:26.071Z"
   },
   {
    "duration": 12,
    "start_time": "2023-01-11T12:09:26.089Z"
   },
   {
    "duration": 12,
    "start_time": "2023-01-11T12:09:26.102Z"
   },
   {
    "duration": 5,
    "start_time": "2023-01-11T12:09:26.116Z"
   },
   {
    "duration": 147,
    "start_time": "2023-01-11T12:09:26.126Z"
   },
   {
    "duration": 184,
    "start_time": "2023-01-11T12:09:26.275Z"
   },
   {
    "duration": 5,
    "start_time": "2023-01-11T12:09:26.461Z"
   },
   {
    "duration": 39,
    "start_time": "2023-01-11T12:09:26.467Z"
   },
   {
    "duration": 195,
    "start_time": "2023-01-11T12:09:26.507Z"
   },
   {
    "duration": 4,
    "start_time": "2023-01-11T12:09:26.703Z"
   },
   {
    "duration": 19,
    "start_time": "2023-01-11T12:09:26.709Z"
   },
   {
    "duration": 53,
    "start_time": "2023-01-11T12:09:26.730Z"
   },
   {
    "duration": 50,
    "start_time": "2023-01-11T12:09:26.784Z"
   },
   {
    "duration": 25,
    "start_time": "2023-01-11T12:09:26.836Z"
   },
   {
    "duration": 55,
    "start_time": "2023-01-11T12:09:26.865Z"
   },
   {
    "duration": 211,
    "start_time": "2023-01-11T12:09:26.922Z"
   },
   {
    "duration": 18,
    "start_time": "2023-01-11T12:09:27.135Z"
   },
   {
    "duration": 2348,
    "start_time": "2023-01-11T12:09:27.155Z"
   },
   {
    "duration": 32,
    "start_time": "2023-01-11T12:09:29.505Z"
   },
   {
    "duration": 348,
    "start_time": "2023-01-11T12:09:29.539Z"
   },
   {
    "duration": 8,
    "start_time": "2023-01-11T12:09:29.888Z"
   },
   {
    "duration": 196,
    "start_time": "2023-01-11T12:09:29.898Z"
   },
   {
    "duration": 9,
    "start_time": "2023-01-11T12:09:30.096Z"
   },
   {
    "duration": 27,
    "start_time": "2023-01-11T12:09:30.106Z"
   },
   {
    "duration": 176,
    "start_time": "2023-01-11T12:09:30.135Z"
   },
   {
    "duration": 5,
    "start_time": "2023-01-11T12:09:30.313Z"
   },
   {
    "duration": 24,
    "start_time": "2023-01-11T12:09:30.320Z"
   },
   {
    "duration": 312,
    "start_time": "2023-01-11T12:09:30.346Z"
   },
   {
    "duration": 4,
    "start_time": "2023-01-11T12:09:30.660Z"
   },
   {
    "duration": 1104,
    "start_time": "2023-01-11T12:09:30.666Z"
   },
   {
    "duration": 5,
    "start_time": "2023-01-11T12:09:31.773Z"
   },
   {
    "duration": 76,
    "start_time": "2023-01-11T12:09:31.780Z"
   },
   {
    "duration": 16,
    "start_time": "2023-01-11T12:09:31.858Z"
   },
   {
    "duration": 59,
    "start_time": "2023-01-11T12:09:31.875Z"
   },
   {
    "duration": 247,
    "start_time": "2023-01-11T12:09:31.935Z"
   },
   {
    "duration": 4,
    "start_time": "2023-01-11T12:09:32.183Z"
   },
   {
    "duration": 326,
    "start_time": "2023-01-11T12:09:32.189Z"
   },
   {
    "duration": 5,
    "start_time": "2023-01-11T12:09:32.518Z"
   },
   {
    "duration": 49,
    "start_time": "2023-01-11T12:09:32.525Z"
   },
   {
    "duration": 11,
    "start_time": "2023-01-11T12:09:32.576Z"
   },
   {
    "duration": 1790,
    "start_time": "2023-01-11T12:09:32.589Z"
   },
   {
    "duration": 5,
    "start_time": "2023-01-11T12:09:34.381Z"
   },
   {
    "duration": 14,
    "start_time": "2023-01-11T12:09:34.388Z"
   },
   {
    "duration": 227,
    "start_time": "2023-01-11T12:09:34.404Z"
   },
   {
    "duration": 5,
    "start_time": "2023-01-11T12:09:34.633Z"
   },
   {
    "duration": 187,
    "start_time": "2023-01-11T12:09:34.640Z"
   },
   {
    "duration": 6,
    "start_time": "2023-01-11T12:09:34.829Z"
   },
   {
    "duration": 24,
    "start_time": "2023-01-11T12:09:34.839Z"
   },
   {
    "duration": 4,
    "start_time": "2023-01-11T12:09:34.865Z"
   },
   {
    "duration": 209,
    "start_time": "2023-01-11T12:09:34.871Z"
   },
   {
    "duration": 5,
    "start_time": "2023-01-11T12:09:35.082Z"
   },
   {
    "duration": 236,
    "start_time": "2023-01-11T12:09:35.089Z"
   },
   {
    "duration": 15,
    "start_time": "2023-01-11T12:09:35.327Z"
   },
   {
    "duration": 29,
    "start_time": "2023-01-11T12:09:35.344Z"
   },
   {
    "duration": 17,
    "start_time": "2023-01-11T12:09:35.375Z"
   },
   {
    "duration": 11,
    "start_time": "2023-01-11T12:09:35.394Z"
   },
   {
    "duration": 56,
    "start_time": "2023-01-11T12:09:35.407Z"
   },
   {
    "duration": 21,
    "start_time": "2023-01-11T12:09:35.465Z"
   },
   {
    "duration": 13,
    "start_time": "2023-01-11T12:09:35.491Z"
   },
   {
    "duration": 30,
    "start_time": "2023-01-11T12:09:35.506Z"
   },
   {
    "duration": 19,
    "start_time": "2023-01-11T12:09:35.538Z"
   },
   {
    "duration": 20,
    "start_time": "2023-01-11T12:09:35.559Z"
   },
   {
    "duration": 21,
    "start_time": "2023-01-11T12:09:35.582Z"
   },
   {
    "duration": 7,
    "start_time": "2023-01-11T12:09:35.605Z"
   },
   {
    "duration": 15,
    "start_time": "2023-01-11T12:09:35.613Z"
   },
   {
    "duration": 6,
    "start_time": "2023-01-11T12:09:37.938Z"
   },
   {
    "duration": 22,
    "start_time": "2023-01-11T14:16:35.771Z"
   },
   {
    "duration": 104,
    "start_time": "2023-01-11T14:17:58.065Z"
   },
   {
    "duration": 7,
    "start_time": "2023-01-11T14:18:38.083Z"
   },
   {
    "duration": 14,
    "start_time": "2023-01-11T14:18:40.494Z"
   },
   {
    "duration": 14,
    "start_time": "2023-01-11T14:18:49.737Z"
   },
   {
    "duration": 60,
    "start_time": "2023-01-11T14:18:49.752Z"
   },
   {
    "duration": 15,
    "start_time": "2023-01-11T14:18:49.814Z"
   },
   {
    "duration": 62,
    "start_time": "2023-01-11T14:18:49.831Z"
   },
   {
    "duration": 67,
    "start_time": "2023-01-11T14:18:49.894Z"
   },
   {
    "duration": 29,
    "start_time": "2023-01-11T14:18:49.963Z"
   },
   {
    "duration": 24,
    "start_time": "2023-01-11T14:18:49.994Z"
   },
   {
    "duration": 6,
    "start_time": "2023-01-11T14:19:54.543Z"
   },
   {
    "duration": 11,
    "start_time": "2023-01-11T14:31:03.106Z"
   },
   {
    "duration": 72,
    "start_time": "2023-01-11T14:31:04.994Z"
   },
   {
    "duration": 3,
    "start_time": "2023-01-11T14:31:05.582Z"
   },
   {
    "duration": 100,
    "start_time": "2023-01-11T14:31:14.486Z"
   },
   {
    "duration": 694,
    "start_time": "2023-01-11T14:32:08.979Z"
   },
   {
    "duration": 1762,
    "start_time": "2023-01-11T19:43:37.483Z"
   },
   {
    "duration": 3,
    "start_time": "2023-01-11T19:43:39.247Z"
   },
   {
    "duration": 9,
    "start_time": "2023-01-11T19:43:39.252Z"
   },
   {
    "duration": 449,
    "start_time": "2023-01-11T19:43:39.263Z"
   },
   {
    "duration": 136,
    "start_time": "2023-01-11T19:43:39.715Z"
   },
   {
    "duration": 135,
    "start_time": "2023-01-11T19:43:39.853Z"
   },
   {
    "duration": 104,
    "start_time": "2023-01-11T19:43:39.997Z"
   },
   {
    "duration": 49,
    "start_time": "2023-01-11T19:43:40.104Z"
   },
   {
    "duration": 6,
    "start_time": "2023-01-11T19:43:40.155Z"
   },
   {
    "duration": 8,
    "start_time": "2023-01-11T19:43:40.163Z"
   },
   {
    "duration": 29,
    "start_time": "2023-01-11T19:43:40.173Z"
   },
   {
    "duration": 5,
    "start_time": "2023-01-11T19:43:40.204Z"
   },
   {
    "duration": 238,
    "start_time": "2023-01-11T19:43:40.212Z"
   },
   {
    "duration": 9,
    "start_time": "2023-01-11T19:43:40.455Z"
   },
   {
    "duration": 63,
    "start_time": "2023-01-11T19:43:40.466Z"
   },
   {
    "duration": 3,
    "start_time": "2023-01-11T19:43:40.531Z"
   },
   {
    "duration": 213,
    "start_time": "2023-01-11T19:43:40.536Z"
   },
   {
    "duration": 11,
    "start_time": "2023-01-11T19:43:40.751Z"
   },
   {
    "duration": 172,
    "start_time": "2023-01-11T19:43:40.764Z"
   },
   {
    "duration": 21,
    "start_time": "2023-01-11T19:43:40.938Z"
   },
   {
    "duration": 11,
    "start_time": "2023-01-11T19:43:40.961Z"
   },
   {
    "duration": 266,
    "start_time": "2023-01-11T19:43:40.974Z"
   },
   {
    "duration": 12,
    "start_time": "2023-01-11T19:43:41.243Z"
   },
   {
    "duration": 12,
    "start_time": "2023-01-11T19:43:41.258Z"
   },
   {
    "duration": 33,
    "start_time": "2023-01-11T19:43:41.271Z"
   },
   {
    "duration": 6,
    "start_time": "2023-01-11T19:43:41.306Z"
   },
   {
    "duration": 18,
    "start_time": "2023-01-11T19:43:41.313Z"
   },
   {
    "duration": 5,
    "start_time": "2023-01-11T19:43:41.333Z"
   },
   {
    "duration": 10,
    "start_time": "2023-01-11T19:43:41.339Z"
   },
   {
    "duration": 9,
    "start_time": "2023-01-11T19:43:41.351Z"
   },
   {
    "duration": 21,
    "start_time": "2023-01-11T19:43:41.397Z"
   },
   {
    "duration": 215,
    "start_time": "2023-01-11T19:43:41.420Z"
   },
   {
    "duration": 5,
    "start_time": "2023-01-11T19:43:41.637Z"
   },
   {
    "duration": 7,
    "start_time": "2023-01-11T19:43:41.645Z"
   },
   {
    "duration": 293,
    "start_time": "2023-01-11T19:43:41.654Z"
   },
   {
    "duration": 5,
    "start_time": "2023-01-11T19:43:41.949Z"
   },
   {
    "duration": 19,
    "start_time": "2023-01-11T19:43:41.956Z"
   },
   {
    "duration": 22,
    "start_time": "2023-01-11T19:43:41.977Z"
   },
   {
    "duration": 45,
    "start_time": "2023-01-11T19:43:42.001Z"
   },
   {
    "duration": 12,
    "start_time": "2023-01-11T19:43:42.049Z"
   },
   {
    "duration": 58,
    "start_time": "2023-01-11T19:43:42.067Z"
   },
   {
    "duration": 219,
    "start_time": "2023-01-11T19:43:42.128Z"
   },
   {
    "duration": 13,
    "start_time": "2023-01-11T19:43:42.349Z"
   },
   {
    "duration": 2548,
    "start_time": "2023-01-11T19:43:42.364Z"
   },
   {
    "duration": 55,
    "start_time": "2023-01-11T19:43:44.914Z"
   },
   {
    "duration": 310,
    "start_time": "2023-01-11T19:43:44.971Z"
   },
   {
    "duration": 16,
    "start_time": "2023-01-11T19:43:45.283Z"
   },
   {
    "duration": 306,
    "start_time": "2023-01-11T19:43:45.302Z"
   },
   {
    "duration": 10,
    "start_time": "2023-01-11T19:43:45.610Z"
   },
   {
    "duration": 16,
    "start_time": "2023-01-11T19:43:45.622Z"
   },
   {
    "duration": 187,
    "start_time": "2023-01-11T19:43:45.640Z"
   },
   {
    "duration": 5,
    "start_time": "2023-01-11T19:43:45.830Z"
   },
   {
    "duration": 20,
    "start_time": "2023-01-11T19:43:45.837Z"
   },
   {
    "duration": 315,
    "start_time": "2023-01-11T19:43:45.859Z"
   },
   {
    "duration": 7,
    "start_time": "2023-01-11T19:43:46.176Z"
   },
   {
    "duration": 1409,
    "start_time": "2023-01-11T19:43:46.197Z"
   },
   {
    "duration": 6,
    "start_time": "2023-01-11T19:43:47.608Z"
   },
   {
    "duration": 20,
    "start_time": "2023-01-11T19:43:47.616Z"
   },
   {
    "duration": 13,
    "start_time": "2023-01-11T19:43:47.638Z"
   },
   {
    "duration": 66,
    "start_time": "2023-01-11T19:43:47.653Z"
   },
   {
    "duration": 276,
    "start_time": "2023-01-11T19:43:47.721Z"
   },
   {
    "duration": 4,
    "start_time": "2023-01-11T19:43:47.999Z"
   },
   {
    "duration": 336,
    "start_time": "2023-01-11T19:43:48.006Z"
   },
   {
    "duration": 6,
    "start_time": "2023-01-11T19:43:48.344Z"
   },
   {
    "duration": 21,
    "start_time": "2023-01-11T19:43:48.351Z"
   },
   {
    "duration": 22,
    "start_time": "2023-01-11T19:43:48.374Z"
   },
   {
    "duration": 2063,
    "start_time": "2023-01-11T19:43:48.398Z"
   },
   {
    "duration": 6,
    "start_time": "2023-01-11T19:43:50.462Z"
   },
   {
    "duration": 28,
    "start_time": "2023-01-11T19:43:50.470Z"
   },
   {
    "duration": 220,
    "start_time": "2023-01-11T19:43:50.500Z"
   },
   {
    "duration": 5,
    "start_time": "2023-01-11T19:43:50.722Z"
   },
   {
    "duration": 285,
    "start_time": "2023-01-11T19:43:50.729Z"
   },
   {
    "duration": 5,
    "start_time": "2023-01-11T19:43:51.017Z"
   },
   {
    "duration": 20,
    "start_time": "2023-01-11T19:43:51.024Z"
   },
   {
    "duration": 16,
    "start_time": "2023-01-11T19:43:51.046Z"
   },
   {
    "duration": 215,
    "start_time": "2023-01-11T19:43:51.064Z"
   },
   {
    "duration": 18,
    "start_time": "2023-01-11T19:43:51.281Z"
   },
   {
    "duration": 299,
    "start_time": "2023-01-11T19:43:51.300Z"
   },
   {
    "duration": 17,
    "start_time": "2023-01-11T19:43:51.601Z"
   },
   {
    "duration": 58,
    "start_time": "2023-01-11T19:43:51.620Z"
   },
   {
    "duration": 25,
    "start_time": "2023-01-11T19:43:51.680Z"
   },
   {
    "duration": 17,
    "start_time": "2023-01-11T19:43:51.707Z"
   },
   {
    "duration": 38,
    "start_time": "2023-01-11T19:43:51.726Z"
   },
   {
    "duration": 37,
    "start_time": "2023-01-11T19:43:51.767Z"
   },
   {
    "duration": 44,
    "start_time": "2023-01-11T19:43:51.806Z"
   },
   {
    "duration": 67,
    "start_time": "2023-01-11T19:43:51.852Z"
   },
   {
    "duration": 32,
    "start_time": "2023-01-11T19:43:51.921Z"
   },
   {
    "duration": 68,
    "start_time": "2023-01-11T19:43:51.955Z"
   },
   {
    "duration": 66,
    "start_time": "2023-01-11T19:43:52.025Z"
   },
   {
    "duration": 35,
    "start_time": "2023-01-11T19:43:52.093Z"
   },
   {
    "duration": 36,
    "start_time": "2023-01-11T19:43:52.130Z"
   },
   {
    "duration": 32,
    "start_time": "2023-01-11T19:43:52.168Z"
   },
   {
    "duration": 41,
    "start_time": "2023-01-11T19:43:52.202Z"
   },
   {
    "duration": 48,
    "start_time": "2023-01-11T19:43:52.245Z"
   },
   {
    "duration": 17,
    "start_time": "2023-01-11T19:44:08.078Z"
   },
   {
    "duration": 46,
    "start_time": "2023-01-11T19:44:09.481Z"
   },
   {
    "duration": 22,
    "start_time": "2023-01-11T19:44:09.998Z"
   },
   {
    "duration": 26,
    "start_time": "2023-01-11T19:44:10.350Z"
   },
   {
    "duration": 26,
    "start_time": "2023-01-11T19:44:10.758Z"
   },
   {
    "duration": 16,
    "start_time": "2023-01-11T19:44:11.596Z"
   },
   {
    "duration": 572,
    "start_time": "2023-01-11T19:44:12.587Z"
   },
   {
    "duration": 7,
    "start_time": "2023-01-11T19:44:48.748Z"
   },
   {
    "duration": 4,
    "start_time": "2023-01-11T19:49:45.242Z"
   },
   {
    "duration": 21,
    "start_time": "2023-01-11T19:49:46.749Z"
   },
   {
    "duration": 28,
    "start_time": "2023-01-11T19:49:51.955Z"
   },
   {
    "duration": 17,
    "start_time": "2023-01-11T19:49:53.770Z"
   },
   {
    "duration": 27,
    "start_time": "2023-01-11T19:49:55.400Z"
   },
   {
    "duration": 6,
    "start_time": "2023-01-11T19:49:58.260Z"
   },
   {
    "duration": 79,
    "start_time": "2023-01-11T19:50:40.779Z"
   },
   {
    "duration": 5,
    "start_time": "2023-01-11T19:50:47.553Z"
   },
   {
    "duration": 19,
    "start_time": "2023-01-11T19:50:53.084Z"
   },
   {
    "duration": 14,
    "start_time": "2023-01-11T19:51:08.756Z"
   },
   {
    "duration": 4,
    "start_time": "2023-01-11T19:51:17.461Z"
   },
   {
    "duration": 14,
    "start_time": "2023-01-11T19:51:17.468Z"
   },
   {
    "duration": 18,
    "start_time": "2023-01-11T19:51:17.485Z"
   },
   {
    "duration": 352,
    "start_time": "2023-01-11T19:51:17.505Z"
   },
   {
    "duration": 157,
    "start_time": "2023-01-11T19:51:17.859Z"
   },
   {
    "duration": 144,
    "start_time": "2023-01-11T19:51:18.018Z"
   },
   {
    "duration": 70,
    "start_time": "2023-01-11T19:51:18.164Z"
   },
   {
    "duration": 26,
    "start_time": "2023-01-11T19:51:18.236Z"
   },
   {
    "duration": 6,
    "start_time": "2023-01-11T19:51:18.264Z"
   },
   {
    "duration": 23,
    "start_time": "2023-01-11T19:51:18.276Z"
   },
   {
    "duration": 9,
    "start_time": "2023-01-11T19:51:18.303Z"
   },
   {
    "duration": 9,
    "start_time": "2023-01-11T19:51:18.314Z"
   },
   {
    "duration": 219,
    "start_time": "2023-01-11T19:51:18.325Z"
   },
   {
    "duration": 9,
    "start_time": "2023-01-11T19:51:18.546Z"
   },
   {
    "duration": 69,
    "start_time": "2023-01-11T19:51:18.557Z"
   },
   {
    "duration": 5,
    "start_time": "2023-01-11T19:51:18.628Z"
   },
   {
    "duration": 218,
    "start_time": "2023-01-11T19:51:18.635Z"
   },
   {
    "duration": 10,
    "start_time": "2023-01-11T19:51:18.854Z"
   },
   {
    "duration": 223,
    "start_time": "2023-01-11T19:51:18.866Z"
   },
   {
    "duration": 21,
    "start_time": "2023-01-11T19:51:19.091Z"
   },
   {
    "duration": 20,
    "start_time": "2023-01-11T19:51:19.114Z"
   },
   {
    "duration": 182,
    "start_time": "2023-01-11T19:51:19.138Z"
   },
   {
    "duration": 10,
    "start_time": "2023-01-11T19:51:19.322Z"
   },
   {
    "duration": 14,
    "start_time": "2023-01-11T19:51:19.335Z"
   },
   {
    "duration": 13,
    "start_time": "2023-01-11T19:51:19.351Z"
   },
   {
    "duration": 35,
    "start_time": "2023-01-11T19:51:19.366Z"
   },
   {
    "duration": 17,
    "start_time": "2023-01-11T19:51:19.404Z"
   },
   {
    "duration": 6,
    "start_time": "2023-01-11T19:51:19.423Z"
   },
   {
    "duration": 149,
    "start_time": "2023-01-11T19:51:19.435Z"
   },
   {
    "duration": 15,
    "start_time": "2023-01-11T19:51:19.586Z"
   },
   {
    "duration": 17,
    "start_time": "2023-01-11T19:51:19.603Z"
   },
   {
    "duration": 196,
    "start_time": "2023-01-11T19:51:19.622Z"
   },
   {
    "duration": 4,
    "start_time": "2023-01-11T19:51:19.820Z"
   },
   {
    "duration": 28,
    "start_time": "2023-01-11T19:51:19.825Z"
   },
   {
    "duration": 197,
    "start_time": "2023-01-11T19:51:19.856Z"
   },
   {
    "duration": 6,
    "start_time": "2023-01-11T19:51:20.055Z"
   },
   {
    "duration": 9,
    "start_time": "2023-01-11T19:51:20.063Z"
   },
   {
    "duration": 24,
    "start_time": "2023-01-11T19:51:20.074Z"
   },
   {
    "duration": 20,
    "start_time": "2023-01-11T19:51:20.101Z"
   },
   {
    "duration": 10,
    "start_time": "2023-01-11T19:51:20.124Z"
   },
   {
    "duration": 37,
    "start_time": "2023-01-11T19:51:20.136Z"
   },
   {
    "duration": 256,
    "start_time": "2023-01-11T19:51:20.175Z"
   },
   {
    "duration": 10,
    "start_time": "2023-01-11T19:51:20.433Z"
   },
   {
    "duration": 2657,
    "start_time": "2023-01-11T19:51:20.444Z"
   },
   {
    "duration": 33,
    "start_time": "2023-01-11T19:51:23.104Z"
   },
   {
    "duration": 380,
    "start_time": "2023-01-11T19:51:23.138Z"
   },
   {
    "duration": 9,
    "start_time": "2023-01-11T19:51:23.520Z"
   },
   {
    "duration": 204,
    "start_time": "2023-01-11T19:51:23.531Z"
   },
   {
    "duration": 10,
    "start_time": "2023-01-11T19:51:23.737Z"
   },
   {
    "duration": 14,
    "start_time": "2023-01-11T19:51:23.750Z"
   },
   {
    "duration": 252,
    "start_time": "2023-01-11T19:51:23.766Z"
   },
   {
    "duration": 11,
    "start_time": "2023-01-11T19:51:24.020Z"
   },
   {
    "duration": 6,
    "start_time": "2023-01-11T19:51:24.033Z"
   },
   {
    "duration": 308,
    "start_time": "2023-01-11T19:51:24.041Z"
   },
   {
    "duration": 6,
    "start_time": "2023-01-11T19:51:24.351Z"
   },
   {
    "duration": 1176,
    "start_time": "2023-01-11T19:51:24.358Z"
   },
   {
    "duration": 6,
    "start_time": "2023-01-11T19:51:25.536Z"
   },
   {
    "duration": 22,
    "start_time": "2023-01-11T19:51:25.544Z"
   },
   {
    "duration": 31,
    "start_time": "2023-01-11T19:51:25.568Z"
   },
   {
    "duration": 42,
    "start_time": "2023-01-11T19:51:25.602Z"
   },
   {
    "duration": 242,
    "start_time": "2023-01-11T19:51:25.645Z"
   },
   {
    "duration": 8,
    "start_time": "2023-01-11T19:51:25.889Z"
   },
   {
    "duration": 400,
    "start_time": "2023-01-11T19:51:25.900Z"
   },
   {
    "duration": 6,
    "start_time": "2023-01-11T19:51:26.303Z"
   },
   {
    "duration": 26,
    "start_time": "2023-01-11T19:51:26.313Z"
   },
   {
    "duration": 6,
    "start_time": "2023-01-11T19:51:26.341Z"
   },
   {
    "duration": 1901,
    "start_time": "2023-01-11T19:51:26.349Z"
   },
   {
    "duration": 6,
    "start_time": "2023-01-11T19:51:28.251Z"
   },
   {
    "duration": 16,
    "start_time": "2023-01-11T19:51:28.259Z"
   },
   {
    "duration": 234,
    "start_time": "2023-01-11T19:51:28.297Z"
   },
   {
    "duration": 7,
    "start_time": "2023-01-11T19:51:28.533Z"
   },
   {
    "duration": 226,
    "start_time": "2023-01-11T19:51:28.542Z"
   },
   {
    "duration": 6,
    "start_time": "2023-01-11T19:51:28.770Z"
   },
   {
    "duration": 15,
    "start_time": "2023-01-11T19:51:28.796Z"
   },
   {
    "duration": 6,
    "start_time": "2023-01-11T19:51:28.813Z"
   },
   {
    "duration": 233,
    "start_time": "2023-01-11T19:51:28.821Z"
   },
   {
    "duration": 4,
    "start_time": "2023-01-11T19:51:29.056Z"
   },
   {
    "duration": 238,
    "start_time": "2023-01-11T19:51:29.062Z"
   },
   {
    "duration": 17,
    "start_time": "2023-01-11T19:51:29.301Z"
   },
   {
    "duration": 37,
    "start_time": "2023-01-11T19:51:29.321Z"
   },
   {
    "duration": 38,
    "start_time": "2023-01-11T19:51:29.360Z"
   },
   {
    "duration": 14,
    "start_time": "2023-01-11T19:51:29.401Z"
   },
   {
    "duration": 43,
    "start_time": "2023-01-11T19:51:29.423Z"
   },
   {
    "duration": 35,
    "start_time": "2023-01-11T19:51:29.468Z"
   },
   {
    "duration": 27,
    "start_time": "2023-01-11T19:51:29.504Z"
   },
   {
    "duration": 18,
    "start_time": "2023-01-11T19:51:29.534Z"
   },
   {
    "duration": 15,
    "start_time": "2023-01-11T19:51:29.554Z"
   },
   {
    "duration": 29,
    "start_time": "2023-01-11T19:51:29.572Z"
   },
   {
    "duration": 12,
    "start_time": "2023-01-11T19:51:29.603Z"
   },
   {
    "duration": 9,
    "start_time": "2023-01-11T19:51:29.616Z"
   },
   {
    "duration": 10,
    "start_time": "2023-01-11T19:51:29.627Z"
   },
   {
    "duration": 12,
    "start_time": "2023-01-11T19:51:29.638Z"
   },
   {
    "duration": 44,
    "start_time": "2023-01-11T19:51:29.653Z"
   },
   {
    "duration": 8,
    "start_time": "2023-01-11T19:51:29.699Z"
   },
   {
    "duration": 4,
    "start_time": "2023-01-11T19:51:29.710Z"
   },
   {
    "duration": 25,
    "start_time": "2023-01-11T19:51:29.716Z"
   },
   {
    "duration": 75,
    "start_time": "2023-01-11T19:51:29.743Z"
   },
   {
    "duration": 30,
    "start_time": "2023-01-11T19:51:29.820Z"
   },
   {
    "duration": 44,
    "start_time": "2023-01-11T19:51:29.852Z"
   },
   {
    "duration": 35,
    "start_time": "2023-01-11T19:51:29.898Z"
   },
   {
    "duration": 29,
    "start_time": "2023-01-11T19:51:29.935Z"
   },
   {
    "duration": 31,
    "start_time": "2023-01-11T19:51:29.966Z"
   },
   {
    "duration": 1557,
    "start_time": "2023-01-11T19:53:51.733Z"
   },
   {
    "duration": 2,
    "start_time": "2023-01-11T19:53:53.294Z"
   },
   {
    "duration": 12,
    "start_time": "2023-01-11T19:53:53.298Z"
   },
   {
    "duration": 250,
    "start_time": "2023-01-11T19:53:53.312Z"
   },
   {
    "duration": 153,
    "start_time": "2023-01-11T19:53:53.564Z"
   },
   {
    "duration": 122,
    "start_time": "2023-01-11T19:53:53.719Z"
   },
   {
    "duration": 74,
    "start_time": "2023-01-11T19:53:53.843Z"
   },
   {
    "duration": 48,
    "start_time": "2023-01-11T19:53:53.920Z"
   },
   {
    "duration": 6,
    "start_time": "2023-01-11T19:53:53.970Z"
   },
   {
    "duration": 21,
    "start_time": "2023-01-11T19:53:53.979Z"
   },
   {
    "duration": 15,
    "start_time": "2023-01-11T19:53:54.002Z"
   },
   {
    "duration": 16,
    "start_time": "2023-01-11T19:53:54.019Z"
   },
   {
    "duration": 262,
    "start_time": "2023-01-11T19:53:54.037Z"
   },
   {
    "duration": 8,
    "start_time": "2023-01-11T19:53:54.301Z"
   },
   {
    "duration": 86,
    "start_time": "2023-01-11T19:53:54.311Z"
   },
   {
    "duration": 5,
    "start_time": "2023-01-11T19:53:54.399Z"
   },
   {
    "duration": 238,
    "start_time": "2023-01-11T19:53:54.406Z"
   },
   {
    "duration": 13,
    "start_time": "2023-01-11T19:53:54.646Z"
   },
   {
    "duration": 182,
    "start_time": "2023-01-11T19:53:54.663Z"
   },
   {
    "duration": 18,
    "start_time": "2023-01-11T19:53:54.847Z"
   },
   {
    "duration": 10,
    "start_time": "2023-01-11T19:53:54.867Z"
   },
   {
    "duration": 175,
    "start_time": "2023-01-11T19:53:54.897Z"
   },
   {
    "duration": 11,
    "start_time": "2023-01-11T19:53:55.073Z"
   },
   {
    "duration": 20,
    "start_time": "2023-01-11T19:53:55.086Z"
   },
   {
    "duration": 17,
    "start_time": "2023-01-11T19:53:55.108Z"
   },
   {
    "duration": 21,
    "start_time": "2023-01-11T19:53:55.127Z"
   },
   {
    "duration": 22,
    "start_time": "2023-01-11T19:53:55.150Z"
   },
   {
    "duration": 5,
    "start_time": "2023-01-11T19:53:55.177Z"
   },
   {
    "duration": 15,
    "start_time": "2023-01-11T19:53:55.184Z"
   },
   {
    "duration": 7,
    "start_time": "2023-01-11T19:53:55.201Z"
   },
   {
    "duration": 23,
    "start_time": "2023-01-11T19:53:55.210Z"
   },
   {
    "duration": 245,
    "start_time": "2023-01-11T19:53:55.235Z"
   },
   {
    "duration": 4,
    "start_time": "2023-01-11T19:53:55.482Z"
   },
   {
    "duration": 10,
    "start_time": "2023-01-11T19:53:55.496Z"
   },
   {
    "duration": 346,
    "start_time": "2023-01-11T19:53:55.508Z"
   },
   {
    "duration": 4,
    "start_time": "2023-01-11T19:53:55.856Z"
   },
   {
    "duration": 8,
    "start_time": "2023-01-11T19:53:55.862Z"
   },
   {
    "duration": 26,
    "start_time": "2023-01-11T19:53:55.873Z"
   },
   {
    "duration": 21,
    "start_time": "2023-01-11T19:53:55.901Z"
   },
   {
    "duration": 17,
    "start_time": "2023-01-11T19:53:55.924Z"
   },
   {
    "duration": 59,
    "start_time": "2023-01-11T19:53:55.943Z"
   },
   {
    "duration": 269,
    "start_time": "2023-01-11T19:53:56.004Z"
   },
   {
    "duration": 25,
    "start_time": "2023-01-11T19:53:56.275Z"
   },
   {
    "duration": 2716,
    "start_time": "2023-01-11T19:53:56.302Z"
   },
   {
    "duration": 33,
    "start_time": "2023-01-11T19:53:59.021Z"
   },
   {
    "duration": 272,
    "start_time": "2023-01-11T19:53:59.057Z"
   },
   {
    "duration": 8,
    "start_time": "2023-01-11T19:53:59.331Z"
   },
   {
    "duration": 346,
    "start_time": "2023-01-11T19:53:59.342Z"
   },
   {
    "duration": 16,
    "start_time": "2023-01-11T19:53:59.690Z"
   },
   {
    "duration": 10,
    "start_time": "2023-01-11T19:53:59.708Z"
   },
   {
    "duration": 225,
    "start_time": "2023-01-11T19:53:59.720Z"
   },
   {
    "duration": 6,
    "start_time": "2023-01-11T19:53:59.947Z"
   },
   {
    "duration": 18,
    "start_time": "2023-01-11T19:53:59.955Z"
   },
   {
    "duration": 316,
    "start_time": "2023-01-11T19:53:59.975Z"
   },
   {
    "duration": 7,
    "start_time": "2023-01-11T19:54:00.293Z"
   },
   {
    "duration": 1304,
    "start_time": "2023-01-11T19:54:00.303Z"
   },
   {
    "duration": 7,
    "start_time": "2023-01-11T19:54:01.609Z"
   },
   {
    "duration": 41,
    "start_time": "2023-01-11T19:54:01.617Z"
   },
   {
    "duration": 49,
    "start_time": "2023-01-11T19:54:01.660Z"
   },
   {
    "duration": 115,
    "start_time": "2023-01-11T19:54:01.711Z"
   },
   {
    "duration": 476,
    "start_time": "2023-01-11T19:54:01.830Z"
   },
   {
    "duration": 5,
    "start_time": "2023-01-11T19:54:02.308Z"
   },
   {
    "duration": 338,
    "start_time": "2023-01-11T19:54:02.315Z"
   },
   {
    "duration": 5,
    "start_time": "2023-01-11T19:54:02.655Z"
   },
   {
    "duration": 46,
    "start_time": "2023-01-11T19:54:02.662Z"
   },
   {
    "duration": 20,
    "start_time": "2023-01-11T19:54:02.710Z"
   },
   {
    "duration": 1895,
    "start_time": "2023-01-11T19:54:02.732Z"
   },
   {
    "duration": 7,
    "start_time": "2023-01-11T19:54:04.629Z"
   },
   {
    "duration": 18,
    "start_time": "2023-01-11T19:54:04.638Z"
   },
   {
    "duration": 244,
    "start_time": "2023-01-11T19:54:04.659Z"
   },
   {
    "duration": 6,
    "start_time": "2023-01-11T19:54:04.906Z"
   },
   {
    "duration": 224,
    "start_time": "2023-01-11T19:54:04.914Z"
   },
   {
    "duration": 5,
    "start_time": "2023-01-11T19:54:05.140Z"
   },
   {
    "duration": 23,
    "start_time": "2023-01-11T19:54:05.147Z"
   },
   {
    "duration": 49,
    "start_time": "2023-01-11T19:54:05.172Z"
   },
   {
    "duration": 255,
    "start_time": "2023-01-11T19:54:05.222Z"
   },
   {
    "duration": 5,
    "start_time": "2023-01-11T19:54:05.479Z"
   },
   {
    "duration": 278,
    "start_time": "2023-01-11T19:54:05.497Z"
   },
   {
    "duration": 23,
    "start_time": "2023-01-11T19:54:05.778Z"
   },
   {
    "duration": 41,
    "start_time": "2023-01-11T19:54:05.804Z"
   },
   {
    "duration": 27,
    "start_time": "2023-01-11T19:54:05.847Z"
   },
   {
    "duration": 71,
    "start_time": "2023-01-11T19:54:05.891Z"
   },
   {
    "duration": 125,
    "start_time": "2023-01-11T19:54:05.965Z"
   },
   {
    "duration": 72,
    "start_time": "2023-01-11T19:54:06.093Z"
   },
   {
    "duration": 46,
    "start_time": "2023-01-11T19:54:06.170Z"
   },
   {
    "duration": 93,
    "start_time": "2023-01-11T19:54:06.218Z"
   },
   {
    "duration": 42,
    "start_time": "2023-01-11T19:54:06.314Z"
   },
   {
    "duration": 49,
    "start_time": "2023-01-11T19:54:06.358Z"
   },
   {
    "duration": 83,
    "start_time": "2023-01-11T19:54:06.410Z"
   },
   {
    "duration": 57,
    "start_time": "2023-01-11T19:54:06.496Z"
   },
   {
    "duration": 27,
    "start_time": "2023-01-11T19:54:06.555Z"
   },
   {
    "duration": 27,
    "start_time": "2023-01-11T19:54:06.584Z"
   },
   {
    "duration": 62,
    "start_time": "2023-01-11T19:54:06.613Z"
   },
   {
    "duration": 27,
    "start_time": "2023-01-11T19:54:06.677Z"
   },
   {
    "duration": 22,
    "start_time": "2023-01-11T19:54:06.706Z"
   },
   {
    "duration": 29,
    "start_time": "2023-01-11T19:54:06.730Z"
   },
   {
    "duration": 79,
    "start_time": "2023-01-11T19:54:06.761Z"
   },
   {
    "duration": 30,
    "start_time": "2023-01-11T19:54:06.843Z"
   },
   {
    "duration": 38,
    "start_time": "2023-01-11T19:54:06.875Z"
   },
   {
    "duration": 39,
    "start_time": "2023-01-11T19:54:06.915Z"
   },
   {
    "duration": 42,
    "start_time": "2023-01-11T19:54:06.956Z"
   },
   {
    "duration": 6,
    "start_time": "2023-01-11T19:54:07.000Z"
   },
   {
    "duration": 12,
    "start_time": "2023-01-11T19:54:07.010Z"
   },
   {
    "duration": 30,
    "start_time": "2023-01-11T19:54:23.198Z"
   },
   {
    "duration": 6,
    "start_time": "2023-01-11T19:54:49.141Z"
   },
   {
    "duration": 19,
    "start_time": "2023-01-11T19:54:51.779Z"
   },
   {
    "duration": 5,
    "start_time": "2023-01-11T19:54:53.819Z"
   },
   {
    "duration": 106,
    "start_time": "2023-01-11T19:54:57.788Z"
   },
   {
    "duration": 1514,
    "start_time": "2023-01-12T09:13:34.531Z"
   },
   {
    "duration": 4,
    "start_time": "2023-01-12T09:13:36.047Z"
   },
   {
    "duration": 41,
    "start_time": "2023-01-12T09:13:36.060Z"
   },
   {
    "duration": 20,
    "start_time": "2023-01-12T09:13:36.104Z"
   },
   {
    "duration": 344,
    "start_time": "2023-01-12T09:13:36.127Z"
   },
   {
    "duration": 145,
    "start_time": "2023-01-12T09:13:36.473Z"
   },
   {
    "duration": 118,
    "start_time": "2023-01-12T09:13:36.620Z"
   },
   {
    "duration": 73,
    "start_time": "2023-01-12T09:13:36.740Z"
   },
   {
    "duration": 123,
    "start_time": "2023-01-12T09:13:36.815Z"
   },
   {
    "duration": 5,
    "start_time": "2023-01-12T09:13:36.940Z"
   },
   {
    "duration": 40,
    "start_time": "2023-01-12T09:13:36.947Z"
   },
   {
    "duration": 19,
    "start_time": "2023-01-12T09:13:36.990Z"
   },
   {
    "duration": 16,
    "start_time": "2023-01-12T09:13:37.011Z"
   },
   {
    "duration": 192,
    "start_time": "2023-01-12T09:13:37.029Z"
   },
   {
    "duration": 8,
    "start_time": "2023-01-12T09:13:37.223Z"
   },
   {
    "duration": 64,
    "start_time": "2023-01-12T09:13:37.233Z"
   },
   {
    "duration": 3,
    "start_time": "2023-01-12T09:13:37.299Z"
   },
   {
    "duration": 216,
    "start_time": "2023-01-12T09:13:37.303Z"
   },
   {
    "duration": 10,
    "start_time": "2023-01-12T09:13:37.520Z"
   },
   {
    "duration": 195,
    "start_time": "2023-01-12T09:13:37.531Z"
   },
   {
    "duration": 20,
    "start_time": "2023-01-12T09:13:37.728Z"
   },
   {
    "duration": 17,
    "start_time": "2023-01-12T09:13:37.750Z"
   },
   {
    "duration": 176,
    "start_time": "2023-01-12T09:13:37.770Z"
   },
   {
    "duration": 11,
    "start_time": "2023-01-12T09:13:37.948Z"
   },
   {
    "duration": 23,
    "start_time": "2023-01-12T09:13:37.960Z"
   },
   {
    "duration": 10,
    "start_time": "2023-01-12T09:13:37.997Z"
   },
   {
    "duration": 17,
    "start_time": "2023-01-12T09:13:38.009Z"
   },
   {
    "duration": 38,
    "start_time": "2023-01-12T09:13:38.031Z"
   },
   {
    "duration": 13,
    "start_time": "2023-01-12T09:13:38.070Z"
   },
   {
    "duration": 13,
    "start_time": "2023-01-12T09:13:38.084Z"
   },
   {
    "duration": 9,
    "start_time": "2023-01-12T09:13:38.099Z"
   },
   {
    "duration": 26,
    "start_time": "2023-01-12T09:13:38.109Z"
   },
   {
    "duration": 192,
    "start_time": "2023-01-12T09:13:38.136Z"
   },
   {
    "duration": 5,
    "start_time": "2023-01-12T09:13:38.329Z"
   },
   {
    "duration": 16,
    "start_time": "2023-01-12T09:13:38.335Z"
   },
   {
    "duration": 278,
    "start_time": "2023-01-12T09:13:38.353Z"
   },
   {
    "duration": 4,
    "start_time": "2023-01-12T09:13:38.632Z"
   },
   {
    "duration": 17,
    "start_time": "2023-01-12T09:13:38.638Z"
   },
   {
    "duration": 8,
    "start_time": "2023-01-12T09:13:38.657Z"
   },
   {
    "duration": 32,
    "start_time": "2023-01-12T09:13:38.667Z"
   },
   {
    "duration": 10,
    "start_time": "2023-01-12T09:13:38.701Z"
   },
   {
    "duration": 36,
    "start_time": "2023-01-12T09:13:38.712Z"
   },
   {
    "duration": 200,
    "start_time": "2023-01-12T09:13:38.750Z"
   },
   {
    "duration": 10,
    "start_time": "2023-01-12T09:13:38.951Z"
   },
   {
    "duration": 2571,
    "start_time": "2023-01-12T09:13:38.963Z"
   },
   {
    "duration": 31,
    "start_time": "2023-01-12T09:13:41.536Z"
   },
   {
    "duration": 273,
    "start_time": "2023-01-12T09:13:41.569Z"
   },
   {
    "duration": 12,
    "start_time": "2023-01-12T09:13:41.845Z"
   },
   {
    "duration": 351,
    "start_time": "2023-01-12T09:13:41.859Z"
   },
   {
    "duration": 10,
    "start_time": "2023-01-12T09:13:42.213Z"
   },
   {
    "duration": 24,
    "start_time": "2023-01-12T09:13:42.225Z"
   },
   {
    "duration": 199,
    "start_time": "2023-01-12T09:13:42.251Z"
   },
   {
    "duration": 5,
    "start_time": "2023-01-12T09:13:42.452Z"
   },
   {
    "duration": 7,
    "start_time": "2023-01-12T09:13:42.459Z"
   },
   {
    "duration": 310,
    "start_time": "2023-01-12T09:13:42.468Z"
   },
   {
    "duration": 16,
    "start_time": "2023-01-12T09:13:42.780Z"
   },
   {
    "duration": 1147,
    "start_time": "2023-01-12T09:13:42.798Z"
   },
   {
    "duration": 6,
    "start_time": "2023-01-12T09:13:43.948Z"
   },
   {
    "duration": 50,
    "start_time": "2023-01-12T09:13:43.957Z"
   },
   {
    "duration": 12,
    "start_time": "2023-01-12T09:13:44.008Z"
   },
   {
    "duration": 44,
    "start_time": "2023-01-12T09:13:44.023Z"
   },
   {
    "duration": 242,
    "start_time": "2023-01-12T09:13:44.069Z"
   },
   {
    "duration": 4,
    "start_time": "2023-01-12T09:13:44.313Z"
   },
   {
    "duration": 299,
    "start_time": "2023-01-12T09:13:44.318Z"
   },
   {
    "duration": 5,
    "start_time": "2023-01-12T09:13:44.619Z"
   },
   {
    "duration": 14,
    "start_time": "2023-01-12T09:13:44.625Z"
   },
   {
    "duration": 4,
    "start_time": "2023-01-12T09:13:44.642Z"
   },
   {
    "duration": 2044,
    "start_time": "2023-01-12T09:13:44.649Z"
   },
   {
    "duration": 5,
    "start_time": "2023-01-12T09:13:46.696Z"
   },
   {
    "duration": 14,
    "start_time": "2023-01-12T09:13:46.703Z"
   },
   {
    "duration": 235,
    "start_time": "2023-01-12T09:13:46.719Z"
   },
   {
    "duration": 5,
    "start_time": "2023-01-12T09:13:46.956Z"
   },
   {
    "duration": 205,
    "start_time": "2023-01-12T09:13:46.963Z"
   },
   {
    "duration": 5,
    "start_time": "2023-01-12T09:13:47.169Z"
   },
   {
    "duration": 32,
    "start_time": "2023-01-12T09:13:47.176Z"
   },
   {
    "duration": 5,
    "start_time": "2023-01-12T09:13:47.209Z"
   },
   {
    "duration": 208,
    "start_time": "2023-01-12T09:13:47.216Z"
   },
   {
    "duration": 5,
    "start_time": "2023-01-12T09:13:47.426Z"
   },
   {
    "duration": 239,
    "start_time": "2023-01-12T09:13:47.433Z"
   },
   {
    "duration": 31,
    "start_time": "2023-01-12T09:13:47.675Z"
   },
   {
    "duration": 41,
    "start_time": "2023-01-12T09:13:47.708Z"
   },
   {
    "duration": 43,
    "start_time": "2023-01-12T09:13:47.757Z"
   },
   {
    "duration": 16,
    "start_time": "2023-01-12T09:13:47.802Z"
   },
   {
    "duration": 40,
    "start_time": "2023-01-12T09:13:47.820Z"
   },
   {
    "duration": 34,
    "start_time": "2023-01-12T09:13:47.862Z"
   },
   {
    "duration": 17,
    "start_time": "2023-01-12T09:13:47.898Z"
   },
   {
    "duration": 31,
    "start_time": "2023-01-12T09:13:47.917Z"
   },
   {
    "duration": 26,
    "start_time": "2023-01-12T09:13:47.950Z"
   },
   {
    "duration": 19,
    "start_time": "2023-01-12T09:13:47.979Z"
   },
   {
    "duration": 5,
    "start_time": "2023-01-12T09:13:48.001Z"
   },
   {
    "duration": 8,
    "start_time": "2023-01-12T09:13:48.008Z"
   },
   {
    "duration": 4,
    "start_time": "2023-01-12T09:13:48.018Z"
   },
   {
    "duration": 13,
    "start_time": "2023-01-12T09:13:48.024Z"
   },
   {
    "duration": 17,
    "start_time": "2023-01-12T09:13:48.039Z"
   },
   {
    "duration": 6,
    "start_time": "2023-01-12T09:13:48.097Z"
   },
   {
    "duration": 100,
    "start_time": "2023-01-12T09:14:15.132Z"
   },
   {
    "duration": 43,
    "start_time": "2023-01-12T09:15:23.490Z"
   },
   {
    "duration": 5,
    "start_time": "2023-01-12T09:17:51.954Z"
   },
   {
    "duration": 6,
    "start_time": "2023-01-12T09:24:13.468Z"
   },
   {
    "duration": 55,
    "start_time": "2023-01-12T09:24:23.501Z"
   },
   {
    "duration": 346,
    "start_time": "2023-01-12T09:25:14.629Z"
   },
   {
    "duration": 17,
    "start_time": "2023-01-12T09:25:18.993Z"
   },
   {
    "duration": 4,
    "start_time": "2023-01-12T09:25:26.597Z"
   },
   {
    "duration": 4,
    "start_time": "2023-01-12T14:57:37.045Z"
   },
   {
    "duration": 18,
    "start_time": "2023-01-12T15:01:08.566Z"
   },
   {
    "duration": 4,
    "start_time": "2023-01-12T15:01:11.990Z"
   },
   {
    "duration": 62,
    "start_time": "2023-01-12T18:08:28.675Z"
   },
   {
    "duration": 1433,
    "start_time": "2023-01-12T18:19:18.480Z"
   },
   {
    "duration": 4,
    "start_time": "2023-01-12T18:19:19.915Z"
   },
   {
    "duration": 19,
    "start_time": "2023-01-12T18:19:19.920Z"
   },
   {
    "duration": 11,
    "start_time": "2023-01-12T18:19:19.941Z"
   },
   {
    "duration": 282,
    "start_time": "2023-01-12T18:19:19.957Z"
   },
   {
    "duration": 142,
    "start_time": "2023-01-12T18:19:20.241Z"
   },
   {
    "duration": 115,
    "start_time": "2023-01-12T18:19:20.385Z"
   },
   {
    "duration": 57,
    "start_time": "2023-01-12T18:19:20.502Z"
   },
   {
    "duration": 60,
    "start_time": "2023-01-12T18:19:20.561Z"
   },
   {
    "duration": 4,
    "start_time": "2023-01-12T18:19:20.624Z"
   },
   {
    "duration": 11,
    "start_time": "2023-01-12T18:19:20.630Z"
   },
   {
    "duration": 9,
    "start_time": "2023-01-12T18:19:20.642Z"
   },
   {
    "duration": 11,
    "start_time": "2023-01-12T18:19:20.653Z"
   },
   {
    "duration": 204,
    "start_time": "2023-01-12T18:19:20.666Z"
   },
   {
    "duration": 8,
    "start_time": "2023-01-12T18:19:20.872Z"
   },
   {
    "duration": 61,
    "start_time": "2023-01-12T18:19:20.882Z"
   },
   {
    "duration": 5,
    "start_time": "2023-01-12T18:19:20.944Z"
   },
   {
    "duration": 211,
    "start_time": "2023-01-12T18:19:20.951Z"
   },
   {
    "duration": 9,
    "start_time": "2023-01-12T18:19:21.164Z"
   },
   {
    "duration": 171,
    "start_time": "2023-01-12T18:19:21.174Z"
   },
   {
    "duration": 18,
    "start_time": "2023-01-12T18:19:21.346Z"
   },
   {
    "duration": 11,
    "start_time": "2023-01-12T18:19:21.365Z"
   },
   {
    "duration": 161,
    "start_time": "2023-01-12T18:19:21.396Z"
   },
   {
    "duration": 9,
    "start_time": "2023-01-12T18:19:21.558Z"
   },
   {
    "duration": 10,
    "start_time": "2023-01-12T18:19:21.569Z"
   },
   {
    "duration": 23,
    "start_time": "2023-01-12T18:19:21.580Z"
   },
   {
    "duration": 5,
    "start_time": "2023-01-12T18:19:21.604Z"
   },
   {
    "duration": 102,
    "start_time": "2023-01-12T18:19:21.613Z"
   },
   {
    "duration": 8,
    "start_time": "2023-01-12T18:19:21.717Z"
   },
   {
    "duration": 6,
    "start_time": "2023-01-12T18:19:21.726Z"
   },
   {
    "duration": 5,
    "start_time": "2023-01-12T18:19:21.733Z"
   },
   {
    "duration": 16,
    "start_time": "2023-01-12T18:19:21.739Z"
   },
   {
    "duration": 207,
    "start_time": "2023-01-12T18:19:21.757Z"
   },
   {
    "duration": 4,
    "start_time": "2023-01-12T18:19:21.965Z"
   },
   {
    "duration": 7,
    "start_time": "2023-01-12T18:19:21.971Z"
   },
   {
    "duration": 192,
    "start_time": "2023-01-12T18:19:21.980Z"
   },
   {
    "duration": 4,
    "start_time": "2023-01-12T18:19:22.173Z"
   },
   {
    "duration": 18,
    "start_time": "2023-01-12T18:19:22.179Z"
   },
   {
    "duration": 15,
    "start_time": "2023-01-12T18:19:22.199Z"
   },
   {
    "duration": 17,
    "start_time": "2023-01-12T18:19:22.216Z"
   },
   {
    "duration": 8,
    "start_time": "2023-01-12T18:19:22.235Z"
   },
   {
    "duration": 54,
    "start_time": "2023-01-12T18:19:22.245Z"
   },
   {
    "duration": 179,
    "start_time": "2023-01-12T18:19:22.301Z"
   },
   {
    "duration": 16,
    "start_time": "2023-01-12T18:19:22.481Z"
   },
   {
    "duration": 2372,
    "start_time": "2023-01-12T18:19:22.499Z"
   },
   {
    "duration": 39,
    "start_time": "2023-01-12T18:19:24.873Z"
   },
   {
    "duration": 373,
    "start_time": "2023-01-12T18:19:24.913Z"
   },
   {
    "duration": 10,
    "start_time": "2023-01-12T18:19:25.289Z"
   },
   {
    "duration": 197,
    "start_time": "2023-01-12T18:19:25.301Z"
   },
   {
    "duration": 9,
    "start_time": "2023-01-12T18:19:25.499Z"
   },
   {
    "duration": 18,
    "start_time": "2023-01-12T18:19:25.510Z"
   },
   {
    "duration": 177,
    "start_time": "2023-01-12T18:19:25.530Z"
   },
   {
    "duration": 4,
    "start_time": "2023-01-12T18:19:25.709Z"
   },
   {
    "duration": 7,
    "start_time": "2023-01-12T18:19:25.715Z"
   },
   {
    "duration": 291,
    "start_time": "2023-01-12T18:19:25.723Z"
   },
   {
    "duration": 5,
    "start_time": "2023-01-12T18:19:26.015Z"
   },
   {
    "duration": 1157,
    "start_time": "2023-01-12T18:19:26.022Z"
   },
   {
    "duration": 5,
    "start_time": "2023-01-12T18:19:27.180Z"
   },
   {
    "duration": 17,
    "start_time": "2023-01-12T18:19:27.197Z"
   },
   {
    "duration": 11,
    "start_time": "2023-01-12T18:19:27.215Z"
   },
   {
    "duration": 26,
    "start_time": "2023-01-12T18:19:27.227Z"
   },
   {
    "duration": 204,
    "start_time": "2023-01-12T18:19:27.255Z"
   },
   {
    "duration": 3,
    "start_time": "2023-01-12T18:19:27.461Z"
   },
   {
    "duration": 272,
    "start_time": "2023-01-12T18:19:27.466Z"
   },
   {
    "duration": 5,
    "start_time": "2023-01-12T18:19:27.739Z"
   },
   {
    "duration": 35,
    "start_time": "2023-01-12T18:19:27.745Z"
   },
   {
    "duration": 7,
    "start_time": "2023-01-12T18:19:27.782Z"
   },
   {
    "duration": 1765,
    "start_time": "2023-01-12T18:19:27.790Z"
   },
   {
    "duration": 5,
    "start_time": "2023-01-12T18:19:29.557Z"
   },
   {
    "duration": 16,
    "start_time": "2023-01-12T18:19:29.564Z"
   },
   {
    "duration": 208,
    "start_time": "2023-01-12T18:19:29.597Z"
   },
   {
    "duration": 6,
    "start_time": "2023-01-12T18:19:29.807Z"
   },
   {
    "duration": 223,
    "start_time": "2023-01-12T18:19:29.816Z"
   },
   {
    "duration": 6,
    "start_time": "2023-01-12T18:19:30.042Z"
   },
   {
    "duration": 16,
    "start_time": "2023-01-12T18:19:30.050Z"
   },
   {
    "duration": 30,
    "start_time": "2023-01-12T18:19:30.068Z"
   },
   {
    "duration": 215,
    "start_time": "2023-01-12T18:19:30.100Z"
   },
   {
    "duration": 5,
    "start_time": "2023-01-12T18:19:30.317Z"
   },
   {
    "duration": 253,
    "start_time": "2023-01-12T18:19:30.324Z"
   },
   {
    "duration": 24,
    "start_time": "2023-01-12T18:19:30.580Z"
   },
   {
    "duration": 34,
    "start_time": "2023-01-12T18:19:30.606Z"
   },
   {
    "duration": 42,
    "start_time": "2023-01-12T18:19:30.648Z"
   },
   {
    "duration": 29,
    "start_time": "2023-01-12T18:19:30.693Z"
   },
   {
    "duration": 46,
    "start_time": "2023-01-12T18:19:30.725Z"
   },
   {
    "duration": 35,
    "start_time": "2023-01-12T18:19:30.773Z"
   },
   {
    "duration": 51,
    "start_time": "2023-01-12T18:19:30.810Z"
   },
   {
    "duration": 54,
    "start_time": "2023-01-12T18:19:30.863Z"
   },
   {
    "duration": 37,
    "start_time": "2023-01-12T18:19:30.919Z"
   },
   {
    "duration": 63,
    "start_time": "2023-01-12T18:19:30.958Z"
   },
   {
    "duration": 64,
    "start_time": "2023-01-12T18:19:31.023Z"
   },
   {
    "duration": 20,
    "start_time": "2023-01-12T18:19:31.089Z"
   },
   {
    "duration": 33,
    "start_time": "2023-01-12T18:19:31.111Z"
   },
   {
    "duration": 21,
    "start_time": "2023-01-12T18:19:31.146Z"
   },
   {
    "duration": 36,
    "start_time": "2023-01-12T18:19:31.169Z"
   },
   {
    "duration": 44,
    "start_time": "2023-01-12T18:19:31.207Z"
   },
   {
    "duration": 80,
    "start_time": "2023-01-12T18:19:31.253Z"
   },
   {
    "duration": 63,
    "start_time": "2023-01-12T18:19:31.335Z"
   },
   {
    "duration": 6,
    "start_time": "2023-01-12T18:19:31.400Z"
   },
   {
    "duration": 30,
    "start_time": "2023-01-12T18:19:31.408Z"
   },
   {
    "duration": 50,
    "start_time": "2023-01-12T18:19:31.439Z"
   },
   {
    "duration": 21,
    "start_time": "2023-01-12T18:20:47.654Z"
   },
   {
    "duration": 24,
    "start_time": "2023-01-12T18:21:33.674Z"
   },
   {
    "duration": 22,
    "start_time": "2023-01-12T18:21:53.992Z"
   },
   {
    "duration": 154,
    "start_time": "2023-01-12T18:24:09.221Z"
   },
   {
    "duration": 67,
    "start_time": "2023-01-12T18:24:33.675Z"
   },
   {
    "duration": 22,
    "start_time": "2023-01-12T18:24:40.716Z"
   },
   {
    "duration": 27,
    "start_time": "2023-01-12T18:25:12.892Z"
   },
   {
    "duration": 3,
    "start_time": "2023-01-12T18:27:47.305Z"
   },
   {
    "duration": 20448,
    "start_time": "2023-01-12T18:27:52.717Z"
   },
   {
    "duration": 20293,
    "start_time": "2023-01-12T18:31:03.206Z"
   },
   {
    "duration": 4,
    "start_time": "2023-01-12T18:36:37.203Z"
   },
   {
    "duration": 1422,
    "start_time": "2023-01-12T18:40:06.765Z"
   },
   {
    "duration": 3,
    "start_time": "2023-01-12T18:40:08.188Z"
   },
   {
    "duration": 3,
    "start_time": "2023-01-12T18:40:08.196Z"
   },
   {
    "duration": 5,
    "start_time": "2023-01-12T18:40:08.200Z"
   },
   {
    "duration": 221,
    "start_time": "2023-01-12T18:40:08.208Z"
   },
   {
    "duration": 134,
    "start_time": "2023-01-12T18:40:08.430Z"
   },
   {
    "duration": 107,
    "start_time": "2023-01-12T18:40:08.566Z"
   },
   {
    "duration": 75,
    "start_time": "2023-01-12T18:40:08.675Z"
   },
   {
    "duration": 54,
    "start_time": "2023-01-12T18:40:08.752Z"
   },
   {
    "duration": 5,
    "start_time": "2023-01-12T18:40:08.808Z"
   },
   {
    "duration": 5,
    "start_time": "2023-01-12T18:40:08.815Z"
   },
   {
    "duration": 6,
    "start_time": "2023-01-12T18:40:08.821Z"
   },
   {
    "duration": 5,
    "start_time": "2023-01-12T18:40:08.828Z"
   },
   {
    "duration": 220,
    "start_time": "2023-01-12T18:40:08.835Z"
   },
   {
    "duration": 8,
    "start_time": "2023-01-12T18:40:09.056Z"
   },
   {
    "duration": 60,
    "start_time": "2023-01-12T18:40:09.066Z"
   },
   {
    "duration": 3,
    "start_time": "2023-01-12T18:40:09.128Z"
   },
   {
    "duration": 213,
    "start_time": "2023-01-12T18:40:09.133Z"
   },
   {
    "duration": 8,
    "start_time": "2023-01-12T18:40:09.348Z"
   },
   {
    "duration": 167,
    "start_time": "2023-01-12T18:40:09.358Z"
   },
   {
    "duration": 18,
    "start_time": "2023-01-12T18:40:09.526Z"
   },
   {
    "duration": 10,
    "start_time": "2023-01-12T18:40:09.545Z"
   },
   {
    "duration": 176,
    "start_time": "2023-01-12T18:40:09.557Z"
   },
   {
    "duration": 10,
    "start_time": "2023-01-12T18:40:09.735Z"
   },
   {
    "duration": 11,
    "start_time": "2023-01-12T18:40:09.747Z"
   },
   {
    "duration": 9,
    "start_time": "2023-01-12T18:40:09.759Z"
   },
   {
    "duration": 30,
    "start_time": "2023-01-12T18:40:09.770Z"
   },
   {
    "duration": 10,
    "start_time": "2023-01-12T18:40:09.802Z"
   },
   {
    "duration": 4,
    "start_time": "2023-01-12T18:40:09.814Z"
   },
   {
    "duration": 6,
    "start_time": "2023-01-12T18:40:09.820Z"
   },
   {
    "duration": 6,
    "start_time": "2023-01-12T18:40:09.828Z"
   },
   {
    "duration": 19,
    "start_time": "2023-01-12T18:40:09.835Z"
   },
   {
    "duration": 264,
    "start_time": "2023-01-12T18:40:09.896Z"
   },
   {
    "duration": 4,
    "start_time": "2023-01-12T18:40:10.161Z"
   },
   {
    "duration": 9,
    "start_time": "2023-01-12T18:40:10.166Z"
   },
   {
    "duration": 204,
    "start_time": "2023-01-12T18:40:10.176Z"
   },
   {
    "duration": 14,
    "start_time": "2023-01-12T18:40:10.382Z"
   },
   {
    "duration": 7,
    "start_time": "2023-01-12T18:40:10.399Z"
   },
   {
    "duration": 6,
    "start_time": "2023-01-12T18:40:10.408Z"
   },
   {
    "duration": 25,
    "start_time": "2023-01-12T18:40:10.416Z"
   },
   {
    "duration": 10,
    "start_time": "2023-01-12T18:40:10.448Z"
   },
   {
    "duration": 66,
    "start_time": "2023-01-12T18:40:10.460Z"
   },
   {
    "duration": 193,
    "start_time": "2023-01-12T18:40:10.528Z"
   },
   {
    "duration": 8,
    "start_time": "2023-01-12T18:40:10.723Z"
   },
   {
    "duration": 2495,
    "start_time": "2023-01-12T18:40:10.733Z"
   },
   {
    "duration": 30,
    "start_time": "2023-01-12T18:40:13.229Z"
   },
   {
    "duration": 366,
    "start_time": "2023-01-12T18:40:13.261Z"
   },
   {
    "duration": 8,
    "start_time": "2023-01-12T18:40:13.629Z"
   },
   {
    "duration": 200,
    "start_time": "2023-01-12T18:40:13.639Z"
   },
   {
    "duration": 10,
    "start_time": "2023-01-12T18:40:13.841Z"
   },
   {
    "duration": 6,
    "start_time": "2023-01-12T18:40:13.852Z"
   },
   {
    "duration": 209,
    "start_time": "2023-01-12T18:40:13.860Z"
   },
   {
    "duration": 5,
    "start_time": "2023-01-12T18:40:14.070Z"
   },
   {
    "duration": 20,
    "start_time": "2023-01-12T18:40:14.076Z"
   },
   {
    "duration": 276,
    "start_time": "2023-01-12T18:40:14.097Z"
   },
   {
    "duration": 5,
    "start_time": "2023-01-12T18:40:14.375Z"
   },
   {
    "duration": 1096,
    "start_time": "2023-01-12T18:40:14.381Z"
   },
   {
    "duration": 5,
    "start_time": "2023-01-12T18:40:15.479Z"
   },
   {
    "duration": 13,
    "start_time": "2023-01-12T18:40:15.496Z"
   },
   {
    "duration": 14,
    "start_time": "2023-01-12T18:40:15.510Z"
   },
   {
    "duration": 29,
    "start_time": "2023-01-12T18:40:15.526Z"
   },
   {
    "duration": 211,
    "start_time": "2023-01-12T18:40:15.556Z"
   },
   {
    "duration": 4,
    "start_time": "2023-01-12T18:40:15.769Z"
   },
   {
    "duration": 298,
    "start_time": "2023-01-12T18:40:15.774Z"
   },
   {
    "duration": 6,
    "start_time": "2023-01-12T18:40:16.073Z"
   },
   {
    "duration": 23,
    "start_time": "2023-01-12T18:40:16.080Z"
   },
   {
    "duration": 4,
    "start_time": "2023-01-12T18:40:16.105Z"
   },
   {
    "duration": 1905,
    "start_time": "2023-01-12T18:40:16.110Z"
   },
   {
    "duration": 5,
    "start_time": "2023-01-12T18:40:18.017Z"
   },
   {
    "duration": 19,
    "start_time": "2023-01-12T18:40:18.023Z"
   },
   {
    "duration": 217,
    "start_time": "2023-01-12T18:40:18.044Z"
   },
   {
    "duration": 4,
    "start_time": "2023-01-12T18:40:18.263Z"
   },
   {
    "duration": 198,
    "start_time": "2023-01-12T18:40:18.269Z"
   },
   {
    "duration": 5,
    "start_time": "2023-01-12T18:40:18.469Z"
   },
   {
    "duration": 32,
    "start_time": "2023-01-12T18:40:18.476Z"
   },
   {
    "duration": 5,
    "start_time": "2023-01-12T18:40:18.509Z"
   },
   {
    "duration": 208,
    "start_time": "2023-01-12T18:40:18.516Z"
   },
   {
    "duration": 5,
    "start_time": "2023-01-12T18:40:18.725Z"
   },
   {
    "duration": 227,
    "start_time": "2023-01-12T18:40:18.731Z"
   },
   {
    "duration": 17,
    "start_time": "2023-01-12T18:40:18.960Z"
   },
   {
    "duration": 40,
    "start_time": "2023-01-12T18:40:18.979Z"
   },
   {
    "duration": 16,
    "start_time": "2023-01-12T18:40:19.021Z"
   },
   {
    "duration": 29,
    "start_time": "2023-01-12T18:40:19.038Z"
   },
   {
    "duration": 48,
    "start_time": "2023-01-12T18:40:19.069Z"
   },
   {
    "duration": 13,
    "start_time": "2023-01-12T18:40:19.119Z"
   },
   {
    "duration": 15,
    "start_time": "2023-01-12T18:40:19.134Z"
   },
   {
    "duration": 17,
    "start_time": "2023-01-12T18:40:19.151Z"
   },
   {
    "duration": 12,
    "start_time": "2023-01-12T18:40:19.197Z"
   },
   {
    "duration": 11,
    "start_time": "2023-01-12T18:40:19.211Z"
   },
   {
    "duration": 11,
    "start_time": "2023-01-12T18:40:19.224Z"
   },
   {
    "duration": 18,
    "start_time": "2023-01-12T18:40:19.237Z"
   },
   {
    "duration": 7,
    "start_time": "2023-01-12T18:40:19.257Z"
   },
   {
    "duration": 10,
    "start_time": "2023-01-12T18:40:19.265Z"
   },
   {
    "duration": 17,
    "start_time": "2023-01-12T18:40:19.297Z"
   },
   {
    "duration": 9,
    "start_time": "2023-01-12T18:40:19.315Z"
   },
   {
    "duration": 79,
    "start_time": "2023-01-12T18:40:19.326Z"
   },
   {
    "duration": 39,
    "start_time": "2023-01-12T18:40:19.407Z"
   },
   {
    "duration": 5,
    "start_time": "2023-01-12T18:40:19.448Z"
   },
   {
    "duration": 8,
    "start_time": "2023-01-12T18:40:19.454Z"
   },
   {
    "duration": 47,
    "start_time": "2023-01-12T18:40:19.464Z"
   },
   {
    "duration": 83,
    "start_time": "2023-01-12T18:40:19.513Z"
   },
   {
    "duration": 3,
    "start_time": "2023-01-12T18:40:19.598Z"
   },
   {
    "duration": 169287,
    "start_time": "2023-01-12T18:40:32.530Z"
   },
   {
    "duration": 174,
    "start_time": "2023-01-12T18:45:55.908Z"
   },
   {
    "duration": 29440,
    "start_time": "2023-01-12T18:46:08.398Z"
   },
   {
    "duration": 55242,
    "start_time": "2023-01-12T18:46:46.885Z"
   },
   {
    "duration": 110246,
    "start_time": "2023-01-12T18:52:58.573Z"
   },
   {
    "duration": 111867,
    "start_time": "2023-01-12T18:54:52.469Z"
   },
   {
    "duration": 112462,
    "start_time": "2023-01-12T18:57:10.937Z"
   },
   {
    "duration": 114398,
    "start_time": "2023-01-12T19:00:42.228Z"
   },
   {
    "duration": 66,
    "start_time": "2023-01-12T19:05:46.706Z"
   },
   {
    "duration": 4,
    "start_time": "2023-01-12T19:05:54.969Z"
   },
   {
    "duration": 111800,
    "start_time": "2023-01-12T19:06:00.148Z"
   },
   {
    "duration": 115153,
    "start_time": "2023-01-12T19:08:05.922Z"
   },
   {
    "duration": 114063,
    "start_time": "2023-01-12T19:13:10.976Z"
   },
   {
    "duration": 6,
    "start_time": "2023-01-12T19:15:56.362Z"
   },
   {
    "duration": 57,
    "start_time": "2023-01-12T19:16:57.707Z"
   },
   {
    "duration": 46,
    "start_time": "2023-01-12T19:17:06.178Z"
   },
   {
    "duration": 56,
    "start_time": "2023-01-12T19:17:09.937Z"
   },
   {
    "duration": 2441938,
    "start_time": "2023-01-12T19:18:13.915Z"
   },
   {
    "duration": 3,
    "start_time": "2023-01-12T19:58:55.855Z"
   },
   {
    "duration": 4,
    "start_time": "2023-01-12T19:59:47.135Z"
   },
   {
    "duration": 9,
    "start_time": "2023-01-12T20:01:18.453Z"
   },
   {
    "duration": 4,
    "start_time": "2023-01-12T20:01:43.061Z"
   },
   {
    "duration": 51,
    "start_time": "2023-01-12T20:01:56.529Z"
   },
   {
    "duration": 55,
    "start_time": "2023-01-12T20:02:11.273Z"
   },
   {
    "duration": 47,
    "start_time": "2023-01-12T20:02:13.761Z"
   },
   {
    "duration": 5,
    "start_time": "2023-01-12T20:02:24.517Z"
   },
   {
    "duration": 5,
    "start_time": "2023-01-12T20:02:38.993Z"
   },
   {
    "duration": 4,
    "start_time": "2023-01-12T20:02:50.670Z"
   },
   {
    "duration": 4,
    "start_time": "2023-01-12T20:02:54.411Z"
   },
   {
    "duration": 7813,
    "start_time": "2023-01-12T20:03:09.707Z"
   },
   {
    "duration": 4,
    "start_time": "2023-01-12T20:03:54.074Z"
   },
   {
    "duration": 7997,
    "start_time": "2023-01-12T20:03:59.761Z"
   },
   {
    "duration": 294,
    "start_time": "2023-01-12T20:10:31.490Z"
   },
   {
    "duration": 4,
    "start_time": "2023-01-12T20:11:27.086Z"
   },
   {
    "duration": 299,
    "start_time": "2023-01-12T20:11:30.334Z"
   },
   {
    "duration": 298,
    "start_time": "2023-01-12T20:12:06.215Z"
   },
   {
    "duration": 5,
    "start_time": "2023-01-12T20:12:41.334Z"
   },
   {
    "duration": 317,
    "start_time": "2023-01-12T20:12:45.802Z"
   },
   {
    "duration": 311,
    "start_time": "2023-01-12T20:13:24.129Z"
   },
   {
    "duration": 310,
    "start_time": "2023-01-12T20:13:50.670Z"
   },
   {
    "duration": 304,
    "start_time": "2023-01-12T20:14:07.174Z"
   },
   {
    "duration": 359,
    "start_time": "2023-01-12T20:14:21.569Z"
   },
   {
    "duration": 312,
    "start_time": "2023-01-12T20:14:49.673Z"
   },
   {
    "duration": 325,
    "start_time": "2023-01-12T20:15:03.782Z"
   },
   {
    "duration": 302,
    "start_time": "2023-01-12T20:15:25.006Z"
   },
   {
    "duration": 321,
    "start_time": "2023-01-12T20:19:35.001Z"
   },
   {
    "duration": 10,
    "start_time": "2023-01-12T20:20:23.287Z"
   },
   {
    "duration": 5,
    "start_time": "2023-01-12T20:20:32.718Z"
   },
   {
    "duration": 5,
    "start_time": "2023-01-12T20:22:11.588Z"
   },
   {
    "duration": 7,
    "start_time": "2023-01-12T20:22:15.507Z"
   },
   {
    "duration": 13,
    "start_time": "2023-01-12T20:22:17.678Z"
   },
   {
    "duration": 4,
    "start_time": "2023-01-12T20:23:08.596Z"
   },
   {
    "duration": 6,
    "start_time": "2023-01-12T20:32:48.556Z"
   },
   {
    "duration": 750,
    "start_time": "2023-01-12T20:32:50.094Z"
   },
   {
    "duration": 4,
    "start_time": "2023-01-12T20:48:50.701Z"
   },
   {
    "duration": 818,
    "start_time": "2023-01-12T20:50:06.992Z"
   },
   {
    "duration": 1352,
    "start_time": "2023-01-12T20:51:52.731Z"
   },
   {
    "duration": 2,
    "start_time": "2023-01-12T20:51:54.085Z"
   },
   {
    "duration": 10,
    "start_time": "2023-01-12T20:51:54.089Z"
   },
   {
    "duration": 11,
    "start_time": "2023-01-12T20:51:54.100Z"
   },
   {
    "duration": 236,
    "start_time": "2023-01-12T20:51:54.112Z"
   },
   {
    "duration": 128,
    "start_time": "2023-01-12T20:51:54.350Z"
   },
   {
    "duration": 129,
    "start_time": "2023-01-12T20:51:54.480Z"
   },
   {
    "duration": 56,
    "start_time": "2023-01-12T20:51:54.611Z"
   },
   {
    "duration": 61,
    "start_time": "2023-01-12T20:51:54.669Z"
   },
   {
    "duration": 5,
    "start_time": "2023-01-12T20:51:54.733Z"
   },
   {
    "duration": 5,
    "start_time": "2023-01-12T20:51:54.740Z"
   },
   {
    "duration": 8,
    "start_time": "2023-01-12T20:51:54.747Z"
   },
   {
    "duration": 5,
    "start_time": "2023-01-12T20:51:54.757Z"
   },
   {
    "duration": 245,
    "start_time": "2023-01-12T20:51:54.764Z"
   },
   {
    "duration": 9,
    "start_time": "2023-01-12T20:51:55.010Z"
   },
   {
    "duration": 46,
    "start_time": "2023-01-12T20:51:55.022Z"
   },
   {
    "duration": 26,
    "start_time": "2023-01-12T20:51:55.070Z"
   },
   {
    "duration": 209,
    "start_time": "2023-01-12T20:51:55.098Z"
   },
   {
    "duration": 8,
    "start_time": "2023-01-12T20:51:55.309Z"
   },
   {
    "duration": 276,
    "start_time": "2023-01-12T20:51:55.319Z"
   },
   {
    "duration": 18,
    "start_time": "2023-01-12T20:51:55.596Z"
   },
   {
    "duration": 10,
    "start_time": "2023-01-12T20:51:55.616Z"
   },
   {
    "duration": 182,
    "start_time": "2023-01-12T20:51:55.627Z"
   },
   {
    "duration": 11,
    "start_time": "2023-01-12T20:51:55.811Z"
   },
   {
    "duration": 13,
    "start_time": "2023-01-12T20:51:55.824Z"
   },
   {
    "duration": 17,
    "start_time": "2023-01-12T20:51:55.839Z"
   },
   {
    "duration": 5,
    "start_time": "2023-01-12T20:51:55.858Z"
   },
   {
    "duration": 11,
    "start_time": "2023-01-12T20:51:55.990Z"
   },
   {
    "duration": 6,
    "start_time": "2023-01-12T20:51:56.003Z"
   },
   {
    "duration": 11,
    "start_time": "2023-01-12T20:51:56.011Z"
   },
   {
    "duration": 7,
    "start_time": "2023-01-12T20:51:56.024Z"
   },
   {
    "duration": 26,
    "start_time": "2023-01-12T20:51:56.034Z"
   },
   {
    "duration": 226,
    "start_time": "2023-01-12T20:51:56.062Z"
   },
   {
    "duration": 7,
    "start_time": "2023-01-12T20:51:56.290Z"
   },
   {
    "duration": 7,
    "start_time": "2023-01-12T20:51:56.299Z"
   },
   {
    "duration": 188,
    "start_time": "2023-01-12T20:51:56.308Z"
   },
   {
    "duration": 4,
    "start_time": "2023-01-12T20:51:56.498Z"
   },
   {
    "duration": 6,
    "start_time": "2023-01-12T20:51:56.503Z"
   },
   {
    "duration": 6,
    "start_time": "2023-01-12T20:51:56.511Z"
   },
   {
    "duration": 18,
    "start_time": "2023-01-12T20:51:56.518Z"
   },
   {
    "duration": 8,
    "start_time": "2023-01-12T20:51:56.538Z"
   },
   {
    "duration": 65,
    "start_time": "2023-01-12T20:51:56.548Z"
   },
   {
    "duration": 181,
    "start_time": "2023-01-12T20:51:56.615Z"
   },
   {
    "duration": 8,
    "start_time": "2023-01-12T20:51:56.798Z"
   },
   {
    "duration": 2385,
    "start_time": "2023-01-12T20:51:56.808Z"
   },
   {
    "duration": 30,
    "start_time": "2023-01-12T20:51:59.194Z"
   },
   {
    "duration": 356,
    "start_time": "2023-01-12T20:51:59.225Z"
   },
   {
    "duration": 15,
    "start_time": "2023-01-12T20:51:59.583Z"
   },
   {
    "duration": 178,
    "start_time": "2023-01-12T20:51:59.599Z"
   },
   {
    "duration": 20,
    "start_time": "2023-01-12T20:51:59.778Z"
   },
   {
    "duration": 14,
    "start_time": "2023-01-12T20:51:59.799Z"
   },
   {
    "duration": 192,
    "start_time": "2023-01-12T20:51:59.814Z"
   },
   {
    "duration": 7,
    "start_time": "2023-01-12T20:52:00.008Z"
   },
   {
    "duration": 33,
    "start_time": "2023-01-12T20:52:00.017Z"
   },
   {
    "duration": 287,
    "start_time": "2023-01-12T20:52:00.052Z"
   },
   {
    "duration": 6,
    "start_time": "2023-01-12T20:52:00.341Z"
   },
   {
    "duration": 1098,
    "start_time": "2023-01-12T20:52:00.349Z"
   },
   {
    "duration": 5,
    "start_time": "2023-01-12T20:52:01.448Z"
   },
   {
    "duration": 58,
    "start_time": "2023-01-12T20:52:01.454Z"
   },
   {
    "duration": 32,
    "start_time": "2023-01-12T20:52:01.514Z"
   },
   {
    "duration": 60,
    "start_time": "2023-01-12T20:52:01.548Z"
   },
   {
    "duration": 222,
    "start_time": "2023-01-12T20:52:01.610Z"
   },
   {
    "duration": 4,
    "start_time": "2023-01-12T20:52:01.834Z"
   },
   {
    "duration": 297,
    "start_time": "2023-01-12T20:52:01.839Z"
   },
   {
    "duration": 5,
    "start_time": "2023-01-12T20:52:02.138Z"
   },
   {
    "duration": 23,
    "start_time": "2023-01-12T20:52:02.145Z"
   },
   {
    "duration": 9,
    "start_time": "2023-01-12T20:52:02.170Z"
   },
   {
    "duration": 1740,
    "start_time": "2023-01-12T20:52:02.196Z"
   },
   {
    "duration": 4,
    "start_time": "2023-01-12T20:52:03.938Z"
   },
   {
    "duration": 33,
    "start_time": "2023-01-12T20:52:03.944Z"
   },
   {
    "duration": 196,
    "start_time": "2023-01-12T20:52:03.979Z"
   },
   {
    "duration": 5,
    "start_time": "2023-01-12T20:52:04.177Z"
   },
   {
    "duration": 177,
    "start_time": "2023-01-12T20:52:04.196Z"
   },
   {
    "duration": 5,
    "start_time": "2023-01-12T20:52:04.375Z"
   },
   {
    "duration": 11,
    "start_time": "2023-01-12T20:52:04.397Z"
   },
   {
    "duration": 4,
    "start_time": "2023-01-12T20:52:04.410Z"
   },
   {
    "duration": 195,
    "start_time": "2023-01-12T20:52:04.416Z"
   },
   {
    "duration": 5,
    "start_time": "2023-01-12T20:52:04.613Z"
   },
   {
    "duration": 220,
    "start_time": "2023-01-12T20:52:04.620Z"
   },
   {
    "duration": 15,
    "start_time": "2023-01-12T20:52:04.842Z"
   },
   {
    "duration": 40,
    "start_time": "2023-01-12T20:52:04.859Z"
   },
   {
    "duration": 18,
    "start_time": "2023-01-12T20:52:04.903Z"
   },
   {
    "duration": 11,
    "start_time": "2023-01-12T20:52:04.923Z"
   },
   {
    "duration": 4,
    "start_time": "2023-01-12T20:52:11.249Z"
   },
   {
    "duration": 135,
    "start_time": "2023-01-12T20:52:12.467Z"
   },
   {
    "duration": 28,
    "start_time": "2023-01-12T20:52:22.717Z"
   },
   {
    "duration": 11,
    "start_time": "2023-01-12T20:52:24.767Z"
   },
   {
    "duration": 14,
    "start_time": "2023-01-12T20:52:25.820Z"
   },
   {
    "duration": 15,
    "start_time": "2023-01-12T20:52:27.039Z"
   },
   {
    "duration": 8,
    "start_time": "2023-01-12T20:52:29.920Z"
   },
   {
    "duration": 6,
    "start_time": "2023-01-12T20:52:30.656Z"
   },
   {
    "duration": 6,
    "start_time": "2023-01-12T20:52:34.358Z"
   },
   {
    "duration": 5,
    "start_time": "2023-01-12T20:52:35.027Z"
   },
   {
    "duration": 3,
    "start_time": "2023-01-12T20:52:37.735Z"
   },
   {
    "duration": 668,
    "start_time": "2023-01-12T20:52:42.406Z"
   },
   {
    "duration": 41,
    "start_time": "2023-01-12T20:52:55.675Z"
   },
   {
    "duration": 6,
    "start_time": "2023-01-12T20:52:59.577Z"
   },
   {
    "duration": 18,
    "start_time": "2023-01-12T20:54:58.450Z"
   },
   {
    "duration": 59,
    "start_time": "2023-01-12T20:55:11.719Z"
   },
   {
    "duration": 40,
    "start_time": "2023-01-12T20:55:12.601Z"
   },
   {
    "duration": 5,
    "start_time": "2023-01-12T20:55:14.970Z"
   },
   {
    "duration": 3,
    "start_time": "2023-01-12T20:55:15.602Z"
   },
   {
    "duration": 17,
    "start_time": "2023-01-12T20:55:16.642Z"
   },
   {
    "duration": 69,
    "start_time": "2023-01-12T20:55:18.039Z"
   },
   {
    "duration": 2,
    "start_time": "2023-01-12T20:55:19.962Z"
   },
   {
    "duration": 168190,
    "start_time": "2023-01-12T20:55:21.609Z"
   },
   {
    "duration": 110126,
    "start_time": "2023-01-12T20:58:13.264Z"
   },
   {
    "duration": 810235,
    "start_time": "2023-01-12T21:00:03.392Z"
   },
   {
    "duration": 6,
    "start_time": "2023-01-12T21:13:33.629Z"
   },
   {
    "duration": 366,
    "start_time": "2023-01-12T21:13:33.638Z"
   },
   {
    "duration": 0,
    "start_time": "2023-01-12T21:13:34.007Z"
   },
   {
    "duration": 0,
    "start_time": "2023-01-12T21:13:34.008Z"
   },
   {
    "duration": 311,
    "start_time": "2023-01-12T21:15:19.971Z"
   },
   {
    "duration": 321,
    "start_time": "2023-01-12T21:15:32.471Z"
   },
   {
    "duration": 331,
    "start_time": "2023-01-12T21:15:36.138Z"
   },
   {
    "duration": 5,
    "start_time": "2023-01-12T21:16:03.220Z"
   },
   {
    "duration": 5,
    "start_time": "2023-01-12T21:16:14.563Z"
   },
   {
    "duration": 21,
    "start_time": "2023-01-12T21:16:18.705Z"
   },
   {
    "duration": 27,
    "start_time": "2023-01-12T21:16:20.026Z"
   },
   {
    "duration": 80,
    "start_time": "2023-01-12T21:23:52.851Z"
   },
   {
    "duration": 27,
    "start_time": "2023-01-12T21:24:53.106Z"
   },
   {
    "duration": 16,
    "start_time": "2023-01-12T21:25:10.453Z"
   },
   {
    "duration": 16,
    "start_time": "2023-01-12T21:25:14.410Z"
   },
   {
    "duration": 6,
    "start_time": "2023-01-12T21:25:38.471Z"
   },
   {
    "duration": 6,
    "start_time": "2023-01-12T21:25:46.771Z"
   },
   {
    "duration": 6,
    "start_time": "2023-01-12T21:25:54.329Z"
   },
   {
    "duration": 5,
    "start_time": "2023-01-12T21:26:44.845Z"
   },
   {
    "duration": 10,
    "start_time": "2023-01-12T21:26:57.963Z"
   },
   {
    "duration": 10,
    "start_time": "2023-01-12T21:27:08.813Z"
   },
   {
    "duration": 11,
    "start_time": "2023-01-12T21:27:18.072Z"
   },
   {
    "duration": 10,
    "start_time": "2023-01-12T21:27:22.142Z"
   },
   {
    "duration": 6,
    "start_time": "2023-01-12T21:27:30.631Z"
   },
   {
    "duration": 6,
    "start_time": "2023-01-12T21:27:50.729Z"
   },
   {
    "duration": 28,
    "start_time": "2023-01-12T21:28:33.693Z"
   },
   {
    "duration": 13,
    "start_time": "2023-01-12T21:29:09.657Z"
   },
   {
    "duration": 9,
    "start_time": "2023-01-12T21:29:16.980Z"
   },
   {
    "duration": 6,
    "start_time": "2023-01-12T21:29:31.319Z"
   },
   {
    "duration": 4,
    "start_time": "2023-01-12T21:31:45.716Z"
   },
   {
    "duration": 31,
    "start_time": "2023-01-12T21:31:48.776Z"
   },
   {
    "duration": 30,
    "start_time": "2023-01-12T21:32:17.163Z"
   },
   {
    "duration": 3,
    "start_time": "2023-01-12T21:34:10.433Z"
   },
   {
    "duration": 39,
    "start_time": "2023-01-12T21:34:16.153Z"
   },
   {
    "duration": 5,
    "start_time": "2023-01-12T21:34:47.178Z"
   },
   {
    "duration": 1282,
    "start_time": "2023-01-12T21:34:49.109Z"
   },
   {
    "duration": 625,
    "start_time": "2023-01-12T21:36:00.392Z"
   },
   {
    "duration": 707,
    "start_time": "2023-01-12T21:36:13.049Z"
   },
   {
    "duration": 6,
    "start_time": "2023-01-12T21:36:28.208Z"
   },
   {
    "duration": 592,
    "start_time": "2023-01-12T21:38:28.027Z"
   },
   {
    "duration": 5,
    "start_time": "2023-01-12T21:39:31.862Z"
   },
   {
    "duration": 582,
    "start_time": "2023-01-12T21:39:40.670Z"
   },
   {
    "duration": 597,
    "start_time": "2023-01-12T21:39:46.939Z"
   },
   {
    "duration": 43,
    "start_time": "2023-01-12T21:41:08.582Z"
   },
   {
    "duration": 46,
    "start_time": "2023-01-12T21:42:19.704Z"
   },
   {
    "duration": 44,
    "start_time": "2023-01-12T21:42:48.912Z"
   },
   {
    "duration": 48,
    "start_time": "2023-01-12T21:43:08.272Z"
   },
   {
    "duration": 56,
    "start_time": "2023-01-12T21:43:51.815Z"
   },
   {
    "duration": 631,
    "start_time": "2023-01-12T21:43:54.738Z"
   },
   {
    "duration": 70,
    "start_time": "2023-01-12T21:45:24.967Z"
   },
   {
    "duration": 115,
    "start_time": "2023-01-12T21:45:28.565Z"
   },
   {
    "duration": 607,
    "start_time": "2023-01-12T21:46:02.523Z"
   },
   {
    "duration": 3,
    "start_time": "2023-01-12T21:49:22.974Z"
   },
   {
    "duration": 12,
    "start_time": "2023-01-12T21:49:28.113Z"
   },
   {
    "duration": 660,
    "start_time": "2023-01-12T21:49:28.912Z"
   },
   {
    "duration": 10,
    "start_time": "2023-01-12T21:50:15.668Z"
   },
   {
    "duration": 5,
    "start_time": "2023-01-12T21:50:44.576Z"
   },
   {
    "duration": 888,
    "start_time": "2023-01-12T21:56:32.379Z"
   },
   {
    "duration": 54,
    "start_time": "2023-01-12T22:06:29.544Z"
   },
   {
    "duration": 946,
    "start_time": "2023-01-12T22:10:41.665Z"
   },
   {
    "duration": 932,
    "start_time": "2023-01-12T22:12:06.637Z"
   },
   {
    "duration": 1022,
    "start_time": "2023-01-12T22:12:16.725Z"
   },
   {
    "duration": 762,
    "start_time": "2023-01-12T22:13:44.174Z"
   },
   {
    "duration": 751,
    "start_time": "2023-01-12T22:13:49.456Z"
   },
   {
    "duration": 941,
    "start_time": "2023-01-12T22:13:59.349Z"
   },
   {
    "duration": 1330,
    "start_time": "2023-01-12T22:15:10.936Z"
   },
   {
    "duration": 3,
    "start_time": "2023-01-12T22:15:12.268Z"
   },
   {
    "duration": 12,
    "start_time": "2023-01-12T22:15:12.273Z"
   },
   {
    "duration": 6,
    "start_time": "2023-01-12T22:15:12.286Z"
   },
   {
    "duration": 223,
    "start_time": "2023-01-12T22:15:12.295Z"
   },
   {
    "duration": 130,
    "start_time": "2023-01-12T22:15:12.519Z"
   },
   {
    "duration": 103,
    "start_time": "2023-01-12T22:15:12.650Z"
   },
   {
    "duration": 67,
    "start_time": "2023-01-12T22:15:12.755Z"
   },
   {
    "duration": 40,
    "start_time": "2023-01-12T22:15:12.824Z"
   },
   {
    "duration": 4,
    "start_time": "2023-01-12T22:15:12.866Z"
   },
   {
    "duration": 30,
    "start_time": "2023-01-12T22:15:12.871Z"
   },
   {
    "duration": 13,
    "start_time": "2023-01-12T22:15:12.902Z"
   },
   {
    "duration": 5,
    "start_time": "2023-01-12T22:15:12.917Z"
   },
   {
    "duration": 183,
    "start_time": "2023-01-12T22:15:12.924Z"
   },
   {
    "duration": 7,
    "start_time": "2023-01-12T22:15:13.109Z"
   },
   {
    "duration": 45,
    "start_time": "2023-01-12T22:15:13.118Z"
   },
   {
    "duration": 3,
    "start_time": "2023-01-12T22:15:13.165Z"
   },
   {
    "duration": 190,
    "start_time": "2023-01-12T22:15:13.196Z"
   },
   {
    "duration": 29,
    "start_time": "2023-01-12T22:15:13.388Z"
   },
   {
    "duration": 149,
    "start_time": "2023-01-12T22:15:13.419Z"
   },
   {
    "duration": 28,
    "start_time": "2023-01-12T22:15:13.570Z"
   },
   {
    "duration": 9,
    "start_time": "2023-01-12T22:15:13.600Z"
   },
   {
    "duration": 160,
    "start_time": "2023-01-12T22:15:13.610Z"
   },
   {
    "duration": 10,
    "start_time": "2023-01-12T22:15:13.771Z"
   },
   {
    "duration": 20,
    "start_time": "2023-01-12T22:15:13.783Z"
   },
   {
    "duration": 9,
    "start_time": "2023-01-12T22:15:13.805Z"
   },
   {
    "duration": 5,
    "start_time": "2023-01-12T22:15:13.816Z"
   },
   {
    "duration": 16,
    "start_time": "2023-01-12T22:15:13.822Z"
   },
   {
    "duration": 5,
    "start_time": "2023-01-12T22:15:13.839Z"
   },
   {
    "duration": 6,
    "start_time": "2023-01-12T22:15:13.846Z"
   },
   {
    "duration": 5,
    "start_time": "2023-01-12T22:15:13.853Z"
   },
   {
    "duration": 51,
    "start_time": "2023-01-12T22:15:13.859Z"
   },
   {
    "duration": 263,
    "start_time": "2023-01-12T22:15:13.913Z"
   },
   {
    "duration": 4,
    "start_time": "2023-01-12T22:15:14.178Z"
   },
   {
    "duration": 16,
    "start_time": "2023-01-12T22:15:14.183Z"
   },
   {
    "duration": 180,
    "start_time": "2023-01-12T22:15:14.200Z"
   },
   {
    "duration": 14,
    "start_time": "2023-01-12T22:15:14.382Z"
   },
   {
    "duration": 5,
    "start_time": "2023-01-12T22:15:14.397Z"
   },
   {
    "duration": 10,
    "start_time": "2023-01-12T22:15:14.403Z"
   },
   {
    "duration": 18,
    "start_time": "2023-01-12T22:15:14.415Z"
   },
   {
    "duration": 8,
    "start_time": "2023-01-12T22:15:14.438Z"
   },
   {
    "duration": 54,
    "start_time": "2023-01-12T22:15:14.448Z"
   },
   {
    "duration": 176,
    "start_time": "2023-01-12T22:15:14.504Z"
   },
   {
    "duration": 16,
    "start_time": "2023-01-12T22:15:14.681Z"
   },
   {
    "duration": 2501,
    "start_time": "2023-01-12T22:15:14.699Z"
   },
   {
    "duration": 29,
    "start_time": "2023-01-12T22:15:17.201Z"
   },
   {
    "duration": 354,
    "start_time": "2023-01-12T22:15:17.232Z"
   },
   {
    "duration": 13,
    "start_time": "2023-01-12T22:15:17.588Z"
   },
   {
    "duration": 217,
    "start_time": "2023-01-12T22:15:17.603Z"
   },
   {
    "duration": 10,
    "start_time": "2023-01-12T22:15:17.822Z"
   },
   {
    "duration": 7,
    "start_time": "2023-01-12T22:15:17.834Z"
   },
   {
    "duration": 202,
    "start_time": "2023-01-12T22:15:17.843Z"
   },
   {
    "duration": 7,
    "start_time": "2023-01-12T22:15:18.047Z"
   },
   {
    "duration": 7,
    "start_time": "2023-01-12T22:15:18.056Z"
   },
   {
    "duration": 298,
    "start_time": "2023-01-12T22:15:18.065Z"
   },
   {
    "duration": 4,
    "start_time": "2023-01-12T22:15:18.365Z"
   },
   {
    "duration": 1094,
    "start_time": "2023-01-12T22:15:18.370Z"
   },
   {
    "duration": 5,
    "start_time": "2023-01-12T22:15:19.466Z"
   },
   {
    "duration": 33,
    "start_time": "2023-01-12T22:15:19.473Z"
   },
   {
    "duration": 8,
    "start_time": "2023-01-12T22:15:19.508Z"
   },
   {
    "duration": 38,
    "start_time": "2023-01-12T22:15:19.517Z"
   },
   {
    "duration": 194,
    "start_time": "2023-01-12T22:15:19.557Z"
   },
   {
    "duration": 3,
    "start_time": "2023-01-12T22:15:19.753Z"
   },
   {
    "duration": 288,
    "start_time": "2023-01-12T22:15:19.757Z"
   },
   {
    "duration": 5,
    "start_time": "2023-01-12T22:15:20.047Z"
   },
   {
    "duration": 24,
    "start_time": "2023-01-12T22:15:20.053Z"
   },
   {
    "duration": 5,
    "start_time": "2023-01-12T22:15:20.078Z"
   },
   {
    "duration": 1794,
    "start_time": "2023-01-12T22:15:20.096Z"
   },
   {
    "duration": 6,
    "start_time": "2023-01-12T22:15:21.892Z"
   },
   {
    "duration": 12,
    "start_time": "2023-01-12T22:15:21.900Z"
   },
   {
    "duration": 236,
    "start_time": "2023-01-12T22:15:21.913Z"
   },
   {
    "duration": 4,
    "start_time": "2023-01-12T22:15:22.151Z"
   },
   {
    "duration": 202,
    "start_time": "2023-01-12T22:15:22.156Z"
   },
   {
    "duration": 5,
    "start_time": "2023-01-12T22:15:22.359Z"
   },
   {
    "duration": 15,
    "start_time": "2023-01-12T22:15:22.365Z"
   },
   {
    "duration": 5,
    "start_time": "2023-01-12T22:15:22.395Z"
   },
   {
    "duration": 196,
    "start_time": "2023-01-12T22:15:22.402Z"
   },
   {
    "duration": 4,
    "start_time": "2023-01-12T22:15:22.600Z"
   },
   {
    "duration": 226,
    "start_time": "2023-01-12T22:15:22.606Z"
   },
   {
    "duration": 15,
    "start_time": "2023-01-12T22:15:22.834Z"
   },
   {
    "duration": 22,
    "start_time": "2023-01-12T22:15:22.851Z"
   },
   {
    "duration": 35,
    "start_time": "2023-01-12T22:15:22.874Z"
   },
   {
    "duration": 13,
    "start_time": "2023-01-12T22:15:22.911Z"
   },
   {
    "duration": 13,
    "start_time": "2023-01-12T22:15:22.926Z"
   },
   {
    "duration": 34,
    "start_time": "2023-01-12T22:15:22.941Z"
   },
   {
    "duration": 27,
    "start_time": "2023-01-12T22:15:22.977Z"
   },
   {
    "duration": 20,
    "start_time": "2023-01-12T22:15:23.005Z"
   },
   {
    "duration": 15,
    "start_time": "2023-01-12T22:15:23.027Z"
   },
   {
    "duration": 11,
    "start_time": "2023-01-12T22:15:23.043Z"
   },
   {
    "duration": 15,
    "start_time": "2023-01-12T22:15:23.056Z"
   },
   {
    "duration": 24,
    "start_time": "2023-01-12T22:15:23.073Z"
   },
   {
    "duration": 15,
    "start_time": "2023-01-12T22:15:23.099Z"
   },
   {
    "duration": 6,
    "start_time": "2023-01-12T22:15:23.116Z"
   },
   {
    "duration": 7,
    "start_time": "2023-01-12T22:15:23.124Z"
   },
   {
    "duration": 16,
    "start_time": "2023-01-12T22:15:23.132Z"
   },
   {
    "duration": 79,
    "start_time": "2023-01-12T22:15:23.150Z"
   },
   {
    "duration": 36,
    "start_time": "2023-01-12T22:15:23.230Z"
   },
   {
    "duration": 5,
    "start_time": "2023-01-12T22:15:23.267Z"
   },
   {
    "duration": 3,
    "start_time": "2023-01-12T22:15:23.297Z"
   },
   {
    "duration": 21,
    "start_time": "2023-01-12T22:15:23.302Z"
   },
   {
    "duration": 86,
    "start_time": "2023-01-12T22:15:23.325Z"
   },
   {
    "duration": 3,
    "start_time": "2023-01-12T22:15:23.412Z"
   },
   {
    "duration": 160406,
    "start_time": "2023-01-12T22:15:23.417Z"
   },
   {
    "duration": 122580,
    "start_time": "2023-01-12T22:18:03.900Z"
   },
   {
    "duration": 806476,
    "start_time": "2023-01-12T22:20:06.482Z"
   },
   {
    "duration": 6,
    "start_time": "2023-01-12T22:33:32.959Z"
   },
   {
    "duration": 333,
    "start_time": "2023-01-12T22:33:32.967Z"
   },
   {
    "duration": 5,
    "start_time": "2023-01-12T22:33:33.301Z"
   },
   {
    "duration": 8,
    "start_time": "2023-01-12T22:33:33.307Z"
   },
   {
    "duration": 6,
    "start_time": "2023-01-12T22:33:33.316Z"
   },
   {
    "duration": 607,
    "start_time": "2023-01-12T22:33:33.323Z"
   },
   {
    "duration": 109,
    "start_time": "2023-01-12T22:37:23.651Z"
   },
   {
    "duration": 887,
    "start_time": "2023-01-12T22:37:50.065Z"
   },
   {
    "duration": 48,
    "start_time": "2023-01-12T22:39:04.260Z"
   },
   {
    "duration": 896,
    "start_time": "2023-01-12T22:40:20.934Z"
   },
   {
    "duration": 751,
    "start_time": "2023-01-12T22:40:26.872Z"
   },
   {
    "duration": 441,
    "start_time": "2023-01-12T22:40:31.567Z"
   },
   {
    "duration": 674,
    "start_time": "2023-01-12T22:40:39.182Z"
   },
   {
    "duration": 591,
    "start_time": "2023-01-12T22:40:53.700Z"
   },
   {
    "duration": 579,
    "start_time": "2023-01-12T22:43:27.674Z"
   },
   {
    "duration": 635,
    "start_time": "2023-01-12T22:43:36.904Z"
   },
   {
    "duration": 557,
    "start_time": "2023-01-12T22:43:43.224Z"
   },
   {
    "duration": 567,
    "start_time": "2023-01-12T22:43:51.602Z"
   },
   {
    "duration": 674,
    "start_time": "2023-01-12T22:44:05.290Z"
   },
   {
    "duration": 20,
    "start_time": "2023-01-12T22:45:33.474Z"
   },
   {
    "duration": 23,
    "start_time": "2023-01-12T22:46:00.566Z"
   },
   {
    "duration": 29,
    "start_time": "2023-01-12T22:46:31.547Z"
   },
   {
    "duration": 164,
    "start_time": "2023-01-12T22:47:36.291Z"
   },
   {
    "duration": 566,
    "start_time": "2023-01-12T22:47:40.530Z"
   },
   {
    "duration": 5130,
    "start_time": "2023-01-12T22:48:07.888Z"
   },
   {
    "duration": 4,
    "start_time": "2023-01-12T22:49:54.007Z"
   },
   {
    "duration": 43,
    "start_time": "2023-01-12T22:49:54.859Z"
   },
   {
    "duration": 218,
    "start_time": "2023-01-12T22:49:57.726Z"
   },
   {
    "duration": 11,
    "start_time": "2023-01-12T22:50:33.863Z"
   },
   {
    "duration": 9,
    "start_time": "2023-01-12T22:50:46.663Z"
   },
   {
    "duration": 15,
    "start_time": "2023-01-12T22:50:51.846Z"
   },
   {
    "duration": 9,
    "start_time": "2023-01-12T22:51:01.641Z"
   },
   {
    "duration": 11,
    "start_time": "2023-01-12T22:51:05.441Z"
   },
   {
    "duration": 10,
    "start_time": "2023-01-12T22:51:14.379Z"
   },
   {
    "duration": 10,
    "start_time": "2023-01-12T22:51:19.499Z"
   },
   {
    "duration": 10,
    "start_time": "2023-01-12T22:51:31.207Z"
   },
   {
    "duration": 222,
    "start_time": "2023-01-12T22:52:30.922Z"
   },
   {
    "duration": 52,
    "start_time": "2023-01-12T22:55:35.361Z"
   },
   {
    "duration": 224,
    "start_time": "2023-01-12T22:57:00.125Z"
   },
   {
    "duration": 209,
    "start_time": "2023-01-12T22:57:04.138Z"
   },
   {
    "duration": 215,
    "start_time": "2023-01-12T22:57:46.611Z"
   },
   {
    "duration": 224,
    "start_time": "2023-01-12T22:58:03.150Z"
   },
   {
    "duration": 215,
    "start_time": "2023-01-12T22:58:48.314Z"
   },
   {
    "duration": 4,
    "start_time": "2023-01-12T22:59:21.521Z"
   },
   {
    "duration": 6,
    "start_time": "2023-01-12T22:59:29.261Z"
   },
   {
    "duration": 161,
    "start_time": "2023-01-12T22:59:31.421Z"
   },
   {
    "duration": 181,
    "start_time": "2023-01-12T23:02:33.222Z"
   },
   {
    "duration": 51,
    "start_time": "2023-01-12T23:04:05.567Z"
   },
   {
    "duration": 3,
    "start_time": "2023-01-12T23:05:15.966Z"
   },
   {
    "duration": 405,
    "start_time": "2023-01-12T23:05:20.245Z"
   },
   {
    "duration": 179,
    "start_time": "2023-01-12T23:06:52.146Z"
   },
   {
    "duration": 744,
    "start_time": "2023-01-12T23:07:10.315Z"
   },
   {
    "duration": 164,
    "start_time": "2023-01-12T23:07:35.072Z"
   },
   {
    "duration": 8,
    "start_time": "2023-01-12T23:08:00.828Z"
   },
   {
    "duration": 4,
    "start_time": "2023-01-12T23:08:12.967Z"
   },
   {
    "duration": 6,
    "start_time": "2023-01-12T23:08:24.657Z"
   },
   {
    "duration": 145,
    "start_time": "2023-01-12T23:09:10.732Z"
   },
   {
    "duration": 55,
    "start_time": "2023-01-12T23:10:15.968Z"
   },
   {
    "duration": 154,
    "start_time": "2023-01-12T23:10:21.685Z"
   },
   {
    "duration": 8,
    "start_time": "2023-01-12T23:12:01.378Z"
   },
   {
    "duration": 10,
    "start_time": "2023-01-12T23:12:10.063Z"
   },
   {
    "duration": 9,
    "start_time": "2023-01-12T23:12:26.181Z"
   },
   {
    "duration": 53,
    "start_time": "2023-01-12T23:12:49.803Z"
   },
   {
    "duration": 7,
    "start_time": "2023-01-12T23:12:51.820Z"
   },
   {
    "duration": 7,
    "start_time": "2023-01-12T23:13:07.987Z"
   },
   {
    "duration": 6,
    "start_time": "2023-01-12T23:13:14.717Z"
   },
   {
    "duration": 7,
    "start_time": "2023-01-12T23:13:36.516Z"
   },
   {
    "duration": 54,
    "start_time": "2023-01-12T23:16:34.627Z"
   },
   {
    "duration": 39,
    "start_time": "2023-01-12T23:16:49.056Z"
   },
   {
    "duration": 42,
    "start_time": "2023-01-12T23:17:45.302Z"
   },
   {
    "duration": 1379,
    "start_time": "2023-01-12T23:25:24.098Z"
   },
   {
    "duration": 3,
    "start_time": "2023-01-12T23:25:25.479Z"
   },
   {
    "duration": 14,
    "start_time": "2023-01-12T23:25:25.483Z"
   },
   {
    "duration": 9,
    "start_time": "2023-01-12T23:25:25.498Z"
   },
   {
    "duration": 221,
    "start_time": "2023-01-12T23:25:25.510Z"
   },
   {
    "duration": 129,
    "start_time": "2023-01-12T23:25:25.733Z"
   },
   {
    "duration": 140,
    "start_time": "2023-01-12T23:25:25.864Z"
   },
   {
    "duration": 66,
    "start_time": "2023-01-12T23:25:26.006Z"
   },
   {
    "duration": 57,
    "start_time": "2023-01-12T23:25:26.074Z"
   },
   {
    "duration": 5,
    "start_time": "2023-01-12T23:25:26.133Z"
   },
   {
    "duration": 8,
    "start_time": "2023-01-12T23:25:26.139Z"
   },
   {
    "duration": 8,
    "start_time": "2023-01-12T23:25:26.149Z"
   },
   {
    "duration": 38,
    "start_time": "2023-01-12T23:25:26.159Z"
   },
   {
    "duration": 184,
    "start_time": "2023-01-12T23:25:26.200Z"
   },
   {
    "duration": 11,
    "start_time": "2023-01-12T23:25:26.386Z"
   },
   {
    "duration": 45,
    "start_time": "2023-01-12T23:25:26.399Z"
   },
   {
    "duration": 4,
    "start_time": "2023-01-12T23:25:26.445Z"
   },
   {
    "duration": 210,
    "start_time": "2023-01-12T23:25:26.451Z"
   },
   {
    "duration": 11,
    "start_time": "2023-01-12T23:25:26.663Z"
   },
   {
    "duration": 171,
    "start_time": "2023-01-12T23:25:26.676Z"
   },
   {
    "duration": 18,
    "start_time": "2023-01-12T23:25:26.849Z"
   },
   {
    "duration": 35,
    "start_time": "2023-01-12T23:25:26.868Z"
   },
   {
    "duration": 158,
    "start_time": "2023-01-12T23:25:26.905Z"
   },
   {
    "duration": 11,
    "start_time": "2023-01-12T23:25:27.065Z"
   },
   {
    "duration": 24,
    "start_time": "2023-01-12T23:25:27.078Z"
   },
   {
    "duration": 10,
    "start_time": "2023-01-12T23:25:27.104Z"
   },
   {
    "duration": 7,
    "start_time": "2023-01-12T23:25:27.116Z"
   },
   {
    "duration": 22,
    "start_time": "2023-01-12T23:25:27.125Z"
   },
   {
    "duration": 9,
    "start_time": "2023-01-12T23:25:27.148Z"
   },
   {
    "duration": 39,
    "start_time": "2023-01-12T23:25:27.159Z"
   },
   {
    "duration": 5,
    "start_time": "2023-01-12T23:25:27.200Z"
   },
   {
    "duration": 20,
    "start_time": "2023-01-12T23:25:27.207Z"
   },
   {
    "duration": 247,
    "start_time": "2023-01-12T23:25:27.228Z"
   },
   {
    "duration": 5,
    "start_time": "2023-01-12T23:25:27.476Z"
   },
   {
    "duration": 17,
    "start_time": "2023-01-12T23:25:27.482Z"
   },
   {
    "duration": 188,
    "start_time": "2023-01-12T23:25:27.501Z"
   },
   {
    "duration": 3,
    "start_time": "2023-01-12T23:25:27.691Z"
   },
   {
    "duration": 15,
    "start_time": "2023-01-12T23:25:27.696Z"
   },
   {
    "duration": 17,
    "start_time": "2023-01-12T23:25:27.712Z"
   },
   {
    "duration": 27,
    "start_time": "2023-01-12T23:25:27.730Z"
   },
   {
    "duration": 8,
    "start_time": "2023-01-12T23:25:27.762Z"
   },
   {
    "duration": 38,
    "start_time": "2023-01-12T23:25:27.772Z"
   },
   {
    "duration": 177,
    "start_time": "2023-01-12T23:25:27.811Z"
   },
   {
    "duration": 8,
    "start_time": "2023-01-12T23:25:27.996Z"
   },
   {
    "duration": 2282,
    "start_time": "2023-01-12T23:25:28.006Z"
   },
   {
    "duration": 31,
    "start_time": "2023-01-12T23:25:30.295Z"
   },
   {
    "duration": 384,
    "start_time": "2023-01-12T23:25:30.328Z"
   },
   {
    "duration": 9,
    "start_time": "2023-01-12T23:25:30.713Z"
   },
   {
    "duration": 212,
    "start_time": "2023-01-12T23:25:30.723Z"
   },
   {
    "duration": 10,
    "start_time": "2023-01-12T23:25:30.937Z"
   },
   {
    "duration": 44,
    "start_time": "2023-01-12T23:25:30.949Z"
   },
   {
    "duration": 198,
    "start_time": "2023-01-12T23:25:30.994Z"
   },
   {
    "duration": 4,
    "start_time": "2023-01-12T23:25:31.197Z"
   },
   {
    "duration": 32,
    "start_time": "2023-01-12T23:25:31.203Z"
   },
   {
    "duration": 326,
    "start_time": "2023-01-12T23:25:31.237Z"
   },
   {
    "duration": 5,
    "start_time": "2023-01-12T23:25:31.565Z"
   },
   {
    "duration": 1077,
    "start_time": "2023-01-12T23:25:31.571Z"
   },
   {
    "duration": 5,
    "start_time": "2023-01-12T23:25:32.649Z"
   },
   {
    "duration": 17,
    "start_time": "2023-01-12T23:25:32.656Z"
   },
   {
    "duration": 24,
    "start_time": "2023-01-12T23:25:32.675Z"
   },
   {
    "duration": 27,
    "start_time": "2023-01-12T23:25:32.700Z"
   },
   {
    "duration": 205,
    "start_time": "2023-01-12T23:25:32.729Z"
   },
   {
    "duration": 3,
    "start_time": "2023-01-12T23:25:32.936Z"
   },
   {
    "duration": 280,
    "start_time": "2023-01-12T23:25:32.941Z"
   },
   {
    "duration": 4,
    "start_time": "2023-01-12T23:25:33.223Z"
   },
   {
    "duration": 16,
    "start_time": "2023-01-12T23:25:33.228Z"
   },
   {
    "duration": 4,
    "start_time": "2023-01-12T23:25:33.246Z"
   },
   {
    "duration": 1738,
    "start_time": "2023-01-12T23:25:33.251Z"
   },
   {
    "duration": 7,
    "start_time": "2023-01-12T23:25:34.990Z"
   },
   {
    "duration": 13,
    "start_time": "2023-01-12T23:25:34.998Z"
   },
   {
    "duration": 232,
    "start_time": "2023-01-12T23:25:35.013Z"
   },
   {
    "duration": 6,
    "start_time": "2023-01-12T23:25:35.247Z"
   },
   {
    "duration": 200,
    "start_time": "2023-01-12T23:25:35.254Z"
   },
   {
    "duration": 6,
    "start_time": "2023-01-12T23:25:35.456Z"
   },
   {
    "duration": 34,
    "start_time": "2023-01-12T23:25:35.463Z"
   },
   {
    "duration": 6,
    "start_time": "2023-01-12T23:25:35.498Z"
   },
   {
    "duration": 195,
    "start_time": "2023-01-12T23:25:35.506Z"
   },
   {
    "duration": 6,
    "start_time": "2023-01-12T23:25:35.703Z"
   },
   {
    "duration": 243,
    "start_time": "2023-01-12T23:25:35.711Z"
   },
   {
    "duration": 17,
    "start_time": "2023-01-12T23:25:35.956Z"
   },
   {
    "duration": 40,
    "start_time": "2023-01-12T23:25:35.975Z"
   },
   {
    "duration": 25,
    "start_time": "2023-01-12T23:25:36.018Z"
   },
   {
    "duration": 15,
    "start_time": "2023-01-12T23:25:36.046Z"
   },
   {
    "duration": 8,
    "start_time": "2023-01-12T23:25:36.063Z"
   },
   {
    "duration": 29,
    "start_time": "2023-01-12T23:25:36.097Z"
   },
   {
    "duration": 10,
    "start_time": "2023-01-12T23:25:36.128Z"
   },
   {
    "duration": 13,
    "start_time": "2023-01-12T23:25:36.140Z"
   },
   {
    "duration": 42,
    "start_time": "2023-01-12T23:25:36.154Z"
   },
   {
    "duration": 10,
    "start_time": "2023-01-12T23:25:36.198Z"
   },
   {
    "duration": 10,
    "start_time": "2023-01-12T23:25:36.210Z"
   },
   {
    "duration": 10,
    "start_time": "2023-01-12T23:25:36.222Z"
   },
   {
    "duration": 7,
    "start_time": "2023-01-12T23:25:36.234Z"
   },
   {
    "duration": 5,
    "start_time": "2023-01-12T23:25:36.243Z"
   },
   {
    "duration": 13,
    "start_time": "2023-01-12T23:25:36.250Z"
   },
   {
    "duration": 48,
    "start_time": "2023-01-12T23:25:36.264Z"
   },
   {
    "duration": 83,
    "start_time": "2023-01-12T23:25:36.314Z"
   },
   {
    "duration": 42,
    "start_time": "2023-01-12T23:25:36.399Z"
   },
   {
    "duration": 5,
    "start_time": "2023-01-12T23:25:36.443Z"
   },
   {
    "duration": 6,
    "start_time": "2023-01-12T23:25:36.450Z"
   },
   {
    "duration": 54,
    "start_time": "2023-01-12T23:25:36.457Z"
   },
   {
    "duration": 86,
    "start_time": "2023-01-12T23:25:36.513Z"
   },
   {
    "duration": 3,
    "start_time": "2023-01-12T23:25:36.601Z"
   },
   {
    "duration": 146705,
    "start_time": "2023-01-12T23:25:36.606Z"
   },
   {
    "duration": 106786,
    "start_time": "2023-01-12T23:28:03.401Z"
   },
   {
    "duration": 752364,
    "start_time": "2023-01-12T23:29:50.189Z"
   },
   {
    "duration": 13,
    "start_time": "2023-01-12T23:42:22.554Z"
   },
   {
    "duration": 323,
    "start_time": "2023-01-12T23:42:22.568Z"
   },
   {
    "duration": 5,
    "start_time": "2023-01-12T23:42:22.897Z"
   },
   {
    "duration": 6,
    "start_time": "2023-01-12T23:42:22.904Z"
   },
   {
    "duration": 6,
    "start_time": "2023-01-12T23:42:22.911Z"
   },
   {
    "duration": 631,
    "start_time": "2023-01-12T23:42:22.919Z"
   },
   {
    "duration": 556,
    "start_time": "2023-01-12T23:42:23.551Z"
   },
   {
    "duration": 151,
    "start_time": "2023-01-12T23:42:24.109Z"
   },
   {
    "duration": 219,
    "start_time": "2023-01-12T23:42:24.262Z"
   },
   {
    "duration": 196,
    "start_time": "2023-01-12T23:42:24.482Z"
   },
   {
    "duration": 50,
    "start_time": "2023-01-14T03:35:21.265Z"
   },
   {
    "duration": 1540,
    "start_time": "2023-01-14T03:35:35.358Z"
   },
   {
    "duration": 3,
    "start_time": "2023-01-14T03:35:36.901Z"
   },
   {
    "duration": 5,
    "start_time": "2023-01-14T03:35:36.906Z"
   },
   {
    "duration": 2,
    "start_time": "2023-01-14T03:35:36.915Z"
   },
   {
    "duration": 420,
    "start_time": "2023-01-14T03:35:36.919Z"
   },
   {
    "duration": 118,
    "start_time": "2023-01-14T03:35:37.341Z"
   },
   {
    "duration": 103,
    "start_time": "2023-01-14T03:35:37.460Z"
   },
   {
    "duration": 77,
    "start_time": "2023-01-14T03:35:37.564Z"
   },
   {
    "duration": 47,
    "start_time": "2023-01-14T03:35:37.644Z"
   },
   {
    "duration": 21,
    "start_time": "2023-01-14T03:35:37.694Z"
   },
   {
    "duration": 4,
    "start_time": "2023-01-14T03:35:37.717Z"
   },
   {
    "duration": 7,
    "start_time": "2023-01-14T03:35:37.723Z"
   },
   {
    "duration": 5,
    "start_time": "2023-01-14T03:35:37.731Z"
   },
   {
    "duration": 200,
    "start_time": "2023-01-14T03:35:37.737Z"
   },
   {
    "duration": 8,
    "start_time": "2023-01-14T03:35:37.938Z"
   },
   {
    "duration": 52,
    "start_time": "2023-01-14T03:35:37.947Z"
   },
   {
    "duration": 15,
    "start_time": "2023-01-14T03:35:38.000Z"
   },
   {
    "duration": 199,
    "start_time": "2023-01-14T03:35:38.017Z"
   },
   {
    "duration": 10,
    "start_time": "2023-01-14T03:35:38.218Z"
   },
   {
    "duration": 166,
    "start_time": "2023-01-14T03:35:38.230Z"
   },
   {
    "duration": 27,
    "start_time": "2023-01-14T03:35:38.398Z"
   },
   {
    "duration": 11,
    "start_time": "2023-01-14T03:35:38.427Z"
   },
   {
    "duration": 174,
    "start_time": "2023-01-14T03:35:38.439Z"
   },
   {
    "duration": 18,
    "start_time": "2023-01-14T03:35:38.616Z"
   },
   {
    "duration": 15,
    "start_time": "2023-01-14T03:35:38.636Z"
   },
   {
    "duration": 10,
    "start_time": "2023-01-14T03:35:38.653Z"
   },
   {
    "duration": 6,
    "start_time": "2023-01-14T03:35:38.665Z"
   },
   {
    "duration": 12,
    "start_time": "2023-01-14T03:35:38.675Z"
   },
   {
    "duration": 5,
    "start_time": "2023-01-14T03:35:38.716Z"
   },
   {
    "duration": 11,
    "start_time": "2023-01-14T03:35:38.723Z"
   },
   {
    "duration": 7,
    "start_time": "2023-01-14T03:35:38.735Z"
   },
   {
    "duration": 18,
    "start_time": "2023-01-14T03:35:38.743Z"
   },
   {
    "duration": 255,
    "start_time": "2023-01-14T03:35:38.763Z"
   },
   {
    "duration": 5,
    "start_time": "2023-01-14T03:35:39.020Z"
   },
   {
    "duration": 7,
    "start_time": "2023-01-14T03:35:39.026Z"
   },
   {
    "duration": 183,
    "start_time": "2023-01-14T03:35:39.034Z"
   },
   {
    "duration": 4,
    "start_time": "2023-01-14T03:35:39.219Z"
   },
   {
    "duration": 118,
    "start_time": "2023-01-14T03:35:39.224Z"
   },
   {
    "duration": 0,
    "start_time": "2023-01-14T03:35:39.344Z"
   },
   {
    "duration": 10,
    "start_time": "2023-01-14T03:35:47.664Z"
   },
   {
    "duration": 5,
    "start_time": "2023-01-14T04:10:48.127Z"
   },
   {
    "duration": 8,
    "start_time": "2023-01-14T04:10:48.134Z"
   },
   {
    "duration": 5,
    "start_time": "2023-01-14T04:10:48.144Z"
   },
   {
    "duration": 9,
    "start_time": "2023-01-14T04:10:48.150Z"
   },
   {
    "duration": 256,
    "start_time": "2023-01-14T04:10:48.161Z"
   },
   {
    "duration": 135,
    "start_time": "2023-01-14T04:10:48.419Z"
   },
   {
    "duration": 109,
    "start_time": "2023-01-14T04:10:48.555Z"
   },
   {
    "duration": 62,
    "start_time": "2023-01-14T04:10:48.666Z"
   },
   {
    "duration": 30,
    "start_time": "2023-01-14T04:10:48.729Z"
   },
   {
    "duration": 5,
    "start_time": "2023-01-14T04:10:48.760Z"
   },
   {
    "duration": 5,
    "start_time": "2023-01-14T04:10:48.767Z"
   },
   {
    "duration": 8,
    "start_time": "2023-01-14T04:10:48.773Z"
   },
   {
    "duration": 37,
    "start_time": "2023-01-14T04:10:48.782Z"
   },
   {
    "duration": 176,
    "start_time": "2023-01-14T04:10:48.821Z"
   },
   {
    "duration": 19,
    "start_time": "2023-01-14T04:10:48.999Z"
   },
   {
    "duration": 60,
    "start_time": "2023-01-14T04:10:49.020Z"
   },
   {
    "duration": 3,
    "start_time": "2023-01-14T04:10:49.082Z"
   },
   {
    "duration": 212,
    "start_time": "2023-01-14T04:10:49.087Z"
   },
   {
    "duration": 19,
    "start_time": "2023-01-14T04:10:49.301Z"
   },
   {
    "duration": 148,
    "start_time": "2023-01-14T04:10:49.322Z"
   },
   {
    "duration": 18,
    "start_time": "2023-01-14T04:10:49.472Z"
   },
   {
    "duration": 25,
    "start_time": "2023-01-14T04:10:49.491Z"
   },
   {
    "duration": 160,
    "start_time": "2023-01-14T04:10:49.518Z"
   },
   {
    "duration": 13,
    "start_time": "2023-01-14T04:10:49.679Z"
   },
   {
    "duration": 27,
    "start_time": "2023-01-14T04:10:49.694Z"
   },
   {
    "duration": 10,
    "start_time": "2023-01-14T04:10:49.722Z"
   },
   {
    "duration": 7,
    "start_time": "2023-01-14T04:10:49.734Z"
   },
   {
    "duration": 11,
    "start_time": "2023-01-14T04:10:49.745Z"
   },
   {
    "duration": 4,
    "start_time": "2023-01-14T04:10:49.758Z"
   },
   {
    "duration": 5,
    "start_time": "2023-01-14T04:10:49.764Z"
   },
   {
    "duration": 44,
    "start_time": "2023-01-14T04:10:49.771Z"
   },
   {
    "duration": 18,
    "start_time": "2023-01-14T04:10:49.818Z"
   },
   {
    "duration": 209,
    "start_time": "2023-01-14T04:10:49.838Z"
   },
   {
    "duration": 7,
    "start_time": "2023-01-14T04:10:50.049Z"
   },
   {
    "duration": 11,
    "start_time": "2023-01-14T04:10:50.058Z"
   },
   {
    "duration": 202,
    "start_time": "2023-01-14T04:10:50.071Z"
   },
   {
    "duration": 4,
    "start_time": "2023-01-14T04:10:50.275Z"
   },
   {
    "duration": 14,
    "start_time": "2023-01-14T04:10:50.280Z"
   },
   {
    "duration": 20,
    "start_time": "2023-01-14T04:10:50.296Z"
   },
   {
    "duration": 17,
    "start_time": "2023-01-14T04:10:50.318Z"
   },
   {
    "duration": 8,
    "start_time": "2023-01-14T04:10:50.337Z"
   },
   {
    "duration": 34,
    "start_time": "2023-01-14T04:10:50.347Z"
   },
   {
    "duration": 221,
    "start_time": "2023-01-14T04:10:50.383Z"
   },
   {
    "duration": 13,
    "start_time": "2023-01-14T04:10:50.606Z"
   },
   {
    "duration": 2461,
    "start_time": "2023-01-14T04:10:50.620Z"
   },
   {
    "duration": 44,
    "start_time": "2023-01-14T04:10:53.082Z"
   },
   {
    "duration": 246,
    "start_time": "2023-01-14T04:10:53.128Z"
   },
   {
    "duration": 8,
    "start_time": "2023-01-14T04:10:53.376Z"
   },
   {
    "duration": 185,
    "start_time": "2023-01-14T04:10:53.385Z"
   },
   {
    "duration": 10,
    "start_time": "2023-01-14T04:10:53.572Z"
   },
   {
    "duration": 12,
    "start_time": "2023-01-14T04:10:53.584Z"
   },
   {
    "duration": 179,
    "start_time": "2023-01-14T04:10:53.598Z"
   },
   {
    "duration": 4,
    "start_time": "2023-01-14T04:10:53.779Z"
   },
   {
    "duration": 6,
    "start_time": "2023-01-14T04:10:53.785Z"
   },
   {
    "duration": 325,
    "start_time": "2023-01-14T04:10:53.793Z"
   },
   {
    "duration": 7,
    "start_time": "2023-01-14T04:10:54.122Z"
   },
   {
    "duration": 1202,
    "start_time": "2023-01-14T04:10:54.131Z"
   },
   {
    "duration": 5,
    "start_time": "2023-01-14T04:10:55.335Z"
   },
   {
    "duration": 20,
    "start_time": "2023-01-14T04:10:55.341Z"
   },
   {
    "duration": 15,
    "start_time": "2023-01-14T04:10:55.363Z"
   },
   {
    "duration": 70,
    "start_time": "2023-01-14T04:10:55.379Z"
   },
   {
    "duration": 247,
    "start_time": "2023-01-14T04:10:55.451Z"
   },
   {
    "duration": 5,
    "start_time": "2023-01-14T04:10:55.700Z"
   },
   {
    "duration": 286,
    "start_time": "2023-01-14T04:10:55.716Z"
   },
   {
    "duration": 13,
    "start_time": "2023-01-14T04:10:56.004Z"
   },
   {
    "duration": 21,
    "start_time": "2023-01-14T04:10:56.018Z"
   },
   {
    "duration": 5,
    "start_time": "2023-01-14T04:10:56.042Z"
   },
   {
    "duration": 1745,
    "start_time": "2023-01-14T04:10:56.049Z"
   },
   {
    "duration": 5,
    "start_time": "2023-01-14T04:10:57.796Z"
   },
   {
    "duration": 11,
    "start_time": "2023-01-14T04:10:57.816Z"
   },
   {
    "duration": 210,
    "start_time": "2023-01-14T04:10:57.829Z"
   },
   {
    "duration": 8,
    "start_time": "2023-01-14T04:10:58.040Z"
   },
   {
    "duration": 292,
    "start_time": "2023-01-14T04:10:58.050Z"
   },
   {
    "duration": 5,
    "start_time": "2023-01-14T04:10:58.344Z"
   },
   {
    "duration": 14,
    "start_time": "2023-01-14T04:10:58.350Z"
   },
   {
    "duration": 4,
    "start_time": "2023-01-14T04:10:58.366Z"
   },
   {
    "duration": 223,
    "start_time": "2023-01-14T04:10:58.372Z"
   },
   {
    "duration": 4,
    "start_time": "2023-01-14T04:10:58.597Z"
   },
   {
    "duration": 208,
    "start_time": "2023-01-14T04:10:58.619Z"
   },
   {
    "duration": 12,
    "start_time": "2023-01-14T04:10:58.829Z"
   },
   {
    "duration": 24,
    "start_time": "2023-01-14T04:10:58.843Z"
   },
   {
    "duration": 18,
    "start_time": "2023-01-14T04:10:58.868Z"
   },
   {
    "duration": 36,
    "start_time": "2023-01-14T04:10:58.888Z"
   },
   {
    "duration": 3,
    "start_time": "2023-01-14T04:10:58.926Z"
   },
   {
    "duration": 34,
    "start_time": "2023-01-14T04:10:58.931Z"
   },
   {
    "duration": 6,
    "start_time": "2023-01-14T04:10:58.967Z"
   },
   {
    "duration": 10,
    "start_time": "2023-01-14T04:11:08.332Z"
   },
   {
    "duration": 14,
    "start_time": "2023-01-14T04:11:08.895Z"
   },
   {
    "duration": 5,
    "start_time": "2023-01-14T04:11:43.563Z"
   },
   {
    "duration": 5,
    "start_time": "2023-01-14T04:11:52.711Z"
   },
   {
    "duration": 1433,
    "start_time": "2023-01-14T04:12:43.378Z"
   },
   {
    "duration": 4,
    "start_time": "2023-01-14T04:12:44.814Z"
   },
   {
    "duration": 12,
    "start_time": "2023-01-14T04:12:44.820Z"
   },
   {
    "duration": 5,
    "start_time": "2023-01-14T04:12:44.835Z"
   },
   {
    "duration": 231,
    "start_time": "2023-01-14T04:12:44.843Z"
   },
   {
    "duration": 126,
    "start_time": "2023-01-14T04:12:45.076Z"
   },
   {
    "duration": 115,
    "start_time": "2023-01-14T04:12:45.204Z"
   },
   {
    "duration": 78,
    "start_time": "2023-01-14T04:12:45.321Z"
   },
   {
    "duration": 40,
    "start_time": "2023-01-14T04:12:45.415Z"
   },
   {
    "duration": 5,
    "start_time": "2023-01-14T04:12:45.459Z"
   },
   {
    "duration": 13,
    "start_time": "2023-01-14T04:12:45.466Z"
   },
   {
    "duration": 7,
    "start_time": "2023-01-14T04:12:45.481Z"
   },
   {
    "duration": 27,
    "start_time": "2023-01-14T04:12:45.490Z"
   },
   {
    "duration": 201,
    "start_time": "2023-01-14T04:12:45.518Z"
   },
   {
    "duration": 9,
    "start_time": "2023-01-14T04:12:45.721Z"
   },
   {
    "duration": 66,
    "start_time": "2023-01-14T04:12:45.731Z"
   },
   {
    "duration": 17,
    "start_time": "2023-01-14T04:12:45.799Z"
   },
   {
    "duration": 202,
    "start_time": "2023-01-14T04:12:45.818Z"
   },
   {
    "duration": 12,
    "start_time": "2023-01-14T04:12:46.021Z"
   },
   {
    "duration": 168,
    "start_time": "2023-01-14T04:12:46.034Z"
   },
   {
    "duration": 26,
    "start_time": "2023-01-14T04:12:46.203Z"
   },
   {
    "duration": 11,
    "start_time": "2023-01-14T04:12:46.231Z"
   },
   {
    "duration": 223,
    "start_time": "2023-01-14T04:12:46.244Z"
   },
   {
    "duration": 11,
    "start_time": "2023-01-14T04:12:46.470Z"
   },
   {
    "duration": 25,
    "start_time": "2023-01-14T04:12:46.485Z"
   },
   {
    "duration": 11,
    "start_time": "2023-01-14T04:12:46.512Z"
   },
   {
    "duration": 8,
    "start_time": "2023-01-14T04:12:46.524Z"
   },
   {
    "duration": 104,
    "start_time": "2023-01-14T04:12:46.537Z"
   },
   {
    "duration": 12,
    "start_time": "2023-01-14T04:12:46.643Z"
   },
   {
    "duration": 18,
    "start_time": "2023-01-14T04:12:46.656Z"
   },
   {
    "duration": 6,
    "start_time": "2023-01-14T04:12:46.677Z"
   },
   {
    "duration": 33,
    "start_time": "2023-01-14T04:12:46.685Z"
   },
   {
    "duration": 187,
    "start_time": "2023-01-14T04:12:46.721Z"
   },
   {
    "duration": 11,
    "start_time": "2023-01-14T04:12:46.909Z"
   },
   {
    "duration": 5,
    "start_time": "2023-01-14T04:12:46.922Z"
   },
   {
    "duration": 233,
    "start_time": "2023-01-14T04:12:46.928Z"
   },
   {
    "duration": 4,
    "start_time": "2023-01-14T04:12:47.163Z"
   },
   {
    "duration": 11,
    "start_time": "2023-01-14T04:12:47.169Z"
   },
   {
    "duration": 4,
    "start_time": "2023-01-14T04:12:47.182Z"
   },
   {
    "duration": 44,
    "start_time": "2023-01-14T04:12:47.187Z"
   },
   {
    "duration": 9,
    "start_time": "2023-01-14T04:12:47.232Z"
   },
   {
    "duration": 37,
    "start_time": "2023-01-14T04:12:47.242Z"
   },
   {
    "duration": 194,
    "start_time": "2023-01-14T04:12:47.281Z"
   },
   {
    "duration": 8,
    "start_time": "2023-01-14T04:12:47.477Z"
   },
   {
    "duration": 2471,
    "start_time": "2023-01-14T04:12:47.486Z"
   },
   {
    "duration": 31,
    "start_time": "2023-01-14T04:12:49.959Z"
   },
   {
    "duration": 346,
    "start_time": "2023-01-14T04:12:49.992Z"
   },
   {
    "duration": 9,
    "start_time": "2023-01-14T04:12:50.340Z"
   },
   {
    "duration": 197,
    "start_time": "2023-01-14T04:12:50.350Z"
   },
   {
    "duration": 9,
    "start_time": "2023-01-14T04:12:50.548Z"
   },
   {
    "duration": 19,
    "start_time": "2023-01-14T04:12:50.558Z"
   },
   {
    "duration": 169,
    "start_time": "2023-01-14T04:12:50.579Z"
   },
   {
    "duration": 5,
    "start_time": "2023-01-14T04:12:50.749Z"
   },
   {
    "duration": 10,
    "start_time": "2023-01-14T04:12:50.755Z"
   },
   {
    "duration": 275,
    "start_time": "2023-01-14T04:12:50.766Z"
   },
   {
    "duration": 5,
    "start_time": "2023-01-14T04:12:51.042Z"
   },
   {
    "duration": 1090,
    "start_time": "2023-01-14T04:12:51.048Z"
   },
   {
    "duration": 5,
    "start_time": "2023-01-14T04:12:52.141Z"
   },
   {
    "duration": 16,
    "start_time": "2023-01-14T04:12:52.148Z"
   },
   {
    "duration": 12,
    "start_time": "2023-01-14T04:12:52.167Z"
   },
   {
    "duration": 64,
    "start_time": "2023-01-14T04:12:52.181Z"
   },
   {
    "duration": 197,
    "start_time": "2023-01-14T04:12:52.248Z"
   },
   {
    "duration": 3,
    "start_time": "2023-01-14T04:12:52.447Z"
   },
   {
    "duration": 283,
    "start_time": "2023-01-14T04:12:52.452Z"
   },
   {
    "duration": 5,
    "start_time": "2023-01-14T04:12:52.737Z"
   },
   {
    "duration": 18,
    "start_time": "2023-01-14T04:12:52.743Z"
   },
   {
    "duration": 4,
    "start_time": "2023-01-14T04:12:52.763Z"
   },
   {
    "duration": 1797,
    "start_time": "2023-01-14T04:12:52.769Z"
   },
   {
    "duration": 5,
    "start_time": "2023-01-14T04:12:54.568Z"
   },
   {
    "duration": 12,
    "start_time": "2023-01-14T04:12:54.575Z"
   },
   {
    "duration": 211,
    "start_time": "2023-01-14T04:12:54.588Z"
   },
   {
    "duration": 5,
    "start_time": "2023-01-14T04:12:54.800Z"
   },
   {
    "duration": 199,
    "start_time": "2023-01-14T04:12:54.806Z"
   },
   {
    "duration": 11,
    "start_time": "2023-01-14T04:12:55.007Z"
   },
   {
    "duration": 15,
    "start_time": "2023-01-14T04:12:55.020Z"
   },
   {
    "duration": 5,
    "start_time": "2023-01-14T04:12:55.037Z"
   },
   {
    "duration": 225,
    "start_time": "2023-01-14T04:12:55.044Z"
   },
   {
    "duration": 5,
    "start_time": "2023-01-14T04:12:55.271Z"
   },
   {
    "duration": 221,
    "start_time": "2023-01-14T04:12:55.278Z"
   },
   {
    "duration": 19,
    "start_time": "2023-01-14T04:12:55.500Z"
   },
   {
    "duration": 25,
    "start_time": "2023-01-14T04:12:55.521Z"
   },
   {
    "duration": 17,
    "start_time": "2023-01-14T04:12:55.551Z"
   },
   {
    "duration": 13,
    "start_time": "2023-01-14T04:12:55.570Z"
   },
   {
    "duration": 32,
    "start_time": "2023-01-14T04:12:55.584Z"
   },
   {
    "duration": 33,
    "start_time": "2023-01-14T04:12:55.618Z"
   },
   {
    "duration": 8,
    "start_time": "2023-01-14T04:12:55.653Z"
   },
   {
    "duration": 14,
    "start_time": "2023-01-14T04:12:55.663Z"
   },
   {
    "duration": 37,
    "start_time": "2023-01-14T04:12:55.679Z"
   },
   {
    "duration": 9,
    "start_time": "2023-01-14T04:12:55.718Z"
   },
   {
    "duration": 8,
    "start_time": "2023-01-14T04:12:55.729Z"
   },
   {
    "duration": 7,
    "start_time": "2023-01-14T04:12:55.739Z"
   },
   {
    "duration": 22,
    "start_time": "2023-01-14T04:12:55.747Z"
   },
   {
    "duration": 4,
    "start_time": "2023-01-14T04:12:55.771Z"
   },
   {
    "duration": 10,
    "start_time": "2023-01-14T04:12:55.777Z"
   },
   {
    "duration": 37,
    "start_time": "2023-01-14T04:12:55.789Z"
   },
   {
    "duration": 96,
    "start_time": "2023-01-14T04:12:55.828Z"
   },
   {
    "duration": 50,
    "start_time": "2023-01-14T04:12:55.926Z"
   },
   {
    "duration": 5,
    "start_time": "2023-01-14T04:12:55.977Z"
   },
   {
    "duration": 4,
    "start_time": "2023-01-14T04:12:55.984Z"
   },
   {
    "duration": 41,
    "start_time": "2023-01-14T04:12:55.990Z"
   },
   {
    "duration": 143,
    "start_time": "2023-01-14T04:12:56.033Z"
   },
   {
    "duration": 3,
    "start_time": "2023-01-14T04:12:56.178Z"
   },
   {
    "duration": 193047,
    "start_time": "2023-01-14T04:12:56.183Z"
   },
   {
    "duration": 112339,
    "start_time": "2023-01-14T04:16:09.232Z"
   },
   {
    "duration": 772675,
    "start_time": "2023-01-14T04:18:01.573Z"
   },
   {
    "duration": 4,
    "start_time": "2023-01-14T04:30:54.250Z"
   },
   {
    "duration": 326,
    "start_time": "2023-01-14T04:30:54.256Z"
   },
   {
    "duration": 5,
    "start_time": "2023-01-14T04:30:54.584Z"
   },
   {
    "duration": 7,
    "start_time": "2023-01-14T04:30:54.590Z"
   },
   {
    "duration": 19,
    "start_time": "2023-01-14T04:30:54.599Z"
   },
   {
    "duration": 595,
    "start_time": "2023-01-14T04:30:54.620Z"
   },
   {
    "duration": 545,
    "start_time": "2023-01-14T04:30:55.217Z"
   },
   {
    "duration": 151,
    "start_time": "2023-01-14T04:30:55.764Z"
   },
   {
    "duration": 239,
    "start_time": "2023-01-14T04:30:55.917Z"
   },
   {
    "duration": 234,
    "start_time": "2023-01-14T04:30:56.158Z"
   }
  ],
  "kernelspec": {
   "display_name": "Python 3 (ipykernel)",
   "language": "python",
   "name": "python3"
  },
  "language_info": {
   "codemirror_mode": {
    "name": "ipython",
    "version": 3
   },
   "file_extension": ".py",
   "mimetype": "text/x-python",
   "name": "python",
   "nbconvert_exporter": "python",
   "pygments_lexer": "ipython3",
   "version": "3.9.5"
  },
  "toc": {
   "base_numbering": 1,
   "nav_menu": {},
   "number_sections": true,
   "sideBar": true,
   "skip_h1_title": true,
   "title_cell": "Table of Contents",
   "title_sidebar": "Contents",
   "toc_cell": false,
   "toc_position": {
    "height": "calc(100% - 180px)",
    "left": "10px",
    "top": "150px",
    "width": "466.969px"
   },
   "toc_section_display": true,
   "toc_window_display": true
  }
 },
 "nbformat": 4,
 "nbformat_minor": 2
}
